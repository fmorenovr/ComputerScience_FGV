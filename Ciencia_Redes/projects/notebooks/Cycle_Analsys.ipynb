{
 "cells": [
  {
   "cell_type": "code",
   "execution_count": null,
   "id": "affa7624",
   "metadata": {},
   "outputs": [],
   "source": [
    "import pandas as pd\n",
    "import numpy as np\n",
    "import networkx as nx\n",
    "from pathlib import Path\n",
    "import itertools\n",
    "import matplotlib.pyplot as plt"
   ]
  },
  {
   "cell_type": "code",
   "execution_count": null,
   "id": "83f0a363",
   "metadata": {},
   "outputs": [],
   "source": [
    "here_path = Path().resolve()\n",
    "repo_path = here_path.parents[0]\n",
    "#sys.path.append(str(repo_path))"
   ]
  },
  {
   "cell_type": "code",
   "execution_count": null,
   "id": "212454e6",
   "metadata": {},
   "outputs": [],
   "source": [
    "here_path, repo_path"
   ]
  },
  {
   "cell_type": "code",
   "execution_count": null,
   "id": "ec77a2b2",
   "metadata": {},
   "outputs": [],
   "source": [
    "YEARS=[\"_2017\", \"_2018\", \"_2019\", \"_2020\"]#, \"\"]"
   ]
  },
  {
   "cell_type": "code",
   "execution_count": null,
   "id": "fae15fd6",
   "metadata": {},
   "outputs": [],
   "source": [
    "DATA_PATH = repo_path / \"outputs/samples/\""
   ]
  },
  {
   "cell_type": "markdown",
   "id": "24dfc9b3",
   "metadata": {},
   "source": [
    "### Simple ID"
   ]
  },
  {
   "cell_type": "code",
   "execution_count": null,
   "id": "688727f8",
   "metadata": {},
   "outputs": [],
   "source": [
    "for year in YEARS:\n",
    "    data = pd.read_csv(f\"{DATA_PATH}/years{year}.csv\", sep=\",\", low_memory=False)\n",
    "    \n",
    "    from_ = \"OrigemID\"\n",
    "    to_ = \"DestinoID\"\n",
    "    weight_ = \"Volume\"\n",
    "    \n",
    "    data_G = pd.pivot_table(data[[from_, to_, weight_]], \n",
    "                          index=[from_, to_],\n",
    "                          values=[weight_],\n",
    "                          aggfunc={\n",
    "                                     weight_:sum\n",
    "                                 }\n",
    "                          ).reset_index()\n",
    "    \n",
    "    print(\"Year\", year)\n",
    "    \n",
    "    self_cycles_len = len(data[(data[from_]==data[to_])])\n",
    "    \n",
    "    data_ = data_G[~(data_G[from_] == data_G[to_])].copy()\n",
    "    \n",
    "    from_nodes = data_[from_].unique() \n",
    "    to_nodes = data_[to_].unique()\n",
    "    \n",
    "    print(\"Total nodes simple id\", len(set(itertools.chain(*[from_nodes, to_nodes]))))\n",
    "    print(\"Total links simple id\", len(data_))\n",
    "    print(\"Self-cycles simple id\", self_cycles_len)"
   ]
  },
  {
   "cell_type": "markdown",
   "id": "a2dcbd7e",
   "metadata": {},
   "source": [
    "### Self-Cycles"
   ]
  },
  {
   "cell_type": "code",
   "execution_count": null,
   "id": "90e20c78",
   "metadata": {},
   "outputs": [],
   "source": []
  },
  {
   "cell_type": "markdown",
   "id": "01ad9ba9",
   "metadata": {},
   "source": [
    "### MANEJOS"
   ]
  },
  {
   "cell_type": "code",
   "execution_count": null,
   "id": "7ce17aea",
   "metadata": {},
   "outputs": [],
   "source": [
    "manejos_max = []"
   ]
  },
  {
   "cell_type": "code",
   "execution_count": null,
   "id": "f466a18e",
   "metadata": {},
   "outputs": [],
   "source": [
    "for year in YEARS:\n",
    "    data = pd.read_csv(f\"{DATA_PATH}/years{year}.csv\", sep=\",\", low_memory=False)\n",
    "    \n",
    "    from_ = \"OrigemID\"\n",
    "    to_ = \"DestinoID\"\n",
    "    weight_ = \"Volume\"\n",
    "    \n",
    "    data_G = pd.pivot_table(data[[from_, to_, weight_]], \n",
    "                          index=[from_, to_],\n",
    "                          values=[weight_],\n",
    "                          aggfunc={\n",
    "                                     weight_:sum\n",
    "                                 }\n",
    "                          ).reset_index()\n",
    "    \n",
    "    print(\"Year\", year)\n",
    "    \n",
    "    data_ = data_G[~(data_G[from_] == data_G[to_])].copy()\n",
    "    manejos_df = data_[data_[from_].str.lower().str.contains(\"manejo\")]\n",
    "    \n",
    "    print(\"MANEJOS\")\n",
    "    G_manejo = nx.DiGraph()\n",
    "    \n",
    "    for index, row in data_[data_[from_].isin(manejos_df[from_].values)].iterrows():\n",
    "        G_manejo.add_edge(row[from_], row[to_], weight=row[weight_])\n",
    "    \n",
    "    out_degrees = np.array([node[1] for node in G_manejo.out_degree])\n",
    "    \n",
    "    plt.figure()\n",
    "    plt.hist(out_degrees)\n",
    "    plt.xlabel(\"Number of Nodes\", fontsize=14)\n",
    "    plt.ylabel(\"Degree\", fontsize=14)\n",
    "    plt.show()\n",
    "\n",
    "    print(\"MANEJOS by Transactions\")\n",
    "    G_transaction = nx.DiGraph()\n",
    "    transactions_df = pd.pivot_table(manejos_df, index=[from_], values=[to_], aggfunc={to_:len}).reset_index()\n",
    "    max_by_transactions = transactions_df[transactions_df[to_] == transactions_df[to_].max()][from_].values[0]\n",
    "    \n",
    "    study_case = manejos_df[manejos_df[from_] == max_by_transactions]\n",
    "    \n",
    "    print(max_by_transactions, len(study_case), study_case[weight_].sum())\n",
    "    \n",
    "    for index, row in data_[data_[from_]==max_by_transactions].iterrows():\n",
    "        G_transaction.add_edge(row[from_], row[to_], weight=row[weight_])\n",
    "    \n",
    "    plt.figure()\n",
    "    plt.title(f\"{year} - {max_by_transactions} - {len(study_case)} - {study_case[weight_].sum()}\")\n",
    "    nx.draw(G_transaction, node_size=150, node_color=['green' if node==max_by_transactions else 'blue'  for node in G_transaction.nodes ])\n",
    "    plt.show()\n",
    "    \n",
    "    print(\"MANEJOS by Volume\")\n",
    "    G_weight = nx.DiGraph()\n",
    "    weights_df = pd.pivot_table(manejos_df, index=[from_], values=[weight_], aggfunc={weight_:sum}).reset_index()\n",
    "    max_by_weight = weights_df[weights_df[weight_] == weights_df[weight_].max()][from_].values[0]\n",
    "    \n",
    "    study_case = manejos_df[manejos_df[from_] == max_by_weight]\n",
    "    \n",
    "    print(max_by_weight, len(study_case), study_case[weight_].sum())\n",
    "    \n",
    "    for index, row in data_[data_[from_]==max_by_weight].iterrows():\n",
    "        G_weight.add_edge(row[from_], row[to_], weight=row[weight_])\n",
    "    \n",
    "    plt.figure()\n",
    "    plt.title(f\"{year} - {max_by_weight} - {len(study_case)} - {study_case[weight_].sum()}\")\n",
    "    nx.draw(G_weight, node_size=150, node_color=['green' if node==max_by_weight else 'blue'  for node in G_weight.nodes ])\n",
    "    plt.show()\n",
    "    \n",
    "    manejos_max.append(max_by_transactions)"
   ]
  },
  {
   "cell_type": "markdown",
   "id": "a9005a43",
   "metadata": {},
   "source": [
    "### Maximos MANEJOS"
   ]
  },
  {
   "cell_type": "code",
   "execution_count": null,
   "id": "b9fc7519",
   "metadata": {
    "scrolled": true
   },
   "outputs": [],
   "source": [
    "for year in YEARS:\n",
    "    data = pd.read_csv(f\"{DATA_PATH}/years{year}.csv\", sep=\",\", low_memory=False)\n",
    "    \n",
    "    from_ = \"OrigemID\"\n",
    "    to_ = \"DestinoID\"\n",
    "    weight_ = \"Volume\"\n",
    "    \n",
    "    data_G = pd.pivot_table(data[[from_, to_, weight_]], \n",
    "                          index=[from_, to_],\n",
    "                          values=[weight_],\n",
    "                          aggfunc={\n",
    "                                     weight_:sum\n",
    "                                 }\n",
    "                          ).reset_index()\n",
    "    \n",
    "    print(\"Year\", year)\n",
    "    \n",
    "    data_ = data_G[~(data_G[from_] == data_G[to_])].copy()\n",
    "    \n",
    "    for man_id in manejos_max:\n",
    "        G_manejo = nx.DiGraph()\n",
    "    \n",
    "        for index, row in data_[data_[from_].isin([man_id])].iterrows():\n",
    "            G_manejo.add_edge(row[from_], row[to_], weight=row[weight_])\n",
    "        \n",
    "        plt.figure()\n",
    "        plt.title(f\"{man_id}-{year}\")\n",
    "        nx.draw(G_manejo, node_size=150, node_color=['green' if node==man_id else 'blue'  for node in G_manejo.nodes ])\n",
    "        plt.show()\n",
    "        "
   ]
  },
  {
   "cell_type": "markdown",
   "id": "d7994aea",
   "metadata": {},
   "source": [
    "### FINAL"
   ]
  },
  {
   "cell_type": "code",
   "execution_count": null,
   "id": "09a825d9",
   "metadata": {},
   "outputs": [],
   "source": [
    "final_max = []"
   ]
  },
  {
   "cell_type": "code",
   "execution_count": null,
   "id": "7ddceb56",
   "metadata": {},
   "outputs": [],
   "source": [
    "for year in YEARS:\n",
    "    data = pd.read_csv(f\"{DATA_PATH}/years{year}.csv\", sep=\",\", low_memory=False)\n",
    "    \n",
    "    from_ = \"OrigemID\"\n",
    "    to_ = \"DestinoID\"\n",
    "    weight_ = \"Volume\"\n",
    "    \n",
    "    data_G = pd.pivot_table(data[[from_, to_, weight_]], \n",
    "                          index=[from_, to_],\n",
    "                          values=[weight_],\n",
    "                          aggfunc={\n",
    "                                     weight_:sum\n",
    "                                 }\n",
    "                          ).reset_index()\n",
    "    \n",
    "    print(\"Year\", year)\n",
    "    \n",
    "    data_ = data_G[~(data_G[from_] == data_G[to_])].copy()\n",
    "    final_df = data_[data_[to_].str.lower().str.contains(\"final\")]\n",
    "    \n",
    "    print(\"FINAL\")\n",
    "    G_final = nx.DiGraph()\n",
    "    \n",
    "    for index, row in data_[data_[to_].isin(final_df[to_].values)].iterrows():\n",
    "        G_final.add_edge(row[from_], row[to_], weight=row[weight_])\n",
    "    \n",
    "    in_degrees = np.array([node[1] for node in G_final.in_degree])\n",
    "    \n",
    "    plt.figure()\n",
    "    plt.hist(in_degrees)\n",
    "    plt.xlabel(\"Number of Nodes\", fontsize=14)\n",
    "    plt.ylabel(\"Degree\", fontsize=14)\n",
    "    plt.show()\n",
    "\n",
    "    print(\"FINAL by Transactions\")\n",
    "    G_transaction = nx.DiGraph()\n",
    "    transactions_df = pd.pivot_table(final_df, index=[to_], values=[from_], aggfunc={from_:len}).reset_index()\n",
    "    max_by_transactions = transactions_df[transactions_df[from_] == transactions_df[from_].max()][to_].values[0]\n",
    "    \n",
    "    study_case = final_df[final_df[to_] == max_by_transactions]\n",
    "    \n",
    "    print(max_by_transactions, len(study_case), study_case[weight_].sum())\n",
    "    \n",
    "    for index, row in data_[data_[to_]==max_by_transactions].iterrows():\n",
    "        G_transaction.add_edge(row[from_], row[to_], weight=row[weight_])\n",
    "    \n",
    "    plt.figure()\n",
    "    plt.title(f\"{year} - {max_by_transactions} - {len(study_case)} - {study_case[weight_].sum()}\")\n",
    "    nx.draw(G_transaction, node_size=150, node_color=['orange' if node==max_by_transactions else 'blue'  for node in G_transaction.nodes ])\n",
    "    plt.show()\n",
    "    \n",
    "    print(\"FINAL by Volume\")\n",
    "    G_weight = nx.DiGraph()\n",
    "    weights_df = pd.pivot_table(final_df, index=[to_], values=[weight_], aggfunc={weight_:sum}).reset_index()\n",
    "    max_by_weight = weights_df[weights_df[weight_] == weights_df[weight_].max()][to_].values[0]\n",
    "    \n",
    "    study_case = final_df[final_df[to_] == max_by_weight]\n",
    "    \n",
    "    print()\n",
    "    \n",
    "    for index, row in data_[data_[to_]==max_by_weight].iterrows():\n",
    "        G_weight.add_edge(row[from_], row[to_], weight=row[weight_])\n",
    "    \n",
    "    plt.figure()\n",
    "    plt.title(f\"{year} - {max_by_weight} - {len(study_case)} - {study_case[weight_].sum()}\")\n",
    "    nx.draw(G_weight, node_size=150, node_color=['orange' if node==max_by_weight else 'blue'  for node in G_weight.nodes ])\n",
    "    \n",
    "    plt.show()\n",
    "    \n",
    "    final_max.append(max_by_transactions)"
   ]
  },
  {
   "cell_type": "markdown",
   "id": "430571d3",
   "metadata": {},
   "source": [
    "### Maximos Final"
   ]
  },
  {
   "cell_type": "code",
   "execution_count": null,
   "id": "f3543599",
   "metadata": {},
   "outputs": [],
   "source": [
    "for year in YEARS:\n",
    "    data = pd.read_csv(f\"{DATA_PATH}/years{year}.csv\", sep=\",\", low_memory=False)\n",
    "    \n",
    "    from_ = \"OrigemID\"\n",
    "    to_ = \"DestinoID\"\n",
    "    weight_ = \"Volume\"\n",
    "    \n",
    "    data_G = pd.pivot_table(data[[from_, to_, weight_]], \n",
    "                          index=[from_, to_],\n",
    "                          values=[weight_],\n",
    "                          aggfunc={\n",
    "                                     weight_:sum\n",
    "                                 }\n",
    "                          ).reset_index()\n",
    "    \n",
    "    print(\"Year\", year)\n",
    "    \n",
    "    data_ = data_G[~(data_G[from_] == data_G[to_])].copy()\n",
    "    \n",
    "    for final_id in final_max:\n",
    "        G_final = nx.DiGraph()\n",
    "    \n",
    "        for index, row in data_[data_[to_].isin([final_id])].iterrows():\n",
    "            G_final.add_edge(row[from_], row[to_], weight=row[weight_])\n",
    "        \n",
    "        plt.figure()\n",
    "        plt.title(f\"{final_id}-{year}\")\n",
    "        nx.draw(G_final, node_size=150, node_color=['orange' if node==final_id else 'blue' for node in G_final.nodes ])\n",
    "        plt.show()\n",
    "        "
   ]
  },
  {
   "cell_type": "markdown",
   "id": "4d0f6870",
   "metadata": {},
   "source": [
    "### Composed ID"
   ]
  },
  {
   "cell_type": "code",
   "execution_count": null,
   "id": "c58fccfc",
   "metadata": {},
   "outputs": [],
   "source": [
    "for year in YEARS:\n",
    "    data = pd.read_csv(f\"{DATA_PATH}/years{year}.csv\", sep=\",\", low_memory=False)\n",
    "    \n",
    "    data[\"OrigID\"] = data[\"OrigemID\"].map(str) \\\n",
    "                    + \"|\" + data[\"MunOrigem\"].map(str) \\\n",
    "                    + \"|\" + data[\"LatOrigem\"].map(str) \\\n",
    "                    + \"|\" + data[\"LongOrigem\"].map(str) \\\n",
    "                    + \"|\" + data[\"NomeOrigem\"].map(str) \n",
    "    data[\"DestID\"] = data[\"DestinoID\"].map(str) \\\n",
    "            + \"|\" + data[\"MunDestino\"].map(str) \\\n",
    "            + \"|\" + data[\"LatDestino\"].map(str) \\\n",
    "            + \"|\" + data[\"LongDestino\"].map(str) \\\n",
    "            + \"|\" + data[\"NomeDestino\"].map(str) \n",
    "    from_ = \"OrigID\" \n",
    "    to_ = \"DestID\" \n",
    "    weight_ = \"Volume\"\n",
    "    \n",
    "    data_G = pd.pivot_table(data[[from_, to_, weight_]], \n",
    "                          index=[from_, to_],\n",
    "                          values=[weight_],\n",
    "                          aggfunc={\n",
    "                                     weight_:sum\n",
    "                                 }\n",
    "                          ).reset_index()\n",
    "    \n",
    "    print(\"Year\", year)\n",
    "    \n",
    "    self_cycles_len = len(data[(data[from_]==data[to_])])\n",
    "    \n",
    "    data_ = data_G[~(data_G[from_] == data_G[to_])].copy()\n",
    "    \n",
    "    from_nodes = data_[from_].unique() \n",
    "    to_nodes = data_[to_].unique()\n",
    "    \n",
    "    print(\"Total nodes simple id\", len(set(itertools.chain(*[from_nodes, to_nodes]))))\n",
    "    print(\"Total links simple id\", len(data_))\n",
    "    print(\"Self-cycles simple id\", self_cycles_len)"
   ]
  }
 ],
 "metadata": {
  "kernelspec": {
   "display_name": "Python 3 (ipykernel)",
   "language": "python",
   "name": "python3"
  },
  "language_info": {
   "codemirror_mode": {
    "name": "ipython",
    "version": 3
   },
   "file_extension": ".py",
   "mimetype": "text/x-python",
   "name": "python",
   "nbconvert_exporter": "python",
   "pygments_lexer": "ipython3",
   "version": "3.9.7"
  }
 },
 "nbformat": 4,
 "nbformat_minor": 5
}
