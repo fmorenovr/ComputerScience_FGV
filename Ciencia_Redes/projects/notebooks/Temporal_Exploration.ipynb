{
 "cells": [
  {
   "cell_type": "code",
   "execution_count": 1,
   "id": "9e7abd17-9201-493f-9416-cf0c4bc9504b",
   "metadata": {},
   "outputs": [],
   "source": [
    "import os \n",
    "import numpy as np \n",
    "import networkx as nx \n",
    "import pandas as pd "
   ]
  },
  {
   "cell_type": "markdown",
   "id": "8a080630-8866-4c6c-b5b4-20fc9e2f1d6a",
   "metadata": {},
   "source": [
    "## Capture the unique nodes for each network"
   ]
  },
  {
   "cell_type": "code",
   "execution_count": 2,
   "id": "56c67312-2063-4dae-889f-bbabae525982",
   "metadata": {},
   "outputs": [],
   "source": [
    "data_dir = os.path.join('..', 'samples') "
   ]
  },
  {
   "cell_type": "code",
   "execution_count": 12,
   "id": "c31b1398-82f7-4d99-94a9-8d2d12631300",
   "metadata": {},
   "outputs": [],
   "source": [
    "data18 = pd.read_csv(f'{data_dir}/years_2018.csv') \n",
    "data19 = pd.read_csv(f'{data_dir}/years_2019.csv') "
   ]
  },
  {
   "cell_type": "code",
   "execution_count": 10,
   "id": "d76ada36-8cf4-4083-98b2-0005465b9b52",
   "metadata": {},
   "outputs": [],
   "source": [
    "def nodes(data: pd.DataFrame): \n",
    "    '''\n",
    "    Compute the unique nodes. \n",
    "    '''\n",
    "    nodes = data['OrigemID'].unique().tolist() + \\\n",
    "            data['DestinoID'].unique().tolist() \n",
    "    return set(nodes)"
   ]
  },
  {
   "cell_type": "markdown",
   "id": "20cc8a51-368c-47d4-bf4c-57e0e44e1184",
   "metadata": {},
   "source": [
    "## Check the intersection between the networks' nodes"
   ]
  },
  {
   "cell_type": "code",
   "execution_count": 11,
   "id": "e3744ae1-8bbf-47b5-a5c1-e6a8e6384c31",
   "metadata": {},
   "outputs": [
    {
     "data": {
      "text/plain": [
       "(4194, 8421, 7736)"
      ]
     },
     "execution_count": 11,
     "metadata": {},
     "output_type": "execute_result"
    }
   ],
   "source": [
    "nodes18 = nodes(data18) \n",
    "nodes19 = nodes(data19) \n",
    "len(nodes18.intersection(nodes19)), len(nodes19), len(nodes18)  "
   ]
  }
 ],
 "metadata": {
  "kernelspec": {
   "display_name": "Python 3",
   "language": "python",
   "name": "python3"
  },
  "language_info": {
   "codemirror_mode": {
    "name": "ipython",
    "version": 3
   },
   "file_extension": ".py",
   "mimetype": "text/x-python",
   "name": "python",
   "nbconvert_exporter": "python",
   "pygments_lexer": "ipython3",
   "version": "3.8.8"
  }
 },
 "nbformat": 4,
 "nbformat_minor": 5
}
