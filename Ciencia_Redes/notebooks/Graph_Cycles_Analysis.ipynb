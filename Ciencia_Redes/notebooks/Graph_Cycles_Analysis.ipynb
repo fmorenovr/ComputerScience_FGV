{
 "cells": [
  {
   "cell_type": "code",
   "execution_count": 1,
   "id": "aee37503",
   "metadata": {},
   "outputs": [],
   "source": [
    "import networkx as nx\n",
    "import pandas as pd\n",
    "import numpy as np\n",
    "from pathlib import Path\n",
    "import matplotlib.pyplot as plt"
   ]
  },
  {
   "cell_type": "code",
   "execution_count": 2,
   "id": "45fa134a",
   "metadata": {},
   "outputs": [],
   "source": [
    "here_path = Path().resolve()\n",
    "repo_path = here_path.parents[0]\n",
    "#sys.path.append(str(repo_path))"
   ]
  },
  {
   "cell_type": "code",
   "execution_count": 3,
   "id": "017204b7",
   "metadata": {},
   "outputs": [
    {
     "data": {
      "text/plain": [
       "(PosixPath('/media/fmorenovr/87ae90e0-7049-439e-854e-b9268b9619f3/github/FGV/NetworkScience/notebooks'),\n",
       " PosixPath('/media/fmorenovr/87ae90e0-7049-439e-854e-b9268b9619f3/github/FGV/NetworkScience'))"
      ]
     },
     "execution_count": 3,
     "metadata": {},
     "output_type": "execute_result"
    }
   ],
   "source": [
    "here_path, repo_path"
   ]
  },
  {
   "cell_type": "code",
   "execution_count": 4,
   "id": "efa5affd",
   "metadata": {},
   "outputs": [],
   "source": [
    "YEARS=[\"\", \"_2017\", \"_2018\", \"_2019\", \"_2020\"]"
   ]
  },
  {
   "cell_type": "code",
   "execution_count": 5,
   "id": "de03f949",
   "metadata": {},
   "outputs": [],
   "source": [
    "DATA_PATH = repo_path / \"outputs/graphs/\""
   ]
  },
  {
   "cell_type": "code",
   "execution_count": 6,
   "id": "25475bf9",
   "metadata": {
    "scrolled": true
   },
   "outputs": [],
   "source": [
    "# for year in YEARS[1:]:\n",
    "#     G = nx.read_graphml(f\"{DATA_PATH}/wood_years{year}/wood.graphml\") \n",
    "#     print(nx.recursive_simple_cycles(G))\n"
   ]
  },
  {
   "cell_type": "markdown",
   "id": "27f50e40",
   "metadata": {},
   "source": [
    "#### 2017"
   ]
  },
  {
   "cell_type": "code",
   "execution_count": 7,
   "id": "c669b7e0",
   "metadata": {},
   "outputs": [
    {
     "data": {
      "text/plain": [
       "(7730, 25026)"
      ]
     },
     "execution_count": 7,
     "metadata": {},
     "output_type": "execute_result"
    }
   ],
   "source": [
    "G_2017 = nx.read_graphml(f\"{DATA_PATH}/wood_years_2017/wood.graphml\") \n",
    "G_2017.number_of_nodes() , G_2017.number_of_edges()"
   ]
  },
  {
   "cell_type": "code",
   "execution_count": 8,
   "id": "70c4824c",
   "metadata": {},
   "outputs": [],
   "source": [
    "# list_cycles_2017 = nx.recursive_simple_cycles(G_2017)"
   ]
  },
  {
   "cell_type": "code",
   "execution_count": 9,
   "id": "fd1b8933",
   "metadata": {},
   "outputs": [],
   "source": [
    "G_cycles_2017 = {\n",
    "}\n",
    "\n",
    "for node in G_2017.nodes:\n",
    "    try:\n",
    "        current_cycle = nx.find_cycle(G_2017, source=node, orientation=\"original\")\n",
    "        \n",
    "        G_cycles_2017[node] = {\"cycle\":[], \"len\":[]}\n",
    "        G_cycles_2017[node][\"cycle\"].append(current_cycle)\n",
    "        G_cycles_2017[node][\"len\"].append(len(current_cycle))\n",
    "    except:\n",
    "        continue"
   ]
  },
  {
   "cell_type": "code",
   "execution_count": 10,
   "id": "aa7fe8b5",
   "metadata": {},
   "outputs": [
    {
     "data": {
      "text/plain": [
       "1269"
      ]
     },
     "execution_count": 10,
     "metadata": {},
     "output_type": "execute_result"
    }
   ],
   "source": [
    "total_cycles = len(G_cycles_2017)\n",
    "total_cycles"
   ]
  },
  {
   "cell_type": "code",
   "execution_count": 11,
   "id": "bd992cf5",
   "metadata": {},
   "outputs": [
    {
     "data": {
      "text/plain": [
       "{'cycle': [[('PTO-75059857000690', 'PTO-37526530000188', 'forward'),\n",
       "   ('PTO-37526530000188', 'PTO-75059857000186', 'forward'),\n",
       "   ('PTO-75059857000186', 'PTO-75059857000690', 'forward')]],\n",
       " 'len': [3]}"
      ]
     },
     "execution_count": 11,
     "metadata": {},
     "output_type": "execute_result"
    }
   ],
   "source": [
    "max_cycles = {dict_: G_cycles_2017[dict_][\"len\"][0] for dict_ in G_cycles_2017}\n",
    "max_cycle_2017 = max(max_cycles, key=max_cycles.get)\n",
    "G_cycles_2017[max_cycle_2017]"
   ]
  },
  {
   "cell_type": "code",
   "execution_count": 34,
   "id": "07f9f769",
   "metadata": {},
   "outputs": [
    {
     "name": "stdout",
     "output_type": "stream",
     "text": [
      "{'2': 1233, '3': 36}\n"
     ]
    },
    {
     "data": {
      "image/png": "[encoded data removed]",
      "text/plain": [
       "<Figure size 432x288 with 1 Axes>"
      ]
     },
     "metadata": {
      "needs_background": "light"
     },
     "output_type": "display_data"
    }
   ],
   "source": [
    "cycle_len = [G_cycles_2017[dict_][\"len\"][0] for dict_ in G_cycles_2017]\n",
    "dict_= {str(cycle):0 for cycle in set(cycle_len)}\n",
    "\n",
    "for cyc in cycle_len:\n",
    "    dict_[str(cyc)] = dict_[str(cyc)]+1\n",
    "\n",
    "print(dict_)\n",
    "    \n",
    "plt.figure()\n",
    "plt.bar(dict_.keys(), dict_.values())\n",
    "plt.xlabel(\"Length of cycles\", fontsize=14)\n",
    "plt.ylabel(\"Number of cycles\", fontsize=14)\n",
    "plt.show()"
   ]
  },
  {
   "cell_type": "markdown",
   "id": "1b570f30",
   "metadata": {},
   "source": [
    "#### 2018"
   ]
  },
  {
   "cell_type": "code",
   "execution_count": 13,
   "id": "bb1ce9e8",
   "metadata": {},
   "outputs": [
    {
     "data": {
      "text/plain": [
       "(7919, 25124)"
      ]
     },
     "execution_count": 13,
     "metadata": {},
     "output_type": "execute_result"
    }
   ],
   "source": [
    "G_2018 = nx.read_graphml(f\"{DATA_PATH}/wood_years_2018/wood.graphml\") \n",
    "G_2018.number_of_nodes() , G_2018.number_of_edges()"
   ]
  },
  {
   "cell_type": "code",
   "execution_count": 14,
   "id": "5b261f8f",
   "metadata": {},
   "outputs": [],
   "source": [
    "# list_cycles_2018 = nx.recursive_simple_cycles(G_2018)"
   ]
  },
  {
   "cell_type": "code",
   "execution_count": 15,
   "id": "93ef44bb",
   "metadata": {},
   "outputs": [],
   "source": [
    "G_cycles_2018 = {\n",
    "}\n",
    "\n",
    "for node in G_2018.nodes:\n",
    "    try:\n",
    "        current_cycle = nx.find_cycle(G_2018, source=node, orientation=\"original\")\n",
    "        \n",
    "        G_cycles_2018[node] = {\"cycle\":[], \"len\":[]}\n",
    "        G_cycles_2018[node][\"cycle\"].append(current_cycle)\n",
    "        G_cycles_2018[node][\"len\"].append(len(current_cycle))\n",
    "    except:\n",
    "        continue"
   ]
  },
  {
   "cell_type": "code",
   "execution_count": 16,
   "id": "b000edce",
   "metadata": {},
   "outputs": [
    {
     "data": {
      "text/plain": [
       "1224"
      ]
     },
     "execution_count": 16,
     "metadata": {},
     "output_type": "execute_result"
    }
   ],
   "source": [
    "total_cycles = len(G_cycles_2018)\n",
    "total_cycles"
   ]
  },
  {
   "cell_type": "code",
   "execution_count": 17,
   "id": "7095f640",
   "metadata": {},
   "outputs": [
    {
     "data": {
      "text/plain": [
       "{'cycle': [[('PTO-08680976000164', 'PTO-02093134000120', 'forward'),\n",
       "   ('PTO-02093134000120', 'PTO-01892654000130', 'forward'),\n",
       "   ('PTO-01892654000130', 'PTO-08004403000110', 'forward'),\n",
       "   ('PTO-08004403000110', 'PTO-08680976000164', 'forward')]],\n",
       " 'len': [4]}"
      ]
     },
     "execution_count": 17,
     "metadata": {},
     "output_type": "execute_result"
    }
   ],
   "source": [
    "max_cycles = {dict_: G_cycles_2018[dict_][\"len\"][0] for dict_ in G_cycles_2018}\n",
    "max_cycle_2018 = max(max_cycles, key=max_cycles.get)\n",
    "G_cycles_2018[max_cycle_2018]"
   ]
  },
  {
   "cell_type": "code",
   "execution_count": 33,
   "id": "d4cd6366",
   "metadata": {},
   "outputs": [
    {
     "name": "stdout",
     "output_type": "stream",
     "text": [
      "{'2': 1195, '3': 12, '4': 17}\n"
     ]
    },
    {
     "data": {
      "image/png": "[encoded data removed]",
      "text/plain": [
       "<Figure size 432x288 with 1 Axes>"
      ]
     },
     "metadata": {
      "needs_background": "light"
     },
     "output_type": "display_data"
    }
   ],
   "source": [
    "cycle_len = [G_cycles_2018[dict_][\"len\"][0] for dict_ in G_cycles_2018]\n",
    "dict_= {str(cycle):0 for cycle in set(cycle_len)}\n",
    "\n",
    "for cyc in cycle_len:\n",
    "    dict_[str(cyc)] = dict_[str(cyc)]+1\n",
    "\n",
    "print(dict_)\n",
    "    \n",
    "plt.figure()\n",
    "plt.bar(dict_.keys(), dict_.values())\n",
    "plt.xlabel(\"Length of cycles\", fontsize=14)\n",
    "plt.ylabel(\"Number of cycles\", fontsize=14)\n",
    "plt.show()"
   ]
  },
  {
   "cell_type": "markdown",
   "id": "3b18c830",
   "metadata": {},
   "source": [
    "#### 2019"
   ]
  },
  {
   "cell_type": "code",
   "execution_count": 19,
   "id": "2e33d8a2",
   "metadata": {},
   "outputs": [
    {
     "data": {
      "text/plain": [
       "(8188, 26003)"
      ]
     },
     "execution_count": 19,
     "metadata": {},
     "output_type": "execute_result"
    }
   ],
   "source": [
    "G_2019 = nx.read_graphml(f\"{DATA_PATH}/wood_years_2019/wood.graphml\") \n",
    "G_2019.number_of_nodes() , G_2019.number_of_edges()"
   ]
  },
  {
   "cell_type": "code",
   "execution_count": 20,
   "id": "dd89313f",
   "metadata": {},
   "outputs": [],
   "source": [
    "# list_cycles_2019 = nx.recursive_simple_cycles(G_2019)"
   ]
  },
  {
   "cell_type": "code",
   "execution_count": 21,
   "id": "94f00a10",
   "metadata": {},
   "outputs": [],
   "source": [
    "G_cycles_2019 = {\n",
    "}\n",
    "\n",
    "for node in G_2019.nodes:\n",
    "    try:\n",
    "        current_cycle = nx.find_cycle(G_2019, source=node, orientation=\"original\")\n",
    "        \n",
    "        G_cycles_2019[node] = {\"cycle\":[], \"len\":[]}\n",
    "        G_cycles_2019[node][\"cycle\"].append(current_cycle)\n",
    "        G_cycles_2019[node][\"len\"].append(len(current_cycle))\n",
    "    except:\n",
    "        continue"
   ]
  },
  {
   "cell_type": "code",
   "execution_count": 22,
   "id": "c65877ac",
   "metadata": {},
   "outputs": [
    {
     "data": {
      "text/plain": [
       "1248"
      ]
     },
     "execution_count": 22,
     "metadata": {},
     "output_type": "execute_result"
    }
   ],
   "source": [
    "total_cycles = len(G_cycles_2019)\n",
    "total_cycles"
   ]
  },
  {
   "cell_type": "code",
   "execution_count": 23,
   "id": "f5c32a2e",
   "metadata": {},
   "outputs": [
    {
     "data": {
      "text/plain": [
       "{'cycle': [[('PTO-28300243000164', 'PTO-21604695000190', 'forward'),\n",
       "   ('PTO-21604695000190', 'PTO-22447888000148', 'forward'),\n",
       "   ('PTO-22447888000148', 'PTO-26544107000194', 'forward'),\n",
       "   ('PTO-26544107000194', 'PTO-28300243000164', 'forward')]],\n",
       " 'len': [4]}"
      ]
     },
     "execution_count": 23,
     "metadata": {},
     "output_type": "execute_result"
    }
   ],
   "source": [
    "max_cycles = {dict_: G_cycles_2019[dict_][\"len\"][0] for dict_ in G_cycles_2019}\n",
    "max_cycle_2019 = max(max_cycles, key=max_cycles.get)\n",
    "G_cycles_2019[max_cycle_2019]"
   ]
  },
  {
   "cell_type": "code",
   "execution_count": 32,
   "id": "b69b4187",
   "metadata": {},
   "outputs": [
    {
     "name": "stdout",
     "output_type": "stream",
     "text": [
      "{'2': 1162, '3': 81, '4': 5}\n"
     ]
    },
    {
     "data": {
      "image/png": "[encoded data removed]",
      "text/plain": [
       "<Figure size 432x288 with 1 Axes>"
      ]
     },
     "metadata": {
      "needs_background": "light"
     },
     "output_type": "display_data"
    }
   ],
   "source": [
    "cycle_len = [G_cycles_2019[dict_][\"len\"][0] for dict_ in G_cycles_2019]\n",
    "dict_= {str(cycle):0 for cycle in set(cycle_len)}\n",
    "\n",
    "for cyc in cycle_len:\n",
    "    dict_[str(cyc)] = dict_[str(cyc)]+1\n",
    "\n",
    "print(dict_)\n",
    "    \n",
    "plt.figure()\n",
    "plt.bar(dict_.keys(), dict_.values())\n",
    "plt.xlabel(\"Length of cycles\", fontsize=14)\n",
    "plt.ylabel(\"Number of cycles\", fontsize=14)\n",
    "plt.show()"
   ]
  },
  {
   "cell_type": "markdown",
   "id": "3a00257b",
   "metadata": {},
   "source": [
    "#### 2020"
   ]
  },
  {
   "cell_type": "code",
   "execution_count": 25,
   "id": "3d7f330c",
   "metadata": {},
   "outputs": [
    {
     "data": {
      "text/plain": [
       "(7604, 21478)"
      ]
     },
     "execution_count": 25,
     "metadata": {},
     "output_type": "execute_result"
    }
   ],
   "source": [
    "G_2020 = nx.read_graphml(f\"{DATA_PATH}/wood_years_2020/wood.graphml\") \n",
    "G_2020.number_of_nodes() , G_2020.number_of_edges()"
   ]
  },
  {
   "cell_type": "code",
   "execution_count": 26,
   "id": "4e60473a",
   "metadata": {},
   "outputs": [],
   "source": [
    "# list_cycles_2020 = nx.recursive_simple_cycles(G_2020)"
   ]
  },
  {
   "cell_type": "code",
   "execution_count": 27,
   "id": "96a82a12",
   "metadata": {},
   "outputs": [],
   "source": [
    "G_cycles_2020 = {\n",
    "}\n",
    "\n",
    "for node in G_2020.nodes:\n",
    "    try:\n",
    "        current_cycle = nx.find_cycle(G_2020, source=node, orientation=\"original\")\n",
    "        \n",
    "        G_cycles_2020[node] = {\"cycle\":[], \"len\":[]}\n",
    "        G_cycles_2020[node][\"cycle\"].append(current_cycle)\n",
    "        G_cycles_2020[node][\"len\"].append(len(current_cycle))\n",
    "    except:\n",
    "        continue"
   ]
  },
  {
   "cell_type": "code",
   "execution_count": 28,
   "id": "756c2874",
   "metadata": {},
   "outputs": [
    {
     "data": {
      "text/plain": [
       "967"
      ]
     },
     "execution_count": 28,
     "metadata": {},
     "output_type": "execute_result"
    }
   ],
   "source": [
    "total_cycles = len(G_cycles_2020)\n",
    "total_cycles"
   ]
  },
  {
   "cell_type": "code",
   "execution_count": 29,
   "id": "fa4dda27",
   "metadata": {},
   "outputs": [
    {
     "data": {
      "text/plain": [
       "{'cycle': [[('PTO-04813204000100', 'PTO-00614413000166', 'forward'),\n",
       "   ('PTO-00614413000166', 'PTO-33741487000112', 'forward'),\n",
       "   ('PTO-33741487000112', 'PTO-01801325000136', 'forward'),\n",
       "   ('PTO-01801325000136', 'PTO-27402458000123', 'forward'),\n",
       "   ('PTO-27402458000123', 'PTO-04813204000100', 'forward')]],\n",
       " 'len': [5]}"
      ]
     },
     "execution_count": 29,
     "metadata": {},
     "output_type": "execute_result"
    }
   ],
   "source": [
    "max_cycles = {dict_: G_cycles_2020[dict_][\"len\"][0] for dict_ in G_cycles_2020}\n",
    "max_cycle_2020 = max(max_cycles, key=max_cycles.get)\n",
    "G_cycles_2020[max_cycle_2020]"
   ]
  },
  {
   "cell_type": "code",
   "execution_count": 31,
   "id": "04c5fea1",
   "metadata": {},
   "outputs": [
    {
     "name": "stdout",
     "output_type": "stream",
     "text": [
      "{'2': 838, '3': 66, '4': 22, '5': 41}\n"
     ]
    },
    {
     "data": {
      "image/png": "[encoded data removed]",
      "text/plain": [
       "<Figure size 432x288 with 1 Axes>"
      ]
     },
     "metadata": {
      "needs_background": "light"
     },
     "output_type": "display_data"
    }
   ],
   "source": [
    "cycle_len = [G_cycles_2020[dict_][\"len\"][0] for dict_ in G_cycles_2020]\n",
    "dict_= {str(cycle):0 for cycle in set(cycle_len)}\n",
    "\n",
    "for cyc in cycle_len:\n",
    "    dict_[str(cyc)] = dict_[str(cyc)]+1\n",
    "\n",
    "print(dict_)\n",
    "    \n",
    "plt.figure()\n",
    "plt.bar(dict_.keys(), dict_.values())\n",
    "plt.xlabel(\"Length of cycles\", fontsize=14)\n",
    "plt.ylabel(\"Number of cycles\", fontsize=14)\n",
    "plt.show()"
   ]
  }
 ],
 "metadata": {
  "kernelspec": {
   "display_name": "Python 3 (ipykernel)",
   "language": "python",
   "name": "python3"
  },
  "language_info": {
   "codemirror_mode": {
    "name": "ipython",
    "version": 3
   },
   "file_extension": ".py",
   "mimetype": "text/x-python",
   "name": "python",
   "nbconvert_exporter": "python",
   "pygments_lexer": "ipython3",
   "version": "3.9.7"
  }
 },
 "nbformat": 4,
 "nbformat_minor": 5
}
