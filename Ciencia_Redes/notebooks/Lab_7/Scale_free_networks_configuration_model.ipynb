{
  "cells": [
    {
      "cell_type": "markdown",
      "id": "bba60591",
      "metadata": {
        "id": "bba60591"
      },
      "source": [
        "# LAB 07: Scale free networks, configuration model, and degree-preserving randomization\n",
        "\n",
        "August 9th 2022\n",
        "\n",
        "* This is a python tutorial on scale free networks, and the cofiguration model.\n",
        "* There is no marking for this tutorial. You do not need to submit your solution to us, but this exercise will help you to start working on your project\n",
        "* In the begining of this tutorial you will find a similar code than used in the class. In the end, there are exercises for you.\n",
        "* We recommend you to solve this lab until next Tuesday (August 16th)."
      ]
    },
    {
      "cell_type": "markdown",
      "id": "9762e913",
      "metadata": {
        "id": "9762e913"
      },
      "source": [
        "## Scale-free networks\n",
        "\n",
        "* Load the protein.edgelist network from http://networksciencebook.com/translations/en/resources/networks.zip\n",
        "* What is the maximum degree of the network?\n",
        "* Compare it to the expected largest hub size according to the power law distribution\n",
        "* Classify your network into:  'anomalous regime', 'ultra small world', and 'small world'.\n",
        "* Compute the average distance of the network.\n"
      ]
    },
    {
      "cell_type": "code",
      "execution_count": null,
      "id": "cf24dddc",
      "metadata": {
        "id": "cf24dddc"
      },
      "outputs": [],
      "source": [
        "import networkx as nx\n",
        "import powerlaw\n",
        "import numpy as np\n",
        "import scipy\n",
        "\n",
        "# Load the network\n",
        "\n",
        "G = nx.read_edgelist(\"protein.edgelist.txt\")\n",
        "N = G.number_of_nodes()\n",
        "degrees = (np.array(G.degree())[:,1]).astype(int)\n",
        "\n",
        "max_degree = max(degrees)\n",
        "\n",
        "# Fit power law degree distribution\n",
        "\n",
        "fit = powerlaw.Fit(degrees, discrete=True)\n",
        "\n",
        "# Estimate the maximun hub size according to the power law\n",
        "kmax = fit.xmin*(N**(1/(fit.alpha-1)))\n",
        "\n",
        "print(max_degree, kmax)\n",
        "\n",
        "# Classifying the network 'regime'\n",
        "def regime(gamma):\n",
        "    if gamma <= 2:\n",
        "        return 'anomalous'\n",
        "    if gamma < 3:\n",
        "        return 'ultra-small world'\n",
        "    if gamma == 3:\n",
        "        return 'critical point'\n",
        "    return 'small world'\n",
        "\n",
        "regime(fit.alpha)\n",
        "\n",
        "# Computing the average shortest distance of the largest component\n",
        "components = [component for component in nx.connected_components(G)]\n",
        "sizes = [len(component) for component in components]\n",
        "avg_dist = [nx.average_shortest_path_length(G.subgraph(C)) \n",
        "            for C in components if len(C) == max(sizes)]\n",
        "            "
      ]
    },
    {
      "cell_type": "markdown",
      "id": "c1194381",
      "metadata": {
        "id": "c1194381"
      },
      "source": [
        "## Configuration model\n",
        "\n",
        "\n",
        "* Create a procedure that generates graphs with a given degree sequence\n",
        "* Given an alpha, generates 100 graphs with power lawer degree distribution\n",
        "* Compare the expected size of the largest hub with the largest degree of the generated networks.\n"
      ]
    },
    {
      "cell_type": "code",
      "execution_count": null,
      "id": "4360c271",
      "metadata": {
        "id": "4360c271"
      },
      "outputs": [],
      "source": [
        "import random\n",
        "\n",
        "random.seed(0)\n",
        "\n",
        "def configuration_model(degrees):\n",
        "\n",
        "    stubs = []\n",
        "    for i in range(len(degrees)):\n",
        "        for j in range(degrees[i]):\n",
        "            stubs.append(i)\n",
        "\n",
        "    G = nx.Graph()\n",
        "\n",
        "    while stubs != []:\n",
        "        i = random.sample(stubs, 1)[0]\n",
        "        stubs.remove(i)\n",
        "        j = random.sample(stubs, 1)[0]\n",
        "        stubs.remove(j)\n",
        "        G.add_edge(i,j)\n",
        "    return G\n",
        "\n",
        "G = configuration_model([2,1,1])\n",
        "nx.draw(G)\n",
        "\n",
        "nx.convert_matrix.to_numpy_array(G)\n",
        "\n",
        "\n",
        "# Power law degree distribution for a given gamma\n",
        "gamma = 2.8\n",
        "zeta = scipy.special.zeta(gamma)\n",
        "N = 100\n",
        "\n",
        "p = [(k**(-gamma))/zeta for k in range(1,N)]\n",
        "\n",
        "p = p/sum(p) # making sure it sums 1.\n",
        "\n",
        "# Generate random graphs\n",
        "\n",
        "M = 100\n",
        "graphs = []\n",
        "for i in range(M):\n",
        "    sample = [1]\n",
        "    # Generate degree sequences according to the power law distribution\n",
        "    while (sum(sample) % 2) != 0:\n",
        "        sample = np.random.choice(np.array(range(1, N)), size=N, p=p)\n",
        "\n",
        "    graphs.append(configuration_model(sample))\n",
        "    #graphs.append(nx.configuration_model(sample))\n",
        "    \n",
        "kmax = (N**(1/(fit.alpha-1)))\n",
        "max_degree = [max(np.array(G.degree())[:,1].astype(int)) for G in graphs]\n",
        "\n",
        "print(kmax, np.mean(max_degree))\n",
        "\n"
      ]
    },
    {
      "cell_type": "markdown",
      "id": "0fa5031c",
      "metadata": {
        "id": "0fa5031c"
      },
      "source": [
        "## Exercise \n",
        "\n",
        "* Using the data from your project: (1) obtain the maximum degree of the network, (2) compare it to the expected size according to the power law degree distribution, and (3) compute the average distance of the network. Is it an ultra-small world, small world or anomalous network?\n",
        "* Given a network, create a random procedure that returns a new random network preserving its degrees."
      ]
    },
    {
      "cell_type": "code",
      "execution_count": null,
      "id": "ab81d093",
      "metadata": {
        "id": "ab81d093",
        "colab": {
          "base_uri": "https://localhost:8080/"
        },
        "outputId": "546e4823-a5c2-4699-efb0-eecb2f009751"
      },
      "outputs": [
        {
          "output_type": "execute_result",
          "data": {
            "text/plain": [
              "array([0, 0, 0, 0, 0, 0, 0, 0, 0, 0, 0, 0, 0, 0, 0, 0, 0, 0, 0, 0, 0, 0,\n",
              "       0, 0, 0, 0, 0, 0, 0, 0, 0, 0, 0, 0, 0, 0, 0, 0, 0, 0, 0, 0, 0, 0,\n",
              "       0, 0, 0, 0, 0, 0])"
            ]
          },
          "metadata": {},
          "execution_count": 9
        }
      ],
      "source": [
        "# Procedure that preserves the orginal degrees\n",
        "\n",
        "import networkx as nx\n",
        "import numpy as np\n",
        "import random\n",
        "\n",
        "G = nx.barabasi_albert_graph(50, 1)\n",
        "G_orig = G.copy()\n",
        "degrees = (np.array(G_orig.degree())[:,1]).astype(int)\n",
        "edges = G_orig.edges\n",
        "\n",
        "for edge in edges:\n",
        "    if G.has_edge(*edge):\n",
        "      v1 = edge[0]\n",
        "      v2 = edge[1]\n",
        "      possible_edges = [e for e in G.edges if set(e) != set(edge) and not G.has_edge(v1, e[1])\n",
        "                      and not G.has_edge(e[0], v2)]\n",
        "      sel_edge = random.sample(possible_edges, 1)[0]\n",
        "      G.remove_edge(v1, v2)\n",
        "      G.remove_edge(sel_edge[0], sel_edge[1])\n",
        "      G.add_edge(v1, sel_edge[1])\n",
        "      G.add_edge(sel_edge[0], v2)\n",
        "    \n",
        "#nx.draw(G_orig)\n",
        "#nx.draw(G)\n",
        "\n",
        "degrees2 = (np.array(G.degree())[:,1]).astype(int)\n",
        "\n",
        "degrees-degrees2\n",
        "\n"
      ]
    }
  ],
  "metadata": {
    "kernelspec": {
      "display_name": "Python 3 (ipykernel)",
      "language": "python",
      "name": "python3"
    },
    "language_info": {
      "codemirror_mode": {
        "name": "ipython",
        "version": 3
      },
      "file_extension": ".py",
      "mimetype": "text/x-python",
      "name": "python",
      "nbconvert_exporter": "python",
      "pygments_lexer": "ipython3",
      "version": "3.10.4"
    },
    "colab": {
      "name": "Lab07_scale_free_networks_configuration_model-SOLUTION.ipynb",
      "provenance": []
    }
  },
  "nbformat": 4,
  "nbformat_minor": 5
}