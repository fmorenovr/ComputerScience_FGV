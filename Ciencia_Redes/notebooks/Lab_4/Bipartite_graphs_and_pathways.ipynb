{
  "cells": [
    {
      "cell_type": "markdown",
      "id": "bba60591",
      "metadata": {
        "id": "bba60591"
      },
      "source": [
        "# LAB 04: Bipartite graphs and pathways\n",
        "\n",
        "July 19th 2022\n",
        "\n",
        "* This tutorial aims at helping you to handle bipartite graphs and pathways within a graph.\n",
        "* There is no marking for this tutorial. You do not need to submit your solution to us, but this exercise will help you to start working on your project\n",
        "* In the begining of this tutorial you will find a similar code than used in the class. In the end, there are exercises for you.\n",
        "* We recommend you to solve this lab until next tuesday (July 26st)."
      ]
    },
    {
      "cell_type": "markdown",
      "id": "9762e913",
      "metadata": {
        "id": "9762e913"
      },
      "source": [
        "## Bipartite networks\n",
        "\n",
        "A bipartite network is composed of two disjoint sets of nodes such that the links occur between a node of one set and a node from the other set.\n",
        "\n",
        "In this tutorial we will:\n",
        "\n",
        "* Build a bipartite network in which one set of vertices correspond to people (readers), and the other set of vertices correspond to books\n",
        "* Insert edges indicating which book each person reads\n",
        "* Draw the graph indicating each node with a different color\n",
        "* Build the unipartite projected network of readers \n",
        "* Build the unipartite projected network of books (using networkx.algorithms.bipartite)\n",
        "* Plot both projected graphs\n",
        "* Obtain the adjacency matrix of the graph of books\n",
        "* Compute the transition matrix\n",
        "\n"
      ]
    },
    {
      "cell_type": "code",
      "execution_count": null,
      "id": "cf24dddc",
      "metadata": {
        "id": "cf24dddc"
      },
      "outputs": [],
      "source": [
        "import networkx as nx\n",
        "from networkx.algorithms import bipartite\n",
        "import numpy as np\n",
        "\n",
        "G = nx.Graph()\n",
        "\n",
        "G.add_nodes_from(['Paul', 'Mary', 'John'], bipartite='reader')\n",
        "G.add_nodes_from(['LOR', 'HP', 'Pinocchio', 'Don Quixote'], bipartite='book')\n",
        "G.add_edges_from([['Paul', 'HP'], ['Paul', 'LOR'], ['Mary', 'HP'], \n",
        "                  ['Mary', 'Don Quixote'],\n",
        "                 ['John', 'Pinocchio'], ['John', 'Don Quixote']])\n",
        "\n",
        "readers = [node for node in G.nodes if G.nodes[node]['bipartite']=='reader']\n",
        "books = [node for node in G.nodes if G.nodes[node]['bipartite']=='book']\n",
        "colors = ['blue' if node in readers else 'red' for node in G.nodes]\n",
        "\n",
        "\n",
        "nx.draw(G, with_labels=True, pos=nx.drawing.layout.bipartite_layout(G, readers), \n",
        "        node_color=colors)\n",
        "\n",
        "R = nx.Graph()\n",
        "\n",
        "for node in readers:\n",
        "    for book in G.neighbors(node):\n",
        "        for reader in G.neighbors(book):\n",
        "            if node != reader and not R.has_edge(node, reader):\n",
        "                R.add_edge(node, reader)\n",
        "\n",
        "%matplotlib inline\n",
        "\n",
        "nx.draw(R, with_labels=True)\n",
        "\n",
        "R = bipartite.projected_graph(G, readers)\n",
        "B = bipartite.projected_graph(G, books)\n",
        "\n",
        "%matplotlib inline\n",
        "\n",
        "nx.draw(B, with_labels=True)\n",
        "\n",
        "A = nx.adjacency_matrix(B)\n",
        "\n",
        "col_sums = np.sum(A, axis=0)\n",
        "\n",
        "T = A/col_sums\n",
        "\n",
        "%matplotlib inline\n",
        "\n",
        "\n"
      ]
    },
    {
      "cell_type": "markdown",
      "id": "0fa5031c",
      "metadata": {
        "id": "0fa5031c"
      },
      "source": [
        "## Pathways \n",
        "\n",
        "* Build a graph that contains two connected components: one cycle (size 3) and two nodes connected to each other\n",
        "* Test if the graph is connected and list the connected components\n",
        "* Compute all shortest paths in the network\n",
        "* Compute the number of pathways of size p\n",
        "* Compute the clustering coefficient of each node in the network\n"
      ]
    },
    {
      "cell_type": "code",
      "execution_count": null,
      "id": "ab81d093",
      "metadata": {
        "id": "ab81d093",
        "outputId": "1d8046c3-22be-44e3-e016-989d5e4bcb80"
      },
      "outputs": [
        {
          "name": "stdout",
          "output_type": "stream",
          "text": [
            "Pathways between 0 and 1 [[0, 1]]\n",
            "Pathways between 0 and 2 [[0, 2]]\n",
            "Pathways between 1 and 2 [[1, 2]]\n",
            "Pathways between 3 and 4 [[3, 4]]\n",
            "[[2. 3. 3. 0. 0.]\n",
            " [3. 2. 3. 0. 0.]\n",
            " [3. 3. 2. 0. 0.]\n",
            " [0. 0. 0. 0. 1.]\n",
            " [0. 0. 0. 1. 0.]]\n"
          ]
        },
        {
          "data": {
            "text/plain": [
              "{0: 1.0, 1: 1.0, 2: 1.0, 3: 0, 4: 0}"
            ]
          },
          "execution_count": 3,
          "metadata": {},
          "output_type": "execute_result"
        },
        {
          "data": {
            "image/png": "[encoded data removed]",
            "text/plain": [
              "<Figure size 432x288 with 1 Axes>"
            ]
          },
          "metadata": {},
          "output_type": "display_data"
        }
      ],
      "source": [
        "G = nx.cycle_graph(3)\n",
        "\n",
        "G.add_edge(3,4)\n",
        "\n",
        "nx.draw(G, with_labels=True)\n",
        "\n",
        "nx.is_connected(G)\n",
        "\n",
        "components = list(nx.connected_components(G))\n",
        "\n",
        "components\n",
        "\n",
        "for component in components:\n",
        "    for source in component:\n",
        "        for target in component:\n",
        "            if target > source:\n",
        "                print('Pathways between', source, 'and', target, \n",
        "                      list(nx.all_shortest_paths(G, source, target)))\n",
        "                \n",
        "A = nx.adjacency_matrix(G)\n",
        "p = 3\n",
        "\n",
        "N_paths = np.eye(A.shape[0])\n",
        "for cont in range(p):\n",
        "    N_paths = N_paths@A\n",
        "    \n",
        "print(N_paths)\n",
        "\n",
        "nx.clustering(G)\n",
        "\n"
      ]
    },
    {
      "cell_type": "markdown",
      "id": "cf7c85e8",
      "metadata": {
        "id": "cf7c85e8"
      },
      "source": [
        "##  Exercise\n",
        "\n",
        "Download the list of edges from: https://github.com/CambridgeUniversityPress/FirstCourseNetworkScience/raw/master/datasets/openflights/openflights_usa.edges.gz\n",
        "\n",
        "* Build a graph from the downloaded file\n",
        "* What is the diameter of the graph?\n",
        "* What is the number of connected components?\n",
        "* Is there any cycle in this network? If so, list them.\n",
        "* List the bridges of the network\n",
        "* Pick one bridge of the network. Then, make one plot with two subgraphs corresponding to the components connected by the bridge. Color nodes belonging to one component with one color and the other component with a different color.\n",
        "* Build a histogram of the clustering coefficients of the network\n",
        "* Compute the average clustering coefficient of the graph\n",
        "* Compute the global clustering coefficient of the network"
      ]
    },
    {
      "cell_type": "code",
      "execution_count": null,
      "id": "9b8a8ebd",
      "metadata": {
        "scrolled": true,
        "id": "9b8a8ebd",
        "outputId": "a5080d62-f421-4936-d1d0-79363d12e5b8"
      },
      "outputs": [
        {
          "name": "stdout",
          "output_type": "stream",
          "text": [
            "Number of connected components: 3\n",
            "Average clustering coefficient: 0.4930453868822472\n",
            "Global clustering coefficient: 0.3132922245160076\n"
          ]
        },
        {
          "data": {
            "image/png": "[encoded data removed]",
            "text/plain": [
              "<Figure size 432x288 with 1 Axes>"
            ]
          },
          "metadata": {
            "needs_background": "light"
          },
          "output_type": "display_data"
        }
      ],
      "source": [
        "import matplotlib.pyplot as plt\n",
        "\n",
        "G = nx.read_edgelist('openflights_usa.edges')\n",
        "components = list(nx.connected_components(G))\n",
        "\n",
        "# Number of connected components\n",
        "print(\"Number of connected components:\", len(components))\n",
        "\n",
        "# Cycles\n",
        "cycles = nx.cycles.cycle_basis(G)\n",
        "\n",
        "# Bridges\n",
        "bridges = list(nx.bridges(G))\n",
        "\n",
        "# Selectiong components connected by a bridge\n",
        "bridge = bridges[0]\n",
        "G2 = G.copy()\n",
        "G2.remove_edge(bridge[0], bridge[1])\n",
        "sel_components = [C for C in nx.connected_components(G2) \n",
        "                  if bridge[0] in C or bridge[1] in C]\n",
        "S = G2.subgraph(sel_components[0].union(sel_components[1]))\n",
        "\n",
        "colors = ['blue' if node in sel_components[0] else 'red' for node in S.nodes]\n",
        "\n",
        "nx.draw(S, node_color=colors)\n",
        "\n",
        "# Clustering coefficient\n",
        "\n",
        "clust_coef = list(nx.clustering(G).values())\n",
        "\n",
        "%matplotlib inline\n",
        "\n",
        "plt.hist(clust_coef)\n",
        "\n",
        "print(\"Average clustering coefficient:\", nx.average_clustering(G))\n",
        "\n",
        "# Global clustering coefficient\n",
        "\n",
        "print(\"Global clustering coefficient:\", nx.transitivity(G))"
      ]
    },
    {
      "cell_type": "code",
      "execution_count": null,
      "id": "23aefaef",
      "metadata": {
        "id": "23aefaef"
      },
      "outputs": [],
      "source": [
        ""
      ]
    }
  ],
  "metadata": {
    "kernelspec": {
      "display_name": "Python 3",
      "language": "python",
      "name": "python3"
    },
    "language_info": {
      "codemirror_mode": {
        "name": "ipython",
        "version": 3
      },
      "file_extension": ".py",
      "mimetype": "text/x-python",
      "name": "python",
      "nbconvert_exporter": "python",
      "pygments_lexer": "ipython3",
      "version": "3.9.6"
    },
    "colab": {
      "name": "Lab04_bipartite_graphs_and_pathways_SOLUTION.ipynb",
      "provenance": []
    }
  },
  "nbformat": 4,
  "nbformat_minor": 5
}