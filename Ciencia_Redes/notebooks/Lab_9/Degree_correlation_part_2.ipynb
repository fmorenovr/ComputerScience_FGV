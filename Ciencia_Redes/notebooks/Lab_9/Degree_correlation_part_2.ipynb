{
  "cells": [
    {
      "cell_type": "markdown",
      "id": "bba60591",
      "metadata": {
        "id": "bba60591"
      },
      "source": [
        "# LAB 09: Degree correlation - part 2\n",
        " -  \n",
        "August 23th 2022\n",
        "\n",
        "* This is a python tutorial on the degree correlation of networks.\n",
        "* There is no marking for this tutorial. You do not need to submit your solution to us, but this exercise will help you to start working on your project\n",
        "* In the begining of this tutorial you will find a similar code than used in the class. In the end, there are exercises for you.\n",
        "* We recommend you to solve this lab until next wednesday (August 30th)."
      ]
    },
    {
      "cell_type": "markdown",
      "id": "9762e913",
      "metadata": {
        "id": "9762e913"
      },
      "source": [
        "## Degree correlation function\n",
        "\n",
        "* Load the protein.edgelist network from http://networksciencebook.com/translations/en/resources/networks.zip\n",
        "* Compute the degree correlation function of the PPI network.\n",
        "* Plot the degree function\n",
        "* Is the network assortative, neutral or dissortative?"
      ]
    },
    {
      "cell_type": "code",
      "source": [
        "!wget http://networksciencebook.com/translations/en/resources/networks.zip\n",
        "!unzip networks.zip"
      ],
      "metadata": {
        "colab": {
          "base_uri": "https://localhost:8080/"
        },
        "id": "dOVm8UDIRTPj",
        "outputId": "889d45b7-ebbd-4998-e3d0-efd3a8a35d20"
      },
      "id": "dOVm8UDIRTPj",
      "execution_count": null,
      "outputs": [
        {
          "output_type": "stream",
          "name": "stdout",
          "text": [
            "--2022-08-23 19:55:04--  http://networksciencebook.com/translations/en/resources/networks.zip\n",
            "Resolving networksciencebook.com (networksciencebook.com)... 166.62.76.227\n",
            "Connecting to networksciencebook.com (networksciencebook.com)|166.62.76.227|:80... connected.\n",
            "HTTP request sent, awaiting response... 200 OK\n",
            "Length: 141043055 (135M) [application/zip]\n",
            "Saving to: ‘networks.zip’\n",
            "\n",
            "networks.zip        100%[===================>] 134.51M  38.5MB/s    in 4.9s    \n",
            "\n",
            "2022-08-23 19:55:09 (27.2 MB/s) - ‘networks.zip’ saved [141043055/141043055]\n",
            "\n",
            "Archive:  networks.zip\n",
            "  inflating: actor.edgelist.txt      \n",
            "  inflating: citation.edgelist.txt   \n",
            "  inflating: collaboration.edgelist.txt  \n",
            "  inflating: email.edgelist.txt      \n",
            "  inflating: internet.edgelist.txt   \n",
            "  inflating: metabolic.edgelist.txt  \n",
            "  inflating: phonecalls.edgelist.txt  \n",
            "  inflating: powergrid.edgelist.txt  \n",
            "  inflating: protein.edgelist.txt    \n",
            "  inflating: www.edgelist.txt        \n"
          ]
        }
      ]
    },
    {
      "cell_type": "code",
      "execution_count": null,
      "id": "cf24dddc",
      "metadata": {
        "id": "cf24dddc",
        "colab": {
          "base_uri": "https://localhost:8080/",
          "height": 282
        },
        "outputId": "7be7b790-f176-4e60-a8b9-51a6002ff3b7"
      },
      "outputs": [
        {
          "output_type": "execute_result",
          "data": {
            "text/plain": [
              "<matplotlib.collections.PathCollection at 0x7f4039a61950>"
            ]
          },
          "metadata": {},
          "execution_count": 12
        },
        {
          "output_type": "display_data",
          "data": {
            "text/plain": [
              "<Figure size 432x288 with 1 Axes>"
            ],
            "image/png": "[encoded data removed]"
          },
          "metadata": {
            "needs_background": "light"
          }
        }
      ],
      "source": [
        "import networkx as nx\n",
        "import numpy as np\n",
        "import matplotlib.pyplot as plt\n",
        "\n",
        "G = nx.read_edgelist(\"protein.edgelist.txt\")\n",
        "\n",
        "def degree_correlation_function(G):\n",
        "  G = nx.convert_node_labels_to_integers(G)\n",
        "  degrees = np.array(G.degree())[:,1].astype(int)\n",
        "  knn_i = np.array([])\n",
        "  for node in G.nodes:\n",
        "    neighbors = list(G.neighbors(node))\n",
        "    if len(neighbors) > 0:\n",
        "      knn_i = np.append(knn_i, np.mean(degrees[neighbors]))\n",
        "    else:\n",
        "      knn_i = np.append(knn_i, 0)\n",
        "  knn = np.array([])\n",
        "  for k in range(max(degrees)+1):\n",
        "    sel_nodes = np.where(degrees == k)[0]\n",
        "    if len(sel_nodes) > 0:\n",
        "      knn = np.append(knn, np.mean(knn_i[sel_nodes]))\n",
        "    else:\n",
        "      knn = np.append(knn, None)\n",
        "  return knn\n",
        "\n",
        "degrees = np.array(G.degree())[:,1].astype(int)\n",
        "knn = degree_correlation_function(G)\n",
        "x = list(range(max(degrees)+1))\n",
        "plt.scatter(x, knn)"
      ]
    },
    {
      "cell_type": "markdown",
      "id": "c1194381",
      "metadata": {
        "id": "c1194381"
      },
      "source": [
        "## Randomization and degree correlations\n",
        "\n",
        "* Create a randomization function that preserves the degree distribution and generates simple graphs (with no multiple edges)\n",
        "\n",
        "* Compare the degree correlation function of the observed graph, and the two randomization procedures\n"
      ]
    },
    {
      "cell_type": "code",
      "execution_count": null,
      "id": "4360c271",
      "metadata": {
        "id": "4360c271",
        "colab": {
          "base_uri": "https://localhost:8080/",
          "height": 282
        },
        "outputId": "81668b74-9ef6-4287-a254-140e94a74350"
      },
      "outputs": [
        {
          "output_type": "execute_result",
          "data": {
            "text/plain": [
              "<matplotlib.collections.PathCollection at 0x7f403ae8b450>"
            ]
          },
          "metadata": {},
          "execution_count": 6
        },
        {
          "output_type": "display_data",
          "data": {
            "text/plain": [
              "<Figure size 432x288 with 1 Axes>"
            ],
            "image/png": "[encoded data removed]"
          },
          "metadata": {
            "needs_background": "light"
          }
        }
      ],
      "source": [
        "import random\n",
        "\n",
        "def degree_preserving(G_orig):\n",
        "    G = G_orig.copy()\n",
        "    edges = G_orig.edges\n",
        "    for edge in edges:\n",
        "        v1 = edge[0]\n",
        "        v2 = edge[1]\n",
        "        if G.has_edge(v1, v2):\n",
        "            possible_edges = [e for e in G.edges \n",
        "                              if set(e) != set(edge)\n",
        "                             and not G.has_edge(v1, e[1]) \n",
        "                             and not G.has_edge(e[0], v2)]\n",
        "            sel_edge = random.sample(possible_edges, 1)[0]\n",
        "            G.remove_edge(v1, v2)\n",
        "            G.remove_edge(sel_edge[0], sel_edge[1])\n",
        "            G.add_edge(v1, sel_edge[1])\n",
        "            G.add_edge(sel_edge[0], v2)\n",
        "    return G\n",
        "\n",
        "G2 = degree_preserving(G)\n",
        "knn2 = degree_correlation_function(G2)\n",
        "\n",
        "plt.scatter(x, knn)\n",
        "plt.scatter(x, knn2, color='r')"
      ]
    },
    {
      "cell_type": "markdown",
      "id": "756f1b95",
      "metadata": {
        "id": "756f1b95"
      },
      "source": [
        "## Generating correlated netwoks\n",
        "\n",
        "Implement the Xulvi-Brunet and Sokolov process to generate maximilly correlated networks."
      ]
    },
    {
      "cell_type": "code",
      "execution_count": null,
      "id": "f45f9edd",
      "metadata": {
        "id": "f45f9edd",
        "colab": {
          "base_uri": "https://localhost:8080/",
          "height": 282
        },
        "outputId": "6410352b-f0b5-4935-bfae-784bab9d820f"
      },
      "outputs": [
        {
          "output_type": "execute_result",
          "data": {
            "text/plain": [
              "<matplotlib.collections.PathCollection at 0x7f403ad12210>"
            ]
          },
          "metadata": {},
          "execution_count": 17
        },
        {
          "output_type": "display_data",
          "data": {
            "text/plain": [
              "<Figure size 432x288 with 1 Axes>"
            ],
            "image/png": "[encoded data removed]"
          },
          "metadata": {
            "needs_background": "light"
          }
        }
      ],
      "source": [
        "def generate_correlated_graph(G_orig):\n",
        "  G_orig = nx.convert_node_labels_to_integers(G_orig)\n",
        "  G = G_orig.copy()\n",
        "  edges = list(G_orig.edges)\n",
        "  for edge in edges:\n",
        "    v1 = edge[0]\n",
        "    v2 = edge[1]\n",
        "    degrees = np.array(G.degree())[:,1].astype(int)\n",
        "    if G.has_edge(v1, v2):\n",
        "      possible_edges = list(G.edges)\n",
        "      while possible_edges != []:\n",
        "        sel_edge = random.sample(possible_edges, 1)[0]\n",
        "        sel_vertices = [v1, v2, sel_edge[0], sel_edge[1]]\n",
        "        sel_degrees = degrees[sel_vertices]\n",
        "        index = np.argsort(sel_degrees)\n",
        "        a = sel_vertices[index[3]]\n",
        "        b = sel_vertices[index[2]]\n",
        "        c = sel_vertices[index[1]]\n",
        "        d = sel_vertices[index[0]]\n",
        "        if a != b and c != d and not G.has_edge(a,b) and not G.has_edge(c,d):\n",
        "          G.remove_edge(v1, v2)\n",
        "          G.remove_edge(sel_edge[0], sel_edge[1])\n",
        "          G.add_edge(a, b)\n",
        "          G.add_edge(c, d)\n",
        "          possible_edges = []\n",
        "        else:\n",
        "          possible_edges.remove(sel_edge)\n",
        "  return G    \n",
        "\n",
        "G3 = generate_correlated_graph(G)\n",
        "knn3 = degree_correlation_function(G3)\n",
        "\n",
        "plt.scatter(x, knn)\n",
        "plt.scatter(x, knn3, color='r')\n"
      ]
    },
    {
      "cell_type": "markdown",
      "id": "0fa5031c",
      "metadata": {
        "id": "0fa5031c"
      },
      "source": [
        "## Exercise \n",
        "\n",
        "* Implement a procedure that transforms a given network into a more dissortative network\n",
        "\n",
        "* Compute the degree correlation function for the network in your project. Is it dissortative, assortative or neutral?\n",
        "\n"
      ]
    },
    {
      "cell_type": "code",
      "execution_count": null,
      "id": "ab81d093",
      "metadata": {
        "id": "ab81d093"
      },
      "outputs": [],
      "source": [
        "# Write your code here\n"
      ]
    }
  ],
  "metadata": {
    "kernelspec": {
      "display_name": "Python 3",
      "language": "python",
      "name": "python3"
    },
    "language_info": {
      "codemirror_mode": {
        "name": "ipython",
        "version": 3
      },
      "file_extension": ".py",
      "mimetype": "text/x-python",
      "name": "python",
      "nbconvert_exporter": "python",
      "pygments_lexer": "ipython3",
      "version": "3.9.6"
    },
    "colab": {
      "provenance": []
    }
  },
  "nbformat": 4,
  "nbformat_minor": 5
}