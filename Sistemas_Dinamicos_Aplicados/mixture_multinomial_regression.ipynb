{
 "cells": [
  {
   "cell_type": "code",
   "execution_count": 1,
   "id": "ec09c224",
   "metadata": {},
   "outputs": [],
   "source": [
    "import numpy as np\n",
    "import numpy.random as npr\n",
    "npr.seed(0)\n",
    "import matplotlib.pyplot as plt\n",
    "from matplotlib.colors import ColorConverter\n",
    "colors = ['r', 'b', 'y', 'g']\n",
    "colors = [ColorConverter().to_rgb(c) for c in colors]\n",
    "\n",
    "from pypolyagamma import MixtureOfMultinomialRegressions\n",
    "from pypolyagamma.utils import compute_psi_cmoments, gradient_cmap"
   ]
  },
  {
   "cell_type": "code",
   "execution_count": 2,
   "id": "6515fbf6",
   "metadata": {},
   "outputs": [],
   "source": [
    "def _plot_mult_probs(reg,\n",
    "                     xlim=(-4,4), ylim=(-3,3), n_pts=100,\n",
    "                     fig=None):\n",
    "    XX,YY = np.meshgrid(np.linspace(*xlim,n_pts),\n",
    "                        np.linspace(*ylim,n_pts))\n",
    "    XY = np.column_stack((np.ravel(XX), np.ravel(YY)))\n",
    "\n",
    "    D_reg = reg.D_in\n",
    "    inputs = np.hstack((np.zeros((n_pts**2, D_reg-2)), XY))\n",
    "    test_prs = reg.pi(inputs)\n",
    "\n",
    "    if fig is None:\n",
    "        fig = plt.figure(figsize=(10,6))\n",
    "\n",
    "    for k in range(reg.K):\n",
    "        ax = fig.add_subplot(1,reg.K,k+1)\n",
    "        cmap = gradient_cmap([np.ones(3), colors[k]])\n",
    "        ax.imshow(test_prs[:,k].reshape(*XX.shape),\n",
    "                  extent=xlim + tuple(reversed(ylim)),\n",
    "                  vmin=0, vmax=1, cmap=cmap)\n",
    "\n",
    "        ax.set_xlim(xlim)\n",
    "        ax.set_ylim(ylim)\n",
    "\n",
    "    plt.tight_layout()\n",
    "    return "
   ]
  },
  {
   "cell_type": "code",
   "execution_count": 3,
   "id": "b27999db",
   "metadata": {},
   "outputs": [],
   "source": [
    "### Construct multinomial regression to divvy up the space #\n",
    "M, N, K, D_in = 3, 1000, 4, 2\n",
    "\n",
    "# Account for stick breaking asymmetry\n",
    "mu_b, _ = compute_psi_cmoments(np.ones(K))"
   ]
  },
  {
   "cell_type": "code",
   "execution_count": 4,
   "id": "a2a8ee74",
   "metadata": {},
   "outputs": [],
   "source": [
    "# Ps = [np.eye(K) for _ in range(M)]\n",
    "Ps = None\n",
    "true_reg = MixtureOfMultinomialRegressions(\n",
    "    M=M, N=1, D_out=K, D_in=D_in, Ps=Ps,\n",
    "    sigmasq_A=1000,  sigmasq_b=1000, mu_b=mu_b)"
   ]
  },
  {
   "cell_type": "code",
   "execution_count": 5,
   "id": "2e7332fe",
   "metadata": {},
   "outputs": [
    {
     "name": "stdout",
     "output_type": "stream",
     "text": [
      "Label usage:  [239. 333. 158. 270.]\n"
     ]
    },
    {
     "name": "stderr",
     "output_type": "stream",
     "text": [
      "/home/fmorenovr/anaconda3/envs/polygam/lib/python3.7/site-packages/ipykernel_launcher.py:3: DeprecationWarning: `np.float` is a deprecated alias for the builtin `float`. To silence this warning, use `float` by itself. Doing this will not modify any behavior and is safe. If you specifically wanted the numpy scalar type, use `np.float64` here.\n",
      "Deprecated in NumPy 1.20; for more details and guidance: https://numpy.org/devdocs/release/1.20.0-notes.html#deprecations\n",
      "  This is separate from the ipykernel package so we can avoid doing imports until\n"
     ]
    }
   ],
   "source": [
    "# Sample data from the model\n",
    "X = np.random.randn(N,2).dot(np.diag([2,1]))\n",
    "y_oh = true_reg.rvs(x=X).astype(np.float)\n",
    "y = np.argmax(y_oh, axis=1)\n",
    "usage = y_oh.sum(0)\n",
    "print(\"Label usage: \", usage)"
   ]
  },
  {
   "cell_type": "code",
   "execution_count": 6,
   "id": "6ea4849d",
   "metadata": {},
   "outputs": [],
   "source": [
    "# Apply a random permutation\n",
    "# perm = np.random.permutation(K)\n",
    "# perm = np.argsort(np.argsort(-usage))\n",
    "perm = np.arange(K)\n",
    "y_oh_perm = y_oh[:, perm]\n",
    "y_perm = np.argmax(y_oh_perm, axis=1)"
   ]
  },
  {
   "cell_type": "code",
   "execution_count": 7,
   "id": "648a480d",
   "metadata": {},
   "outputs": [],
   "source": [
    "### Create a test model for fitting\n",
    "test_reg = MixtureOfMultinomialRegressions(\n",
    "    M=M, N=1, D_out=K, D_in=D_in,\n",
    "    sigmasq_A=1000., sigmasq_b=1000.)\n",
    "\n",
    "# test_reg.Ps = true_reg.Ps"
   ]
  },
  {
   "cell_type": "code",
   "execution_count": 8,
   "id": "24ea306c",
   "metadata": {},
   "outputs": [
    {
     "name": "stdout",
     "output_type": "stream",
     "text": [
      "Iter: 0\n"
     ]
    },
    {
     "ename": "ImportError",
     "evalue": "cannot import name 'logsumexp' from 'scipy.misc' (/home/fmorenovr/anaconda3/envs/polygam/lib/python3.7/site-packages/scipy/misc/__init__.py)",
     "output_type": "error",
     "traceback": [
      "\u001b[0;31m---------------------------------------------------------------------------\u001b[0m",
      "\u001b[0;31mImportError\u001b[0m                               Traceback (most recent call last)",
      "\u001b[0;32m/tmp/ipykernel_970565/481399402.py\u001b[0m in \u001b[0;36m<module>\u001b[0;34m\u001b[0m\n\u001b[1;32m      3\u001b[0m     \u001b[0;32mif\u001b[0m \u001b[0mitr\u001b[0m \u001b[0;34m%\u001b[0m \u001b[0;36m10\u001b[0m \u001b[0;34m==\u001b[0m \u001b[0;36m0\u001b[0m\u001b[0;34m:\u001b[0m\u001b[0;34m\u001b[0m\u001b[0;34m\u001b[0m\u001b[0m\n\u001b[1;32m      4\u001b[0m         \u001b[0mprint\u001b[0m\u001b[0;34m(\u001b[0m\u001b[0;34m\"Iter: {}\"\u001b[0m\u001b[0;34m.\u001b[0m\u001b[0mformat\u001b[0m\u001b[0;34m(\u001b[0m\u001b[0mitr\u001b[0m\u001b[0;34m)\u001b[0m\u001b[0;34m)\u001b[0m\u001b[0;34m\u001b[0m\u001b[0;34m\u001b[0m\u001b[0m\n\u001b[0;32m----> 5\u001b[0;31m     \u001b[0mtest_reg\u001b[0m\u001b[0;34m.\u001b[0m\u001b[0mresample\u001b[0m\u001b[0;34m(\u001b[0m\u001b[0mdata\u001b[0m\u001b[0;34m=\u001b[0m\u001b[0;34m[\u001b[0m\u001b[0;34m(\u001b[0m\u001b[0mX\u001b[0m\u001b[0;34m,\u001b[0m \u001b[0my_oh\u001b[0m\u001b[0;34m[\u001b[0m\u001b[0;34m:\u001b[0m\u001b[0;34m,\u001b[0m \u001b[0;34m:\u001b[0m\u001b[0;34m-\u001b[0m\u001b[0;36m1\u001b[0m\u001b[0;34m]\u001b[0m\u001b[0;34m)\u001b[0m\u001b[0;34m]\u001b[0m\u001b[0;34m)\u001b[0m\u001b[0;34m\u001b[0m\u001b[0;34m\u001b[0m\u001b[0m\n\u001b[0m\u001b[1;32m      6\u001b[0m     \u001b[0mlls\u001b[0m\u001b[0;34m.\u001b[0m\u001b[0mappend\u001b[0m\u001b[0;34m(\u001b[0m\u001b[0mtest_reg\u001b[0m\u001b[0;34m.\u001b[0m\u001b[0mlog_likelihood\u001b[0m\u001b[0;34m(\u001b[0m\u001b[0;34m(\u001b[0m\u001b[0mX\u001b[0m\u001b[0;34m,\u001b[0m \u001b[0my_oh_perm\u001b[0m\u001b[0;34m[\u001b[0m\u001b[0;34m:\u001b[0m\u001b[0;34m,\u001b[0m \u001b[0;34m:\u001b[0m\u001b[0;34m-\u001b[0m\u001b[0;36m1\u001b[0m\u001b[0;34m]\u001b[0m\u001b[0;34m)\u001b[0m\u001b[0;34m)\u001b[0m\u001b[0;34m.\u001b[0m\u001b[0msum\u001b[0m\u001b[0;34m(\u001b[0m\u001b[0;34m)\u001b[0m\u001b[0;34m)\u001b[0m\u001b[0;34m\u001b[0m\u001b[0;34m\u001b[0m\u001b[0m\n\u001b[1;32m      7\u001b[0m \u001b[0;34m\u001b[0m\u001b[0m\n",
      "\u001b[0;32m~/anaconda3/envs/polygam/lib/python3.7/site-packages/pypolyagamma/distributions.py\u001b[0m in \u001b[0;36mresample\u001b[0;34m(self, data)\u001b[0m\n\u001b[1;32m    704\u001b[0m             \u001b[0mlls\u001b[0m \u001b[0;34m=\u001b[0m \u001b[0mnp\u001b[0m\u001b[0;34m.\u001b[0m\u001b[0marray\u001b[0m\u001b[0;34m(\u001b[0m\u001b[0mlls\u001b[0m\u001b[0;34m)\u001b[0m\u001b[0;34m\u001b[0m\u001b[0;34m\u001b[0m\u001b[0m\n\u001b[1;32m    705\u001b[0m \u001b[0;34m\u001b[0m\u001b[0m\n\u001b[0;32m--> 706\u001b[0;31m             \u001b[0;32mfrom\u001b[0m \u001b[0mpybasicbayes\u001b[0m\u001b[0;34m.\u001b[0m\u001b[0mutil\u001b[0m\u001b[0;34m.\u001b[0m\u001b[0mstats\u001b[0m \u001b[0;32mimport\u001b[0m \u001b[0msample_discrete_from_log\u001b[0m\u001b[0;34m\u001b[0m\u001b[0;34m\u001b[0m\u001b[0m\n\u001b[0m\u001b[1;32m    707\u001b[0m             \u001b[0mzs\u001b[0m\u001b[0;34m.\u001b[0m\u001b[0mappend\u001b[0m\u001b[0;34m(\u001b[0m\u001b[0msample_discrete_from_log\u001b[0m\u001b[0;34m(\u001b[0m\u001b[0mlls\u001b[0m\u001b[0;34m,\u001b[0m \u001b[0maxis\u001b[0m\u001b[0;34m=\u001b[0m\u001b[0;36m0\u001b[0m\u001b[0;34m)\u001b[0m\u001b[0;34m)\u001b[0m\u001b[0;34m\u001b[0m\u001b[0;34m\u001b[0m\u001b[0m\n\u001b[1;32m    708\u001b[0m \u001b[0;34m\u001b[0m\u001b[0m\n",
      "\u001b[0;32m~/anaconda3/envs/polygam/lib/python3.7/site-packages/pybasicbayes/__init__.py\u001b[0m in \u001b[0;36m<module>\u001b[0;34m\u001b[0m\n\u001b[1;32m      1\u001b[0m \u001b[0;32mfrom\u001b[0m \u001b[0m__future__\u001b[0m \u001b[0;32mimport\u001b[0m \u001b[0mabsolute_import\u001b[0m\u001b[0;34m\u001b[0m\u001b[0;34m\u001b[0m\u001b[0m\n\u001b[0;32m----> 2\u001b[0;31m \u001b[0;32mfrom\u001b[0m \u001b[0;34m.\u001b[0m \u001b[0;32mimport\u001b[0m \u001b[0mabstractions\u001b[0m\u001b[0;34m,\u001b[0m \u001b[0mdistributions\u001b[0m\u001b[0;34m,\u001b[0m \u001b[0mmodels\u001b[0m\u001b[0;34m,\u001b[0m \u001b[0mutil\u001b[0m\u001b[0;34m\u001b[0m\u001b[0;34m\u001b[0m\u001b[0m\n\u001b[0m",
      "\u001b[0;32m~/anaconda3/envs/polygam/lib/python3.7/site-packages/pybasicbayes/abstractions.py\u001b[0m in \u001b[0;36m<module>\u001b[0;34m\u001b[0m\n\u001b[1;32m      7\u001b[0m \u001b[0;34m\u001b[0m\u001b[0m\n\u001b[1;32m      8\u001b[0m \u001b[0;32mimport\u001b[0m \u001b[0mpybasicbayes\u001b[0m\u001b[0;34m\u001b[0m\u001b[0;34m\u001b[0m\u001b[0m\n\u001b[0;32m----> 9\u001b[0;31m \u001b[0;32mfrom\u001b[0m \u001b[0mpybasicbayes\u001b[0m\u001b[0;34m.\u001b[0m\u001b[0mutil\u001b[0m\u001b[0;34m.\u001b[0m\u001b[0mstats\u001b[0m \u001b[0;32mimport\u001b[0m \u001b[0mcombinedata\u001b[0m\u001b[0;34m\u001b[0m\u001b[0;34m\u001b[0m\u001b[0m\n\u001b[0m\u001b[1;32m     10\u001b[0m \u001b[0;32mfrom\u001b[0m \u001b[0mpybasicbayes\u001b[0m\u001b[0;34m.\u001b[0m\u001b[0mutil\u001b[0m\u001b[0;34m.\u001b[0m\u001b[0mtext\u001b[0m \u001b[0;32mimport\u001b[0m \u001b[0mprogprint_xrange\u001b[0m\u001b[0;34m\u001b[0m\u001b[0;34m\u001b[0m\u001b[0m\n\u001b[1;32m     11\u001b[0m \u001b[0;32mfrom\u001b[0m \u001b[0mfuture\u001b[0m\u001b[0;34m.\u001b[0m\u001b[0mutils\u001b[0m \u001b[0;32mimport\u001b[0m \u001b[0mwith_metaclass\u001b[0m\u001b[0;34m\u001b[0m\u001b[0;34m\u001b[0m\u001b[0m\n",
      "\u001b[0;32m~/anaconda3/envs/polygam/lib/python3.7/site-packages/pybasicbayes/util/__init__.py\u001b[0m in \u001b[0;36m<module>\u001b[0;34m\u001b[0m\n\u001b[1;32m      1\u001b[0m \u001b[0;32mfrom\u001b[0m \u001b[0m__future__\u001b[0m \u001b[0;32mimport\u001b[0m \u001b[0mabsolute_import\u001b[0m\u001b[0;34m\u001b[0m\u001b[0;34m\u001b[0m\u001b[0m\n\u001b[1;32m      2\u001b[0m \u001b[0m__all__\u001b[0m \u001b[0;34m=\u001b[0m \u001b[0;34m[\u001b[0m\u001b[0;34m'general'\u001b[0m\u001b[0;34m,\u001b[0m\u001b[0;34m'plot'\u001b[0m\u001b[0;34m,\u001b[0m\u001b[0;34m'stats'\u001b[0m\u001b[0;34m,\u001b[0m\u001b[0;34m'text'\u001b[0m\u001b[0;34m]\u001b[0m\u001b[0;34m\u001b[0m\u001b[0;34m\u001b[0m\u001b[0m\n\u001b[0;32m----> 3\u001b[0;31m \u001b[0;32mfrom\u001b[0m \u001b[0;34m.\u001b[0m \u001b[0;32mimport\u001b[0m \u001b[0mgeneral\u001b[0m\u001b[0;34m,\u001b[0m \u001b[0mplot\u001b[0m\u001b[0;34m,\u001b[0m \u001b[0mstats\u001b[0m\u001b[0;34m,\u001b[0m \u001b[0mtext\u001b[0m\u001b[0;34m\u001b[0m\u001b[0;34m\u001b[0m\u001b[0m\n\u001b[0m",
      "\u001b[0;32m~/anaconda3/envs/polygam/lib/python3.7/site-packages/pybasicbayes/util/stats.py\u001b[0m in \u001b[0;36m<module>\u001b[0;34m\u001b[0m\n\u001b[1;32m      8\u001b[0m \u001b[0;32mimport\u001b[0m \u001b[0mscipy\u001b[0m\u001b[0;34m.\u001b[0m\u001b[0mspecial\u001b[0m \u001b[0;32mas\u001b[0m \u001b[0mspecial\u001b[0m\u001b[0;34m\u001b[0m\u001b[0;34m\u001b[0m\u001b[0m\n\u001b[1;32m      9\u001b[0m \u001b[0;32mimport\u001b[0m \u001b[0mscipy\u001b[0m\u001b[0;34m.\u001b[0m\u001b[0mlinalg\u001b[0m\u001b[0;34m\u001b[0m\u001b[0;34m\u001b[0m\u001b[0m\n\u001b[0;32m---> 10\u001b[0;31m \u001b[0;32mfrom\u001b[0m \u001b[0mscipy\u001b[0m\u001b[0;34m.\u001b[0m\u001b[0mmisc\u001b[0m \u001b[0;32mimport\u001b[0m \u001b[0mlogsumexp\u001b[0m\u001b[0;34m\u001b[0m\u001b[0;34m\u001b[0m\u001b[0m\n\u001b[0m\u001b[1;32m     11\u001b[0m \u001b[0;32mfrom\u001b[0m \u001b[0mnumpy\u001b[0m\u001b[0;34m.\u001b[0m\u001b[0mcore\u001b[0m\u001b[0;34m.\u001b[0m\u001b[0mumath_tests\u001b[0m \u001b[0;32mimport\u001b[0m \u001b[0minner1d\u001b[0m\u001b[0;34m\u001b[0m\u001b[0;34m\u001b[0m\u001b[0m\n\u001b[1;32m     12\u001b[0m \u001b[0;34m\u001b[0m\u001b[0m\n",
      "\u001b[0;31mImportError\u001b[0m: cannot import name 'logsumexp' from 'scipy.misc' (/home/fmorenovr/anaconda3/envs/polygam/lib/python3.7/site-packages/scipy/misc/__init__.py)"
     ]
    }
   ],
   "source": [
    "lls = []\n",
    "for itr in range(1000):\n",
    "    if itr % 10 == 0:\n",
    "        print(\"Iter: {}\".format(itr))\n",
    "    test_reg.resample(data=[(X, y_oh[:, :-1])])\n",
    "    lls.append(test_reg.log_likelihood((X, y_oh_perm[:, :-1])).sum())\n",
    "\n",
    "np.set_printoptions(precision=3)\n",
    "print(\"True A:\\n{}\".format(true_reg.A))\n",
    "print(\"True b:\\n{}\".format(true_reg.b))\n",
    "print(\"Test A:\\n{}\".format(test_reg.A))\n",
    "print(\"Test b:\\n{}\".format(test_reg.b))"
   ]
  },
  {
   "cell_type": "code",
   "execution_count": null,
   "id": "f1b3e2e8",
   "metadata": {},
   "outputs": [],
   "source": [
    "### Plot the results\n",
    "fig = plt.figure(figsize=(5,5))\n",
    "plt.plot(lls)\n",
    "plt.xlabel(\"Iteration\")\n",
    "plt.xlabel(\"Log Likelihood\")\n",
    "\n",
    "fig = plt.figure(figsize=(10,3))\n",
    "_plot_mult_probs(true_reg, fig=fig)\n",
    "for k in range(K):\n",
    "    ax = fig.add_subplot(1, K, k+1)\n",
    "    ax.plot(X[y==k, 0], X[y==k, 1], 'o', color=colors[k], markeredgecolor=\"none\")\n",
    "    ax.set_xlabel(\"$x_1$\")\n",
    "    ax.set_ylabel(\"$x_2$\")\n",
    "    ax.set_title(\"$\\Pr(z={} \\mid x)$\".format(k+1))\n",
    "# plt.savefig(\"mixture_multinomial_regression.png\")\n",
    "\n",
    "fig = plt.figure(figsize=(10, 3))\n",
    "_plot_mult_probs(test_reg, fig=fig)\n",
    "for k in range(K):\n",
    "    ax = fig.add_subplot(1, K, k + 1)\n",
    "    ax.plot(X[y_perm == k, 0], X[y_perm == k, 1], 'o', color=colors[k], markeredgecolor=\"none\")\n",
    "    ax.set_xlabel(\"$x_1$\")\n",
    "    ax.set_ylabel(\"$x_2$\")\n",
    "    ax.set_title(\"$\\Pr(z={} \\mid x)$\".format(k + 1))\n",
    "plt.show()"
   ]
  }
 ],
 "metadata": {
  "kernelspec": {
   "display_name": "Python 3 (ipykernel)",
   "language": "python",
   "name": "python3"
  },
  "language_info": {
   "codemirror_mode": {
    "name": "ipython",
    "version": 3
   },
   "file_extension": ".py",
   "mimetype": "text/x-python",
   "name": "python",
   "nbconvert_exporter": "python",
   "pygments_lexer": "ipython3",
   "version": "3.7.13"
  }
 },
 "nbformat": 4,
 "nbformat_minor": 5
}
