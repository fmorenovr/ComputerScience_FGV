{
 "cells": [
  {
   "cell_type": "markdown",
   "id": "8f58ad9c",
   "metadata": {},
   "source": [
    "### HomeWork 1\n",
    "\n",
    "Felipe Moreno"
   ]
  },
  {
   "cell_type": "markdown",
   "id": "dc249b5a",
   "metadata": {},
   "source": [
    "### Background\n",
    "\n",
    "In this (hopefully) fun little exercise I will describe a rejection sampling algorithm to sample from a mysterious distribution.\n",
    "Suppose we have the following procedure:\n",
    "\n",
    "* Generate $U_1, U_2 \\sim \\operatorname{Uniform}(0, 1)$, independently;\n",
    "* Compute $Y_1 = -\\log(U1)$ and $Y_2 = -\\log(U2)$.  \n",
    "    If $Y_2 > \\frac{(1-Y_1)^2}{2}$, accept $Y = (Y_1, Y_2)$.  \n",
    "    Else, reject and return to step 1;\n",
    "* Generate $U_3 \\sim \\operatorname{Uniform}(0, 1)$; if $U_3 < 1/2$, set $X = Y_1$, otherwise set $X = -Y_1$.\n",
    "\\end{enumerate}\n",
    "\n",
    "Your job is to analyse this algorithm mathematically, find out its target distribution and work out its acceptance rate. \n"
   ]
  },
  {
   "cell_type": "markdown",
   "id": "a0d5146c",
   "metadata": {},
   "source": [
    "$$f(z) = \\left\\{ \\begin{array}{rcl} \n",
    "\\overline{\\overline{z^2}+\\cos z} & \\mbox{for} & |z|<3 \\\\ \n",
    "0 & \\mbox{for} & 3\\leq|z|\\leq5 \\\\ \n",
    "\\sin\\overline{z} & \\mbox{for} & |z|>5 \n",
    "\\end{array}\n",
    "\\right.$$"
   ]
  },
  {
   "cell_type": "markdown",
   "id": "0703e371",
   "metadata": {},
   "source": [
    "### Questions\n",
    "\n",
    "\n",
    "* What is the distribution of $Y_1$ and $Y_2$?\n",
    "* What is the distribution of the ``mystery'' random variate $X$? \n",
    "* How can one take the output of the algorithm ($X$) and generate $W \\sim \\operatorname{Normal}(\\mu, \\sigma^2)$, with $\\mu \\in \\mathbb{R}$ and $\\sigma^2 \\in \\mathbb{R}_+$?\n",
    "* Can you work out what the acceptance rate of this algorithm is?\n",
    "* (bonus) Can you generalise this algorithm to sample from other distributions? For example, how would you modify the algorithm in order to sample from a Gamma distribution with parameters $a, b \\in \\mathbb{R}_+$?\n",
    " \n",
    "__Hint:__ consider modifying step 2) to accept when $Y_2 > f(Y_1)$ and choose $f$ carefully."
   ]
  }
 ],
 "metadata": {
  "kernelspec": {
   "display_name": "R",
   "language": "R",
   "name": "ir"
  },
  "language_info": {
   "codemirror_mode": "r",
   "file_extension": ".r",
   "mimetype": "text/x-r-source",
   "name": "R",
   "pygments_lexer": "r",
   "version": "3.6.1"
  }
 },
 "nbformat": 4,
 "nbformat_minor": 5
}
