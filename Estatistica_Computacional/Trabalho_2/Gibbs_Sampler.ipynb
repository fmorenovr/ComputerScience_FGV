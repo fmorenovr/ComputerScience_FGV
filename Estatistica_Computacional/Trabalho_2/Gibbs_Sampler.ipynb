{
 "cells": [
  {
   "cell_type": "markdown",
   "id": "bac4771a",
   "metadata": {},
   "source": [
    "### Gibbs Sampler"
   ]
  },
  {
   "cell_type": "code",
   "execution_count": 1,
   "id": "41882e07",
   "metadata": {},
   "outputs": [],
   "source": [
    "import numpy as np"
   ]
  },
  {
   "cell_type": "markdown",
   "id": "7c3e982e",
   "metadata": {},
   "source": [
    "We will estimate:\n",
    "\n",
    "\\begin{equation}\n",
    "f(x,y) = k x^2 \\exp(-xy^2 - y^2 + 2y - 4x)\n",
    "\\end{equation}\n",
    "\n",
    "Using the conditional:\n",
    "\n",
    "\\begin{equation}\n",
    "x|y \\sim Gamma(3, y^2 +4)\n",
    "\\end{equation}\n",
    "\n",
    "\\begin{equation}\n",
    "y|x \\sim Normal(\\frac{1}{1+x}, \\frac{1}{2(1+x)})\n",
    "\\end{equation}\n",
    "\n",
    "__sol__:"
   ]
  },
  {
   "cell_type": "markdown",
   "id": "f35bb27a",
   "metadata": {},
   "source": [
    "* _thin_ parameter means __Thinning__ which consists in picking separated points from the sample, at each k-th step"
   ]
  },
  {
   "cell_type": "code",
   "execution_count": 11,
   "id": "a54f9163",
   "metadata": {},
   "outputs": [],
   "source": [
    "import random"
   ]
  },
  {
   "cell_type": "code",
   "execution_count": 12,
   "id": "a33974b6",
   "metadata": {},
   "outputs": [
    {
     "data": {
      "text/plain": [
       "0.6483156332212223"
      ]
     },
     "execution_count": 12,
     "metadata": {},
     "output_type": "execute_result"
    }
   ],
   "source": [
    "random.gammavariate(3,1.0/(4))"
   ]
  },
  {
   "cell_type": "code",
   "execution_count": 91,
   "id": "b6500c77",
   "metadata": {},
   "outputs": [
    {
     "data": {
      "text/plain": [
       "0.2355169979761833"
      ]
     },
     "execution_count": 91,
     "metadata": {},
     "output_type": "execute_result"
    }
   ],
   "source": [
    "k = 3\n",
    "theta = 1.0/(4)\n",
    "random.gammavariate(k, theta)"
   ]
  },
  {
   "cell_type": "code",
   "execution_count": 103,
   "id": "f99939cc",
   "metadata": {},
   "outputs": [
    {
     "data": {
      "text/plain": [
       "0.9839799358342881"
      ]
     },
     "execution_count": 103,
     "metadata": {},
     "output_type": "execute_result"
    }
   ],
   "source": [
    "np.random.gamma(k, theta)"
   ]
  },
  {
   "cell_type": "code",
   "execution_count": 117,
   "id": "bc117ae2",
   "metadata": {},
   "outputs": [],
   "source": [
    "def gibbs(N=50000,thin=500):\n",
    "    mat = np.zeros((N,2))\n",
    "    x=0\n",
    "    y=0\n",
    "    for i in range(N):\n",
    "        for j in range(thin):\n",
    "            k = 3\n",
    "            theta = 1.0/(y*y+4)\n",
    "            x=np.random.gamma(k,theta)\n",
    "            y=np.random.normal(1.0/(x+1),1.0/np.sqrt(2*x+2))\n",
    "        mat[i] = [x, y]\n",
    "    return mat"
   ]
  },
  {
   "cell_type": "code",
   "execution_count": 116,
   "id": "3363f024",
   "metadata": {},
   "outputs": [
    {
     "name": "stdout",
     "output_type": "stream",
     "text": [
      "Iter  x  y\n"
     ]
    },
    {
     "data": {
      "text/plain": [
       "0.6290128426129445"
      ]
     },
     "execution_count": 116,
     "metadata": {},
     "output_type": "execute_result"
    }
   ],
   "source": [
    "np.mean(gibbs(100))"
   ]
  }
 ],
 "metadata": {
  "kernelspec": {
   "display_name": "Python 3 (ipykernel)",
   "language": "python",
   "name": "python3"
  },
  "language_info": {
   "codemirror_mode": {
    "name": "ipython",
    "version": 3
   },
   "file_extension": ".py",
   "mimetype": "text/x-python",
   "name": "python",
   "nbconvert_exporter": "python",
   "pygments_lexer": "ipython3",
   "version": "3.8.13"
  }
 },
 "nbformat": 4,
 "nbformat_minor": 5
}
