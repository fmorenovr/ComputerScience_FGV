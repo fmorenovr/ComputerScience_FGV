{
 "cells": [
  {
   "cell_type": "markdown",
   "id": "6f5ad3ee",
   "metadata": {},
   "source": [
    "### Problem\n",
    "\n",
    "A large portion of the content of this course is concerned with computing high-dimensional integrals~via simulation.\n",
    "Today you will be introduced to a simple-looking problem with a complicated closed-form solution and one we can approach using simulation.\n",
    "\n",
    "Suppose you have a disc $C_R$ of radius $R$. \n",
    "Take $p = (p_x, p_y)$ and $ q = (q_x, q_y) \\in C_R$ two points in the disk.  \n",
    "Consider the Euclidean distance between $p$  and $q$, $||p-q|| = \\sqrt{(p_x-q_x)^2 + (p_y-q_y)^2} = |p-q|$.\n",
    "\n",
    "__Problem A:__\n",
    "\n",
    "What is the _average_ distance between pairs of points in $C_R$ if they are picked uniformly at random?"
   ]
  },
  {
   "cell_type": "markdown",
   "id": "963153b9",
   "metadata": {},
   "source": [
    "### Part I: nuts and bolts\n",
    "\n",
    "* To start building intuition, let's solve a related but much simpler problem.\n",
    " Consider an interval $[0, s]$, with $s>0$ and take $x_1,x_2 \\in [0, s]$~_uniformly at random_.\n",
    " Show that the average distance between $x_1$ and $x_2$ is $s/3$.\n",
    "\n",
    "__sol__:\n",
    "\n",
    "Let X a random variable uniformly distributed over $[0,S]$, i.e., the probability density function of X is the following:\n",
    "\n",
    "$\n",
    "f_{X}(x) = \n",
    "     \\begin{cases}\n",
    "       \\frac{1}{S} &\\quad\\text{if } x \\in [0, S]\\\\\n",
    "       0 &\\quad\\text{otherwise.} \\\\ \n",
    "     \\end{cases}\n",
    "$\n",
    "\n",
    "Let us randomly pick two points in $[0,S]$ independently. Let us denote those by $X_1$ and $X_2$, which are random variables distributed according to $f_X$. \n",
    "\n",
    "The distance between the two points is a new random variable $Y = |X_1 - X_2|$.\n",
    "\n",
    "Hence, we want to find the expected value $\\mathbb{E}(Y) = \\mathbb{E}(|X_1 - X_2|)$. we can define a function _g_ as follows:\n",
    "\n",
    "$\n",
    "g(x_1,x_2) = |x_1 - x_2| =\n",
    "     \\begin{cases}\n",
    "      x_1 - x_2 &\\quad\\text{if } x_1 \\geq x_2\\\\\n",
    "       x_2 - x_1 &\\quad\\text{otherwise.} \\\\ \n",
    "     \\end{cases}\n",
    "$\n",
    "\n",
    "Besides, since the two points are picked independently, the joint probability density function is the product of the pdf's of $X_1$ and $X_2$, i.e., $f_{X_1,X_2} = f_{X_1}(x_1) f_{X_2}(x_2) = \\frac{1}{S^2}$.\n",
    "\n",
    "Therefore, the expected value $\\mathbb{E}(Y) = \\mathbb{E}(g(X_1, X_2))$ is given by:\n",
    "\n",
    "\\begin{equation}\n",
    "\\mathbb{E}(Y) = \\int_{0}^{S} \\int_{0}^{S} g(x_1, x_2) f_{X_1, X_2} (x_1, x_2) \\,d x_1\\,d x_2 \n",
    "\\end{equation}\n",
    "\n",
    "\\begin{equation}\n",
    "\\mathbb{E}(Y) = \\int_{0}^{S} \\int_{0}^{S} |x_1 - x_2| \\frac{1}{S^2} \\,d x_1\\,d x_2 \n",
    "\\end{equation}\n",
    "\n",
    "\\begin{equation}\n",
    "\\mathbb{E}(Y) = \\frac{1}{S^2} \\int_{0}^{S} \\int_{0}^{x_1} (x_1 - x_2)  \\,d x_2\\,d x_1 + \\frac{1}{S^2} \\int_{0}^{S} \\int_{x_1}^{S} (x_2 - x_1)  \\,d x_2\\,d x_1\n",
    "\\end{equation}\n",
    "\n",
    "\\begin{equation}\n",
    "\\mathbb{E}(Y) = \\frac{1}{S^2} \\frac{S^3}{6} + \\frac{1}{S^2} \\frac{S^3}{6} = \\frac{S}{3}\n",
    "\\end{equation}\n",
    "\n",
    "__Sol__: Numeric"
   ]
  },
  {
   "cell_type": "code",
   "execution_count": 37,
   "id": "67fd0e8f",
   "metadata": {
    "scrolled": true
   },
   "outputs": [
    {
     "data": {
      "text/html": [
       "10.0426157938822"
      ],
      "text/latex": [
       "10.0426157938822"
      ],
      "text/markdown": [
       "10.0426157938822"
      ],
      "text/plain": [
       "[1] 10.04262"
      ]
     },
     "metadata": {},
     "output_type": "display_data"
    }
   ],
   "source": [
    "n<-10000\n",
    "s<-30\n",
    "x<-runif(n,0,s)\n",
    "y<-runif(n,0,s)\n",
    "d<-abs(x-y)\n",
    "distance<-sum(d)/n\n",
    "distance"
   ]
  },
  {
   "cell_type": "markdown",
   "id": "cd19480d",
   "metadata": {},
   "source": [
    "* Show that Problem A is equivalent to computing\n",
    " \\begin{equation*}\n",
    "  I = \\frac{1}{\\pi^2 R^4}\\int_{0}^{R}\\int_{0}^{R}\\int_{0}^{2\\pi}\\int_{0}^{2\\pi}\\sqrt{r_1^2 + r_2^2 - 2r_1r_2\\cos\\phi(\\theta_1, \\theta_2)}r_1r_2\\,d\\theta_1\\,d\\theta_2\\,dr_1\\,dr_2,\n",
    " \\end{equation*}\n",
    " where $\\phi(\\theta_1, \\theta_2)$ is the central angle between $r_1$ and $r_2$.\n",
    " \n",
    " __Hint:__ Draw a picture.\n",
    "\n",
    "__sol__:\n",
    "\n",
    "From polar coordinates theory, in general any function f(x, y) with area A, we wan calculate the area as follows:\n",
    "\n",
    "\\begin{equation*}\n",
    "  A = \\iint\\limits_\\mathbb{R} f(x,y)\\,dx\\,dy\n",
    " \\end{equation*}\n",
    "\n",
    "So, we can be rewrite that using polar coordinates as $f(r, \\theta)$ using x as p and y as q:\n",
    "\n",
    "\\begin{equation*}\n",
    "  A = \\int_0^{\\theta} \\int_0^{R} f(r,\\theta)\\,r\\,dr\\,d\\theta\n",
    " \\end{equation*}\n",
    "\n",
    "So, lets transform to polars:\n",
    "\n",
    "$p = (r_1 \\cos(\\theta_1), r_1 \\sin(\\theta_1) )$ and $q = (r_2 \\cos(\\theta_2), r_2 \\sin(\\theta_2) )$ where:\n",
    "\n",
    "$r_1 = \\sqrt{p_x^2 + p_y^2}$ and $r_2 = \\sqrt{q_x^2 + q_y^2}$\n",
    "\n",
    "$||p-q|| = \\sqrt{(r_1^2 \\cos(\\theta_1)^2 + r_2^2 \\cos(\\theta_2)^2 - 2 r_1 r_2 \\cos(\\theta_1) \\cos(\\theta_2) ) + (r_1^2 \\sin(\\theta_1)^2 + r_2^2 \\sin(\\theta_2)^2 - 2 r_1 r_2 \\sin(\\theta_1) \\sin(\\theta_2) )}$\n",
    "\n",
    "$||p-q|| = \\sqrt{r_1^2 + r_2^2 - 2 r_1 r_2 (\\cos(\\theta_1) \\cos(\\theta_2) + \\sin(\\theta_1) \\sin(\\theta_2) )}$\n",
    "\n",
    "$||p-q|| = \\sqrt{r_1^2 + r_2^2 - 2 r_1 r_2 \\cos(\\theta_1 - \\theta_2) }$\n",
    "\n",
    "So, remplacing results we have two points in $\\mathbb{R}^2$ p and q using euclidean distance: \n",
    "\n",
    "\\begin{equation}\n",
    "\\iint\\limits_\\mathbb{R} ||x-y|| \\,dx\\,dy = \\iint \\limits_{r_1, \\theta_1} \\iint \\limits_{r_2, \\theta_2} ||x-y|| \\,r_1\\,r_2\\,d\\theta_1\\,d\\theta_2\n",
    "\\end{equation}\n",
    "\n",
    "\n",
    "Besides, our sampling methods tell us how to calculate the _average_ or expectation as follows: \n",
    "\n",
    "\\begin{equation}\n",
    "E[||x-y||] = \\frac{\\iint \\limits_{r_1, \\theta_1} \\iint \\limits_{r_2, \\theta_2} ||x-y|| \\,r_1\\,r_2\\,d\\theta_1\\,d\\theta_2}{\\iint \\limits_{r_1, \\theta_1} \\iint \\limits_{r_2, \\theta_2} \\,r_1\\,r_2\\,d\\theta_1\\,d\\theta_2}\n",
    "\\end{equation}\n",
    "\n",
    "Where second term refers all possible points to take, so our final result is:\n",
    "\n",
    "\\begin{equation}\n",
    "E[||x-y||] = \\frac{1}{\\pi^2 R^4} \\iint \\limits_{r_1, \\theta_1} \\iint \\limits_{r_2, \\theta_2} \\sqrt{r_1^2 + r_2^2 - 2r_1r_2\\cos(\\theta_1 - \\theta_2)} \\,r_1\\,r_2\\,d\\theta_1\\,d\\theta_2 \\,r_1\\,r_2\\,d\\theta_1\\,d\\theta_2\n",
    "\\end{equation}"
   ]
  },
  {
   "cell_type": "markdown",
   "id": "0bca45f5",
   "metadata": {},
   "source": [
    "* Compute $I$ in closed-form.  \n",
    "__Hint:__ Look up _Crofton's mean value theorem_ or _Crofton's formula_. \n",
    "\n",
    "From the Crofton formula in polar coordinates, where r is distance from origin and $\\theta$ direction/orientation, is defined as all intersection of lines: \n",
    "\n",
    "\\begin{equation}\n",
    "     area(S) = C_n \\iint \\eta(r, \\theta)\\,dr \\,d\\theta\n",
    "\\end{equation}\n",
    "\n",
    "Where:\n",
    "\n",
    "$C_n = \\frac{1}{2 |\\text{unit ball in } \\mathbb{R^{n-1}} |} = \\frac{\\Gamma(\\frac{n+1}{2})}{2\\pi^{\\frac{n-1}{2}} }$\n",
    "\n",
    "For the case of $R^2$ we have:\n",
    "\n",
    "\\begin{equation}\n",
    "area(S) = \\frac{1}{2} \\iint \\eta(r, \\theta)\\,dr\\,d\\theta\n",
    "\\end{equation}\n",
    "\n",
    "So, in this case, all intersection for an $r \\leq R$ will have $2r\\sin(\\frac{\\theta}{2})$ points and 0 for $r \\gt R$, so we have:\n",
    "\n",
    "\\begin{equation}\n",
    "area(S) = \\frac{1}{2} \\int_0^{R} \\int_0^{\\pi} 2r\\sin(\\frac{\\theta}{2}) \\,dr\\,d\\theta\n",
    "\\end{equation}"
   ]
  },
  {
   "cell_type": "code",
   "execution_count": null,
   "id": "a7e5e2b3",
   "metadata": {},
   "outputs": [],
   "source": []
  },
  {
   "cell_type": "markdown",
   "id": "b0888e9e",
   "metadata": {},
   "source": [
    "__sol:__\n",
    "\n",
    "In order to simulate the points p and q, we will use the _uniform distribution_ as:\n",
    "\n",
    "* For each sample $x_i = (a_i, b_i)$ we define two numbers $u_1, u_2 \\sim \\mathcal{U}_{[0,1]}$\n",
    "* Assign values to $a_i=\\sqrt{-2\\log{u_1}}$ and $b_i=2\\pi u_2$\n",
    "* Tendo $a, b \\sim \\mathcal{N}(0,\\,1)$\n",
    "\n",
    "* $\\sqrt{r} \\sim \\mathcal{U}_{[0,1]}$ and $\\theta \\sim \\mathcal{U}_{[0,2\\pi]}$"
   ]
  }
 ],
 "metadata": {
  "kernelspec": {
   "display_name": "R",
   "language": "R",
   "name": "ir"
  },
  "language_info": {
   "codemirror_mode": "r",
   "file_extension": ".r",
   "mimetype": "text/x-r-source",
   "name": "R",
   "pygments_lexer": "r",
   "version": "3.6.1"
  }
 },
 "nbformat": 4,
 "nbformat_minor": 5
}
