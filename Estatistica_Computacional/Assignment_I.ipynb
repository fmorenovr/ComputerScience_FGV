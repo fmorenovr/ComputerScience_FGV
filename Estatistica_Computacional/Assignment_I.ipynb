{
 "cells": [
  {
   "cell_type": "markdown",
   "id": "6f5ad3ee",
   "metadata": {},
   "source": [
    "### Problem\n",
    "\n",
    "A large portion of the content of this course is concerned with computing high-dimensional integrals~via simulation.\n",
    "Today you will be introduced to a simple-looking problem with a complicated closed-form solution and one we can approach using simulation.\n",
    "\n",
    "Suppose you have a disc $C_R$ of radius $R$. \n",
    "Take $p = (p_x, p_y)$ and $ q = (q_x, q_y) \\in C_R$ two points in the disk.  \n",
    "Consider the Euclidean distance between $p$  and $q$, $||p-q|| = \\sqrt{(p_x-q_x)^2 + (p_y-q_y)^2} = |p-q|$.\n",
    "\n",
    "__Problem A:__\n",
    "\n",
    "What is the _average_ distance between pairs of points in $C_R$ if they are picked uniformly at random?"
   ]
  },
  {
   "cell_type": "markdown",
   "id": "963153b9",
   "metadata": {},
   "source": [
    "### Part I: nuts and bolts\n",
    "\n",
    "* To start building intuition, let's solve a related but much simpler problem.\n",
    " Consider an interval $[0, s]$, with $s>0$ and take $x_1,x_2 \\in [0, s]$~_uniformly at random_.\n",
    " Show that the average distance between $x_1$ and $x_2$ is $s/3$.\n",
    "\n",
    "__sol__:\n",
    "\n",
    "Let X a random variable uniformly distributed over $[0,S]$, i.e., the probability density function of X is the following:\n",
    "\n",
    "$\n",
    "f_{X}(x) = \n",
    "     \\begin{cases}\n",
    "       \\frac{1}{S} &\\quad\\text{if } x \\in [0, S]\\\\\n",
    "       0 &\\quad\\text{otherwise.} \\\\ \n",
    "     \\end{cases}\n",
    "$\n",
    "\n",
    "Let us randomly pick two points in $[0,S]$ independently. Let us denote those by $X_1$ and $X_2$, which are random variables distributed according to $f_X$. \n",
    "\n",
    "The distance between the two points is a new random variable $Y = |X_1 - X_2|$.\n",
    "\n",
    "Hence, we want to find the expected value $\\mathbb{E}(Y) = \\mathbb{E}(|X_1 - X_2|)$. we can define a function _g_ as follows:\n",
    "\n",
    "$\n",
    "g(x_1,x_2) = |x_1 - x_2| =\n",
    "     \\begin{cases}\n",
    "      x_1 - x_2 &\\quad\\text{if } x_1 \\geq x_2\\\\\n",
    "       x_2 - x_1 &\\quad\\text{otherwise.} \\\\ \n",
    "     \\end{cases}\n",
    "$\n",
    "\n",
    "Besides, since the two points are picked independently, the joint probability density function is the product of the pdf's of $X_1$ and $X_2$, i.e., $f_{X_1,X_2} = f_{X_1}(x_1) f_{X_2}(x_2) = \\frac{1}{S^2}$.\n",
    "\n",
    "Therefore, the expected value $\\mathbb{E}(Y) = \\mathbb{E}(g(X_1, X_2))$ is given by:\n",
    "\n",
    "\\begin{equation}\n",
    "\\mathbb{E}(Y) = \\int_{0}^{S} \\int_{0}^{S} g(x_1, x_2) f_{X_1, X_2} (x_1, x_2) \\,d x_1\\,d x_2 \n",
    "\\end{equation}\n",
    "\n",
    "\\begin{equation}\n",
    "\\mathbb{E}(Y) = \\int_{0}^{S} \\int_{0}^{S} |x_1 - x_2| \\frac{1}{S^2} \\,d x_1\\,d x_2 \n",
    "\\end{equation}\n",
    "\n",
    "\\begin{equation}\n",
    "\\mathbb{E}(Y) = \\frac{1}{S^2} \\int_{0}^{S} \\int_{0}^{x_1} (x_1 - x_2)  \\,d x_2\\,d x_1 + \\frac{1}{S^2} \\int_{0}^{S} \\int_{x_1}^{S} (x_2 - x_1)  \\,d x_2\\,d x_1\n",
    "\\end{equation}\n",
    "\n",
    "\\begin{equation}\n",
    "\\mathbb{E}(Y) = \\frac{1}{S^2} \\frac{S^3}{6} + \\frac{1}{S^2} \\frac{S^3}{6} = \\frac{S}{3}\n",
    "\\end{equation}\n",
    "\n",
    "__Sol__: Numeric"
   ]
  },
  {
   "cell_type": "code",
   "execution_count": 37,
   "id": "67fd0e8f",
   "metadata": {
    "scrolled": true
   },
   "outputs": [
    {
     "data": {
      "text/html": [
       "10.0426157938822"
      ],
      "text/latex": [
       "10.0426157938822"
      ],
      "text/markdown": [
       "10.0426157938822"
      ],
      "text/plain": [
       "[1] 10.04262"
      ]
     },
     "metadata": {},
     "output_type": "display_data"
    }
   ],
   "source": [
    "n<-10000\n",
    "s<-30\n",
    "x<-runif(n,0,s)\n",
    "y<-runif(n,0,s)\n",
    "d<-abs(x-y)\n",
    "distance<-sum(d)/n\n",
    "distance"
   ]
  },
  {
   "cell_type": "markdown",
   "id": "cd19480d",
   "metadata": {},
   "source": [
    "* Show that Problem A is equivalent to computing\n",
    " \\begin{equation*}\n",
    "  I = \\frac{1}{\\pi^2 R^4}\\int_{0}^{R}\\int_{0}^{R}\\int_{0}^{2\\pi}\\int_{0}^{2\\pi}\\sqrt{r_1^2 + r_2^2 - 2r_1r_2\\cos\\phi(\\theta_1, \\theta_2)}r_1r_2\\,d\\theta_1\\,d\\theta_2\\,dr_1\\,dr_2,\n",
    " \\end{equation*}\n",
    " where $\\phi(\\theta_1, \\theta_2)$ is the central angle between $r_1$ and $r_2$.\n",
    " \n",
    " __Hint:__ Draw a picture.\n",
    "\n",
    "__sol__:\n",
    "\n",
    "From polar coordinates theory, in general any function f(x, y) with area A, we wan calculate the area as follows:\n",
    "\n",
    "\\begin{equation*}\n",
    "  A = \\iint\\limits_\\mathbb{R} f(x,y)\\,dx\\,dy\n",
    " \\end{equation*}\n",
    "\n",
    "So, we can be rewrite that using polar coordinates as $f(r, \\theta)$ using x as p and y as q:\n",
    "\n",
    "\\begin{equation*}\n",
    "  A = \\int_0^{\\theta} \\int_0^{R} f(r,\\theta)\\,r\\,dr\\,d\\theta\n",
    " \\end{equation*}\n",
    "\n",
    "So, lets transform to polars:\n",
    "\n",
    "Let $p = (r_1 \\cos(\\theta_1), r_1 \\sin(\\theta_1) )$ and $q = (r_2 \\cos(\\theta_2), r_2 \\sin(\\theta_2) )$ where:\n",
    "\n",
    "$r_1 = \\sqrt{p_x^2 + p_y^2}$ and $r_2 = \\sqrt{q_x^2 + q_y^2}$\n",
    "\n",
    "$||p-q|| = \\sqrt{(r_1^2 \\cos(\\theta_1)^2 + r_2^2 \\cos(\\theta_2)^2 - 2 r_1 r_2 \\cos(\\theta_1) \\cos(\\theta_2) ) + (r_1^2 \\sin(\\theta_1)^2 + r_2^2 \\sin(\\theta_2)^2 - 2 r_1 r_2 \\sin(\\theta_1) \\sin(\\theta_2) )}$\n",
    "\n",
    "$||p-q|| = \\sqrt{r_1^2 + r_2^2 - 2 r_1 r_2 (\\cos(\\theta_1) \\cos(\\theta_2) + \\sin(\\theta_1) \\sin(\\theta_2) )}$\n",
    "\n",
    "$||p-q|| = \\sqrt{r_1^2 + r_2^2 - 2 r_1 r_2 \\cos(\\theta_1 - \\theta_2) }$\n",
    "\n",
    "So, remplacing results we have two points in $\\mathbb{R}^2$ p and q using euclidean distance: \n",
    "\n",
    "\\begin{equation}\n",
    "\\iint\\limits_\\mathbb{R} ||x-y|| \\,dx\\,dy = \\iint \\limits_{r_1, \\theta_1} \\iint \\limits_{r_2, \\theta_2} \\sqrt{r_1^2 + r_2^2 - 2 r_1 r_2 \\cos(\\theta_1 - \\theta_2) } \\,r_1\\,r_2\\,d\\theta_1\\,d\\theta_2\n",
    "\\end{equation}\n",
    "\n",
    "Besides, our sampling methods tell us how to calculate the _average_ or expectation as follows: \n",
    "\n",
    "\\begin{equation}\n",
    "E[||x-y||] = \\frac{\\iint\\limits_\\mathbb{R} ||x-y|| \\,dx\\,dy}{\\text{Total Area}} = \\frac{\\iint \\limits_{r_1, \\theta_1} \\iint \\limits_{r_2, \\theta_2} \\sqrt{r_1^2 + r_2^2 - 2 r_1 r_2 \\cos(\\theta_1 - \\theta_2) } \\,r_1\\,r_2\\,d\\theta_1\\,d\\theta_2}{\\iint \\limits_{r_1, \\theta_1} \\iint \\limits_{r_2, \\theta_2} \\,r_1\\,r_2\\,d\\theta_1\\,d\\theta_2}\n",
    "\\end{equation}\n",
    "\n",
    "Where second term refers all possible points to take, so our final result is:\n",
    "\n",
    "\\begin{equation}\n",
    " I = E[||x-y||] = \\frac{1}{\\pi^2 R^4} \\iint \\limits_{r_1, \\theta_1} \\iint \\limits_{r_2, \\theta_2} \\sqrt{r_1^2 + r_2^2 - 2r_1r_2\\cos(\\theta_1 - \\theta_2)} \\,r_1\\,r_2\\,d\\theta_1\\,d\\theta_2 \\,r_1\\,r_2\\,d\\theta_1\\,d\\theta_2\n",
    "\\end{equation}"
   ]
  },
  {
   "cell_type": "markdown",
   "id": "0bca45f5",
   "metadata": {},
   "source": [
    "* Compute $I$ in closed-form.  \n",
    "__Hint:__ Look up _Crofton's mean value theorem_ or _Crofton's formula_. \n",
    "\n",
    "__sol__:\n",
    "\n",
    "We define a function $f(R)$ as the _average distance_ in a disc with radius $R$. From this, we note that $f(R)$ is proportional to $R$ this means that if we __decrease__ the radius $R$, the _average distance_ $f(R)$ also __decrease__.\n",
    "\n",
    "So, we can define $f(R)=kR$ and if $R=1$ we have $f(1) = k = f'(R)$. In order to find $k$ we need to calculate this term:\n",
    "\n",
    "\\begin{equation}\n",
    "\\lim_{\\delta R \\to 0} \\frac{f(R) - f(R - \\delta R)}{\\delta R}\n",
    "\\end{equation}\n",
    "\n",
    "Define as the new distance after apply $f()$ divided by the original distance $\\delta R$: scaling factor.\n",
    "\n",
    "__Note__: We select the expression $f(R) - f(R - \\delta R)$ instead of $f(R + \\delta R) - f(R)$ because we want to evaluate the internal region (see Fig.)"
   ]
  },
  {
   "cell_type": "markdown",
   "id": "414f931f",
   "metadata": {},
   "source": [
    "<img src=\"images/circle_radius_R.png\" height=300 width=300></img>"
   ]
  },
  {
   "cell_type": "markdown",
   "id": "077ede3a",
   "metadata": {},
   "source": [
    "From Figure, we got 3 different situations: two points inside $\\delta R$ evaluated by $f()$, one point inside and one out evaluated by other function $g()$, and two out evaluated by other function $h()$. See Table to summary the idea:\n",
    "\n",
    "<table>\n",
    "    <tr>\n",
    "        <td>\n",
    "\\begin{eqnarray}\n",
    "            \\\\\n",
    "2 in \\\\\n",
    "1 in, 1 out\\\\\n",
    "2 out\n",
    "\\end{eqnarray}\n",
    "        </td>\n",
    "        <td>\n",
    "\\begin{eqnarray}\n",
    " \\textit{Average distance} \\\\\n",
    "f(R - \\delta R) \\\\\n",
    "g(R, R - \\delta R) \\\\\n",
    "h(R, R - \\delta R) \\\\\n",
    "\\end{eqnarray}\n",
    "        </td>\n",
    "        <td>\n",
    "\\begin{eqnarray}\n",
    " \\textit{Weight} \\\\\n",
    "\\alpha \\\\\n",
    "\\beta \\\\\n",
    "\\gamma \\\\\n",
    "\\end{eqnarray}\n",
    "        </td>\n",
    "    </tr>\n",
    "</table>\n",
    "\n",
    "Using the __Law of total Expectation__ our final is the weighted avergae of $f(R) = \\alpha \\times f(R - \\delta R) + \\beta \\times g(R - \\delta R)  + \\gamma \\times h(R, R - \\delta R)$.\n",
    "\n",
    "Let's define our probabilities such as: \n",
    "\n",
    "\\begin{equation}\n",
    "P(\\mathbb{1}\\text{ point inside}) = \\frac{\\text{Area Inner disc }R - \\delta R }{\\text{Area disc }R} = \\frac{\\pi  (R - \\delta R)^2}{\\pi R^2 } = \\frac{(R - \\delta R)^2}{R^2 } \\\\\n",
    "P(\\mathbb{1}\\text{ point outside}) = 1-\\frac{(R - \\delta R)^2}{R^2 }\n",
    "\\end{equation}\n",
    "\n",
    "Since we know that each point is an indenpent event, we evaluate for each case defined in Table we have:\n",
    "\n",
    "__First case__: Two points inside:\n",
    "\\begin{equation}\n",
    "P(\\mathbb{2}\\text{ points inside}) = P(\\mathbb{1}\\text{ point inside}) \\times P(\\mathbb{1}\\text{ point inside}) \\\\\n",
    "P(\\mathbb{2}\\text{ points inside}) = \\frac{(R - \\delta R)^2}{R^2 } \\times \\frac{(R - \\delta R)^2}{R^2 } \\\\\n",
    "P(\\mathbb{2}\\text{ points inside}) = \\frac{R^4 - 4R^3(\\delta R) + 6R^2 (\\delta R)^2 - 4R(\\delta R)^3 + (\\delta R)^4}{R^4 } \\\\\n",
    "P(\\mathbb{2}\\text{ points inside}) \\approx 1 - \\frac{4\\delta R}{R} + o(\\delta R)\\\\\n",
    "\\alpha = 1 - \\frac{4\\delta R}{R}\n",
    "\\end{equation}\n",
    "\n",
    "__Second case__: One point inside and one outside:\n",
    "\\begin{equation}\n",
    "P(\\mathbb{1}\\text{ point inside and }\\mathbb{1}\\text{ point outside}) = P(\\mathbb{1}\\text{ point inside}) \\times P(\\mathbb{1}\\text{ point outside})\\\\\n",
    "P(\\mathbb{1}\\text{ point inside and }\\mathbb{1}\\text{ point outside}) = \\frac{(R - \\delta R)^2}{R^2 } \\times (1-\\frac{(R - \\delta R)^2}{R^2 })\\\\\n",
    "P(\\mathbb{1}\\text{ point inside and }\\mathbb{1}\\text{ point outside}) = (\\frac{(R - \\delta R)^2}{R^2 } - (\\frac{(R - \\delta R)^2}{R^2 })^2) \\\\\n",
    "P(\\mathbb{1}\\text{ point inside and }\\mathbb{1}\\text{ point outside}) = 1 - 2 \\frac{\\delta R}{R} + \\frac{(\\delta R)^2}{R^2 } - (1 - \\frac{4\\delta R}{R} + o(\\delta R)) \\\\\n",
    "P(\\mathbb{1}\\text{ point inside and }\\mathbb{1}\\text{ point outside}) = 2 \\frac{\\delta R}{R} + \\frac{(\\delta R)^2}{R^2} + o(\\delta R)) \\\\\n",
    "P(\\mathbb{1}\\text{ point inside and }\\mathbb{1}\\text{ point outside}) \\approx \\frac{2\\delta R}{R} + o(\\delta R)\n",
    "\\end{equation}\n",
    "\n",
    "But this happen twice, so we have:\n",
    "\n",
    "\\begin{equation}\n",
    "P(\\mathbb{1}\\text{ point inside and }\\mathbb{1}\\text{ point outside}) \\approx \\frac{4\\delta R}{R} + o(\\delta R)\\\\\n",
    "\\beta = \\frac{4\\delta R}{R}\n",
    "\\end{equation}\n",
    "\n",
    "__Third case__: Two points outside\n",
    "\\begin{equation}\n",
    "P(\\mathbb{2}\\text{ points outside}) = P(\\mathbb{1}\\text{ point outside}) \\times P(\\mathbb{1}\\text{ point outside}) \\\\\n",
    "P(\\mathbb{2}\\text{ points outside}) = (1-\\frac{(R - \\delta R)^2}{R^2 }) \\times (1-\\frac{(R - \\delta R)^2}{R^2 })\\\\\n",
    "P(\\mathbb{2}\\text{ points outside}) \\approx 4\\frac{(\\delta R)^2}{R^2} + o(\\delta R) \\approx 0\\\\\n",
    "\\gamma = 0\n",
    "\\end{equation}\n",
    "\n",
    "As you note, for powers of $\\delta R$ we assume 0, because in our limit ${\\delta R \\to 0}$."
   ]
  },
  {
   "cell_type": "markdown",
   "id": "77d37a5f",
   "metadata": {},
   "source": [
    "Finally, we calculate our $f(R)$ (eliminating all o(R)) as:\n",
    "\n",
    "\\begin{equation}\n",
    "f(R) \\approx (1 - \\frac{4\\delta R}{R}) \\times f(R - \\delta R) + \\frac{4\\delta R}{R} \\times g(R, R - \\delta R) \\\\\n",
    "f(R) - f(R - \\delta R) \\approx -\\frac{4\\delta R}{R} \\times f(R - \\delta R) + \\frac{4\\delta R}{R} \\times g(R, R - \\delta R) \\\\\n",
    "f(R) - f(R - \\delta R) \\approx \\delta R \\times \\frac{4}{R} (g(R, R - \\delta R) - f(R - \\delta R) ) \\\\\n",
    "\\frac{f(R) - f(R - \\delta R)}{\\delta R} \\approx \\frac{4}{R} (g(R, R - \\delta R) - f(R - \\delta R) ) \\\\\n",
    "\\end{equation}\n",
    "\n",
    "This expression is similar to our derivate, so doing $\\lim_{\\delta R \\to 0}$ we have:\n",
    "\n",
    "\\begin{equation}\n",
    "f'(R) = \\frac{4}{R} (g(R, R) - f(R))\\\\\n",
    "f'(R) = - \\frac{4}{R} f(R) + \\frac{4}{R} g(R, R)\n",
    "\\end{equation}\n",
    "\n",
    "This is the _Crofton's differential equation formula_."
   ]
  },
  {
   "cell_type": "markdown",
   "id": "22cdfcdf",
   "metadata": {},
   "source": [
    "Finally, we need to calculate the value of the function $g(R,R)$. Since we define a $g()$ as the distance between one point inside and one outside, when $\\delta R \\to 0$ the second point $R-\\delta R$ goes to the disc contour (edge). This means to calculate the average distance between a random point inside the disc and the edge. \n",
    "\n",
    "We can do this calculating the average distance $\\rho$ using polar coordinates:\n",
    "\n",
    "\\begin{equation*}\n",
    "  g(R, R) = \\text{Distance of random point inner to the edge} \\\\\n",
    "  g(R, R) = \\frac{1}{\\pi R^2} \\int_{-\\pi/2}^{\\pi/2} \\int_0^{2R\\cos (\\theta)} \\rho\\,\\rho\\,d\\rho\\,d\\theta\\\\\n",
    "  g(R, R) = \\frac{32 R}{9\\pi}\n",
    " \\end{equation*}"
   ]
  },
  {
   "cell_type": "markdown",
   "id": "c6a7d783",
   "metadata": {},
   "source": [
    "Then, replacing in the _Crofton's differential equation formula_:\n",
    "\n",
    "\\begin{equation}\n",
    "f'(R) = - \\frac{4}{R} f(R) + \\frac{4}{R} g(R, R) \\\\\n",
    "k = - \\frac{4}{R} kR + \\frac{4}{R} \\frac{32R}{9\\pi} \\\\\n",
    "k = \\frac{128}{45\\pi} \\\\\n",
    "\\end{equation}\n",
    "\n",
    "Finally, we find that:\n",
    "\n",
    "\\begin{equation}\n",
    " I = \\frac{1}{\\pi^2 R^4} \\iint \\limits_{r_1, \\theta_1} \\iint \\limits_{r_2, \\theta_2} \\sqrt{r_1^2 + r_2^2 - 2r_1r_2\\cos(\\theta_1 - \\theta_2)} \\,r_1\\,r_2\\,d\\theta_1\\,d\\theta_2 \\,r_1\\,r_2\\,d\\theta_1\\,d\\theta_2\\\\\n",
    " I = \\frac{128R}{45\\pi}\n",
    "\\end{equation}"
   ]
  },
  {
   "cell_type": "code",
   "execution_count": 16,
   "id": "6095fdd2",
   "metadata": {},
   "outputs": [],
   "source": [
    "# From Figure, we got 3 different situations: two points inside $\\delta R$, one point inside and one out, and two out. See Table to summary the idea:\n",
    "\n",
    "# <table>\n",
    "#     <tr>\n",
    "#         <td>\n",
    "# \\begin{eqnarray}\n",
    "# \\nabla \\times \\vec{\\mathbf{B}} -\\, \\frac1c\\, \\frac{\\partial\\vec{\\mathbf{E}}}{\\partial t} & = \\frac{4\\pi}{c}\\vec{\\mathbf{j}} \\\\\n",
    "# \\nabla \\cdot \\vec{\\mathbf{E}} & = 4 \\pi \\rho \\\\\n",
    "# \\end{eqnarray}\n",
    "#         </td>\n",
    "#         <td>\n",
    "# \\begin{eqnarray}\n",
    "# \\nabla \\times \\vec{\\mathbf{E}}\\, +\\, \\frac1c\\, \\frac{\\partial\\vec{\\mathbf{B}}}{\\partial t} & = \\vec{\\mathbf{0}} \\\\\n",
    "# \\nabla \\cdot \\vec{\\mathbf{B}} & = 0\n",
    "# \\end{eqnarray}\n",
    "#         </td>\n",
    "#     </tr>\n",
    "# </table>"
   ]
  },
  {
   "cell_type": "markdown",
   "id": "966cbead",
   "metadata": {},
   "source": [
    "### Part II -- getting your hands dirty\n",
    "\n",
    "Now we will move on to implementation.\n",
    "\n",
    "__Problem B:__\n",
    "\n",
    "Employ a simulation algorithm to approximate $\\textit{I}$ . Provide point and interval estimates and give theoretical guarantees about them (consistency, coverage, etc)."
   ]
  },
  {
   "cell_type": "markdown",
   "id": "7dcf5c52",
   "metadata": {},
   "source": [
    "* Represent $I$ as $\\int_{\\mathcal{X}} \\phi(x)\\pi(x)\\,dx$ and justify your choice of $\\phi$, $\\pi$ and $\\mathcal{X}$.\n",
    " Recall that these choices are arbitrary up to a point, but they might lead to wildly different empirical performances __and__ theoretical properties for estimators of $I$.\n",
    " \n",
    " __Justify__ your choices in light of the method you have been given to work with.\n",
    " Choose wisely and be rigorous in your justifications.\n",
    " \n",
    "__sol__:\n",
    "\n",
    "We start from $I = \\int_{\\mathcal{X}} f(x)\\,dx = \\int_{\\mathcal{X}} \\phi(x)\\pi(x)\\,dx$ where $\\pi$ is the probability density function on $\\mathcal{X}$ and:\n",
    "\n",
    "\\begin{equation}\n",
    "\\phi:\\, x \\to f(x)/\\pi(x)\n",
    "\\end{equation}\n",
    "\n",
    "We want to estimate $\\phi$ by __Gibbs Sampling__. To do this, we will use the transformation method of Box Muller with $\\pi(x)$ as a __Gaussian Distribution__.\n",
    "\n",
    "We define $\\pi(x, y) = \\frac{1}{2\\pi} \\exp^{\\frac{- (x^2 + y^2)}{2}} \\sim \\mathcal{N}(0,\\,1)\\,$. Where $x^2+y^2 = R^2$\n",
    "\n",
    "\n",
    "\n",
    "First, we want to generate random numbers $\\mathcal{X}_1, \\mathcal{X}_2, \\dots, \\mathcal{X_n}$.  \n",
    "Each $\\mathcal{X}_i = (r_i\\cos(\\theta_i), r_i\\sin(\\theta_i)))$ where $r_i\\in [0, R]$ and $\\theta_i \\in [0, 2\\pi]$.\n",
    "\n",
    "So, to simulate $r_i$ and $\\theta_i$ we use $P(\\sqrt{r_i} < R) = R^2$ and $P(\\theta_i < \\theta) = \\theta/2\\pi$."
   ]
  },
  {
   "cell_type": "code",
   "execution_count": 354,
   "id": "05505b5f",
   "metadata": {},
   "outputs": [
    {
     "data": {
      "text/html": [
       "4.22828587919494"
      ],
      "text/latex": [
       "4.22828587919494"
      ],
      "text/markdown": [
       "4.22828587919494"
      ],
      "text/plain": [
       "[1] 4.228286"
      ]
     },
     "metadata": {},
     "output_type": "display_data"
    },
    {
     "data": {
      "text/html": [
       "0.0114654398324327"
      ],
      "text/latex": [
       "0.0114654398324327"
      ],
      "text/markdown": [
       "0.0114654398324327"
      ],
      "text/plain": [
       "[1] 0.01146544"
      ]
     },
     "metadata": {},
     "output_type": "display_data"
    },
    {
     "data": {
      "text/html": [
       "1.24689352646043"
      ],
      "text/latex": [
       "1.24689352646043"
      ],
      "text/markdown": [
       "1.24689352646043"
      ],
      "text/plain": [
       "[1] 1.246894"
      ]
     },
     "metadata": {},
     "output_type": "display_data"
    },
    {
     "data": {
      "text/html": [
       "6.27981589963024"
      ],
      "text/latex": [
       "6.27981589963024"
      ],
      "text/markdown": [
       "6.27981589963024"
      ],
      "text/plain": [
       "[1] 6.279816"
      ]
     },
     "metadata": {},
     "output_type": "display_data"
    },
    {
     "data": {
      "text/html": [
       "0.00156710856779065"
      ],
      "text/latex": [
       "0.00156710856779065"
      ],
      "text/markdown": [
       "0.00156710856779065"
      ],
      "text/plain": [
       "[1] 0.001567109"
      ]
     },
     "metadata": {},
     "output_type": "display_data"
    },
    {
     "data": {
      "text/html": [
       "3.11787816945361"
      ],
      "text/latex": [
       "3.11787816945361"
      ],
      "text/markdown": [
       "3.11787816945361"
      ],
      "text/plain": [
       "[1] 3.117878"
      ]
     },
     "metadata": {},
     "output_type": "display_data"
    }
   ],
   "source": [
    "n = 10000\n",
    "R = 10\n",
    "thetas <- 2*pi* runif(n, min = 0, max = 1)\n",
    "rs <- sqrt(-log(runif(n, min = 0, max = 1)) / (1/2)  )\n",
    "#rs <- R*sqrt(runif(n, min = 0, max = 1)  )\n",
    "max(rs); min(rs); mean(rs); max(thetas); min(thetas); mean(thetas)"
   ]
  },
  {
   "cell_type": "code",
   "execution_count": 359,
   "id": "f44bdd9e",
   "metadata": {},
   "outputs": [
    {
     "ename": "ERROR",
     "evalue": "Error in samples[i, 1] <- X: object 'i' not found\n",
     "output_type": "error",
     "traceback": [
      "Error in samples[i, 1] <- X: object 'i' not found\nTraceback:\n"
     ]
    }
   ],
   "source": [
    "X <- rs*cos(thetas)\n",
    "Y <- rs*sin(thetas)\n",
    "samples <- matrix(ncol=2,nrow=n)\n",
    "samples[i,1] <- X\n",
    "samples[i,2] <- Y"
   ]
  },
  {
   "cell_type": "code",
   "execution_count": 364,
   "id": "4d06df2b",
   "metadata": {},
   "outputs": [
    {
     "ename": "ERROR",
     "evalue": "Error in library(ggplot2): there is no package called 'ggplot2'\n",
     "output_type": "error",
     "traceback": [
      "Error in library(ggplot2): there is no package called 'ggplot2'\nTraceback:\n",
      "1. library(ggplot2)"
     ]
    }
   ],
   "source": [
    "library(ggplot2)\n",
    "mullerbt <- function(){\n",
    " n <- 10^4\n",
    " samples <- matrix(ncol=2,nrow=n)\n",
    " for (i in 1:n){\n",
    " u1 <- runif(1)\n",
    " u2 <- runif(1)\n",
    " R <- sqrt(-2*log(1-u1))\n",
    " theta <- 2*pi*u2\n",
    " X <- R*cos(theta)\n",
    " Y <- R*sin(theta)\n",
    " samples[i,1] <- X\n",
    " samples[i,2] <- Y\n",
    " }\n",
    " norm01 <- rnorm(n)\n",
    " label <- rep(c(\"x\",\"y\",\"normal\"),n)\n",
    " value <- c(samples[,1],samples[,2],norm01)\n",
    " df <- data.frame(value,label)\n",
    " library(ggplot2)\n",
    " plt <- ggplot(df, aes(x=value, color=label, fill=label)) + geom_histogram(aes(y=..density..), bins = 60, position=\"identity\", alpha=0.3) + labs(x=\"Value\", y=\"Density\") + theme_bw()\n",
    " print(plt)\n",
    " }\n",
    " mullerbt()"
   ]
  },
  {
   "cell_type": "markdown",
   "id": "b0888e9e",
   "metadata": {},
   "source": [
    "__sol:__\n",
    "\n",
    "In order to simulate the points p and q, we will use the _uniform distribution_ as:\n",
    "\n",
    "* For each sample $x_i = (a_i, b_i)$ we define two numbers $u_1, u_2 \\sim \\mathcal{U}_{[0,1]}$\n",
    "* Assign values to $a_i=\\sqrt{-2\\log{u_1}}$ and $b_i=2\\pi u_2$\n",
    "* Tendo $a, b \\sim \\mathcal{N}(0,\\,1)$\n",
    "\n",
    "* $\\sqrt{r} \\sim \\mathcal{U}_{[0,1]}$ and $\\theta \\sim \\mathcal{U}_{[0,2\\pi]}$"
   ]
  },
  {
   "cell_type": "markdown",
   "id": "0d7c1690",
   "metadata": {},
   "source": [
    "* Again, starting from the eventual samples you will obtain with your method, construct a non-empty family of estimators of $I$ and discuss whether it is (strongly) consistent and whether a central limit theorem can be established.\n",
    "\n",
    "__sol__:"
   ]
  },
  {
   "cell_type": "markdown",
   "id": "cf2eb1bb",
   "metadata": {},
   "source": [
    "* Detail a suite of diagnostics that might be employed in your application to detect convergence or performance problems.\n",
    " Extra points for those who design algorithms that exploit the structure of this particular integration problem. \n",
    "\n",
    "__sol__:"
   ]
  },
  {
   "cell_type": "markdown",
   "id": "35656a3d",
   "metadata": {},
   "source": [
    "* For each $R \\in \\{0.01, 0.1, 1, 10, 100, 1000, 10000\\}$, perform $M=500$ runs from your simulation method and compute: (i) variance (ii) bias (iii) standard deviation of the mean (MCSE).\n",
    "\n",
    "__sol__:"
   ]
  },
  {
   "cell_type": "markdown",
   "id": "1ca50d59",
   "metadata": {},
   "source": [
    "* Can you identify one key quantity missing from the previous item?  \n",
    " _Hint:_ it bears relevance to the real world application of any computational method.\n",
    "estimator."
   ]
  }
 ],
 "metadata": {
  "kernelspec": {
   "display_name": "R",
   "language": "R",
   "name": "ir"
  },
  "language_info": {
   "codemirror_mode": "r",
   "file_extension": ".r",
   "mimetype": "text/x-r-source",
   "name": "R",
   "pygments_lexer": "r",
   "version": "3.6.1"
  }
 },
 "nbformat": 4,
 "nbformat_minor": 5
}
