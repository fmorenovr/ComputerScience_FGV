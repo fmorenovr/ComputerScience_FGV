{
 "cells": [
  {
   "cell_type": "code",
   "execution_count": null,
   "id": "ea39dc34",
   "metadata": {},
   "outputs": [],
   "source": [
    "if(!require('ConvergenceConcepts')) {\n",
    "  install.packages('ConvergenceConcepts')\n",
    "  library('ConvergenceConcepts')\n",
    "}"
   ]
  },
  {
   "cell_type": "markdown",
   "id": "c4c9c6ea",
   "metadata": {},
   "source": [
    "Aluno: Felipe Adrian Moreno Vera"
   ]
  },
  {
   "cell_type": "markdown",
   "id": "6f5ad3ee",
   "metadata": {},
   "source": [
    "### Problem\n",
    "\n",
    "A large portion of the content of this course is concerned with computing high-dimensional integrals~via simulation.\n",
    "Today you will be introduced to a simple-looking problem with a complicated closed-form solution and one we can approach using simulation.\n",
    "\n",
    "Suppose you have a disc $C_R$ of radius $R$. \n",
    "Take $p = (p_x, p_y)$ and $ q = (q_x, q_y) \\in C_R$ two points in the disk.  \n",
    "Consider the Euclidean distance between $p$  and $q$, $||p-q|| = \\sqrt{(p_x-q_x)^2 + (p_y-q_y)^2} = |p-q|$."
   ]
  },
  {
   "cell_type": "code",
   "execution_count": 1,
   "id": "fcf59157",
   "metadata": {},
   "outputs": [],
   "source": [
    "# Global Variables\n",
    "R <- 10 # Radio\n",
    "n <- 10000 # samples"
   ]
  },
  {
   "cell_type": "markdown",
   "id": "0c4e413c",
   "metadata": {},
   "source": [
    "### Problem A:\n",
    "\n",
    "What is the _average_ distance between pairs of points in $C_R$ if they are picked uniformly at random?"
   ]
  },
  {
   "cell_type": "markdown",
   "id": "963153b9",
   "metadata": {},
   "source": [
    "### Part I: nuts and bolts\n",
    "\n",
    "* To start building intuition, let's solve a related but much simpler problem.\n",
    " Consider an interval $[0, s]$, with $s>0$ and take $x_1,x_2 \\in [0, s]$~_uniformly at random_.\n",
    " Show that the average distance between $x_1$ and $x_2$ is $s/3$.\n",
    "\n",
    "__sol__:\n",
    "\n",
    "Let X a random variable uniformly distributed over $[0,S]$, i.e., the probability density function of X is the following:\n",
    "\n",
    "$\n",
    "f_{X}(x) = \n",
    "     \\begin{cases}\n",
    "       \\frac{1}{S} &\\quad\\text{if } x \\in [0, S]\\\\\n",
    "       0 &\\quad\\text{otherwise.} \\\\ \n",
    "     \\end{cases}\n",
    "$\n",
    "\n",
    "Let us randomly pick two points in $[0,S]$ independently. Let us denote those by $X_1$ and $X_2$, which are random variables distributed according to $f_X$. \n",
    "\n",
    "The distance between the two points is a new random variable $Y = |X_1 - X_2|$.\n",
    "\n",
    "Hence, we want to find the expected value $\\mathbb{E}(Y) = \\mathbb{E}(|X_1 - X_2|)$. we can define a function _g_ as follows:\n",
    "\n",
    "$\n",
    "g(x_1,x_2) = |x_1 - x_2| =\n",
    "     \\begin{cases}\n",
    "      x_1 - x_2 &\\quad\\text{if } x_1 \\geq x_2\\\\\n",
    "       x_2 - x_1 &\\quad\\text{otherwise.} \\\\ \n",
    "     \\end{cases}\n",
    "$\n",
    "\n",
    "Besides, since the two points are picked independently, the joint probability density function is the product of the pdf's of $X_1$ and $X_2$, i.e., $f_{X_1,X_2} = f_{X_1}(x_1) f_{X_2}(x_2) = \\frac{1}{S^2}$.\n",
    "\n",
    "Therefore, the expected value $\\mathbb{E}(Y) = \\mathbb{E}(g(X_1, X_2))$ is given by:\n",
    "\n",
    "\\begin{equation}\n",
    "\\mathbb{E}(Y) = \\int_{0}^{S} \\int_{0}^{S} g(x_1, x_2) f_{X_1, X_2} (x_1, x_2) \\,d x_1\\,d x_2 \n",
    "\\end{equation}\n",
    "\n",
    "\\begin{equation}\n",
    "\\mathbb{E}(Y) = \\int_{0}^{S} \\int_{0}^{S} |x_1 - x_2| \\frac{1}{S^2} \\,d x_1\\,d x_2 \n",
    "\\end{equation}\n",
    "\n",
    "\\begin{equation}\n",
    "\\mathbb{E}(Y) = \\frac{1}{S^2} \\int_{0}^{S} \\int_{0}^{x_1} (x_1 - x_2)  \\,d x_2\\,d x_1 + \\frac{1}{S^2} \\int_{0}^{S} \\int_{x_1}^{S} (x_2 - x_1)  \\,d x_2\\,d x_1\n",
    "\\end{equation}\n",
    "\n",
    "\\begin{equation}\n",
    "\\mathbb{E}(Y) = \\frac{1}{S^2} \\frac{S^3}{6} + \\frac{1}{S^2} \\frac{S^3}{6} = \\frac{S}{3}\n",
    "\\end{equation}"
   ]
  },
  {
   "cell_type": "markdown",
   "id": "e475eda5",
   "metadata": {},
   "source": [
    "__Sol__: Numeric"
   ]
  },
  {
   "cell_type": "code",
   "execution_count": 2,
   "id": "67fd0e8f",
   "metadata": {
    "scrolled": true
   },
   "outputs": [
    {
     "data": {
      "text/html": [
       "9.87680371014937"
      ],
      "text/latex": [
       "9.87680371014937"
      ],
      "text/markdown": [
       "9.87680371014937"
      ],
      "text/plain": [
       "[1] 9.876804"
      ]
     },
     "metadata": {},
     "output_type": "display_data"
    }
   ],
   "source": [
    "n<-10000\n",
    "s<-30 # DISTANCE\n",
    "x<-runif(n, min=0, max=s)\n",
    "y<-runif(n, min=0, max=s)\n",
    "distance<-sum(abs(x-y))/n\n",
    "distance"
   ]
  },
  {
   "cell_type": "markdown",
   "id": "cd19480d",
   "metadata": {},
   "source": [
    "* Show that Problem A is equivalent to computing\n",
    " \\begin{equation*}\n",
    "  I = \\frac{1}{\\pi^2 R^4}\\int_{0}^{R}\\int_{0}^{R}\\int_{0}^{2\\pi}\\int_{0}^{2\\pi}\\sqrt{r_1^2 + r_2^2 - 2r_1r_2\\cos\\phi(\\theta_1, \\theta_2)}r_1r_2\\,d\\theta_1\\,d\\theta_2\\,dr_1\\,dr_2,\n",
    " \\end{equation*}\n",
    " where $\\phi(\\theta_1, \\theta_2)$ is the central angle between $r_1$ and $r_2$.\n",
    " \n",
    " __Hint:__ Draw a picture.\n",
    "\n",
    "__sol__:\n",
    "\n",
    "From polar coordinates theory, in general any function f(x, y) with area A, we wan calculate the area as follows:\n",
    "\n",
    "\\begin{equation*}\n",
    "  A = \\iint\\limits_\\mathbb{R} f(x,y)\\,dx\\,dy\n",
    " \\end{equation*}\n",
    "\n",
    "So, we can be rewrite that using polar coordinates as $f(r, \\theta)$ using x as p and y as q:\n",
    "\n",
    "\\begin{equation*}\n",
    "  A = \\int_0^{\\theta} \\int_0^{R} f(r,\\theta)||\\,r\\,dr\\,d\\theta\n",
    " \\end{equation*}\n",
    "\n",
    "So, lets transform to polars:\n",
    "\n",
    "Let $p = (r_1 \\cos(\\theta_1), r_1 \\sin(\\theta_1) )$ and $q = (r_2 \\cos(\\theta_2), r_2 \\sin(\\theta_2) )$ where:\n",
    "\n",
    "$r_1 = \\sqrt{p_x^2 + p_y^2}$ and $r_2 = \\sqrt{q_x^2 + q_y^2}$\n",
    "\n",
    "$||p-q|| = \\sqrt{(r_1^2 \\cos(\\theta_1)^2 + r_2^2 \\cos(\\theta_2)^2 - 2 r_1 r_2 \\cos(\\theta_1) \\cos(\\theta_2) ) + (r_1^2 \\sin(\\theta_1)^2 + r_2^2 \\sin(\\theta_2)^2 - 2 r_1 r_2 \\sin(\\theta_1) \\sin(\\theta_2) )}$\n",
    "\n",
    "$||p-q|| = \\sqrt{r_1^2 + r_2^2 - 2 r_1 r_2 (\\cos(\\theta_1) \\cos(\\theta_2) + \\sin(\\theta_1) \\sin(\\theta_2) )}$\n",
    "\n",
    "$||p-q|| = \\sqrt{r_1^2 + r_2^2 - 2 r_1 r_2 \\cos(\\theta_1 - \\theta_2) }$\n",
    "\n",
    "So, remplacing results we have two points in $\\mathbb{R}^2$ p and q using euclidean distance: \n",
    "\n",
    "\\begin{equation}\n",
    "\\iint\\limits_\\mathbb{R} ||x-y|| \\,dx\\,dy = \\iint \\limits_{r_1, \\theta_1} \\iint \\limits_{r_2, \\theta_2} \\sqrt{r_1^2 + r_2^2 - 2 r_1 r_2 \\cos(\\theta_1 - \\theta_2) } \\,r_1\\,r_2\\,d\\theta_1\\,d\\theta_2\\,dr_1\\,dr_2,\n",
    "\\end{equation}\n",
    "\n",
    "Where the factor $r_1 r_2$ comes from the Jacobian.  \n",
    "Besides, our sampling methods tell us how to calculate the _average_ or expectation as follows: \n",
    "\n",
    "\\begin{equation}\n",
    "E[||x-y||] = \\frac{\\iint\\limits_\\mathbb{R} ||x-y|| \\,dx\\,dy}{\\text{Total Area}} = \\frac{\\iint \\limits_{r_1, \\theta_1} \\iint \\limits_{r_2, \\theta_2} \\sqrt{r_1^2 + r_2^2 - 2 r_1 r_2 \\cos(\\theta_1 - \\theta_2) } \\,r_1\\,r_2\\,d\\theta_1\\,d\\theta_2\\,dr_1\\,dr_2,}{\\iint \\limits_{r_1, \\theta_1} \\iint \\limits_{r_2, \\theta_2} \\,dr_1\\,dr_2,\\,d\\theta_1\\,d\\theta_2}\n",
    "\\end{equation}\n",
    "\n",
    "Where second term refers all possible points to take, so our final result is:\n",
    "\n",
    "\\begin{equation}\n",
    " I = E[||x-y||] = \\frac{1}{\\pi^2 R^4} \\iint \\limits_{r_1, \\theta_1} \\iint \\limits_{r_2, \\theta_2} \\sqrt{r_1^2 + r_2^2 - 2r_1r_2\\cos(\\theta_1 - \\theta_2)} \\,r_1\\,r_2\\,d\\theta_1\\,d\\theta_2 \\,dr_1\\,dr_2,\n",
    "\\end{equation}"
   ]
  },
  {
   "cell_type": "markdown",
   "id": "0bca45f5",
   "metadata": {},
   "source": [
    "* Compute $I$ in closed-form.  \n",
    "__Hint:__ Look up _Crofton's mean value theorem_ or _Crofton's formula_. \n",
    "\n",
    "__sol__:\n",
    "\n",
    "We define a function $f(R)$ as the _average distance_ in a disc with radius $R$. From this, we note that $f(R)$ is proportional to $R$ this means that if we __decrease__ the radius $R$, the _average distance_ $f(R)$ also __decrease__.\n",
    "\n",
    "So, we can define $f(R)=kR$ and if $R=1$ we have $f(1) = k = f'(R)$. In order to find $k$ we need to calculate this term:\n",
    "\n",
    "\\begin{equation}\n",
    "\\lim_{\\delta R \\to 0} \\frac{f(R) - f(R - \\delta R)}{\\delta R}\n",
    "\\end{equation}\n",
    "\n",
    "Define as the new distance after apply $f()$ divided by the original distance $\\delta R$: scaling factor.\n",
    "\n",
    "__Note__: We select the expression $f(R) - f(R - \\delta R)$ instead of $f(R + \\delta R) - f(R)$ because we want to evaluate the internal region (see Fig.)"
   ]
  },
  {
   "cell_type": "markdown",
   "id": "4e3adcfa",
   "metadata": {},
   "source": [
    "<img src=\"images/circle_radius_R.png\" height=300 width=300></img>"
   ]
  },
  {
   "cell_type": "markdown",
   "id": "e2489cd9",
   "metadata": {},
   "source": [
    "From Figure, we got 3 different situations: two points inside $\\delta R$ evaluated by $f()$, one point inside and one out evaluated by other function $g()$, and two out evaluated by other function $h()$. See Table to summary the idea:\n",
    "\n",
    "<table>\n",
    "    <tr>\n",
    "        <td>\n",
    "\\begin{eqnarray}\n",
    "            \\\\\n",
    "2 in \\\\\n",
    "1 in, 1 out\\\\\n",
    "2 out\n",
    "\\end{eqnarray}\n",
    "        </td>\n",
    "        <td>\n",
    "\\begin{eqnarray}\n",
    " \\textit{Average distance} \\\\\n",
    "f(R - \\delta R) \\\\\n",
    "g(R, R - \\delta R) \\\\\n",
    "h(R, R - \\delta R) \\\\\n",
    "\\end{eqnarray}\n",
    "        </td>\n",
    "        <td>\n",
    "\\begin{eqnarray}\n",
    " \\textit{Weight} \\\\\n",
    "\\alpha \\\\\n",
    "\\beta \\\\\n",
    "\\gamma \\\\\n",
    "\\end{eqnarray}\n",
    "        </td>\n",
    "    </tr>\n",
    "</table>\n",
    "\n",
    "Using the __Law of total Expectation__ our final is the weighted avergae of $f(R) = \\alpha \\times f(R - \\delta R) + \\beta \\times g(R - \\delta R)  + \\gamma \\times h(R, R - \\delta R)$.\n",
    "\n",
    "Let's define our probabilities such as: \n",
    "\n",
    "\\begin{equation}\n",
    "P(\\mathbb{1}\\text{ point inside}) = \\frac{\\text{Area Inner disc }R - \\delta R }{\\text{Area disc }R} = \\frac{\\pi  (R - \\delta R)^2}{\\pi R^2 } = \\frac{(R - \\delta R)^2}{R^2 } \\\\\n",
    "P(\\mathbb{1}\\text{ point outside}) = 1-\\frac{(R - \\delta R)^2}{R^2 }\n",
    "\\end{equation}\n",
    "\n",
    "Since we know that each point is an indenpent event, we evaluate for each case defined in Table we have:\n",
    "\n",
    "__First case__: Two points inside:\n",
    "\\begin{equation}\n",
    "P(\\mathbb{2}\\text{ points inside}) = P(\\mathbb{1}\\text{ point inside}) \\times P(\\mathbb{1}\\text{ point inside}) \\\\\n",
    "P(\\mathbb{2}\\text{ points inside}) = \\frac{(R - \\delta R)^2}{R^2 } \\times \\frac{(R - \\delta R)^2}{R^2 } \\\\\n",
    "P(\\mathbb{2}\\text{ points inside}) = \\frac{R^4 - 4R^3(\\delta R) + 6R^2 (\\delta R)^2 - 4R(\\delta R)^3 + (\\delta R)^4}{R^4 } \\\\\n",
    "P(\\mathbb{2}\\text{ points inside}) \\approx 1 - \\frac{4\\delta R}{R} + o(\\delta R)\\\\\n",
    "\\alpha = 1 - \\frac{4\\delta R}{R}\n",
    "\\end{equation}\n",
    "\n",
    "__Second case__: One point inside and one outside:\n",
    "\\begin{equation}\n",
    "P(\\mathbb{1}\\text{ point inside and }\\mathbb{1}\\text{ point outside}) = P(\\mathbb{1}\\text{ point inside}) \\times P(\\mathbb{1}\\text{ point outside})\\\\\n",
    "P(\\mathbb{1}\\text{ point inside and }\\mathbb{1}\\text{ point outside}) = \\frac{(R - \\delta R)^2}{R^2 } \\times (1-\\frac{(R - \\delta R)^2}{R^2 })\\\\\n",
    "P(\\mathbb{1}\\text{ point inside and }\\mathbb{1}\\text{ point outside}) = (\\frac{(R - \\delta R)^2}{R^2 } - (\\frac{(R - \\delta R)^2}{R^2 })^2) \\\\\n",
    "P(\\mathbb{1}\\text{ point inside and }\\mathbb{1}\\text{ point outside}) = 1 - 2 \\frac{\\delta R}{R} + \\frac{(\\delta R)^2}{R^2 } - (1 - \\frac{4\\delta R}{R} + o(\\delta R)) \\\\\n",
    "P(\\mathbb{1}\\text{ point inside and }\\mathbb{1}\\text{ point outside}) = 2 \\frac{\\delta R}{R} + \\frac{(\\delta R)^2}{R^2} + o(\\delta R)) \\\\\n",
    "P(\\mathbb{1}\\text{ point inside and }\\mathbb{1}\\text{ point outside}) \\approx \\frac{2\\delta R}{R} + o(\\delta R)\n",
    "\\end{equation}\n",
    "\n",
    "But this happen twice, so we have:\n",
    "\n",
    "\\begin{equation}\n",
    "P(\\mathbb{1}\\text{ point inside and }\\mathbb{1}\\text{ point outside}) \\approx \\frac{4\\delta R}{R} + o(\\delta R)\\\\\n",
    "\\beta = \\frac{4\\delta R}{R}\n",
    "\\end{equation}\n",
    "\n",
    "__Third case__: Two points outside\n",
    "\\begin{equation}\n",
    "P(\\mathbb{2}\\text{ points outside}) = P(\\mathbb{1}\\text{ point outside}) \\times P(\\mathbb{1}\\text{ point outside}) \\\\\n",
    "P(\\mathbb{2}\\text{ points outside}) = (1-\\frac{(R - \\delta R)^2}{R^2 }) \\times (1-\\frac{(R - \\delta R)^2}{R^2 })\\\\\n",
    "P(\\mathbb{2}\\text{ points outside}) \\approx 4\\frac{(\\delta R)^2}{R^2} + o(\\delta R) \\approx 0\\\\\n",
    "\\gamma = 0\n",
    "\\end{equation}\n",
    "\n",
    "As you note, for powers of $\\delta R$ we assume 0, because in our limit ${\\delta R \\to 0}$."
   ]
  },
  {
   "cell_type": "markdown",
   "id": "1864ca18",
   "metadata": {},
   "source": [
    "Finally, we calculate our $f(R)$ (eliminating all o(R)) as:\n",
    "\n",
    "\\begin{equation}\n",
    "f(R) \\approx (1 - \\frac{4\\delta R}{R}) \\times f(R - \\delta R) + \\frac{4\\delta R}{R} \\times g(R, R - \\delta R) \\\\\n",
    "f(R) - f(R - \\delta R) \\approx -\\frac{4\\delta R}{R} \\times f(R - \\delta R) + \\frac{4\\delta R}{R} \\times g(R, R - \\delta R) \\\\\n",
    "f(R) - f(R - \\delta R) \\approx \\delta R \\times \\frac{4}{R} (g(R, R - \\delta R) - f(R - \\delta R) ) \\\\\n",
    "\\frac{f(R) - f(R - \\delta R)}{\\delta R} \\approx \\frac{4}{R} (g(R, R - \\delta R) - f(R - \\delta R) ) \\\\\n",
    "\\end{equation}\n",
    "\n",
    "This expression is similar to our derivate, so doing $\\lim_{\\delta R \\to 0}$ we have:\n",
    "\n",
    "\\begin{equation}\n",
    "f'(R) = \\frac{4}{R} (g(R, R) - f(R))\\\\\n",
    "f'(R) = - \\frac{4}{R} f(R) + \\frac{4}{R} g(R, R)\n",
    "\\end{equation}\n",
    "\n",
    "This is the _Crofton's differential equation formula_."
   ]
  },
  {
   "cell_type": "markdown",
   "id": "63c6c5b5",
   "metadata": {},
   "source": [
    "Finally, we need to calculate the value of the function $g(R,R)$. Since we define a $g()$ as the distance between one point inside and one outside, when $\\delta R \\to 0$ the second point $R-\\delta R$ goes to the disc contour (edge). This means to calculate the average distance between a random point inside the disc and the edge. \n",
    "\n",
    "We can do this calculating the average distance $\\rho$ using polar coordinates:\n",
    "\n",
    "\\begin{equation*}\n",
    "  g(R, R) = \\text{Distance of random point inner to the edge} \\\\\n",
    "  g(R, R) = \\frac{1}{\\pi R^2} \\int_{-\\pi/2}^{\\pi/2} \\int_0^{2R\\cos (\\theta)} \\rho\\,\\rho\\,d\\rho\\,d\\theta\\\\\n",
    "  g(R, R) = \\frac{32 R}{9\\pi}\n",
    " \\end{equation*}"
   ]
  },
  {
   "cell_type": "markdown",
   "id": "a3e44a31",
   "metadata": {},
   "source": [
    "Then, replacing in the _Crofton's differential equation formula_:\n",
    "\n",
    "\\begin{equation}\n",
    "f'(R) = - \\frac{4}{R} f(R) + \\frac{4}{R} g(R, R) \\\\\n",
    "k = - \\frac{4}{R} kR + \\frac{4}{R} \\frac{32R}{9\\pi} \\\\\n",
    "k = \\frac{128}{45\\pi} \\\\\n",
    "\\end{equation}\n",
    "\n",
    "Finally, we find that:\n",
    "\n",
    "\\begin{equation}\n",
    " I = \\frac{1}{\\pi^2 R^4} \\iint \\limits_{r_1, \\theta_1} \\iint \\limits_{r_2, \\theta_2} \\sqrt{r_1^2 + r_2^2 - 2r_1r_2\\cos(\\theta_1 - \\theta_2)} \\,r_1\\,r_2\\,d\\theta_1\\,d\\theta_2 \\,dr_1\\,dr_2,\\\\\n",
    " I = \\frac{128R}{45\\pi}\n",
    "\\end{equation}"
   ]
  },
  {
   "cell_type": "code",
   "execution_count": 3,
   "id": "72dd7ced",
   "metadata": {},
   "outputs": [
    {
     "data": {
      "text/html": [
       "9.05414787367227"
      ],
      "text/latex": [
       "9.05414787367227"
      ],
      "text/markdown": [
       "9.05414787367227"
      ],
      "text/plain": [
       "[1] 9.054148"
      ]
     },
     "metadata": {},
     "output_type": "display_data"
    }
   ],
   "source": [
    "# Let's define our R here\n",
    "exact_value <- 128*R/(45*pi)\n",
    "exact_value"
   ]
  },
  {
   "cell_type": "markdown",
   "id": "74503d5b",
   "metadata": {},
   "source": [
    "### Part II -- getting your hands dirty\n",
    "\n",
    "Now we will move on to implementation.\n",
    "\n",
    "__Problem B:__\n",
    "\n",
    "Employ a simulation algorithm to approximate $\\textit{I}$ . Provide point and interval estimates and give theoretical guarantees about them (consistency, coverage, etc)."
   ]
  },
  {
   "cell_type": "markdown",
   "id": "4c170649",
   "metadata": {},
   "source": [
    "* Represent $I$ as $\\int_{\\mathcal{X}} \\phi(x)\\pi(x)\\,dx$ and justify your choice of $\\phi$, $\\pi$ and $\\mathcal{X}$.\n",
    " Recall that these choices are arbitrary up to a point, but they might lead to wildly different empirical performances __and__ theoretical properties for estimators of $I$.\n",
    " \n",
    " __Justify__ your choices in light of the method you have been given to work with.\n",
    " Choose wisely and be rigorous in your justifications.\n",
    " \n",
    "__sol__:\n",
    "\n",
    "We start from $I = \\int_{\\mathcal{X}} f(x)\\,dx = \\int_{\\mathcal{X}} \\phi(x)\\pi(x)\\,dx$ where $\\pi$ is the probability density function on $\\mathcal{X}$ and:\n",
    "\n",
    "\\begin{equation}\n",
    "\\phi:\\, x \\to f(x)/\\pi(x)\n",
    "\\end{equation}\n",
    "\n",
    "We need to think about our data:\n",
    "\n",
    "* We have two points p and q within a circle, e.g. let p = (x,y) with $x^2+y^2 \\leq R^2$.\n",
    "* We want to simulate the _average distance_ between them: $||p-q||$\n",
    "* We want to construct a good estimator for this experiment.\n",
    "* We want to use polar coordinates (R,$\\theta$) to simulate them, where $R \\geq \\sqrt{x^2 + y^2}$ and $\\theta=\\arctan(x/y)$.\n",
    "\n",
    "From this insights, we need to define the density function of R and $\\theta$: \n",
    "\n",
    "\\begin{equation}\n",
    "f_{\\Theta}(\\theta) = \\frac{1}{2\\pi} \\sim \\mathcal{U}_{[0,2\\pi]}\\\\\n",
    "F_{\\Theta}(\\theta)=P_{\\Theta}(\\Theta < \\theta) = \\frac{\\theta}{2\\pi}\\\\\n",
    "\\end{equation}\n",
    "\n",
    "For $\\theta$ we can pick any value from $[0,\\,2\\pi]$ uniformly, in the case of the redius R, we kow that $0<R<\\infty$ and they are __independent__.  \n",
    "\n",
    "Since we know circumference of a disc ir $2\\pi r$ and it grows linearly with $r$, let's say $f(r) = C r$ should be a probability density. Then, integrating $f(r)$ over the interval $[0,R]$ we have $F(r) = 1 = \\frac{C}{2} R^2$. Just replacing and we get that $C = 2/R^2$. So: \n",
    "\n",
    "\\begin{equation}\n",
    "f_{R}(r) = 2\\frac{r}{R^2}\\\\\n",
    "F_R (r) = P_R(R < r) = \\frac{r^2}{R^2}\n",
    "\\end{equation}\n",
    "\n",
    "In order to simulate them, let's apply the inverse transformation for each, taking $u  \\sim \\mathcal{U}_{[0,1]}$:\n",
    "\n",
    "\\begin{equation}\n",
    "F^{-1}_{\\Theta}(u) = 2\\pi u \\sim \\mathcal{U}_{[0,2\\pi]}\\\\\n",
    "F^{-1}_{R}(u) = R \\sqrt{u}  \\sim \\mathcal{U}_{[0,R]}\n",
    "\\end{equation}\n",
    "\n",
    "So, let's construct a joined pdf $\\pi(r, \\theta) = f_{R, \\Theta} (r, \\theta) = f_{R}(r) f_{\\Theta}(\\theta)$ we have:\n",
    "\n",
    "\\begin{equation}\n",
    "\\pi(r, \\theta) = \\frac{2r}{R^2} \\frac{1}{2\\pi} \\\\\n",
    "\\pi(r, \\theta) = \\frac{r}{\\pi R^2}\\\\\n",
    "\\end{equation}\n",
    "\n",
    "So, for the two points $p=(r_1 \\cos(\\theta_1), r_1\\sin(\\theta_1))$ and $q=(r_2 \\cos(\\theta_2), r_2\\sin(\\theta_2))$ we have\n",
    "\n",
    "\\begin{equation}\n",
    "\\pi(x_p, y_p) = \\frac{1}{\\pi R^2} r_1\\\\\n",
    "\\pi(x_q, y_q) = \\frac{1}{\\pi R^2} r_2\n",
    "\\end{equation}\n",
    "\n",
    "So, the points $p$ and $q$ can be chosen independently each one, we have:\n",
    "\n",
    "\\begin{equation}\n",
    "P(||p-q||) = \\pi(x_p, y_p) \\times \\pi(x_q, y_q) \\\\\n",
    "P(||p-q||) = \\frac{1}{\\pi R^2} r_1 \\times \\frac{1}{\\pi R^2} r_2 \\\\\n",
    "P(||p-q||) = \\frac{1}{\\pi^2 R^4} r_1 r_2 \\\\\n",
    "\\end{equation}"
   ]
  },
  {
   "cell_type": "markdown",
   "id": "1f46e1da",
   "metadata": {},
   "source": [
    "In summary, we have our $f$, $\\phi$, and $\\pi$ evaluated in our points $p$ and $q$ in polar coordinates:\n",
    "\n",
    "\\begin{equation}\n",
    "f(p, q) = \\frac{1}{\\pi^2 R^4} \\sqrt{r_1^2 + r_2^2 - 2r_1r_2\\cos(\\theta_1 - \\theta_2)} r_1 r_2 \\\\\n",
    "\\pi(p, q) =  \\frac{1}{\\pi^2 R^4} r_1 r_2\\\\\n",
    "\\phi(p, q) = \\frac{f(p,q)}{\\pi(p,q)}\\\\\n",
    "\\phi(p, q) = \\sqrt{r_1^2 + r_2^2 - 2r_1r_2\\cos(\\theta_1 - \\theta_2)} \n",
    "\\end{equation}\n",
    "\n",
    "Finally, in order to simulate each point $\\mathcal{X}_1, \\mathcal{X}_2, \\dots, \\mathcal{X_n}$, each $\\mathcal{X}_i = (r_i\\cos(\\theta_i), r_i\\sin(\\theta_i)))$ where $r_i\\in [0, R]$ and $\\theta_i \\in [0, 2\\pi]$.\n",
    "\n",
    "We will use the _uniform distribution_ as follows:\n",
    "\n",
    "* For each sample $\\mathcal{X}_i$ we define two numbers $u_1, u_2 \\sim \\mathcal{U}_{[0,1]}$\n",
    "* Assign values to $r_i=R\\sqrt{u_1}$ and $\\theta_i=2\\pi u_2$\n",
    "* Tendo $r \\sim \\mathcal{U}_{[0,R]}$ and $\\theta \\sim \\mathcal{U}_{[0,2\\pi]}$"
   ]
  },
  {
   "cell_type": "markdown",
   "id": "7f36f978",
   "metadata": {},
   "source": [
    "__MonteCarlo__ exmaple:"
   ]
  },
  {
   "cell_type": "code",
   "execution_count": 4,
   "id": "cc4bf4ed",
   "metadata": {},
   "outputs": [],
   "source": [
    "polar_distance <- function(r_1, theta_1, r_2, theta_2) {\n",
    "    return ( sqrt( r_1^2 + r_2^2 - 2*r_1*r_2*cos(theta_1 - theta_2) ) );\n",
    "}"
   ]
  },
  {
   "cell_type": "code",
   "execution_count": null,
   "id": "9d15a0fb",
   "metadata": {},
   "outputs": [],
   "source": [
    "simulate <- function(n, R){\n",
    "    theta_1 <- 2*pi* runif(n, min = 0, max = 1.0)\n",
    "    r_1 <- R*sqrt( runif(n, min = 0, max = 1.0) )\n",
    "\n",
    "    theta_2 <- 2*pi* runif(n, min = 0, max = 1.0)\n",
    "    r_2 <- R*sqrt( runif(n, min = 0, max = 1.0) )\n",
    "    \n",
    "    distances <- polar_distance(r_1, theta_1, r_2, theta_2)\n",
    "    \n",
    "    return (distances)\n",
    "}"
   ]
  },
  {
   "cell_type": "code",
   "execution_count": 5,
   "id": "8a34682e",
   "metadata": {},
   "outputs": [
    {
     "data": {
      "text/html": [
       "9.07383993780083"
      ],
      "text/latex": [
       "9.07383993780083"
      ],
      "text/markdown": [
       "9.07383993780083"
      ],
      "text/plain": [
       "[1] 9.07384"
      ]
     },
     "metadata": {},
     "output_type": "display_data"
    }
   ],
   "source": [
    "distances <- simulate(n, R)\n",
    "\n",
    "approximation <- mean(distances)\n",
    "approximation"
   ]
  },
  {
   "cell_type": "code",
   "execution_count": 6,
   "id": "455d53fa",
   "metadata": {},
   "outputs": [
    {
     "data": {
      "text/html": [
       "-0.0196920641285647"
      ],
      "text/latex": [
       "-0.0196920641285647"
      ],
      "text/markdown": [
       "-0.0196920641285647"
      ],
      "text/plain": [
       "[1] -0.01969206"
      ]
     },
     "metadata": {},
     "output_type": "display_data"
    }
   ],
   "source": [
    "error <- exact_value - approximation\n",
    "error"
   ]
  },
  {
   "cell_type": "markdown",
   "id": "45188294",
   "metadata": {},
   "source": [
    "* Again, starting from the eventual samples you will obtain with your method, construct a non-empty family of estimators of $I$ and discuss whether it is (strongly) consistent and whether a central limit theorem can be established.\n",
    "\n",
    "__sol__:"
   ]
  },
  {
   "cell_type": "markdown",
   "id": "edcbda97",
   "metadata": {},
   "source": [
    "We want to estimate $\\phi$ by __Gibbs Sampling__. So, in order to sample using Gibbs, we need to sample from a conditional distribution than to marginalize by integrating over a joint distribution.\n",
    "\n",
    "Suppose we want to obtain $k$ samples of $\\mathbf {X} =(x_{1},\\dots ,x_{n})$ from a joint distribution $p(x_{1},\\dots ,x_{n})$. \n",
    "\n",
    "Denote the i-th sample by $\\mathbf {X} ^{(i)}=\\left(x_{1}^{(i)},\\dots ,x_{n}^{(i)}\\right)$. We proceed as follows:\n",
    "\n",
    "* We begin with some initial value $\\mathbf {X} ^{(0)}$.\n",
    "* \n",
    "* Repeat the above step $k$ times.\n",
    "\n",
    "\n",
    "\n",
    "and $\\mathcal{X}$ is:"
   ]
  },
  {
   "cell_type": "markdown",
   "id": "a26876c4",
   "metadata": {},
   "source": [
    "* Detail a suite of diagnostics that might be employed in your application to detect convergence or performance problems.\n",
    " Extra points for those who design algorithms that exploit the structure of this particular integration problem. \n",
    "\n",
    "__sol__:\n",
    "\n",
    "Confidence Interval 95\\%:"
   ]
  },
  {
   "cell_type": "code",
   "execution_count": 12,
   "id": "35d7159d",
   "metadata": {},
   "outputs": [],
   "source": [
    "margin <- qt(0.95, df=n-1)*sd(distances)/sqrt(n)"
   ]
  },
  {
   "cell_type": "code",
   "execution_count": 13,
   "id": "648136ca",
   "metadata": {},
   "outputs": [
    {
     "data": {
      "text/html": [
       "9.00401348952176"
      ],
      "text/latex": [
       "9.00401348952176"
      ],
      "text/markdown": [
       "9.00401348952176"
      ],
      "text/plain": [
       "[1] 9.004013"
      ]
     },
     "metadata": {},
     "output_type": "display_data"
    }
   ],
   "source": [
    "lowerinterval <- approximation - margin\n",
    "lowerinterval "
   ]
  },
  {
   "cell_type": "code",
   "execution_count": 14,
   "id": "2b4a01c2",
   "metadata": {},
   "outputs": [
    {
     "data": {
      "text/html": [
       "9.1436663860799"
      ],
      "text/latex": [
       "9.1436663860799"
      ],
      "text/markdown": [
       "9.1436663860799"
      ],
      "text/plain": [
       "[1] 9.143666"
      ]
     },
     "metadata": {},
     "output_type": "display_data"
    }
   ],
   "source": [
    "upperinterval <- approximation + margin\n",
    "upperinterval "
   ]
  },
  {
   "cell_type": "markdown",
   "id": "5d62af58",
   "metadata": {},
   "source": [
    "Convergence:"
   ]
  },
  {
   "cell_type": "code",
   "execution_count": null,
   "id": "3bcd6409",
   "metadata": {},
   "outputs": [],
   "source": [
    "# Let X1, X2, ..., Xn be independent random variables such that #\n",
    "# P[Xn=sqrt(n)]=1/n and P[Xn=0]=1-1/n                           #\n",
    "# Does Xn converges to 0 in 2-th mean? in probability?          #"
   ]
  },
  {
   "cell_type": "code",
   "execution_count": 10,
   "id": "98216b7e",
   "metadata": {},
   "outputs": [
    {
     "name": "stderr",
     "output_type": "stream",
     "text": [
      "Loading required package: ConvergenceConcepts\n",
      "Loading required package: tcltk\n",
      "Loading required package: tkrplot\n",
      "Warning message:\n",
      "\"package 'tkrplot' was built under R version 3.6.3\"Loading required package: lattice\n"
     ]
    },
    {
     "data": {
      "image/png": "[encoded data removed]",
      "text/plain": [
       "Plot with title \"Convergence in r-th mean?\""
      ]
     },
     "metadata": {},
     "output_type": "display_data"
    }
   ],
   "source": [
    "options(example.ask=FALSE)\n",
    "\n",
    "pnotrgen<-function(n){rbinom(n,1,1/(1:n))*sqrt(1:n)}\n",
    "\n",
    "check.convergence(nmax=1000, M=500, genXn=pnotrgen, mode=\"r\", r=2)\n",
    "\n",
    "legend(100, 6, legend=expression(hat(e)[\"n,2\"]), lty=1)\n",
    "\n",
    "tt3.1 <<- check.convergence(nmax=1000,M=500,genXn=pnotrgen,mode=\"p\")"
   ]
  },
  {
   "cell_type": "markdown",
   "id": "f99cba8f",
   "metadata": {},
   "source": [
    "* For each $R \\in \\{0.01, 0.1, 1, 10, 100, 1000, 10000\\}$, perform $M=500$ runs from your simulation method and compute: (i) variance (ii) bias (iii) standard deviation of the mean (MCSE).\n",
    "\n",
    "__sol__:"
   ]
  },
  {
   "cell_type": "markdown",
   "id": "f15a1b02",
   "metadata": {},
   "source": [
    "* Can you identify one key quantity missing from the previous item?  \n",
    " _Hint:_ it bears relevance to the real world application of any computational method.\n",
    "estimator."
   ]
  },
  {
   "cell_type": "markdown",
   "id": "7c78891f",
   "metadata": {},
   "source": [
    "__Final Notes__: In order to change the variables from polar to cartesian coordinates, we just need to apply the jacobian rule: $\\hat{\\pi}(x, y) = \\pi(r, \\theta) |det \\frac{\\partial (r, \\theta)}{\\partial (x, y)}|$\n",
    "\n",
    "Using the one point, we have: $p=(x,y) = ( r\\cos(\\theta), r\\sin(\\theta) )$ and $(r,\\theta) = ( \\sqrt{x^2 + y^2}, \\arctan(x/y) )$. Where:\n",
    "\n",
    "\\begin{equation}\n",
    "|det \\frac{\\partial (r, \\theta)}{\\partial (x, y)}| = \\begin{vmatrix}\n",
    "    \\cos(\\theta) & -r\\sin(\\theta) \\\\\n",
    "    \\sin(\\theta)    & r\\cos(\\theta)\n",
    "\\end{vmatrix} \\\\\n",
    "|det \\frac{\\partial (r, \\theta)}{\\partial (x, y)}| = r\n",
    "\\end{equation}\n",
    "\n",
    "Finally, for the point $p=(x, y)$ we obtain $\\pi(x, y)$:\n",
    "\n",
    "\\begin{equation}\n",
    "\\hat{\\pi}(x, y) =  |det \\frac{\\partial (r, \\theta)}{\\partial (x, y)}| \\pi(r, \\theta) \\\\\n",
    "\\hat{\\pi}(x, y) = r \\pi(r, \\theta) = \\frac{1}{\\pi R^2} r^2\\\\\n",
    "\\hat{\\pi}(x, y) = \\frac{x^2 + y^2}{\\pi R^2}\n",
    "\\end{equation}"
   ]
  }
 ],
 "metadata": {
  "kernelspec": {
   "display_name": "R",
   "language": "R",
   "name": "ir"
  },
  "language_info": {
   "codemirror_mode": "r",
   "file_extension": ".r",
   "mimetype": "text/x-r-source",
   "name": "R",
   "pygments_lexer": "r",
   "version": "3.6.1"
  }
 },
 "nbformat": 4,
 "nbformat_minor": 5
}
