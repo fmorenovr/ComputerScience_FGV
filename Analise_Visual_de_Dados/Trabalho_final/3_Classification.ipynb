{
 "cells": [
  {
   "cell_type": "code",
   "execution_count": 1,
   "id": "3d392fd1",
   "metadata": {},
   "outputs": [],
   "source": [
    "import matplotlib.pyplot as plt\n",
    "import pandas as pd\n",
    "import numpy as np\n",
    "import copy\n",
    "import joblib"
   ]
  },
  {
   "cell_type": "code",
   "execution_count": 2,
   "id": "fe9c5adc",
   "metadata": {},
   "outputs": [],
   "source": [
    "from py.utils import verifyDir"
   ]
  },
  {
   "cell_type": "code",
   "execution_count": 3,
   "id": "c5b53753",
   "metadata": {},
   "outputs": [],
   "source": [
    "DATA_PATH = \"data/PlacePulse_2/\"\n",
    "\n",
    "QSCORE_PATH = f\"{DATA_PATH}/Qscores/all/Summaries/\"\n",
    "MAIN_OUT_PATH = \"outputs/\"\n",
    "CACHE_PATH = f\"{MAIN_OUT_PATH}/cache/\""
   ]
  },
  {
   "cell_type": "code",
   "execution_count": 4,
   "id": "c1cf1588",
   "metadata": {},
   "outputs": [],
   "source": [
    "verifyDir(CACHE_PATH)"
   ]
  },
  {
   "cell_type": "markdown",
   "id": "f4187864",
   "metadata": {},
   "source": [
    "### Generating samples "
   ]
  },
  {
   "cell_type": "code",
   "execution_count": 5,
   "id": "9ebda6ea",
   "metadata": {},
   "outputs": [
    {
     "data": {
      "text/plain": [
       "dict_keys(['id', 'features', 'features_name', 'safety', 'label', 'latitude', 'longitude', 'city', 'country', 'continent', 'path'])"
      ]
     },
     "execution_count": 5,
     "metadata": {},
     "output_type": "execute_result"
    }
   ],
   "source": [
    "data_dict = joblib.load(f\"{MAIN_OUT_PATH}/static/data_model.joblib\")\n",
    "data_dict.keys()"
   ]
  },
  {
   "cell_type": "code",
   "execution_count": 6,
   "id": "c6e1c56b",
   "metadata": {},
   "outputs": [
    {
     "data": {
      "text/plain": [
       "((110988, 19), (110988,))"
      ]
     },
     "execution_count": 6,
     "metadata": {},
     "output_type": "execute_result"
    }
   ],
   "source": [
    "y = np.array(data_dict[\"safety\"]).copy()\n",
    "X = np.array(data_dict[\"features\"]).copy()\n",
    "X.shape, y.shape"
   ]
  },
  {
   "cell_type": "markdown",
   "id": "ae35003a",
   "metadata": {},
   "source": [
    "### Standard Scaler"
   ]
  },
  {
   "cell_type": "code",
   "execution_count": 7,
   "id": "659c7c20",
   "metadata": {},
   "outputs": [],
   "source": [
    "from sklearn.preprocessing import StandardScaler"
   ]
  },
  {
   "cell_type": "code",
   "execution_count": 8,
   "id": "80a6b9ec",
   "metadata": {},
   "outputs": [],
   "source": [
    "scaler = StandardScaler()"
   ]
  },
  {
   "cell_type": "code",
   "execution_count": 9,
   "id": "276f608a",
   "metadata": {},
   "outputs": [],
   "source": [
    "from sklearn.preprocessing import Normalizer"
   ]
  },
  {
   "cell_type": "code",
   "execution_count": 10,
   "id": "4e92ce03",
   "metadata": {},
   "outputs": [],
   "source": [
    "normalizer = Normalizer()"
   ]
  },
  {
   "cell_type": "markdown",
   "id": "bdf7846d",
   "metadata": {},
   "source": [
    "### Classifiers"
   ]
  },
  {
   "cell_type": "code",
   "execution_count": 11,
   "id": "21fe6d71",
   "metadata": {},
   "outputs": [],
   "source": [
    "from sklearn.svm import SVR, LinearSVR\n",
    "from sklearn.linear_model import Ridge, LinearRegression, Lasso\n",
    "from sklearn.tree import DecisionTreeRegressor\n",
    "from sklearn.ensemble import RandomForestRegressor"
   ]
  },
  {
   "cell_type": "code",
   "execution_count": 12,
   "id": "7f4832f1",
   "metadata": {},
   "outputs": [],
   "source": [
    "regularizer_value = np.logspace(-3, 3, num=7)\n",
    "type_scaler = ['passthrough', scaler, normalizer]\n",
    "# dim_reductor = [t_svd, pca, sparse_pca]\n",
    "random_state = 42\n",
    "max_iter=2000"
   ]
  },
  {
   "cell_type": "code",
   "execution_count": 13,
   "id": "0cd24849",
   "metadata": {},
   "outputs": [],
   "source": [
    "lr = LinearRegression()\n",
    "\n",
    "param_lr = {}\n",
    "param_lr['scaler'] = copy.deepcopy(type_scaler)\n",
    "#param_lr['dim_reductor'] = copy.deepcopy(dim_reductor)\n",
    "param_lr['regressor'] = [lr]"
   ]
  },
  {
   "cell_type": "code",
   "execution_count": 14,
   "id": "4565ba73",
   "metadata": {},
   "outputs": [],
   "source": [
    "lasso = Lasso(\n",
    "    tol=1e-3,\n",
    "    random_state=random_state,\n",
    "    max_iter=max_iter,\n",
    ")\n",
    "\n",
    "param_lasso = {}\n",
    "param_lasso['scaler'] = copy.deepcopy(type_scaler)\n",
    "# param_ridge['dim_reductor'] = copy.deepcopy(dim_reductor)\n",
    "param_lasso['regressor__alpha'] = copy.deepcopy(regularizer_value)\n",
    "param_lasso['regressor'] = [lasso]"
   ]
  },
  {
   "cell_type": "code",
   "execution_count": 15,
   "id": "33183718",
   "metadata": {},
   "outputs": [],
   "source": [
    "ridge = Ridge(\n",
    "    tol=1e-3,\n",
    "    random_state=random_state,\n",
    "    max_iter=max_iter,\n",
    ")\n",
    "\n",
    "param_ridge = {}\n",
    "param_ridge['scaler'] = copy.deepcopy(type_scaler)\n",
    "# param_ridge['dim_reductor'] = copy.deepcopy(dim_reductor)\n",
    "param_ridge['regressor__alpha'] = copy.deepcopy(regularizer_value)\n",
    "param_ridge['regressor'] = [ridge]"
   ]
  },
  {
   "cell_type": "code",
   "execution_count": 16,
   "id": "db44c360",
   "metadata": {},
   "outputs": [],
   "source": [
    "linear_svm = LinearSVR(\n",
    "    tol=1e-3,\n",
    "    random_state=random_state,\n",
    "    max_iter=max_iter,\n",
    ")\n",
    "\n",
    "param_linear_svm = {}\n",
    "param_linear_svm['scaler'] = copy.deepcopy(type_scaler)\n",
    "# param_linear_svm['dim_reductor'] = copy.deepcopy(dim_reductor)\n",
    "param_linear_svm['regressor__C'] = copy.deepcopy(regularizer_value)\n",
    "param_linear_svm['regressor__loss'] = [\"epsilon_insensitive\", \"squared_epsilon_insensitive\"]\n",
    "param_linear_svm['regressor'] = [linear_svm]"
   ]
  },
  {
   "cell_type": "code",
   "execution_count": 17,
   "id": "8744c46d",
   "metadata": {},
   "outputs": [],
   "source": [
    "svm = SVR(\n",
    "    tol=1e-3,\n",
    "    max_iter=max_iter,\n",
    ")\n",
    "\n",
    "param_svm = {}\n",
    "param_svm['scaler'] = copy.deepcopy(type_scaler)\n",
    "# param_linear_svm['dim_reductor'] = copy.deepcopy(dim_reductor)\n",
    "param_svm['regressor__C'] = copy.deepcopy(regularizer_value)\n",
    "param_svm['regressor__gamma'] = [\"scale\", \"auto\"]\n",
    "param_svm['regressor__kernel'] = [\"linear\", \"poly\", \"rbf\"]\n",
    "param_svm['regressor'] = [svm]"
   ]
  },
  {
   "cell_type": "code",
   "execution_count": 18,
   "id": "6a636f07",
   "metadata": {},
   "outputs": [],
   "source": [
    "ds_tree = DecisionTreeRegressor(random_state=random_state)\n",
    "\n",
    "param_tree = {}\n",
    "param_tree[\"scaler\"] = copy.deepcopy(type_scaler)\n",
    "param_tree['regressor__max_features'] = [None, 'sqrt']\n",
    "param_tree['regressor__max_depth'] = np.append(None, np.arange(10, 110, 10) )\n",
    "param_tree['regressor__min_samples_split'] = np.arange(3, 7)\n",
    "param_tree['regressor__min_samples_leaf'] = np.arange(3, 7)\n",
    "param_tree['regressor__criterion'] = [\"squared_error\", \"friedman_mse\", \"absolute_error\", \"poisson\"]\n",
    "param_tree['regressor'] = [ds_tree]"
   ]
  },
  {
   "cell_type": "markdown",
   "id": "b5a90698",
   "metadata": {},
   "source": [
    "### Create Pipeline"
   ]
  },
  {
   "cell_type": "code",
   "execution_count": 19,
   "id": "fca5a3ed",
   "metadata": {},
   "outputs": [],
   "source": [
    "from joblib import Memory"
   ]
  },
  {
   "cell_type": "code",
   "execution_count": 20,
   "id": "21655d8e",
   "metadata": {},
   "outputs": [],
   "source": [
    "memory = Memory(\n",
    "    location=CACHE_PATH,\n",
    "    # verbose=1,\n",
    ")"
   ]
  },
  {
   "cell_type": "code",
   "execution_count": 21,
   "id": "9e48bfae",
   "metadata": {},
   "outputs": [],
   "source": [
    "from sklearn.pipeline import Pipeline"
   ]
  },
  {
   "cell_type": "code",
   "execution_count": 22,
   "id": "a9497bcb",
   "metadata": {},
   "outputs": [],
   "source": [
    "pipeline = Pipeline(\n",
    "    steps = [\n",
    "        # 1. Scaler\n",
    "        ('scaler', scaler),\n",
    "        # 3. Model selecction\n",
    "        ('regressor', lr),\n",
    "    ],\n",
    "    memory=memory,\n",
    ")"
   ]
  },
  {
   "cell_type": "markdown",
   "id": "f4de0dfb",
   "metadata": {},
   "source": [
    "### Metrics"
   ]
  },
  {
   "cell_type": "code",
   "execution_count": 23,
   "id": "1e35efc4",
   "metadata": {},
   "outputs": [],
   "source": [
    "from sklearn.metrics import mean_absolute_error, mean_squared_error, r2_score, make_scorer\n",
    "from scipy.stats import pearsonr"
   ]
  },
  {
   "cell_type": "code",
   "execution_count": 24,
   "id": "f9a07689",
   "metadata": {},
   "outputs": [],
   "source": [
    "def adj_r2_score(estimator, X, y_true):\n",
    "    n, p = X.shape\n",
    "    pred = estimator.predict(X)\n",
    "    return 1 - ((1 - r2_score(y_true, pred)) * (n - 1))/(n-p-1)"
   ]
  },
  {
   "cell_type": "code",
   "execution_count": 25,
   "id": "b4efbefa",
   "metadata": {},
   "outputs": [],
   "source": [
    "def pearson_score(y_true, y_pred):\n",
    "    corr, _ = pearsonr(y_true, y_pred)\n",
    "    return corr"
   ]
  },
  {
   "cell_type": "markdown",
   "id": "393ed78c",
   "metadata": {},
   "source": [
    "### Create GridSearch"
   ]
  },
  {
   "cell_type": "code",
   "execution_count": 26,
   "id": "abb49d57",
   "metadata": {},
   "outputs": [],
   "source": [
    "from sklearn.model_selection import GridSearchCV"
   ]
  },
  {
   "cell_type": "code",
   "execution_count": 27,
   "id": "a6314c5b",
   "metadata": {},
   "outputs": [],
   "source": [
    "param_grid = [param_lr, \n",
    "              param_lasso,\n",
    "              param_ridge,\n",
    "              param_linear_svm,\n",
    "              param_svm,\n",
    "              #param_tree,\n",
    "             ]"
   ]
  },
  {
   "cell_type": "code",
   "execution_count": 28,
   "id": "58aa2e15",
   "metadata": {},
   "outputs": [
    {
     "data": {
      "text/plain": [
       "[{'scaler': ['passthrough', StandardScaler(), Normalizer()],\n",
       "  'regressor': [LinearRegression()]},\n",
       " {'scaler': ['passthrough', StandardScaler(), Normalizer()],\n",
       "  'regressor__alpha': array([1.e-03, 1.e-02, 1.e-01, 1.e+00, 1.e+01, 1.e+02, 1.e+03]),\n",
       "  'regressor': [Lasso(max_iter=2000, random_state=42, tol=0.001)]},\n",
       " {'scaler': ['passthrough', StandardScaler(), Normalizer()],\n",
       "  'regressor__alpha': array([1.e-03, 1.e-02, 1.e-01, 1.e+00, 1.e+01, 1.e+02, 1.e+03]),\n",
       "  'regressor': [Ridge(max_iter=2000, random_state=42, tol=0.001)]},\n",
       " {'scaler': ['passthrough', StandardScaler(), Normalizer()],\n",
       "  'regressor__C': array([1.e-03, 1.e-02, 1.e-01, 1.e+00, 1.e+01, 1.e+02, 1.e+03]),\n",
       "  'regressor__loss': ['epsilon_insensitive', 'squared_epsilon_insensitive'],\n",
       "  'regressor': [LinearSVR(max_iter=2000, random_state=42, tol=0.001)]},\n",
       " {'scaler': ['passthrough', StandardScaler(), Normalizer()],\n",
       "  'regressor__C': array([1.e-03, 1.e-02, 1.e-01, 1.e+00, 1.e+01, 1.e+02, 1.e+03]),\n",
       "  'regressor__gamma': ['scale', 'auto'],\n",
       "  'regressor__kernel': ['linear', 'poly', 'rbf'],\n",
       "  'regressor': [SVR(max_iter=2000)]}]"
      ]
     },
     "execution_count": 28,
     "metadata": {},
     "output_type": "execute_result"
    }
   ],
   "source": [
    "param_grid"
   ]
  },
  {
   "cell_type": "code",
   "execution_count": 29,
   "id": "66974990",
   "metadata": {},
   "outputs": [],
   "source": [
    "grid_search = GridSearchCV(\n",
    "            estimator=pipeline,\n",
    "            param_grid=param_grid,\n",
    "            scoring=make_scorer(pearson_score),\n",
    "            refit=True,\n",
    "            cv=5,  # << Use time series\n",
    "            verbose=4,\n",
    ")"
   ]
  },
  {
   "cell_type": "code",
   "execution_count": 30,
   "id": "f7b96206",
   "metadata": {},
   "outputs": [
    {
     "data": {
      "text/html": [
       "<style>#sk-container-id-1 {color: black;background-color: white;}#sk-container-id-1 pre{padding: 0;}#sk-container-id-1 div.sk-toggleable {background-color: white;}#sk-container-id-1 label.sk-toggleable__label {cursor: pointer;display: block;width: 100%;margin-bottom: 0;padding: 0.3em;box-sizing: border-box;text-align: center;}#sk-container-id-1 label.sk-toggleable__label-arrow:before {content: \"▸\";float: left;margin-right: 0.25em;color: #696969;}#sk-container-id-1 label.sk-toggleable__label-arrow:hover:before {color: black;}#sk-container-id-1 div.sk-estimator:hover label.sk-toggleable__label-arrow:before {color: black;}#sk-container-id-1 div.sk-toggleable__content {max-height: 0;max-width: 0;overflow: hidden;text-align: left;background-color: #f0f8ff;}#sk-container-id-1 div.sk-toggleable__content pre {margin: 0.2em;color: black;border-radius: 0.25em;background-color: #f0f8ff;}#sk-container-id-1 input.sk-toggleable__control:checked~div.sk-toggleable__content {max-height: 200px;max-width: 100%;overflow: auto;}#sk-container-id-1 input.sk-toggleable__control:checked~label.sk-toggleable__label-arrow:before {content: \"▾\";}#sk-container-id-1 div.sk-estimator input.sk-toggleable__control:checked~label.sk-toggleable__label {background-color: #d4ebff;}#sk-container-id-1 div.sk-label input.sk-toggleable__control:checked~label.sk-toggleable__label {background-color: #d4ebff;}#sk-container-id-1 input.sk-hidden--visually {border: 0;clip: rect(1px 1px 1px 1px);clip: rect(1px, 1px, 1px, 1px);height: 1px;margin: -1px;overflow: hidden;padding: 0;position: absolute;width: 1px;}#sk-container-id-1 div.sk-estimator {font-family: monospace;background-color: #f0f8ff;border: 1px dotted black;border-radius: 0.25em;box-sizing: border-box;margin-bottom: 0.5em;}#sk-container-id-1 div.sk-estimator:hover {background-color: #d4ebff;}#sk-container-id-1 div.sk-parallel-item::after {content: \"\";width: 100%;border-bottom: 1px solid gray;flex-grow: 1;}#sk-container-id-1 div.sk-label:hover label.sk-toggleable__label {background-color: #d4ebff;}#sk-container-id-1 div.sk-serial::before {content: \"\";position: absolute;border-left: 1px solid gray;box-sizing: border-box;top: 0;bottom: 0;left: 50%;z-index: 0;}#sk-container-id-1 div.sk-serial {display: flex;flex-direction: column;align-items: center;background-color: white;padding-right: 0.2em;padding-left: 0.2em;position: relative;}#sk-container-id-1 div.sk-item {position: relative;z-index: 1;}#sk-container-id-1 div.sk-parallel {display: flex;align-items: stretch;justify-content: center;background-color: white;position: relative;}#sk-container-id-1 div.sk-item::before, #sk-container-id-1 div.sk-parallel-item::before {content: \"\";position: absolute;border-left: 1px solid gray;box-sizing: border-box;top: 0;bottom: 0;left: 50%;z-index: -1;}#sk-container-id-1 div.sk-parallel-item {display: flex;flex-direction: column;z-index: 1;position: relative;background-color: white;}#sk-container-id-1 div.sk-parallel-item:first-child::after {align-self: flex-end;width: 50%;}#sk-container-id-1 div.sk-parallel-item:last-child::after {align-self: flex-start;width: 50%;}#sk-container-id-1 div.sk-parallel-item:only-child::after {width: 0;}#sk-container-id-1 div.sk-dashed-wrapped {border: 1px dashed gray;margin: 0 0.4em 0.5em 0.4em;box-sizing: border-box;padding-bottom: 0.4em;background-color: white;}#sk-container-id-1 div.sk-label label {font-family: monospace;font-weight: bold;display: inline-block;line-height: 1.2em;}#sk-container-id-1 div.sk-label-container {text-align: center;}#sk-container-id-1 div.sk-container {/* jupyter's `normalize.less` sets `[hidden] { display: none; }` but bootstrap.min.css set `[hidden] { display: none !important; }` so we also need the `!important` here to be able to override the default hidden behavior on the sphinx rendered scikit-learn.org. See: https://github.com/scikit-learn/scikit-learn/issues/21755 */display: inline-block !important;position: relative;}#sk-container-id-1 div.sk-text-repr-fallback {display: none;}</style><div id=\"sk-container-id-1\" class=\"sk-top-container\"><div class=\"sk-text-repr-fallback\"><pre>GridSearchCV(cv=5,\n",
       "             estimator=Pipeline(memory=Memory(location=outputs//cache/joblib),\n",
       "                                steps=[(&#x27;scaler&#x27;, StandardScaler()),\n",
       "                                       (&#x27;regressor&#x27;, LinearRegression())]),\n",
       "             param_grid=[{&#x27;regressor&#x27;: [LinearRegression()],\n",
       "                          &#x27;scaler&#x27;: [&#x27;passthrough&#x27;, StandardScaler(),\n",
       "                                     Normalizer()]},\n",
       "                         {&#x27;regressor&#x27;: [Lasso(max_iter=2000, random_state=42,\n",
       "                                              tol=0.001)],\n",
       "                          &#x27;regressor__alpha&#x27;: array([1.e-03,...\n",
       "                                              &#x27;squared_epsilon_insensitive&#x27;],\n",
       "                          &#x27;scaler&#x27;: [&#x27;passthrough&#x27;, StandardScaler(),\n",
       "                                     Normalizer()]},\n",
       "                         {&#x27;regressor&#x27;: [SVR(max_iter=2000)],\n",
       "                          &#x27;regressor__C&#x27;: array([1.e-03, 1.e-02, 1.e-01, 1.e+00, 1.e+01, 1.e+02, 1.e+03]),\n",
       "                          &#x27;regressor__gamma&#x27;: [&#x27;scale&#x27;, &#x27;auto&#x27;],\n",
       "                          &#x27;regressor__kernel&#x27;: [&#x27;linear&#x27;, &#x27;poly&#x27;, &#x27;rbf&#x27;],\n",
       "                          &#x27;scaler&#x27;: [&#x27;passthrough&#x27;, StandardScaler(),\n",
       "                                     Normalizer()]}],\n",
       "             scoring=make_scorer(pearson_score), verbose=4)</pre><b>In a Jupyter environment, please rerun this cell to show the HTML representation or trust the notebook. <br />On GitHub, the HTML representation is unable to render, please try loading this page with nbviewer.org.</b></div><div class=\"sk-container\" hidden><div class=\"sk-item sk-dashed-wrapped\"><div class=\"sk-label-container\"><div class=\"sk-label sk-toggleable\"><input class=\"sk-toggleable__control sk-hidden--visually\" id=\"sk-estimator-id-1\" type=\"checkbox\" ><label for=\"sk-estimator-id-1\" class=\"sk-toggleable__label sk-toggleable__label-arrow\">GridSearchCV</label><div class=\"sk-toggleable__content\"><pre>GridSearchCV(cv=5,\n",
       "             estimator=Pipeline(memory=Memory(location=outputs//cache/joblib),\n",
       "                                steps=[(&#x27;scaler&#x27;, StandardScaler()),\n",
       "                                       (&#x27;regressor&#x27;, LinearRegression())]),\n",
       "             param_grid=[{&#x27;regressor&#x27;: [LinearRegression()],\n",
       "                          &#x27;scaler&#x27;: [&#x27;passthrough&#x27;, StandardScaler(),\n",
       "                                     Normalizer()]},\n",
       "                         {&#x27;regressor&#x27;: [Lasso(max_iter=2000, random_state=42,\n",
       "                                              tol=0.001)],\n",
       "                          &#x27;regressor__alpha&#x27;: array([1.e-03,...\n",
       "                                              &#x27;squared_epsilon_insensitive&#x27;],\n",
       "                          &#x27;scaler&#x27;: [&#x27;passthrough&#x27;, StandardScaler(),\n",
       "                                     Normalizer()]},\n",
       "                         {&#x27;regressor&#x27;: [SVR(max_iter=2000)],\n",
       "                          &#x27;regressor__C&#x27;: array([1.e-03, 1.e-02, 1.e-01, 1.e+00, 1.e+01, 1.e+02, 1.e+03]),\n",
       "                          &#x27;regressor__gamma&#x27;: [&#x27;scale&#x27;, &#x27;auto&#x27;],\n",
       "                          &#x27;regressor__kernel&#x27;: [&#x27;linear&#x27;, &#x27;poly&#x27;, &#x27;rbf&#x27;],\n",
       "                          &#x27;scaler&#x27;: [&#x27;passthrough&#x27;, StandardScaler(),\n",
       "                                     Normalizer()]}],\n",
       "             scoring=make_scorer(pearson_score), verbose=4)</pre></div></div></div><div class=\"sk-parallel\"><div class=\"sk-parallel-item\"><div class=\"sk-item\"><div class=\"sk-label-container\"><div class=\"sk-label sk-toggleable\"><input class=\"sk-toggleable__control sk-hidden--visually\" id=\"sk-estimator-id-2\" type=\"checkbox\" ><label for=\"sk-estimator-id-2\" class=\"sk-toggleable__label sk-toggleable__label-arrow\">estimator: Pipeline</label><div class=\"sk-toggleable__content\"><pre>Pipeline(memory=Memory(location=outputs//cache/joblib),\n",
       "         steps=[(&#x27;scaler&#x27;, StandardScaler()),\n",
       "                (&#x27;regressor&#x27;, LinearRegression())])</pre></div></div></div><div class=\"sk-serial\"><div class=\"sk-item\"><div class=\"sk-serial\"><div class=\"sk-item\"><div class=\"sk-estimator sk-toggleable\"><input class=\"sk-toggleable__control sk-hidden--visually\" id=\"sk-estimator-id-3\" type=\"checkbox\" ><label for=\"sk-estimator-id-3\" class=\"sk-toggleable__label sk-toggleable__label-arrow\">StandardScaler</label><div class=\"sk-toggleable__content\"><pre>StandardScaler()</pre></div></div></div><div class=\"sk-item\"><div class=\"sk-estimator sk-toggleable\"><input class=\"sk-toggleable__control sk-hidden--visually\" id=\"sk-estimator-id-4\" type=\"checkbox\" ><label for=\"sk-estimator-id-4\" class=\"sk-toggleable__label sk-toggleable__label-arrow\">LinearRegression</label><div class=\"sk-toggleable__content\"><pre>LinearRegression()</pre></div></div></div></div></div></div></div></div></div></div></div></div>"
      ],
      "text/plain": [
       "GridSearchCV(cv=5,\n",
       "             estimator=Pipeline(memory=Memory(location=outputs//cache/joblib),\n",
       "                                steps=[('scaler', StandardScaler()),\n",
       "                                       ('regressor', LinearRegression())]),\n",
       "             param_grid=[{'regressor': [LinearRegression()],\n",
       "                          'scaler': ['passthrough', StandardScaler(),\n",
       "                                     Normalizer()]},\n",
       "                         {'regressor': [Lasso(max_iter=2000, random_state=42,\n",
       "                                              tol=0.001)],\n",
       "                          'regressor__alpha': array([1.e-03,...\n",
       "                                              'squared_epsilon_insensitive'],\n",
       "                          'scaler': ['passthrough', StandardScaler(),\n",
       "                                     Normalizer()]},\n",
       "                         {'regressor': [SVR(max_iter=2000)],\n",
       "                          'regressor__C': array([1.e-03, 1.e-02, 1.e-01, 1.e+00, 1.e+01, 1.e+02, 1.e+03]),\n",
       "                          'regressor__gamma': ['scale', 'auto'],\n",
       "                          'regressor__kernel': ['linear', 'poly', 'rbf'],\n",
       "                          'scaler': ['passthrough', StandardScaler(),\n",
       "                                     Normalizer()]}],\n",
       "             scoring=make_scorer(pearson_score), verbose=4)"
      ]
     },
     "execution_count": 30,
     "metadata": {},
     "output_type": "execute_result"
    }
   ],
   "source": [
    "grid_search"
   ]
  },
  {
   "cell_type": "markdown",
   "id": "354958ab",
   "metadata": {},
   "source": [
    "### Data Split"
   ]
  },
  {
   "cell_type": "code",
   "execution_count": 31,
   "id": "110409ed",
   "metadata": {},
   "outputs": [],
   "source": [
    "from sklearn.metrics import classification_report\n",
    "from sklearn.model_selection import train_test_split"
   ]
  },
  {
   "cell_type": "code",
   "execution_count": 32,
   "id": "fdc90604",
   "metadata": {},
   "outputs": [
    {
     "name": "stdout",
     "output_type": "stream",
     "text": [
      "(83241, 19) (83241,) (27747, 19) (27747,)\n"
     ]
    }
   ],
   "source": [
    "xtrain, xtest, ytrain, ytest = train_test_split(X, \n",
    "                                                y, \n",
    "                                                train_size=0.75, \n",
    "                                                random_state=random_state,\n",
    "                                               )\n",
    "print(xtrain.shape, ytrain.shape, xtest.shape, ytest.shape)"
   ]
  },
  {
   "cell_type": "markdown",
   "id": "9f0dbf34",
   "metadata": {},
   "source": [
    "### Training"
   ]
  },
  {
   "cell_type": "code",
   "execution_count": null,
   "id": "634086f1",
   "metadata": {},
   "outputs": [
    {
     "name": "stdout",
     "output_type": "stream",
     "text": [
      "Fitting 5 folds for each of 213 candidates, totalling 1065 fits\n",
      "[CV 1/5] END regressor=LinearRegression(), scaler=passthrough;, score=0.279 total time=   0.0s\n",
      "[CV 2/5] END regressor=LinearRegression(), scaler=passthrough;, score=0.278 total time=   0.0s\n",
      "[CV 3/5] END regressor=LinearRegression(), scaler=passthrough;, score=0.292 total time=   0.0s\n",
      "[CV 4/5] END regressor=LinearRegression(), scaler=passthrough;, score=0.283 total time=   0.0s\n",
      "[CV 5/5] END regressor=LinearRegression(), scaler=passthrough;, score=0.283 total time=   0.0s\n",
      "[CV 1/5] END regressor=LinearRegression(), scaler=StandardScaler();, score=0.279 total time=   0.0s\n",
      "[CV 2/5] END regressor=LinearRegression(), scaler=StandardScaler();, score=0.278 total time=   0.0s\n",
      "[CV 3/5] END regressor=LinearRegression(), scaler=StandardScaler();, score=0.292 total time=   0.0s\n",
      "[CV 4/5] END regressor=LinearRegression(), scaler=StandardScaler();, score=0.283 total time=   0.0s\n",
      "[CV 5/5] END regressor=LinearRegression(), scaler=StandardScaler();, score=0.283 total time=   0.0s\n",
      "[CV 1/5] END regressor=LinearRegression(), scaler=Normalizer();, score=0.285 total time=   0.0s\n",
      "[CV 2/5] END regressor=LinearRegression(), scaler=Normalizer();, score=0.287 total time=   0.0s\n",
      "[CV 3/5] END regressor=LinearRegression(), scaler=Normalizer();, score=0.299 total time=   0.0s\n",
      "[CV 4/5] END regressor=LinearRegression(), scaler=Normalizer();, score=0.294 total time=   0.0s\n",
      "[CV 5/5] END regressor=LinearRegression(), scaler=Normalizer();, score=0.291 total time=   0.0s\n",
      "[CV 1/5] END regressor=Lasso(max_iter=2000, random_state=42, tol=0.001), regressor__alpha=0.001, scaler=passthrough;, score=0.279 total time=   0.1s\n",
      "[CV 2/5] END regressor=Lasso(max_iter=2000, random_state=42, tol=0.001), regressor__alpha=0.001, scaler=passthrough;, score=0.278 total time=   0.1s\n",
      "[CV 3/5] END regressor=Lasso(max_iter=2000, random_state=42, tol=0.001), regressor__alpha=0.001, scaler=passthrough;, score=0.292 total time=   0.1s\n",
      "[CV 4/5] END regressor=Lasso(max_iter=2000, random_state=42, tol=0.001), regressor__alpha=0.001, scaler=passthrough;, score=0.283 total time=   0.1s\n",
      "[CV 5/5] END regressor=Lasso(max_iter=2000, random_state=42, tol=0.001), regressor__alpha=0.001, scaler=passthrough;, score=0.283 total time=   0.1s\n",
      "[CV 1/5] END regressor=Lasso(max_iter=2000, random_state=42, tol=0.001), regressor__alpha=0.001, scaler=StandardScaler();, score=0.279 total time=   0.1s\n",
      "[CV 2/5] END regressor=Lasso(max_iter=2000, random_state=42, tol=0.001), regressor__alpha=0.001, scaler=StandardScaler();, score=0.278 total time=   0.1s\n",
      "[CV 3/5] END regressor=Lasso(max_iter=2000, random_state=42, tol=0.001), regressor__alpha=0.001, scaler=StandardScaler();, score=0.292 total time=   0.1s\n",
      "[CV 4/5] END regressor=Lasso(max_iter=2000, random_state=42, tol=0.001), regressor__alpha=0.001, scaler=StandardScaler();, score=0.283 total time=   0.1s\n",
      "[CV 5/5] END regressor=Lasso(max_iter=2000, random_state=42, tol=0.001), regressor__alpha=0.001, scaler=StandardScaler();, score=0.283 total time=   0.1s\n",
      "[CV 1/5] END regressor=Lasso(max_iter=2000, random_state=42, tol=0.001), regressor__alpha=0.001, scaler=Normalizer();, score=0.280 total time=   0.0s\n",
      "[CV 2/5] END regressor=Lasso(max_iter=2000, random_state=42, tol=0.001), regressor__alpha=0.001, scaler=Normalizer();, score=0.283 total time=   0.0s\n",
      "[CV 3/5] END regressor=Lasso(max_iter=2000, random_state=42, tol=0.001), regressor__alpha=0.001, scaler=Normalizer();, score=0.292 total time=   0.0s\n",
      "[CV 4/5] END regressor=Lasso(max_iter=2000, random_state=42, tol=0.001), regressor__alpha=0.001, scaler=Normalizer();, score=0.290 total time=   0.0s\n",
      "[CV 5/5] END regressor=Lasso(max_iter=2000, random_state=42, tol=0.001), regressor__alpha=0.001, scaler=Normalizer();, score=0.285 total time=   0.0s\n",
      "[CV 1/5] END regressor=Lasso(max_iter=2000, random_state=42, tol=0.001), regressor__alpha=0.01, scaler=passthrough;, score=0.278 total time=   0.0s\n",
      "[CV 2/5] END regressor=Lasso(max_iter=2000, random_state=42, tol=0.001), regressor__alpha=0.01, scaler=passthrough;, score=0.278 total time=   0.0s\n",
      "[CV 3/5] END regressor=Lasso(max_iter=2000, random_state=42, tol=0.001), regressor__alpha=0.01, scaler=passthrough;, score=0.291 total time=   0.0s\n",
      "[CV 4/5] END regressor=Lasso(max_iter=2000, random_state=42, tol=0.001), regressor__alpha=0.01, scaler=passthrough;, score=0.282 total time=   0.1s\n",
      "[CV 5/5] END regressor=Lasso(max_iter=2000, random_state=42, tol=0.001), regressor__alpha=0.01, scaler=passthrough;, score=0.282 total time=   0.1s\n",
      "[CV 1/5] END regressor=Lasso(max_iter=2000, random_state=42, tol=0.001), regressor__alpha=0.01, scaler=StandardScaler();, score=0.279 total time=   0.1s\n",
      "[CV 2/5] END regressor=Lasso(max_iter=2000, random_state=42, tol=0.001), regressor__alpha=0.01, scaler=StandardScaler();, score=0.278 total time=   0.1s\n",
      "[CV 3/5] END regressor=Lasso(max_iter=2000, random_state=42, tol=0.001), regressor__alpha=0.01, scaler=StandardScaler();, score=0.290 total time=   0.1s\n",
      "[CV 4/5] END regressor=Lasso(max_iter=2000, random_state=42, tol=0.001), regressor__alpha=0.01, scaler=StandardScaler();, score=0.283 total time=   0.1s\n",
      "[CV 5/5] END regressor=Lasso(max_iter=2000, random_state=42, tol=0.001), regressor__alpha=0.01, scaler=StandardScaler();, score=0.281 total time=   0.1s\n",
      "[CV 1/5] END regressor=Lasso(max_iter=2000, random_state=42, tol=0.001), regressor__alpha=0.01, scaler=Normalizer();, score=0.220 total time=   0.0s\n",
      "[CV 2/5] END regressor=Lasso(max_iter=2000, random_state=42, tol=0.001), regressor__alpha=0.01, scaler=Normalizer();, score=0.224 total time=   0.0s\n",
      "[CV 3/5] END regressor=Lasso(max_iter=2000, random_state=42, tol=0.001), regressor__alpha=0.01, scaler=Normalizer();, score=0.223 total time=   0.0s\n",
      "[CV 4/5] END regressor=Lasso(max_iter=2000, random_state=42, tol=0.001), regressor__alpha=0.01, scaler=Normalizer();, score=0.217 total time=   0.0s\n",
      "[CV 5/5] END regressor=Lasso(max_iter=2000, random_state=42, tol=0.001), regressor__alpha=0.01, scaler=Normalizer();, score=0.226 total time=   0.0s\n",
      "[CV 1/5] END regressor=Lasso(max_iter=2000, random_state=42, tol=0.001), regressor__alpha=0.1, scaler=passthrough;, score=0.269 total time=   0.0s\n",
      "[CV 2/5] END regressor=Lasso(max_iter=2000, random_state=42, tol=0.001), regressor__alpha=0.1, scaler=passthrough;, score=0.270 total time=   0.0s\n",
      "[CV 3/5] END regressor=Lasso(max_iter=2000, random_state=42, tol=0.001), regressor__alpha=0.1, scaler=passthrough;, score=0.276 total time=   0.0s\n",
      "[CV 4/5] END regressor=Lasso(max_iter=2000, random_state=42, tol=0.001), regressor__alpha=0.1, scaler=passthrough;, score=0.272 total time=   0.0s\n",
      "[CV 5/5] END regressor=Lasso(max_iter=2000, random_state=42, tol=0.001), regressor__alpha=0.1, scaler=passthrough;, score=0.271 total time=   0.0s\n",
      "[CV 1/5] END regressor=Lasso(max_iter=2000, random_state=42, tol=0.001), regressor__alpha=0.1, scaler=StandardScaler();, score=0.217 total time=   0.0s\n",
      "[CV 2/5] END regressor=Lasso(max_iter=2000, random_state=42, tol=0.001), regressor__alpha=0.1, scaler=StandardScaler();, score=0.211 total time=   0.0s\n",
      "[CV 3/5] END regressor=Lasso(max_iter=2000, random_state=42, tol=0.001), regressor__alpha=0.1, scaler=StandardScaler();, score=0.207 total time=   0.0s\n",
      "[CV 4/5] END regressor=Lasso(max_iter=2000, random_state=42, tol=0.001), regressor__alpha=0.1, scaler=StandardScaler();, score=0.205 total time=   0.0s\n",
      "[CV 5/5] END regressor=Lasso(max_iter=2000, random_state=42, tol=0.001), regressor__alpha=0.1, scaler=StandardScaler();, score=0.215 total time=   0.0s\n",
      "[CV 1/5] END regressor=Lasso(max_iter=2000, random_state=42, tol=0.001), regressor__alpha=0.1, scaler=Normalizer();, score=nan total time=   0.0s\n",
      "[CV 2/5] END regressor=Lasso(max_iter=2000, random_state=42, tol=0.001), regressor__alpha=0.1, scaler=Normalizer();, score=nan total time=   0.0s\n",
      "[CV 3/5] END regressor=Lasso(max_iter=2000, random_state=42, tol=0.001), regressor__alpha=0.1, scaler=Normalizer();, score=nan total time=   0.0s\n",
      "[CV 4/5] END regressor=Lasso(max_iter=2000, random_state=42, tol=0.001), regressor__alpha=0.1, scaler=Normalizer();, score=nan total time=   0.0s\n",
      "[CV 5/5] END regressor=Lasso(max_iter=2000, random_state=42, tol=0.001), regressor__alpha=0.1, scaler=Normalizer();, score=nan total time=   0.0s\n",
      "[CV 1/5] END regressor=Lasso(max_iter=2000, random_state=42, tol=0.001), regressor__alpha=1.0, scaler=passthrough;, score=0.177 total time=   0.0s\n",
      "[CV 2/5] END regressor=Lasso(max_iter=2000, random_state=42, tol=0.001), regressor__alpha=1.0, scaler=passthrough;, score=0.174 total time=   0.0s\n",
      "[CV 3/5] END regressor=Lasso(max_iter=2000, random_state=42, tol=0.001), regressor__alpha=1.0, scaler=passthrough;, score=0.171 total time=   0.0s\n",
      "[CV 4/5] END regressor=Lasso(max_iter=2000, random_state=42, tol=0.001), regressor__alpha=1.0, scaler=passthrough;, score=0.168 total time=   0.0s\n"
     ]
    },
    {
     "name": "stderr",
     "output_type": "stream",
     "text": [
      "/home/felipe/anaconda3/envs/server_PlacePulse/lib/python3.8/site-packages/scipy/stats/_stats_py.py:4424: ConstantInputWarning: An input array is constant; the correlation coefficient is not defined.\n",
      "  warnings.warn(stats.ConstantInputWarning(msg))\n",
      "/home/felipe/anaconda3/envs/server_PlacePulse/lib/python3.8/site-packages/scipy/stats/_stats_py.py:4424: ConstantInputWarning: An input array is constant; the correlation coefficient is not defined.\n",
      "  warnings.warn(stats.ConstantInputWarning(msg))\n",
      "/home/felipe/anaconda3/envs/server_PlacePulse/lib/python3.8/site-packages/scipy/stats/_stats_py.py:4424: ConstantInputWarning: An input array is constant; the correlation coefficient is not defined.\n",
      "  warnings.warn(stats.ConstantInputWarning(msg))\n",
      "/home/felipe/anaconda3/envs/server_PlacePulse/lib/python3.8/site-packages/scipy/stats/_stats_py.py:4424: ConstantInputWarning: An input array is constant; the correlation coefficient is not defined.\n",
      "  warnings.warn(stats.ConstantInputWarning(msg))\n",
      "/home/felipe/anaconda3/envs/server_PlacePulse/lib/python3.8/site-packages/scipy/stats/_stats_py.py:4424: ConstantInputWarning: An input array is constant; the correlation coefficient is not defined.\n",
      "  warnings.warn(stats.ConstantInputWarning(msg))\n",
      "/home/felipe/anaconda3/envs/server_PlacePulse/lib/python3.8/site-packages/scipy/stats/_stats_py.py:4424: ConstantInputWarning: An input array is constant; the correlation coefficient is not defined.\n",
      "  warnings.warn(stats.ConstantInputWarning(msg))\n"
     ]
    },
    {
     "name": "stdout",
     "output_type": "stream",
     "text": [
      "[CV 5/5] END regressor=Lasso(max_iter=2000, random_state=42, tol=0.001), regressor__alpha=1.0, scaler=passthrough;, score=0.178 total time=   0.0s\n",
      "[CV 1/5] END regressor=Lasso(max_iter=2000, random_state=42, tol=0.001), regressor__alpha=1.0, scaler=StandardScaler();, score=nan total time=   0.0s\n",
      "[CV 2/5] END regressor=Lasso(max_iter=2000, random_state=42, tol=0.001), regressor__alpha=1.0, scaler=StandardScaler();, score=nan total time=   0.0s\n",
      "[CV 3/5] END regressor=Lasso(max_iter=2000, random_state=42, tol=0.001), regressor__alpha=1.0, scaler=StandardScaler();, score=nan total time=   0.0s\n",
      "[CV 4/5] END regressor=Lasso(max_iter=2000, random_state=42, tol=0.001), regressor__alpha=1.0, scaler=StandardScaler();, score=nan total time=   0.0s\n",
      "[CV 5/5] END regressor=Lasso(max_iter=2000, random_state=42, tol=0.001), regressor__alpha=1.0, scaler=StandardScaler();, score=nan total time=   0.0s\n",
      "[CV 1/5] END regressor=Lasso(max_iter=2000, random_state=42, tol=0.001), regressor__alpha=1.0, scaler=Normalizer();, score=nan total time=   0.0s\n",
      "[CV 2/5] END regressor=Lasso(max_iter=2000, random_state=42, tol=0.001), regressor__alpha=1.0, scaler=Normalizer();, score=nan total time=   0.0s\n",
      "[CV 3/5] END regressor=Lasso(max_iter=2000, random_state=42, tol=0.001), regressor__alpha=1.0, scaler=Normalizer();, score=nan total time=   0.0s\n"
     ]
    },
    {
     "name": "stderr",
     "output_type": "stream",
     "text": [
      "/home/felipe/anaconda3/envs/server_PlacePulse/lib/python3.8/site-packages/scipy/stats/_stats_py.py:4424: ConstantInputWarning: An input array is constant; the correlation coefficient is not defined.\n",
      "  warnings.warn(stats.ConstantInputWarning(msg))\n",
      "/home/felipe/anaconda3/envs/server_PlacePulse/lib/python3.8/site-packages/scipy/stats/_stats_py.py:4424: ConstantInputWarning: An input array is constant; the correlation coefficient is not defined.\n",
      "  warnings.warn(stats.ConstantInputWarning(msg))\n",
      "/home/felipe/anaconda3/envs/server_PlacePulse/lib/python3.8/site-packages/scipy/stats/_stats_py.py:4424: ConstantInputWarning: An input array is constant; the correlation coefficient is not defined.\n",
      "  warnings.warn(stats.ConstantInputWarning(msg))\n",
      "/home/felipe/anaconda3/envs/server_PlacePulse/lib/python3.8/site-packages/scipy/stats/_stats_py.py:4424: ConstantInputWarning: An input array is constant; the correlation coefficient is not defined.\n",
      "  warnings.warn(stats.ConstantInputWarning(msg))\n",
      "/home/felipe/anaconda3/envs/server_PlacePulse/lib/python3.8/site-packages/scipy/stats/_stats_py.py:4424: ConstantInputWarning: An input array is constant; the correlation coefficient is not defined.\n",
      "  warnings.warn(stats.ConstantInputWarning(msg))\n",
      "/home/felipe/anaconda3/envs/server_PlacePulse/lib/python3.8/site-packages/scipy/stats/_stats_py.py:4424: ConstantInputWarning: An input array is constant; the correlation coefficient is not defined.\n",
      "  warnings.warn(stats.ConstantInputWarning(msg))\n",
      "/home/felipe/anaconda3/envs/server_PlacePulse/lib/python3.8/site-packages/scipy/stats/_stats_py.py:4424: ConstantInputWarning: An input array is constant; the correlation coefficient is not defined.\n",
      "  warnings.warn(stats.ConstantInputWarning(msg))\n",
      "/home/felipe/anaconda3/envs/server_PlacePulse/lib/python3.8/site-packages/scipy/stats/_stats_py.py:4424: ConstantInputWarning: An input array is constant; the correlation coefficient is not defined.\n",
      "  warnings.warn(stats.ConstantInputWarning(msg))\n",
      "/home/felipe/anaconda3/envs/server_PlacePulse/lib/python3.8/site-packages/scipy/stats/_stats_py.py:4424: ConstantInputWarning: An input array is constant; the correlation coefficient is not defined.\n",
      "  warnings.warn(stats.ConstantInputWarning(msg))\n",
      "/home/felipe/anaconda3/envs/server_PlacePulse/lib/python3.8/site-packages/scipy/stats/_stats_py.py:4424: ConstantInputWarning: An input array is constant; the correlation coefficient is not defined.\n",
      "  warnings.warn(stats.ConstantInputWarning(msg))\n"
     ]
    },
    {
     "name": "stdout",
     "output_type": "stream",
     "text": [
      "[CV 4/5] END regressor=Lasso(max_iter=2000, random_state=42, tol=0.001), regressor__alpha=1.0, scaler=Normalizer();, score=nan total time=   0.0s\n",
      "[CV 5/5] END regressor=Lasso(max_iter=2000, random_state=42, tol=0.001), regressor__alpha=1.0, scaler=Normalizer();, score=nan total time=   0.0s\n",
      "[CV 1/5] END regressor=Lasso(max_iter=2000, random_state=42, tol=0.001), regressor__alpha=10.0, scaler=passthrough;, score=nan total time=   0.0s\n",
      "[CV 2/5] END regressor=Lasso(max_iter=2000, random_state=42, tol=0.001), regressor__alpha=10.0, scaler=passthrough;, score=nan total time=   0.0s\n",
      "[CV 3/5] END regressor=Lasso(max_iter=2000, random_state=42, tol=0.001), regressor__alpha=10.0, scaler=passthrough;, score=nan total time=   0.0s\n",
      "[CV 4/5] END regressor=Lasso(max_iter=2000, random_state=42, tol=0.001), regressor__alpha=10.0, scaler=passthrough;, score=nan total time=   0.0s\n",
      "[CV 5/5] END regressor=Lasso(max_iter=2000, random_state=42, tol=0.001), regressor__alpha=10.0, scaler=passthrough;, score=nan total time=   0.0s\n",
      "[CV 1/5] END regressor=Lasso(max_iter=2000, random_state=42, tol=0.001), regressor__alpha=10.0, scaler=StandardScaler();, score=nan total time=   0.0s\n",
      "[CV 2/5] END regressor=Lasso(max_iter=2000, random_state=42, tol=0.001), regressor__alpha=10.0, scaler=StandardScaler();, score=nan total time=   0.0s\n",
      "[CV 3/5] END regressor=Lasso(max_iter=2000, random_state=42, tol=0.001), regressor__alpha=10.0, scaler=StandardScaler();, score=nan total time=   0.0s\n",
      "[CV 4/5] END regressor=Lasso(max_iter=2000, random_state=42, tol=0.001), regressor__alpha=10.0, scaler=StandardScaler();, score=nan total time=   0.0s\n"
     ]
    },
    {
     "name": "stderr",
     "output_type": "stream",
     "text": [
      "/home/felipe/anaconda3/envs/server_PlacePulse/lib/python3.8/site-packages/scipy/stats/_stats_py.py:4424: ConstantInputWarning: An input array is constant; the correlation coefficient is not defined.\n",
      "  warnings.warn(stats.ConstantInputWarning(msg))\n",
      "/home/felipe/anaconda3/envs/server_PlacePulse/lib/python3.8/site-packages/scipy/stats/_stats_py.py:4424: ConstantInputWarning: An input array is constant; the correlation coefficient is not defined.\n",
      "  warnings.warn(stats.ConstantInputWarning(msg))\n",
      "/home/felipe/anaconda3/envs/server_PlacePulse/lib/python3.8/site-packages/scipy/stats/_stats_py.py:4424: ConstantInputWarning: An input array is constant; the correlation coefficient is not defined.\n",
      "  warnings.warn(stats.ConstantInputWarning(msg))\n",
      "/home/felipe/anaconda3/envs/server_PlacePulse/lib/python3.8/site-packages/scipy/stats/_stats_py.py:4424: ConstantInputWarning: An input array is constant; the correlation coefficient is not defined.\n",
      "  warnings.warn(stats.ConstantInputWarning(msg))\n",
      "/home/felipe/anaconda3/envs/server_PlacePulse/lib/python3.8/site-packages/scipy/stats/_stats_py.py:4424: ConstantInputWarning: An input array is constant; the correlation coefficient is not defined.\n",
      "  warnings.warn(stats.ConstantInputWarning(msg))\n",
      "/home/felipe/anaconda3/envs/server_PlacePulse/lib/python3.8/site-packages/scipy/stats/_stats_py.py:4424: ConstantInputWarning: An input array is constant; the correlation coefficient is not defined.\n",
      "  warnings.warn(stats.ConstantInputWarning(msg))\n",
      "/home/felipe/anaconda3/envs/server_PlacePulse/lib/python3.8/site-packages/scipy/stats/_stats_py.py:4424: ConstantInputWarning: An input array is constant; the correlation coefficient is not defined.\n",
      "  warnings.warn(stats.ConstantInputWarning(msg))\n",
      "/home/felipe/anaconda3/envs/server_PlacePulse/lib/python3.8/site-packages/scipy/stats/_stats_py.py:4424: ConstantInputWarning: An input array is constant; the correlation coefficient is not defined.\n",
      "  warnings.warn(stats.ConstantInputWarning(msg))\n",
      "/home/felipe/anaconda3/envs/server_PlacePulse/lib/python3.8/site-packages/scipy/stats/_stats_py.py:4424: ConstantInputWarning: An input array is constant; the correlation coefficient is not defined.\n",
      "  warnings.warn(stats.ConstantInputWarning(msg))\n",
      "/home/felipe/anaconda3/envs/server_PlacePulse/lib/python3.8/site-packages/scipy/stats/_stats_py.py:4424: ConstantInputWarning: An input array is constant; the correlation coefficient is not defined.\n",
      "  warnings.warn(stats.ConstantInputWarning(msg))\n"
     ]
    },
    {
     "name": "stdout",
     "output_type": "stream",
     "text": [
      "[CV 5/5] END regressor=Lasso(max_iter=2000, random_state=42, tol=0.001), regressor__alpha=10.0, scaler=StandardScaler();, score=nan total time=   0.0s\n",
      "[CV 1/5] END regressor=Lasso(max_iter=2000, random_state=42, tol=0.001), regressor__alpha=10.0, scaler=Normalizer();, score=nan total time=   0.0s\n",
      "[CV 2/5] END regressor=Lasso(max_iter=2000, random_state=42, tol=0.001), regressor__alpha=10.0, scaler=Normalizer();, score=nan total time=   0.0s\n",
      "[CV 3/5] END regressor=Lasso(max_iter=2000, random_state=42, tol=0.001), regressor__alpha=10.0, scaler=Normalizer();, score=nan total time=   0.0s\n",
      "[CV 4/5] END regressor=Lasso(max_iter=2000, random_state=42, tol=0.001), regressor__alpha=10.0, scaler=Normalizer();, score=nan total time=   0.0s\n",
      "[CV 5/5] END regressor=Lasso(max_iter=2000, random_state=42, tol=0.001), regressor__alpha=10.0, scaler=Normalizer();, score=nan total time=   0.0s\n",
      "[CV 1/5] END regressor=Lasso(max_iter=2000, random_state=42, tol=0.001), regressor__alpha=100.0, scaler=passthrough;, score=nan total time=   0.0s\n",
      "[CV 2/5] END regressor=Lasso(max_iter=2000, random_state=42, tol=0.001), regressor__alpha=100.0, scaler=passthrough;, score=nan total time=   0.0s\n",
      "[CV 3/5] END regressor=Lasso(max_iter=2000, random_state=42, tol=0.001), regressor__alpha=100.0, scaler=passthrough;, score=nan total time=   0.0s\n",
      "[CV 4/5] END regressor=Lasso(max_iter=2000, random_state=42, tol=0.001), regressor__alpha=100.0, scaler=passthrough;, score=nan total time=   0.0s\n",
      "[CV 5/5] END regressor=Lasso(max_iter=2000, random_state=42, tol=0.001), regressor__alpha=100.0, scaler=passthrough;, score=nan total time=   0.0s\n",
      "[CV 1/5] END regressor=Lasso(max_iter=2000, random_state=42, tol=0.001), regressor__alpha=100.0, scaler=StandardScaler();, score=nan total time=   0.0s\n"
     ]
    },
    {
     "name": "stderr",
     "output_type": "stream",
     "text": [
      "/home/felipe/anaconda3/envs/server_PlacePulse/lib/python3.8/site-packages/scipy/stats/_stats_py.py:4424: ConstantInputWarning: An input array is constant; the correlation coefficient is not defined.\n",
      "  warnings.warn(stats.ConstantInputWarning(msg))\n",
      "/home/felipe/anaconda3/envs/server_PlacePulse/lib/python3.8/site-packages/scipy/stats/_stats_py.py:4424: ConstantInputWarning: An input array is constant; the correlation coefficient is not defined.\n",
      "  warnings.warn(stats.ConstantInputWarning(msg))\n",
      "/home/felipe/anaconda3/envs/server_PlacePulse/lib/python3.8/site-packages/scipy/stats/_stats_py.py:4424: ConstantInputWarning: An input array is constant; the correlation coefficient is not defined.\n",
      "  warnings.warn(stats.ConstantInputWarning(msg))\n",
      "/home/felipe/anaconda3/envs/server_PlacePulse/lib/python3.8/site-packages/scipy/stats/_stats_py.py:4424: ConstantInputWarning: An input array is constant; the correlation coefficient is not defined.\n",
      "  warnings.warn(stats.ConstantInputWarning(msg))\n",
      "/home/felipe/anaconda3/envs/server_PlacePulse/lib/python3.8/site-packages/scipy/stats/_stats_py.py:4424: ConstantInputWarning: An input array is constant; the correlation coefficient is not defined.\n",
      "  warnings.warn(stats.ConstantInputWarning(msg))\n",
      "/home/felipe/anaconda3/envs/server_PlacePulse/lib/python3.8/site-packages/scipy/stats/_stats_py.py:4424: ConstantInputWarning: An input array is constant; the correlation coefficient is not defined.\n",
      "  warnings.warn(stats.ConstantInputWarning(msg))\n",
      "/home/felipe/anaconda3/envs/server_PlacePulse/lib/python3.8/site-packages/scipy/stats/_stats_py.py:4424: ConstantInputWarning: An input array is constant; the correlation coefficient is not defined.\n",
      "  warnings.warn(stats.ConstantInputWarning(msg))\n",
      "/home/felipe/anaconda3/envs/server_PlacePulse/lib/python3.8/site-packages/scipy/stats/_stats_py.py:4424: ConstantInputWarning: An input array is constant; the correlation coefficient is not defined.\n",
      "  warnings.warn(stats.ConstantInputWarning(msg))\n",
      "/home/felipe/anaconda3/envs/server_PlacePulse/lib/python3.8/site-packages/scipy/stats/_stats_py.py:4424: ConstantInputWarning: An input array is constant; the correlation coefficient is not defined.\n",
      "  warnings.warn(stats.ConstantInputWarning(msg))\n",
      "/home/felipe/anaconda3/envs/server_PlacePulse/lib/python3.8/site-packages/scipy/stats/_stats_py.py:4424: ConstantInputWarning: An input array is constant; the correlation coefficient is not defined.\n",
      "  warnings.warn(stats.ConstantInputWarning(msg))\n",
      "/home/felipe/anaconda3/envs/server_PlacePulse/lib/python3.8/site-packages/scipy/stats/_stats_py.py:4424: ConstantInputWarning: An input array is constant; the correlation coefficient is not defined.\n",
      "  warnings.warn(stats.ConstantInputWarning(msg))\n",
      "/home/felipe/anaconda3/envs/server_PlacePulse/lib/python3.8/site-packages/scipy/stats/_stats_py.py:4424: ConstantInputWarning: An input array is constant; the correlation coefficient is not defined.\n",
      "  warnings.warn(stats.ConstantInputWarning(msg))\n"
     ]
    },
    {
     "name": "stdout",
     "output_type": "stream",
     "text": [
      "[CV 2/5] END regressor=Lasso(max_iter=2000, random_state=42, tol=0.001), regressor__alpha=100.0, scaler=StandardScaler();, score=nan total time=   0.0s\n",
      "[CV 3/5] END regressor=Lasso(max_iter=2000, random_state=42, tol=0.001), regressor__alpha=100.0, scaler=StandardScaler();, score=nan total time=   0.0s\n",
      "[CV 4/5] END regressor=Lasso(max_iter=2000, random_state=42, tol=0.001), regressor__alpha=100.0, scaler=StandardScaler();, score=nan total time=   0.0s\n",
      "[CV 5/5] END regressor=Lasso(max_iter=2000, random_state=42, tol=0.001), regressor__alpha=100.0, scaler=StandardScaler();, score=nan total time=   0.0s\n",
      "[CV 1/5] END regressor=Lasso(max_iter=2000, random_state=42, tol=0.001), regressor__alpha=100.0, scaler=Normalizer();, score=nan total time=   0.0s\n",
      "[CV 2/5] END regressor=Lasso(max_iter=2000, random_state=42, tol=0.001), regressor__alpha=100.0, scaler=Normalizer();, score=nan total time=   0.0s\n",
      "[CV 3/5] END regressor=Lasso(max_iter=2000, random_state=42, tol=0.001), regressor__alpha=100.0, scaler=Normalizer();, score=nan total time=   0.0s\n",
      "[CV 4/5] END regressor=Lasso(max_iter=2000, random_state=42, tol=0.001), regressor__alpha=100.0, scaler=Normalizer();, score=nan total time=   0.0s\n",
      "[CV 5/5] END regressor=Lasso(max_iter=2000, random_state=42, tol=0.001), regressor__alpha=100.0, scaler=Normalizer();, score=nan total time=   0.0s\n"
     ]
    },
    {
     "name": "stderr",
     "output_type": "stream",
     "text": [
      "/home/felipe/anaconda3/envs/server_PlacePulse/lib/python3.8/site-packages/scipy/stats/_stats_py.py:4424: ConstantInputWarning: An input array is constant; the correlation coefficient is not defined.\n",
      "  warnings.warn(stats.ConstantInputWarning(msg))\n",
      "/home/felipe/anaconda3/envs/server_PlacePulse/lib/python3.8/site-packages/scipy/stats/_stats_py.py:4424: ConstantInputWarning: An input array is constant; the correlation coefficient is not defined.\n",
      "  warnings.warn(stats.ConstantInputWarning(msg))\n",
      "/home/felipe/anaconda3/envs/server_PlacePulse/lib/python3.8/site-packages/scipy/stats/_stats_py.py:4424: ConstantInputWarning: An input array is constant; the correlation coefficient is not defined.\n",
      "  warnings.warn(stats.ConstantInputWarning(msg))\n",
      "/home/felipe/anaconda3/envs/server_PlacePulse/lib/python3.8/site-packages/scipy/stats/_stats_py.py:4424: ConstantInputWarning: An input array is constant; the correlation coefficient is not defined.\n",
      "  warnings.warn(stats.ConstantInputWarning(msg))\n",
      "/home/felipe/anaconda3/envs/server_PlacePulse/lib/python3.8/site-packages/scipy/stats/_stats_py.py:4424: ConstantInputWarning: An input array is constant; the correlation coefficient is not defined.\n",
      "  warnings.warn(stats.ConstantInputWarning(msg))\n",
      "/home/felipe/anaconda3/envs/server_PlacePulse/lib/python3.8/site-packages/scipy/stats/_stats_py.py:4424: ConstantInputWarning: An input array is constant; the correlation coefficient is not defined.\n",
      "  warnings.warn(stats.ConstantInputWarning(msg))\n",
      "/home/felipe/anaconda3/envs/server_PlacePulse/lib/python3.8/site-packages/scipy/stats/_stats_py.py:4424: ConstantInputWarning: An input array is constant; the correlation coefficient is not defined.\n",
      "  warnings.warn(stats.ConstantInputWarning(msg))\n",
      "/home/felipe/anaconda3/envs/server_PlacePulse/lib/python3.8/site-packages/scipy/stats/_stats_py.py:4424: ConstantInputWarning: An input array is constant; the correlation coefficient is not defined.\n",
      "  warnings.warn(stats.ConstantInputWarning(msg))\n",
      "/home/felipe/anaconda3/envs/server_PlacePulse/lib/python3.8/site-packages/scipy/stats/_stats_py.py:4424: ConstantInputWarning: An input array is constant; the correlation coefficient is not defined.\n",
      "  warnings.warn(stats.ConstantInputWarning(msg))\n",
      "/home/felipe/anaconda3/envs/server_PlacePulse/lib/python3.8/site-packages/scipy/stats/_stats_py.py:4424: ConstantInputWarning: An input array is constant; the correlation coefficient is not defined.\n",
      "  warnings.warn(stats.ConstantInputWarning(msg))\n"
     ]
    },
    {
     "name": "stdout",
     "output_type": "stream",
     "text": [
      "[CV 1/5] END regressor=Lasso(max_iter=2000, random_state=42, tol=0.001), regressor__alpha=1000.0, scaler=passthrough;, score=nan total time=   0.0s\n",
      "[CV 2/5] END regressor=Lasso(max_iter=2000, random_state=42, tol=0.001), regressor__alpha=1000.0, scaler=passthrough;, score=nan total time=   0.0s\n",
      "[CV 3/5] END regressor=Lasso(max_iter=2000, random_state=42, tol=0.001), regressor__alpha=1000.0, scaler=passthrough;, score=nan total time=   0.0s\n",
      "[CV 4/5] END regressor=Lasso(max_iter=2000, random_state=42, tol=0.001), regressor__alpha=1000.0, scaler=passthrough;, score=nan total time=   0.0s\n",
      "[CV 5/5] END regressor=Lasso(max_iter=2000, random_state=42, tol=0.001), regressor__alpha=1000.0, scaler=passthrough;, score=nan total time=   0.0s\n",
      "[CV 1/5] END regressor=Lasso(max_iter=2000, random_state=42, tol=0.001), regressor__alpha=1000.0, scaler=StandardScaler();, score=nan total time=   0.0s\n",
      "[CV 2/5] END regressor=Lasso(max_iter=2000, random_state=42, tol=0.001), regressor__alpha=1000.0, scaler=StandardScaler();, score=nan total time=   0.0s\n",
      "[CV 3/5] END regressor=Lasso(max_iter=2000, random_state=42, tol=0.001), regressor__alpha=1000.0, scaler=StandardScaler();, score=nan total time=   0.0s\n",
      "[CV 4/5] END regressor=Lasso(max_iter=2000, random_state=42, tol=0.001), regressor__alpha=1000.0, scaler=StandardScaler();, score=nan total time=   0.0s\n",
      "[CV 5/5] END regressor=Lasso(max_iter=2000, random_state=42, tol=0.001), regressor__alpha=1000.0, scaler=StandardScaler();, score=nan total time=   0.0s\n"
     ]
    },
    {
     "name": "stderr",
     "output_type": "stream",
     "text": [
      "/home/felipe/anaconda3/envs/server_PlacePulse/lib/python3.8/site-packages/scipy/stats/_stats_py.py:4424: ConstantInputWarning: An input array is constant; the correlation coefficient is not defined.\n",
      "  warnings.warn(stats.ConstantInputWarning(msg))\n",
      "/home/felipe/anaconda3/envs/server_PlacePulse/lib/python3.8/site-packages/scipy/stats/_stats_py.py:4424: ConstantInputWarning: An input array is constant; the correlation coefficient is not defined.\n",
      "  warnings.warn(stats.ConstantInputWarning(msg))\n",
      "/home/felipe/anaconda3/envs/server_PlacePulse/lib/python3.8/site-packages/scipy/stats/_stats_py.py:4424: ConstantInputWarning: An input array is constant; the correlation coefficient is not defined.\n",
      "  warnings.warn(stats.ConstantInputWarning(msg))\n",
      "/home/felipe/anaconda3/envs/server_PlacePulse/lib/python3.8/site-packages/scipy/stats/_stats_py.py:4424: ConstantInputWarning: An input array is constant; the correlation coefficient is not defined.\n",
      "  warnings.warn(stats.ConstantInputWarning(msg))\n",
      "/home/felipe/anaconda3/envs/server_PlacePulse/lib/python3.8/site-packages/scipy/stats/_stats_py.py:4424: ConstantInputWarning: An input array is constant; the correlation coefficient is not defined.\n",
      "  warnings.warn(stats.ConstantInputWarning(msg))\n",
      "/home/felipe/anaconda3/envs/server_PlacePulse/lib/python3.8/site-packages/scipy/stats/_stats_py.py:4424: ConstantInputWarning: An input array is constant; the correlation coefficient is not defined.\n",
      "  warnings.warn(stats.ConstantInputWarning(msg))\n",
      "/home/felipe/anaconda3/envs/server_PlacePulse/lib/python3.8/site-packages/scipy/stats/_stats_py.py:4424: ConstantInputWarning: An input array is constant; the correlation coefficient is not defined.\n",
      "  warnings.warn(stats.ConstantInputWarning(msg))\n",
      "/home/felipe/anaconda3/envs/server_PlacePulse/lib/python3.8/site-packages/scipy/stats/_stats_py.py:4424: ConstantInputWarning: An input array is constant; the correlation coefficient is not defined.\n",
      "  warnings.warn(stats.ConstantInputWarning(msg))\n",
      "/home/felipe/anaconda3/envs/server_PlacePulse/lib/python3.8/site-packages/scipy/stats/_stats_py.py:4424: ConstantInputWarning: An input array is constant; the correlation coefficient is not defined.\n",
      "  warnings.warn(stats.ConstantInputWarning(msg))\n"
     ]
    },
    {
     "name": "stdout",
     "output_type": "stream",
     "text": [
      "[CV 1/5] END regressor=Lasso(max_iter=2000, random_state=42, tol=0.001), regressor__alpha=1000.0, scaler=Normalizer();, score=nan total time=   0.0s\n",
      "[CV 2/5] END regressor=Lasso(max_iter=2000, random_state=42, tol=0.001), regressor__alpha=1000.0, scaler=Normalizer();, score=nan total time=   0.0s\n",
      "[CV 3/5] END regressor=Lasso(max_iter=2000, random_state=42, tol=0.001), regressor__alpha=1000.0, scaler=Normalizer();, score=nan total time=   0.0s\n",
      "[CV 4/5] END regressor=Lasso(max_iter=2000, random_state=42, tol=0.001), regressor__alpha=1000.0, scaler=Normalizer();, score=nan total time=   0.0s\n",
      "[CV 5/5] END regressor=Lasso(max_iter=2000, random_state=42, tol=0.001), regressor__alpha=1000.0, scaler=Normalizer();, score=nan total time=   0.0s\n",
      "[CV 1/5] END regressor=Ridge(max_iter=2000, random_state=42, tol=0.001), regressor__alpha=0.001, scaler=passthrough;, score=0.279 total time=   0.0s\n",
      "[CV 2/5] END regressor=Ridge(max_iter=2000, random_state=42, tol=0.001), regressor__alpha=0.001, scaler=passthrough;, score=0.278 total time=   0.0s\n",
      "[CV 3/5] END regressor=Ridge(max_iter=2000, random_state=42, tol=0.001), regressor__alpha=0.001, scaler=passthrough;, score=0.292 total time=   0.0s\n",
      "[CV 4/5] END regressor=Ridge(max_iter=2000, random_state=42, tol=0.001), regressor__alpha=0.001, scaler=passthrough;, score=0.283 total time=   0.0s\n",
      "[CV 5/5] END regressor=Ridge(max_iter=2000, random_state=42, tol=0.001), regressor__alpha=0.001, scaler=passthrough;, score=0.283 total time=   0.0s\n",
      "[CV 1/5] END regressor=Ridge(max_iter=2000, random_state=42, tol=0.001), regressor__alpha=0.001, scaler=StandardScaler();, score=0.279 total time=   0.0s\n",
      "[CV 2/5] END regressor=Ridge(max_iter=2000, random_state=42, tol=0.001), regressor__alpha=0.001, scaler=StandardScaler();, score=0.278 total time=   0.0s\n",
      "[CV 3/5] END regressor=Ridge(max_iter=2000, random_state=42, tol=0.001), regressor__alpha=0.001, scaler=StandardScaler();, score=0.292 total time=   0.0s\n"
     ]
    },
    {
     "name": "stderr",
     "output_type": "stream",
     "text": [
      "/home/felipe/anaconda3/envs/server_PlacePulse/lib/python3.8/site-packages/scipy/stats/_stats_py.py:4424: ConstantInputWarning: An input array is constant; the correlation coefficient is not defined.\n",
      "  warnings.warn(stats.ConstantInputWarning(msg))\n",
      "/home/felipe/anaconda3/envs/server_PlacePulse/lib/python3.8/site-packages/scipy/stats/_stats_py.py:4424: ConstantInputWarning: An input array is constant; the correlation coefficient is not defined.\n",
      "  warnings.warn(stats.ConstantInputWarning(msg))\n",
      "/home/felipe/anaconda3/envs/server_PlacePulse/lib/python3.8/site-packages/scipy/stats/_stats_py.py:4424: ConstantInputWarning: An input array is constant; the correlation coefficient is not defined.\n",
      "  warnings.warn(stats.ConstantInputWarning(msg))\n"
     ]
    },
    {
     "name": "stdout",
     "output_type": "stream",
     "text": [
      "[CV 4/5] END regressor=Ridge(max_iter=2000, random_state=42, tol=0.001), regressor__alpha=0.001, scaler=StandardScaler();, score=0.283 total time=   0.0s\n",
      "[CV 5/5] END regressor=Ridge(max_iter=2000, random_state=42, tol=0.001), regressor__alpha=0.001, scaler=StandardScaler();, score=0.283 total time=   0.0s\n",
      "[CV 1/5] END regressor=Ridge(max_iter=2000, random_state=42, tol=0.001), regressor__alpha=0.001, scaler=Normalizer();, score=0.285 total time=   0.0s\n",
      "[CV 2/5] END regressor=Ridge(max_iter=2000, random_state=42, tol=0.001), regressor__alpha=0.001, scaler=Normalizer();, score=0.287 total time=   0.0s\n",
      "[CV 3/5] END regressor=Ridge(max_iter=2000, random_state=42, tol=0.001), regressor__alpha=0.001, scaler=Normalizer();, score=0.299 total time=   0.0s\n",
      "[CV 4/5] END regressor=Ridge(max_iter=2000, random_state=42, tol=0.001), regressor__alpha=0.001, scaler=Normalizer();, score=0.294 total time=   0.0s\n",
      "[CV 5/5] END regressor=Ridge(max_iter=2000, random_state=42, tol=0.001), regressor__alpha=0.001, scaler=Normalizer();, score=0.291 total time=   0.0s\n",
      "[CV 1/5] END regressor=Ridge(max_iter=2000, random_state=42, tol=0.001), regressor__alpha=0.01, scaler=passthrough;, score=0.279 total time=   0.0s\n",
      "[CV 2/5] END regressor=Ridge(max_iter=2000, random_state=42, tol=0.001), regressor__alpha=0.01, scaler=passthrough;, score=0.278 total time=   0.0s\n",
      "[CV 3/5] END regressor=Ridge(max_iter=2000, random_state=42, tol=0.001), regressor__alpha=0.01, scaler=passthrough;, score=0.292 total time=   0.0s\n",
      "[CV 4/5] END regressor=Ridge(max_iter=2000, random_state=42, tol=0.001), regressor__alpha=0.01, scaler=passthrough;, score=0.283 total time=   0.0s\n",
      "[CV 5/5] END regressor=Ridge(max_iter=2000, random_state=42, tol=0.001), regressor__alpha=0.01, scaler=passthrough;, score=0.283 total time=   0.0s\n",
      "[CV 1/5] END regressor=Ridge(max_iter=2000, random_state=42, tol=0.001), regressor__alpha=0.01, scaler=StandardScaler();, score=0.279 total time=   0.0s\n",
      "[CV 2/5] END regressor=Ridge(max_iter=2000, random_state=42, tol=0.001), regressor__alpha=0.01, scaler=StandardScaler();, score=0.278 total time=   0.0s\n",
      "[CV 3/5] END regressor=Ridge(max_iter=2000, random_state=42, tol=0.001), regressor__alpha=0.01, scaler=StandardScaler();, score=0.292 total time=   0.0s\n",
      "[CV 4/5] END regressor=Ridge(max_iter=2000, random_state=42, tol=0.001), regressor__alpha=0.01, scaler=StandardScaler();, score=0.283 total time=   0.0s\n",
      "[CV 5/5] END regressor=Ridge(max_iter=2000, random_state=42, tol=0.001), regressor__alpha=0.01, scaler=StandardScaler();, score=0.283 total time=   0.0s\n",
      "[CV 1/5] END regressor=Ridge(max_iter=2000, random_state=42, tol=0.001), regressor__alpha=0.01, scaler=Normalizer();, score=0.285 total time=   0.0s\n",
      "[CV 2/5] END regressor=Ridge(max_iter=2000, random_state=42, tol=0.001), regressor__alpha=0.01, scaler=Normalizer();, score=0.287 total time=   0.0s\n",
      "[CV 3/5] END regressor=Ridge(max_iter=2000, random_state=42, tol=0.001), regressor__alpha=0.01, scaler=Normalizer();, score=0.299 total time=   0.0s\n",
      "[CV 4/5] END regressor=Ridge(max_iter=2000, random_state=42, tol=0.001), regressor__alpha=0.01, scaler=Normalizer();, score=0.294 total time=   0.0s\n",
      "[CV 5/5] END regressor=Ridge(max_iter=2000, random_state=42, tol=0.001), regressor__alpha=0.01, scaler=Normalizer();, score=0.291 total time=   0.0s\n",
      "[CV 1/5] END regressor=Ridge(max_iter=2000, random_state=42, tol=0.001), regressor__alpha=0.1, scaler=passthrough;, score=0.279 total time=   0.0s\n",
      "[CV 2/5] END regressor=Ridge(max_iter=2000, random_state=42, tol=0.001), regressor__alpha=0.1, scaler=passthrough;, score=0.278 total time=   0.0s\n",
      "[CV 3/5] END regressor=Ridge(max_iter=2000, random_state=42, tol=0.001), regressor__alpha=0.1, scaler=passthrough;, score=0.292 total time=   0.0s\n",
      "[CV 4/5] END regressor=Ridge(max_iter=2000, random_state=42, tol=0.001), regressor__alpha=0.1, scaler=passthrough;, score=0.283 total time=   0.0s\n",
      "[CV 5/5] END regressor=Ridge(max_iter=2000, random_state=42, tol=0.001), regressor__alpha=0.1, scaler=passthrough;, score=0.283 total time=   0.0s\n",
      "[CV 1/5] END regressor=Ridge(max_iter=2000, random_state=42, tol=0.001), regressor__alpha=0.1, scaler=StandardScaler();, score=0.279 total time=   0.0s\n",
      "[CV 2/5] END regressor=Ridge(max_iter=2000, random_state=42, tol=0.001), regressor__alpha=0.1, scaler=StandardScaler();, score=0.278 total time=   0.0s\n",
      "[CV 3/5] END regressor=Ridge(max_iter=2000, random_state=42, tol=0.001), regressor__alpha=0.1, scaler=StandardScaler();, score=0.292 total time=   0.0s\n",
      "[CV 4/5] END regressor=Ridge(max_iter=2000, random_state=42, tol=0.001), regressor__alpha=0.1, scaler=StandardScaler();, score=0.283 total time=   0.0s\n",
      "[CV 5/5] END regressor=Ridge(max_iter=2000, random_state=42, tol=0.001), regressor__alpha=0.1, scaler=StandardScaler();, score=0.283 total time=   0.0s\n",
      "[CV 1/5] END regressor=Ridge(max_iter=2000, random_state=42, tol=0.001), regressor__alpha=0.1, scaler=Normalizer();, score=0.285 total time=   0.0s\n",
      "[CV 2/5] END regressor=Ridge(max_iter=2000, random_state=42, tol=0.001), regressor__alpha=0.1, scaler=Normalizer();, score=0.287 total time=   0.0s\n",
      "[CV 3/5] END regressor=Ridge(max_iter=2000, random_state=42, tol=0.001), regressor__alpha=0.1, scaler=Normalizer();, score=0.299 total time=   0.0s\n",
      "[CV 4/5] END regressor=Ridge(max_iter=2000, random_state=42, tol=0.001), regressor__alpha=0.1, scaler=Normalizer();, score=0.294 total time=   0.0s\n",
      "[CV 5/5] END regressor=Ridge(max_iter=2000, random_state=42, tol=0.001), regressor__alpha=0.1, scaler=Normalizer();, score=0.291 total time=   0.0s\n",
      "[CV 1/5] END regressor=Ridge(max_iter=2000, random_state=42, tol=0.001), regressor__alpha=1.0, scaler=passthrough;, score=0.279 total time=   0.0s\n",
      "[CV 2/5] END regressor=Ridge(max_iter=2000, random_state=42, tol=0.001), regressor__alpha=1.0, scaler=passthrough;, score=0.278 total time=   0.0s\n",
      "[CV 3/5] END regressor=Ridge(max_iter=2000, random_state=42, tol=0.001), regressor__alpha=1.0, scaler=passthrough;, score=0.292 total time=   0.0s\n",
      "[CV 4/5] END regressor=Ridge(max_iter=2000, random_state=42, tol=0.001), regressor__alpha=1.0, scaler=passthrough;, score=0.283 total time=   0.0s\n",
      "[CV 5/5] END regressor=Ridge(max_iter=2000, random_state=42, tol=0.001), regressor__alpha=1.0, scaler=passthrough;, score=0.283 total time=   0.0s\n",
      "[CV 1/5] END regressor=Ridge(max_iter=2000, random_state=42, tol=0.001), regressor__alpha=1.0, scaler=StandardScaler();, score=0.279 total time=   0.0s\n",
      "[CV 2/5] END regressor=Ridge(max_iter=2000, random_state=42, tol=0.001), regressor__alpha=1.0, scaler=StandardScaler();, score=0.278 total time=   0.0s\n",
      "[CV 3/5] END regressor=Ridge(max_iter=2000, random_state=42, tol=0.001), regressor__alpha=1.0, scaler=StandardScaler();, score=0.292 total time=   0.0s\n",
      "[CV 4/5] END regressor=Ridge(max_iter=2000, random_state=42, tol=0.001), regressor__alpha=1.0, scaler=StandardScaler();, score=0.283 total time=   0.0s\n",
      "[CV 5/5] END regressor=Ridge(max_iter=2000, random_state=42, tol=0.001), regressor__alpha=1.0, scaler=StandardScaler();, score=0.283 total time=   0.0s\n",
      "[CV 1/5] END regressor=Ridge(max_iter=2000, random_state=42, tol=0.001), regressor__alpha=1.0, scaler=Normalizer();, score=0.285 total time=   0.0s\n",
      "[CV 2/5] END regressor=Ridge(max_iter=2000, random_state=42, tol=0.001), regressor__alpha=1.0, scaler=Normalizer();, score=0.287 total time=   0.0s\n",
      "[CV 3/5] END regressor=Ridge(max_iter=2000, random_state=42, tol=0.001), regressor__alpha=1.0, scaler=Normalizer();, score=0.299 total time=   0.0s\n",
      "[CV 4/5] END regressor=Ridge(max_iter=2000, random_state=42, tol=0.001), regressor__alpha=1.0, scaler=Normalizer();, score=0.294 total time=   0.0s\n",
      "[CV 5/5] END regressor=Ridge(max_iter=2000, random_state=42, tol=0.001), regressor__alpha=1.0, scaler=Normalizer();, score=0.291 total time=   0.0s\n",
      "[CV 1/5] END regressor=Ridge(max_iter=2000, random_state=42, tol=0.001), regressor__alpha=10.0, scaler=passthrough;, score=0.279 total time=   0.0s\n",
      "[CV 2/5] END regressor=Ridge(max_iter=2000, random_state=42, tol=0.001), regressor__alpha=10.0, scaler=passthrough;, score=0.278 total time=   0.0s\n",
      "[CV 3/5] END regressor=Ridge(max_iter=2000, random_state=42, tol=0.001), regressor__alpha=10.0, scaler=passthrough;, score=0.292 total time=   0.0s\n",
      "[CV 4/5] END regressor=Ridge(max_iter=2000, random_state=42, tol=0.001), regressor__alpha=10.0, scaler=passthrough;, score=0.283 total time=   0.0s\n",
      "[CV 5/5] END regressor=Ridge(max_iter=2000, random_state=42, tol=0.001), regressor__alpha=10.0, scaler=passthrough;, score=0.283 total time=   0.0s\n",
      "[CV 1/5] END regressor=Ridge(max_iter=2000, random_state=42, tol=0.001), regressor__alpha=10.0, scaler=StandardScaler();, score=0.279 total time=   0.0s\n",
      "[CV 2/5] END regressor=Ridge(max_iter=2000, random_state=42, tol=0.001), regressor__alpha=10.0, scaler=StandardScaler();, score=0.278 total time=   0.0s\n",
      "[CV 3/5] END regressor=Ridge(max_iter=2000, random_state=42, tol=0.001), regressor__alpha=10.0, scaler=StandardScaler();, score=0.292 total time=   0.0s\n",
      "[CV 4/5] END regressor=Ridge(max_iter=2000, random_state=42, tol=0.001), regressor__alpha=10.0, scaler=StandardScaler();, score=0.283 total time=   0.0s\n"
     ]
    },
    {
     "name": "stdout",
     "output_type": "stream",
     "text": [
      "[CV 5/5] END regressor=Ridge(max_iter=2000, random_state=42, tol=0.001), regressor__alpha=10.0, scaler=StandardScaler();, score=0.283 total time=   0.0s\n",
      "[CV 1/5] END regressor=Ridge(max_iter=2000, random_state=42, tol=0.001), regressor__alpha=10.0, scaler=Normalizer();, score=0.284 total time=   0.0s\n",
      "[CV 2/5] END regressor=Ridge(max_iter=2000, random_state=42, tol=0.001), regressor__alpha=10.0, scaler=Normalizer();, score=0.286 total time=   0.0s\n",
      "[CV 3/5] END regressor=Ridge(max_iter=2000, random_state=42, tol=0.001), regressor__alpha=10.0, scaler=Normalizer();, score=0.299 total time=   0.0s\n",
      "[CV 4/5] END regressor=Ridge(max_iter=2000, random_state=42, tol=0.001), regressor__alpha=10.0, scaler=Normalizer();, score=0.294 total time=   0.0s\n",
      "[CV 5/5] END regressor=Ridge(max_iter=2000, random_state=42, tol=0.001), regressor__alpha=10.0, scaler=Normalizer();, score=0.290 total time=   0.0s\n",
      "[CV 1/5] END regressor=Ridge(max_iter=2000, random_state=42, tol=0.001), regressor__alpha=100.0, scaler=passthrough;, score=0.279 total time=   0.0s\n",
      "[CV 2/5] END regressor=Ridge(max_iter=2000, random_state=42, tol=0.001), regressor__alpha=100.0, scaler=passthrough;, score=0.278 total time=   0.0s\n",
      "[CV 3/5] END regressor=Ridge(max_iter=2000, random_state=42, tol=0.001), regressor__alpha=100.0, scaler=passthrough;, score=0.292 total time=   0.0s\n",
      "[CV 4/5] END regressor=Ridge(max_iter=2000, random_state=42, tol=0.001), regressor__alpha=100.0, scaler=passthrough;, score=0.283 total time=   0.0s\n",
      "[CV 5/5] END regressor=Ridge(max_iter=2000, random_state=42, tol=0.001), regressor__alpha=100.0, scaler=passthrough;, score=0.283 total time=   0.0s\n",
      "[CV 1/5] END regressor=Ridge(max_iter=2000, random_state=42, tol=0.001), regressor__alpha=100.0, scaler=StandardScaler();, score=0.279 total time=   0.0s\n",
      "[CV 2/5] END regressor=Ridge(max_iter=2000, random_state=42, tol=0.001), regressor__alpha=100.0, scaler=StandardScaler();, score=0.278 total time=   0.0s\n",
      "[CV 3/5] END regressor=Ridge(max_iter=2000, random_state=42, tol=0.001), regressor__alpha=100.0, scaler=StandardScaler();, score=0.292 total time=   0.0s\n",
      "[CV 4/5] END regressor=Ridge(max_iter=2000, random_state=42, tol=0.001), regressor__alpha=100.0, scaler=StandardScaler();, score=0.283 total time=   0.0s\n",
      "[CV 5/5] END regressor=Ridge(max_iter=2000, random_state=42, tol=0.001), regressor__alpha=100.0, scaler=StandardScaler();, score=0.283 total time=   0.0s\n",
      "[CV 1/5] END regressor=Ridge(max_iter=2000, random_state=42, tol=0.001), regressor__alpha=100.0, scaler=Normalizer();, score=0.281 total time=   0.0s\n",
      "[CV 2/5] END regressor=Ridge(max_iter=2000, random_state=42, tol=0.001), regressor__alpha=100.0, scaler=Normalizer();, score=0.283 total time=   0.0s\n",
      "[CV 3/5] END regressor=Ridge(max_iter=2000, random_state=42, tol=0.001), regressor__alpha=100.0, scaler=Normalizer();, score=0.293 total time=   0.0s\n",
      "[CV 4/5] END regressor=Ridge(max_iter=2000, random_state=42, tol=0.001), regressor__alpha=100.0, scaler=Normalizer();, score=0.290 total time=   0.0s\n",
      "[CV 5/5] END regressor=Ridge(max_iter=2000, random_state=42, tol=0.001), regressor__alpha=100.0, scaler=Normalizer();, score=0.285 total time=   0.0s\n",
      "[CV 1/5] END regressor=Ridge(max_iter=2000, random_state=42, tol=0.001), regressor__alpha=1000.0, scaler=passthrough;, score=0.279 total time=   0.0s\n",
      "[CV 2/5] END regressor=Ridge(max_iter=2000, random_state=42, tol=0.001), regressor__alpha=1000.0, scaler=passthrough;, score=0.278 total time=   0.0s\n",
      "[CV 3/5] END regressor=Ridge(max_iter=2000, random_state=42, tol=0.001), regressor__alpha=1000.0, scaler=passthrough;, score=0.292 total time=   0.0s\n",
      "[CV 4/5] END regressor=Ridge(max_iter=2000, random_state=42, tol=0.001), regressor__alpha=1000.0, scaler=passthrough;, score=0.283 total time=   0.0s\n",
      "[CV 5/5] END regressor=Ridge(max_iter=2000, random_state=42, tol=0.001), regressor__alpha=1000.0, scaler=passthrough;, score=0.283 total time=   0.0s\n",
      "[CV 1/5] END regressor=Ridge(max_iter=2000, random_state=42, tol=0.001), regressor__alpha=1000.0, scaler=StandardScaler();, score=0.279 total time=   0.0s\n",
      "[CV 2/5] END regressor=Ridge(max_iter=2000, random_state=42, tol=0.001), regressor__alpha=1000.0, scaler=StandardScaler();, score=0.278 total time=   0.0s\n",
      "[CV 3/5] END regressor=Ridge(max_iter=2000, random_state=42, tol=0.001), regressor__alpha=1000.0, scaler=StandardScaler();, score=0.292 total time=   0.0s\n",
      "[CV 4/5] END regressor=Ridge(max_iter=2000, random_state=42, tol=0.001), regressor__alpha=1000.0, scaler=StandardScaler();, score=0.283 total time=   0.0s\n",
      "[CV 5/5] END regressor=Ridge(max_iter=2000, random_state=42, tol=0.001), regressor__alpha=1000.0, scaler=StandardScaler();, score=0.283 total time=   0.0s\n",
      "[CV 1/5] END regressor=Ridge(max_iter=2000, random_state=42, tol=0.001), regressor__alpha=1000.0, scaler=Normalizer();, score=0.262 total time=   0.0s\n",
      "[CV 2/5] END regressor=Ridge(max_iter=2000, random_state=42, tol=0.001), regressor__alpha=1000.0, scaler=Normalizer();, score=0.265 total time=   0.0s\n",
      "[CV 3/5] END regressor=Ridge(max_iter=2000, random_state=42, tol=0.001), regressor__alpha=1000.0, scaler=Normalizer();, score=0.268 total time=   0.0s\n",
      "[CV 4/5] END regressor=Ridge(max_iter=2000, random_state=42, tol=0.001), regressor__alpha=1000.0, scaler=Normalizer();, score=0.264 total time=   0.0s\n",
      "[CV 5/5] END regressor=Ridge(max_iter=2000, random_state=42, tol=0.001), regressor__alpha=1000.0, scaler=Normalizer();, score=0.265 total time=   0.0s\n",
      "[CV 1/5] END regressor=LinearSVR(max_iter=2000, random_state=42, tol=0.001), regressor__C=0.001, regressor__loss=epsilon_insensitive, scaler=passthrough;, score=0.239 total time=   0.1s\n",
      "[CV 2/5] END regressor=LinearSVR(max_iter=2000, random_state=42, tol=0.001), regressor__C=0.001, regressor__loss=epsilon_insensitive, scaler=passthrough;, score=0.243 total time=   0.1s\n",
      "[CV 3/5] END regressor=LinearSVR(max_iter=2000, random_state=42, tol=0.001), regressor__C=0.001, regressor__loss=epsilon_insensitive, scaler=passthrough;, score=0.259 total time=   0.1s\n",
      "[CV 4/5] END regressor=LinearSVR(max_iter=2000, random_state=42, tol=0.001), regressor__C=0.001, regressor__loss=epsilon_insensitive, scaler=passthrough;, score=0.244 total time=   0.1s\n",
      "[CV 5/5] END regressor=LinearSVR(max_iter=2000, random_state=42, tol=0.001), regressor__C=0.001, regressor__loss=epsilon_insensitive, scaler=passthrough;, score=0.243 total time=   0.1s\n",
      "[CV 1/5] END regressor=LinearSVR(max_iter=2000, random_state=42, tol=0.001), regressor__C=0.001, regressor__loss=epsilon_insensitive, scaler=StandardScaler();, score=0.278 total time=   0.1s\n",
      "[CV 2/5] END regressor=LinearSVR(max_iter=2000, random_state=42, tol=0.001), regressor__C=0.001, regressor__loss=epsilon_insensitive, scaler=StandardScaler();, score=0.278 total time=   0.1s\n",
      "[CV 3/5] END regressor=LinearSVR(max_iter=2000, random_state=42, tol=0.001), regressor__C=0.001, regressor__loss=epsilon_insensitive, scaler=StandardScaler();, score=0.293 total time=   0.0s\n",
      "[CV 4/5] END regressor=LinearSVR(max_iter=2000, random_state=42, tol=0.001), regressor__C=0.001, regressor__loss=epsilon_insensitive, scaler=StandardScaler();, score=0.283 total time=   0.0s\n",
      "[CV 5/5] END regressor=LinearSVR(max_iter=2000, random_state=42, tol=0.001), regressor__C=0.001, regressor__loss=epsilon_insensitive, scaler=StandardScaler();, score=0.282 total time=   0.0s\n",
      "[CV 1/5] END regressor=LinearSVR(max_iter=2000, random_state=42, tol=0.001), regressor__C=0.001, regressor__loss=epsilon_insensitive, scaler=Normalizer();, score=0.235 total time=   0.0s\n",
      "[CV 2/5] END regressor=LinearSVR(max_iter=2000, random_state=42, tol=0.001), regressor__C=0.001, regressor__loss=epsilon_insensitive, scaler=Normalizer();, score=0.248 total time=   0.0s\n",
      "[CV 3/5] END regressor=LinearSVR(max_iter=2000, random_state=42, tol=0.001), regressor__C=0.001, regressor__loss=epsilon_insensitive, scaler=Normalizer();, score=0.250 total time=   0.0s\n",
      "[CV 4/5] END regressor=LinearSVR(max_iter=2000, random_state=42, tol=0.001), regressor__C=0.001, regressor__loss=epsilon_insensitive, scaler=Normalizer();, score=0.249 total time=   0.0s\n",
      "[CV 5/5] END regressor=LinearSVR(max_iter=2000, random_state=42, tol=0.001), regressor__C=0.001, regressor__loss=epsilon_insensitive, scaler=Normalizer();, score=0.242 total time=   0.0s\n"
     ]
    },
    {
     "name": "stdout",
     "output_type": "stream",
     "text": [
      "[CV 1/5] END regressor=LinearSVR(max_iter=2000, random_state=42, tol=0.001), regressor__C=0.001, regressor__loss=squared_epsilon_insensitive, scaler=passthrough;, score=0.249 total time=   0.3s\n",
      "[CV 2/5] END regressor=LinearSVR(max_iter=2000, random_state=42, tol=0.001), regressor__C=0.001, regressor__loss=squared_epsilon_insensitive, scaler=passthrough;, score=0.255 total time=   0.3s\n",
      "[CV 3/5] END regressor=LinearSVR(max_iter=2000, random_state=42, tol=0.001), regressor__C=0.001, regressor__loss=squared_epsilon_insensitive, scaler=passthrough;, score=0.266 total time=   0.3s\n",
      "[CV 4/5] END regressor=LinearSVR(max_iter=2000, random_state=42, tol=0.001), regressor__C=0.001, regressor__loss=squared_epsilon_insensitive, scaler=passthrough;, score=0.255 total time=   0.3s\n",
      "[CV 5/5] END regressor=LinearSVR(max_iter=2000, random_state=42, tol=0.001), regressor__C=0.001, regressor__loss=squared_epsilon_insensitive, scaler=passthrough;, score=0.253 total time=   0.3s\n",
      "[CV 1/5] END regressor=LinearSVR(max_iter=2000, random_state=42, tol=0.001), regressor__C=0.001, regressor__loss=squared_epsilon_insensitive, scaler=StandardScaler();, score=0.279 total time=   0.1s\n",
      "[CV 2/5] END regressor=LinearSVR(max_iter=2000, random_state=42, tol=0.001), regressor__C=0.001, regressor__loss=squared_epsilon_insensitive, scaler=StandardScaler();, score=0.278 total time=   0.1s\n",
      "[CV 3/5] END regressor=LinearSVR(max_iter=2000, random_state=42, tol=0.001), regressor__C=0.001, regressor__loss=squared_epsilon_insensitive, scaler=StandardScaler();, score=0.292 total time=   0.1s\n",
      "[CV 4/5] END regressor=LinearSVR(max_iter=2000, random_state=42, tol=0.001), regressor__C=0.001, regressor__loss=squared_epsilon_insensitive, scaler=StandardScaler();, score=0.283 total time=   0.1s\n",
      "[CV 5/5] END regressor=LinearSVR(max_iter=2000, random_state=42, tol=0.001), regressor__C=0.001, regressor__loss=squared_epsilon_insensitive, scaler=StandardScaler();, score=0.283 total time=   0.1s\n",
      "[CV 1/5] END regressor=LinearSVR(max_iter=2000, random_state=42, tol=0.001), regressor__C=0.001, regressor__loss=squared_epsilon_insensitive, scaler=Normalizer();, score=0.258 total time=   0.0s\n",
      "[CV 2/5] END regressor=LinearSVR(max_iter=2000, random_state=42, tol=0.001), regressor__C=0.001, regressor__loss=squared_epsilon_insensitive, scaler=Normalizer();, score=0.267 total time=   0.0s\n",
      "[CV 3/5] END regressor=LinearSVR(max_iter=2000, random_state=42, tol=0.001), regressor__C=0.001, regressor__loss=squared_epsilon_insensitive, scaler=Normalizer();, score=0.271 total time=   0.0s\n",
      "[CV 4/5] END regressor=LinearSVR(max_iter=2000, random_state=42, tol=0.001), regressor__C=0.001, regressor__loss=squared_epsilon_insensitive, scaler=Normalizer();, score=0.271 total time=   0.0s\n",
      "[CV 5/5] END regressor=LinearSVR(max_iter=2000, random_state=42, tol=0.001), regressor__C=0.001, regressor__loss=squared_epsilon_insensitive, scaler=Normalizer();, score=0.263 total time=   0.0s\n",
      "[CV 1/5] END regressor=LinearSVR(max_iter=2000, random_state=42, tol=0.001), regressor__C=0.01, regressor__loss=epsilon_insensitive, scaler=passthrough;, score=0.264 total time=   0.9s\n",
      "[CV 2/5] END regressor=LinearSVR(max_iter=2000, random_state=42, tol=0.001), regressor__C=0.01, regressor__loss=epsilon_insensitive, scaler=passthrough;, score=0.269 total time=   0.9s\n",
      "[CV 3/5] END regressor=LinearSVR(max_iter=2000, random_state=42, tol=0.001), regressor__C=0.01, regressor__loss=epsilon_insensitive, scaler=passthrough;, score=0.283 total time=   0.9s\n",
      "[CV 4/5] END regressor=LinearSVR(max_iter=2000, random_state=42, tol=0.001), regressor__C=0.01, regressor__loss=epsilon_insensitive, scaler=passthrough;, score=0.272 total time=   0.9s\n",
      "[CV 5/5] END regressor=LinearSVR(max_iter=2000, random_state=42, tol=0.001), regressor__C=0.01, regressor__loss=epsilon_insensitive, scaler=passthrough;, score=0.268 total time=   0.9s\n",
      "[CV 1/5] END regressor=LinearSVR(max_iter=2000, random_state=42, tol=0.001), regressor__C=0.01, regressor__loss=epsilon_insensitive, scaler=StandardScaler();, score=0.277 total time=   0.1s\n",
      "[CV 2/5] END regressor=LinearSVR(max_iter=2000, random_state=42, tol=0.001), regressor__C=0.01, regressor__loss=epsilon_insensitive, scaler=StandardScaler();, score=0.278 total time=   0.1s\n",
      "[CV 3/5] END regressor=LinearSVR(max_iter=2000, random_state=42, tol=0.001), regressor__C=0.01, regressor__loss=epsilon_insensitive, scaler=StandardScaler();, score=0.293 total time=   0.1s\n",
      "[CV 4/5] END regressor=LinearSVR(max_iter=2000, random_state=42, tol=0.001), regressor__C=0.01, regressor__loss=epsilon_insensitive, scaler=StandardScaler();, score=0.282 total time=   0.1s\n",
      "[CV 5/5] END regressor=LinearSVR(max_iter=2000, random_state=42, tol=0.001), regressor__C=0.01, regressor__loss=epsilon_insensitive, scaler=StandardScaler();, score=0.282 total time=   0.1s\n",
      "[CV 1/5] END regressor=LinearSVR(max_iter=2000, random_state=42, tol=0.001), regressor__C=0.01, regressor__loss=epsilon_insensitive, scaler=Normalizer();, score=0.275 total time=   0.0s\n",
      "[CV 2/5] END regressor=LinearSVR(max_iter=2000, random_state=42, tol=0.001), regressor__C=0.01, regressor__loss=epsilon_insensitive, scaler=Normalizer();, score=0.281 total time=   0.0s\n",
      "[CV 3/5] END regressor=LinearSVR(max_iter=2000, random_state=42, tol=0.001), regressor__C=0.01, regressor__loss=epsilon_insensitive, scaler=Normalizer();, score=0.290 total time=   0.0s\n",
      "[CV 4/5] END regressor=LinearSVR(max_iter=2000, random_state=42, tol=0.001), regressor__C=0.01, regressor__loss=epsilon_insensitive, scaler=Normalizer();, score=0.289 total time=   0.0s\n",
      "[CV 5/5] END regressor=LinearSVR(max_iter=2000, random_state=42, tol=0.001), regressor__C=0.01, regressor__loss=epsilon_insensitive, scaler=Normalizer();, score=0.281 total time=   0.0s\n"
     ]
    }
   ],
   "source": [
    "%%time\n",
    "regressor = grid_search.fit(xtrain, ytrain)"
   ]
  },
  {
   "cell_type": "markdown",
   "id": "a871cd93",
   "metadata": {},
   "source": [
    "### Results"
   ]
  },
  {
   "cell_type": "code",
   "execution_count": null,
   "id": "f9f34f3b",
   "metadata": {},
   "outputs": [],
   "source": [
    "pd.DataFrame(grid_search.cv_results_)"
   ]
  },
  {
   "cell_type": "code",
   "execution_count": null,
   "id": "7b47f7f8",
   "metadata": {},
   "outputs": [],
   "source": [
    "grid_search.best_estimator_"
   ]
  },
  {
   "cell_type": "code",
   "execution_count": null,
   "id": "7ddffe0a",
   "metadata": {
    "scrolled": true
   },
   "outputs": [],
   "source": [
    "y_pred = regressor.predict(xtest)\n",
    "y_pred.shape, pearsonr(ytest, y_pred)"
   ]
  },
  {
   "cell_type": "markdown",
   "id": "ba356de4",
   "metadata": {},
   "source": [
    "### Saving data to server"
   ]
  },
  {
   "cell_type": "code",
   "execution_count": null,
   "id": "bd841be6",
   "metadata": {},
   "outputs": [],
   "source": [
    "data_server = joblib.load(f\"{MAIN_OUT_PATH}/static/data_server.joblib\")\n",
    "data_server.keys()"
   ]
  },
  {
   "cell_type": "code",
   "execution_count": null,
   "id": "89e9081b",
   "metadata": {
    "scrolled": true
   },
   "outputs": [],
   "source": [
    "y_pred = regressor.predict( np.array(data_server[\"features\"]).copy() )\n",
    "y_pred.shape"
   ]
  },
  {
   "cell_type": "code",
   "execution_count": null,
   "id": "0cc8c197",
   "metadata": {},
   "outputs": [],
   "source": [
    "data_server[\"prediction\"] = y_pred.tolist()"
   ]
  },
  {
   "cell_type": "code",
   "execution_count": null,
   "id": "f8803db9",
   "metadata": {},
   "outputs": [],
   "source": [
    "joblib.dump(data_dict, f\"{MAIN_OUT_PATH}/static/data_server.joblib\")"
   ]
  },
  {
   "cell_type": "code",
   "execution_count": null,
   "id": "0b191436",
   "metadata": {},
   "outputs": [],
   "source": [
    "os.exit()"
   ]
  },
  {
   "cell_type": "code",
   "execution_count": null,
   "id": "c4627b87",
   "metadata": {},
   "outputs": [],
   "source": [
    "print(classification_report(\n",
    "    ytest,\n",
    "    grid_search.predict(xtest),\n",
    "    digits=4,\n",
    "))"
   ]
  },
  {
   "cell_type": "markdown",
   "id": "5b2162b2",
   "metadata": {},
   "source": [
    "### Feature Importance"
   ]
  },
  {
   "cell_type": "code",
   "execution_count": null,
   "id": "c95f656e",
   "metadata": {},
   "outputs": [],
   "source": [
    "importance_classes = data_df.columns[1:-3]\n",
    "importance_classes.values"
   ]
  },
  {
   "cell_type": "code",
   "execution_count": null,
   "id": "fdd26501",
   "metadata": {},
   "outputs": [],
   "source": [
    "importance = grid_search.best_estimator_._final_estimator.coef_[0]"
   ]
  },
  {
   "cell_type": "code",
   "execution_count": null,
   "id": "4de849ca",
   "metadata": {},
   "outputs": [],
   "source": [
    "feat_importances = pd.Series(importance)\n",
    "feat_importances = feat_importances.reset_index().rename(columns={\"index\":\"class\", 0:\"importance\"}).copy()\n",
    "feat_importances[\"class\"] = importance_classes.values\n",
    "feat_importances.set_index(\"class\", inplace=True)\n",
    "feat_importances.sort_values(by=\"importance\", inplace=True, ascending=False)\n",
    "feat_importances"
   ]
  },
  {
   "cell_type": "code",
   "execution_count": null,
   "id": "19ea891f",
   "metadata": {},
   "outputs": [],
   "source": [
    "feat_importances.iloc[:20,:].plot(kind='barh',title = 'Feature Importance')"
   ]
  },
  {
   "cell_type": "code",
   "execution_count": null,
   "id": "16f80be9",
   "metadata": {},
   "outputs": [],
   "source": [
    "feat_importances.iloc[-20:,:].plot(kind='barh',title = 'Feature Importance')"
   ]
  }
 ],
 "metadata": {
  "kernelspec": {
   "display_name": "Python 3 (ipykernel)",
   "language": "python",
   "name": "python3"
  },
  "language_info": {
   "codemirror_mode": {
    "name": "ipython",
    "version": 3
   },
   "file_extension": ".py",
   "mimetype": "text/x-python",
   "name": "python",
   "nbconvert_exporter": "python",
   "pygments_lexer": "ipython3",
   "version": "3.8.16"
  }
 },
 "nbformat": 4,
 "nbformat_minor": 5
}
