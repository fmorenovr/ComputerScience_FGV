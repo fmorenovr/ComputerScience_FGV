{
 "cells": [
  {
   "cell_type": "code",
   "execution_count": 1,
   "id": "3d392fd1",
   "metadata": {},
   "outputs": [],
   "source": [
    "import matplotlib.pyplot as plt\n",
    "import pandas as pd\n",
    "import numpy as np\n",
    "import copy"
   ]
  },
  {
   "cell_type": "code",
   "execution_count": 2,
   "id": "fe9c5adc",
   "metadata": {},
   "outputs": [],
   "source": [
    "from py.utils import verifyDir"
   ]
  },
  {
   "cell_type": "code",
   "execution_count": 3,
   "id": "c5b53753",
   "metadata": {},
   "outputs": [],
   "source": [
    "DATA_PATH = \"data/PlacePulse_2/\"\n",
    "\n",
    "QSCORE_PATH = f\"{DATA_PATH}/Qscores/all/Summaries/\"\n",
    "\n",
    "MAIN_OUT_PATH = \"outputs/\"\n",
    "\n",
    "OUT_DETECT_PATH = f\"{MAIN_OUT_PATH}segmentations/\"\n",
    "\n",
    "OUT_IMAGE_PATH = f\"{MAIN_OUT_PATH}segmented_images/\"\n",
    "\n",
    "CACHE_PATH = f\"{MAIN_OUT_PATH}/cache/\""
   ]
  },
  {
   "cell_type": "code",
   "execution_count": 4,
   "id": "c1cf1588",
   "metadata": {},
   "outputs": [],
   "source": [
    "verifyDir(CACHE_PATH)"
   ]
  },
  {
   "cell_type": "markdown",
   "id": "e52d6b93",
   "metadata": {},
   "source": [
    "### Drawing features presence"
   ]
  },
  {
   "cell_type": "code",
   "execution_count": 5,
   "id": "218b700b",
   "metadata": {},
   "outputs": [
    {
     "name": "stdout",
     "output_type": "stream",
     "text": [
      "<class 'pandas.core.frame.DataFrame'>\n",
      "RangeIndex: 111389 entries, 0 to 111388\n",
      "Data columns (total 10 columns):\n",
      " #   Column                Non-Null Count   Dtype  \n",
      "---  ------                --------------   -----  \n",
      " 0   image_file_name       111389 non-null  object \n",
      " 1   safety                111389 non-null  float64\n",
      " 2   W_ratio_safety        111389 non-null  float64\n",
      " 3   L_ratio_safety        111389 non-null  float64\n",
      " 4   wins_safety           111389 non-null  int64  \n",
      " 5   draws_safety          111389 non-null  int64  \n",
      " 6   losses_safety         111389 non-null  int64  \n",
      " 7   wins_against_safety   111389 non-null  object \n",
      " 8   loss_against_safety   111389 non-null  object \n",
      " 9   draws_against_safety  111389 non-null  object \n",
      "dtypes: float64(3), int64(3), object(4)\n",
      "memory usage: 8.5+ MB\n"
     ]
    }
   ],
   "source": [
    "pp_df = pd.read_csv(f\"{QSCORE_PATH}summary_safety.csv\", low_memory=False)\n",
    "pp_df.rename(columns={\"ID\": \"image_file_name\"}, inplace=True)\n",
    "pp_df.info()"
   ]
  },
  {
   "cell_type": "code",
   "execution_count": 6,
   "id": "6c0437ec",
   "metadata": {},
   "outputs": [],
   "source": [
    "segment_city_df = pd.read_csv(f\"{MAIN_OUT_PATH}objects_deeplab_xception.csv\", sep=\";\", low_memory=False)"
   ]
  },
  {
   "cell_type": "code",
   "execution_count": 7,
   "id": "2ec945f8",
   "metadata": {},
   "outputs": [
    {
     "data": {
      "text/html": [
       "<div>\n",
       "<style scoped>\n",
       "    .dataframe tbody tr th:only-of-type {\n",
       "        vertical-align: middle;\n",
       "    }\n",
       "\n",
       "    .dataframe tbody tr th {\n",
       "        vertical-align: top;\n",
       "    }\n",
       "\n",
       "    .dataframe thead th {\n",
       "        text-align: right;\n",
       "    }\n",
       "</style>\n",
       "<table border=\"1\" class=\"dataframe\">\n",
       "  <thead>\n",
       "    <tr style=\"text-align: right;\">\n",
       "      <th></th>\n",
       "      <th>image_file_name</th>\n",
       "      <th>wall</th>\n",
       "      <th>building</th>\n",
       "      <th>sky</th>\n",
       "      <th>floor</th>\n",
       "      <th>tree</th>\n",
       "      <th>ceiling</th>\n",
       "      <th>road</th>\n",
       "      <th>bed</th>\n",
       "      <th>windowpane</th>\n",
       "      <th>...</th>\n",
       "      <th>crt</th>\n",
       "      <th>plate</th>\n",
       "      <th>monitor</th>\n",
       "      <th>bulletin</th>\n",
       "      <th>shower</th>\n",
       "      <th>radiator</th>\n",
       "      <th>glass</th>\n",
       "      <th>clock</th>\n",
       "      <th>flag</th>\n",
       "      <th>city</th>\n",
       "    </tr>\n",
       "  </thead>\n",
       "  <tbody>\n",
       "    <tr>\n",
       "      <th>74466</th>\n",
       "      <td>50f5eb23fdc9f065f000803f</td>\n",
       "      <td>0.548299</td>\n",
       "      <td>25.935872</td>\n",
       "      <td>15.742493</td>\n",
       "      <td>0.0</td>\n",
       "      <td>19.835917</td>\n",
       "      <td>0.0</td>\n",
       "      <td>18.973796</td>\n",
       "      <td>0.0</td>\n",
       "      <td>0.000000</td>\n",
       "      <td>...</td>\n",
       "      <td>0.0</td>\n",
       "      <td>0.0</td>\n",
       "      <td>0.0</td>\n",
       "      <td>0.0</td>\n",
       "      <td>0.0</td>\n",
       "      <td>0.0</td>\n",
       "      <td>0.0</td>\n",
       "      <td>0.000000</td>\n",
       "      <td>0.000000</td>\n",
       "      <td>RioDeJaneiro</td>\n",
       "    </tr>\n",
       "    <tr>\n",
       "      <th>74467</th>\n",
       "      <td>50f5eb42fdc9f065f0008131</td>\n",
       "      <td>1.455180</td>\n",
       "      <td>20.567830</td>\n",
       "      <td>25.163269</td>\n",
       "      <td>0.0</td>\n",
       "      <td>12.069194</td>\n",
       "      <td>0.0</td>\n",
       "      <td>33.838399</td>\n",
       "      <td>0.0</td>\n",
       "      <td>0.000000</td>\n",
       "      <td>...</td>\n",
       "      <td>0.0</td>\n",
       "      <td>0.0</td>\n",
       "      <td>0.0</td>\n",
       "      <td>0.0</td>\n",
       "      <td>0.0</td>\n",
       "      <td>0.0</td>\n",
       "      <td>0.0</td>\n",
       "      <td>0.000000</td>\n",
       "      <td>0.000000</td>\n",
       "      <td>RioDeJaneiro</td>\n",
       "    </tr>\n",
       "    <tr>\n",
       "      <th>74468</th>\n",
       "      <td>50f5eb6cfdc9f065f0008305</td>\n",
       "      <td>15.660095</td>\n",
       "      <td>6.741842</td>\n",
       "      <td>41.242981</td>\n",
       "      <td>0.0</td>\n",
       "      <td>7.948303</td>\n",
       "      <td>0.0</td>\n",
       "      <td>20.939128</td>\n",
       "      <td>0.0</td>\n",
       "      <td>0.000000</td>\n",
       "      <td>...</td>\n",
       "      <td>0.0</td>\n",
       "      <td>0.0</td>\n",
       "      <td>0.0</td>\n",
       "      <td>0.0</td>\n",
       "      <td>0.0</td>\n",
       "      <td>0.0</td>\n",
       "      <td>0.0</td>\n",
       "      <td>0.000000</td>\n",
       "      <td>0.000000</td>\n",
       "      <td>RioDeJaneiro</td>\n",
       "    </tr>\n",
       "    <tr>\n",
       "      <th>74469</th>\n",
       "      <td>50f5eacffdc9f065f0007d59</td>\n",
       "      <td>1.232402</td>\n",
       "      <td>23.615011</td>\n",
       "      <td>34.235636</td>\n",
       "      <td>0.0</td>\n",
       "      <td>0.000000</td>\n",
       "      <td>0.0</td>\n",
       "      <td>35.020447</td>\n",
       "      <td>0.0</td>\n",
       "      <td>0.000000</td>\n",
       "      <td>...</td>\n",
       "      <td>0.0</td>\n",
       "      <td>0.0</td>\n",
       "      <td>0.0</td>\n",
       "      <td>0.0</td>\n",
       "      <td>0.0</td>\n",
       "      <td>0.0</td>\n",
       "      <td>0.0</td>\n",
       "      <td>0.000000</td>\n",
       "      <td>0.000000</td>\n",
       "      <td>RioDeJaneiro</td>\n",
       "    </tr>\n",
       "    <tr>\n",
       "      <th>74470</th>\n",
       "      <td>50f5eaf3fdc9f065f0007eb2</td>\n",
       "      <td>12.834676</td>\n",
       "      <td>22.322591</td>\n",
       "      <td>33.864339</td>\n",
       "      <td>0.0</td>\n",
       "      <td>2.456156</td>\n",
       "      <td>0.0</td>\n",
       "      <td>18.447367</td>\n",
       "      <td>0.0</td>\n",
       "      <td>0.740051</td>\n",
       "      <td>...</td>\n",
       "      <td>0.0</td>\n",
       "      <td>0.0</td>\n",
       "      <td>0.0</td>\n",
       "      <td>0.0</td>\n",
       "      <td>0.0</td>\n",
       "      <td>0.0</td>\n",
       "      <td>0.0</td>\n",
       "      <td>0.000000</td>\n",
       "      <td>0.197347</td>\n",
       "      <td>RioDeJaneiro</td>\n",
       "    </tr>\n",
       "    <tr>\n",
       "      <th>...</th>\n",
       "      <td>...</td>\n",
       "      <td>...</td>\n",
       "      <td>...</td>\n",
       "      <td>...</td>\n",
       "      <td>...</td>\n",
       "      <td>...</td>\n",
       "      <td>...</td>\n",
       "      <td>...</td>\n",
       "      <td>...</td>\n",
       "      <td>...</td>\n",
       "      <td>...</td>\n",
       "      <td>...</td>\n",
       "      <td>...</td>\n",
       "      <td>...</td>\n",
       "      <td>...</td>\n",
       "      <td>...</td>\n",
       "      <td>...</td>\n",
       "      <td>...</td>\n",
       "      <td>...</td>\n",
       "      <td>...</td>\n",
       "      <td>...</td>\n",
       "    </tr>\n",
       "    <tr>\n",
       "      <th>78120</th>\n",
       "      <td>50f5ec41fdc9f065f00088d4</td>\n",
       "      <td>0.270589</td>\n",
       "      <td>4.598999</td>\n",
       "      <td>33.438619</td>\n",
       "      <td>0.0</td>\n",
       "      <td>18.899536</td>\n",
       "      <td>0.0</td>\n",
       "      <td>29.308573</td>\n",
       "      <td>0.0</td>\n",
       "      <td>0.000000</td>\n",
       "      <td>...</td>\n",
       "      <td>0.0</td>\n",
       "      <td>0.0</td>\n",
       "      <td>0.0</td>\n",
       "      <td>0.0</td>\n",
       "      <td>0.0</td>\n",
       "      <td>0.0</td>\n",
       "      <td>0.0</td>\n",
       "      <td>0.000000</td>\n",
       "      <td>0.000000</td>\n",
       "      <td>RioDeJaneiro</td>\n",
       "    </tr>\n",
       "    <tr>\n",
       "      <th>78121</th>\n",
       "      <td>50f5eacefdc9f065f0007d4e</td>\n",
       "      <td>10.326640</td>\n",
       "      <td>2.644857</td>\n",
       "      <td>33.279419</td>\n",
       "      <td>0.0</td>\n",
       "      <td>15.949504</td>\n",
       "      <td>0.0</td>\n",
       "      <td>34.936523</td>\n",
       "      <td>0.0</td>\n",
       "      <td>0.000000</td>\n",
       "      <td>...</td>\n",
       "      <td>0.0</td>\n",
       "      <td>0.0</td>\n",
       "      <td>0.0</td>\n",
       "      <td>0.0</td>\n",
       "      <td>0.0</td>\n",
       "      <td>0.0</td>\n",
       "      <td>0.0</td>\n",
       "      <td>0.000000</td>\n",
       "      <td>0.000000</td>\n",
       "      <td>RioDeJaneiro</td>\n",
       "    </tr>\n",
       "    <tr>\n",
       "      <th>78122</th>\n",
       "      <td>50f5ead5fdc9f065f0007dc4</td>\n",
       "      <td>33.783468</td>\n",
       "      <td>2.971903</td>\n",
       "      <td>27.566020</td>\n",
       "      <td>0.0</td>\n",
       "      <td>1.245117</td>\n",
       "      <td>0.0</td>\n",
       "      <td>18.130493</td>\n",
       "      <td>0.0</td>\n",
       "      <td>0.000000</td>\n",
       "      <td>...</td>\n",
       "      <td>0.0</td>\n",
       "      <td>0.0</td>\n",
       "      <td>0.0</td>\n",
       "      <td>0.0</td>\n",
       "      <td>0.0</td>\n",
       "      <td>0.0</td>\n",
       "      <td>0.0</td>\n",
       "      <td>0.004578</td>\n",
       "      <td>0.000000</td>\n",
       "      <td>RioDeJaneiro</td>\n",
       "    </tr>\n",
       "    <tr>\n",
       "      <th>78123</th>\n",
       "      <td>50f5ec13fdc9f065f00086c2</td>\n",
       "      <td>1.428223</td>\n",
       "      <td>14.553324</td>\n",
       "      <td>38.344828</td>\n",
       "      <td>0.0</td>\n",
       "      <td>1.779683</td>\n",
       "      <td>0.0</td>\n",
       "      <td>36.213175</td>\n",
       "      <td>0.0</td>\n",
       "      <td>0.000000</td>\n",
       "      <td>...</td>\n",
       "      <td>0.0</td>\n",
       "      <td>0.0</td>\n",
       "      <td>0.0</td>\n",
       "      <td>0.0</td>\n",
       "      <td>0.0</td>\n",
       "      <td>0.0</td>\n",
       "      <td>0.0</td>\n",
       "      <td>0.000000</td>\n",
       "      <td>0.000000</td>\n",
       "      <td>RioDeJaneiro</td>\n",
       "    </tr>\n",
       "    <tr>\n",
       "      <th>78124</th>\n",
       "      <td>50f5eba6fdc9f065f00083f0</td>\n",
       "      <td>3.271484</td>\n",
       "      <td>22.052002</td>\n",
       "      <td>28.671773</td>\n",
       "      <td>0.0</td>\n",
       "      <td>8.777873</td>\n",
       "      <td>0.0</td>\n",
       "      <td>25.548808</td>\n",
       "      <td>0.0</td>\n",
       "      <td>0.000000</td>\n",
       "      <td>...</td>\n",
       "      <td>0.0</td>\n",
       "      <td>0.0</td>\n",
       "      <td>0.0</td>\n",
       "      <td>0.0</td>\n",
       "      <td>0.0</td>\n",
       "      <td>0.0</td>\n",
       "      <td>0.0</td>\n",
       "      <td>0.000000</td>\n",
       "      <td>0.000000</td>\n",
       "      <td>RioDeJaneiro</td>\n",
       "    </tr>\n",
       "  </tbody>\n",
       "</table>\n",
       "<p>3659 rows × 151 columns</p>\n",
       "</div>"
      ],
      "text/plain": [
       "                image_file_name       wall   building        sky  floor  \\\n",
       "74466  50f5eb23fdc9f065f000803f   0.548299  25.935872  15.742493    0.0   \n",
       "74467  50f5eb42fdc9f065f0008131   1.455180  20.567830  25.163269    0.0   \n",
       "74468  50f5eb6cfdc9f065f0008305  15.660095   6.741842  41.242981    0.0   \n",
       "74469  50f5eacffdc9f065f0007d59   1.232402  23.615011  34.235636    0.0   \n",
       "74470  50f5eaf3fdc9f065f0007eb2  12.834676  22.322591  33.864339    0.0   \n",
       "...                         ...        ...        ...        ...    ...   \n",
       "78120  50f5ec41fdc9f065f00088d4   0.270589   4.598999  33.438619    0.0   \n",
       "78121  50f5eacefdc9f065f0007d4e  10.326640   2.644857  33.279419    0.0   \n",
       "78122  50f5ead5fdc9f065f0007dc4  33.783468   2.971903  27.566020    0.0   \n",
       "78123  50f5ec13fdc9f065f00086c2   1.428223  14.553324  38.344828    0.0   \n",
       "78124  50f5eba6fdc9f065f00083f0   3.271484  22.052002  28.671773    0.0   \n",
       "\n",
       "            tree  ceiling       road  bed  windowpane  ...  crt  plate  \\\n",
       "74466  19.835917      0.0  18.973796  0.0    0.000000  ...  0.0    0.0   \n",
       "74467  12.069194      0.0  33.838399  0.0    0.000000  ...  0.0    0.0   \n",
       "74468   7.948303      0.0  20.939128  0.0    0.000000  ...  0.0    0.0   \n",
       "74469   0.000000      0.0  35.020447  0.0    0.000000  ...  0.0    0.0   \n",
       "74470   2.456156      0.0  18.447367  0.0    0.740051  ...  0.0    0.0   \n",
       "...          ...      ...        ...  ...         ...  ...  ...    ...   \n",
       "78120  18.899536      0.0  29.308573  0.0    0.000000  ...  0.0    0.0   \n",
       "78121  15.949504      0.0  34.936523  0.0    0.000000  ...  0.0    0.0   \n",
       "78122   1.245117      0.0  18.130493  0.0    0.000000  ...  0.0    0.0   \n",
       "78123   1.779683      0.0  36.213175  0.0    0.000000  ...  0.0    0.0   \n",
       "78124   8.777873      0.0  25.548808  0.0    0.000000  ...  0.0    0.0   \n",
       "\n",
       "       monitor  bulletin  shower  radiator  glass     clock      flag  \\\n",
       "74466      0.0       0.0     0.0       0.0    0.0  0.000000  0.000000   \n",
       "74467      0.0       0.0     0.0       0.0    0.0  0.000000  0.000000   \n",
       "74468      0.0       0.0     0.0       0.0    0.0  0.000000  0.000000   \n",
       "74469      0.0       0.0     0.0       0.0    0.0  0.000000  0.000000   \n",
       "74470      0.0       0.0     0.0       0.0    0.0  0.000000  0.197347   \n",
       "...        ...       ...     ...       ...    ...       ...       ...   \n",
       "78120      0.0       0.0     0.0       0.0    0.0  0.000000  0.000000   \n",
       "78121      0.0       0.0     0.0       0.0    0.0  0.000000  0.000000   \n",
       "78122      0.0       0.0     0.0       0.0    0.0  0.004578  0.000000   \n",
       "78123      0.0       0.0     0.0       0.0    0.0  0.000000  0.000000   \n",
       "78124      0.0       0.0     0.0       0.0    0.0  0.000000  0.000000   \n",
       "\n",
       "               city  \n",
       "74466  RioDeJaneiro  \n",
       "74467  RioDeJaneiro  \n",
       "74468  RioDeJaneiro  \n",
       "74469  RioDeJaneiro  \n",
       "74470  RioDeJaneiro  \n",
       "...             ...  \n",
       "78120  RioDeJaneiro  \n",
       "78121  RioDeJaneiro  \n",
       "78122  RioDeJaneiro  \n",
       "78123  RioDeJaneiro  \n",
       "78124  RioDeJaneiro  \n",
       "\n",
       "[3659 rows x 151 columns]"
      ]
     },
     "execution_count": 7,
     "metadata": {},
     "output_type": "execute_result"
    }
   ],
   "source": [
    "df_ = segment_city_df.loc[:, (segment_city_df != 0).any(axis=0)].copy()\n",
    "df_[\"city\"] = df_[\"image_file_name\"].apply(lambda x: x.split(\"_\")[3])\n",
    "df_[\"image_file_name\"] = df_[\"image_file_name\"].apply(lambda x: x.split(\"_\")[2])\n",
    "df_ = df_[df_[\"city\"]==\"RioDeJaneiro\"].copy()\n",
    "df_"
   ]
  },
  {
   "cell_type": "code",
   "execution_count": 8,
   "id": "d247c574",
   "metadata": {},
   "outputs": [
    {
     "data": {
      "image/png": "[encoded data removed]",
      "text/plain": [
       "<Figure size 2000x800 with 1 Axes>"
      ]
     },
     "metadata": {},
     "output_type": "display_data"
    }
   ],
   "source": [
    "# Total\n",
    "X_df = df_.iloc[:, 1:-1].copy()\n",
    "X_df = X_df[np.sort(X_df.columns)]\n",
    "X_df[X_df > 0] = 1\n",
    "\n",
    "sum_df = X_df.sum()/len(X_df)\n",
    "\n",
    "ax = sum_df.plot(kind=\"bar\", figsize=(20,8), ylabel=\"% Presence\", rot=90, ylim=(0.0,1.1), yticks=list(np.arange(0,1.1,0.10)))\n",
    "plt.title(f\"Objects Presence Distribution\")\n",
    "plt.grid(True)\n",
    "plt.show()\n",
    "# plt.savefig(f\"{MAIN_OUT_PATH}objects_distribution.png\", bbox_inches='tight', pad_inches = 0.5)\n",
    "# plt.clf()\n",
    "# plt.cla()\n",
    "# plt.close()"
   ]
  },
  {
   "cell_type": "markdown",
   "id": "f4187864",
   "metadata": {},
   "source": [
    "### Generating samples "
   ]
  },
  {
   "cell_type": "code",
   "execution_count": 9,
   "id": "4324232f",
   "metadata": {},
   "outputs": [],
   "source": [
    "data_df = pd.merge(df_, pp_df[[\"image_file_name\", \"safety\"]], on=\"image_file_name\", how=\"left\")\n",
    "data_df[\"labels\"] = data_df[\"safety\"].apply(lambda x: 1 if x>=5.0 else 0 )"
   ]
  },
  {
   "cell_type": "code",
   "execution_count": 10,
   "id": "52970931",
   "metadata": {},
   "outputs": [],
   "source": [
    "new_columns = np.concatenate( (np.array([\"image_file_name\"]), np.sort(X_df.columns.values)) )\n",
    "data_df.columns = np.concatenate( (new_columns, np.array([\"city\", \"safety\", \"labels\"])) )"
   ]
  },
  {
   "cell_type": "code",
   "execution_count": 11,
   "id": "4bd53142",
   "metadata": {},
   "outputs": [
    {
     "data": {
      "text/html": [
       "<div>\n",
       "<style scoped>\n",
       "    .dataframe tbody tr th:only-of-type {\n",
       "        vertical-align: middle;\n",
       "    }\n",
       "\n",
       "    .dataframe tbody tr th {\n",
       "        vertical-align: top;\n",
       "    }\n",
       "\n",
       "    .dataframe thead th {\n",
       "        text-align: right;\n",
       "    }\n",
       "</style>\n",
       "<table border=\"1\" class=\"dataframe\">\n",
       "  <thead>\n",
       "    <tr style=\"text-align: right;\">\n",
       "      <th></th>\n",
       "      <th>image_file_name</th>\n",
       "      <th>airplane</th>\n",
       "      <th>animal</th>\n",
       "      <th>apparel</th>\n",
       "      <th>arcade</th>\n",
       "      <th>armchair</th>\n",
       "      <th>ashcan</th>\n",
       "      <th>awning</th>\n",
       "      <th>bag</th>\n",
       "      <th>ball</th>\n",
       "      <th>...</th>\n",
       "      <th>vase</th>\n",
       "      <th>wall</th>\n",
       "      <th>wardrobe</th>\n",
       "      <th>washer</th>\n",
       "      <th>water</th>\n",
       "      <th>waterfall</th>\n",
       "      <th>windowpane</th>\n",
       "      <th>city</th>\n",
       "      <th>safety</th>\n",
       "      <th>labels</th>\n",
       "    </tr>\n",
       "  </thead>\n",
       "  <tbody>\n",
       "    <tr>\n",
       "      <th>0</th>\n",
       "      <td>50f5eb23fdc9f065f000803f</td>\n",
       "      <td>0.548299</td>\n",
       "      <td>25.935872</td>\n",
       "      <td>15.742493</td>\n",
       "      <td>0.0</td>\n",
       "      <td>19.835917</td>\n",
       "      <td>0.0</td>\n",
       "      <td>18.973796</td>\n",
       "      <td>0.0</td>\n",
       "      <td>0.000000</td>\n",
       "      <td>...</td>\n",
       "      <td>0.0</td>\n",
       "      <td>0.0</td>\n",
       "      <td>0.0</td>\n",
       "      <td>0.0</td>\n",
       "      <td>0.0</td>\n",
       "      <td>0.000000</td>\n",
       "      <td>0.000000</td>\n",
       "      <td>RioDeJaneiro</td>\n",
       "      <td>2.875374</td>\n",
       "      <td>0</td>\n",
       "    </tr>\n",
       "    <tr>\n",
       "      <th>1</th>\n",
       "      <td>50f5eb42fdc9f065f0008131</td>\n",
       "      <td>1.455180</td>\n",
       "      <td>20.567830</td>\n",
       "      <td>25.163269</td>\n",
       "      <td>0.0</td>\n",
       "      <td>12.069194</td>\n",
       "      <td>0.0</td>\n",
       "      <td>33.838399</td>\n",
       "      <td>0.0</td>\n",
       "      <td>0.000000</td>\n",
       "      <td>...</td>\n",
       "      <td>0.0</td>\n",
       "      <td>0.0</td>\n",
       "      <td>0.0</td>\n",
       "      <td>0.0</td>\n",
       "      <td>0.0</td>\n",
       "      <td>0.000000</td>\n",
       "      <td>0.000000</td>\n",
       "      <td>RioDeJaneiro</td>\n",
       "      <td>5.474644</td>\n",
       "      <td>1</td>\n",
       "    </tr>\n",
       "    <tr>\n",
       "      <th>2</th>\n",
       "      <td>50f5eb6cfdc9f065f0008305</td>\n",
       "      <td>15.660095</td>\n",
       "      <td>6.741842</td>\n",
       "      <td>41.242981</td>\n",
       "      <td>0.0</td>\n",
       "      <td>7.948303</td>\n",
       "      <td>0.0</td>\n",
       "      <td>20.939128</td>\n",
       "      <td>0.0</td>\n",
       "      <td>0.000000</td>\n",
       "      <td>...</td>\n",
       "      <td>0.0</td>\n",
       "      <td>0.0</td>\n",
       "      <td>0.0</td>\n",
       "      <td>0.0</td>\n",
       "      <td>0.0</td>\n",
       "      <td>0.000000</td>\n",
       "      <td>0.000000</td>\n",
       "      <td>RioDeJaneiro</td>\n",
       "      <td>6.250000</td>\n",
       "      <td>1</td>\n",
       "    </tr>\n",
       "    <tr>\n",
       "      <th>3</th>\n",
       "      <td>50f5eacffdc9f065f0007d59</td>\n",
       "      <td>1.232402</td>\n",
       "      <td>23.615011</td>\n",
       "      <td>34.235636</td>\n",
       "      <td>0.0</td>\n",
       "      <td>0.000000</td>\n",
       "      <td>0.0</td>\n",
       "      <td>35.020447</td>\n",
       "      <td>0.0</td>\n",
       "      <td>0.000000</td>\n",
       "      <td>...</td>\n",
       "      <td>0.0</td>\n",
       "      <td>0.0</td>\n",
       "      <td>0.0</td>\n",
       "      <td>0.0</td>\n",
       "      <td>0.0</td>\n",
       "      <td>0.000000</td>\n",
       "      <td>0.000000</td>\n",
       "      <td>RioDeJaneiro</td>\n",
       "      <td>3.243647</td>\n",
       "      <td>0</td>\n",
       "    </tr>\n",
       "    <tr>\n",
       "      <th>4</th>\n",
       "      <td>50f5eaf3fdc9f065f0007eb2</td>\n",
       "      <td>12.834676</td>\n",
       "      <td>22.322591</td>\n",
       "      <td>33.864339</td>\n",
       "      <td>0.0</td>\n",
       "      <td>2.456156</td>\n",
       "      <td>0.0</td>\n",
       "      <td>18.447367</td>\n",
       "      <td>0.0</td>\n",
       "      <td>0.740051</td>\n",
       "      <td>...</td>\n",
       "      <td>0.0</td>\n",
       "      <td>0.0</td>\n",
       "      <td>0.0</td>\n",
       "      <td>0.0</td>\n",
       "      <td>0.0</td>\n",
       "      <td>0.000000</td>\n",
       "      <td>0.197347</td>\n",
       "      <td>RioDeJaneiro</td>\n",
       "      <td>3.616934</td>\n",
       "      <td>0</td>\n",
       "    </tr>\n",
       "    <tr>\n",
       "      <th>...</th>\n",
       "      <td>...</td>\n",
       "      <td>...</td>\n",
       "      <td>...</td>\n",
       "      <td>...</td>\n",
       "      <td>...</td>\n",
       "      <td>...</td>\n",
       "      <td>...</td>\n",
       "      <td>...</td>\n",
       "      <td>...</td>\n",
       "      <td>...</td>\n",
       "      <td>...</td>\n",
       "      <td>...</td>\n",
       "      <td>...</td>\n",
       "      <td>...</td>\n",
       "      <td>...</td>\n",
       "      <td>...</td>\n",
       "      <td>...</td>\n",
       "      <td>...</td>\n",
       "      <td>...</td>\n",
       "      <td>...</td>\n",
       "      <td>...</td>\n",
       "    </tr>\n",
       "    <tr>\n",
       "      <th>3654</th>\n",
       "      <td>50f5ec41fdc9f065f00088d4</td>\n",
       "      <td>0.270589</td>\n",
       "      <td>4.598999</td>\n",
       "      <td>33.438619</td>\n",
       "      <td>0.0</td>\n",
       "      <td>18.899536</td>\n",
       "      <td>0.0</td>\n",
       "      <td>29.308573</td>\n",
       "      <td>0.0</td>\n",
       "      <td>0.000000</td>\n",
       "      <td>...</td>\n",
       "      <td>0.0</td>\n",
       "      <td>0.0</td>\n",
       "      <td>0.0</td>\n",
       "      <td>0.0</td>\n",
       "      <td>0.0</td>\n",
       "      <td>0.000000</td>\n",
       "      <td>0.000000</td>\n",
       "      <td>RioDeJaneiro</td>\n",
       "      <td>2.739050</td>\n",
       "      <td>0</td>\n",
       "    </tr>\n",
       "    <tr>\n",
       "      <th>3655</th>\n",
       "      <td>50f5eacefdc9f065f0007d4e</td>\n",
       "      <td>10.326640</td>\n",
       "      <td>2.644857</td>\n",
       "      <td>33.279419</td>\n",
       "      <td>0.0</td>\n",
       "      <td>15.949504</td>\n",
       "      <td>0.0</td>\n",
       "      <td>34.936523</td>\n",
       "      <td>0.0</td>\n",
       "      <td>0.000000</td>\n",
       "      <td>...</td>\n",
       "      <td>0.0</td>\n",
       "      <td>0.0</td>\n",
       "      <td>0.0</td>\n",
       "      <td>0.0</td>\n",
       "      <td>0.0</td>\n",
       "      <td>0.000000</td>\n",
       "      <td>0.000000</td>\n",
       "      <td>RioDeJaneiro</td>\n",
       "      <td>3.525271</td>\n",
       "      <td>0</td>\n",
       "    </tr>\n",
       "    <tr>\n",
       "      <th>3656</th>\n",
       "      <td>50f5ead5fdc9f065f0007dc4</td>\n",
       "      <td>33.783468</td>\n",
       "      <td>2.971903</td>\n",
       "      <td>27.566020</td>\n",
       "      <td>0.0</td>\n",
       "      <td>1.245117</td>\n",
       "      <td>0.0</td>\n",
       "      <td>18.130493</td>\n",
       "      <td>0.0</td>\n",
       "      <td>0.000000</td>\n",
       "      <td>...</td>\n",
       "      <td>0.0</td>\n",
       "      <td>0.0</td>\n",
       "      <td>0.0</td>\n",
       "      <td>0.0</td>\n",
       "      <td>0.0</td>\n",
       "      <td>0.004578</td>\n",
       "      <td>0.000000</td>\n",
       "      <td>RioDeJaneiro</td>\n",
       "      <td>1.778743</td>\n",
       "      <td>0</td>\n",
       "    </tr>\n",
       "    <tr>\n",
       "      <th>3657</th>\n",
       "      <td>50f5ec13fdc9f065f00086c2</td>\n",
       "      <td>1.428223</td>\n",
       "      <td>14.553324</td>\n",
       "      <td>38.344828</td>\n",
       "      <td>0.0</td>\n",
       "      <td>1.779683</td>\n",
       "      <td>0.0</td>\n",
       "      <td>36.213175</td>\n",
       "      <td>0.0</td>\n",
       "      <td>0.000000</td>\n",
       "      <td>...</td>\n",
       "      <td>0.0</td>\n",
       "      <td>0.0</td>\n",
       "      <td>0.0</td>\n",
       "      <td>0.0</td>\n",
       "      <td>0.0</td>\n",
       "      <td>0.000000</td>\n",
       "      <td>0.000000</td>\n",
       "      <td>RioDeJaneiro</td>\n",
       "      <td>4.754533</td>\n",
       "      <td>0</td>\n",
       "    </tr>\n",
       "    <tr>\n",
       "      <th>3658</th>\n",
       "      <td>50f5eba6fdc9f065f00083f0</td>\n",
       "      <td>3.271484</td>\n",
       "      <td>22.052002</td>\n",
       "      <td>28.671773</td>\n",
       "      <td>0.0</td>\n",
       "      <td>8.777873</td>\n",
       "      <td>0.0</td>\n",
       "      <td>25.548808</td>\n",
       "      <td>0.0</td>\n",
       "      <td>0.000000</td>\n",
       "      <td>...</td>\n",
       "      <td>0.0</td>\n",
       "      <td>0.0</td>\n",
       "      <td>0.0</td>\n",
       "      <td>0.0</td>\n",
       "      <td>0.0</td>\n",
       "      <td>0.000000</td>\n",
       "      <td>0.000000</td>\n",
       "      <td>RioDeJaneiro</td>\n",
       "      <td>4.542519</td>\n",
       "      <td>0</td>\n",
       "    </tr>\n",
       "  </tbody>\n",
       "</table>\n",
       "<p>3659 rows × 153 columns</p>\n",
       "</div>"
      ],
      "text/plain": [
       "               image_file_name   airplane     animal    apparel  arcade  \\\n",
       "0     50f5eb23fdc9f065f000803f   0.548299  25.935872  15.742493     0.0   \n",
       "1     50f5eb42fdc9f065f0008131   1.455180  20.567830  25.163269     0.0   \n",
       "2     50f5eb6cfdc9f065f0008305  15.660095   6.741842  41.242981     0.0   \n",
       "3     50f5eacffdc9f065f0007d59   1.232402  23.615011  34.235636     0.0   \n",
       "4     50f5eaf3fdc9f065f0007eb2  12.834676  22.322591  33.864339     0.0   \n",
       "...                        ...        ...        ...        ...     ...   \n",
       "3654  50f5ec41fdc9f065f00088d4   0.270589   4.598999  33.438619     0.0   \n",
       "3655  50f5eacefdc9f065f0007d4e  10.326640   2.644857  33.279419     0.0   \n",
       "3656  50f5ead5fdc9f065f0007dc4  33.783468   2.971903  27.566020     0.0   \n",
       "3657  50f5ec13fdc9f065f00086c2   1.428223  14.553324  38.344828     0.0   \n",
       "3658  50f5eba6fdc9f065f00083f0   3.271484  22.052002  28.671773     0.0   \n",
       "\n",
       "       armchair  ashcan     awning  bag      ball  ...  vase  wall  wardrobe  \\\n",
       "0     19.835917     0.0  18.973796  0.0  0.000000  ...   0.0   0.0       0.0   \n",
       "1     12.069194     0.0  33.838399  0.0  0.000000  ...   0.0   0.0       0.0   \n",
       "2      7.948303     0.0  20.939128  0.0  0.000000  ...   0.0   0.0       0.0   \n",
       "3      0.000000     0.0  35.020447  0.0  0.000000  ...   0.0   0.0       0.0   \n",
       "4      2.456156     0.0  18.447367  0.0  0.740051  ...   0.0   0.0       0.0   \n",
       "...         ...     ...        ...  ...       ...  ...   ...   ...       ...   \n",
       "3654  18.899536     0.0  29.308573  0.0  0.000000  ...   0.0   0.0       0.0   \n",
       "3655  15.949504     0.0  34.936523  0.0  0.000000  ...   0.0   0.0       0.0   \n",
       "3656   1.245117     0.0  18.130493  0.0  0.000000  ...   0.0   0.0       0.0   \n",
       "3657   1.779683     0.0  36.213175  0.0  0.000000  ...   0.0   0.0       0.0   \n",
       "3658   8.777873     0.0  25.548808  0.0  0.000000  ...   0.0   0.0       0.0   \n",
       "\n",
       "      washer  water  waterfall  windowpane          city    safety  labels  \n",
       "0        0.0    0.0   0.000000    0.000000  RioDeJaneiro  2.875374       0  \n",
       "1        0.0    0.0   0.000000    0.000000  RioDeJaneiro  5.474644       1  \n",
       "2        0.0    0.0   0.000000    0.000000  RioDeJaneiro  6.250000       1  \n",
       "3        0.0    0.0   0.000000    0.000000  RioDeJaneiro  3.243647       0  \n",
       "4        0.0    0.0   0.000000    0.197347  RioDeJaneiro  3.616934       0  \n",
       "...      ...    ...        ...         ...           ...       ...     ...  \n",
       "3654     0.0    0.0   0.000000    0.000000  RioDeJaneiro  2.739050       0  \n",
       "3655     0.0    0.0   0.000000    0.000000  RioDeJaneiro  3.525271       0  \n",
       "3656     0.0    0.0   0.004578    0.000000  RioDeJaneiro  1.778743       0  \n",
       "3657     0.0    0.0   0.000000    0.000000  RioDeJaneiro  4.754533       0  \n",
       "3658     0.0    0.0   0.000000    0.000000  RioDeJaneiro  4.542519       0  \n",
       "\n",
       "[3659 rows x 153 columns]"
      ]
     },
     "execution_count": 11,
     "metadata": {},
     "output_type": "execute_result"
    }
   ],
   "source": [
    "data_df"
   ]
  },
  {
   "cell_type": "code",
   "execution_count": 12,
   "id": "760c42f4",
   "metadata": {},
   "outputs": [
    {
     "data": {
      "text/plain": [
       "((3659, 149), (3659,))"
      ]
     },
     "execution_count": 12,
     "metadata": {},
     "output_type": "execute_result"
    }
   ],
   "source": [
    "city_df = data_df.iloc[:, -3].copy()\n",
    "Y_df = data_df.iloc[:, -1].copy()\n",
    "X_df = data_df.iloc[:, 1:-3].copy()\n",
    "X_df.shape, Y_df.shape"
   ]
  },
  {
   "cell_type": "markdown",
   "id": "ae35003a",
   "metadata": {},
   "source": [
    "### Standard Scaler"
   ]
  },
  {
   "cell_type": "code",
   "execution_count": 13,
   "id": "659c7c20",
   "metadata": {},
   "outputs": [],
   "source": [
    "from sklearn.preprocessing import StandardScaler"
   ]
  },
  {
   "cell_type": "code",
   "execution_count": 14,
   "id": "80a6b9ec",
   "metadata": {},
   "outputs": [],
   "source": [
    "scaler = StandardScaler()"
   ]
  },
  {
   "cell_type": "markdown",
   "id": "bdf7846d",
   "metadata": {},
   "source": [
    "### Classifiers"
   ]
  },
  {
   "cell_type": "code",
   "execution_count": 15,
   "id": "21fe6d71",
   "metadata": {},
   "outputs": [],
   "source": [
    "from sklearn.svm import LinearSVC\n",
    "from sklearn.linear_model import LogisticRegression\n",
    "from sklearn.linear_model import RidgeClassifier"
   ]
  },
  {
   "cell_type": "code",
   "execution_count": 16,
   "id": "55e4a0c3",
   "metadata": {},
   "outputs": [],
   "source": [
    "random_state = 42\n",
    "regularizer_value = np.logspace(-3, 3, num=7)\n",
    "class_weight = [None, 'balanced']\n",
    "type_scaler = ['passthrough', scaler]\n",
    "#dim_reductor = [t_svd, pca, sparse_pca]\n",
    "type_penalty = ['l1', 'l2']"
   ]
  },
  {
   "cell_type": "code",
   "execution_count": 17,
   "id": "0cd24849",
   "metadata": {},
   "outputs": [],
   "source": [
    "lr = LogisticRegression(\n",
    "    tol=1e-3,\n",
    "    dual=False,  # Prefer dual=False when n_samples > n_features\n",
    "    random_state=random_state,\n",
    "    max_iter=1e3,\n",
    ")\n",
    "\n",
    "param_lr = {}\n",
    "param_lr['scaler'] = copy.deepcopy(type_scaler)\n",
    "#param_lr['dim_reductor'] = copy.deepcopy(dim_reductor)\n",
    "param_lr['classifier__C'] = copy.deepcopy(regularizer_value)\n",
    "param_lr['classifier__class_weight'] = copy.deepcopy(class_weight)\n",
    "param_lr['classifier__penalty'] = copy.deepcopy(type_penalty)\n",
    "param_lr['classifier'] = [lr]"
   ]
  },
  {
   "cell_type": "code",
   "execution_count": 18,
   "id": "33183718",
   "metadata": {},
   "outputs": [],
   "source": [
    "ridge = RidgeClassifier(\n",
    "    tol=1e-3,\n",
    "    random_state=random_state,\n",
    "    max_iter=1e3,\n",
    ")\n",
    "\n",
    "param_ridge = {}\n",
    "param_ridge['scaler'] = copy.deepcopy(type_scaler)\n",
    "# param_ridge['dim_reductor'] = copy.deepcopy(dim_reductor)\n",
    "param_ridge['classifier__alpha'] = copy.deepcopy(regularizer_value)\n",
    "param_ridge['classifier__class_weight'] = copy.deepcopy(class_weight)\n",
    "param_ridge['classifier'] = [ridge]"
   ]
  },
  {
   "cell_type": "code",
   "execution_count": 19,
   "id": "db44c360",
   "metadata": {},
   "outputs": [],
   "source": [
    "linear_svm = LinearSVC(\n",
    "    tol=1e-3,\n",
    "    random_state=42,\n",
    "    max_iter=1e3,\n",
    ")\n",
    "\n",
    "\n",
    "param_linear_svm = {}\n",
    "param_linear_svm['scaler'] = copy.deepcopy(type_scaler)\n",
    "# param_linear_svm['dim_reductor'] = copy.deepcopy(dim_reductor)\n",
    "param_linear_svm['classifier__C'] = copy.deepcopy(regularizer_value)\n",
    "param_linear_svm['classifier__class_weight'] = copy.deepcopy(class_weight)\n",
    "param_linear_svm['classifier__penalty'] = copy.deepcopy(type_penalty)\n",
    "param_linear_svm['classifier'] = [linear_svm]"
   ]
  },
  {
   "cell_type": "markdown",
   "id": "b5a90698",
   "metadata": {},
   "source": [
    "### Create Pipeline"
   ]
  },
  {
   "cell_type": "code",
   "execution_count": 20,
   "id": "fca5a3ed",
   "metadata": {},
   "outputs": [],
   "source": [
    "from joblib import Memory"
   ]
  },
  {
   "cell_type": "code",
   "execution_count": 21,
   "id": "21655d8e",
   "metadata": {},
   "outputs": [],
   "source": [
    "memory = Memory(\n",
    "    location=CACHE_PATH,\n",
    "    # verbose=1,\n",
    ")"
   ]
  },
  {
   "cell_type": "code",
   "execution_count": 22,
   "id": "9e48bfae",
   "metadata": {},
   "outputs": [],
   "source": [
    "from sklearn.pipeline import Pipeline"
   ]
  },
  {
   "cell_type": "code",
   "execution_count": 23,
   "id": "a9497bcb",
   "metadata": {},
   "outputs": [],
   "source": [
    "pipeline = Pipeline(\n",
    "    steps = [\n",
    "        # 1. Scaler\n",
    "        ('scaler', scaler),\n",
    "        # 3. Model selecction\n",
    "        ('classifier', lr),\n",
    "    ],\n",
    "    memory=memory,\n",
    ")"
   ]
  },
  {
   "cell_type": "markdown",
   "id": "393ed78c",
   "metadata": {},
   "source": [
    "### Create GridSearch"
   ]
  },
  {
   "cell_type": "code",
   "execution_count": 24,
   "id": "abb49d57",
   "metadata": {},
   "outputs": [],
   "source": [
    "from sklearn.model_selection import GridSearchCV\n",
    "from sklearn.model_selection import StratifiedKFold"
   ]
  },
  {
   "cell_type": "code",
   "execution_count": 25,
   "id": "a6314c5b",
   "metadata": {},
   "outputs": [],
   "source": [
    "param_grid = [param_lr, \n",
    "              param_ridge, \n",
    "              param_linear_svm]"
   ]
  },
  {
   "cell_type": "code",
   "execution_count": 26,
   "id": "66974990",
   "metadata": {},
   "outputs": [],
   "source": [
    "grid_search = GridSearchCV(\n",
    "            estimator=pipeline,\n",
    "            param_grid=param_grid,\n",
    "            scoring='balanced_accuracy',\n",
    "            refit=True,\n",
    "            cv=StratifiedKFold(n_splits=5),  # << Use time series\n",
    "            verbose=4,\n",
    ")"
   ]
  },
  {
   "cell_type": "code",
   "execution_count": 27,
   "id": "f7b96206",
   "metadata": {},
   "outputs": [
    {
     "data": {
      "text/plain": [
       "GridSearchCV(cv=StratifiedKFold(n_splits=5, random_state=None, shuffle=False),\n",
       "             estimator=Pipeline(memory=Memory(location=outputs//cache/joblib),\n",
       "                                steps=[('scaler', StandardScaler()),\n",
       "                                       ('classifier',\n",
       "                                        LogisticRegression(max_iter=1000.0,\n",
       "                                                           random_state=42,\n",
       "                                                           tol=0.001))]),\n",
       "             param_grid=[{'classifier': [LogisticRegression(max_iter=1000.0,\n",
       "                                                            random_state=42,\n",
       "                                                            tol=0.001)],\n",
       "                          'clas...\n",
       "                          'classifier__class_weight': [None, 'balanced'],\n",
       "                          'scaler': ['passthrough', StandardScaler()]},\n",
       "                         {'classifier': [LinearSVC(max_iter=1000.0,\n",
       "                                                   random_state=42,\n",
       "                                                   tol=0.001)],\n",
       "                          'classifier__C': array([1.e-03, 1.e-02, 1.e-01, 1.e+00, 1.e+01, 1.e+02, 1.e+03]),\n",
       "                          'classifier__class_weight': [None, 'balanced'],\n",
       "                          'classifier__penalty': ['l1', 'l2'],\n",
       "                          'scaler': ['passthrough', StandardScaler()]}],\n",
       "             scoring='balanced_accuracy', verbose=4)"
      ]
     },
     "execution_count": 27,
     "metadata": {},
     "output_type": "execute_result"
    }
   ],
   "source": [
    "grid_search"
   ]
  },
  {
   "cell_type": "markdown",
   "id": "354958ab",
   "metadata": {},
   "source": [
    "### Data Split"
   ]
  },
  {
   "cell_type": "code",
   "execution_count": 28,
   "id": "110409ed",
   "metadata": {},
   "outputs": [],
   "source": [
    "from sklearn.metrics import classification_report\n",
    "from sklearn.model_selection import train_test_split"
   ]
  },
  {
   "cell_type": "code",
   "execution_count": 29,
   "id": "fdc90604",
   "metadata": {},
   "outputs": [
    {
     "name": "stdout",
     "output_type": "stream",
     "text": [
      "(2927, 149) (2927,) (732, 149) (732,)\n"
     ]
    }
   ],
   "source": [
    "xtrain, xtest, ytrain, ytest = train_test_split(X_df, \n",
    "                                                Y_df, \n",
    "                                                train_size=0.8, \n",
    "                                                random_state=random_state,\n",
    "                                                stratify=Y_df\n",
    "                                               )\n",
    "print(xtrain.shape, ytrain.shape, xtest.shape, ytest.shape)"
   ]
  },
  {
   "cell_type": "markdown",
   "id": "9f0dbf34",
   "metadata": {},
   "source": [
    "### Training"
   ]
  },
  {
   "cell_type": "code",
   "execution_count": 30,
   "id": "634086f1",
   "metadata": {},
   "outputs": [
    {
     "name": "stdout",
     "output_type": "stream",
     "text": [
      "Fitting 5 folds for each of 140 candidates, totalling 700 fits\n",
      "[CV 1/5] END classifier=LogisticRegression(max_iter=1000.0, random_state=42, tol=0.001), classifier__C=0.001, classifier__class_weight=None, classifier__penalty=l1, scaler=passthrough;, score=nan total time=   0.0s\n",
      "[CV 2/5] END classifier=LogisticRegression(max_iter=1000.0, random_state=42, tol=0.001), classifier__C=0.001, classifier__class_weight=None, classifier__penalty=l1, scaler=passthrough;, score=nan total time=   0.0s\n",
      "[CV 3/5] END classifier=LogisticRegression(max_iter=1000.0, random_state=42, tol=0.001), classifier__C=0.001, classifier__class_weight=None, classifier__penalty=l1, scaler=passthrough;, score=nan total time=   0.0s\n",
      "[CV 4/5] END classifier=LogisticRegression(max_iter=1000.0, random_state=42, tol=0.001), classifier__C=0.001, classifier__class_weight=None, classifier__penalty=l1, scaler=passthrough;, score=nan total time=   0.0s\n",
      "[CV 5/5] END classifier=LogisticRegression(max_iter=1000.0, random_state=42, tol=0.001), classifier__C=0.001, classifier__class_weight=None, classifier__penalty=l1, scaler=passthrough;, score=nan total time=   0.0s\n",
      "________________________________________________________________________________\n",
      "[Memory] Calling sklearn.pipeline._fit_transform_one...\n",
      "_fit_transform_one(StandardScaler(),        airplane     animal    apparel    arcade   armchair    ashcan  \\\n",
      "2245   0.677999  30.050151  36.022441  0.000000   0.591532  0.000000   \n",
      "3339   0.053914  26.189168   3.427633  0.000000  26.312764  0.000000   \n",
      "949    1.354472  13.427734  19.017029  0.000000  38.123067  0.000000   \n",
      "3134   0.000000   5.658976  19.131470  0.000000  28.548177  0.000000   \n",
      "591   10.668437  55.924479   1.867676  0.126139  17.230225  0.000000   \n",
      "...         ...        ...        ...       ...        ...       ...   \n",
      "855    3.665161  15.970866  34.589640  0.000000   3.972371  0.000000   \n",
      "1028  22.267151  29.663086   9.138997  3.861491   0.000000  3.114827   \n",
      "416    3.686523  51.182556  14.709473  0.000000   0...., \n",
      "2245    1\n",
      "3339    1\n",
      "949     1\n",
      "3134    0\n",
      "591     0\n",
      "       ..\n",
      "855     0\n",
      "1028    0\n",
      "416     0\n",
      "468     0\n",
      "185     1\n",
      "Name: labels, Length: 2341, dtype: int64, \n",
      "None, message_clsname='Pipeline', message=None)\n",
      "________________________________________________fit_transform_one - 0.0s, 0.0min\n",
      "[CV 1/5] END classifier=LogisticRegression(max_iter=1000.0, random_state=42, tol=0.001), classifier__C=0.001, classifier__class_weight=None, classifier__penalty=l1, scaler=StandardScaler();, score=nan total time=   0.0s\n",
      "________________________________________________________________________________\n",
      "[Memory] Calling sklearn.pipeline._fit_transform_one...\n",
      "_fit_transform_one(StandardScaler(),        airplane     animal    apparel    arcade  armchair    ashcan  \\\n",
      "918    4.605611  21.470133  30.503337  0.028992  1.017253  0.056966   \n",
      "1618   0.341288  12.695821  35.030111  0.000000  0.428263  0.000000   \n",
      "2375   0.000000  65.798950   9.904480  0.000000  0.000000  0.000000   \n",
      "2640   0.000000  64.254252   0.000000  0.000000  0.000000  0.000000   \n",
      "2407   5.784607  19.221497  24.440002  0.000000  4.872640  0.000000   \n",
      "...         ...        ...        ...       ...       ...       ...   \n",
      "855    3.665161  15.970866  34.589640  0.000000  3.972371  0.000000   \n",
      "1028  22.267151  29.663086   9.138997  3.861491  0.000000  3.114827   \n",
      "416    3.686523  51.182556  14.709473  0.000000  0.000000  0...., \n",
      "918     0\n",
      "1618    0\n",
      "2375    0\n",
      "2640    1\n",
      "2407    0\n",
      "       ..\n",
      "855     0\n",
      "1028    0\n",
      "416     0\n",
      "468     0\n",
      "185     1\n",
      "Name: labels, Length: 2341, dtype: int64, \n",
      "None, message_clsname='Pipeline', message=None)\n",
      "________________________________________________fit_transform_one - 0.0s, 0.0min\n",
      "[CV 2/5] END classifier=LogisticRegression(max_iter=1000.0, random_state=42, tol=0.001), classifier__C=0.001, classifier__class_weight=None, classifier__penalty=l1, scaler=StandardScaler();, score=nan total time=   0.0s\n",
      "________________________________________________________________________________\n",
      "[Memory] Calling sklearn.pipeline._fit_transform_one...\n",
      "_fit_transform_one(StandardScaler(),        airplane     animal    apparel    arcade  armchair    ashcan  \\\n",
      "918    4.605611  21.470133  30.503337  0.028992  1.017253  0.056966   \n",
      "1618   0.341288  12.695821  35.030111  0.000000  0.428263  0.000000   \n",
      "2375   0.000000  65.798950   9.904480  0.000000  0.000000  0.000000   \n",
      "2640   0.000000  64.254252   0.000000  0.000000  0.000000  0.000000   \n",
      "2407   5.784607  19.221497  24.440002  0.000000  4.872640  0.000000   \n",
      "...         ...        ...        ...       ...       ...       ...   \n",
      "855    3.665161  15.970866  34.589640  0.000000  3.972371  0.000000   \n",
      "1028  22.267151  29.663086   9.138997  3.861491  0.000000  3.114827   \n",
      "416    3.686523  51.182556  14.709473  0.000000  0.000000  0...., \n",
      "918     0\n",
      "1618    0\n",
      "2375    0\n",
      "2640    1\n",
      "2407    0\n",
      "       ..\n",
      "855     0\n",
      "1028    0\n",
      "416     0\n",
      "468     0\n",
      "185     1\n",
      "Name: labels, Length: 2342, dtype: int64, \n",
      "None, message_clsname='Pipeline', message=None)\n",
      "________________________________________________fit_transform_one - 0.0s, 0.0min\n",
      "[CV 3/5] END classifier=LogisticRegression(max_iter=1000.0, random_state=42, tol=0.001), classifier__C=0.001, classifier__class_weight=None, classifier__penalty=l1, scaler=StandardScaler();, score=nan total time=   0.0s\n",
      "________________________________________________________________________________\n",
      "[Memory] Calling sklearn.pipeline._fit_transform_one...\n",
      "_fit_transform_one(StandardScaler(),        airplane     animal    apparel    arcade  armchair    ashcan  \\\n",
      "918    4.605611  21.470133  30.503337  0.028992  1.017253  0.056966   \n",
      "1618   0.341288  12.695821  35.030111  0.000000  0.428263  0.000000   \n",
      "2375   0.000000  65.798950   9.904480  0.000000  0.000000  0.000000   \n",
      "2640   0.000000  64.254252   0.000000  0.000000  0.000000  0.000000   \n",
      "2407   5.784607  19.221497  24.440002  0.000000  4.872640  0.000000   \n",
      "...         ...        ...        ...       ...       ...       ...   \n",
      "855    3.665161  15.970866  34.589640  0.000000  3.972371  0.000000   \n",
      "1028  22.267151  29.663086   9.138997  3.861491  0.000000  3.114827   \n",
      "416    3.686523  51.182556  14.709473  0.000000  0.000000  0...., \n",
      "918     0\n",
      "1618    0\n",
      "2375    0\n",
      "2640    1\n",
      "2407    0\n",
      "       ..\n",
      "855     0\n",
      "1028    0\n",
      "416     0\n",
      "468     0\n",
      "185     1\n",
      "Name: labels, Length: 2342, dtype: int64, \n",
      "None, message_clsname='Pipeline', message=None)\n",
      "________________________________________________fit_transform_one - 0.0s, 0.0min\n",
      "[CV 4/5] END classifier=LogisticRegression(max_iter=1000.0, random_state=42, tol=0.001), classifier__C=0.001, classifier__class_weight=None, classifier__penalty=l1, scaler=StandardScaler();, score=nan total time=   0.0s\n",
      "________________________________________________________________________________\n",
      "[Memory] Calling sklearn.pipeline._fit_transform_one...\n",
      "_fit_transform_one(StandardScaler(),       airplane     animal    apparel    arcade   armchair    ashcan  \\\n",
      "918   4.605611  21.470133  30.503337  0.028992   1.017253  0.056966   \n",
      "1618  0.341288  12.695821  35.030111  0.000000   0.428263  0.000000   \n",
      "2375  0.000000  65.798950   9.904480  0.000000   0.000000  0.000000   \n",
      "2640  0.000000  64.254252   0.000000  0.000000   0.000000  0.000000   \n",
      "2407  5.784607  19.221497  24.440002  0.000000   4.872640  0.000000   \n",
      "...        ...        ...        ...       ...        ...       ...   \n",
      "3643  0.001017  15.863546  22.977702  0.000000  11.930847  0.000000   \n",
      "3625  0.717163   2.399699  41.826884  0.000000   4.232788  0.000000   \n",
      "1083  0.554911   8.903503  37.401835  0.000000   4.867045  0...., \n",
      "918     0\n",
      "1618    0\n",
      "2375    0\n",
      "2640    1\n",
      "2407    0\n",
      "       ..\n",
      "3643    1\n",
      "3625    1\n",
      "1083    1\n",
      "3448    1\n",
      "3361    1\n",
      "Name: labels, Length: 2342, dtype: int64, \n",
      "None, message_clsname='Pipeline', message=None)\n",
      "________________________________________________fit_transform_one - 0.0s, 0.0min\n",
      "[CV 5/5] END classifier=LogisticRegression(max_iter=1000.0, random_state=42, tol=0.001), classifier__C=0.001, classifier__class_weight=None, classifier__penalty=l1, scaler=StandardScaler();, score=nan total time=   0.0s\n",
      "[CV 1/5] END classifier=LogisticRegression(max_iter=1000.0, random_state=42, tol=0.001), classifier__C=0.001, classifier__class_weight=None, classifier__penalty=l2, scaler=passthrough;, score=0.492 total time=   0.0s\n"
     ]
    },
    {
     "name": "stdout",
     "output_type": "stream",
     "text": [
      "[CV 2/5] END classifier=LogisticRegression(max_iter=1000.0, random_state=42, tol=0.001), classifier__C=0.001, classifier__class_weight=None, classifier__penalty=l2, scaler=passthrough;, score=0.520 total time=   0.0s\n",
      "[CV 3/5] END classifier=LogisticRegression(max_iter=1000.0, random_state=42, tol=0.001), classifier__C=0.001, classifier__class_weight=None, classifier__penalty=l2, scaler=passthrough;, score=0.504 total time=   0.0s\n",
      "[CV 4/5] END classifier=LogisticRegression(max_iter=1000.0, random_state=42, tol=0.001), classifier__C=0.001, classifier__class_weight=None, classifier__penalty=l2, scaler=passthrough;, score=0.506 total time=   0.0s\n",
      "[CV 5/5] END classifier=LogisticRegression(max_iter=1000.0, random_state=42, tol=0.001), classifier__C=0.001, classifier__class_weight=None, classifier__penalty=l2, scaler=passthrough;, score=0.513 total time=   0.0s\n",
      "[CV 1/5] END classifier=LogisticRegression(max_iter=1000.0, random_state=42, tol=0.001), classifier__C=0.001, classifier__class_weight=None, classifier__penalty=l2, scaler=StandardScaler();, score=0.505 total time=   0.0s\n",
      "[CV 2/5] END classifier=LogisticRegression(max_iter=1000.0, random_state=42, tol=0.001), classifier__C=0.001, classifier__class_weight=None, classifier__penalty=l2, scaler=StandardScaler();, score=0.505 total time=   0.0s\n",
      "[CV 3/5] END classifier=LogisticRegression(max_iter=1000.0, random_state=42, tol=0.001), classifier__C=0.001, classifier__class_weight=None, classifier__penalty=l2, scaler=StandardScaler();, score=0.509 total time=   0.0s\n",
      "[CV 4/5] END classifier=LogisticRegression(max_iter=1000.0, random_state=42, tol=0.001), classifier__C=0.001, classifier__class_weight=None, classifier__penalty=l2, scaler=StandardScaler();, score=0.500 total time=   0.0s\n",
      "[CV 5/5] END classifier=LogisticRegression(max_iter=1000.0, random_state=42, tol=0.001), classifier__C=0.001, classifier__class_weight=None, classifier__penalty=l2, scaler=StandardScaler();, score=0.500 total time=   0.0s\n",
      "[CV 1/5] END classifier=LogisticRegression(max_iter=1000.0, random_state=42, tol=0.001), classifier__C=0.001, classifier__class_weight=balanced, classifier__penalty=l1, scaler=passthrough;, score=nan total time=   0.0s\n",
      "[CV 2/5] END classifier=LogisticRegression(max_iter=1000.0, random_state=42, tol=0.001), classifier__C=0.001, classifier__class_weight=balanced, classifier__penalty=l1, scaler=passthrough;, score=nan total time=   0.0s\n",
      "[CV 3/5] END classifier=LogisticRegression(max_iter=1000.0, random_state=42, tol=0.001), classifier__C=0.001, classifier__class_weight=balanced, classifier__penalty=l1, scaler=passthrough;, score=nan total time=   0.0s\n",
      "[CV 4/5] END classifier=LogisticRegression(max_iter=1000.0, random_state=42, tol=0.001), classifier__C=0.001, classifier__class_weight=balanced, classifier__penalty=l1, scaler=passthrough;, score=nan total time=   0.0s\n",
      "[CV 5/5] END classifier=LogisticRegression(max_iter=1000.0, random_state=42, tol=0.001), classifier__C=0.001, classifier__class_weight=balanced, classifier__penalty=l1, scaler=passthrough;, score=nan total time=   0.0s\n",
      "[CV 1/5] END classifier=LogisticRegression(max_iter=1000.0, random_state=42, tol=0.001), classifier__C=0.001, classifier__class_weight=balanced, classifier__penalty=l1, scaler=StandardScaler();, score=nan total time=   0.0s\n",
      "[CV 2/5] END classifier=LogisticRegression(max_iter=1000.0, random_state=42, tol=0.001), classifier__C=0.001, classifier__class_weight=balanced, classifier__penalty=l1, scaler=StandardScaler();, score=nan total time=   0.0s\n",
      "[CV 3/5] END classifier=LogisticRegression(max_iter=1000.0, random_state=42, tol=0.001), classifier__C=0.001, classifier__class_weight=balanced, classifier__penalty=l1, scaler=StandardScaler();, score=nan total time=   0.0s\n",
      "[CV 4/5] END classifier=LogisticRegression(max_iter=1000.0, random_state=42, tol=0.001), classifier__C=0.001, classifier__class_weight=balanced, classifier__penalty=l1, scaler=StandardScaler();, score=nan total time=   0.0s\n",
      "[CV 5/5] END classifier=LogisticRegression(max_iter=1000.0, random_state=42, tol=0.001), classifier__C=0.001, classifier__class_weight=balanced, classifier__penalty=l1, scaler=StandardScaler();, score=nan total time=   0.0s\n",
      "[CV 1/5] END classifier=LogisticRegression(max_iter=1000.0, random_state=42, tol=0.001), classifier__C=0.001, classifier__class_weight=balanced, classifier__penalty=l2, scaler=passthrough;, score=0.637 total time=   0.0s\n",
      "[CV 2/5] END classifier=LogisticRegression(max_iter=1000.0, random_state=42, tol=0.001), classifier__C=0.001, classifier__class_weight=balanced, classifier__penalty=l2, scaler=passthrough;, score=0.652 total time=   0.0s\n",
      "[CV 3/5] END classifier=LogisticRegression(max_iter=1000.0, random_state=42, tol=0.001), classifier__C=0.001, classifier__class_weight=balanced, classifier__penalty=l2, scaler=passthrough;, score=0.655 total time=   0.0s\n",
      "[CV 4/5] END classifier=LogisticRegression(max_iter=1000.0, random_state=42, tol=0.001), classifier__C=0.001, classifier__class_weight=balanced, classifier__penalty=l2, scaler=passthrough;, score=0.656 total time=   0.0s\n",
      "[CV 5/5] END classifier=LogisticRegression(max_iter=1000.0, random_state=42, tol=0.001), classifier__C=0.001, classifier__class_weight=balanced, classifier__penalty=l2, scaler=passthrough;, score=0.638 total time=   0.0s\n",
      "[CV 1/5] END classifier=LogisticRegression(max_iter=1000.0, random_state=42, tol=0.001), classifier__C=0.001, classifier__class_weight=balanced, classifier__penalty=l2, scaler=StandardScaler();, score=0.660 total time=   0.0s\n",
      "[CV 2/5] END classifier=LogisticRegression(max_iter=1000.0, random_state=42, tol=0.001), classifier__C=0.001, classifier__class_weight=balanced, classifier__penalty=l2, scaler=StandardScaler();, score=0.675 total time=   0.0s\n",
      "[CV 3/5] END classifier=LogisticRegression(max_iter=1000.0, random_state=42, tol=0.001), classifier__C=0.001, classifier__class_weight=balanced, classifier__penalty=l2, scaler=StandardScaler();, score=0.661 total time=   0.0s\n",
      "[CV 4/5] END classifier=LogisticRegression(max_iter=1000.0, random_state=42, tol=0.001), classifier__C=0.001, classifier__class_weight=balanced, classifier__penalty=l2, scaler=StandardScaler();, score=0.629 total time=   0.0s\n",
      "[CV 5/5] END classifier=LogisticRegression(max_iter=1000.0, random_state=42, tol=0.001), classifier__C=0.001, classifier__class_weight=balanced, classifier__penalty=l2, scaler=StandardScaler();, score=0.625 total time=   0.0s\n",
      "[CV 1/5] END classifier=LogisticRegression(max_iter=1000.0, random_state=42, tol=0.001), classifier__C=0.01, classifier__class_weight=None, classifier__penalty=l1, scaler=passthrough;, score=nan total time=   0.0s\n",
      "[CV 2/5] END classifier=LogisticRegression(max_iter=1000.0, random_state=42, tol=0.001), classifier__C=0.01, classifier__class_weight=None, classifier__penalty=l1, scaler=passthrough;, score=nan total time=   0.0s\n",
      "[CV 3/5] END classifier=LogisticRegression(max_iter=1000.0, random_state=42, tol=0.001), classifier__C=0.01, classifier__class_weight=None, classifier__penalty=l1, scaler=passthrough;, score=nan total time=   0.0s\n",
      "[CV 4/5] END classifier=LogisticRegression(max_iter=1000.0, random_state=42, tol=0.001), classifier__C=0.01, classifier__class_weight=None, classifier__penalty=l1, scaler=passthrough;, score=nan total time=   0.0s\n",
      "[CV 5/5] END classifier=LogisticRegression(max_iter=1000.0, random_state=42, tol=0.001), classifier__C=0.01, classifier__class_weight=None, classifier__penalty=l1, scaler=passthrough;, score=nan total time=   0.0s\n",
      "[CV 1/5] END classifier=LogisticRegression(max_iter=1000.0, random_state=42, tol=0.001), classifier__C=0.01, classifier__class_weight=None, classifier__penalty=l1, scaler=StandardScaler();, score=nan total time=   0.0s\n",
      "[CV 2/5] END classifier=LogisticRegression(max_iter=1000.0, random_state=42, tol=0.001), classifier__C=0.01, classifier__class_weight=None, classifier__penalty=l1, scaler=StandardScaler();, score=nan total time=   0.0s\n",
      "[CV 3/5] END classifier=LogisticRegression(max_iter=1000.0, random_state=42, tol=0.001), classifier__C=0.01, classifier__class_weight=None, classifier__penalty=l1, scaler=StandardScaler();, score=nan total time=   0.0s\n",
      "[CV 4/5] END classifier=LogisticRegression(max_iter=1000.0, random_state=42, tol=0.001), classifier__C=0.01, classifier__class_weight=None, classifier__penalty=l1, scaler=StandardScaler();, score=nan total time=   0.0s\n",
      "[CV 5/5] END classifier=LogisticRegression(max_iter=1000.0, random_state=42, tol=0.001), classifier__C=0.01, classifier__class_weight=None, classifier__penalty=l1, scaler=StandardScaler();, score=nan total time=   0.0s\n"
     ]
    },
    {
     "name": "stdout",
     "output_type": "stream",
     "text": [
      "[CV 1/5] END classifier=LogisticRegression(max_iter=1000.0, random_state=42, tol=0.001), classifier__C=0.01, classifier__class_weight=None, classifier__penalty=l2, scaler=passthrough;, score=0.495 total time=   0.1s\n",
      "[CV 2/5] END classifier=LogisticRegression(max_iter=1000.0, random_state=42, tol=0.001), classifier__C=0.01, classifier__class_weight=None, classifier__penalty=l2, scaler=passthrough;, score=0.534 total time=   0.1s\n",
      "[CV 3/5] END classifier=LogisticRegression(max_iter=1000.0, random_state=42, tol=0.001), classifier__C=0.01, classifier__class_weight=None, classifier__penalty=l2, scaler=passthrough;, score=0.503 total time=   0.0s\n",
      "[CV 4/5] END classifier=LogisticRegression(max_iter=1000.0, random_state=42, tol=0.001), classifier__C=0.01, classifier__class_weight=None, classifier__penalty=l2, scaler=passthrough;, score=0.510 total time=   0.0s\n",
      "[CV 5/5] END classifier=LogisticRegression(max_iter=1000.0, random_state=42, tol=0.001), classifier__C=0.01, classifier__class_weight=None, classifier__penalty=l2, scaler=passthrough;, score=0.510 total time=   0.0s\n",
      "[CV 1/5] END classifier=LogisticRegression(max_iter=1000.0, random_state=42, tol=0.001), classifier__C=0.01, classifier__class_weight=None, classifier__penalty=l2, scaler=StandardScaler();, score=0.495 total time=   0.0s\n",
      "[CV 2/5] END classifier=LogisticRegression(max_iter=1000.0, random_state=42, tol=0.001), classifier__C=0.01, classifier__class_weight=None, classifier__penalty=l2, scaler=StandardScaler();, score=0.509 total time=   0.0s\n",
      "[CV 3/5] END classifier=LogisticRegression(max_iter=1000.0, random_state=42, tol=0.001), classifier__C=0.01, classifier__class_weight=None, classifier__penalty=l2, scaler=StandardScaler();, score=0.505 total time=   0.0s\n",
      "[CV 4/5] END classifier=LogisticRegression(max_iter=1000.0, random_state=42, tol=0.001), classifier__C=0.01, classifier__class_weight=None, classifier__penalty=l2, scaler=StandardScaler();, score=0.507 total time=   0.0s\n",
      "[CV 5/5] END classifier=LogisticRegression(max_iter=1000.0, random_state=42, tol=0.001), classifier__C=0.01, classifier__class_weight=None, classifier__penalty=l2, scaler=StandardScaler();, score=0.504 total time=   0.0s\n",
      "[CV 1/5] END classifier=LogisticRegression(max_iter=1000.0, random_state=42, tol=0.001), classifier__C=0.01, classifier__class_weight=balanced, classifier__penalty=l1, scaler=passthrough;, score=nan total time=   0.0s\n",
      "[CV 2/5] END classifier=LogisticRegression(max_iter=1000.0, random_state=42, tol=0.001), classifier__C=0.01, classifier__class_weight=balanced, classifier__penalty=l1, scaler=passthrough;, score=nan total time=   0.0s\n",
      "[CV 3/5] END classifier=LogisticRegression(max_iter=1000.0, random_state=42, tol=0.001), classifier__C=0.01, classifier__class_weight=balanced, classifier__penalty=l1, scaler=passthrough;, score=nan total time=   0.0s\n",
      "[CV 4/5] END classifier=LogisticRegression(max_iter=1000.0, random_state=42, tol=0.001), classifier__C=0.01, classifier__class_weight=balanced, classifier__penalty=l1, scaler=passthrough;, score=nan total time=   0.0s\n",
      "[CV 5/5] END classifier=LogisticRegression(max_iter=1000.0, random_state=42, tol=0.001), classifier__C=0.01, classifier__class_weight=balanced, classifier__penalty=l1, scaler=passthrough;, score=nan total time=   0.0s\n",
      "[CV 1/5] END classifier=LogisticRegression(max_iter=1000.0, random_state=42, tol=0.001), classifier__C=0.01, classifier__class_weight=balanced, classifier__penalty=l1, scaler=StandardScaler();, score=nan total time=   0.0s\n",
      "[CV 2/5] END classifier=LogisticRegression(max_iter=1000.0, random_state=42, tol=0.001), classifier__C=0.01, classifier__class_weight=balanced, classifier__penalty=l1, scaler=StandardScaler();, score=nan total time=   0.0s\n",
      "[CV 3/5] END classifier=LogisticRegression(max_iter=1000.0, random_state=42, tol=0.001), classifier__C=0.01, classifier__class_weight=balanced, classifier__penalty=l1, scaler=StandardScaler();, score=nan total time=   0.0s\n",
      "[CV 4/5] END classifier=LogisticRegression(max_iter=1000.0, random_state=42, tol=0.001), classifier__C=0.01, classifier__class_weight=balanced, classifier__penalty=l1, scaler=StandardScaler();, score=nan total time=   0.0s\n",
      "[CV 5/5] END classifier=LogisticRegression(max_iter=1000.0, random_state=42, tol=0.001), classifier__C=0.01, classifier__class_weight=balanced, classifier__penalty=l1, scaler=StandardScaler();, score=nan total time=   0.0s\n",
      "[CV 1/5] END classifier=LogisticRegression(max_iter=1000.0, random_state=42, tol=0.001), classifier__C=0.01, classifier__class_weight=balanced, classifier__penalty=l2, scaler=passthrough;, score=0.648 total time=   0.1s\n",
      "[CV 2/5] END classifier=LogisticRegression(max_iter=1000.0, random_state=42, tol=0.001), classifier__C=0.01, classifier__class_weight=balanced, classifier__penalty=l2, scaler=passthrough;, score=0.645 total time=   0.1s\n",
      "[CV 3/5] END classifier=LogisticRegression(max_iter=1000.0, random_state=42, tol=0.001), classifier__C=0.01, classifier__class_weight=balanced, classifier__penalty=l2, scaler=passthrough;, score=0.667 total time=   0.1s\n",
      "[CV 4/5] END classifier=LogisticRegression(max_iter=1000.0, random_state=42, tol=0.001), classifier__C=0.01, classifier__class_weight=balanced, classifier__penalty=l2, scaler=passthrough;, score=0.639 total time=   0.1s\n",
      "[CV 5/5] END classifier=LogisticRegression(max_iter=1000.0, random_state=42, tol=0.001), classifier__C=0.01, classifier__class_weight=balanced, classifier__penalty=l2, scaler=passthrough;, score=0.640 total time=   0.1s\n",
      "[CV 1/5] END classifier=LogisticRegression(max_iter=1000.0, random_state=42, tol=0.001), classifier__C=0.01, classifier__class_weight=balanced, classifier__penalty=l2, scaler=StandardScaler();, score=0.672 total time=   0.0s\n",
      "[CV 2/5] END classifier=LogisticRegression(max_iter=1000.0, random_state=42, tol=0.001), classifier__C=0.01, classifier__class_weight=balanced, classifier__penalty=l2, scaler=StandardScaler();, score=0.666 total time=   0.0s\n",
      "[CV 3/5] END classifier=LogisticRegression(max_iter=1000.0, random_state=42, tol=0.001), classifier__C=0.01, classifier__class_weight=balanced, classifier__penalty=l2, scaler=StandardScaler();, score=0.661 total time=   0.0s\n",
      "[CV 4/5] END classifier=LogisticRegression(max_iter=1000.0, random_state=42, tol=0.001), classifier__C=0.01, classifier__class_weight=balanced, classifier__penalty=l2, scaler=StandardScaler();, score=0.643 total time=   0.0s\n",
      "[CV 5/5] END classifier=LogisticRegression(max_iter=1000.0, random_state=42, tol=0.001), classifier__C=0.01, classifier__class_weight=balanced, classifier__penalty=l2, scaler=StandardScaler();, score=0.639 total time=   0.0s\n",
      "[CV 1/5] END classifier=LogisticRegression(max_iter=1000.0, random_state=42, tol=0.001), classifier__C=0.1, classifier__class_weight=None, classifier__penalty=l1, scaler=passthrough;, score=nan total time=   0.0s\n",
      "[CV 2/5] END classifier=LogisticRegression(max_iter=1000.0, random_state=42, tol=0.001), classifier__C=0.1, classifier__class_weight=None, classifier__penalty=l1, scaler=passthrough;, score=nan total time=   0.0s\n",
      "[CV 3/5] END classifier=LogisticRegression(max_iter=1000.0, random_state=42, tol=0.001), classifier__C=0.1, classifier__class_weight=None, classifier__penalty=l1, scaler=passthrough;, score=nan total time=   0.0s\n",
      "[CV 4/5] END classifier=LogisticRegression(max_iter=1000.0, random_state=42, tol=0.001), classifier__C=0.1, classifier__class_weight=None, classifier__penalty=l1, scaler=passthrough;, score=nan total time=   0.0s\n",
      "[CV 5/5] END classifier=LogisticRegression(max_iter=1000.0, random_state=42, tol=0.001), classifier__C=0.1, classifier__class_weight=None, classifier__penalty=l1, scaler=passthrough;, score=nan total time=   0.0s\n",
      "[CV 1/5] END classifier=LogisticRegression(max_iter=1000.0, random_state=42, tol=0.001), classifier__C=0.1, classifier__class_weight=None, classifier__penalty=l1, scaler=StandardScaler();, score=nan total time=   0.0s\n",
      "[CV 2/5] END classifier=LogisticRegression(max_iter=1000.0, random_state=42, tol=0.001), classifier__C=0.1, classifier__class_weight=None, classifier__penalty=l1, scaler=StandardScaler();, score=nan total time=   0.0s\n",
      "[CV 3/5] END classifier=LogisticRegression(max_iter=1000.0, random_state=42, tol=0.001), classifier__C=0.1, classifier__class_weight=None, classifier__penalty=l1, scaler=StandardScaler();, score=nan total time=   0.0s\n",
      "[CV 4/5] END classifier=LogisticRegression(max_iter=1000.0, random_state=42, tol=0.001), classifier__C=0.1, classifier__class_weight=None, classifier__penalty=l1, scaler=StandardScaler();, score=nan total time=   0.0s\n",
      "[CV 5/5] END classifier=LogisticRegression(max_iter=1000.0, random_state=42, tol=0.001), classifier__C=0.1, classifier__class_weight=None, classifier__penalty=l1, scaler=StandardScaler();, score=nan total time=   0.0s\n",
      "[CV 1/5] END classifier=LogisticRegression(max_iter=1000.0, random_state=42, tol=0.001), classifier__C=0.1, classifier__class_weight=None, classifier__penalty=l2, scaler=passthrough;, score=0.497 total time=   0.1s\n"
     ]
    },
    {
     "name": "stdout",
     "output_type": "stream",
     "text": [
      "[CV 2/5] END classifier=LogisticRegression(max_iter=1000.0, random_state=42, tol=0.001), classifier__C=0.1, classifier__class_weight=None, classifier__penalty=l2, scaler=passthrough;, score=0.527 total time=   0.1s\n",
      "[CV 3/5] END classifier=LogisticRegression(max_iter=1000.0, random_state=42, tol=0.001), classifier__C=0.1, classifier__class_weight=None, classifier__penalty=l2, scaler=passthrough;, score=0.505 total time=   0.1s\n",
      "[CV 4/5] END classifier=LogisticRegression(max_iter=1000.0, random_state=42, tol=0.001), classifier__C=0.1, classifier__class_weight=None, classifier__penalty=l2, scaler=passthrough;, score=0.520 total time=   0.1s\n",
      "[CV 5/5] END classifier=LogisticRegression(max_iter=1000.0, random_state=42, tol=0.001), classifier__C=0.1, classifier__class_weight=None, classifier__penalty=l2, scaler=passthrough;, score=0.510 total time=   0.1s\n",
      "[CV 1/5] END classifier=LogisticRegression(max_iter=1000.0, random_state=42, tol=0.001), classifier__C=0.1, classifier__class_weight=None, classifier__penalty=l2, scaler=StandardScaler();, score=0.505 total time=   0.0s\n",
      "[CV 2/5] END classifier=LogisticRegression(max_iter=1000.0, random_state=42, tol=0.001), classifier__C=0.1, classifier__class_weight=None, classifier__penalty=l2, scaler=StandardScaler();, score=0.522 total time=   0.0s\n",
      "[CV 3/5] END classifier=LogisticRegression(max_iter=1000.0, random_state=42, tol=0.001), classifier__C=0.1, classifier__class_weight=None, classifier__penalty=l2, scaler=StandardScaler();, score=0.515 total time=   0.0s\n",
      "[CV 4/5] END classifier=LogisticRegression(max_iter=1000.0, random_state=42, tol=0.001), classifier__C=0.1, classifier__class_weight=None, classifier__penalty=l2, scaler=StandardScaler();, score=0.511 total time=   0.0s\n",
      "[CV 5/5] END classifier=LogisticRegression(max_iter=1000.0, random_state=42, tol=0.001), classifier__C=0.1, classifier__class_weight=None, classifier__penalty=l2, scaler=StandardScaler();, score=0.519 total time=   0.0s\n",
      "[CV 1/5] END classifier=LogisticRegression(max_iter=1000.0, random_state=42, tol=0.001), classifier__C=0.1, classifier__class_weight=balanced, classifier__penalty=l1, scaler=passthrough;, score=nan total time=   0.0s\n",
      "[CV 2/5] END classifier=LogisticRegression(max_iter=1000.0, random_state=42, tol=0.001), classifier__C=0.1, classifier__class_weight=balanced, classifier__penalty=l1, scaler=passthrough;, score=nan total time=   0.0s\n",
      "[CV 3/5] END classifier=LogisticRegression(max_iter=1000.0, random_state=42, tol=0.001), classifier__C=0.1, classifier__class_weight=balanced, classifier__penalty=l1, scaler=passthrough;, score=nan total time=   0.0s\n",
      "[CV 4/5] END classifier=LogisticRegression(max_iter=1000.0, random_state=42, tol=0.001), classifier__C=0.1, classifier__class_weight=balanced, classifier__penalty=l1, scaler=passthrough;, score=nan total time=   0.0s\n",
      "[CV 5/5] END classifier=LogisticRegression(max_iter=1000.0, random_state=42, tol=0.001), classifier__C=0.1, classifier__class_weight=balanced, classifier__penalty=l1, scaler=passthrough;, score=nan total time=   0.0s\n",
      "[CV 1/5] END classifier=LogisticRegression(max_iter=1000.0, random_state=42, tol=0.001), classifier__C=0.1, classifier__class_weight=balanced, classifier__penalty=l1, scaler=StandardScaler();, score=nan total time=   0.0s\n",
      "[CV 2/5] END classifier=LogisticRegression(max_iter=1000.0, random_state=42, tol=0.001), classifier__C=0.1, classifier__class_weight=balanced, classifier__penalty=l1, scaler=StandardScaler();, score=nan total time=   0.0s\n",
      "[CV 3/5] END classifier=LogisticRegression(max_iter=1000.0, random_state=42, tol=0.001), classifier__C=0.1, classifier__class_weight=balanced, classifier__penalty=l1, scaler=StandardScaler();, score=nan total time=   0.0s\n",
      "[CV 4/5] END classifier=LogisticRegression(max_iter=1000.0, random_state=42, tol=0.001), classifier__C=0.1, classifier__class_weight=balanced, classifier__penalty=l1, scaler=StandardScaler();, score=nan total time=   0.0s\n",
      "[CV 5/5] END classifier=LogisticRegression(max_iter=1000.0, random_state=42, tol=0.001), classifier__C=0.1, classifier__class_weight=balanced, classifier__penalty=l1, scaler=StandardScaler();, score=nan total time=   0.0s\n",
      "[CV 1/5] END classifier=LogisticRegression(max_iter=1000.0, random_state=42, tol=0.001), classifier__C=0.1, classifier__class_weight=balanced, classifier__penalty=l2, scaler=passthrough;, score=0.649 total time=   0.1s\n",
      "[CV 2/5] END classifier=LogisticRegression(max_iter=1000.0, random_state=42, tol=0.001), classifier__C=0.1, classifier__class_weight=balanced, classifier__penalty=l2, scaler=passthrough;, score=0.647 total time=   0.1s\n",
      "[CV 3/5] END classifier=LogisticRegression(max_iter=1000.0, random_state=42, tol=0.001), classifier__C=0.1, classifier__class_weight=balanced, classifier__penalty=l2, scaler=passthrough;, score=0.662 total time=   0.1s\n",
      "[CV 4/5] END classifier=LogisticRegression(max_iter=1000.0, random_state=42, tol=0.001), classifier__C=0.1, classifier__class_weight=balanced, classifier__penalty=l2, scaler=passthrough;, score=0.638 total time=   0.1s\n",
      "[CV 5/5] END classifier=LogisticRegression(max_iter=1000.0, random_state=42, tol=0.001), classifier__C=0.1, classifier__class_weight=balanced, classifier__penalty=l2, scaler=passthrough;, score=0.639 total time=   0.1s\n",
      "[CV 1/5] END classifier=LogisticRegression(max_iter=1000.0, random_state=42, tol=0.001), classifier__C=0.1, classifier__class_weight=balanced, classifier__penalty=l2, scaler=StandardScaler();, score=0.655 total time=   0.0s\n",
      "[CV 2/5] END classifier=LogisticRegression(max_iter=1000.0, random_state=42, tol=0.001), classifier__C=0.1, classifier__class_weight=balanced, classifier__penalty=l2, scaler=StandardScaler();, score=0.666 total time=   0.0s\n",
      "[CV 3/5] END classifier=LogisticRegression(max_iter=1000.0, random_state=42, tol=0.001), classifier__C=0.1, classifier__class_weight=balanced, classifier__penalty=l2, scaler=StandardScaler();, score=0.658 total time=   0.0s\n",
      "[CV 4/5] END classifier=LogisticRegression(max_iter=1000.0, random_state=42, tol=0.001), classifier__C=0.1, classifier__class_weight=balanced, classifier__penalty=l2, scaler=StandardScaler();, score=0.629 total time=   0.0s\n",
      "[CV 5/5] END classifier=LogisticRegression(max_iter=1000.0, random_state=42, tol=0.001), classifier__C=0.1, classifier__class_weight=balanced, classifier__penalty=l2, scaler=StandardScaler();, score=0.632 total time=   0.0s\n",
      "[CV 1/5] END classifier=LogisticRegression(max_iter=1000.0, random_state=42, tol=0.001), classifier__C=1.0, classifier__class_weight=None, classifier__penalty=l1, scaler=passthrough;, score=nan total time=   0.0s\n",
      "[CV 2/5] END classifier=LogisticRegression(max_iter=1000.0, random_state=42, tol=0.001), classifier__C=1.0, classifier__class_weight=None, classifier__penalty=l1, scaler=passthrough;, score=nan total time=   0.0s\n",
      "[CV 3/5] END classifier=LogisticRegression(max_iter=1000.0, random_state=42, tol=0.001), classifier__C=1.0, classifier__class_weight=None, classifier__penalty=l1, scaler=passthrough;, score=nan total time=   0.0s\n",
      "[CV 4/5] END classifier=LogisticRegression(max_iter=1000.0, random_state=42, tol=0.001), classifier__C=1.0, classifier__class_weight=None, classifier__penalty=l1, scaler=passthrough;, score=nan total time=   0.0s\n",
      "[CV 5/5] END classifier=LogisticRegression(max_iter=1000.0, random_state=42, tol=0.001), classifier__C=1.0, classifier__class_weight=None, classifier__penalty=l1, scaler=passthrough;, score=nan total time=   0.0s\n",
      "[CV 1/5] END classifier=LogisticRegression(max_iter=1000.0, random_state=42, tol=0.001), classifier__C=1.0, classifier__class_weight=None, classifier__penalty=l1, scaler=StandardScaler();, score=nan total time=   0.0s\n",
      "[CV 2/5] END classifier=LogisticRegression(max_iter=1000.0, random_state=42, tol=0.001), classifier__C=1.0, classifier__class_weight=None, classifier__penalty=l1, scaler=StandardScaler();, score=nan total time=   0.0s\n",
      "[CV 3/5] END classifier=LogisticRegression(max_iter=1000.0, random_state=42, tol=0.001), classifier__C=1.0, classifier__class_weight=None, classifier__penalty=l1, scaler=StandardScaler();, score=nan total time=   0.0s\n",
      "[CV 4/5] END classifier=LogisticRegression(max_iter=1000.0, random_state=42, tol=0.001), classifier__C=1.0, classifier__class_weight=None, classifier__penalty=l1, scaler=StandardScaler();, score=nan total time=   0.0s\n",
      "[CV 5/5] END classifier=LogisticRegression(max_iter=1000.0, random_state=42, tol=0.001), classifier__C=1.0, classifier__class_weight=None, classifier__penalty=l1, scaler=StandardScaler();, score=nan total time=   0.0s\n"
     ]
    },
    {
     "name": "stderr",
     "output_type": "stream",
     "text": [
      "/home/felipe/anaconda3/envs/segmentator/lib/python3.7/site-packages/sklearn/linear_model/_logistic.py:818: ConvergenceWarning: lbfgs failed to converge (status=1):\n",
      "STOP: TOTAL NO. of ITERATIONS REACHED LIMIT.\n",
      "\n",
      "Increase the number of iterations (max_iter) or scale the data as shown in:\n",
      "    https://scikit-learn.org/stable/modules/preprocessing.html\n",
      "Please also refer to the documentation for alternative solver options:\n",
      "    https://scikit-learn.org/stable/modules/linear_model.html#logistic-regression\n",
      "  extra_warning_msg=_LOGISTIC_SOLVER_CONVERGENCE_MSG,\n"
     ]
    },
    {
     "name": "stdout",
     "output_type": "stream",
     "text": [
      "[CV 1/5] END classifier=LogisticRegression(max_iter=1000.0, random_state=42, tol=0.001), classifier__C=1.0, classifier__class_weight=None, classifier__penalty=l2, scaler=passthrough;, score=0.496 total time=   0.3s\n"
     ]
    },
    {
     "name": "stderr",
     "output_type": "stream",
     "text": [
      "/home/felipe/anaconda3/envs/segmentator/lib/python3.7/site-packages/sklearn/linear_model/_logistic.py:818: ConvergenceWarning: lbfgs failed to converge (status=1):\n",
      "STOP: TOTAL NO. of ITERATIONS REACHED LIMIT.\n",
      "\n",
      "Increase the number of iterations (max_iter) or scale the data as shown in:\n",
      "    https://scikit-learn.org/stable/modules/preprocessing.html\n",
      "Please also refer to the documentation for alternative solver options:\n",
      "    https://scikit-learn.org/stable/modules/linear_model.html#logistic-regression\n",
      "  extra_warning_msg=_LOGISTIC_SOLVER_CONVERGENCE_MSG,\n"
     ]
    },
    {
     "name": "stdout",
     "output_type": "stream",
     "text": [
      "[CV 2/5] END classifier=LogisticRegression(max_iter=1000.0, random_state=42, tol=0.001), classifier__C=1.0, classifier__class_weight=None, classifier__penalty=l2, scaler=passthrough;, score=0.534 total time=   0.3s\n"
     ]
    },
    {
     "name": "stderr",
     "output_type": "stream",
     "text": [
      "/home/felipe/anaconda3/envs/segmentator/lib/python3.7/site-packages/sklearn/linear_model/_logistic.py:818: ConvergenceWarning: lbfgs failed to converge (status=1):\n",
      "STOP: TOTAL NO. of ITERATIONS REACHED LIMIT.\n",
      "\n",
      "Increase the number of iterations (max_iter) or scale the data as shown in:\n",
      "    https://scikit-learn.org/stable/modules/preprocessing.html\n",
      "Please also refer to the documentation for alternative solver options:\n",
      "    https://scikit-learn.org/stable/modules/linear_model.html#logistic-regression\n",
      "  extra_warning_msg=_LOGISTIC_SOLVER_CONVERGENCE_MSG,\n"
     ]
    },
    {
     "name": "stdout",
     "output_type": "stream",
     "text": [
      "[CV 3/5] END classifier=LogisticRegression(max_iter=1000.0, random_state=42, tol=0.001), classifier__C=1.0, classifier__class_weight=None, classifier__penalty=l2, scaler=passthrough;, score=0.508 total time=   0.3s\n",
      "[CV 4/5] END classifier=LogisticRegression(max_iter=1000.0, random_state=42, tol=0.001), classifier__C=1.0, classifier__class_weight=None, classifier__penalty=l2, scaler=passthrough;, score=0.509 total time=   0.4s\n",
      "[CV 5/5] END classifier=LogisticRegression(max_iter=1000.0, random_state=42, tol=0.001), classifier__C=1.0, classifier__class_weight=None, classifier__penalty=l2, scaler=passthrough;, score=0.510 total time=   0.3s\n",
      "[CV 1/5] END classifier=LogisticRegression(max_iter=1000.0, random_state=42, tol=0.001), classifier__C=1.0, classifier__class_weight=None, classifier__penalty=l2, scaler=StandardScaler();, score=0.503 total time=   0.0s\n",
      "[CV 2/5] END classifier=LogisticRegression(max_iter=1000.0, random_state=42, tol=0.001), classifier__C=1.0, classifier__class_weight=None, classifier__penalty=l2, scaler=StandardScaler();, score=0.533 total time=   0.0s\n",
      "[CV 3/5] END classifier=LogisticRegression(max_iter=1000.0, random_state=42, tol=0.001), classifier__C=1.0, classifier__class_weight=None, classifier__penalty=l2, scaler=StandardScaler();, score=0.514 total time=   0.0s\n",
      "[CV 4/5] END classifier=LogisticRegression(max_iter=1000.0, random_state=42, tol=0.001), classifier__C=1.0, classifier__class_weight=None, classifier__penalty=l2, scaler=StandardScaler();, score=0.512 total time=   0.0s\n",
      "[CV 5/5] END classifier=LogisticRegression(max_iter=1000.0, random_state=42, tol=0.001), classifier__C=1.0, classifier__class_weight=None, classifier__penalty=l2, scaler=StandardScaler();, score=0.523 total time=   0.0s\n",
      "[CV 1/5] END classifier=LogisticRegression(max_iter=1000.0, random_state=42, tol=0.001), classifier__C=1.0, classifier__class_weight=balanced, classifier__penalty=l1, scaler=passthrough;, score=nan total time=   0.0s\n",
      "[CV 2/5] END classifier=LogisticRegression(max_iter=1000.0, random_state=42, tol=0.001), classifier__C=1.0, classifier__class_weight=balanced, classifier__penalty=l1, scaler=passthrough;, score=nan total time=   0.0s\n",
      "[CV 3/5] END classifier=LogisticRegression(max_iter=1000.0, random_state=42, tol=0.001), classifier__C=1.0, classifier__class_weight=balanced, classifier__penalty=l1, scaler=passthrough;, score=nan total time=   0.0s\n",
      "[CV 4/5] END classifier=LogisticRegression(max_iter=1000.0, random_state=42, tol=0.001), classifier__C=1.0, classifier__class_weight=balanced, classifier__penalty=l1, scaler=passthrough;, score=nan total time=   0.0s\n",
      "[CV 5/5] END classifier=LogisticRegression(max_iter=1000.0, random_state=42, tol=0.001), classifier__C=1.0, classifier__class_weight=balanced, classifier__penalty=l1, scaler=passthrough;, score=nan total time=   0.0s\n",
      "[CV 1/5] END classifier=LogisticRegression(max_iter=1000.0, random_state=42, tol=0.001), classifier__C=1.0, classifier__class_weight=balanced, classifier__penalty=l1, scaler=StandardScaler();, score=nan total time=   0.0s\n",
      "[CV 2/5] END classifier=LogisticRegression(max_iter=1000.0, random_state=42, tol=0.001), classifier__C=1.0, classifier__class_weight=balanced, classifier__penalty=l1, scaler=StandardScaler();, score=nan total time=   0.0s\n",
      "[CV 3/5] END classifier=LogisticRegression(max_iter=1000.0, random_state=42, tol=0.001), classifier__C=1.0, classifier__class_weight=balanced, classifier__penalty=l1, scaler=StandardScaler();, score=nan total time=   0.0s\n",
      "[CV 4/5] END classifier=LogisticRegression(max_iter=1000.0, random_state=42, tol=0.001), classifier__C=1.0, classifier__class_weight=balanced, classifier__penalty=l1, scaler=StandardScaler();, score=nan total time=   0.0s\n",
      "[CV 5/5] END classifier=LogisticRegression(max_iter=1000.0, random_state=42, tol=0.001), classifier__C=1.0, classifier__class_weight=balanced, classifier__penalty=l1, scaler=StandardScaler();, score=nan total time=   0.0s\n"
     ]
    },
    {
     "name": "stderr",
     "output_type": "stream",
     "text": [
      "/home/felipe/anaconda3/envs/segmentator/lib/python3.7/site-packages/sklearn/linear_model/_logistic.py:818: ConvergenceWarning: lbfgs failed to converge (status=1):\n",
      "STOP: TOTAL NO. of ITERATIONS REACHED LIMIT.\n",
      "\n",
      "Increase the number of iterations (max_iter) or scale the data as shown in:\n",
      "    https://scikit-learn.org/stable/modules/preprocessing.html\n",
      "Please also refer to the documentation for alternative solver options:\n",
      "    https://scikit-learn.org/stable/modules/linear_model.html#logistic-regression\n",
      "  extra_warning_msg=_LOGISTIC_SOLVER_CONVERGENCE_MSG,\n"
     ]
    },
    {
     "name": "stdout",
     "output_type": "stream",
     "text": [
      "[CV 1/5] END classifier=LogisticRegression(max_iter=1000.0, random_state=42, tol=0.001), classifier__C=1.0, classifier__class_weight=balanced, classifier__penalty=l2, scaler=passthrough;, score=0.659 total time=   0.3s\n"
     ]
    },
    {
     "name": "stderr",
     "output_type": "stream",
     "text": [
      "/home/felipe/anaconda3/envs/segmentator/lib/python3.7/site-packages/sklearn/linear_model/_logistic.py:818: ConvergenceWarning: lbfgs failed to converge (status=1):\n",
      "STOP: TOTAL NO. of ITERATIONS REACHED LIMIT.\n",
      "\n",
      "Increase the number of iterations (max_iter) or scale the data as shown in:\n",
      "    https://scikit-learn.org/stable/modules/preprocessing.html\n",
      "Please also refer to the documentation for alternative solver options:\n",
      "    https://scikit-learn.org/stable/modules/linear_model.html#logistic-regression\n",
      "  extra_warning_msg=_LOGISTIC_SOLVER_CONVERGENCE_MSG,\n",
      "/home/felipe/anaconda3/envs/segmentator/lib/python3.7/site-packages/sklearn/linear_model/_logistic.py:818: ConvergenceWarning: lbfgs failed to converge (status=1):\n",
      "STOP: TOTAL NO. of ITERATIONS REACHED LIMIT.\n",
      "\n",
      "Increase the number of iterations (max_iter) or scale the data as shown in:\n",
      "    https://scikit-learn.org/stable/modules/preprocessing.html\n",
      "Please also refer to the documentation for alternative solver options:\n",
      "    https://scikit-learn.org/stable/modules/linear_model.html#logistic-regression\n",
      "  extra_warning_msg=_LOGISTIC_SOLVER_CONVERGENCE_MSG,\n"
     ]
    },
    {
     "name": "stdout",
     "output_type": "stream",
     "text": [
      "[CV 2/5] END classifier=LogisticRegression(max_iter=1000.0, random_state=42, tol=0.001), classifier__C=1.0, classifier__class_weight=balanced, classifier__penalty=l2, scaler=passthrough;, score=0.640 total time=   0.2s\n",
      "[CV 3/5] END classifier=LogisticRegression(max_iter=1000.0, random_state=42, tol=0.001), classifier__C=1.0, classifier__class_weight=balanced, classifier__penalty=l2, scaler=passthrough;, score=0.654 total time=   0.2s\n"
     ]
    },
    {
     "name": "stderr",
     "output_type": "stream",
     "text": [
      "/home/felipe/anaconda3/envs/segmentator/lib/python3.7/site-packages/sklearn/linear_model/_logistic.py:818: ConvergenceWarning: lbfgs failed to converge (status=1):\n",
      "STOP: TOTAL NO. of ITERATIONS REACHED LIMIT.\n",
      "\n",
      "Increase the number of iterations (max_iter) or scale the data as shown in:\n",
      "    https://scikit-learn.org/stable/modules/preprocessing.html\n",
      "Please also refer to the documentation for alternative solver options:\n",
      "    https://scikit-learn.org/stable/modules/linear_model.html#logistic-regression\n",
      "  extra_warning_msg=_LOGISTIC_SOLVER_CONVERGENCE_MSG,\n",
      "/home/felipe/anaconda3/envs/segmentator/lib/python3.7/site-packages/sklearn/linear_model/_logistic.py:818: ConvergenceWarning: lbfgs failed to converge (status=1):\n",
      "STOP: TOTAL NO. of ITERATIONS REACHED LIMIT.\n",
      "\n",
      "Increase the number of iterations (max_iter) or scale the data as shown in:\n",
      "    https://scikit-learn.org/stable/modules/preprocessing.html\n",
      "Please also refer to the documentation for alternative solver options:\n",
      "    https://scikit-learn.org/stable/modules/linear_model.html#logistic-regression\n",
      "  extra_warning_msg=_LOGISTIC_SOLVER_CONVERGENCE_MSG,\n"
     ]
    },
    {
     "name": "stdout",
     "output_type": "stream",
     "text": [
      "[CV 4/5] END classifier=LogisticRegression(max_iter=1000.0, random_state=42, tol=0.001), classifier__C=1.0, classifier__class_weight=balanced, classifier__penalty=l2, scaler=passthrough;, score=0.635 total time=   0.2s\n",
      "[CV 5/5] END classifier=LogisticRegression(max_iter=1000.0, random_state=42, tol=0.001), classifier__C=1.0, classifier__class_weight=balanced, classifier__penalty=l2, scaler=passthrough;, score=0.624 total time=   0.2s\n",
      "[CV 1/5] END classifier=LogisticRegression(max_iter=1000.0, random_state=42, tol=0.001), classifier__C=1.0, classifier__class_weight=balanced, classifier__penalty=l2, scaler=StandardScaler();, score=0.657 total time=   0.0s\n",
      "[CV 2/5] END classifier=LogisticRegression(max_iter=1000.0, random_state=42, tol=0.001), classifier__C=1.0, classifier__class_weight=balanced, classifier__penalty=l2, scaler=StandardScaler();, score=0.658 total time=   0.0s\n",
      "[CV 3/5] END classifier=LogisticRegression(max_iter=1000.0, random_state=42, tol=0.001), classifier__C=1.0, classifier__class_weight=balanced, classifier__penalty=l2, scaler=StandardScaler();, score=0.655 total time=   0.0s\n",
      "[CV 4/5] END classifier=LogisticRegression(max_iter=1000.0, random_state=42, tol=0.001), classifier__C=1.0, classifier__class_weight=balanced, classifier__penalty=l2, scaler=StandardScaler();, score=0.628 total time=   0.0s\n",
      "[CV 5/5] END classifier=LogisticRegression(max_iter=1000.0, random_state=42, tol=0.001), classifier__C=1.0, classifier__class_weight=balanced, classifier__penalty=l2, scaler=StandardScaler();, score=0.631 total time=   0.1s\n",
      "[CV 1/5] END classifier=LogisticRegression(max_iter=1000.0, random_state=42, tol=0.001), classifier__C=10.0, classifier__class_weight=None, classifier__penalty=l1, scaler=passthrough;, score=nan total time=   0.0s\n",
      "[CV 2/5] END classifier=LogisticRegression(max_iter=1000.0, random_state=42, tol=0.001), classifier__C=10.0, classifier__class_weight=None, classifier__penalty=l1, scaler=passthrough;, score=nan total time=   0.0s\n",
      "[CV 3/5] END classifier=LogisticRegression(max_iter=1000.0, random_state=42, tol=0.001), classifier__C=10.0, classifier__class_weight=None, classifier__penalty=l1, scaler=passthrough;, score=nan total time=   0.0s\n",
      "[CV 4/5] END classifier=LogisticRegression(max_iter=1000.0, random_state=42, tol=0.001), classifier__C=10.0, classifier__class_weight=None, classifier__penalty=l1, scaler=passthrough;, score=nan total time=   0.0s\n",
      "[CV 5/5] END classifier=LogisticRegression(max_iter=1000.0, random_state=42, tol=0.001), classifier__C=10.0, classifier__class_weight=None, classifier__penalty=l1, scaler=passthrough;, score=nan total time=   0.0s\n",
      "[CV 1/5] END classifier=LogisticRegression(max_iter=1000.0, random_state=42, tol=0.001), classifier__C=10.0, classifier__class_weight=None, classifier__penalty=l1, scaler=StandardScaler();, score=nan total time=   0.0s\n",
      "[CV 2/5] END classifier=LogisticRegression(max_iter=1000.0, random_state=42, tol=0.001), classifier__C=10.0, classifier__class_weight=None, classifier__penalty=l1, scaler=StandardScaler();, score=nan total time=   0.0s\n",
      "[CV 3/5] END classifier=LogisticRegression(max_iter=1000.0, random_state=42, tol=0.001), classifier__C=10.0, classifier__class_weight=None, classifier__penalty=l1, scaler=StandardScaler();, score=nan total time=   0.0s\n",
      "[CV 4/5] END classifier=LogisticRegression(max_iter=1000.0, random_state=42, tol=0.001), classifier__C=10.0, classifier__class_weight=None, classifier__penalty=l1, scaler=StandardScaler();, score=nan total time=   0.0s\n",
      "[CV 5/5] END classifier=LogisticRegression(max_iter=1000.0, random_state=42, tol=0.001), classifier__C=10.0, classifier__class_weight=None, classifier__penalty=l1, scaler=StandardScaler();, score=nan total time=   0.0s\n",
      "[CV 1/5] END classifier=LogisticRegression(max_iter=1000.0, random_state=42, tol=0.001), classifier__C=10.0, classifier__class_weight=None, classifier__penalty=l2, scaler=passthrough;, score=0.501 total time=   0.2s\n"
     ]
    },
    {
     "name": "stderr",
     "output_type": "stream",
     "text": [
      "/home/felipe/anaconda3/envs/segmentator/lib/python3.7/site-packages/sklearn/linear_model/_logistic.py:818: ConvergenceWarning: lbfgs failed to converge (status=1):\n",
      "STOP: TOTAL NO. of ITERATIONS REACHED LIMIT.\n",
      "\n",
      "Increase the number of iterations (max_iter) or scale the data as shown in:\n",
      "    https://scikit-learn.org/stable/modules/preprocessing.html\n",
      "Please also refer to the documentation for alternative solver options:\n",
      "    https://scikit-learn.org/stable/modules/linear_model.html#logistic-regression\n",
      "  extra_warning_msg=_LOGISTIC_SOLVER_CONVERGENCE_MSG,\n",
      "/home/felipe/anaconda3/envs/segmentator/lib/python3.7/site-packages/sklearn/linear_model/_logistic.py:818: ConvergenceWarning: lbfgs failed to converge (status=1):\n",
      "STOP: TOTAL NO. of ITERATIONS REACHED LIMIT.\n",
      "\n",
      "Increase the number of iterations (max_iter) or scale the data as shown in:\n",
      "    https://scikit-learn.org/stable/modules/preprocessing.html\n",
      "Please also refer to the documentation for alternative solver options:\n",
      "    https://scikit-learn.org/stable/modules/linear_model.html#logistic-regression\n",
      "  extra_warning_msg=_LOGISTIC_SOLVER_CONVERGENCE_MSG,\n"
     ]
    },
    {
     "name": "stdout",
     "output_type": "stream",
     "text": [
      "[CV 2/5] END classifier=LogisticRegression(max_iter=1000.0, random_state=42, tol=0.001), classifier__C=10.0, classifier__class_weight=None, classifier__penalty=l2, scaler=passthrough;, score=0.531 total time=   0.2s\n",
      "[CV 3/5] END classifier=LogisticRegression(max_iter=1000.0, random_state=42, tol=0.001), classifier__C=10.0, classifier__class_weight=None, classifier__penalty=l2, scaler=passthrough;, score=0.512 total time=   0.2s\n"
     ]
    },
    {
     "name": "stderr",
     "output_type": "stream",
     "text": [
      "/home/felipe/anaconda3/envs/segmentator/lib/python3.7/site-packages/sklearn/linear_model/_logistic.py:818: ConvergenceWarning: lbfgs failed to converge (status=1):\n",
      "STOP: TOTAL NO. of ITERATIONS REACHED LIMIT.\n",
      "\n",
      "Increase the number of iterations (max_iter) or scale the data as shown in:\n",
      "    https://scikit-learn.org/stable/modules/preprocessing.html\n",
      "Please also refer to the documentation for alternative solver options:\n",
      "    https://scikit-learn.org/stable/modules/linear_model.html#logistic-regression\n",
      "  extra_warning_msg=_LOGISTIC_SOLVER_CONVERGENCE_MSG,\n",
      "/home/felipe/anaconda3/envs/segmentator/lib/python3.7/site-packages/sklearn/linear_model/_logistic.py:818: ConvergenceWarning: lbfgs failed to converge (status=1):\n",
      "STOP: TOTAL NO. of ITERATIONS REACHED LIMIT.\n",
      "\n",
      "Increase the number of iterations (max_iter) or scale the data as shown in:\n",
      "    https://scikit-learn.org/stable/modules/preprocessing.html\n",
      "Please also refer to the documentation for alternative solver options:\n",
      "    https://scikit-learn.org/stable/modules/linear_model.html#logistic-regression\n",
      "  extra_warning_msg=_LOGISTIC_SOLVER_CONVERGENCE_MSG,\n"
     ]
    },
    {
     "name": "stdout",
     "output_type": "stream",
     "text": [
      "[CV 4/5] END classifier=LogisticRegression(max_iter=1000.0, random_state=42, tol=0.001), classifier__C=10.0, classifier__class_weight=None, classifier__penalty=l2, scaler=passthrough;, score=0.510 total time=   0.2s\n",
      "[CV 5/5] END classifier=LogisticRegression(max_iter=1000.0, random_state=42, tol=0.001), classifier__C=10.0, classifier__class_weight=None, classifier__penalty=l2, scaler=passthrough;, score=0.510 total time=   0.2s\n"
     ]
    },
    {
     "name": "stderr",
     "output_type": "stream",
     "text": [
      "/home/felipe/anaconda3/envs/segmentator/lib/python3.7/site-packages/sklearn/linear_model/_logistic.py:818: ConvergenceWarning: lbfgs failed to converge (status=1):\n",
      "STOP: TOTAL NO. of ITERATIONS REACHED LIMIT.\n",
      "\n",
      "Increase the number of iterations (max_iter) or scale the data as shown in:\n",
      "    https://scikit-learn.org/stable/modules/preprocessing.html\n",
      "Please also refer to the documentation for alternative solver options:\n",
      "    https://scikit-learn.org/stable/modules/linear_model.html#logistic-regression\n",
      "  extra_warning_msg=_LOGISTIC_SOLVER_CONVERGENCE_MSG,\n"
     ]
    },
    {
     "name": "stdout",
     "output_type": "stream",
     "text": [
      "[CV 1/5] END classifier=LogisticRegression(max_iter=1000.0, random_state=42, tol=0.001), classifier__C=10.0, classifier__class_weight=None, classifier__penalty=l2, scaler=StandardScaler();, score=0.503 total time=   0.1s\n",
      "[CV 2/5] END classifier=LogisticRegression(max_iter=1000.0, random_state=42, tol=0.001), classifier__C=10.0, classifier__class_weight=None, classifier__penalty=l2, scaler=StandardScaler();, score=0.531 total time=   0.0s\n",
      "[CV 3/5] END classifier=LogisticRegression(max_iter=1000.0, random_state=42, tol=0.001), classifier__C=10.0, classifier__class_weight=None, classifier__penalty=l2, scaler=StandardScaler();, score=0.518 total time=   0.0s\n",
      "[CV 4/5] END classifier=LogisticRegression(max_iter=1000.0, random_state=42, tol=0.001), classifier__C=10.0, classifier__class_weight=None, classifier__penalty=l2, scaler=StandardScaler();, score=0.510 total time=   0.0s\n",
      "[CV 5/5] END classifier=LogisticRegression(max_iter=1000.0, random_state=42, tol=0.001), classifier__C=10.0, classifier__class_weight=None, classifier__penalty=l2, scaler=StandardScaler();, score=0.523 total time=   0.0s\n",
      "[CV 1/5] END classifier=LogisticRegression(max_iter=1000.0, random_state=42, tol=0.001), classifier__C=10.0, classifier__class_weight=balanced, classifier__penalty=l1, scaler=passthrough;, score=nan total time=   0.0s\n",
      "[CV 2/5] END classifier=LogisticRegression(max_iter=1000.0, random_state=42, tol=0.001), classifier__C=10.0, classifier__class_weight=balanced, classifier__penalty=l1, scaler=passthrough;, score=nan total time=   0.0s\n",
      "[CV 3/5] END classifier=LogisticRegression(max_iter=1000.0, random_state=42, tol=0.001), classifier__C=10.0, classifier__class_weight=balanced, classifier__penalty=l1, scaler=passthrough;, score=nan total time=   0.0s\n",
      "[CV 4/5] END classifier=LogisticRegression(max_iter=1000.0, random_state=42, tol=0.001), classifier__C=10.0, classifier__class_weight=balanced, classifier__penalty=l1, scaler=passthrough;, score=nan total time=   0.0s\n",
      "[CV 5/5] END classifier=LogisticRegression(max_iter=1000.0, random_state=42, tol=0.001), classifier__C=10.0, classifier__class_weight=balanced, classifier__penalty=l1, scaler=passthrough;, score=nan total time=   0.0s\n",
      "[CV 1/5] END classifier=LogisticRegression(max_iter=1000.0, random_state=42, tol=0.001), classifier__C=10.0, classifier__class_weight=balanced, classifier__penalty=l1, scaler=StandardScaler();, score=nan total time=   0.0s\n",
      "[CV 2/5] END classifier=LogisticRegression(max_iter=1000.0, random_state=42, tol=0.001), classifier__C=10.0, classifier__class_weight=balanced, classifier__penalty=l1, scaler=StandardScaler();, score=nan total time=   0.0s\n",
      "[CV 3/5] END classifier=LogisticRegression(max_iter=1000.0, random_state=42, tol=0.001), classifier__C=10.0, classifier__class_weight=balanced, classifier__penalty=l1, scaler=StandardScaler();, score=nan total time=   0.0s\n",
      "[CV 4/5] END classifier=LogisticRegression(max_iter=1000.0, random_state=42, tol=0.001), classifier__C=10.0, classifier__class_weight=balanced, classifier__penalty=l1, scaler=StandardScaler();, score=nan total time=   0.0s\n",
      "[CV 5/5] END classifier=LogisticRegression(max_iter=1000.0, random_state=42, tol=0.001), classifier__C=10.0, classifier__class_weight=balanced, classifier__penalty=l1, scaler=StandardScaler();, score=nan total time=   0.0s\n"
     ]
    },
    {
     "name": "stderr",
     "output_type": "stream",
     "text": [
      "/home/felipe/anaconda3/envs/segmentator/lib/python3.7/site-packages/sklearn/linear_model/_logistic.py:818: ConvergenceWarning: lbfgs failed to converge (status=1):\n",
      "STOP: TOTAL NO. of ITERATIONS REACHED LIMIT.\n",
      "\n",
      "Increase the number of iterations (max_iter) or scale the data as shown in:\n",
      "    https://scikit-learn.org/stable/modules/preprocessing.html\n",
      "Please also refer to the documentation for alternative solver options:\n",
      "    https://scikit-learn.org/stable/modules/linear_model.html#logistic-regression\n",
      "  extra_warning_msg=_LOGISTIC_SOLVER_CONVERGENCE_MSG,\n",
      "/home/felipe/anaconda3/envs/segmentator/lib/python3.7/site-packages/sklearn/linear_model/_logistic.py:818: ConvergenceWarning: lbfgs failed to converge (status=1):\n",
      "STOP: TOTAL NO. of ITERATIONS REACHED LIMIT.\n",
      "\n",
      "Increase the number of iterations (max_iter) or scale the data as shown in:\n",
      "    https://scikit-learn.org/stable/modules/preprocessing.html\n",
      "Please also refer to the documentation for alternative solver options:\n",
      "    https://scikit-learn.org/stable/modules/linear_model.html#logistic-regression\n",
      "  extra_warning_msg=_LOGISTIC_SOLVER_CONVERGENCE_MSG,\n"
     ]
    },
    {
     "name": "stdout",
     "output_type": "stream",
     "text": [
      "[CV 1/5] END classifier=LogisticRegression(max_iter=1000.0, random_state=42, tol=0.001), classifier__C=10.0, classifier__class_weight=balanced, classifier__penalty=l2, scaler=passthrough;, score=0.658 total time=   0.2s\n",
      "[CV 2/5] END classifier=LogisticRegression(max_iter=1000.0, random_state=42, tol=0.001), classifier__C=10.0, classifier__class_weight=balanced, classifier__penalty=l2, scaler=passthrough;, score=0.652 total time=   0.2s\n"
     ]
    },
    {
     "name": "stderr",
     "output_type": "stream",
     "text": [
      "/home/felipe/anaconda3/envs/segmentator/lib/python3.7/site-packages/sklearn/linear_model/_logistic.py:818: ConvergenceWarning: lbfgs failed to converge (status=1):\n",
      "STOP: TOTAL NO. of ITERATIONS REACHED LIMIT.\n",
      "\n",
      "Increase the number of iterations (max_iter) or scale the data as shown in:\n",
      "    https://scikit-learn.org/stable/modules/preprocessing.html\n",
      "Please also refer to the documentation for alternative solver options:\n",
      "    https://scikit-learn.org/stable/modules/linear_model.html#logistic-regression\n",
      "  extra_warning_msg=_LOGISTIC_SOLVER_CONVERGENCE_MSG,\n",
      "/home/felipe/anaconda3/envs/segmentator/lib/python3.7/site-packages/sklearn/linear_model/_logistic.py:818: ConvergenceWarning: lbfgs failed to converge (status=1):\n",
      "STOP: TOTAL NO. of ITERATIONS REACHED LIMIT.\n",
      "\n",
      "Increase the number of iterations (max_iter) or scale the data as shown in:\n",
      "    https://scikit-learn.org/stable/modules/preprocessing.html\n",
      "Please also refer to the documentation for alternative solver options:\n",
      "    https://scikit-learn.org/stable/modules/linear_model.html#logistic-regression\n",
      "  extra_warning_msg=_LOGISTIC_SOLVER_CONVERGENCE_MSG,\n"
     ]
    },
    {
     "name": "stdout",
     "output_type": "stream",
     "text": [
      "[CV 3/5] END classifier=LogisticRegression(max_iter=1000.0, random_state=42, tol=0.001), classifier__C=10.0, classifier__class_weight=balanced, classifier__penalty=l2, scaler=passthrough;, score=0.655 total time=   0.2s\n",
      "[CV 4/5] END classifier=LogisticRegression(max_iter=1000.0, random_state=42, tol=0.001), classifier__C=10.0, classifier__class_weight=balanced, classifier__penalty=l2, scaler=passthrough;, score=0.641 total time=   0.2s\n"
     ]
    },
    {
     "name": "stderr",
     "output_type": "stream",
     "text": [
      "/home/felipe/anaconda3/envs/segmentator/lib/python3.7/site-packages/sklearn/linear_model/_logistic.py:818: ConvergenceWarning: lbfgs failed to converge (status=1):\n",
      "STOP: TOTAL NO. of ITERATIONS REACHED LIMIT.\n",
      "\n",
      "Increase the number of iterations (max_iter) or scale the data as shown in:\n",
      "    https://scikit-learn.org/stable/modules/preprocessing.html\n",
      "Please also refer to the documentation for alternative solver options:\n",
      "    https://scikit-learn.org/stable/modules/linear_model.html#logistic-regression\n",
      "  extra_warning_msg=_LOGISTIC_SOLVER_CONVERGENCE_MSG,\n"
     ]
    },
    {
     "name": "stdout",
     "output_type": "stream",
     "text": [
      "[CV 5/5] END classifier=LogisticRegression(max_iter=1000.0, random_state=42, tol=0.001), classifier__C=10.0, classifier__class_weight=balanced, classifier__penalty=l2, scaler=passthrough;, score=0.628 total time=   0.2s\n",
      "[CV 1/5] END classifier=LogisticRegression(max_iter=1000.0, random_state=42, tol=0.001), classifier__C=10.0, classifier__class_weight=balanced, classifier__penalty=l2, scaler=StandardScaler();, score=0.651 total time=   0.1s\n",
      "[CV 2/5] END classifier=LogisticRegression(max_iter=1000.0, random_state=42, tol=0.001), classifier__C=10.0, classifier__class_weight=balanced, classifier__penalty=l2, scaler=StandardScaler();, score=0.649 total time=   0.1s\n",
      "[CV 3/5] END classifier=LogisticRegression(max_iter=1000.0, random_state=42, tol=0.001), classifier__C=10.0, classifier__class_weight=balanced, classifier__penalty=l2, scaler=StandardScaler();, score=0.655 total time=   0.1s\n",
      "[CV 4/5] END classifier=LogisticRegression(max_iter=1000.0, random_state=42, tol=0.001), classifier__C=10.0, classifier__class_weight=balanced, classifier__penalty=l2, scaler=StandardScaler();, score=0.629 total time=   0.1s\n",
      "[CV 5/5] END classifier=LogisticRegression(max_iter=1000.0, random_state=42, tol=0.001), classifier__C=10.0, classifier__class_weight=balanced, classifier__penalty=l2, scaler=StandardScaler();, score=0.637 total time=   0.1s\n",
      "[CV 1/5] END classifier=LogisticRegression(max_iter=1000.0, random_state=42, tol=0.001), classifier__C=100.0, classifier__class_weight=None, classifier__penalty=l1, scaler=passthrough;, score=nan total time=   0.0s\n",
      "[CV 2/5] END classifier=LogisticRegression(max_iter=1000.0, random_state=42, tol=0.001), classifier__C=100.0, classifier__class_weight=None, classifier__penalty=l1, scaler=passthrough;, score=nan total time=   0.0s\n",
      "[CV 3/5] END classifier=LogisticRegression(max_iter=1000.0, random_state=42, tol=0.001), classifier__C=100.0, classifier__class_weight=None, classifier__penalty=l1, scaler=passthrough;, score=nan total time=   0.0s\n",
      "[CV 4/5] END classifier=LogisticRegression(max_iter=1000.0, random_state=42, tol=0.001), classifier__C=100.0, classifier__class_weight=None, classifier__penalty=l1, scaler=passthrough;, score=nan total time=   0.0s\n",
      "[CV 5/5] END classifier=LogisticRegression(max_iter=1000.0, random_state=42, tol=0.001), classifier__C=100.0, classifier__class_weight=None, classifier__penalty=l1, scaler=passthrough;, score=nan total time=   0.0s\n",
      "[CV 1/5] END classifier=LogisticRegression(max_iter=1000.0, random_state=42, tol=0.001), classifier__C=100.0, classifier__class_weight=None, classifier__penalty=l1, scaler=StandardScaler();, score=nan total time=   0.0s\n",
      "[CV 2/5] END classifier=LogisticRegression(max_iter=1000.0, random_state=42, tol=0.001), classifier__C=100.0, classifier__class_weight=None, classifier__penalty=l1, scaler=StandardScaler();, score=nan total time=   0.0s\n",
      "[CV 3/5] END classifier=LogisticRegression(max_iter=1000.0, random_state=42, tol=0.001), classifier__C=100.0, classifier__class_weight=None, classifier__penalty=l1, scaler=StandardScaler();, score=nan total time=   0.0s\n",
      "[CV 4/5] END classifier=LogisticRegression(max_iter=1000.0, random_state=42, tol=0.001), classifier__C=100.0, classifier__class_weight=None, classifier__penalty=l1, scaler=StandardScaler();, score=nan total time=   0.0s\n",
      "[CV 5/5] END classifier=LogisticRegression(max_iter=1000.0, random_state=42, tol=0.001), classifier__C=100.0, classifier__class_weight=None, classifier__penalty=l1, scaler=StandardScaler();, score=nan total time=   0.0s\n"
     ]
    },
    {
     "name": "stderr",
     "output_type": "stream",
     "text": [
      "/home/felipe/anaconda3/envs/segmentator/lib/python3.7/site-packages/sklearn/linear_model/_logistic.py:818: ConvergenceWarning: lbfgs failed to converge (status=1):\n",
      "STOP: TOTAL NO. of ITERATIONS REACHED LIMIT.\n",
      "\n",
      "Increase the number of iterations (max_iter) or scale the data as shown in:\n",
      "    https://scikit-learn.org/stable/modules/preprocessing.html\n",
      "Please also refer to the documentation for alternative solver options:\n",
      "    https://scikit-learn.org/stable/modules/linear_model.html#logistic-regression\n",
      "  extra_warning_msg=_LOGISTIC_SOLVER_CONVERGENCE_MSG,\n",
      "/home/felipe/anaconda3/envs/segmentator/lib/python3.7/site-packages/sklearn/linear_model/_logistic.py:818: ConvergenceWarning: lbfgs failed to converge (status=1):\n",
      "STOP: TOTAL NO. of ITERATIONS REACHED LIMIT.\n",
      "\n",
      "Increase the number of iterations (max_iter) or scale the data as shown in:\n",
      "    https://scikit-learn.org/stable/modules/preprocessing.html\n",
      "Please also refer to the documentation for alternative solver options:\n",
      "    https://scikit-learn.org/stable/modules/linear_model.html#logistic-regression\n",
      "  extra_warning_msg=_LOGISTIC_SOLVER_CONVERGENCE_MSG,\n"
     ]
    },
    {
     "name": "stdout",
     "output_type": "stream",
     "text": [
      "[CV 1/5] END classifier=LogisticRegression(max_iter=1000.0, random_state=42, tol=0.001), classifier__C=100.0, classifier__class_weight=None, classifier__penalty=l2, scaler=passthrough;, score=0.500 total time=   0.2s\n",
      "[CV 2/5] END classifier=LogisticRegression(max_iter=1000.0, random_state=42, tol=0.001), classifier__C=100.0, classifier__class_weight=None, classifier__penalty=l2, scaler=passthrough;, score=0.529 total time=   0.2s\n"
     ]
    },
    {
     "name": "stderr",
     "output_type": "stream",
     "text": [
      "/home/felipe/anaconda3/envs/segmentator/lib/python3.7/site-packages/sklearn/linear_model/_logistic.py:818: ConvergenceWarning: lbfgs failed to converge (status=1):\n",
      "STOP: TOTAL NO. of ITERATIONS REACHED LIMIT.\n",
      "\n",
      "Increase the number of iterations (max_iter) or scale the data as shown in:\n",
      "    https://scikit-learn.org/stable/modules/preprocessing.html\n",
      "Please also refer to the documentation for alternative solver options:\n",
      "    https://scikit-learn.org/stable/modules/linear_model.html#logistic-regression\n",
      "  extra_warning_msg=_LOGISTIC_SOLVER_CONVERGENCE_MSG,\n",
      "/home/felipe/anaconda3/envs/segmentator/lib/python3.7/site-packages/sklearn/linear_model/_logistic.py:818: ConvergenceWarning: lbfgs failed to converge (status=1):\n",
      "STOP: TOTAL NO. of ITERATIONS REACHED LIMIT.\n",
      "\n",
      "Increase the number of iterations (max_iter) or scale the data as shown in:\n",
      "    https://scikit-learn.org/stable/modules/preprocessing.html\n",
      "Please also refer to the documentation for alternative solver options:\n",
      "    https://scikit-learn.org/stable/modules/linear_model.html#logistic-regression\n",
      "  extra_warning_msg=_LOGISTIC_SOLVER_CONVERGENCE_MSG,\n"
     ]
    },
    {
     "name": "stdout",
     "output_type": "stream",
     "text": [
      "[CV 3/5] END classifier=LogisticRegression(max_iter=1000.0, random_state=42, tol=0.001), classifier__C=100.0, classifier__class_weight=None, classifier__penalty=l2, scaler=passthrough;, score=0.510 total time=   0.2s\n",
      "[CV 4/5] END classifier=LogisticRegression(max_iter=1000.0, random_state=42, tol=0.001), classifier__C=100.0, classifier__class_weight=None, classifier__penalty=l2, scaler=passthrough;, score=0.509 total time=   0.2s\n"
     ]
    },
    {
     "name": "stderr",
     "output_type": "stream",
     "text": [
      "/home/felipe/anaconda3/envs/segmentator/lib/python3.7/site-packages/sklearn/linear_model/_logistic.py:818: ConvergenceWarning: lbfgs failed to converge (status=1):\n",
      "STOP: TOTAL NO. of ITERATIONS REACHED LIMIT.\n",
      "\n",
      "Increase the number of iterations (max_iter) or scale the data as shown in:\n",
      "    https://scikit-learn.org/stable/modules/preprocessing.html\n",
      "Please also refer to the documentation for alternative solver options:\n",
      "    https://scikit-learn.org/stable/modules/linear_model.html#logistic-regression\n",
      "  extra_warning_msg=_LOGISTIC_SOLVER_CONVERGENCE_MSG,\n"
     ]
    },
    {
     "name": "stdout",
     "output_type": "stream",
     "text": [
      "[CV 5/5] END classifier=LogisticRegression(max_iter=1000.0, random_state=42, tol=0.001), classifier__C=100.0, classifier__class_weight=None, classifier__penalty=l2, scaler=passthrough;, score=0.510 total time=   0.2s\n",
      "[CV 1/5] END classifier=LogisticRegression(max_iter=1000.0, random_state=42, tol=0.001), classifier__C=100.0, classifier__class_weight=None, classifier__penalty=l2, scaler=StandardScaler();, score=0.502 total time=   0.1s\n",
      "[CV 2/5] END classifier=LogisticRegression(max_iter=1000.0, random_state=42, tol=0.001), classifier__C=100.0, classifier__class_weight=None, classifier__penalty=l2, scaler=StandardScaler();, score=0.527 total time=   0.1s\n",
      "[CV 3/5] END classifier=LogisticRegression(max_iter=1000.0, random_state=42, tol=0.001), classifier__C=100.0, classifier__class_weight=None, classifier__penalty=l2, scaler=StandardScaler();, score=0.523 total time=   0.1s\n",
      "[CV 4/5] END classifier=LogisticRegression(max_iter=1000.0, random_state=42, tol=0.001), classifier__C=100.0, classifier__class_weight=None, classifier__penalty=l2, scaler=StandardScaler();, score=0.509 total time=   0.1s\n",
      "[CV 5/5] END classifier=LogisticRegression(max_iter=1000.0, random_state=42, tol=0.001), classifier__C=100.0, classifier__class_weight=None, classifier__penalty=l2, scaler=StandardScaler();, score=0.528 total time=   0.1s\n",
      "[CV 1/5] END classifier=LogisticRegression(max_iter=1000.0, random_state=42, tol=0.001), classifier__C=100.0, classifier__class_weight=balanced, classifier__penalty=l1, scaler=passthrough;, score=nan total time=   0.0s\n",
      "[CV 2/5] END classifier=LogisticRegression(max_iter=1000.0, random_state=42, tol=0.001), classifier__C=100.0, classifier__class_weight=balanced, classifier__penalty=l1, scaler=passthrough;, score=nan total time=   0.0s\n",
      "[CV 3/5] END classifier=LogisticRegression(max_iter=1000.0, random_state=42, tol=0.001), classifier__C=100.0, classifier__class_weight=balanced, classifier__penalty=l1, scaler=passthrough;, score=nan total time=   0.0s\n",
      "[CV 4/5] END classifier=LogisticRegression(max_iter=1000.0, random_state=42, tol=0.001), classifier__C=100.0, classifier__class_weight=balanced, classifier__penalty=l1, scaler=passthrough;, score=nan total time=   0.0s\n",
      "[CV 5/5] END classifier=LogisticRegression(max_iter=1000.0, random_state=42, tol=0.001), classifier__C=100.0, classifier__class_weight=balanced, classifier__penalty=l1, scaler=passthrough;, score=nan total time=   0.0s\n",
      "[CV 1/5] END classifier=LogisticRegression(max_iter=1000.0, random_state=42, tol=0.001), classifier__C=100.0, classifier__class_weight=balanced, classifier__penalty=l1, scaler=StandardScaler();, score=nan total time=   0.0s\n",
      "[CV 2/5] END classifier=LogisticRegression(max_iter=1000.0, random_state=42, tol=0.001), classifier__C=100.0, classifier__class_weight=balanced, classifier__penalty=l1, scaler=StandardScaler();, score=nan total time=   0.0s\n",
      "[CV 3/5] END classifier=LogisticRegression(max_iter=1000.0, random_state=42, tol=0.001), classifier__C=100.0, classifier__class_weight=balanced, classifier__penalty=l1, scaler=StandardScaler();, score=nan total time=   0.0s\n",
      "[CV 4/5] END classifier=LogisticRegression(max_iter=1000.0, random_state=42, tol=0.001), classifier__C=100.0, classifier__class_weight=balanced, classifier__penalty=l1, scaler=StandardScaler();, score=nan total time=   0.0s\n",
      "[CV 5/5] END classifier=LogisticRegression(max_iter=1000.0, random_state=42, tol=0.001), classifier__C=100.0, classifier__class_weight=balanced, classifier__penalty=l1, scaler=StandardScaler();, score=nan total time=   0.0s\n"
     ]
    },
    {
     "name": "stderr",
     "output_type": "stream",
     "text": [
      "/home/felipe/anaconda3/envs/segmentator/lib/python3.7/site-packages/sklearn/linear_model/_logistic.py:818: ConvergenceWarning: lbfgs failed to converge (status=1):\n",
      "STOP: TOTAL NO. of ITERATIONS REACHED LIMIT.\n",
      "\n",
      "Increase the number of iterations (max_iter) or scale the data as shown in:\n",
      "    https://scikit-learn.org/stable/modules/preprocessing.html\n",
      "Please also refer to the documentation for alternative solver options:\n",
      "    https://scikit-learn.org/stable/modules/linear_model.html#logistic-regression\n",
      "  extra_warning_msg=_LOGISTIC_SOLVER_CONVERGENCE_MSG,\n",
      "/home/felipe/anaconda3/envs/segmentator/lib/python3.7/site-packages/sklearn/linear_model/_logistic.py:818: ConvergenceWarning: lbfgs failed to converge (status=1):\n",
      "STOP: TOTAL NO. of ITERATIONS REACHED LIMIT.\n",
      "\n",
      "Increase the number of iterations (max_iter) or scale the data as shown in:\n",
      "    https://scikit-learn.org/stable/modules/preprocessing.html\n",
      "Please also refer to the documentation for alternative solver options:\n",
      "    https://scikit-learn.org/stable/modules/linear_model.html#logistic-regression\n",
      "  extra_warning_msg=_LOGISTIC_SOLVER_CONVERGENCE_MSG,\n"
     ]
    },
    {
     "name": "stdout",
     "output_type": "stream",
     "text": [
      "[CV 1/5] END classifier=LogisticRegression(max_iter=1000.0, random_state=42, tol=0.001), classifier__C=100.0, classifier__class_weight=balanced, classifier__penalty=l2, scaler=passthrough;, score=0.651 total time=   0.3s\n",
      "[CV 2/5] END classifier=LogisticRegression(max_iter=1000.0, random_state=42, tol=0.001), classifier__C=100.0, classifier__class_weight=balanced, classifier__penalty=l2, scaler=passthrough;, score=0.650 total time=   0.2s\n"
     ]
    },
    {
     "name": "stderr",
     "output_type": "stream",
     "text": [
      "/home/felipe/anaconda3/envs/segmentator/lib/python3.7/site-packages/sklearn/linear_model/_logistic.py:818: ConvergenceWarning: lbfgs failed to converge (status=1):\n",
      "STOP: TOTAL NO. of ITERATIONS REACHED LIMIT.\n",
      "\n",
      "Increase the number of iterations (max_iter) or scale the data as shown in:\n",
      "    https://scikit-learn.org/stable/modules/preprocessing.html\n",
      "Please also refer to the documentation for alternative solver options:\n",
      "    https://scikit-learn.org/stable/modules/linear_model.html#logistic-regression\n",
      "  extra_warning_msg=_LOGISTIC_SOLVER_CONVERGENCE_MSG,\n",
      "/home/felipe/anaconda3/envs/segmentator/lib/python3.7/site-packages/sklearn/linear_model/_logistic.py:818: ConvergenceWarning: lbfgs failed to converge (status=1):\n",
      "STOP: TOTAL NO. of ITERATIONS REACHED LIMIT.\n",
      "\n",
      "Increase the number of iterations (max_iter) or scale the data as shown in:\n",
      "    https://scikit-learn.org/stable/modules/preprocessing.html\n",
      "Please also refer to the documentation for alternative solver options:\n",
      "    https://scikit-learn.org/stable/modules/linear_model.html#logistic-regression\n",
      "  extra_warning_msg=_LOGISTIC_SOLVER_CONVERGENCE_MSG,\n"
     ]
    },
    {
     "name": "stdout",
     "output_type": "stream",
     "text": [
      "[CV 3/5] END classifier=LogisticRegression(max_iter=1000.0, random_state=42, tol=0.001), classifier__C=100.0, classifier__class_weight=balanced, classifier__penalty=l2, scaler=passthrough;, score=0.654 total time=   0.2s\n",
      "[CV 4/5] END classifier=LogisticRegression(max_iter=1000.0, random_state=42, tol=0.001), classifier__C=100.0, classifier__class_weight=balanced, classifier__penalty=l2, scaler=passthrough;, score=0.640 total time=   0.2s\n"
     ]
    },
    {
     "name": "stderr",
     "output_type": "stream",
     "text": [
      "/home/felipe/anaconda3/envs/segmentator/lib/python3.7/site-packages/sklearn/linear_model/_logistic.py:818: ConvergenceWarning: lbfgs failed to converge (status=1):\n",
      "STOP: TOTAL NO. of ITERATIONS REACHED LIMIT.\n",
      "\n",
      "Increase the number of iterations (max_iter) or scale the data as shown in:\n",
      "    https://scikit-learn.org/stable/modules/preprocessing.html\n",
      "Please also refer to the documentation for alternative solver options:\n",
      "    https://scikit-learn.org/stable/modules/linear_model.html#logistic-regression\n",
      "  extra_warning_msg=_LOGISTIC_SOLVER_CONVERGENCE_MSG,\n"
     ]
    },
    {
     "name": "stdout",
     "output_type": "stream",
     "text": [
      "[CV 5/5] END classifier=LogisticRegression(max_iter=1000.0, random_state=42, tol=0.001), classifier__C=100.0, classifier__class_weight=balanced, classifier__penalty=l2, scaler=passthrough;, score=0.624 total time=   0.2s\n",
      "[CV 1/5] END classifier=LogisticRegression(max_iter=1000.0, random_state=42, tol=0.001), classifier__C=100.0, classifier__class_weight=balanced, classifier__penalty=l2, scaler=StandardScaler();, score=0.650 total time=   0.1s\n",
      "[CV 2/5] END classifier=LogisticRegression(max_iter=1000.0, random_state=42, tol=0.001), classifier__C=100.0, classifier__class_weight=balanced, classifier__penalty=l2, scaler=StandardScaler();, score=0.649 total time=   0.1s\n",
      "[CV 3/5] END classifier=LogisticRegression(max_iter=1000.0, random_state=42, tol=0.001), classifier__C=100.0, classifier__class_weight=balanced, classifier__penalty=l2, scaler=StandardScaler();, score=0.651 total time=   0.1s\n",
      "[CV 4/5] END classifier=LogisticRegression(max_iter=1000.0, random_state=42, tol=0.001), classifier__C=100.0, classifier__class_weight=balanced, classifier__penalty=l2, scaler=StandardScaler();, score=0.629 total time=   0.1s\n",
      "[CV 5/5] END classifier=LogisticRegression(max_iter=1000.0, random_state=42, tol=0.001), classifier__C=100.0, classifier__class_weight=balanced, classifier__penalty=l2, scaler=StandardScaler();, score=0.638 total time=   0.1s\n",
      "[CV 1/5] END classifier=LogisticRegression(max_iter=1000.0, random_state=42, tol=0.001), classifier__C=1000.0, classifier__class_weight=None, classifier__penalty=l1, scaler=passthrough;, score=nan total time=   0.0s\n",
      "[CV 2/5] END classifier=LogisticRegression(max_iter=1000.0, random_state=42, tol=0.001), classifier__C=1000.0, classifier__class_weight=None, classifier__penalty=l1, scaler=passthrough;, score=nan total time=   0.0s\n",
      "[CV 3/5] END classifier=LogisticRegression(max_iter=1000.0, random_state=42, tol=0.001), classifier__C=1000.0, classifier__class_weight=None, classifier__penalty=l1, scaler=passthrough;, score=nan total time=   0.0s\n",
      "[CV 4/5] END classifier=LogisticRegression(max_iter=1000.0, random_state=42, tol=0.001), classifier__C=1000.0, classifier__class_weight=None, classifier__penalty=l1, scaler=passthrough;, score=nan total time=   0.0s\n",
      "[CV 5/5] END classifier=LogisticRegression(max_iter=1000.0, random_state=42, tol=0.001), classifier__C=1000.0, classifier__class_weight=None, classifier__penalty=l1, scaler=passthrough;, score=nan total time=   0.0s\n",
      "[CV 1/5] END classifier=LogisticRegression(max_iter=1000.0, random_state=42, tol=0.001), classifier__C=1000.0, classifier__class_weight=None, classifier__penalty=l1, scaler=StandardScaler();, score=nan total time=   0.0s\n",
      "[CV 2/5] END classifier=LogisticRegression(max_iter=1000.0, random_state=42, tol=0.001), classifier__C=1000.0, classifier__class_weight=None, classifier__penalty=l1, scaler=StandardScaler();, score=nan total time=   0.0s\n",
      "[CV 3/5] END classifier=LogisticRegression(max_iter=1000.0, random_state=42, tol=0.001), classifier__C=1000.0, classifier__class_weight=None, classifier__penalty=l1, scaler=StandardScaler();, score=nan total time=   0.0s\n",
      "[CV 4/5] END classifier=LogisticRegression(max_iter=1000.0, random_state=42, tol=0.001), classifier__C=1000.0, classifier__class_weight=None, classifier__penalty=l1, scaler=StandardScaler();, score=nan total time=   0.0s\n",
      "[CV 5/5] END classifier=LogisticRegression(max_iter=1000.0, random_state=42, tol=0.001), classifier__C=1000.0, classifier__class_weight=None, classifier__penalty=l1, scaler=StandardScaler();, score=nan total time=   0.0s\n"
     ]
    },
    {
     "name": "stderr",
     "output_type": "stream",
     "text": [
      "/home/felipe/anaconda3/envs/segmentator/lib/python3.7/site-packages/sklearn/linear_model/_logistic.py:818: ConvergenceWarning: lbfgs failed to converge (status=1):\n",
      "STOP: TOTAL NO. of ITERATIONS REACHED LIMIT.\n",
      "\n",
      "Increase the number of iterations (max_iter) or scale the data as shown in:\n",
      "    https://scikit-learn.org/stable/modules/preprocessing.html\n",
      "Please also refer to the documentation for alternative solver options:\n",
      "    https://scikit-learn.org/stable/modules/linear_model.html#logistic-regression\n",
      "  extra_warning_msg=_LOGISTIC_SOLVER_CONVERGENCE_MSG,\n",
      "/home/felipe/anaconda3/envs/segmentator/lib/python3.7/site-packages/sklearn/linear_model/_logistic.py:818: ConvergenceWarning: lbfgs failed to converge (status=1):\n",
      "STOP: TOTAL NO. of ITERATIONS REACHED LIMIT.\n",
      "\n",
      "Increase the number of iterations (max_iter) or scale the data as shown in:\n",
      "    https://scikit-learn.org/stable/modules/preprocessing.html\n",
      "Please also refer to the documentation for alternative solver options:\n",
      "    https://scikit-learn.org/stable/modules/linear_model.html#logistic-regression\n",
      "  extra_warning_msg=_LOGISTIC_SOLVER_CONVERGENCE_MSG,\n"
     ]
    },
    {
     "name": "stdout",
     "output_type": "stream",
     "text": [
      "[CV 1/5] END classifier=LogisticRegression(max_iter=1000.0, random_state=42, tol=0.001), classifier__C=1000.0, classifier__class_weight=None, classifier__penalty=l2, scaler=passthrough;, score=0.503 total time=   0.2s\n",
      "[CV 2/5] END classifier=LogisticRegression(max_iter=1000.0, random_state=42, tol=0.001), classifier__C=1000.0, classifier__class_weight=None, classifier__penalty=l2, scaler=passthrough;, score=0.531 total time=   0.2s\n"
     ]
    },
    {
     "name": "stderr",
     "output_type": "stream",
     "text": [
      "/home/felipe/anaconda3/envs/segmentator/lib/python3.7/site-packages/sklearn/linear_model/_logistic.py:818: ConvergenceWarning: lbfgs failed to converge (status=1):\n",
      "STOP: TOTAL NO. of ITERATIONS REACHED LIMIT.\n",
      "\n",
      "Increase the number of iterations (max_iter) or scale the data as shown in:\n",
      "    https://scikit-learn.org/stable/modules/preprocessing.html\n",
      "Please also refer to the documentation for alternative solver options:\n",
      "    https://scikit-learn.org/stable/modules/linear_model.html#logistic-regression\n",
      "  extra_warning_msg=_LOGISTIC_SOLVER_CONVERGENCE_MSG,\n",
      "/home/felipe/anaconda3/envs/segmentator/lib/python3.7/site-packages/sklearn/linear_model/_logistic.py:818: ConvergenceWarning: lbfgs failed to converge (status=1):\n",
      "STOP: TOTAL NO. of ITERATIONS REACHED LIMIT.\n",
      "\n",
      "Increase the number of iterations (max_iter) or scale the data as shown in:\n",
      "    https://scikit-learn.org/stable/modules/preprocessing.html\n",
      "Please also refer to the documentation for alternative solver options:\n",
      "    https://scikit-learn.org/stable/modules/linear_model.html#logistic-regression\n",
      "  extra_warning_msg=_LOGISTIC_SOLVER_CONVERGENCE_MSG,\n"
     ]
    },
    {
     "name": "stdout",
     "output_type": "stream",
     "text": [
      "[CV 3/5] END classifier=LogisticRegression(max_iter=1000.0, random_state=42, tol=0.001), classifier__C=1000.0, classifier__class_weight=None, classifier__penalty=l2, scaler=passthrough;, score=0.509 total time=   0.2s\n",
      "[CV 4/5] END classifier=LogisticRegression(max_iter=1000.0, random_state=42, tol=0.001), classifier__C=1000.0, classifier__class_weight=None, classifier__penalty=l2, scaler=passthrough;, score=0.511 total time=   0.2s\n"
     ]
    },
    {
     "name": "stderr",
     "output_type": "stream",
     "text": [
      "/home/felipe/anaconda3/envs/segmentator/lib/python3.7/site-packages/sklearn/linear_model/_logistic.py:818: ConvergenceWarning: lbfgs failed to converge (status=1):\n",
      "STOP: TOTAL NO. of ITERATIONS REACHED LIMIT.\n",
      "\n",
      "Increase the number of iterations (max_iter) or scale the data as shown in:\n",
      "    https://scikit-learn.org/stable/modules/preprocessing.html\n",
      "Please also refer to the documentation for alternative solver options:\n",
      "    https://scikit-learn.org/stable/modules/linear_model.html#logistic-regression\n",
      "  extra_warning_msg=_LOGISTIC_SOLVER_CONVERGENCE_MSG,\n",
      "/home/felipe/anaconda3/envs/segmentator/lib/python3.7/site-packages/sklearn/linear_model/_logistic.py:818: ConvergenceWarning: lbfgs failed to converge (status=1):\n",
      "STOP: TOTAL NO. of ITERATIONS REACHED LIMIT.\n",
      "\n",
      "Increase the number of iterations (max_iter) or scale the data as shown in:\n",
      "    https://scikit-learn.org/stable/modules/preprocessing.html\n",
      "Please also refer to the documentation for alternative solver options:\n",
      "    https://scikit-learn.org/stable/modules/linear_model.html#logistic-regression\n",
      "  extra_warning_msg=_LOGISTIC_SOLVER_CONVERGENCE_MSG,\n"
     ]
    },
    {
     "name": "stdout",
     "output_type": "stream",
     "text": [
      "[CV 5/5] END classifier=LogisticRegression(max_iter=1000.0, random_state=42, tol=0.001), classifier__C=1000.0, classifier__class_weight=None, classifier__penalty=l2, scaler=passthrough;, score=0.510 total time=   0.2s\n",
      "[CV 1/5] END classifier=LogisticRegression(max_iter=1000.0, random_state=42, tol=0.001), classifier__C=1000.0, classifier__class_weight=None, classifier__penalty=l2, scaler=StandardScaler();, score=0.506 total time=   0.2s\n",
      "[CV 2/5] END classifier=LogisticRegression(max_iter=1000.0, random_state=42, tol=0.001), classifier__C=1000.0, classifier__class_weight=None, classifier__penalty=l2, scaler=StandardScaler();, score=0.526 total time=   0.2s\n",
      "[CV 3/5] END classifier=LogisticRegression(max_iter=1000.0, random_state=42, tol=0.001), classifier__C=1000.0, classifier__class_weight=None, classifier__penalty=l2, scaler=StandardScaler();, score=0.527 total time=   0.2s\n"
     ]
    },
    {
     "name": "stderr",
     "output_type": "stream",
     "text": [
      "/home/felipe/anaconda3/envs/segmentator/lib/python3.7/site-packages/sklearn/linear_model/_logistic.py:818: ConvergenceWarning: lbfgs failed to converge (status=1):\n",
      "STOP: TOTAL NO. of ITERATIONS REACHED LIMIT.\n",
      "\n",
      "Increase the number of iterations (max_iter) or scale the data as shown in:\n",
      "    https://scikit-learn.org/stable/modules/preprocessing.html\n",
      "Please also refer to the documentation for alternative solver options:\n",
      "    https://scikit-learn.org/stable/modules/linear_model.html#logistic-regression\n",
      "  extra_warning_msg=_LOGISTIC_SOLVER_CONVERGENCE_MSG,\n"
     ]
    },
    {
     "name": "stdout",
     "output_type": "stream",
     "text": [
      "[CV 4/5] END classifier=LogisticRegression(max_iter=1000.0, random_state=42, tol=0.001), classifier__C=1000.0, classifier__class_weight=None, classifier__penalty=l2, scaler=StandardScaler();, score=0.510 total time=   0.2s\n"
     ]
    },
    {
     "name": "stderr",
     "output_type": "stream",
     "text": [
      "/home/felipe/anaconda3/envs/segmentator/lib/python3.7/site-packages/sklearn/linear_model/_logistic.py:818: ConvergenceWarning: lbfgs failed to converge (status=1):\n",
      "STOP: TOTAL NO. of ITERATIONS REACHED LIMIT.\n",
      "\n",
      "Increase the number of iterations (max_iter) or scale the data as shown in:\n",
      "    https://scikit-learn.org/stable/modules/preprocessing.html\n",
      "Please also refer to the documentation for alternative solver options:\n",
      "    https://scikit-learn.org/stable/modules/linear_model.html#logistic-regression\n",
      "  extra_warning_msg=_LOGISTIC_SOLVER_CONVERGENCE_MSG,\n"
     ]
    },
    {
     "name": "stdout",
     "output_type": "stream",
     "text": [
      "[CV 5/5] END classifier=LogisticRegression(max_iter=1000.0, random_state=42, tol=0.001), classifier__C=1000.0, classifier__class_weight=None, classifier__penalty=l2, scaler=StandardScaler();, score=0.527 total time=   0.3s\n",
      "[CV 1/5] END classifier=LogisticRegression(max_iter=1000.0, random_state=42, tol=0.001), classifier__C=1000.0, classifier__class_weight=balanced, classifier__penalty=l1, scaler=passthrough;, score=nan total time=   0.0s\n",
      "[CV 2/5] END classifier=LogisticRegression(max_iter=1000.0, random_state=42, tol=0.001), classifier__C=1000.0, classifier__class_weight=balanced, classifier__penalty=l1, scaler=passthrough;, score=nan total time=   0.0s\n",
      "[CV 3/5] END classifier=LogisticRegression(max_iter=1000.0, random_state=42, tol=0.001), classifier__C=1000.0, classifier__class_weight=balanced, classifier__penalty=l1, scaler=passthrough;, score=nan total time=   0.0s\n",
      "[CV 4/5] END classifier=LogisticRegression(max_iter=1000.0, random_state=42, tol=0.001), classifier__C=1000.0, classifier__class_weight=balanced, classifier__penalty=l1, scaler=passthrough;, score=nan total time=   0.0s\n",
      "[CV 5/5] END classifier=LogisticRegression(max_iter=1000.0, random_state=42, tol=0.001), classifier__C=1000.0, classifier__class_weight=balanced, classifier__penalty=l1, scaler=passthrough;, score=nan total time=   0.0s\n",
      "[CV 1/5] END classifier=LogisticRegression(max_iter=1000.0, random_state=42, tol=0.001), classifier__C=1000.0, classifier__class_weight=balanced, classifier__penalty=l1, scaler=StandardScaler();, score=nan total time=   0.0s\n",
      "[CV 2/5] END classifier=LogisticRegression(max_iter=1000.0, random_state=42, tol=0.001), classifier__C=1000.0, classifier__class_weight=balanced, classifier__penalty=l1, scaler=StandardScaler();, score=nan total time=   0.0s\n",
      "[CV 3/5] END classifier=LogisticRegression(max_iter=1000.0, random_state=42, tol=0.001), classifier__C=1000.0, classifier__class_weight=balanced, classifier__penalty=l1, scaler=StandardScaler();, score=nan total time=   0.0s\n",
      "[CV 4/5] END classifier=LogisticRegression(max_iter=1000.0, random_state=42, tol=0.001), classifier__C=1000.0, classifier__class_weight=balanced, classifier__penalty=l1, scaler=StandardScaler();, score=nan total time=   0.0s\n",
      "[CV 5/5] END classifier=LogisticRegression(max_iter=1000.0, random_state=42, tol=0.001), classifier__C=1000.0, classifier__class_weight=balanced, classifier__penalty=l1, scaler=StandardScaler();, score=nan total time=   0.0s\n"
     ]
    },
    {
     "name": "stderr",
     "output_type": "stream",
     "text": [
      "/home/felipe/anaconda3/envs/segmentator/lib/python3.7/site-packages/sklearn/linear_model/_logistic.py:818: ConvergenceWarning: lbfgs failed to converge (status=1):\n",
      "STOP: TOTAL NO. of ITERATIONS REACHED LIMIT.\n",
      "\n",
      "Increase the number of iterations (max_iter) or scale the data as shown in:\n",
      "    https://scikit-learn.org/stable/modules/preprocessing.html\n",
      "Please also refer to the documentation for alternative solver options:\n",
      "    https://scikit-learn.org/stable/modules/linear_model.html#logistic-regression\n",
      "  extra_warning_msg=_LOGISTIC_SOLVER_CONVERGENCE_MSG,\n"
     ]
    },
    {
     "name": "stdout",
     "output_type": "stream",
     "text": [
      "[CV 1/5] END classifier=LogisticRegression(max_iter=1000.0, random_state=42, tol=0.001), classifier__C=1000.0, classifier__class_weight=balanced, classifier__penalty=l2, scaler=passthrough;, score=0.657 total time=   0.3s\n"
     ]
    },
    {
     "name": "stderr",
     "output_type": "stream",
     "text": [
      "/home/felipe/anaconda3/envs/segmentator/lib/python3.7/site-packages/sklearn/linear_model/_logistic.py:818: ConvergenceWarning: lbfgs failed to converge (status=1):\n",
      "STOP: TOTAL NO. of ITERATIONS REACHED LIMIT.\n",
      "\n",
      "Increase the number of iterations (max_iter) or scale the data as shown in:\n",
      "    https://scikit-learn.org/stable/modules/preprocessing.html\n",
      "Please also refer to the documentation for alternative solver options:\n",
      "    https://scikit-learn.org/stable/modules/linear_model.html#logistic-regression\n",
      "  extra_warning_msg=_LOGISTIC_SOLVER_CONVERGENCE_MSG,\n",
      "/home/felipe/anaconda3/envs/segmentator/lib/python3.7/site-packages/sklearn/linear_model/_logistic.py:818: ConvergenceWarning: lbfgs failed to converge (status=1):\n",
      "STOP: TOTAL NO. of ITERATIONS REACHED LIMIT.\n",
      "\n",
      "Increase the number of iterations (max_iter) or scale the data as shown in:\n",
      "    https://scikit-learn.org/stable/modules/preprocessing.html\n",
      "Please also refer to the documentation for alternative solver options:\n",
      "    https://scikit-learn.org/stable/modules/linear_model.html#logistic-regression\n",
      "  extra_warning_msg=_LOGISTIC_SOLVER_CONVERGENCE_MSG,\n"
     ]
    },
    {
     "name": "stdout",
     "output_type": "stream",
     "text": [
      "[CV 2/5] END classifier=LogisticRegression(max_iter=1000.0, random_state=42, tol=0.001), classifier__C=1000.0, classifier__class_weight=balanced, classifier__penalty=l2, scaler=passthrough;, score=0.647 total time=   0.2s\n",
      "[CV 3/5] END classifier=LogisticRegression(max_iter=1000.0, random_state=42, tol=0.001), classifier__C=1000.0, classifier__class_weight=balanced, classifier__penalty=l2, scaler=passthrough;, score=0.656 total time=   0.2s\n"
     ]
    },
    {
     "name": "stderr",
     "output_type": "stream",
     "text": [
      "/home/felipe/anaconda3/envs/segmentator/lib/python3.7/site-packages/sklearn/linear_model/_logistic.py:818: ConvergenceWarning: lbfgs failed to converge (status=1):\n",
      "STOP: TOTAL NO. of ITERATIONS REACHED LIMIT.\n",
      "\n",
      "Increase the number of iterations (max_iter) or scale the data as shown in:\n",
      "    https://scikit-learn.org/stable/modules/preprocessing.html\n",
      "Please also refer to the documentation for alternative solver options:\n",
      "    https://scikit-learn.org/stable/modules/linear_model.html#logistic-regression\n",
      "  extra_warning_msg=_LOGISTIC_SOLVER_CONVERGENCE_MSG,\n"
     ]
    },
    {
     "name": "stdout",
     "output_type": "stream",
     "text": [
      "[CV 4/5] END classifier=LogisticRegression(max_iter=1000.0, random_state=42, tol=0.001), classifier__C=1000.0, classifier__class_weight=balanced, classifier__penalty=l2, scaler=passthrough;, score=0.641 total time=   0.2s\n"
     ]
    },
    {
     "name": "stderr",
     "output_type": "stream",
     "text": [
      "/home/felipe/anaconda3/envs/segmentator/lib/python3.7/site-packages/sklearn/linear_model/_logistic.py:818: ConvergenceWarning: lbfgs failed to converge (status=1):\n",
      "STOP: TOTAL NO. of ITERATIONS REACHED LIMIT.\n",
      "\n",
      "Increase the number of iterations (max_iter) or scale the data as shown in:\n",
      "    https://scikit-learn.org/stable/modules/preprocessing.html\n",
      "Please also refer to the documentation for alternative solver options:\n",
      "    https://scikit-learn.org/stable/modules/linear_model.html#logistic-regression\n",
      "  extra_warning_msg=_LOGISTIC_SOLVER_CONVERGENCE_MSG,\n"
     ]
    },
    {
     "name": "stdout",
     "output_type": "stream",
     "text": [
      "[CV 5/5] END classifier=LogisticRegression(max_iter=1000.0, random_state=42, tol=0.001), classifier__C=1000.0, classifier__class_weight=balanced, classifier__penalty=l2, scaler=passthrough;, score=0.618 total time=   0.3s\n",
      "[CV 1/5] END classifier=LogisticRegression(max_iter=1000.0, random_state=42, tol=0.001), classifier__C=1000.0, classifier__class_weight=balanced, classifier__penalty=l2, scaler=StandardScaler();, score=0.649 total time=   0.4s\n",
      "[CV 2/5] END classifier=LogisticRegression(max_iter=1000.0, random_state=42, tol=0.001), classifier__C=1000.0, classifier__class_weight=balanced, classifier__penalty=l2, scaler=StandardScaler();, score=0.644 total time=   0.2s\n"
     ]
    },
    {
     "name": "stderr",
     "output_type": "stream",
     "text": [
      "/home/felipe/anaconda3/envs/segmentator/lib/python3.7/site-packages/sklearn/linear_model/_logistic.py:818: ConvergenceWarning: lbfgs failed to converge (status=1):\n",
      "STOP: TOTAL NO. of ITERATIONS REACHED LIMIT.\n",
      "\n",
      "Increase the number of iterations (max_iter) or scale the data as shown in:\n",
      "    https://scikit-learn.org/stable/modules/preprocessing.html\n",
      "Please also refer to the documentation for alternative solver options:\n",
      "    https://scikit-learn.org/stable/modules/linear_model.html#logistic-regression\n",
      "  extra_warning_msg=_LOGISTIC_SOLVER_CONVERGENCE_MSG,\n",
      "/home/felipe/anaconda3/envs/segmentator/lib/python3.7/site-packages/sklearn/linear_model/_logistic.py:818: ConvergenceWarning: lbfgs failed to converge (status=1):\n",
      "STOP: TOTAL NO. of ITERATIONS REACHED LIMIT.\n",
      "\n",
      "Increase the number of iterations (max_iter) or scale the data as shown in:\n",
      "    https://scikit-learn.org/stable/modules/preprocessing.html\n",
      "Please also refer to the documentation for alternative solver options:\n",
      "    https://scikit-learn.org/stable/modules/linear_model.html#logistic-regression\n",
      "  extra_warning_msg=_LOGISTIC_SOLVER_CONVERGENCE_MSG,\n"
     ]
    },
    {
     "name": "stdout",
     "output_type": "stream",
     "text": [
      "[CV 3/5] END classifier=LogisticRegression(max_iter=1000.0, random_state=42, tol=0.001), classifier__C=1000.0, classifier__class_weight=balanced, classifier__penalty=l2, scaler=StandardScaler();, score=0.651 total time=   0.2s\n",
      "[CV 4/5] END classifier=LogisticRegression(max_iter=1000.0, random_state=42, tol=0.001), classifier__C=1000.0, classifier__class_weight=balanced, classifier__penalty=l2, scaler=StandardScaler();, score=0.628 total time=   0.2s\n"
     ]
    },
    {
     "name": "stderr",
     "output_type": "stream",
     "text": [
      "/home/felipe/anaconda3/envs/segmentator/lib/python3.7/site-packages/sklearn/linear_model/_logistic.py:818: ConvergenceWarning: lbfgs failed to converge (status=1):\n",
      "STOP: TOTAL NO. of ITERATIONS REACHED LIMIT.\n",
      "\n",
      "Increase the number of iterations (max_iter) or scale the data as shown in:\n",
      "    https://scikit-learn.org/stable/modules/preprocessing.html\n",
      "Please also refer to the documentation for alternative solver options:\n",
      "    https://scikit-learn.org/stable/modules/linear_model.html#logistic-regression\n",
      "  extra_warning_msg=_LOGISTIC_SOLVER_CONVERGENCE_MSG,\n"
     ]
    },
    {
     "name": "stdout",
     "output_type": "stream",
     "text": [
      "[CV 5/5] END classifier=LogisticRegression(max_iter=1000.0, random_state=42, tol=0.001), classifier__C=1000.0, classifier__class_weight=balanced, classifier__penalty=l2, scaler=StandardScaler();, score=0.639 total time=   0.2s\n",
      "[CV 1/5] END classifier=RidgeClassifier(max_iter=1000.0, random_state=42), classifier__alpha=0.001, classifier__class_weight=None, scaler=passthrough;, score=0.497 total time=   0.0s\n",
      "[CV 2/5] END classifier=RidgeClassifier(max_iter=1000.0, random_state=42), classifier__alpha=0.001, classifier__class_weight=None, scaler=passthrough;, score=0.507 total time=   0.0s\n",
      "[CV 3/5] END classifier=RidgeClassifier(max_iter=1000.0, random_state=42), classifier__alpha=0.001, classifier__class_weight=None, scaler=passthrough;, score=0.506 total time=   0.0s\n",
      "[CV 4/5] END classifier=RidgeClassifier(max_iter=1000.0, random_state=42), classifier__alpha=0.001, classifier__class_weight=None, scaler=passthrough;, score=0.499 total time=   0.0s\n",
      "[CV 5/5] END classifier=RidgeClassifier(max_iter=1000.0, random_state=42), classifier__alpha=0.001, classifier__class_weight=None, scaler=passthrough;, score=0.502 total time=   0.0s\n",
      "[CV 1/5] END classifier=RidgeClassifier(max_iter=1000.0, random_state=42), classifier__alpha=0.001, classifier__class_weight=None, scaler=StandardScaler();, score=0.491 total time=   0.0s\n",
      "[CV 2/5] END classifier=RidgeClassifier(max_iter=1000.0, random_state=42), classifier__alpha=0.001, classifier__class_weight=None, scaler=StandardScaler();, score=0.512 total time=   0.0s\n",
      "[CV 3/5] END classifier=RidgeClassifier(max_iter=1000.0, random_state=42), classifier__alpha=0.001, classifier__class_weight=None, scaler=StandardScaler();, score=0.505 total time=   0.0s\n",
      "[CV 4/5] END classifier=RidgeClassifier(max_iter=1000.0, random_state=42), classifier__alpha=0.001, classifier__class_weight=None, scaler=StandardScaler();, score=0.506 total time=   0.0s\n",
      "[CV 5/5] END classifier=RidgeClassifier(max_iter=1000.0, random_state=42), classifier__alpha=0.001, classifier__class_weight=None, scaler=StandardScaler();, score=0.507 total time=   0.0s\n",
      "[CV 1/5] END classifier=RidgeClassifier(max_iter=1000.0, random_state=42), classifier__alpha=0.001, classifier__class_weight=balanced, scaler=passthrough;, score=0.659 total time=   0.0s\n",
      "[CV 2/5] END classifier=RidgeClassifier(max_iter=1000.0, random_state=42), classifier__alpha=0.001, classifier__class_weight=balanced, scaler=passthrough;, score=0.659 total time=   0.0s\n",
      "[CV 3/5] END classifier=RidgeClassifier(max_iter=1000.0, random_state=42), classifier__alpha=0.001, classifier__class_weight=balanced, scaler=passthrough;, score=0.661 total time=   0.0s\n",
      "[CV 4/5] END classifier=RidgeClassifier(max_iter=1000.0, random_state=42), classifier__alpha=0.001, classifier__class_weight=balanced, scaler=passthrough;, score=0.641 total time=   0.0s\n",
      "[CV 5/5] END classifier=RidgeClassifier(max_iter=1000.0, random_state=42), classifier__alpha=0.001, classifier__class_weight=balanced, scaler=passthrough;, score=0.632 total time=   0.0s\n",
      "[CV 1/5] END classifier=RidgeClassifier(max_iter=1000.0, random_state=42), classifier__alpha=0.001, classifier__class_weight=balanced, scaler=StandardScaler();, score=0.655 total time=   0.0s\n",
      "[CV 2/5] END classifier=RidgeClassifier(max_iter=1000.0, random_state=42), classifier__alpha=0.001, classifier__class_weight=balanced, scaler=StandardScaler();, score=0.658 total time=   0.0s\n",
      "[CV 3/5] END classifier=RidgeClassifier(max_iter=1000.0, random_state=42), classifier__alpha=0.001, classifier__class_weight=balanced, scaler=StandardScaler();, score=0.656 total time=   0.0s\n",
      "[CV 4/5] END classifier=RidgeClassifier(max_iter=1000.0, random_state=42), classifier__alpha=0.001, classifier__class_weight=balanced, scaler=StandardScaler();, score=0.640 total time=   0.0s\n",
      "[CV 5/5] END classifier=RidgeClassifier(max_iter=1000.0, random_state=42), classifier__alpha=0.001, classifier__class_weight=balanced, scaler=StandardScaler();, score=0.641 total time=   0.0s\n",
      "[CV 1/5] END classifier=RidgeClassifier(max_iter=1000.0, random_state=42), classifier__alpha=0.01, classifier__class_weight=None, scaler=passthrough;, score=0.498 total time=   0.0s\n",
      "[CV 2/5] END classifier=RidgeClassifier(max_iter=1000.0, random_state=42), classifier__alpha=0.01, classifier__class_weight=None, scaler=passthrough;, score=0.512 total time=   0.0s\n",
      "[CV 3/5] END classifier=RidgeClassifier(max_iter=1000.0, random_state=42), classifier__alpha=0.01, classifier__class_weight=None, scaler=passthrough;, score=0.502 total time=   0.0s\n",
      "[CV 4/5] END classifier=RidgeClassifier(max_iter=1000.0, random_state=42), classifier__alpha=0.01, classifier__class_weight=None, scaler=passthrough;, score=0.499 total time=   0.0s\n",
      "[CV 5/5] END classifier=RidgeClassifier(max_iter=1000.0, random_state=42), classifier__alpha=0.01, classifier__class_weight=None, scaler=passthrough;, score=0.503 total time=   0.0s\n",
      "[CV 1/5] END classifier=RidgeClassifier(max_iter=1000.0, random_state=42), classifier__alpha=0.01, classifier__class_weight=None, scaler=StandardScaler();, score=0.491 total time=   0.0s\n",
      "[CV 2/5] END classifier=RidgeClassifier(max_iter=1000.0, random_state=42), classifier__alpha=0.01, classifier__class_weight=None, scaler=StandardScaler();, score=0.512 total time=   0.0s\n",
      "[CV 3/5] END classifier=RidgeClassifier(max_iter=1000.0, random_state=42), classifier__alpha=0.01, classifier__class_weight=None, scaler=StandardScaler();, score=0.506 total time=   0.0s\n",
      "[CV 4/5] END classifier=RidgeClassifier(max_iter=1000.0, random_state=42), classifier__alpha=0.01, classifier__class_weight=None, scaler=StandardScaler();, score=0.506 total time=   0.0s\n",
      "[CV 5/5] END classifier=RidgeClassifier(max_iter=1000.0, random_state=42), classifier__alpha=0.01, classifier__class_weight=None, scaler=StandardScaler();, score=0.507 total time=   0.0s\n",
      "[CV 1/5] END classifier=RidgeClassifier(max_iter=1000.0, random_state=42), classifier__alpha=0.01, classifier__class_weight=balanced, scaler=passthrough;, score=0.663 total time=   0.0s\n",
      "[CV 2/5] END classifier=RidgeClassifier(max_iter=1000.0, random_state=42), classifier__alpha=0.01, classifier__class_weight=balanced, scaler=passthrough;, score=0.653 total time=   0.0s\n",
      "[CV 3/5] END classifier=RidgeClassifier(max_iter=1000.0, random_state=42), classifier__alpha=0.01, classifier__class_weight=balanced, scaler=passthrough;, score=0.663 total time=   0.0s\n",
      "[CV 4/5] END classifier=RidgeClassifier(max_iter=1000.0, random_state=42), classifier__alpha=0.01, classifier__class_weight=balanced, scaler=passthrough;, score=0.641 total time=   0.0s\n",
      "[CV 5/5] END classifier=RidgeClassifier(max_iter=1000.0, random_state=42), classifier__alpha=0.01, classifier__class_weight=balanced, scaler=passthrough;, score=0.633 total time=   0.0s\n",
      "[CV 1/5] END classifier=RidgeClassifier(max_iter=1000.0, random_state=42), classifier__alpha=0.01, classifier__class_weight=balanced, scaler=StandardScaler();, score=0.655 total time=   0.0s\n",
      "[CV 2/5] END classifier=RidgeClassifier(max_iter=1000.0, random_state=42), classifier__alpha=0.01, classifier__class_weight=balanced, scaler=StandardScaler();, score=0.658 total time=   0.0s\n",
      "[CV 3/5] END classifier=RidgeClassifier(max_iter=1000.0, random_state=42), classifier__alpha=0.01, classifier__class_weight=balanced, scaler=StandardScaler();, score=0.656 total time=   0.0s\n",
      "[CV 4/5] END classifier=RidgeClassifier(max_iter=1000.0, random_state=42), classifier__alpha=0.01, classifier__class_weight=balanced, scaler=StandardScaler();, score=0.640 total time=   0.0s\n",
      "[CV 5/5] END classifier=RidgeClassifier(max_iter=1000.0, random_state=42), classifier__alpha=0.01, classifier__class_weight=balanced, scaler=StandardScaler();, score=0.641 total time=   0.0s\n",
      "[CV 1/5] END classifier=RidgeClassifier(max_iter=1000.0, random_state=42), classifier__alpha=0.1, classifier__class_weight=None, scaler=passthrough;, score=0.493 total time=   0.0s\n",
      "[CV 2/5] END classifier=RidgeClassifier(max_iter=1000.0, random_state=42), classifier__alpha=0.1, classifier__class_weight=None, scaler=passthrough;, score=0.514 total time=   0.0s\n",
      "[CV 3/5] END classifier=RidgeClassifier(max_iter=1000.0, random_state=42), classifier__alpha=0.1, classifier__class_weight=None, scaler=passthrough;, score=0.503 total time=   0.0s\n"
     ]
    },
    {
     "name": "stdout",
     "output_type": "stream",
     "text": [
      "[CV 4/5] END classifier=RidgeClassifier(max_iter=1000.0, random_state=42), classifier__alpha=0.1, classifier__class_weight=None, scaler=passthrough;, score=0.499 total time=   0.0s\n",
      "[CV 5/5] END classifier=RidgeClassifier(max_iter=1000.0, random_state=42), classifier__alpha=0.1, classifier__class_weight=None, scaler=passthrough;, score=0.503 total time=   0.0s\n",
      "[CV 1/5] END classifier=RidgeClassifier(max_iter=1000.0, random_state=42), classifier__alpha=0.1, classifier__class_weight=None, scaler=StandardScaler();, score=0.491 total time=   0.0s\n",
      "[CV 2/5] END classifier=RidgeClassifier(max_iter=1000.0, random_state=42), classifier__alpha=0.1, classifier__class_weight=None, scaler=StandardScaler();, score=0.512 total time=   0.0s\n",
      "[CV 3/5] END classifier=RidgeClassifier(max_iter=1000.0, random_state=42), classifier__alpha=0.1, classifier__class_weight=None, scaler=StandardScaler();, score=0.506 total time=   0.0s\n",
      "[CV 4/5] END classifier=RidgeClassifier(max_iter=1000.0, random_state=42), classifier__alpha=0.1, classifier__class_weight=None, scaler=StandardScaler();, score=0.506 total time=   0.0s\n",
      "[CV 5/5] END classifier=RidgeClassifier(max_iter=1000.0, random_state=42), classifier__alpha=0.1, classifier__class_weight=None, scaler=StandardScaler();, score=0.507 total time=   0.0s\n",
      "[CV 1/5] END classifier=RidgeClassifier(max_iter=1000.0, random_state=42), classifier__alpha=0.1, classifier__class_weight=balanced, scaler=passthrough;, score=0.657 total time=   0.0s\n",
      "[CV 2/5] END classifier=RidgeClassifier(max_iter=1000.0, random_state=42), classifier__alpha=0.1, classifier__class_weight=balanced, scaler=passthrough;, score=0.652 total time=   0.0s\n",
      "[CV 3/5] END classifier=RidgeClassifier(max_iter=1000.0, random_state=42), classifier__alpha=0.1, classifier__class_weight=balanced, scaler=passthrough;, score=0.657 total time=   0.0s\n",
      "[CV 4/5] END classifier=RidgeClassifier(max_iter=1000.0, random_state=42), classifier__alpha=0.1, classifier__class_weight=balanced, scaler=passthrough;, score=0.639 total time=   0.0s\n",
      "[CV 5/5] END classifier=RidgeClassifier(max_iter=1000.0, random_state=42), classifier__alpha=0.1, classifier__class_weight=balanced, scaler=passthrough;, score=0.630 total time=   0.0s\n",
      "[CV 1/5] END classifier=RidgeClassifier(max_iter=1000.0, random_state=42), classifier__alpha=0.1, classifier__class_weight=balanced, scaler=StandardScaler();, score=0.656 total time=   0.0s\n",
      "[CV 2/5] END classifier=RidgeClassifier(max_iter=1000.0, random_state=42), classifier__alpha=0.1, classifier__class_weight=balanced, scaler=StandardScaler();, score=0.658 total time=   0.0s\n",
      "[CV 3/5] END classifier=RidgeClassifier(max_iter=1000.0, random_state=42), classifier__alpha=0.1, classifier__class_weight=balanced, scaler=StandardScaler();, score=0.662 total time=   0.0s\n",
      "[CV 4/5] END classifier=RidgeClassifier(max_iter=1000.0, random_state=42), classifier__alpha=0.1, classifier__class_weight=balanced, scaler=StandardScaler();, score=0.640 total time=   0.0s\n",
      "[CV 5/5] END classifier=RidgeClassifier(max_iter=1000.0, random_state=42), classifier__alpha=0.1, classifier__class_weight=balanced, scaler=StandardScaler();, score=0.641 total time=   0.0s\n",
      "[CV 1/5] END classifier=RidgeClassifier(max_iter=1000.0, random_state=42), classifier__alpha=1.0, classifier__class_weight=None, scaler=passthrough;, score=0.488 total time=   0.0s\n",
      "[CV 2/5] END classifier=RidgeClassifier(max_iter=1000.0, random_state=42), classifier__alpha=1.0, classifier__class_weight=None, scaler=passthrough;, score=0.516 total time=   0.0s\n",
      "[CV 3/5] END classifier=RidgeClassifier(max_iter=1000.0, random_state=42), classifier__alpha=1.0, classifier__class_weight=None, scaler=passthrough;, score=0.503 total time=   0.0s\n",
      "[CV 4/5] END classifier=RidgeClassifier(max_iter=1000.0, random_state=42), classifier__alpha=1.0, classifier__class_weight=None, scaler=passthrough;, score=0.496 total time=   0.0s\n",
      "[CV 5/5] END classifier=RidgeClassifier(max_iter=1000.0, random_state=42), classifier__alpha=1.0, classifier__class_weight=None, scaler=passthrough;, score=0.497 total time=   0.0s\n",
      "[CV 1/5] END classifier=RidgeClassifier(max_iter=1000.0, random_state=42), classifier__alpha=1.0, classifier__class_weight=None, scaler=StandardScaler();, score=0.494 total time=   0.0s\n",
      "[CV 2/5] END classifier=RidgeClassifier(max_iter=1000.0, random_state=42), classifier__alpha=1.0, classifier__class_weight=None, scaler=StandardScaler();, score=0.512 total time=   0.0s\n",
      "[CV 3/5] END classifier=RidgeClassifier(max_iter=1000.0, random_state=42), classifier__alpha=1.0, classifier__class_weight=None, scaler=StandardScaler();, score=0.506 total time=   0.0s\n",
      "[CV 4/5] END classifier=RidgeClassifier(max_iter=1000.0, random_state=42), classifier__alpha=1.0, classifier__class_weight=None, scaler=StandardScaler();, score=0.506 total time=   0.0s\n",
      "[CV 5/5] END classifier=RidgeClassifier(max_iter=1000.0, random_state=42), classifier__alpha=1.0, classifier__class_weight=None, scaler=StandardScaler();, score=0.507 total time=   0.0s\n",
      "[CV 1/5] END classifier=RidgeClassifier(max_iter=1000.0, random_state=42), classifier__alpha=1.0, classifier__class_weight=balanced, scaler=passthrough;, score=0.653 total time=   0.0s\n",
      "[CV 2/5] END classifier=RidgeClassifier(max_iter=1000.0, random_state=42), classifier__alpha=1.0, classifier__class_weight=balanced, scaler=passthrough;, score=0.646 total time=   0.0s\n",
      "[CV 3/5] END classifier=RidgeClassifier(max_iter=1000.0, random_state=42), classifier__alpha=1.0, classifier__class_weight=balanced, scaler=passthrough;, score=0.647 total time=   0.0s\n",
      "[CV 4/5] END classifier=RidgeClassifier(max_iter=1000.0, random_state=42), classifier__alpha=1.0, classifier__class_weight=balanced, scaler=passthrough;, score=0.637 total time=   0.0s\n",
      "[CV 5/5] END classifier=RidgeClassifier(max_iter=1000.0, random_state=42), classifier__alpha=1.0, classifier__class_weight=balanced, scaler=passthrough;, score=0.632 total time=   0.0s\n",
      "[CV 1/5] END classifier=RidgeClassifier(max_iter=1000.0, random_state=42), classifier__alpha=1.0, classifier__class_weight=balanced, scaler=StandardScaler();, score=0.657 total time=   0.0s\n",
      "[CV 2/5] END classifier=RidgeClassifier(max_iter=1000.0, random_state=42), classifier__alpha=1.0, classifier__class_weight=balanced, scaler=StandardScaler();, score=0.657 total time=   0.0s\n",
      "[CV 3/5] END classifier=RidgeClassifier(max_iter=1000.0, random_state=42), classifier__alpha=1.0, classifier__class_weight=balanced, scaler=StandardScaler();, score=0.662 total time=   0.0s\n",
      "[CV 4/5] END classifier=RidgeClassifier(max_iter=1000.0, random_state=42), classifier__alpha=1.0, classifier__class_weight=balanced, scaler=StandardScaler();, score=0.641 total time=   0.0s\n",
      "[CV 5/5] END classifier=RidgeClassifier(max_iter=1000.0, random_state=42), classifier__alpha=1.0, classifier__class_weight=balanced, scaler=StandardScaler();, score=0.641 total time=   0.0s\n",
      "[CV 1/5] END classifier=RidgeClassifier(max_iter=1000.0, random_state=42), classifier__alpha=10.0, classifier__class_weight=None, scaler=passthrough;, score=0.490 total time=   0.0s\n",
      "[CV 2/5] END classifier=RidgeClassifier(max_iter=1000.0, random_state=42), classifier__alpha=10.0, classifier__class_weight=None, scaler=passthrough;, score=0.512 total time=   0.0s\n",
      "[CV 3/5] END classifier=RidgeClassifier(max_iter=1000.0, random_state=42), classifier__alpha=10.0, classifier__class_weight=None, scaler=passthrough;, score=0.500 total time=   0.0s\n",
      "[CV 4/5] END classifier=RidgeClassifier(max_iter=1000.0, random_state=42), classifier__alpha=10.0, classifier__class_weight=None, scaler=passthrough;, score=0.506 total time=   0.0s\n",
      "[CV 5/5] END classifier=RidgeClassifier(max_iter=1000.0, random_state=42), classifier__alpha=10.0, classifier__class_weight=None, scaler=passthrough;, score=0.497 total time=   0.0s\n",
      "[CV 1/5] END classifier=RidgeClassifier(max_iter=1000.0, random_state=42), classifier__alpha=10.0, classifier__class_weight=None, scaler=StandardScaler();, score=0.496 total time=   0.0s\n",
      "[CV 2/5] END classifier=RidgeClassifier(max_iter=1000.0, random_state=42), classifier__alpha=10.0, classifier__class_weight=None, scaler=StandardScaler();, score=0.507 total time=   0.0s\n",
      "[CV 3/5] END classifier=RidgeClassifier(max_iter=1000.0, random_state=42), classifier__alpha=10.0, classifier__class_weight=None, scaler=StandardScaler();, score=0.508 total time=   0.0s\n"
     ]
    },
    {
     "name": "stdout",
     "output_type": "stream",
     "text": [
      "[CV 4/5] END classifier=RidgeClassifier(max_iter=1000.0, random_state=42), classifier__alpha=10.0, classifier__class_weight=None, scaler=StandardScaler();, score=0.507 total time=   0.0s\n",
      "[CV 5/5] END classifier=RidgeClassifier(max_iter=1000.0, random_state=42), classifier__alpha=10.0, classifier__class_weight=None, scaler=StandardScaler();, score=0.508 total time=   0.0s\n",
      "[CV 1/5] END classifier=RidgeClassifier(max_iter=1000.0, random_state=42), classifier__alpha=10.0, classifier__class_weight=balanced, scaler=passthrough;, score=0.651 total time=   0.0s\n",
      "[CV 2/5] END classifier=RidgeClassifier(max_iter=1000.0, random_state=42), classifier__alpha=10.0, classifier__class_weight=balanced, scaler=passthrough;, score=0.647 total time=   0.0s\n",
      "[CV 3/5] END classifier=RidgeClassifier(max_iter=1000.0, random_state=42), classifier__alpha=10.0, classifier__class_weight=balanced, scaler=passthrough;, score=0.658 total time=   0.0s\n",
      "[CV 4/5] END classifier=RidgeClassifier(max_iter=1000.0, random_state=42), classifier__alpha=10.0, classifier__class_weight=balanced, scaler=passthrough;, score=0.631 total time=   0.0s\n",
      "[CV 5/5] END classifier=RidgeClassifier(max_iter=1000.0, random_state=42), classifier__alpha=10.0, classifier__class_weight=balanced, scaler=passthrough;, score=0.626 total time=   0.0s\n",
      "[CV 1/5] END classifier=RidgeClassifier(max_iter=1000.0, random_state=42), classifier__alpha=10.0, classifier__class_weight=balanced, scaler=StandardScaler();, score=0.662 total time=   0.0s\n",
      "[CV 2/5] END classifier=RidgeClassifier(max_iter=1000.0, random_state=42), classifier__alpha=10.0, classifier__class_weight=balanced, scaler=StandardScaler();, score=0.657 total time=   0.0s\n",
      "[CV 3/5] END classifier=RidgeClassifier(max_iter=1000.0, random_state=42), classifier__alpha=10.0, classifier__class_weight=balanced, scaler=StandardScaler();, score=0.668 total time=   0.0s\n",
      "[CV 4/5] END classifier=RidgeClassifier(max_iter=1000.0, random_state=42), classifier__alpha=10.0, classifier__class_weight=balanced, scaler=StandardScaler();, score=0.640 total time=   0.0s\n",
      "[CV 5/5] END classifier=RidgeClassifier(max_iter=1000.0, random_state=42), classifier__alpha=10.0, classifier__class_weight=balanced, scaler=StandardScaler();, score=0.640 total time=   0.0s\n",
      "[CV 1/5] END classifier=RidgeClassifier(max_iter=1000.0, random_state=42), classifier__alpha=100.0, classifier__class_weight=None, scaler=passthrough;, score=0.492 total time=   0.0s\n",
      "[CV 2/5] END classifier=RidgeClassifier(max_iter=1000.0, random_state=42), classifier__alpha=100.0, classifier__class_weight=None, scaler=passthrough;, score=0.511 total time=   0.0s\n",
      "[CV 3/5] END classifier=RidgeClassifier(max_iter=1000.0, random_state=42), classifier__alpha=100.0, classifier__class_weight=None, scaler=passthrough;, score=0.500 total time=   0.0s\n",
      "[CV 4/5] END classifier=RidgeClassifier(max_iter=1000.0, random_state=42), classifier__alpha=100.0, classifier__class_weight=None, scaler=passthrough;, score=0.507 total time=   0.0s\n",
      "[CV 5/5] END classifier=RidgeClassifier(max_iter=1000.0, random_state=42), classifier__alpha=100.0, classifier__class_weight=None, scaler=passthrough;, score=0.500 total time=   0.0s\n",
      "[CV 1/5] END classifier=RidgeClassifier(max_iter=1000.0, random_state=42), classifier__alpha=100.0, classifier__class_weight=None, scaler=StandardScaler();, score=0.499 total time=   0.0s\n",
      "[CV 2/5] END classifier=RidgeClassifier(max_iter=1000.0, random_state=42), classifier__alpha=100.0, classifier__class_weight=None, scaler=StandardScaler();, score=0.508 total time=   0.0s\n",
      "[CV 3/5] END classifier=RidgeClassifier(max_iter=1000.0, random_state=42), classifier__alpha=100.0, classifier__class_weight=None, scaler=StandardScaler();, score=0.509 total time=   0.0s\n",
      "[CV 4/5] END classifier=RidgeClassifier(max_iter=1000.0, random_state=42), classifier__alpha=100.0, classifier__class_weight=None, scaler=StandardScaler();, score=0.509 total time=   0.0s\n",
      "[CV 5/5] END classifier=RidgeClassifier(max_iter=1000.0, random_state=42), classifier__alpha=100.0, classifier__class_weight=None, scaler=StandardScaler();, score=0.503 total time=   0.0s\n",
      "[CV 1/5] END classifier=RidgeClassifier(max_iter=1000.0, random_state=42), classifier__alpha=100.0, classifier__class_weight=balanced, scaler=passthrough;, score=0.647 total time=   0.0s\n",
      "[CV 2/5] END classifier=RidgeClassifier(max_iter=1000.0, random_state=42), classifier__alpha=100.0, classifier__class_weight=balanced, scaler=passthrough;, score=0.650 total time=   0.0s\n",
      "[CV 3/5] END classifier=RidgeClassifier(max_iter=1000.0, random_state=42), classifier__alpha=100.0, classifier__class_weight=balanced, scaler=passthrough;, score=0.662 total time=   0.0s\n",
      "[CV 4/5] END classifier=RidgeClassifier(max_iter=1000.0, random_state=42), classifier__alpha=100.0, classifier__class_weight=balanced, scaler=passthrough;, score=0.645 total time=   0.0s\n",
      "[CV 5/5] END classifier=RidgeClassifier(max_iter=1000.0, random_state=42), classifier__alpha=100.0, classifier__class_weight=balanced, scaler=passthrough;, score=0.643 total time=   0.0s\n",
      "[CV 1/5] END classifier=RidgeClassifier(max_iter=1000.0, random_state=42), classifier__alpha=100.0, classifier__class_weight=balanced, scaler=StandardScaler();, score=0.662 total time=   0.0s\n",
      "[CV 2/5] END classifier=RidgeClassifier(max_iter=1000.0, random_state=42), classifier__alpha=100.0, classifier__class_weight=balanced, scaler=StandardScaler();, score=0.669 total time=   0.0s\n",
      "[CV 3/5] END classifier=RidgeClassifier(max_iter=1000.0, random_state=42), classifier__alpha=100.0, classifier__class_weight=balanced, scaler=StandardScaler();, score=0.667 total time=   0.0s\n",
      "[CV 4/5] END classifier=RidgeClassifier(max_iter=1000.0, random_state=42), classifier__alpha=100.0, classifier__class_weight=balanced, scaler=StandardScaler();, score=0.641 total time=   0.0s\n",
      "[CV 5/5] END classifier=RidgeClassifier(max_iter=1000.0, random_state=42), classifier__alpha=100.0, classifier__class_weight=balanced, scaler=StandardScaler();, score=0.633 total time=   0.0s\n",
      "[CV 1/5] END classifier=RidgeClassifier(max_iter=1000.0, random_state=42), classifier__alpha=1000.0, classifier__class_weight=None, scaler=passthrough;, score=0.494 total time=   0.0s\n",
      "[CV 2/5] END classifier=RidgeClassifier(max_iter=1000.0, random_state=42), classifier__alpha=1000.0, classifier__class_weight=None, scaler=passthrough;, score=0.512 total time=   0.0s\n",
      "[CV 3/5] END classifier=RidgeClassifier(max_iter=1000.0, random_state=42), classifier__alpha=1000.0, classifier__class_weight=None, scaler=passthrough;, score=0.498 total time=   0.0s\n",
      "[CV 4/5] END classifier=RidgeClassifier(max_iter=1000.0, random_state=42), classifier__alpha=1000.0, classifier__class_weight=None, scaler=passthrough;, score=0.507 total time=   0.0s\n",
      "[CV 5/5] END classifier=RidgeClassifier(max_iter=1000.0, random_state=42), classifier__alpha=1000.0, classifier__class_weight=None, scaler=passthrough;, score=0.504 total time=   0.0s\n",
      "[CV 1/5] END classifier=RidgeClassifier(max_iter=1000.0, random_state=42), classifier__alpha=1000.0, classifier__class_weight=None, scaler=StandardScaler();, score=0.500 total time=   0.0s\n",
      "[CV 2/5] END classifier=RidgeClassifier(max_iter=1000.0, random_state=42), classifier__alpha=1000.0, classifier__class_weight=None, scaler=StandardScaler();, score=0.502 total time=   0.0s\n",
      "[CV 3/5] END classifier=RidgeClassifier(max_iter=1000.0, random_state=42), classifier__alpha=1000.0, classifier__class_weight=None, scaler=StandardScaler();, score=0.508 total time=   0.0s\n",
      "[CV 4/5] END classifier=RidgeClassifier(max_iter=1000.0, random_state=42), classifier__alpha=1000.0, classifier__class_weight=None, scaler=StandardScaler();, score=0.493 total time=   0.0s\n",
      "[CV 5/5] END classifier=RidgeClassifier(max_iter=1000.0, random_state=42), classifier__alpha=1000.0, classifier__class_weight=None, scaler=StandardScaler();, score=0.498 total time=   0.0s\n",
      "[CV 1/5] END classifier=RidgeClassifier(max_iter=1000.0, random_state=42), classifier__alpha=1000.0, classifier__class_weight=balanced, scaler=passthrough;, score=0.640 total time=   0.0s\n",
      "[CV 2/5] END classifier=RidgeClassifier(max_iter=1000.0, random_state=42), classifier__alpha=1000.0, classifier__class_weight=balanced, scaler=passthrough;, score=0.647 total time=   0.0s\n"
     ]
    },
    {
     "name": "stdout",
     "output_type": "stream",
     "text": [
      "[CV 3/5] END classifier=RidgeClassifier(max_iter=1000.0, random_state=42), classifier__alpha=1000.0, classifier__class_weight=balanced, scaler=passthrough;, score=0.664 total time=   0.0s\n",
      "[CV 4/5] END classifier=RidgeClassifier(max_iter=1000.0, random_state=42), classifier__alpha=1000.0, classifier__class_weight=balanced, scaler=passthrough;, score=0.653 total time=   0.0s\n",
      "[CV 5/5] END classifier=RidgeClassifier(max_iter=1000.0, random_state=42), classifier__alpha=1000.0, classifier__class_weight=balanced, scaler=passthrough;, score=0.641 total time=   0.0s\n",
      "[CV 1/5] END classifier=RidgeClassifier(max_iter=1000.0, random_state=42), classifier__alpha=1000.0, classifier__class_weight=balanced, scaler=StandardScaler();, score=0.678 total time=   0.0s\n",
      "[CV 2/5] END classifier=RidgeClassifier(max_iter=1000.0, random_state=42), classifier__alpha=1000.0, classifier__class_weight=balanced, scaler=StandardScaler();, score=0.675 total time=   0.0s\n",
      "[CV 3/5] END classifier=RidgeClassifier(max_iter=1000.0, random_state=42), classifier__alpha=1000.0, classifier__class_weight=balanced, scaler=StandardScaler();, score=0.658 total time=   0.0s\n",
      "[CV 4/5] END classifier=RidgeClassifier(max_iter=1000.0, random_state=42), classifier__alpha=1000.0, classifier__class_weight=balanced, scaler=StandardScaler();, score=0.648 total time=   0.0s\n",
      "[CV 5/5] END classifier=RidgeClassifier(max_iter=1000.0, random_state=42), classifier__alpha=1000.0, classifier__class_weight=balanced, scaler=StandardScaler();, score=0.642 total time=   0.0s\n",
      "[CV 1/5] END classifier=LinearSVC(max_iter=1000.0, random_state=42, tol=0.001), classifier__C=0.001, classifier__class_weight=None, classifier__penalty=l1, scaler=passthrough;, score=nan total time=   0.0s\n",
      "[CV 2/5] END classifier=LinearSVC(max_iter=1000.0, random_state=42, tol=0.001), classifier__C=0.001, classifier__class_weight=None, classifier__penalty=l1, scaler=passthrough;, score=nan total time=   0.0s\n",
      "[CV 3/5] END classifier=LinearSVC(max_iter=1000.0, random_state=42, tol=0.001), classifier__C=0.001, classifier__class_weight=None, classifier__penalty=l1, scaler=passthrough;, score=nan total time=   0.0s\n",
      "[CV 4/5] END classifier=LinearSVC(max_iter=1000.0, random_state=42, tol=0.001), classifier__C=0.001, classifier__class_weight=None, classifier__penalty=l1, scaler=passthrough;, score=nan total time=   0.0s\n",
      "[CV 5/5] END classifier=LinearSVC(max_iter=1000.0, random_state=42, tol=0.001), classifier__C=0.001, classifier__class_weight=None, classifier__penalty=l1, scaler=passthrough;, score=nan total time=   0.0s\n",
      "[CV 1/5] END classifier=LinearSVC(max_iter=1000.0, random_state=42, tol=0.001), classifier__C=0.001, classifier__class_weight=None, classifier__penalty=l1, scaler=StandardScaler();, score=nan total time=   0.0s\n",
      "[CV 2/5] END classifier=LinearSVC(max_iter=1000.0, random_state=42, tol=0.001), classifier__C=0.001, classifier__class_weight=None, classifier__penalty=l1, scaler=StandardScaler();, score=nan total time=   0.0s\n",
      "[CV 3/5] END classifier=LinearSVC(max_iter=1000.0, random_state=42, tol=0.001), classifier__C=0.001, classifier__class_weight=None, classifier__penalty=l1, scaler=StandardScaler();, score=nan total time=   0.0s\n",
      "[CV 4/5] END classifier=LinearSVC(max_iter=1000.0, random_state=42, tol=0.001), classifier__C=0.001, classifier__class_weight=None, classifier__penalty=l1, scaler=StandardScaler();, score=nan total time=   0.0s\n",
      "[CV 5/5] END classifier=LinearSVC(max_iter=1000.0, random_state=42, tol=0.001), classifier__C=0.001, classifier__class_weight=None, classifier__penalty=l1, scaler=StandardScaler();, score=nan total time=   0.0s\n",
      "[CV 1/5] END classifier=LinearSVC(max_iter=1000.0, random_state=42, tol=0.001), classifier__C=0.001, classifier__class_weight=None, classifier__penalty=l2, scaler=passthrough;, score=0.492 total time=   0.0s\n",
      "[CV 2/5] END classifier=LinearSVC(max_iter=1000.0, random_state=42, tol=0.001), classifier__C=0.001, classifier__class_weight=None, classifier__penalty=l2, scaler=passthrough;, score=0.512 total time=   0.0s\n",
      "[CV 3/5] END classifier=LinearSVC(max_iter=1000.0, random_state=42, tol=0.001), classifier__C=0.001, classifier__class_weight=None, classifier__penalty=l2, scaler=passthrough;, score=0.497 total time=   0.0s\n",
      "[CV 4/5] END classifier=LinearSVC(max_iter=1000.0, random_state=42, tol=0.001), classifier__C=0.001, classifier__class_weight=None, classifier__penalty=l2, scaler=passthrough;, score=0.507 total time=   0.0s\n",
      "[CV 5/5] END classifier=LinearSVC(max_iter=1000.0, random_state=42, tol=0.001), classifier__C=0.001, classifier__class_weight=None, classifier__penalty=l2, scaler=passthrough;, score=0.503 total time=   0.0s\n",
      "[CV 1/5] END classifier=LinearSVC(max_iter=1000.0, random_state=42, tol=0.001), classifier__C=0.001, classifier__class_weight=None, classifier__penalty=l2, scaler=StandardScaler();, score=0.498 total time=   0.0s\n",
      "[CV 2/5] END classifier=LinearSVC(max_iter=1000.0, random_state=42, tol=0.001), classifier__C=0.001, classifier__class_weight=None, classifier__penalty=l2, scaler=StandardScaler();, score=0.511 total time=   0.0s\n",
      "[CV 3/5] END classifier=LinearSVC(max_iter=1000.0, random_state=42, tol=0.001), classifier__C=0.001, classifier__class_weight=None, classifier__penalty=l2, scaler=StandardScaler();, score=0.510 total time=   0.0s\n",
      "[CV 4/5] END classifier=LinearSVC(max_iter=1000.0, random_state=42, tol=0.001), classifier__C=0.001, classifier__class_weight=None, classifier__penalty=l2, scaler=StandardScaler();, score=0.504 total time=   0.0s\n",
      "[CV 5/5] END classifier=LinearSVC(max_iter=1000.0, random_state=42, tol=0.001), classifier__C=0.001, classifier__class_weight=None, classifier__penalty=l2, scaler=StandardScaler();, score=0.508 total time=   0.0s\n",
      "[CV 1/5] END classifier=LinearSVC(max_iter=1000.0, random_state=42, tol=0.001), classifier__C=0.001, classifier__class_weight=balanced, classifier__penalty=l1, scaler=passthrough;, score=nan total time=   0.0s\n",
      "[CV 2/5] END classifier=LinearSVC(max_iter=1000.0, random_state=42, tol=0.001), classifier__C=0.001, classifier__class_weight=balanced, classifier__penalty=l1, scaler=passthrough;, score=nan total time=   0.0s\n",
      "[CV 3/5] END classifier=LinearSVC(max_iter=1000.0, random_state=42, tol=0.001), classifier__C=0.001, classifier__class_weight=balanced, classifier__penalty=l1, scaler=passthrough;, score=nan total time=   0.0s\n",
      "[CV 4/5] END classifier=LinearSVC(max_iter=1000.0, random_state=42, tol=0.001), classifier__C=0.001, classifier__class_weight=balanced, classifier__penalty=l1, scaler=passthrough;, score=nan total time=   0.0s\n",
      "[CV 5/5] END classifier=LinearSVC(max_iter=1000.0, random_state=42, tol=0.001), classifier__C=0.001, classifier__class_weight=balanced, classifier__penalty=l1, scaler=passthrough;, score=nan total time=   0.0s\n",
      "[CV 1/5] END classifier=LinearSVC(max_iter=1000.0, random_state=42, tol=0.001), classifier__C=0.001, classifier__class_weight=balanced, classifier__penalty=l1, scaler=StandardScaler();, score=nan total time=   0.0s\n",
      "[CV 2/5] END classifier=LinearSVC(max_iter=1000.0, random_state=42, tol=0.001), classifier__C=0.001, classifier__class_weight=balanced, classifier__penalty=l1, scaler=StandardScaler();, score=nan total time=   0.0s\n",
      "[CV 3/5] END classifier=LinearSVC(max_iter=1000.0, random_state=42, tol=0.001), classifier__C=0.001, classifier__class_weight=balanced, classifier__penalty=l1, scaler=StandardScaler();, score=nan total time=   0.0s\n",
      "[CV 4/5] END classifier=LinearSVC(max_iter=1000.0, random_state=42, tol=0.001), classifier__C=0.001, classifier__class_weight=balanced, classifier__penalty=l1, scaler=StandardScaler();, score=nan total time=   0.0s\n",
      "[CV 5/5] END classifier=LinearSVC(max_iter=1000.0, random_state=42, tol=0.001), classifier__C=0.001, classifier__class_weight=balanced, classifier__penalty=l1, scaler=StandardScaler();, score=nan total time=   0.0s\n",
      "[CV 1/5] END classifier=LinearSVC(max_iter=1000.0, random_state=42, tol=0.001), classifier__C=0.001, classifier__class_weight=balanced, classifier__penalty=l2, scaler=passthrough;, score=0.643 total time=   0.0s\n",
      "[CV 2/5] END classifier=LinearSVC(max_iter=1000.0, random_state=42, tol=0.001), classifier__C=0.001, classifier__class_weight=balanced, classifier__penalty=l2, scaler=passthrough;, score=0.648 total time=   0.0s\n",
      "[CV 3/5] END classifier=LinearSVC(max_iter=1000.0, random_state=42, tol=0.001), classifier__C=0.001, classifier__class_weight=balanced, classifier__penalty=l2, scaler=passthrough;, score=0.665 total time=   0.0s\n",
      "[CV 4/5] END classifier=LinearSVC(max_iter=1000.0, random_state=42, tol=0.001), classifier__C=0.001, classifier__class_weight=balanced, classifier__penalty=l2, scaler=passthrough;, score=0.639 total time=   0.0s\n",
      "[CV 5/5] END classifier=LinearSVC(max_iter=1000.0, random_state=42, tol=0.001), classifier__C=0.001, classifier__class_weight=balanced, classifier__penalty=l2, scaler=passthrough;, score=0.639 total time=   0.0s\n"
     ]
    },
    {
     "name": "stdout",
     "output_type": "stream",
     "text": [
      "[CV 1/5] END classifier=LinearSVC(max_iter=1000.0, random_state=42, tol=0.001), classifier__C=0.001, classifier__class_weight=balanced, classifier__penalty=l2, scaler=StandardScaler();, score=0.668 total time=   0.0s\n",
      "[CV 2/5] END classifier=LinearSVC(max_iter=1000.0, random_state=42, tol=0.001), classifier__C=0.001, classifier__class_weight=balanced, classifier__penalty=l2, scaler=StandardScaler();, score=0.667 total time=   0.0s\n",
      "[CV 3/5] END classifier=LinearSVC(max_iter=1000.0, random_state=42, tol=0.001), classifier__C=0.001, classifier__class_weight=balanced, classifier__penalty=l2, scaler=StandardScaler();, score=0.662 total time=   0.0s\n",
      "[CV 4/5] END classifier=LinearSVC(max_iter=1000.0, random_state=42, tol=0.001), classifier__C=0.001, classifier__class_weight=balanced, classifier__penalty=l2, scaler=StandardScaler();, score=0.650 total time=   0.0s\n",
      "[CV 5/5] END classifier=LinearSVC(max_iter=1000.0, random_state=42, tol=0.001), classifier__C=0.001, classifier__class_weight=balanced, classifier__penalty=l2, scaler=StandardScaler();, score=0.630 total time=   0.0s\n",
      "[CV 1/5] END classifier=LinearSVC(max_iter=1000.0, random_state=42, tol=0.001), classifier__C=0.01, classifier__class_weight=None, classifier__penalty=l1, scaler=passthrough;, score=nan total time=   0.0s\n",
      "[CV 2/5] END classifier=LinearSVC(max_iter=1000.0, random_state=42, tol=0.001), classifier__C=0.01, classifier__class_weight=None, classifier__penalty=l1, scaler=passthrough;, score=nan total time=   0.0s\n",
      "[CV 3/5] END classifier=LinearSVC(max_iter=1000.0, random_state=42, tol=0.001), classifier__C=0.01, classifier__class_weight=None, classifier__penalty=l1, scaler=passthrough;, score=nan total time=   0.0s\n",
      "[CV 4/5] END classifier=LinearSVC(max_iter=1000.0, random_state=42, tol=0.001), classifier__C=0.01, classifier__class_weight=None, classifier__penalty=l1, scaler=passthrough;, score=nan total time=   0.0s\n",
      "[CV 5/5] END classifier=LinearSVC(max_iter=1000.0, random_state=42, tol=0.001), classifier__C=0.01, classifier__class_weight=None, classifier__penalty=l1, scaler=passthrough;, score=nan total time=   0.0s\n",
      "[CV 1/5] END classifier=LinearSVC(max_iter=1000.0, random_state=42, tol=0.001), classifier__C=0.01, classifier__class_weight=None, classifier__penalty=l1, scaler=StandardScaler();, score=nan total time=   0.0s\n",
      "[CV 2/5] END classifier=LinearSVC(max_iter=1000.0, random_state=42, tol=0.001), classifier__C=0.01, classifier__class_weight=None, classifier__penalty=l1, scaler=StandardScaler();, score=nan total time=   0.0s\n",
      "[CV 3/5] END classifier=LinearSVC(max_iter=1000.0, random_state=42, tol=0.001), classifier__C=0.01, classifier__class_weight=None, classifier__penalty=l1, scaler=StandardScaler();, score=nan total time=   0.0s\n",
      "[CV 4/5] END classifier=LinearSVC(max_iter=1000.0, random_state=42, tol=0.001), classifier__C=0.01, classifier__class_weight=None, classifier__penalty=l1, scaler=StandardScaler();, score=nan total time=   0.0s\n",
      "[CV 5/5] END classifier=LinearSVC(max_iter=1000.0, random_state=42, tol=0.001), classifier__C=0.01, classifier__class_weight=None, classifier__penalty=l1, scaler=StandardScaler();, score=nan total time=   0.0s\n"
     ]
    },
    {
     "name": "stderr",
     "output_type": "stream",
     "text": [
      "/home/felipe/anaconda3/envs/segmentator/lib/python3.7/site-packages/sklearn/svm/_base.py:1208: ConvergenceWarning: Liblinear failed to converge, increase the number of iterations.\n",
      "  ConvergenceWarning,\n",
      "/home/felipe/anaconda3/envs/segmentator/lib/python3.7/site-packages/sklearn/svm/_base.py:1208: ConvergenceWarning: Liblinear failed to converge, increase the number of iterations.\n",
      "  ConvergenceWarning,\n",
      "/home/felipe/anaconda3/envs/segmentator/lib/python3.7/site-packages/sklearn/svm/_base.py:1208: ConvergenceWarning: Liblinear failed to converge, increase the number of iterations.\n",
      "  ConvergenceWarning,\n"
     ]
    },
    {
     "name": "stdout",
     "output_type": "stream",
     "text": [
      "[CV 1/5] END classifier=LinearSVC(max_iter=1000.0, random_state=42, tol=0.001), classifier__C=0.01, classifier__class_weight=None, classifier__penalty=l2, scaler=passthrough;, score=0.491 total time=   0.1s\n",
      "[CV 2/5] END classifier=LinearSVC(max_iter=1000.0, random_state=42, tol=0.001), classifier__C=0.01, classifier__class_weight=None, classifier__penalty=l2, scaler=passthrough;, score=0.513 total time=   0.1s\n",
      "[CV 3/5] END classifier=LinearSVC(max_iter=1000.0, random_state=42, tol=0.001), classifier__C=0.01, classifier__class_weight=None, classifier__penalty=l2, scaler=passthrough;, score=0.498 total time=   0.1s\n"
     ]
    },
    {
     "name": "stderr",
     "output_type": "stream",
     "text": [
      "/home/felipe/anaconda3/envs/segmentator/lib/python3.7/site-packages/sklearn/svm/_base.py:1208: ConvergenceWarning: Liblinear failed to converge, increase the number of iterations.\n",
      "  ConvergenceWarning,\n",
      "/home/felipe/anaconda3/envs/segmentator/lib/python3.7/site-packages/sklearn/svm/_base.py:1208: ConvergenceWarning: Liblinear failed to converge, increase the number of iterations.\n",
      "  ConvergenceWarning,\n"
     ]
    },
    {
     "name": "stdout",
     "output_type": "stream",
     "text": [
      "[CV 4/5] END classifier=LinearSVC(max_iter=1000.0, random_state=42, tol=0.001), classifier__C=0.01, classifier__class_weight=None, classifier__penalty=l2, scaler=passthrough;, score=0.507 total time=   0.1s\n",
      "[CV 5/5] END classifier=LinearSVC(max_iter=1000.0, random_state=42, tol=0.001), classifier__C=0.01, classifier__class_weight=None, classifier__penalty=l2, scaler=passthrough;, score=0.499 total time=   0.1s\n",
      "[CV 1/5] END classifier=LinearSVC(max_iter=1000.0, random_state=42, tol=0.001), classifier__C=0.01, classifier__class_weight=None, classifier__penalty=l2, scaler=StandardScaler();, score=0.499 total time=   0.1s\n",
      "[CV 2/5] END classifier=LinearSVC(max_iter=1000.0, random_state=42, tol=0.001), classifier__C=0.01, classifier__class_weight=None, classifier__penalty=l2, scaler=StandardScaler();, score=0.514 total time=   0.1s\n",
      "[CV 3/5] END classifier=LinearSVC(max_iter=1000.0, random_state=42, tol=0.001), classifier__C=0.01, classifier__class_weight=None, classifier__penalty=l2, scaler=StandardScaler();, score=0.510 total time=   0.1s\n",
      "[CV 4/5] END classifier=LinearSVC(max_iter=1000.0, random_state=42, tol=0.001), classifier__C=0.01, classifier__class_weight=None, classifier__penalty=l2, scaler=StandardScaler();, score=0.506 total time=   0.1s\n",
      "[CV 5/5] END classifier=LinearSVC(max_iter=1000.0, random_state=42, tol=0.001), classifier__C=0.01, classifier__class_weight=None, classifier__penalty=l2, scaler=StandardScaler();, score=0.514 total time=   0.1s\n",
      "[CV 1/5] END classifier=LinearSVC(max_iter=1000.0, random_state=42, tol=0.001), classifier__C=0.01, classifier__class_weight=balanced, classifier__penalty=l1, scaler=passthrough;, score=nan total time=   0.0s\n",
      "[CV 2/5] END classifier=LinearSVC(max_iter=1000.0, random_state=42, tol=0.001), classifier__C=0.01, classifier__class_weight=balanced, classifier__penalty=l1, scaler=passthrough;, score=nan total time=   0.0s\n",
      "[CV 3/5] END classifier=LinearSVC(max_iter=1000.0, random_state=42, tol=0.001), classifier__C=0.01, classifier__class_weight=balanced, classifier__penalty=l1, scaler=passthrough;, score=nan total time=   0.0s\n",
      "[CV 4/5] END classifier=LinearSVC(max_iter=1000.0, random_state=42, tol=0.001), classifier__C=0.01, classifier__class_weight=balanced, classifier__penalty=l1, scaler=passthrough;, score=nan total time=   0.0s\n",
      "[CV 5/5] END classifier=LinearSVC(max_iter=1000.0, random_state=42, tol=0.001), classifier__C=0.01, classifier__class_weight=balanced, classifier__penalty=l1, scaler=passthrough;, score=nan total time=   0.0s\n",
      "[CV 1/5] END classifier=LinearSVC(max_iter=1000.0, random_state=42, tol=0.001), classifier__C=0.01, classifier__class_weight=balanced, classifier__penalty=l1, scaler=StandardScaler();, score=nan total time=   0.0s\n",
      "[CV 2/5] END classifier=LinearSVC(max_iter=1000.0, random_state=42, tol=0.001), classifier__C=0.01, classifier__class_weight=balanced, classifier__penalty=l1, scaler=StandardScaler();, score=nan total time=   0.0s\n",
      "[CV 3/5] END classifier=LinearSVC(max_iter=1000.0, random_state=42, tol=0.001), classifier__C=0.01, classifier__class_weight=balanced, classifier__penalty=l1, scaler=StandardScaler();, score=nan total time=   0.0s\n",
      "[CV 4/5] END classifier=LinearSVC(max_iter=1000.0, random_state=42, tol=0.001), classifier__C=0.01, classifier__class_weight=balanced, classifier__penalty=l1, scaler=StandardScaler();, score=nan total time=   0.0s\n",
      "[CV 5/5] END classifier=LinearSVC(max_iter=1000.0, random_state=42, tol=0.001), classifier__C=0.01, classifier__class_weight=balanced, classifier__penalty=l1, scaler=StandardScaler();, score=nan total time=   0.0s\n",
      "[CV 1/5] END classifier=LinearSVC(max_iter=1000.0, random_state=42, tol=0.001), classifier__C=0.01, classifier__class_weight=balanced, classifier__penalty=l2, scaler=passthrough;, score=0.657 total time=   0.1s\n"
     ]
    },
    {
     "name": "stderr",
     "output_type": "stream",
     "text": [
      "/home/felipe/anaconda3/envs/segmentator/lib/python3.7/site-packages/sklearn/svm/_base.py:1208: ConvergenceWarning: Liblinear failed to converge, increase the number of iterations.\n",
      "  ConvergenceWarning,\n",
      "/home/felipe/anaconda3/envs/segmentator/lib/python3.7/site-packages/sklearn/svm/_base.py:1208: ConvergenceWarning: Liblinear failed to converge, increase the number of iterations.\n",
      "  ConvergenceWarning,\n",
      "/home/felipe/anaconda3/envs/segmentator/lib/python3.7/site-packages/sklearn/svm/_base.py:1208: ConvergenceWarning: Liblinear failed to converge, increase the number of iterations.\n",
      "  ConvergenceWarning,\n"
     ]
    },
    {
     "name": "stdout",
     "output_type": "stream",
     "text": [
      "[CV 2/5] END classifier=LinearSVC(max_iter=1000.0, random_state=42, tol=0.001), classifier__C=0.01, classifier__class_weight=balanced, classifier__penalty=l2, scaler=passthrough;, score=0.648 total time=   0.1s\n",
      "[CV 3/5] END classifier=LinearSVC(max_iter=1000.0, random_state=42, tol=0.001), classifier__C=0.01, classifier__class_weight=balanced, classifier__penalty=l2, scaler=passthrough;, score=0.659 total time=   0.1s\n",
      "[CV 4/5] END classifier=LinearSVC(max_iter=1000.0, random_state=42, tol=0.001), classifier__C=0.01, classifier__class_weight=balanced, classifier__penalty=l2, scaler=passthrough;, score=0.643 total time=   0.1s\n"
     ]
    },
    {
     "name": "stderr",
     "output_type": "stream",
     "text": [
      "/home/felipe/anaconda3/envs/segmentator/lib/python3.7/site-packages/sklearn/svm/_base.py:1208: ConvergenceWarning: Liblinear failed to converge, increase the number of iterations.\n",
      "  ConvergenceWarning,\n",
      "/home/felipe/anaconda3/envs/segmentator/lib/python3.7/site-packages/sklearn/svm/_base.py:1208: ConvergenceWarning: Liblinear failed to converge, increase the number of iterations.\n",
      "  ConvergenceWarning,\n"
     ]
    },
    {
     "name": "stdout",
     "output_type": "stream",
     "text": [
      "[CV 5/5] END classifier=LinearSVC(max_iter=1000.0, random_state=42, tol=0.001), classifier__C=0.01, classifier__class_weight=balanced, classifier__penalty=l2, scaler=passthrough;, score=0.638 total time=   0.1s\n",
      "[CV 1/5] END classifier=LinearSVC(max_iter=1000.0, random_state=42, tol=0.001), classifier__C=0.01, classifier__class_weight=balanced, classifier__penalty=l2, scaler=StandardScaler();, score=0.659 total time=   0.1s\n",
      "[CV 2/5] END classifier=LinearSVC(max_iter=1000.0, random_state=42, tol=0.001), classifier__C=0.01, classifier__class_weight=balanced, classifier__penalty=l2, scaler=StandardScaler();, score=0.661 total time=   0.1s\n",
      "[CV 3/5] END classifier=LinearSVC(max_iter=1000.0, random_state=42, tol=0.001), classifier__C=0.01, classifier__class_weight=balanced, classifier__penalty=l2, scaler=StandardScaler();, score=0.662 total time=   0.1s\n",
      "[CV 4/5] END classifier=LinearSVC(max_iter=1000.0, random_state=42, tol=0.001), classifier__C=0.01, classifier__class_weight=balanced, classifier__penalty=l2, scaler=StandardScaler();, score=0.636 total time=   0.1s\n",
      "[CV 5/5] END classifier=LinearSVC(max_iter=1000.0, random_state=42, tol=0.001), classifier__C=0.01, classifier__class_weight=balanced, classifier__penalty=l2, scaler=StandardScaler();, score=0.632 total time=   0.1s\n",
      "[CV 1/5] END classifier=LinearSVC(max_iter=1000.0, random_state=42, tol=0.001), classifier__C=0.1, classifier__class_weight=None, classifier__penalty=l1, scaler=passthrough;, score=nan total time=   0.0s\n",
      "[CV 2/5] END classifier=LinearSVC(max_iter=1000.0, random_state=42, tol=0.001), classifier__C=0.1, classifier__class_weight=None, classifier__penalty=l1, scaler=passthrough;, score=nan total time=   0.0s\n",
      "[CV 3/5] END classifier=LinearSVC(max_iter=1000.0, random_state=42, tol=0.001), classifier__C=0.1, classifier__class_weight=None, classifier__penalty=l1, scaler=passthrough;, score=nan total time=   0.0s\n",
      "[CV 4/5] END classifier=LinearSVC(max_iter=1000.0, random_state=42, tol=0.001), classifier__C=0.1, classifier__class_weight=None, classifier__penalty=l1, scaler=passthrough;, score=nan total time=   0.0s\n",
      "[CV 5/5] END classifier=LinearSVC(max_iter=1000.0, random_state=42, tol=0.001), classifier__C=0.1, classifier__class_weight=None, classifier__penalty=l1, scaler=passthrough;, score=nan total time=   0.0s\n",
      "[CV 1/5] END classifier=LinearSVC(max_iter=1000.0, random_state=42, tol=0.001), classifier__C=0.1, classifier__class_weight=None, classifier__penalty=l1, scaler=StandardScaler();, score=nan total time=   0.0s\n",
      "[CV 2/5] END classifier=LinearSVC(max_iter=1000.0, random_state=42, tol=0.001), classifier__C=0.1, classifier__class_weight=None, classifier__penalty=l1, scaler=StandardScaler();, score=nan total time=   0.0s\n",
      "[CV 3/5] END classifier=LinearSVC(max_iter=1000.0, random_state=42, tol=0.001), classifier__C=0.1, classifier__class_weight=None, classifier__penalty=l1, scaler=StandardScaler();, score=nan total time=   0.0s\n",
      "[CV 4/5] END classifier=LinearSVC(max_iter=1000.0, random_state=42, tol=0.001), classifier__C=0.1, classifier__class_weight=None, classifier__penalty=l1, scaler=StandardScaler();, score=nan total time=   0.0s\n",
      "[CV 5/5] END classifier=LinearSVC(max_iter=1000.0, random_state=42, tol=0.001), classifier__C=0.1, classifier__class_weight=None, classifier__penalty=l1, scaler=StandardScaler();, score=nan total time=   0.0s\n",
      "[CV 1/5] END classifier=LinearSVC(max_iter=1000.0, random_state=42, tol=0.001), classifier__C=0.1, classifier__class_weight=None, classifier__penalty=l2, scaler=passthrough;, score=0.497 total time=   0.1s\n"
     ]
    },
    {
     "name": "stderr",
     "output_type": "stream",
     "text": [
      "/home/felipe/anaconda3/envs/segmentator/lib/python3.7/site-packages/sklearn/svm/_base.py:1208: ConvergenceWarning: Liblinear failed to converge, increase the number of iterations.\n",
      "  ConvergenceWarning,\n",
      "/home/felipe/anaconda3/envs/segmentator/lib/python3.7/site-packages/sklearn/svm/_base.py:1208: ConvergenceWarning: Liblinear failed to converge, increase the number of iterations.\n",
      "  ConvergenceWarning,\n",
      "/home/felipe/anaconda3/envs/segmentator/lib/python3.7/site-packages/sklearn/svm/_base.py:1208: ConvergenceWarning: Liblinear failed to converge, increase the number of iterations.\n",
      "  ConvergenceWarning,\n"
     ]
    },
    {
     "name": "stdout",
     "output_type": "stream",
     "text": [
      "[CV 2/5] END classifier=LinearSVC(max_iter=1000.0, random_state=42, tol=0.001), classifier__C=0.1, classifier__class_weight=None, classifier__penalty=l2, scaler=passthrough;, score=0.517 total time=   0.1s\n",
      "[CV 3/5] END classifier=LinearSVC(max_iter=1000.0, random_state=42, tol=0.001), classifier__C=0.1, classifier__class_weight=None, classifier__penalty=l2, scaler=passthrough;, score=0.503 total time=   0.1s\n",
      "[CV 4/5] END classifier=LinearSVC(max_iter=1000.0, random_state=42, tol=0.001), classifier__C=0.1, classifier__class_weight=None, classifier__penalty=l2, scaler=passthrough;, score=0.503 total time=   0.1s\n"
     ]
    },
    {
     "name": "stderr",
     "output_type": "stream",
     "text": [
      "/home/felipe/anaconda3/envs/segmentator/lib/python3.7/site-packages/sklearn/svm/_base.py:1208: ConvergenceWarning: Liblinear failed to converge, increase the number of iterations.\n",
      "  ConvergenceWarning,\n",
      "/home/felipe/anaconda3/envs/segmentator/lib/python3.7/site-packages/sklearn/svm/_base.py:1208: ConvergenceWarning: Liblinear failed to converge, increase the number of iterations.\n",
      "  ConvergenceWarning,\n"
     ]
    },
    {
     "name": "stdout",
     "output_type": "stream",
     "text": [
      "[CV 5/5] END classifier=LinearSVC(max_iter=1000.0, random_state=42, tol=0.001), classifier__C=0.1, classifier__class_weight=None, classifier__penalty=l2, scaler=passthrough;, score=0.507 total time=   0.1s\n"
     ]
    },
    {
     "name": "stderr",
     "output_type": "stream",
     "text": [
      "/home/felipe/anaconda3/envs/segmentator/lib/python3.7/site-packages/sklearn/svm/_base.py:1208: ConvergenceWarning: Liblinear failed to converge, increase the number of iterations.\n",
      "  ConvergenceWarning,\n"
     ]
    },
    {
     "name": "stdout",
     "output_type": "stream",
     "text": [
      "[CV 1/5] END classifier=LinearSVC(max_iter=1000.0, random_state=42, tol=0.001), classifier__C=0.1, classifier__class_weight=None, classifier__penalty=l2, scaler=StandardScaler();, score=0.498 total time=   0.3s\n"
     ]
    },
    {
     "name": "stderr",
     "output_type": "stream",
     "text": [
      "/home/felipe/anaconda3/envs/segmentator/lib/python3.7/site-packages/sklearn/svm/_base.py:1208: ConvergenceWarning: Liblinear failed to converge, increase the number of iterations.\n",
      "  ConvergenceWarning,\n"
     ]
    },
    {
     "name": "stdout",
     "output_type": "stream",
     "text": [
      "[CV 2/5] END classifier=LinearSVC(max_iter=1000.0, random_state=42, tol=0.001), classifier__C=0.1, classifier__class_weight=None, classifier__penalty=l2, scaler=StandardScaler();, score=0.519 total time=   0.3s\n"
     ]
    },
    {
     "name": "stderr",
     "output_type": "stream",
     "text": [
      "/home/felipe/anaconda3/envs/segmentator/lib/python3.7/site-packages/sklearn/svm/_base.py:1208: ConvergenceWarning: Liblinear failed to converge, increase the number of iterations.\n",
      "  ConvergenceWarning,\n"
     ]
    },
    {
     "name": "stdout",
     "output_type": "stream",
     "text": [
      "[CV 3/5] END classifier=LinearSVC(max_iter=1000.0, random_state=42, tol=0.001), classifier__C=0.1, classifier__class_weight=None, classifier__penalty=l2, scaler=StandardScaler();, score=0.506 total time=   0.3s\n"
     ]
    },
    {
     "name": "stderr",
     "output_type": "stream",
     "text": [
      "/home/felipe/anaconda3/envs/segmentator/lib/python3.7/site-packages/sklearn/svm/_base.py:1208: ConvergenceWarning: Liblinear failed to converge, increase the number of iterations.\n",
      "  ConvergenceWarning,\n"
     ]
    },
    {
     "name": "stdout",
     "output_type": "stream",
     "text": [
      "[CV 4/5] END classifier=LinearSVC(max_iter=1000.0, random_state=42, tol=0.001), classifier__C=0.1, classifier__class_weight=None, classifier__penalty=l2, scaler=StandardScaler();, score=0.510 total time=   0.3s\n"
     ]
    },
    {
     "name": "stderr",
     "output_type": "stream",
     "text": [
      "/home/felipe/anaconda3/envs/segmentator/lib/python3.7/site-packages/sklearn/svm/_base.py:1208: ConvergenceWarning: Liblinear failed to converge, increase the number of iterations.\n",
      "  ConvergenceWarning,\n",
      "/home/felipe/anaconda3/envs/segmentator/lib/python3.7/site-packages/sklearn/svm/_base.py:1208: ConvergenceWarning: Liblinear failed to converge, increase the number of iterations.\n",
      "  ConvergenceWarning,\n"
     ]
    },
    {
     "name": "stdout",
     "output_type": "stream",
     "text": [
      "[CV 5/5] END classifier=LinearSVC(max_iter=1000.0, random_state=42, tol=0.001), classifier__C=0.1, classifier__class_weight=None, classifier__penalty=l2, scaler=StandardScaler();, score=0.516 total time=   0.3s\n",
      "[CV 1/5] END classifier=LinearSVC(max_iter=1000.0, random_state=42, tol=0.001), classifier__C=0.1, classifier__class_weight=balanced, classifier__penalty=l1, scaler=passthrough;, score=nan total time=   0.0s\n",
      "[CV 2/5] END classifier=LinearSVC(max_iter=1000.0, random_state=42, tol=0.001), classifier__C=0.1, classifier__class_weight=balanced, classifier__penalty=l1, scaler=passthrough;, score=nan total time=   0.0s\n",
      "[CV 3/5] END classifier=LinearSVC(max_iter=1000.0, random_state=42, tol=0.001), classifier__C=0.1, classifier__class_weight=balanced, classifier__penalty=l1, scaler=passthrough;, score=nan total time=   0.0s\n",
      "[CV 4/5] END classifier=LinearSVC(max_iter=1000.0, random_state=42, tol=0.001), classifier__C=0.1, classifier__class_weight=balanced, classifier__penalty=l1, scaler=passthrough;, score=nan total time=   0.0s\n",
      "[CV 5/5] END classifier=LinearSVC(max_iter=1000.0, random_state=42, tol=0.001), classifier__C=0.1, classifier__class_weight=balanced, classifier__penalty=l1, scaler=passthrough;, score=nan total time=   0.0s\n",
      "[CV 1/5] END classifier=LinearSVC(max_iter=1000.0, random_state=42, tol=0.001), classifier__C=0.1, classifier__class_weight=balanced, classifier__penalty=l1, scaler=StandardScaler();, score=nan total time=   0.0s\n",
      "[CV 2/5] END classifier=LinearSVC(max_iter=1000.0, random_state=42, tol=0.001), classifier__C=0.1, classifier__class_weight=balanced, classifier__penalty=l1, scaler=StandardScaler();, score=nan total time=   0.0s\n",
      "[CV 3/5] END classifier=LinearSVC(max_iter=1000.0, random_state=42, tol=0.001), classifier__C=0.1, classifier__class_weight=balanced, classifier__penalty=l1, scaler=StandardScaler();, score=nan total time=   0.0s\n",
      "[CV 4/5] END classifier=LinearSVC(max_iter=1000.0, random_state=42, tol=0.001), classifier__C=0.1, classifier__class_weight=balanced, classifier__penalty=l1, scaler=StandardScaler();, score=nan total time=   0.0s\n",
      "[CV 5/5] END classifier=LinearSVC(max_iter=1000.0, random_state=42, tol=0.001), classifier__C=0.1, classifier__class_weight=balanced, classifier__penalty=l1, scaler=StandardScaler();, score=nan total time=   0.0s\n",
      "[CV 1/5] END classifier=LinearSVC(max_iter=1000.0, random_state=42, tol=0.001), classifier__C=0.1, classifier__class_weight=balanced, classifier__penalty=l2, scaler=passthrough;, score=0.591 total time=   0.1s\n"
     ]
    },
    {
     "name": "stderr",
     "output_type": "stream",
     "text": [
      "/home/felipe/anaconda3/envs/segmentator/lib/python3.7/site-packages/sklearn/svm/_base.py:1208: ConvergenceWarning: Liblinear failed to converge, increase the number of iterations.\n",
      "  ConvergenceWarning,\n",
      "/home/felipe/anaconda3/envs/segmentator/lib/python3.7/site-packages/sklearn/svm/_base.py:1208: ConvergenceWarning: Liblinear failed to converge, increase the number of iterations.\n",
      "  ConvergenceWarning,\n"
     ]
    },
    {
     "name": "stdout",
     "output_type": "stream",
     "text": [
      "[CV 2/5] END classifier=LinearSVC(max_iter=1000.0, random_state=42, tol=0.001), classifier__C=0.1, classifier__class_weight=balanced, classifier__penalty=l2, scaler=passthrough;, score=0.605 total time=   0.1s\n",
      "[CV 3/5] END classifier=LinearSVC(max_iter=1000.0, random_state=42, tol=0.001), classifier__C=0.1, classifier__class_weight=balanced, classifier__penalty=l2, scaler=passthrough;, score=0.576 total time=   0.1s\n",
      "[CV 4/5] END classifier=LinearSVC(max_iter=1000.0, random_state=42, tol=0.001), classifier__C=0.1, classifier__class_weight=balanced, classifier__penalty=l2, scaler=passthrough;, score=0.624 total time=   0.1s\n"
     ]
    },
    {
     "name": "stderr",
     "output_type": "stream",
     "text": [
      "/home/felipe/anaconda3/envs/segmentator/lib/python3.7/site-packages/sklearn/svm/_base.py:1208: ConvergenceWarning: Liblinear failed to converge, increase the number of iterations.\n",
      "  ConvergenceWarning,\n",
      "/home/felipe/anaconda3/envs/segmentator/lib/python3.7/site-packages/sklearn/svm/_base.py:1208: ConvergenceWarning: Liblinear failed to converge, increase the number of iterations.\n",
      "  ConvergenceWarning,\n"
     ]
    },
    {
     "name": "stdout",
     "output_type": "stream",
     "text": [
      "[CV 5/5] END classifier=LinearSVC(max_iter=1000.0, random_state=42, tol=0.001), classifier__C=0.1, classifier__class_weight=balanced, classifier__penalty=l2, scaler=passthrough;, score=0.551 total time=   0.1s\n"
     ]
    },
    {
     "name": "stderr",
     "output_type": "stream",
     "text": [
      "/home/felipe/anaconda3/envs/segmentator/lib/python3.7/site-packages/sklearn/svm/_base.py:1208: ConvergenceWarning: Liblinear failed to converge, increase the number of iterations.\n",
      "  ConvergenceWarning,\n"
     ]
    },
    {
     "name": "stdout",
     "output_type": "stream",
     "text": [
      "[CV 1/5] END classifier=LinearSVC(max_iter=1000.0, random_state=42, tol=0.001), classifier__C=0.1, classifier__class_weight=balanced, classifier__penalty=l2, scaler=StandardScaler();, score=0.654 total time=   0.4s\n"
     ]
    },
    {
     "name": "stderr",
     "output_type": "stream",
     "text": [
      "/home/felipe/anaconda3/envs/segmentator/lib/python3.7/site-packages/sklearn/svm/_base.py:1208: ConvergenceWarning: Liblinear failed to converge, increase the number of iterations.\n",
      "  ConvergenceWarning,\n"
     ]
    },
    {
     "name": "stdout",
     "output_type": "stream",
     "text": [
      "[CV 2/5] END classifier=LinearSVC(max_iter=1000.0, random_state=42, tol=0.001), classifier__C=0.1, classifier__class_weight=balanced, classifier__penalty=l2, scaler=StandardScaler();, score=0.660 total time=   0.3s\n"
     ]
    },
    {
     "name": "stderr",
     "output_type": "stream",
     "text": [
      "/home/felipe/anaconda3/envs/segmentator/lib/python3.7/site-packages/sklearn/svm/_base.py:1208: ConvergenceWarning: Liblinear failed to converge, increase the number of iterations.\n",
      "  ConvergenceWarning,\n"
     ]
    },
    {
     "name": "stdout",
     "output_type": "stream",
     "text": [
      "[CV 3/5] END classifier=LinearSVC(max_iter=1000.0, random_state=42, tol=0.001), classifier__C=0.1, classifier__class_weight=balanced, classifier__penalty=l2, scaler=StandardScaler();, score=0.645 total time=   0.3s\n"
     ]
    },
    {
     "name": "stderr",
     "output_type": "stream",
     "text": [
      "/home/felipe/anaconda3/envs/segmentator/lib/python3.7/site-packages/sklearn/svm/_base.py:1208: ConvergenceWarning: Liblinear failed to converge, increase the number of iterations.\n",
      "  ConvergenceWarning,\n"
     ]
    },
    {
     "name": "stdout",
     "output_type": "stream",
     "text": [
      "[CV 4/5] END classifier=LinearSVC(max_iter=1000.0, random_state=42, tol=0.001), classifier__C=0.1, classifier__class_weight=balanced, classifier__penalty=l2, scaler=StandardScaler();, score=0.631 total time=   0.3s\n"
     ]
    },
    {
     "name": "stderr",
     "output_type": "stream",
     "text": [
      "/home/felipe/anaconda3/envs/segmentator/lib/python3.7/site-packages/sklearn/svm/_base.py:1208: ConvergenceWarning: Liblinear failed to converge, increase the number of iterations.\n",
      "  ConvergenceWarning,\n",
      "/home/felipe/anaconda3/envs/segmentator/lib/python3.7/site-packages/sklearn/svm/_base.py:1208: ConvergenceWarning: Liblinear failed to converge, increase the number of iterations.\n",
      "  ConvergenceWarning,\n"
     ]
    },
    {
     "name": "stdout",
     "output_type": "stream",
     "text": [
      "[CV 5/5] END classifier=LinearSVC(max_iter=1000.0, random_state=42, tol=0.001), classifier__C=0.1, classifier__class_weight=balanced, classifier__penalty=l2, scaler=StandardScaler();, score=0.640 total time=   0.3s\n",
      "[CV 1/5] END classifier=LinearSVC(max_iter=1000.0, random_state=42, tol=0.001), classifier__C=1.0, classifier__class_weight=None, classifier__penalty=l1, scaler=passthrough;, score=nan total time=   0.0s\n",
      "[CV 2/5] END classifier=LinearSVC(max_iter=1000.0, random_state=42, tol=0.001), classifier__C=1.0, classifier__class_weight=None, classifier__penalty=l1, scaler=passthrough;, score=nan total time=   0.0s\n",
      "[CV 3/5] END classifier=LinearSVC(max_iter=1000.0, random_state=42, tol=0.001), classifier__C=1.0, classifier__class_weight=None, classifier__penalty=l1, scaler=passthrough;, score=nan total time=   0.0s\n",
      "[CV 4/5] END classifier=LinearSVC(max_iter=1000.0, random_state=42, tol=0.001), classifier__C=1.0, classifier__class_weight=None, classifier__penalty=l1, scaler=passthrough;, score=nan total time=   0.0s\n",
      "[CV 5/5] END classifier=LinearSVC(max_iter=1000.0, random_state=42, tol=0.001), classifier__C=1.0, classifier__class_weight=None, classifier__penalty=l1, scaler=passthrough;, score=nan total time=   0.0s\n",
      "[CV 1/5] END classifier=LinearSVC(max_iter=1000.0, random_state=42, tol=0.001), classifier__C=1.0, classifier__class_weight=None, classifier__penalty=l1, scaler=StandardScaler();, score=nan total time=   0.0s\n",
      "[CV 2/5] END classifier=LinearSVC(max_iter=1000.0, random_state=42, tol=0.001), classifier__C=1.0, classifier__class_weight=None, classifier__penalty=l1, scaler=StandardScaler();, score=nan total time=   0.0s\n",
      "[CV 3/5] END classifier=LinearSVC(max_iter=1000.0, random_state=42, tol=0.001), classifier__C=1.0, classifier__class_weight=None, classifier__penalty=l1, scaler=StandardScaler();, score=nan total time=   0.0s\n",
      "[CV 4/5] END classifier=LinearSVC(max_iter=1000.0, random_state=42, tol=0.001), classifier__C=1.0, classifier__class_weight=None, classifier__penalty=l1, scaler=StandardScaler();, score=nan total time=   0.0s\n",
      "[CV 5/5] END classifier=LinearSVC(max_iter=1000.0, random_state=42, tol=0.001), classifier__C=1.0, classifier__class_weight=None, classifier__penalty=l1, scaler=StandardScaler();, score=nan total time=   0.0s\n",
      "[CV 1/5] END classifier=LinearSVC(max_iter=1000.0, random_state=42, tol=0.001), classifier__C=1.0, classifier__class_weight=None, classifier__penalty=l2, scaler=passthrough;, score=0.568 total time=   0.1s\n"
     ]
    },
    {
     "name": "stderr",
     "output_type": "stream",
     "text": [
      "/home/felipe/anaconda3/envs/segmentator/lib/python3.7/site-packages/sklearn/svm/_base.py:1208: ConvergenceWarning: Liblinear failed to converge, increase the number of iterations.\n",
      "  ConvergenceWarning,\n",
      "/home/felipe/anaconda3/envs/segmentator/lib/python3.7/site-packages/sklearn/svm/_base.py:1208: ConvergenceWarning: Liblinear failed to converge, increase the number of iterations.\n",
      "  ConvergenceWarning,\n",
      "/home/felipe/anaconda3/envs/segmentator/lib/python3.7/site-packages/sklearn/svm/_base.py:1208: ConvergenceWarning: Liblinear failed to converge, increase the number of iterations.\n",
      "  ConvergenceWarning,\n"
     ]
    },
    {
     "name": "stdout",
     "output_type": "stream",
     "text": [
      "[CV 2/5] END classifier=LinearSVC(max_iter=1000.0, random_state=42, tol=0.001), classifier__C=1.0, classifier__class_weight=None, classifier__penalty=l2, scaler=passthrough;, score=0.514 total time=   0.1s\n",
      "[CV 3/5] END classifier=LinearSVC(max_iter=1000.0, random_state=42, tol=0.001), classifier__C=1.0, classifier__class_weight=None, classifier__penalty=l2, scaler=passthrough;, score=0.499 total time=   0.1s\n",
      "[CV 4/5] END classifier=LinearSVC(max_iter=1000.0, random_state=42, tol=0.001), classifier__C=1.0, classifier__class_weight=None, classifier__penalty=l2, scaler=passthrough;, score=0.591 total time=   0.1s\n"
     ]
    },
    {
     "name": "stderr",
     "output_type": "stream",
     "text": [
      "/home/felipe/anaconda3/envs/segmentator/lib/python3.7/site-packages/sklearn/svm/_base.py:1208: ConvergenceWarning: Liblinear failed to converge, increase the number of iterations.\n",
      "  ConvergenceWarning,\n"
     ]
    },
    {
     "name": "stdout",
     "output_type": "stream",
     "text": [
      "[CV 5/5] END classifier=LinearSVC(max_iter=1000.0, random_state=42, tol=0.001), classifier__C=1.0, classifier__class_weight=None, classifier__penalty=l2, scaler=passthrough;, score=0.496 total time=   0.1s\n"
     ]
    },
    {
     "name": "stderr",
     "output_type": "stream",
     "text": [
      "/home/felipe/anaconda3/envs/segmentator/lib/python3.7/site-packages/sklearn/svm/_base.py:1208: ConvergenceWarning: Liblinear failed to converge, increase the number of iterations.\n",
      "  ConvergenceWarning,\n"
     ]
    },
    {
     "name": "stdout",
     "output_type": "stream",
     "text": [
      "[CV 1/5] END classifier=LinearSVC(max_iter=1000.0, random_state=42, tol=0.001), classifier__C=1.0, classifier__class_weight=None, classifier__penalty=l2, scaler=StandardScaler();, score=0.503 total time=   0.3s\n"
     ]
    },
    {
     "name": "stderr",
     "output_type": "stream",
     "text": [
      "/home/felipe/anaconda3/envs/segmentator/lib/python3.7/site-packages/sklearn/svm/_base.py:1208: ConvergenceWarning: Liblinear failed to converge, increase the number of iterations.\n",
      "  ConvergenceWarning,\n"
     ]
    },
    {
     "name": "stdout",
     "output_type": "stream",
     "text": [
      "[CV 2/5] END classifier=LinearSVC(max_iter=1000.0, random_state=42, tol=0.001), classifier__C=1.0, classifier__class_weight=None, classifier__penalty=l2, scaler=StandardScaler();, score=0.514 total time=   0.3s\n"
     ]
    },
    {
     "name": "stderr",
     "output_type": "stream",
     "text": [
      "/home/felipe/anaconda3/envs/segmentator/lib/python3.7/site-packages/sklearn/svm/_base.py:1208: ConvergenceWarning: Liblinear failed to converge, increase the number of iterations.\n",
      "  ConvergenceWarning,\n"
     ]
    },
    {
     "name": "stdout",
     "output_type": "stream",
     "text": [
      "[CV 3/5] END classifier=LinearSVC(max_iter=1000.0, random_state=42, tol=0.001), classifier__C=1.0, classifier__class_weight=None, classifier__penalty=l2, scaler=StandardScaler();, score=0.514 total time=   0.3s\n"
     ]
    },
    {
     "name": "stderr",
     "output_type": "stream",
     "text": [
      "/home/felipe/anaconda3/envs/segmentator/lib/python3.7/site-packages/sklearn/svm/_base.py:1208: ConvergenceWarning: Liblinear failed to converge, increase the number of iterations.\n",
      "  ConvergenceWarning,\n"
     ]
    },
    {
     "name": "stdout",
     "output_type": "stream",
     "text": [
      "[CV 4/5] END classifier=LinearSVC(max_iter=1000.0, random_state=42, tol=0.001), classifier__C=1.0, classifier__class_weight=None, classifier__penalty=l2, scaler=StandardScaler();, score=0.508 total time=   0.3s\n"
     ]
    },
    {
     "name": "stderr",
     "output_type": "stream",
     "text": [
      "/home/felipe/anaconda3/envs/segmentator/lib/python3.7/site-packages/sklearn/svm/_base.py:1208: ConvergenceWarning: Liblinear failed to converge, increase the number of iterations.\n",
      "  ConvergenceWarning,\n",
      "/home/felipe/anaconda3/envs/segmentator/lib/python3.7/site-packages/sklearn/svm/_base.py:1208: ConvergenceWarning: Liblinear failed to converge, increase the number of iterations.\n",
      "  ConvergenceWarning,\n"
     ]
    },
    {
     "name": "stdout",
     "output_type": "stream",
     "text": [
      "[CV 5/5] END classifier=LinearSVC(max_iter=1000.0, random_state=42, tol=0.001), classifier__C=1.0, classifier__class_weight=None, classifier__penalty=l2, scaler=StandardScaler();, score=0.511 total time=   0.3s\n",
      "[CV 1/5] END classifier=LinearSVC(max_iter=1000.0, random_state=42, tol=0.001), classifier__C=1.0, classifier__class_weight=balanced, classifier__penalty=l1, scaler=passthrough;, score=nan total time=   0.0s\n",
      "[CV 2/5] END classifier=LinearSVC(max_iter=1000.0, random_state=42, tol=0.001), classifier__C=1.0, classifier__class_weight=balanced, classifier__penalty=l1, scaler=passthrough;, score=nan total time=   0.0s\n",
      "[CV 3/5] END classifier=LinearSVC(max_iter=1000.0, random_state=42, tol=0.001), classifier__C=1.0, classifier__class_weight=balanced, classifier__penalty=l1, scaler=passthrough;, score=nan total time=   0.0s\n",
      "[CV 4/5] END classifier=LinearSVC(max_iter=1000.0, random_state=42, tol=0.001), classifier__C=1.0, classifier__class_weight=balanced, classifier__penalty=l1, scaler=passthrough;, score=nan total time=   0.0s\n",
      "[CV 5/5] END classifier=LinearSVC(max_iter=1000.0, random_state=42, tol=0.001), classifier__C=1.0, classifier__class_weight=balanced, classifier__penalty=l1, scaler=passthrough;, score=nan total time=   0.0s\n",
      "[CV 1/5] END classifier=LinearSVC(max_iter=1000.0, random_state=42, tol=0.001), classifier__C=1.0, classifier__class_weight=balanced, classifier__penalty=l1, scaler=StandardScaler();, score=nan total time=   0.0s\n",
      "[CV 2/5] END classifier=LinearSVC(max_iter=1000.0, random_state=42, tol=0.001), classifier__C=1.0, classifier__class_weight=balanced, classifier__penalty=l1, scaler=StandardScaler();, score=nan total time=   0.0s\n",
      "[CV 3/5] END classifier=LinearSVC(max_iter=1000.0, random_state=42, tol=0.001), classifier__C=1.0, classifier__class_weight=balanced, classifier__penalty=l1, scaler=StandardScaler();, score=nan total time=   0.0s\n",
      "[CV 4/5] END classifier=LinearSVC(max_iter=1000.0, random_state=42, tol=0.001), classifier__C=1.0, classifier__class_weight=balanced, classifier__penalty=l1, scaler=StandardScaler();, score=nan total time=   0.0s\n",
      "[CV 5/5] END classifier=LinearSVC(max_iter=1000.0, random_state=42, tol=0.001), classifier__C=1.0, classifier__class_weight=balanced, classifier__penalty=l1, scaler=StandardScaler();, score=nan total time=   0.0s\n",
      "[CV 1/5] END classifier=LinearSVC(max_iter=1000.0, random_state=42, tol=0.001), classifier__C=1.0, classifier__class_weight=balanced, classifier__penalty=l2, scaler=passthrough;, score=0.562 total time=   0.1s\n"
     ]
    },
    {
     "name": "stderr",
     "output_type": "stream",
     "text": [
      "/home/felipe/anaconda3/envs/segmentator/lib/python3.7/site-packages/sklearn/svm/_base.py:1208: ConvergenceWarning: Liblinear failed to converge, increase the number of iterations.\n",
      "  ConvergenceWarning,\n",
      "/home/felipe/anaconda3/envs/segmentator/lib/python3.7/site-packages/sklearn/svm/_base.py:1208: ConvergenceWarning: Liblinear failed to converge, increase the number of iterations.\n",
      "  ConvergenceWarning,\n",
      "/home/felipe/anaconda3/envs/segmentator/lib/python3.7/site-packages/sklearn/svm/_base.py:1208: ConvergenceWarning: Liblinear failed to converge, increase the number of iterations.\n",
      "  ConvergenceWarning,\n"
     ]
    },
    {
     "name": "stdout",
     "output_type": "stream",
     "text": [
      "[CV 2/5] END classifier=LinearSVC(max_iter=1000.0, random_state=42, tol=0.001), classifier__C=1.0, classifier__class_weight=balanced, classifier__penalty=l2, scaler=passthrough;, score=0.536 total time=   0.1s\n",
      "[CV 3/5] END classifier=LinearSVC(max_iter=1000.0, random_state=42, tol=0.001), classifier__C=1.0, classifier__class_weight=balanced, classifier__penalty=l2, scaler=passthrough;, score=0.515 total time=   0.1s\n",
      "[CV 4/5] END classifier=LinearSVC(max_iter=1000.0, random_state=42, tol=0.001), classifier__C=1.0, classifier__class_weight=balanced, classifier__penalty=l2, scaler=passthrough;, score=0.506 total time=   0.1s\n"
     ]
    },
    {
     "name": "stderr",
     "output_type": "stream",
     "text": [
      "/home/felipe/anaconda3/envs/segmentator/lib/python3.7/site-packages/sklearn/svm/_base.py:1208: ConvergenceWarning: Liblinear failed to converge, increase the number of iterations.\n",
      "  ConvergenceWarning,\n"
     ]
    },
    {
     "name": "stdout",
     "output_type": "stream",
     "text": [
      "[CV 5/5] END classifier=LinearSVC(max_iter=1000.0, random_state=42, tol=0.001), classifier__C=1.0, classifier__class_weight=balanced, classifier__penalty=l2, scaler=passthrough;, score=0.621 total time=   0.1s\n"
     ]
    },
    {
     "name": "stderr",
     "output_type": "stream",
     "text": [
      "/home/felipe/anaconda3/envs/segmentator/lib/python3.7/site-packages/sklearn/svm/_base.py:1208: ConvergenceWarning: Liblinear failed to converge, increase the number of iterations.\n",
      "  ConvergenceWarning,\n"
     ]
    },
    {
     "name": "stdout",
     "output_type": "stream",
     "text": [
      "[CV 1/5] END classifier=LinearSVC(max_iter=1000.0, random_state=42, tol=0.001), classifier__C=1.0, classifier__class_weight=balanced, classifier__penalty=l2, scaler=StandardScaler();, score=0.659 total time=   0.3s\n"
     ]
    },
    {
     "name": "stderr",
     "output_type": "stream",
     "text": [
      "/home/felipe/anaconda3/envs/segmentator/lib/python3.7/site-packages/sklearn/svm/_base.py:1208: ConvergenceWarning: Liblinear failed to converge, increase the number of iterations.\n",
      "  ConvergenceWarning,\n"
     ]
    },
    {
     "name": "stdout",
     "output_type": "stream",
     "text": [
      "[CV 2/5] END classifier=LinearSVC(max_iter=1000.0, random_state=42, tol=0.001), classifier__C=1.0, classifier__class_weight=balanced, classifier__penalty=l2, scaler=StandardScaler();, score=0.651 total time=   0.3s\n"
     ]
    },
    {
     "name": "stderr",
     "output_type": "stream",
     "text": [
      "/home/felipe/anaconda3/envs/segmentator/lib/python3.7/site-packages/sklearn/svm/_base.py:1208: ConvergenceWarning: Liblinear failed to converge, increase the number of iterations.\n",
      "  ConvergenceWarning,\n"
     ]
    },
    {
     "name": "stdout",
     "output_type": "stream",
     "text": [
      "[CV 3/5] END classifier=LinearSVC(max_iter=1000.0, random_state=42, tol=0.001), classifier__C=1.0, classifier__class_weight=balanced, classifier__penalty=l2, scaler=StandardScaler();, score=0.649 total time=   0.3s\n"
     ]
    },
    {
     "name": "stderr",
     "output_type": "stream",
     "text": [
      "/home/felipe/anaconda3/envs/segmentator/lib/python3.7/site-packages/sklearn/svm/_base.py:1208: ConvergenceWarning: Liblinear failed to converge, increase the number of iterations.\n",
      "  ConvergenceWarning,\n"
     ]
    },
    {
     "name": "stdout",
     "output_type": "stream",
     "text": [
      "[CV 4/5] END classifier=LinearSVC(max_iter=1000.0, random_state=42, tol=0.001), classifier__C=1.0, classifier__class_weight=balanced, classifier__penalty=l2, scaler=StandardScaler();, score=0.635 total time=   0.3s\n"
     ]
    },
    {
     "name": "stderr",
     "output_type": "stream",
     "text": [
      "/home/felipe/anaconda3/envs/segmentator/lib/python3.7/site-packages/sklearn/svm/_base.py:1208: ConvergenceWarning: Liblinear failed to converge, increase the number of iterations.\n",
      "  ConvergenceWarning,\n",
      "/home/felipe/anaconda3/envs/segmentator/lib/python3.7/site-packages/sklearn/svm/_base.py:1208: ConvergenceWarning: Liblinear failed to converge, increase the number of iterations.\n",
      "  ConvergenceWarning,\n"
     ]
    },
    {
     "name": "stdout",
     "output_type": "stream",
     "text": [
      "[CV 5/5] END classifier=LinearSVC(max_iter=1000.0, random_state=42, tol=0.001), classifier__C=1.0, classifier__class_weight=balanced, classifier__penalty=l2, scaler=StandardScaler();, score=0.651 total time=   0.3s\n",
      "[CV 1/5] END classifier=LinearSVC(max_iter=1000.0, random_state=42, tol=0.001), classifier__C=10.0, classifier__class_weight=None, classifier__penalty=l1, scaler=passthrough;, score=nan total time=   0.0s\n",
      "[CV 2/5] END classifier=LinearSVC(max_iter=1000.0, random_state=42, tol=0.001), classifier__C=10.0, classifier__class_weight=None, classifier__penalty=l1, scaler=passthrough;, score=nan total time=   0.0s\n",
      "[CV 3/5] END classifier=LinearSVC(max_iter=1000.0, random_state=42, tol=0.001), classifier__C=10.0, classifier__class_weight=None, classifier__penalty=l1, scaler=passthrough;, score=nan total time=   0.0s\n",
      "[CV 4/5] END classifier=LinearSVC(max_iter=1000.0, random_state=42, tol=0.001), classifier__C=10.0, classifier__class_weight=None, classifier__penalty=l1, scaler=passthrough;, score=nan total time=   0.0s\n",
      "[CV 5/5] END classifier=LinearSVC(max_iter=1000.0, random_state=42, tol=0.001), classifier__C=10.0, classifier__class_weight=None, classifier__penalty=l1, scaler=passthrough;, score=nan total time=   0.0s\n",
      "[CV 1/5] END classifier=LinearSVC(max_iter=1000.0, random_state=42, tol=0.001), classifier__C=10.0, classifier__class_weight=None, classifier__penalty=l1, scaler=StandardScaler();, score=nan total time=   0.0s\n",
      "[CV 2/5] END classifier=LinearSVC(max_iter=1000.0, random_state=42, tol=0.001), classifier__C=10.0, classifier__class_weight=None, classifier__penalty=l1, scaler=StandardScaler();, score=nan total time=   0.0s\n",
      "[CV 3/5] END classifier=LinearSVC(max_iter=1000.0, random_state=42, tol=0.001), classifier__C=10.0, classifier__class_weight=None, classifier__penalty=l1, scaler=StandardScaler();, score=nan total time=   0.0s\n",
      "[CV 4/5] END classifier=LinearSVC(max_iter=1000.0, random_state=42, tol=0.001), classifier__C=10.0, classifier__class_weight=None, classifier__penalty=l1, scaler=StandardScaler();, score=nan total time=   0.0s\n",
      "[CV 5/5] END classifier=LinearSVC(max_iter=1000.0, random_state=42, tol=0.001), classifier__C=10.0, classifier__class_weight=None, classifier__penalty=l1, scaler=StandardScaler();, score=nan total time=   0.0s\n",
      "[CV 1/5] END classifier=LinearSVC(max_iter=1000.0, random_state=42, tol=0.001), classifier__C=10.0, classifier__class_weight=None, classifier__penalty=l2, scaler=passthrough;, score=0.558 total time=   0.1s\n"
     ]
    },
    {
     "name": "stderr",
     "output_type": "stream",
     "text": [
      "/home/felipe/anaconda3/envs/segmentator/lib/python3.7/site-packages/sklearn/svm/_base.py:1208: ConvergenceWarning: Liblinear failed to converge, increase the number of iterations.\n",
      "  ConvergenceWarning,\n",
      "/home/felipe/anaconda3/envs/segmentator/lib/python3.7/site-packages/sklearn/svm/_base.py:1208: ConvergenceWarning: Liblinear failed to converge, increase the number of iterations.\n",
      "  ConvergenceWarning,\n",
      "/home/felipe/anaconda3/envs/segmentator/lib/python3.7/site-packages/sklearn/svm/_base.py:1208: ConvergenceWarning: Liblinear failed to converge, increase the number of iterations.\n",
      "  ConvergenceWarning,\n"
     ]
    },
    {
     "name": "stdout",
     "output_type": "stream",
     "text": [
      "[CV 2/5] END classifier=LinearSVC(max_iter=1000.0, random_state=42, tol=0.001), classifier__C=10.0, classifier__class_weight=None, classifier__penalty=l2, scaler=passthrough;, score=0.508 total time=   0.1s\n",
      "[CV 3/5] END classifier=LinearSVC(max_iter=1000.0, random_state=42, tol=0.001), classifier__C=10.0, classifier__class_weight=None, classifier__penalty=l2, scaler=passthrough;, score=0.553 total time=   0.1s\n",
      "[CV 4/5] END classifier=LinearSVC(max_iter=1000.0, random_state=42, tol=0.001), classifier__C=10.0, classifier__class_weight=None, classifier__penalty=l2, scaler=passthrough;, score=0.505 total time=   0.1s\n"
     ]
    },
    {
     "name": "stderr",
     "output_type": "stream",
     "text": [
      "/home/felipe/anaconda3/envs/segmentator/lib/python3.7/site-packages/sklearn/svm/_base.py:1208: ConvergenceWarning: Liblinear failed to converge, increase the number of iterations.\n",
      "  ConvergenceWarning,\n"
     ]
    },
    {
     "name": "stdout",
     "output_type": "stream",
     "text": [
      "[CV 5/5] END classifier=LinearSVC(max_iter=1000.0, random_state=42, tol=0.001), classifier__C=10.0, classifier__class_weight=None, classifier__penalty=l2, scaler=passthrough;, score=0.501 total time=   0.1s\n"
     ]
    },
    {
     "name": "stderr",
     "output_type": "stream",
     "text": [
      "/home/felipe/anaconda3/envs/segmentator/lib/python3.7/site-packages/sklearn/svm/_base.py:1208: ConvergenceWarning: Liblinear failed to converge, increase the number of iterations.\n",
      "  ConvergenceWarning,\n"
     ]
    },
    {
     "name": "stdout",
     "output_type": "stream",
     "text": [
      "[CV 1/5] END classifier=LinearSVC(max_iter=1000.0, random_state=42, tol=0.001), classifier__C=10.0, classifier__class_weight=None, classifier__penalty=l2, scaler=StandardScaler();, score=0.520 total time=   0.3s\n"
     ]
    },
    {
     "name": "stderr",
     "output_type": "stream",
     "text": [
      "/home/felipe/anaconda3/envs/segmentator/lib/python3.7/site-packages/sklearn/svm/_base.py:1208: ConvergenceWarning: Liblinear failed to converge, increase the number of iterations.\n",
      "  ConvergenceWarning,\n"
     ]
    },
    {
     "name": "stdout",
     "output_type": "stream",
     "text": [
      "[CV 2/5] END classifier=LinearSVC(max_iter=1000.0, random_state=42, tol=0.001), classifier__C=10.0, classifier__class_weight=None, classifier__penalty=l2, scaler=StandardScaler();, score=0.514 total time=   0.3s\n"
     ]
    },
    {
     "name": "stderr",
     "output_type": "stream",
     "text": [
      "/home/felipe/anaconda3/envs/segmentator/lib/python3.7/site-packages/sklearn/svm/_base.py:1208: ConvergenceWarning: Liblinear failed to converge, increase the number of iterations.\n",
      "  ConvergenceWarning,\n"
     ]
    },
    {
     "name": "stdout",
     "output_type": "stream",
     "text": [
      "[CV 3/5] END classifier=LinearSVC(max_iter=1000.0, random_state=42, tol=0.001), classifier__C=10.0, classifier__class_weight=None, classifier__penalty=l2, scaler=StandardScaler();, score=0.537 total time=   0.3s\n"
     ]
    },
    {
     "name": "stderr",
     "output_type": "stream",
     "text": [
      "/home/felipe/anaconda3/envs/segmentator/lib/python3.7/site-packages/sklearn/svm/_base.py:1208: ConvergenceWarning: Liblinear failed to converge, increase the number of iterations.\n",
      "  ConvergenceWarning,\n"
     ]
    },
    {
     "name": "stdout",
     "output_type": "stream",
     "text": [
      "[CV 4/5] END classifier=LinearSVC(max_iter=1000.0, random_state=42, tol=0.001), classifier__C=10.0, classifier__class_weight=None, classifier__penalty=l2, scaler=StandardScaler();, score=0.511 total time=   0.3s\n"
     ]
    },
    {
     "name": "stderr",
     "output_type": "stream",
     "text": [
      "/home/felipe/anaconda3/envs/segmentator/lib/python3.7/site-packages/sklearn/svm/_base.py:1208: ConvergenceWarning: Liblinear failed to converge, increase the number of iterations.\n",
      "  ConvergenceWarning,\n",
      "/home/felipe/anaconda3/envs/segmentator/lib/python3.7/site-packages/sklearn/svm/_base.py:1208: ConvergenceWarning: Liblinear failed to converge, increase the number of iterations.\n",
      "  ConvergenceWarning,\n"
     ]
    },
    {
     "name": "stdout",
     "output_type": "stream",
     "text": [
      "[CV 5/5] END classifier=LinearSVC(max_iter=1000.0, random_state=42, tol=0.001), classifier__C=10.0, classifier__class_weight=None, classifier__penalty=l2, scaler=StandardScaler();, score=0.533 total time=   0.3s\n",
      "[CV 1/5] END classifier=LinearSVC(max_iter=1000.0, random_state=42, tol=0.001), classifier__C=10.0, classifier__class_weight=balanced, classifier__penalty=l1, scaler=passthrough;, score=nan total time=   0.0s\n",
      "[CV 2/5] END classifier=LinearSVC(max_iter=1000.0, random_state=42, tol=0.001), classifier__C=10.0, classifier__class_weight=balanced, classifier__penalty=l1, scaler=passthrough;, score=nan total time=   0.0s\n",
      "[CV 3/5] END classifier=LinearSVC(max_iter=1000.0, random_state=42, tol=0.001), classifier__C=10.0, classifier__class_weight=balanced, classifier__penalty=l1, scaler=passthrough;, score=nan total time=   0.0s\n",
      "[CV 4/5] END classifier=LinearSVC(max_iter=1000.0, random_state=42, tol=0.001), classifier__C=10.0, classifier__class_weight=balanced, classifier__penalty=l1, scaler=passthrough;, score=nan total time=   0.0s\n",
      "[CV 5/5] END classifier=LinearSVC(max_iter=1000.0, random_state=42, tol=0.001), classifier__C=10.0, classifier__class_weight=balanced, classifier__penalty=l1, scaler=passthrough;, score=nan total time=   0.0s\n",
      "[CV 1/5] END classifier=LinearSVC(max_iter=1000.0, random_state=42, tol=0.001), classifier__C=10.0, classifier__class_weight=balanced, classifier__penalty=l1, scaler=StandardScaler();, score=nan total time=   0.0s\n",
      "[CV 2/5] END classifier=LinearSVC(max_iter=1000.0, random_state=42, tol=0.001), classifier__C=10.0, classifier__class_weight=balanced, classifier__penalty=l1, scaler=StandardScaler();, score=nan total time=   0.0s\n",
      "[CV 3/5] END classifier=LinearSVC(max_iter=1000.0, random_state=42, tol=0.001), classifier__C=10.0, classifier__class_weight=balanced, classifier__penalty=l1, scaler=StandardScaler();, score=nan total time=   0.0s\n",
      "[CV 4/5] END classifier=LinearSVC(max_iter=1000.0, random_state=42, tol=0.001), classifier__C=10.0, classifier__class_weight=balanced, classifier__penalty=l1, scaler=StandardScaler();, score=nan total time=   0.0s\n",
      "[CV 5/5] END classifier=LinearSVC(max_iter=1000.0, random_state=42, tol=0.001), classifier__C=10.0, classifier__class_weight=balanced, classifier__penalty=l1, scaler=StandardScaler();, score=nan total time=   0.0s\n",
      "[CV 1/5] END classifier=LinearSVC(max_iter=1000.0, random_state=42, tol=0.001), classifier__C=10.0, classifier__class_weight=balanced, classifier__penalty=l2, scaler=passthrough;, score=0.504 total time=   0.1s\n"
     ]
    },
    {
     "name": "stderr",
     "output_type": "stream",
     "text": [
      "/home/felipe/anaconda3/envs/segmentator/lib/python3.7/site-packages/sklearn/svm/_base.py:1208: ConvergenceWarning: Liblinear failed to converge, increase the number of iterations.\n",
      "  ConvergenceWarning,\n",
      "/home/felipe/anaconda3/envs/segmentator/lib/python3.7/site-packages/sklearn/svm/_base.py:1208: ConvergenceWarning: Liblinear failed to converge, increase the number of iterations.\n",
      "  ConvergenceWarning,\n",
      "/home/felipe/anaconda3/envs/segmentator/lib/python3.7/site-packages/sklearn/svm/_base.py:1208: ConvergenceWarning: Liblinear failed to converge, increase the number of iterations.\n",
      "  ConvergenceWarning,\n"
     ]
    },
    {
     "name": "stdout",
     "output_type": "stream",
     "text": [
      "[CV 2/5] END classifier=LinearSVC(max_iter=1000.0, random_state=42, tol=0.001), classifier__C=10.0, classifier__class_weight=balanced, classifier__penalty=l2, scaler=passthrough;, score=0.505 total time=   0.1s\n",
      "[CV 3/5] END classifier=LinearSVC(max_iter=1000.0, random_state=42, tol=0.001), classifier__C=10.0, classifier__class_weight=balanced, classifier__penalty=l2, scaler=passthrough;, score=0.540 total time=   0.1s\n",
      "[CV 4/5] END classifier=LinearSVC(max_iter=1000.0, random_state=42, tol=0.001), classifier__C=10.0, classifier__class_weight=balanced, classifier__penalty=l2, scaler=passthrough;, score=0.499 total time=   0.1s\n"
     ]
    },
    {
     "name": "stderr",
     "output_type": "stream",
     "text": [
      "/home/felipe/anaconda3/envs/segmentator/lib/python3.7/site-packages/sklearn/svm/_base.py:1208: ConvergenceWarning: Liblinear failed to converge, increase the number of iterations.\n",
      "  ConvergenceWarning,\n"
     ]
    },
    {
     "name": "stdout",
     "output_type": "stream",
     "text": [
      "[CV 5/5] END classifier=LinearSVC(max_iter=1000.0, random_state=42, tol=0.001), classifier__C=10.0, classifier__class_weight=balanced, classifier__penalty=l2, scaler=passthrough;, score=0.500 total time=   0.1s\n"
     ]
    },
    {
     "name": "stderr",
     "output_type": "stream",
     "text": [
      "/home/felipe/anaconda3/envs/segmentator/lib/python3.7/site-packages/sklearn/svm/_base.py:1208: ConvergenceWarning: Liblinear failed to converge, increase the number of iterations.\n",
      "  ConvergenceWarning,\n"
     ]
    },
    {
     "name": "stdout",
     "output_type": "stream",
     "text": [
      "[CV 1/5] END classifier=LinearSVC(max_iter=1000.0, random_state=42, tol=0.001), classifier__C=10.0, classifier__class_weight=balanced, classifier__penalty=l2, scaler=StandardScaler();, score=0.648 total time=   0.3s\n"
     ]
    },
    {
     "name": "stderr",
     "output_type": "stream",
     "text": [
      "/home/felipe/anaconda3/envs/segmentator/lib/python3.7/site-packages/sklearn/svm/_base.py:1208: ConvergenceWarning: Liblinear failed to converge, increase the number of iterations.\n",
      "  ConvergenceWarning,\n"
     ]
    },
    {
     "name": "stdout",
     "output_type": "stream",
     "text": [
      "[CV 2/5] END classifier=LinearSVC(max_iter=1000.0, random_state=42, tol=0.001), classifier__C=10.0, classifier__class_weight=balanced, classifier__penalty=l2, scaler=StandardScaler();, score=0.629 total time=   0.3s\n"
     ]
    },
    {
     "name": "stderr",
     "output_type": "stream",
     "text": [
      "/home/felipe/anaconda3/envs/segmentator/lib/python3.7/site-packages/sklearn/svm/_base.py:1208: ConvergenceWarning: Liblinear failed to converge, increase the number of iterations.\n",
      "  ConvergenceWarning,\n"
     ]
    },
    {
     "name": "stdout",
     "output_type": "stream",
     "text": [
      "[CV 3/5] END classifier=LinearSVC(max_iter=1000.0, random_state=42, tol=0.001), classifier__C=10.0, classifier__class_weight=balanced, classifier__penalty=l2, scaler=StandardScaler();, score=0.576 total time=   0.3s\n"
     ]
    },
    {
     "name": "stderr",
     "output_type": "stream",
     "text": [
      "/home/felipe/anaconda3/envs/segmentator/lib/python3.7/site-packages/sklearn/svm/_base.py:1208: ConvergenceWarning: Liblinear failed to converge, increase the number of iterations.\n",
      "  ConvergenceWarning,\n"
     ]
    },
    {
     "name": "stdout",
     "output_type": "stream",
     "text": [
      "[CV 4/5] END classifier=LinearSVC(max_iter=1000.0, random_state=42, tol=0.001), classifier__C=10.0, classifier__class_weight=balanced, classifier__penalty=l2, scaler=StandardScaler();, score=0.559 total time=   0.3s\n"
     ]
    },
    {
     "name": "stderr",
     "output_type": "stream",
     "text": [
      "/home/felipe/anaconda3/envs/segmentator/lib/python3.7/site-packages/sklearn/svm/_base.py:1208: ConvergenceWarning: Liblinear failed to converge, increase the number of iterations.\n",
      "  ConvergenceWarning,\n",
      "/home/felipe/anaconda3/envs/segmentator/lib/python3.7/site-packages/sklearn/svm/_base.py:1208: ConvergenceWarning: Liblinear failed to converge, increase the number of iterations.\n",
      "  ConvergenceWarning,\n"
     ]
    },
    {
     "name": "stdout",
     "output_type": "stream",
     "text": [
      "[CV 5/5] END classifier=LinearSVC(max_iter=1000.0, random_state=42, tol=0.001), classifier__C=10.0, classifier__class_weight=balanced, classifier__penalty=l2, scaler=StandardScaler();, score=0.597 total time=   0.3s\n",
      "[CV 1/5] END classifier=LinearSVC(max_iter=1000.0, random_state=42, tol=0.001), classifier__C=100.0, classifier__class_weight=None, classifier__penalty=l1, scaler=passthrough;, score=nan total time=   0.0s\n",
      "[CV 2/5] END classifier=LinearSVC(max_iter=1000.0, random_state=42, tol=0.001), classifier__C=100.0, classifier__class_weight=None, classifier__penalty=l1, scaler=passthrough;, score=nan total time=   0.0s\n",
      "[CV 3/5] END classifier=LinearSVC(max_iter=1000.0, random_state=42, tol=0.001), classifier__C=100.0, classifier__class_weight=None, classifier__penalty=l1, scaler=passthrough;, score=nan total time=   0.0s\n",
      "[CV 4/5] END classifier=LinearSVC(max_iter=1000.0, random_state=42, tol=0.001), classifier__C=100.0, classifier__class_weight=None, classifier__penalty=l1, scaler=passthrough;, score=nan total time=   0.0s\n",
      "[CV 5/5] END classifier=LinearSVC(max_iter=1000.0, random_state=42, tol=0.001), classifier__C=100.0, classifier__class_weight=None, classifier__penalty=l1, scaler=passthrough;, score=nan total time=   0.0s\n",
      "[CV 1/5] END classifier=LinearSVC(max_iter=1000.0, random_state=42, tol=0.001), classifier__C=100.0, classifier__class_weight=None, classifier__penalty=l1, scaler=StandardScaler();, score=nan total time=   0.0s\n",
      "[CV 2/5] END classifier=LinearSVC(max_iter=1000.0, random_state=42, tol=0.001), classifier__C=100.0, classifier__class_weight=None, classifier__penalty=l1, scaler=StandardScaler();, score=nan total time=   0.0s\n",
      "[CV 3/5] END classifier=LinearSVC(max_iter=1000.0, random_state=42, tol=0.001), classifier__C=100.0, classifier__class_weight=None, classifier__penalty=l1, scaler=StandardScaler();, score=nan total time=   0.0s\n",
      "[CV 4/5] END classifier=LinearSVC(max_iter=1000.0, random_state=42, tol=0.001), classifier__C=100.0, classifier__class_weight=None, classifier__penalty=l1, scaler=StandardScaler();, score=nan total time=   0.0s\n",
      "[CV 5/5] END classifier=LinearSVC(max_iter=1000.0, random_state=42, tol=0.001), classifier__C=100.0, classifier__class_weight=None, classifier__penalty=l1, scaler=StandardScaler();, score=nan total time=   0.0s\n",
      "[CV 1/5] END classifier=LinearSVC(max_iter=1000.0, random_state=42, tol=0.001), classifier__C=100.0, classifier__class_weight=None, classifier__penalty=l2, scaler=passthrough;, score=0.566 total time=   0.1s\n"
     ]
    },
    {
     "name": "stderr",
     "output_type": "stream",
     "text": [
      "/home/felipe/anaconda3/envs/segmentator/lib/python3.7/site-packages/sklearn/svm/_base.py:1208: ConvergenceWarning: Liblinear failed to converge, increase the number of iterations.\n",
      "  ConvergenceWarning,\n",
      "/home/felipe/anaconda3/envs/segmentator/lib/python3.7/site-packages/sklearn/svm/_base.py:1208: ConvergenceWarning: Liblinear failed to converge, increase the number of iterations.\n",
      "  ConvergenceWarning,\n",
      "/home/felipe/anaconda3/envs/segmentator/lib/python3.7/site-packages/sklearn/svm/_base.py:1208: ConvergenceWarning: Liblinear failed to converge, increase the number of iterations.\n",
      "  ConvergenceWarning,\n"
     ]
    },
    {
     "name": "stdout",
     "output_type": "stream",
     "text": [
      "[CV 2/5] END classifier=LinearSVC(max_iter=1000.0, random_state=42, tol=0.001), classifier__C=100.0, classifier__class_weight=None, classifier__penalty=l2, scaler=passthrough;, score=0.526 total time=   0.1s\n",
      "[CV 3/5] END classifier=LinearSVC(max_iter=1000.0, random_state=42, tol=0.001), classifier__C=100.0, classifier__class_weight=None, classifier__penalty=l2, scaler=passthrough;, score=0.553 total time=   0.1s\n",
      "[CV 4/5] END classifier=LinearSVC(max_iter=1000.0, random_state=42, tol=0.001), classifier__C=100.0, classifier__class_weight=None, classifier__penalty=l2, scaler=passthrough;, score=0.560 total time=   0.1s\n"
     ]
    },
    {
     "name": "stderr",
     "output_type": "stream",
     "text": [
      "/home/felipe/anaconda3/envs/segmentator/lib/python3.7/site-packages/sklearn/svm/_base.py:1208: ConvergenceWarning: Liblinear failed to converge, increase the number of iterations.\n",
      "  ConvergenceWarning,\n"
     ]
    },
    {
     "name": "stdout",
     "output_type": "stream",
     "text": [
      "[CV 5/5] END classifier=LinearSVC(max_iter=1000.0, random_state=42, tol=0.001), classifier__C=100.0, classifier__class_weight=None, classifier__penalty=l2, scaler=passthrough;, score=0.501 total time=   0.1s\n"
     ]
    },
    {
     "name": "stderr",
     "output_type": "stream",
     "text": [
      "/home/felipe/anaconda3/envs/segmentator/lib/python3.7/site-packages/sklearn/svm/_base.py:1208: ConvergenceWarning: Liblinear failed to converge, increase the number of iterations.\n",
      "  ConvergenceWarning,\n"
     ]
    },
    {
     "name": "stdout",
     "output_type": "stream",
     "text": [
      "[CV 1/5] END classifier=LinearSVC(max_iter=1000.0, random_state=42, tol=0.001), classifier__C=100.0, classifier__class_weight=None, classifier__penalty=l2, scaler=StandardScaler();, score=0.509 total time=   0.3s\n"
     ]
    },
    {
     "name": "stderr",
     "output_type": "stream",
     "text": [
      "/home/felipe/anaconda3/envs/segmentator/lib/python3.7/site-packages/sklearn/svm/_base.py:1208: ConvergenceWarning: Liblinear failed to converge, increase the number of iterations.\n",
      "  ConvergenceWarning,\n"
     ]
    },
    {
     "name": "stdout",
     "output_type": "stream",
     "text": [
      "[CV 2/5] END classifier=LinearSVC(max_iter=1000.0, random_state=42, tol=0.001), classifier__C=100.0, classifier__class_weight=None, classifier__penalty=l2, scaler=StandardScaler();, score=0.557 total time=   0.3s\n"
     ]
    },
    {
     "name": "stderr",
     "output_type": "stream",
     "text": [
      "/home/felipe/anaconda3/envs/segmentator/lib/python3.7/site-packages/sklearn/svm/_base.py:1208: ConvergenceWarning: Liblinear failed to converge, increase the number of iterations.\n",
      "  ConvergenceWarning,\n"
     ]
    },
    {
     "name": "stdout",
     "output_type": "stream",
     "text": [
      "[CV 3/5] END classifier=LinearSVC(max_iter=1000.0, random_state=42, tol=0.001), classifier__C=100.0, classifier__class_weight=None, classifier__penalty=l2, scaler=StandardScaler();, score=0.631 total time=   0.3s\n"
     ]
    },
    {
     "name": "stderr",
     "output_type": "stream",
     "text": [
      "/home/felipe/anaconda3/envs/segmentator/lib/python3.7/site-packages/sklearn/svm/_base.py:1208: ConvergenceWarning: Liblinear failed to converge, increase the number of iterations.\n",
      "  ConvergenceWarning,\n"
     ]
    },
    {
     "name": "stdout",
     "output_type": "stream",
     "text": [
      "[CV 4/5] END classifier=LinearSVC(max_iter=1000.0, random_state=42, tol=0.001), classifier__C=100.0, classifier__class_weight=None, classifier__penalty=l2, scaler=StandardScaler();, score=0.533 total time=   0.3s\n"
     ]
    },
    {
     "name": "stderr",
     "output_type": "stream",
     "text": [
      "/home/felipe/anaconda3/envs/segmentator/lib/python3.7/site-packages/sklearn/svm/_base.py:1208: ConvergenceWarning: Liblinear failed to converge, increase the number of iterations.\n",
      "  ConvergenceWarning,\n",
      "/home/felipe/anaconda3/envs/segmentator/lib/python3.7/site-packages/sklearn/svm/_base.py:1208: ConvergenceWarning: Liblinear failed to converge, increase the number of iterations.\n",
      "  ConvergenceWarning,\n"
     ]
    },
    {
     "name": "stdout",
     "output_type": "stream",
     "text": [
      "[CV 5/5] END classifier=LinearSVC(max_iter=1000.0, random_state=42, tol=0.001), classifier__C=100.0, classifier__class_weight=None, classifier__penalty=l2, scaler=StandardScaler();, score=0.505 total time=   0.3s\n",
      "[CV 1/5] END classifier=LinearSVC(max_iter=1000.0, random_state=42, tol=0.001), classifier__C=100.0, classifier__class_weight=balanced, classifier__penalty=l1, scaler=passthrough;, score=nan total time=   0.0s\n",
      "[CV 2/5] END classifier=LinearSVC(max_iter=1000.0, random_state=42, tol=0.001), classifier__C=100.0, classifier__class_weight=balanced, classifier__penalty=l1, scaler=passthrough;, score=nan total time=   0.0s\n",
      "[CV 3/5] END classifier=LinearSVC(max_iter=1000.0, random_state=42, tol=0.001), classifier__C=100.0, classifier__class_weight=balanced, classifier__penalty=l1, scaler=passthrough;, score=nan total time=   0.0s\n",
      "[CV 4/5] END classifier=LinearSVC(max_iter=1000.0, random_state=42, tol=0.001), classifier__C=100.0, classifier__class_weight=balanced, classifier__penalty=l1, scaler=passthrough;, score=nan total time=   0.0s\n",
      "[CV 5/5] END classifier=LinearSVC(max_iter=1000.0, random_state=42, tol=0.001), classifier__C=100.0, classifier__class_weight=balanced, classifier__penalty=l1, scaler=passthrough;, score=nan total time=   0.0s\n",
      "[CV 1/5] END classifier=LinearSVC(max_iter=1000.0, random_state=42, tol=0.001), classifier__C=100.0, classifier__class_weight=balanced, classifier__penalty=l1, scaler=StandardScaler();, score=nan total time=   0.0s\n",
      "[CV 2/5] END classifier=LinearSVC(max_iter=1000.0, random_state=42, tol=0.001), classifier__C=100.0, classifier__class_weight=balanced, classifier__penalty=l1, scaler=StandardScaler();, score=nan total time=   0.0s\n",
      "[CV 3/5] END classifier=LinearSVC(max_iter=1000.0, random_state=42, tol=0.001), classifier__C=100.0, classifier__class_weight=balanced, classifier__penalty=l1, scaler=StandardScaler();, score=nan total time=   0.0s\n",
      "[CV 4/5] END classifier=LinearSVC(max_iter=1000.0, random_state=42, tol=0.001), classifier__C=100.0, classifier__class_weight=balanced, classifier__penalty=l1, scaler=StandardScaler();, score=nan total time=   0.0s\n",
      "[CV 5/5] END classifier=LinearSVC(max_iter=1000.0, random_state=42, tol=0.001), classifier__C=100.0, classifier__class_weight=balanced, classifier__penalty=l1, scaler=StandardScaler();, score=nan total time=   0.0s\n",
      "[CV 1/5] END classifier=LinearSVC(max_iter=1000.0, random_state=42, tol=0.001), classifier__C=100.0, classifier__class_weight=balanced, classifier__penalty=l2, scaler=passthrough;, score=0.566 total time=   0.1s\n"
     ]
    },
    {
     "name": "stderr",
     "output_type": "stream",
     "text": [
      "/home/felipe/anaconda3/envs/segmentator/lib/python3.7/site-packages/sklearn/svm/_base.py:1208: ConvergenceWarning: Liblinear failed to converge, increase the number of iterations.\n",
      "  ConvergenceWarning,\n",
      "/home/felipe/anaconda3/envs/segmentator/lib/python3.7/site-packages/sklearn/svm/_base.py:1208: ConvergenceWarning: Liblinear failed to converge, increase the number of iterations.\n",
      "  ConvergenceWarning,\n"
     ]
    },
    {
     "name": "stdout",
     "output_type": "stream",
     "text": [
      "[CV 2/5] END classifier=LinearSVC(max_iter=1000.0, random_state=42, tol=0.001), classifier__C=100.0, classifier__class_weight=balanced, classifier__penalty=l2, scaler=passthrough;, score=0.501 total time=   0.1s\n",
      "[CV 3/5] END classifier=LinearSVC(max_iter=1000.0, random_state=42, tol=0.001), classifier__C=100.0, classifier__class_weight=balanced, classifier__penalty=l2, scaler=passthrough;, score=0.553 total time=   0.1s\n"
     ]
    },
    {
     "name": "stderr",
     "output_type": "stream",
     "text": [
      "/home/felipe/anaconda3/envs/segmentator/lib/python3.7/site-packages/sklearn/svm/_base.py:1208: ConvergenceWarning: Liblinear failed to converge, increase the number of iterations.\n",
      "  ConvergenceWarning,\n",
      "/home/felipe/anaconda3/envs/segmentator/lib/python3.7/site-packages/sklearn/svm/_base.py:1208: ConvergenceWarning: Liblinear failed to converge, increase the number of iterations.\n",
      "  ConvergenceWarning,\n"
     ]
    },
    {
     "name": "stdout",
     "output_type": "stream",
     "text": [
      "[CV 4/5] END classifier=LinearSVC(max_iter=1000.0, random_state=42, tol=0.001), classifier__C=100.0, classifier__class_weight=balanced, classifier__penalty=l2, scaler=passthrough;, score=0.559 total time=   0.1s\n",
      "[CV 5/5] END classifier=LinearSVC(max_iter=1000.0, random_state=42, tol=0.001), classifier__C=100.0, classifier__class_weight=balanced, classifier__penalty=l2, scaler=passthrough;, score=0.501 total time=   0.1s\n"
     ]
    },
    {
     "name": "stderr",
     "output_type": "stream",
     "text": [
      "/home/felipe/anaconda3/envs/segmentator/lib/python3.7/site-packages/sklearn/svm/_base.py:1208: ConvergenceWarning: Liblinear failed to converge, increase the number of iterations.\n",
      "  ConvergenceWarning,\n"
     ]
    },
    {
     "name": "stdout",
     "output_type": "stream",
     "text": [
      "[CV 1/5] END classifier=LinearSVC(max_iter=1000.0, random_state=42, tol=0.001), classifier__C=100.0, classifier__class_weight=balanced, classifier__penalty=l2, scaler=StandardScaler();, score=0.588 total time=   0.3s\n"
     ]
    },
    {
     "name": "stderr",
     "output_type": "stream",
     "text": [
      "/home/felipe/anaconda3/envs/segmentator/lib/python3.7/site-packages/sklearn/svm/_base.py:1208: ConvergenceWarning: Liblinear failed to converge, increase the number of iterations.\n",
      "  ConvergenceWarning,\n"
     ]
    },
    {
     "name": "stdout",
     "output_type": "stream",
     "text": [
      "[CV 2/5] END classifier=LinearSVC(max_iter=1000.0, random_state=42, tol=0.001), classifier__C=100.0, classifier__class_weight=balanced, classifier__penalty=l2, scaler=StandardScaler();, score=0.527 total time=   0.3s\n"
     ]
    },
    {
     "name": "stderr",
     "output_type": "stream",
     "text": [
      "/home/felipe/anaconda3/envs/segmentator/lib/python3.7/site-packages/sklearn/svm/_base.py:1208: ConvergenceWarning: Liblinear failed to converge, increase the number of iterations.\n",
      "  ConvergenceWarning,\n"
     ]
    },
    {
     "name": "stdout",
     "output_type": "stream",
     "text": [
      "[CV 3/5] END classifier=LinearSVC(max_iter=1000.0, random_state=42, tol=0.001), classifier__C=100.0, classifier__class_weight=balanced, classifier__penalty=l2, scaler=StandardScaler();, score=0.505 total time=   0.3s\n"
     ]
    },
    {
     "name": "stderr",
     "output_type": "stream",
     "text": [
      "/home/felipe/anaconda3/envs/segmentator/lib/python3.7/site-packages/sklearn/svm/_base.py:1208: ConvergenceWarning: Liblinear failed to converge, increase the number of iterations.\n",
      "  ConvergenceWarning,\n"
     ]
    },
    {
     "name": "stdout",
     "output_type": "stream",
     "text": [
      "[CV 4/5] END classifier=LinearSVC(max_iter=1000.0, random_state=42, tol=0.001), classifier__C=100.0, classifier__class_weight=balanced, classifier__penalty=l2, scaler=StandardScaler();, score=0.514 total time=   0.3s\n"
     ]
    },
    {
     "name": "stderr",
     "output_type": "stream",
     "text": [
      "/home/felipe/anaconda3/envs/segmentator/lib/python3.7/site-packages/sklearn/svm/_base.py:1208: ConvergenceWarning: Liblinear failed to converge, increase the number of iterations.\n",
      "  ConvergenceWarning,\n",
      "/home/felipe/anaconda3/envs/segmentator/lib/python3.7/site-packages/sklearn/svm/_base.py:1208: ConvergenceWarning: Liblinear failed to converge, increase the number of iterations.\n",
      "  ConvergenceWarning,\n"
     ]
    },
    {
     "name": "stdout",
     "output_type": "stream",
     "text": [
      "[CV 5/5] END classifier=LinearSVC(max_iter=1000.0, random_state=42, tol=0.001), classifier__C=100.0, classifier__class_weight=balanced, classifier__penalty=l2, scaler=StandardScaler();, score=0.546 total time=   0.3s\n",
      "[CV 1/5] END classifier=LinearSVC(max_iter=1000.0, random_state=42, tol=0.001), classifier__C=1000.0, classifier__class_weight=None, classifier__penalty=l1, scaler=passthrough;, score=nan total time=   0.0s\n",
      "[CV 2/5] END classifier=LinearSVC(max_iter=1000.0, random_state=42, tol=0.001), classifier__C=1000.0, classifier__class_weight=None, classifier__penalty=l1, scaler=passthrough;, score=nan total time=   0.0s\n",
      "[CV 3/5] END classifier=LinearSVC(max_iter=1000.0, random_state=42, tol=0.001), classifier__C=1000.0, classifier__class_weight=None, classifier__penalty=l1, scaler=passthrough;, score=nan total time=   0.0s\n",
      "[CV 4/5] END classifier=LinearSVC(max_iter=1000.0, random_state=42, tol=0.001), classifier__C=1000.0, classifier__class_weight=None, classifier__penalty=l1, scaler=passthrough;, score=nan total time=   0.0s\n",
      "[CV 5/5] END classifier=LinearSVC(max_iter=1000.0, random_state=42, tol=0.001), classifier__C=1000.0, classifier__class_weight=None, classifier__penalty=l1, scaler=passthrough;, score=nan total time=   0.0s\n",
      "[CV 1/5] END classifier=LinearSVC(max_iter=1000.0, random_state=42, tol=0.001), classifier__C=1000.0, classifier__class_weight=None, classifier__penalty=l1, scaler=StandardScaler();, score=nan total time=   0.0s\n",
      "[CV 2/5] END classifier=LinearSVC(max_iter=1000.0, random_state=42, tol=0.001), classifier__C=1000.0, classifier__class_weight=None, classifier__penalty=l1, scaler=StandardScaler();, score=nan total time=   0.0s\n",
      "[CV 3/5] END classifier=LinearSVC(max_iter=1000.0, random_state=42, tol=0.001), classifier__C=1000.0, classifier__class_weight=None, classifier__penalty=l1, scaler=StandardScaler();, score=nan total time=   0.0s\n",
      "[CV 4/5] END classifier=LinearSVC(max_iter=1000.0, random_state=42, tol=0.001), classifier__C=1000.0, classifier__class_weight=None, classifier__penalty=l1, scaler=StandardScaler();, score=nan total time=   0.0s\n",
      "[CV 5/5] END classifier=LinearSVC(max_iter=1000.0, random_state=42, tol=0.001), classifier__C=1000.0, classifier__class_weight=None, classifier__penalty=l1, scaler=StandardScaler();, score=nan total time=   0.0s\n",
      "[CV 1/5] END classifier=LinearSVC(max_iter=1000.0, random_state=42, tol=0.001), classifier__C=1000.0, classifier__class_weight=None, classifier__penalty=l2, scaler=passthrough;, score=0.566 total time=   0.1s\n"
     ]
    },
    {
     "name": "stderr",
     "output_type": "stream",
     "text": [
      "/home/felipe/anaconda3/envs/segmentator/lib/python3.7/site-packages/sklearn/svm/_base.py:1208: ConvergenceWarning: Liblinear failed to converge, increase the number of iterations.\n",
      "  ConvergenceWarning,\n",
      "/home/felipe/anaconda3/envs/segmentator/lib/python3.7/site-packages/sklearn/svm/_base.py:1208: ConvergenceWarning: Liblinear failed to converge, increase the number of iterations.\n",
      "  ConvergenceWarning,\n",
      "/home/felipe/anaconda3/envs/segmentator/lib/python3.7/site-packages/sklearn/svm/_base.py:1208: ConvergenceWarning: Liblinear failed to converge, increase the number of iterations.\n",
      "  ConvergenceWarning,\n"
     ]
    },
    {
     "name": "stdout",
     "output_type": "stream",
     "text": [
      "[CV 2/5] END classifier=LinearSVC(max_iter=1000.0, random_state=42, tol=0.001), classifier__C=1000.0, classifier__class_weight=None, classifier__penalty=l2, scaler=passthrough;, score=0.524 total time=   0.1s\n",
      "[CV 3/5] END classifier=LinearSVC(max_iter=1000.0, random_state=42, tol=0.001), classifier__C=1000.0, classifier__class_weight=None, classifier__penalty=l2, scaler=passthrough;, score=0.553 total time=   0.1s\n",
      "[CV 4/5] END classifier=LinearSVC(max_iter=1000.0, random_state=42, tol=0.001), classifier__C=1000.0, classifier__class_weight=None, classifier__penalty=l2, scaler=passthrough;, score=0.559 total time=   0.1s\n"
     ]
    },
    {
     "name": "stderr",
     "output_type": "stream",
     "text": [
      "/home/felipe/anaconda3/envs/segmentator/lib/python3.7/site-packages/sklearn/svm/_base.py:1208: ConvergenceWarning: Liblinear failed to converge, increase the number of iterations.\n",
      "  ConvergenceWarning,\n"
     ]
    },
    {
     "name": "stdout",
     "output_type": "stream",
     "text": [
      "[CV 5/5] END classifier=LinearSVC(max_iter=1000.0, random_state=42, tol=0.001), classifier__C=1000.0, classifier__class_weight=None, classifier__penalty=l2, scaler=passthrough;, score=0.501 total time=   0.1s\n"
     ]
    },
    {
     "name": "stderr",
     "output_type": "stream",
     "text": [
      "/home/felipe/anaconda3/envs/segmentator/lib/python3.7/site-packages/sklearn/svm/_base.py:1208: ConvergenceWarning: Liblinear failed to converge, increase the number of iterations.\n",
      "  ConvergenceWarning,\n"
     ]
    },
    {
     "name": "stdout",
     "output_type": "stream",
     "text": [
      "[CV 1/5] END classifier=LinearSVC(max_iter=1000.0, random_state=42, tol=0.001), classifier__C=1000.0, classifier__class_weight=None, classifier__penalty=l2, scaler=StandardScaler();, score=0.525 total time=   0.4s\n"
     ]
    },
    {
     "name": "stderr",
     "output_type": "stream",
     "text": [
      "/home/felipe/anaconda3/envs/segmentator/lib/python3.7/site-packages/sklearn/svm/_base.py:1208: ConvergenceWarning: Liblinear failed to converge, increase the number of iterations.\n",
      "  ConvergenceWarning,\n"
     ]
    },
    {
     "name": "stdout",
     "output_type": "stream",
     "text": [
      "[CV 2/5] END classifier=LinearSVC(max_iter=1000.0, random_state=42, tol=0.001), classifier__C=1000.0, classifier__class_weight=None, classifier__penalty=l2, scaler=StandardScaler();, score=0.521 total time=   0.3s\n"
     ]
    },
    {
     "name": "stderr",
     "output_type": "stream",
     "text": [
      "/home/felipe/anaconda3/envs/segmentator/lib/python3.7/site-packages/sklearn/svm/_base.py:1208: ConvergenceWarning: Liblinear failed to converge, increase the number of iterations.\n",
      "  ConvergenceWarning,\n"
     ]
    },
    {
     "name": "stdout",
     "output_type": "stream",
     "text": [
      "[CV 3/5] END classifier=LinearSVC(max_iter=1000.0, random_state=42, tol=0.001), classifier__C=1000.0, classifier__class_weight=None, classifier__penalty=l2, scaler=StandardScaler();, score=0.533 total time=   0.3s\n"
     ]
    },
    {
     "name": "stderr",
     "output_type": "stream",
     "text": [
      "/home/felipe/anaconda3/envs/segmentator/lib/python3.7/site-packages/sklearn/svm/_base.py:1208: ConvergenceWarning: Liblinear failed to converge, increase the number of iterations.\n",
      "  ConvergenceWarning,\n"
     ]
    },
    {
     "name": "stdout",
     "output_type": "stream",
     "text": [
      "[CV 4/5] END classifier=LinearSVC(max_iter=1000.0, random_state=42, tol=0.001), classifier__C=1000.0, classifier__class_weight=None, classifier__penalty=l2, scaler=StandardScaler();, score=0.473 total time=   0.3s\n"
     ]
    },
    {
     "name": "stderr",
     "output_type": "stream",
     "text": [
      "/home/felipe/anaconda3/envs/segmentator/lib/python3.7/site-packages/sklearn/svm/_base.py:1208: ConvergenceWarning: Liblinear failed to converge, increase the number of iterations.\n",
      "  ConvergenceWarning,\n",
      "/home/felipe/anaconda3/envs/segmentator/lib/python3.7/site-packages/sklearn/svm/_base.py:1208: ConvergenceWarning: Liblinear failed to converge, increase the number of iterations.\n",
      "  ConvergenceWarning,\n"
     ]
    },
    {
     "name": "stdout",
     "output_type": "stream",
     "text": [
      "[CV 5/5] END classifier=LinearSVC(max_iter=1000.0, random_state=42, tol=0.001), classifier__C=1000.0, classifier__class_weight=None, classifier__penalty=l2, scaler=StandardScaler();, score=0.586 total time=   0.3s\n",
      "[CV 1/5] END classifier=LinearSVC(max_iter=1000.0, random_state=42, tol=0.001), classifier__C=1000.0, classifier__class_weight=balanced, classifier__penalty=l1, scaler=passthrough;, score=nan total time=   0.0s\n",
      "[CV 2/5] END classifier=LinearSVC(max_iter=1000.0, random_state=42, tol=0.001), classifier__C=1000.0, classifier__class_weight=balanced, classifier__penalty=l1, scaler=passthrough;, score=nan total time=   0.0s\n",
      "[CV 3/5] END classifier=LinearSVC(max_iter=1000.0, random_state=42, tol=0.001), classifier__C=1000.0, classifier__class_weight=balanced, classifier__penalty=l1, scaler=passthrough;, score=nan total time=   0.0s\n",
      "[CV 4/5] END classifier=LinearSVC(max_iter=1000.0, random_state=42, tol=0.001), classifier__C=1000.0, classifier__class_weight=balanced, classifier__penalty=l1, scaler=passthrough;, score=nan total time=   0.0s\n",
      "[CV 5/5] END classifier=LinearSVC(max_iter=1000.0, random_state=42, tol=0.001), classifier__C=1000.0, classifier__class_weight=balanced, classifier__penalty=l1, scaler=passthrough;, score=nan total time=   0.0s\n",
      "[CV 1/5] END classifier=LinearSVC(max_iter=1000.0, random_state=42, tol=0.001), classifier__C=1000.0, classifier__class_weight=balanced, classifier__penalty=l1, scaler=StandardScaler();, score=nan total time=   0.0s\n",
      "[CV 2/5] END classifier=LinearSVC(max_iter=1000.0, random_state=42, tol=0.001), classifier__C=1000.0, classifier__class_weight=balanced, classifier__penalty=l1, scaler=StandardScaler();, score=nan total time=   0.0s\n",
      "[CV 3/5] END classifier=LinearSVC(max_iter=1000.0, random_state=42, tol=0.001), classifier__C=1000.0, classifier__class_weight=balanced, classifier__penalty=l1, scaler=StandardScaler();, score=nan total time=   0.0s\n",
      "[CV 4/5] END classifier=LinearSVC(max_iter=1000.0, random_state=42, tol=0.001), classifier__C=1000.0, classifier__class_weight=balanced, classifier__penalty=l1, scaler=StandardScaler();, score=nan total time=   0.0s\n",
      "[CV 5/5] END classifier=LinearSVC(max_iter=1000.0, random_state=42, tol=0.001), classifier__C=1000.0, classifier__class_weight=balanced, classifier__penalty=l1, scaler=StandardScaler();, score=nan total time=   0.0s\n",
      "[CV 1/5] END classifier=LinearSVC(max_iter=1000.0, random_state=42, tol=0.001), classifier__C=1000.0, classifier__class_weight=balanced, classifier__penalty=l2, scaler=passthrough;, score=0.566 total time=   0.1s\n"
     ]
    },
    {
     "name": "stderr",
     "output_type": "stream",
     "text": [
      "/home/felipe/anaconda3/envs/segmentator/lib/python3.7/site-packages/sklearn/svm/_base.py:1208: ConvergenceWarning: Liblinear failed to converge, increase the number of iterations.\n",
      "  ConvergenceWarning,\n",
      "/home/felipe/anaconda3/envs/segmentator/lib/python3.7/site-packages/sklearn/svm/_base.py:1208: ConvergenceWarning: Liblinear failed to converge, increase the number of iterations.\n",
      "  ConvergenceWarning,\n",
      "/home/felipe/anaconda3/envs/segmentator/lib/python3.7/site-packages/sklearn/svm/_base.py:1208: ConvergenceWarning: Liblinear failed to converge, increase the number of iterations.\n",
      "  ConvergenceWarning,\n"
     ]
    },
    {
     "name": "stdout",
     "output_type": "stream",
     "text": [
      "[CV 2/5] END classifier=LinearSVC(max_iter=1000.0, random_state=42, tol=0.001), classifier__C=1000.0, classifier__class_weight=balanced, classifier__penalty=l2, scaler=passthrough;, score=0.524 total time=   0.1s\n",
      "[CV 3/5] END classifier=LinearSVC(max_iter=1000.0, random_state=42, tol=0.001), classifier__C=1000.0, classifier__class_weight=balanced, classifier__penalty=l2, scaler=passthrough;, score=0.553 total time=   0.1s\n",
      "[CV 4/5] END classifier=LinearSVC(max_iter=1000.0, random_state=42, tol=0.001), classifier__C=1000.0, classifier__class_weight=balanced, classifier__penalty=l2, scaler=passthrough;, score=0.559 total time=   0.1s\n"
     ]
    },
    {
     "name": "stderr",
     "output_type": "stream",
     "text": [
      "/home/felipe/anaconda3/envs/segmentator/lib/python3.7/site-packages/sklearn/svm/_base.py:1208: ConvergenceWarning: Liblinear failed to converge, increase the number of iterations.\n",
      "  ConvergenceWarning,\n"
     ]
    },
    {
     "name": "stdout",
     "output_type": "stream",
     "text": [
      "[CV 5/5] END classifier=LinearSVC(max_iter=1000.0, random_state=42, tol=0.001), classifier__C=1000.0, classifier__class_weight=balanced, classifier__penalty=l2, scaler=passthrough;, score=0.501 total time=   0.1s\n"
     ]
    },
    {
     "name": "stderr",
     "output_type": "stream",
     "text": [
      "/home/felipe/anaconda3/envs/segmentator/lib/python3.7/site-packages/sklearn/svm/_base.py:1208: ConvergenceWarning: Liblinear failed to converge, increase the number of iterations.\n",
      "  ConvergenceWarning,\n"
     ]
    },
    {
     "name": "stdout",
     "output_type": "stream",
     "text": [
      "[CV 1/5] END classifier=LinearSVC(max_iter=1000.0, random_state=42, tol=0.001), classifier__C=1000.0, classifier__class_weight=balanced, classifier__penalty=l2, scaler=StandardScaler();, score=0.498 total time=   0.3s\n"
     ]
    },
    {
     "name": "stderr",
     "output_type": "stream",
     "text": [
      "/home/felipe/anaconda3/envs/segmentator/lib/python3.7/site-packages/sklearn/svm/_base.py:1208: ConvergenceWarning: Liblinear failed to converge, increase the number of iterations.\n",
      "  ConvergenceWarning,\n"
     ]
    },
    {
     "name": "stdout",
     "output_type": "stream",
     "text": [
      "[CV 2/5] END classifier=LinearSVC(max_iter=1000.0, random_state=42, tol=0.001), classifier__C=1000.0, classifier__class_weight=balanced, classifier__penalty=l2, scaler=StandardScaler();, score=0.529 total time=   0.3s\n"
     ]
    },
    {
     "name": "stderr",
     "output_type": "stream",
     "text": [
      "/home/felipe/anaconda3/envs/segmentator/lib/python3.7/site-packages/sklearn/svm/_base.py:1208: ConvergenceWarning: Liblinear failed to converge, increase the number of iterations.\n",
      "  ConvergenceWarning,\n"
     ]
    },
    {
     "name": "stdout",
     "output_type": "stream",
     "text": [
      "[CV 3/5] END classifier=LinearSVC(max_iter=1000.0, random_state=42, tol=0.001), classifier__C=1000.0, classifier__class_weight=balanced, classifier__penalty=l2, scaler=StandardScaler();, score=0.556 total time=   0.3s\n"
     ]
    },
    {
     "name": "stderr",
     "output_type": "stream",
     "text": [
      "/home/felipe/anaconda3/envs/segmentator/lib/python3.7/site-packages/sklearn/svm/_base.py:1208: ConvergenceWarning: Liblinear failed to converge, increase the number of iterations.\n",
      "  ConvergenceWarning,\n"
     ]
    },
    {
     "name": "stdout",
     "output_type": "stream",
     "text": [
      "[CV 4/5] END classifier=LinearSVC(max_iter=1000.0, random_state=42, tol=0.001), classifier__C=1000.0, classifier__class_weight=balanced, classifier__penalty=l2, scaler=StandardScaler();, score=0.521 total time=   0.3s\n",
      "[CV 5/5] END classifier=LinearSVC(max_iter=1000.0, random_state=42, tol=0.001), classifier__C=1000.0, classifier__class_weight=balanced, classifier__penalty=l2, scaler=StandardScaler();, score=0.545 total time=   0.3s\n",
      "________________________________________________________________________________\n",
      "[Memory] Calling sklearn.pipeline._fit_transform_one...\n",
      "_fit_transform_one(StandardScaler(),        airplane     animal    apparel    arcade  armchair    ashcan  \\\n",
      "918    4.605611  21.470133  30.503337  0.028992  1.017253  0.056966   \n",
      "1618   0.341288  12.695821  35.030111  0.000000  0.428263  0.000000   \n",
      "2375   0.000000  65.798950   9.904480  0.000000  0.000000  0.000000   \n",
      "2640   0.000000  64.254252   0.000000  0.000000  0.000000  0.000000   \n",
      "2407   5.784607  19.221497  24.440002  0.000000  4.872640  0.000000   \n",
      "...         ...        ...        ...       ...       ...       ...   \n",
      "855    3.665161  15.970866  34.589640  0.000000  3.972371  0.000000   \n",
      "1028  22.267151  29.663086   9.138997  3.861491  0.000000  3.114827   \n",
      "416    3.686523  51.182556  14.709473  0.000000  0.000000  0...., \n",
      "918     0\n",
      "1618    0\n",
      "2375    0\n",
      "2640    1\n",
      "2407    0\n",
      "       ..\n",
      "855     0\n",
      "1028    0\n",
      "416     0\n",
      "468     0\n",
      "185     1\n",
      "Name: labels, Length: 2927, dtype: int64, \n",
      "None, message_clsname='Pipeline', message=None)\n",
      "________________________________________________fit_transform_one - 0.0s, 0.0min\n"
     ]
    },
    {
     "name": "stderr",
     "output_type": "stream",
     "text": [
      "/home/felipe/anaconda3/envs/segmentator/lib/python3.7/site-packages/sklearn/svm/_base.py:1208: ConvergenceWarning: Liblinear failed to converge, increase the number of iterations.\n",
      "  ConvergenceWarning,\n",
      "/home/felipe/anaconda3/envs/segmentator/lib/python3.7/site-packages/sklearn/model_selection/_validation.py:372: FitFailedWarning: \n",
      "280 fits failed out of a total of 700.\n",
      "The score on these train-test partitions for these parameters will be set to nan.\n",
      "If these failures are not expected, you can try to debug them by setting error_score='raise'.\n",
      "\n",
      "Below are more details about the failures:\n",
      "--------------------------------------------------------------------------------\n",
      "140 fits failed with the following error:\n",
      "Traceback (most recent call last):\n",
      "  File \"/home/felipe/anaconda3/envs/segmentator/lib/python3.7/site-packages/sklearn/model_selection/_validation.py\", line 680, in _fit_and_score\n",
      "    estimator.fit(X_train, y_train, **fit_params)\n",
      "  File \"/home/felipe/anaconda3/envs/segmentator/lib/python3.7/site-packages/sklearn/pipeline.py\", line 394, in fit\n",
      "    self._final_estimator.fit(Xt, y, **fit_params_last_step)\n",
      "  File \"/home/felipe/anaconda3/envs/segmentator/lib/python3.7/site-packages/sklearn/linear_model/_logistic.py\", line 1461, in fit\n",
      "    solver = _check_solver(self.solver, self.penalty, self.dual)\n",
      "  File \"/home/felipe/anaconda3/envs/segmentator/lib/python3.7/site-packages/sklearn/linear_model/_logistic.py\", line 449, in _check_solver\n",
      "    % (solver, penalty)\n",
      "ValueError: Solver lbfgs supports only 'l2' or 'none' penalties, got l1 penalty.\n",
      "\n",
      "--------------------------------------------------------------------------------\n",
      "140 fits failed with the following error:\n",
      "Traceback (most recent call last):\n",
      "  File \"/home/felipe/anaconda3/envs/segmentator/lib/python3.7/site-packages/sklearn/model_selection/_validation.py\", line 680, in _fit_and_score\n",
      "    estimator.fit(X_train, y_train, **fit_params)\n",
      "  File \"/home/felipe/anaconda3/envs/segmentator/lib/python3.7/site-packages/sklearn/pipeline.py\", line 394, in fit\n",
      "    self._final_estimator.fit(Xt, y, **fit_params_last_step)\n",
      "  File \"/home/felipe/anaconda3/envs/segmentator/lib/python3.7/site-packages/sklearn/svm/_classes.py\", line 272, in fit\n",
      "    sample_weight=sample_weight,\n",
      "  File \"/home/felipe/anaconda3/envs/segmentator/lib/python3.7/site-packages/sklearn/svm/_base.py\", line 1185, in _fit_liblinear\n",
      "    solver_type = _get_liblinear_solver_type(multi_class, penalty, loss, dual)\n",
      "  File \"/home/felipe/anaconda3/envs/segmentator/lib/python3.7/site-packages/sklearn/svm/_base.py\", line 1026, in _get_liblinear_solver_type\n",
      "    % (error_string, penalty, loss, dual)\n",
      "ValueError: Unsupported set of arguments: The combination of penalty='l1' and loss='squared_hinge' are not supported when dual=True, Parameters: penalty='l1', loss='squared_hinge', dual=True\n",
      "\n",
      "  warnings.warn(some_fits_failed_message, FitFailedWarning)\n",
      "/home/felipe/anaconda3/envs/segmentator/lib/python3.7/site-packages/sklearn/model_selection/_search.py:972: UserWarning: One or more of the test scores are non-finite: [       nan        nan 0.50686343 0.50381012        nan        nan\n",
      " 0.64754501 0.64996939        nan        nan 0.51032058 0.50403922\n",
      "        nan        nan 0.64805843 0.6561397         nan        nan\n",
      " 0.51174724 0.51468954        nan        nan 0.64704799 0.64783764\n",
      "        nan        nan 0.51150704 0.51703478        nan        nan\n",
      " 0.64241431 0.64564564        nan        nan 0.51283769 0.51692334\n",
      "        nan        nan 0.64676249 0.64410119        nan        nan\n",
      " 0.51158246 0.51764871        nan        nan 0.643645   0.64346536\n",
      "        nan        nan 0.5129268  0.51909037        nan        nan\n",
      " 0.64367775 0.64233067 0.50203539 0.50408276 0.65041849 0.64989542\n",
      " 0.50265479 0.50429197 0.65062813 0.64989542 0.50235648 0.50429197\n",
      " 0.64709267 0.65124841 0.50019723 0.50471038 0.64292138 0.65145762\n",
      " 0.50115415 0.50504012 0.64248841 0.65310848 0.50211238 0.50557863\n",
      " 0.64931278 0.65424273 0.50285276 0.50025275 0.64909986 0.66009182\n",
      "        nan        nan 0.5020155  0.50586829        nan        nan\n",
      " 0.64692286 0.65531423        nan        nan 0.50178264 0.50872017\n",
      "        nan        nan 0.64908627 0.65028798        nan        nan\n",
      " 0.50524351 0.50974473        nan        nan 0.58948095 0.64592337\n",
      "        nan        nan 0.53365813 0.51006035        nan        nan\n",
      " 0.54805032 0.64888762        nan        nan 0.52500517 0.52281872\n",
      "        nan        nan 0.50983762 0.60183733        nan        nan\n",
      " 0.54124911 0.54683551        nan        nan 0.53623207 0.53609683\n",
      "        nan        nan 0.5408307  0.52746987        nan        nan\n",
      " 0.5408307  0.52974974]\n",
      "  category=UserWarning,\n"
     ]
    },
    {
     "data": {
      "text/plain": [
       "GridSearchCV(cv=StratifiedKFold(n_splits=5, random_state=None, shuffle=False),\n",
       "             estimator=Pipeline(memory=Memory(location=outputs//cache/joblib),\n",
       "                                steps=[('scaler', StandardScaler()),\n",
       "                                       ('classifier',\n",
       "                                        LogisticRegression(max_iter=1000.0,\n",
       "                                                           random_state=42,\n",
       "                                                           tol=0.001))]),\n",
       "             param_grid=[{'classifier': [LogisticRegression(max_iter=1000.0,\n",
       "                                                            random_state=42,\n",
       "                                                            tol=0.001)],\n",
       "                          'clas...\n",
       "                          'classifier__class_weight': [None, 'balanced'],\n",
       "                          'scaler': ['passthrough', StandardScaler()]},\n",
       "                         {'classifier': [LinearSVC(max_iter=1000.0,\n",
       "                                                   random_state=42,\n",
       "                                                   tol=0.001)],\n",
       "                          'classifier__C': array([1.e-03, 1.e-02, 1.e-01, 1.e+00, 1.e+01, 1.e+02, 1.e+03]),\n",
       "                          'classifier__class_weight': [None, 'balanced'],\n",
       "                          'classifier__penalty': ['l1', 'l2'],\n",
       "                          'scaler': ['passthrough', StandardScaler()]}],\n",
       "             scoring='balanced_accuracy', verbose=4)"
      ]
     },
     "execution_count": 30,
     "metadata": {},
     "output_type": "execute_result"
    }
   ],
   "source": [
    "grid_search.fit(xtrain, ytrain)"
   ]
  },
  {
   "cell_type": "markdown",
   "id": "a871cd93",
   "metadata": {},
   "source": [
    "### Results"
   ]
  },
  {
   "cell_type": "code",
   "execution_count": 31,
   "id": "f9f34f3b",
   "metadata": {},
   "outputs": [
    {
     "data": {
      "text/html": [
       "<div>\n",
       "<style scoped>\n",
       "    .dataframe tbody tr th:only-of-type {\n",
       "        vertical-align: middle;\n",
       "    }\n",
       "\n",
       "    .dataframe tbody tr th {\n",
       "        vertical-align: top;\n",
       "    }\n",
       "\n",
       "    .dataframe thead th {\n",
       "        text-align: right;\n",
       "    }\n",
       "</style>\n",
       "<table border=\"1\" class=\"dataframe\">\n",
       "  <thead>\n",
       "    <tr style=\"text-align: right;\">\n",
       "      <th></th>\n",
       "      <th>mean_fit_time</th>\n",
       "      <th>std_fit_time</th>\n",
       "      <th>mean_score_time</th>\n",
       "      <th>std_score_time</th>\n",
       "      <th>param_classifier</th>\n",
       "      <th>param_classifier__C</th>\n",
       "      <th>param_classifier__class_weight</th>\n",
       "      <th>param_classifier__penalty</th>\n",
       "      <th>param_scaler</th>\n",
       "      <th>param_classifier__alpha</th>\n",
       "      <th>params</th>\n",
       "      <th>split0_test_score</th>\n",
       "      <th>split1_test_score</th>\n",
       "      <th>split2_test_score</th>\n",
       "      <th>split3_test_score</th>\n",
       "      <th>split4_test_score</th>\n",
       "      <th>mean_test_score</th>\n",
       "      <th>std_test_score</th>\n",
       "      <th>rank_test_score</th>\n",
       "    </tr>\n",
       "  </thead>\n",
       "  <tbody>\n",
       "    <tr>\n",
       "      <th>0</th>\n",
       "      <td>0.000972</td>\n",
       "      <td>0.000357</td>\n",
       "      <td>0.000000</td>\n",
       "      <td>0.000000</td>\n",
       "      <td>LogisticRegression(max_iter=1000.0, random_sta...</td>\n",
       "      <td>0.001</td>\n",
       "      <td>None</td>\n",
       "      <td>l1</td>\n",
       "      <td>passthrough</td>\n",
       "      <td>NaN</td>\n",
       "      <td>{'classifier': LogisticRegression(max_iter=100...</td>\n",
       "      <td>NaN</td>\n",
       "      <td>NaN</td>\n",
       "      <td>NaN</td>\n",
       "      <td>NaN</td>\n",
       "      <td>NaN</td>\n",
       "      <td>NaN</td>\n",
       "      <td>NaN</td>\n",
       "      <td>140</td>\n",
       "    </tr>\n",
       "    <tr>\n",
       "      <th>1</th>\n",
       "      <td>0.031559</td>\n",
       "      <td>0.001301</td>\n",
       "      <td>0.000000</td>\n",
       "      <td>0.000000</td>\n",
       "      <td>LogisticRegression(max_iter=1000.0, random_sta...</td>\n",
       "      <td>0.001</td>\n",
       "      <td>None</td>\n",
       "      <td>l1</td>\n",
       "      <td>StandardScaler()</td>\n",
       "      <td>NaN</td>\n",
       "      <td>{'classifier': LogisticRegression(max_iter=100...</td>\n",
       "      <td>NaN</td>\n",
       "      <td>NaN</td>\n",
       "      <td>NaN</td>\n",
       "      <td>NaN</td>\n",
       "      <td>NaN</td>\n",
       "      <td>NaN</td>\n",
       "      <td>NaN</td>\n",
       "      <td>106</td>\n",
       "    </tr>\n",
       "    <tr>\n",
       "      <th>2</th>\n",
       "      <td>0.015106</td>\n",
       "      <td>0.005793</td>\n",
       "      <td>0.001741</td>\n",
       "      <td>0.000296</td>\n",
       "      <td>LogisticRegression(max_iter=1000.0, random_sta...</td>\n",
       "      <td>0.001</td>\n",
       "      <td>None</td>\n",
       "      <td>l2</td>\n",
       "      <td>passthrough</td>\n",
       "      <td>NaN</td>\n",
       "      <td>{'classifier': LogisticRegression(max_iter=100...</td>\n",
       "      <td>0.491632</td>\n",
       "      <td>0.520010</td>\n",
       "      <td>0.503627</td>\n",
       "      <td>0.506208</td>\n",
       "      <td>0.512841</td>\n",
       "      <td>0.506863</td>\n",
       "      <td>0.009502</td>\n",
       "      <td>64</td>\n",
       "    </tr>\n",
       "    <tr>\n",
       "      <th>3</th>\n",
       "      <td>0.009502</td>\n",
       "      <td>0.000301</td>\n",
       "      <td>0.001839</td>\n",
       "      <td>0.000141</td>\n",
       "      <td>LogisticRegression(max_iter=1000.0, random_sta...</td>\n",
       "      <td>0.001</td>\n",
       "      <td>None</td>\n",
       "      <td>l2</td>\n",
       "      <td>StandardScaler()</td>\n",
       "      <td>NaN</td>\n",
       "      <td>{'classifier': LogisticRegression(max_iter=100...</td>\n",
       "      <td>0.504630</td>\n",
       "      <td>0.505075</td>\n",
       "      <td>0.509346</td>\n",
       "      <td>0.500000</td>\n",
       "      <td>0.500000</td>\n",
       "      <td>0.503810</td>\n",
       "      <td>0.003520</td>\n",
       "      <td>74</td>\n",
       "    </tr>\n",
       "    <tr>\n",
       "      <th>4</th>\n",
       "      <td>0.000720</td>\n",
       "      <td>0.000064</td>\n",
       "      <td>0.000000</td>\n",
       "      <td>0.000000</td>\n",
       "      <td>LogisticRegression(max_iter=1000.0, random_sta...</td>\n",
       "      <td>0.001</td>\n",
       "      <td>balanced</td>\n",
       "      <td>l1</td>\n",
       "      <td>passthrough</td>\n",
       "      <td>NaN</td>\n",
       "      <td>{'classifier': LogisticRegression(max_iter=100...</td>\n",
       "      <td>NaN</td>\n",
       "      <td>NaN</td>\n",
       "      <td>NaN</td>\n",
       "      <td>NaN</td>\n",
       "      <td>NaN</td>\n",
       "      <td>NaN</td>\n",
       "      <td>NaN</td>\n",
       "      <td>103</td>\n",
       "    </tr>\n",
       "    <tr>\n",
       "      <th>...</th>\n",
       "      <td>...</td>\n",
       "      <td>...</td>\n",
       "      <td>...</td>\n",
       "      <td>...</td>\n",
       "      <td>...</td>\n",
       "      <td>...</td>\n",
       "      <td>...</td>\n",
       "      <td>...</td>\n",
       "      <td>...</td>\n",
       "      <td>...</td>\n",
       "      <td>...</td>\n",
       "      <td>...</td>\n",
       "      <td>...</td>\n",
       "      <td>...</td>\n",
       "      <td>...</td>\n",
       "      <td>...</td>\n",
       "      <td>...</td>\n",
       "      <td>...</td>\n",
       "      <td>...</td>\n",
       "    </tr>\n",
       "    <tr>\n",
       "      <th>135</th>\n",
       "      <td>0.342485</td>\n",
       "      <td>0.021506</td>\n",
       "      <td>0.002223</td>\n",
       "      <td>0.000319</td>\n",
       "      <td>LinearSVC(max_iter=1000.0, random_state=42, to...</td>\n",
       "      <td>1000.0</td>\n",
       "      <td>None</td>\n",
       "      <td>l2</td>\n",
       "      <td>StandardScaler()</td>\n",
       "      <td>NaN</td>\n",
       "      <td>{'classifier': LinearSVC(max_iter=1000.0, rand...</td>\n",
       "      <td>0.524601</td>\n",
       "      <td>0.520862</td>\n",
       "      <td>0.532925</td>\n",
       "      <td>0.472745</td>\n",
       "      <td>0.586216</td>\n",
       "      <td>0.527470</td>\n",
       "      <td>0.036132</td>\n",
       "      <td>46</td>\n",
       "    </tr>\n",
       "    <tr>\n",
       "      <th>136</th>\n",
       "      <td>0.002860</td>\n",
       "      <td>0.000365</td>\n",
       "      <td>0.000000</td>\n",
       "      <td>0.000000</td>\n",
       "      <td>LinearSVC(max_iter=1000.0, random_state=42, to...</td>\n",
       "      <td>1000.0</td>\n",
       "      <td>balanced</td>\n",
       "      <td>l1</td>\n",
       "      <td>passthrough</td>\n",
       "      <td>NaN</td>\n",
       "      <td>{'classifier': LinearSVC(max_iter=1000.0, rand...</td>\n",
       "      <td>NaN</td>\n",
       "      <td>NaN</td>\n",
       "      <td>NaN</td>\n",
       "      <td>NaN</td>\n",
       "      <td>NaN</td>\n",
       "      <td>NaN</td>\n",
       "      <td>NaN</td>\n",
       "      <td>107</td>\n",
       "    </tr>\n",
       "    <tr>\n",
       "      <th>137</th>\n",
       "      <td>0.008073</td>\n",
       "      <td>0.000312</td>\n",
       "      <td>0.000000</td>\n",
       "      <td>0.000000</td>\n",
       "      <td>LinearSVC(max_iter=1000.0, random_state=42, to...</td>\n",
       "      <td>1000.0</td>\n",
       "      <td>balanced</td>\n",
       "      <td>l1</td>\n",
       "      <td>StandardScaler()</td>\n",
       "      <td>NaN</td>\n",
       "      <td>{'classifier': LinearSVC(max_iter=1000.0, rand...</td>\n",
       "      <td>NaN</td>\n",
       "      <td>NaN</td>\n",
       "      <td>NaN</td>\n",
       "      <td>NaN</td>\n",
       "      <td>NaN</td>\n",
       "      <td>NaN</td>\n",
       "      <td>NaN</td>\n",
       "      <td>108</td>\n",
       "    </tr>\n",
       "    <tr>\n",
       "      <th>138</th>\n",
       "      <td>0.088517</td>\n",
       "      <td>0.005008</td>\n",
       "      <td>0.001694</td>\n",
       "      <td>0.000118</td>\n",
       "      <td>LinearSVC(max_iter=1000.0, random_state=42, to...</td>\n",
       "      <td>1000.0</td>\n",
       "      <td>balanced</td>\n",
       "      <td>l2</td>\n",
       "      <td>passthrough</td>\n",
       "      <td>NaN</td>\n",
       "      <td>{'classifier': LinearSVC(max_iter=1000.0, rand...</td>\n",
       "      <td>0.566132</td>\n",
       "      <td>0.524485</td>\n",
       "      <td>0.552800</td>\n",
       "      <td>0.559252</td>\n",
       "      <td>0.501485</td>\n",
       "      <td>0.540831</td>\n",
       "      <td>0.024241</td>\n",
       "      <td>40</td>\n",
       "    </tr>\n",
       "    <tr>\n",
       "      <th>139</th>\n",
       "      <td>0.326564</td>\n",
       "      <td>0.004289</td>\n",
       "      <td>0.002030</td>\n",
       "      <td>0.000100</td>\n",
       "      <td>LinearSVC(max_iter=1000.0, random_state=42, to...</td>\n",
       "      <td>1000.0</td>\n",
       "      <td>balanced</td>\n",
       "      <td>l2</td>\n",
       "      <td>StandardScaler()</td>\n",
       "      <td>NaN</td>\n",
       "      <td>{'classifier': LinearSVC(max_iter=1000.0, rand...</td>\n",
       "      <td>0.498024</td>\n",
       "      <td>0.529347</td>\n",
       "      <td>0.555879</td>\n",
       "      <td>0.520862</td>\n",
       "      <td>0.544637</td>\n",
       "      <td>0.529750</td>\n",
       "      <td>0.019950</td>\n",
       "      <td>45</td>\n",
       "    </tr>\n",
       "  </tbody>\n",
       "</table>\n",
       "<p>140 rows × 19 columns</p>\n",
       "</div>"
      ],
      "text/plain": [
       "     mean_fit_time  std_fit_time  mean_score_time  std_score_time  \\\n",
       "0         0.000972      0.000357         0.000000        0.000000   \n",
       "1         0.031559      0.001301         0.000000        0.000000   \n",
       "2         0.015106      0.005793         0.001741        0.000296   \n",
       "3         0.009502      0.000301         0.001839        0.000141   \n",
       "4         0.000720      0.000064         0.000000        0.000000   \n",
       "..             ...           ...              ...             ...   \n",
       "135       0.342485      0.021506         0.002223        0.000319   \n",
       "136       0.002860      0.000365         0.000000        0.000000   \n",
       "137       0.008073      0.000312         0.000000        0.000000   \n",
       "138       0.088517      0.005008         0.001694        0.000118   \n",
       "139       0.326564      0.004289         0.002030        0.000100   \n",
       "\n",
       "                                      param_classifier param_classifier__C  \\\n",
       "0    LogisticRegression(max_iter=1000.0, random_sta...               0.001   \n",
       "1    LogisticRegression(max_iter=1000.0, random_sta...               0.001   \n",
       "2    LogisticRegression(max_iter=1000.0, random_sta...               0.001   \n",
       "3    LogisticRegression(max_iter=1000.0, random_sta...               0.001   \n",
       "4    LogisticRegression(max_iter=1000.0, random_sta...               0.001   \n",
       "..                                                 ...                 ...   \n",
       "135  LinearSVC(max_iter=1000.0, random_state=42, to...              1000.0   \n",
       "136  LinearSVC(max_iter=1000.0, random_state=42, to...              1000.0   \n",
       "137  LinearSVC(max_iter=1000.0, random_state=42, to...              1000.0   \n",
       "138  LinearSVC(max_iter=1000.0, random_state=42, to...              1000.0   \n",
       "139  LinearSVC(max_iter=1000.0, random_state=42, to...              1000.0   \n",
       "\n",
       "    param_classifier__class_weight param_classifier__penalty  \\\n",
       "0                             None                        l1   \n",
       "1                             None                        l1   \n",
       "2                             None                        l2   \n",
       "3                             None                        l2   \n",
       "4                         balanced                        l1   \n",
       "..                             ...                       ...   \n",
       "135                           None                        l2   \n",
       "136                       balanced                        l1   \n",
       "137                       balanced                        l1   \n",
       "138                       balanced                        l2   \n",
       "139                       balanced                        l2   \n",
       "\n",
       "         param_scaler param_classifier__alpha  \\\n",
       "0         passthrough                     NaN   \n",
       "1    StandardScaler()                     NaN   \n",
       "2         passthrough                     NaN   \n",
       "3    StandardScaler()                     NaN   \n",
       "4         passthrough                     NaN   \n",
       "..                ...                     ...   \n",
       "135  StandardScaler()                     NaN   \n",
       "136       passthrough                     NaN   \n",
       "137  StandardScaler()                     NaN   \n",
       "138       passthrough                     NaN   \n",
       "139  StandardScaler()                     NaN   \n",
       "\n",
       "                                                params  split0_test_score  \\\n",
       "0    {'classifier': LogisticRegression(max_iter=100...                NaN   \n",
       "1    {'classifier': LogisticRegression(max_iter=100...                NaN   \n",
       "2    {'classifier': LogisticRegression(max_iter=100...           0.491632   \n",
       "3    {'classifier': LogisticRegression(max_iter=100...           0.504630   \n",
       "4    {'classifier': LogisticRegression(max_iter=100...                NaN   \n",
       "..                                                 ...                ...   \n",
       "135  {'classifier': LinearSVC(max_iter=1000.0, rand...           0.524601   \n",
       "136  {'classifier': LinearSVC(max_iter=1000.0, rand...                NaN   \n",
       "137  {'classifier': LinearSVC(max_iter=1000.0, rand...                NaN   \n",
       "138  {'classifier': LinearSVC(max_iter=1000.0, rand...           0.566132   \n",
       "139  {'classifier': LinearSVC(max_iter=1000.0, rand...           0.498024   \n",
       "\n",
       "     split1_test_score  split2_test_score  split3_test_score  \\\n",
       "0                  NaN                NaN                NaN   \n",
       "1                  NaN                NaN                NaN   \n",
       "2             0.520010           0.503627           0.506208   \n",
       "3             0.505075           0.509346           0.500000   \n",
       "4                  NaN                NaN                NaN   \n",
       "..                 ...                ...                ...   \n",
       "135           0.520862           0.532925           0.472745   \n",
       "136                NaN                NaN                NaN   \n",
       "137                NaN                NaN                NaN   \n",
       "138           0.524485           0.552800           0.559252   \n",
       "139           0.529347           0.555879           0.520862   \n",
       "\n",
       "     split4_test_score  mean_test_score  std_test_score  rank_test_score  \n",
       "0                  NaN              NaN             NaN              140  \n",
       "1                  NaN              NaN             NaN              106  \n",
       "2             0.512841         0.506863        0.009502               64  \n",
       "3             0.500000         0.503810        0.003520               74  \n",
       "4                  NaN              NaN             NaN              103  \n",
       "..                 ...              ...             ...              ...  \n",
       "135           0.586216         0.527470        0.036132               46  \n",
       "136                NaN              NaN             NaN              107  \n",
       "137                NaN              NaN             NaN              108  \n",
       "138           0.501485         0.540831        0.024241               40  \n",
       "139           0.544637         0.529750        0.019950               45  \n",
       "\n",
       "[140 rows x 19 columns]"
      ]
     },
     "execution_count": 31,
     "metadata": {},
     "output_type": "execute_result"
    }
   ],
   "source": [
    "pd.DataFrame(grid_search.cv_results_)"
   ]
  },
  {
   "cell_type": "code",
   "execution_count": 32,
   "id": "27c0c141",
   "metadata": {},
   "outputs": [
    {
     "data": {
      "text/plain": [
       "Pipeline(memory=Memory(location=outputs//cache/joblib),\n",
       "         steps=[('scaler', StandardScaler()),\n",
       "                ('classifier',\n",
       "                 RidgeClassifier(alpha=1000.0, class_weight='balanced',\n",
       "                                 max_iter=1000.0, random_state=42))])"
      ]
     },
     "execution_count": 32,
     "metadata": {},
     "output_type": "execute_result"
    }
   ],
   "source": [
    "grid_search.best_estimator_"
   ]
  },
  {
   "cell_type": "code",
   "execution_count": 33,
   "id": "c4627b87",
   "metadata": {},
   "outputs": [
    {
     "name": "stdout",
     "output_type": "stream",
     "text": [
      "              precision    recall  f1-score   support\n",
      "\n",
      "           0     0.9031    0.6868    0.7802       597\n",
      "           1     0.3273    0.6741    0.4407       135\n",
      "\n",
      "    accuracy                         0.6844       732\n",
      "   macro avg     0.6152    0.6804    0.6104       732\n",
      "weighted avg     0.7969    0.6844    0.7176       732\n",
      "\n"
     ]
    }
   ],
   "source": [
    "print(classification_report(\n",
    "    ytest,\n",
    "    grid_search.predict(xtest),\n",
    "    digits=4,\n",
    "))"
   ]
  },
  {
   "cell_type": "markdown",
   "id": "aeb0487f",
   "metadata": {},
   "source": [
    "### Feature Importance"
   ]
  },
  {
   "cell_type": "code",
   "execution_count": 34,
   "id": "787a8bd4",
   "metadata": {},
   "outputs": [
    {
     "data": {
      "text/plain": [
       "array(['airplane', 'animal', 'apparel', 'arcade', 'armchair', 'ashcan',\n",
       "       'awning', 'bag', 'ball', 'bannister', 'bar', 'barrel', 'base',\n",
       "       'basket', 'bathtub', 'bed', 'bench', 'bicycle', 'blanket', 'blind',\n",
       "       'boat', 'book', 'bookcase', 'booth', 'bottle', 'box', 'bridge',\n",
       "       'buffet', 'building', 'bulletin', 'bus', 'cabinet', 'canopy',\n",
       "       'car', 'case', 'ceiling', 'chair', 'chandelier', 'chest', 'clock',\n",
       "       'coffee', 'column', 'computer', 'conveyer', 'counter', 'cradle',\n",
       "       'crt', 'curtain', 'cushion', 'desk', 'dirt', 'dishwasher', 'door',\n",
       "       'earth', 'escalator', 'fan', 'fence', 'field', 'fireplace', 'flag',\n",
       "       'floor', 'flower', 'food', 'fountain', 'glass', 'grandstand',\n",
       "       'grass', 'hill', 'hood', 'house', 'hovel', 'kitchen', 'lake',\n",
       "       'lamp', 'land', 'light', 'microwave', 'minibike', 'mirror',\n",
       "       'monitor', 'mountain', 'ottoman', 'oven', 'painting', 'palm',\n",
       "       'path', 'person', 'pier', 'pillow', 'plant', 'plate', 'plaything',\n",
       "       'pole', 'pool', 'poster', 'pot', 'radiator', 'railing',\n",
       "       'refrigerator', 'river', 'road', 'rock', 'rug', 'runway', 'sand',\n",
       "       'sconce', 'screen_door', 'screen_projection', 'sculpture', 'sea',\n",
       "       'seat', 'shelf', 'ship', 'shower', 'sidewalk', 'signboard', 'sink',\n",
       "       'sky', 'skyscraper', 'sofa', 'stage', 'stairs', 'stairway', 'step',\n",
       "       'stool', 'stove', 'streetlight', 'swimming', 'swivel', 'table',\n",
       "       'tank', 'television', 'tent', 'toilet', 'towel', 'tower', 'trade',\n",
       "       'traffic', 'tray', 'tree', 'truck', 'van', 'vase', 'wall',\n",
       "       'wardrobe', 'washer', 'water', 'waterfall', 'windowpane'],\n",
       "      dtype=object)"
      ]
     },
     "execution_count": 34,
     "metadata": {},
     "output_type": "execute_result"
    }
   ],
   "source": [
    "importance_classes = data_df.columns[1:-3]\n",
    "importance_classes.values"
   ]
  },
  {
   "cell_type": "code",
   "execution_count": 35,
   "id": "55c1dde3",
   "metadata": {},
   "outputs": [],
   "source": [
    "importance = grid_search.best_estimator_._final_estimator.coef_[0]"
   ]
  },
  {
   "cell_type": "code",
   "execution_count": 36,
   "id": "0948f348",
   "metadata": {},
   "outputs": [
    {
     "data": {
      "text/html": [
       "<div>\n",
       "<style scoped>\n",
       "    .dataframe tbody tr th:only-of-type {\n",
       "        vertical-align: middle;\n",
       "    }\n",
       "\n",
       "    .dataframe tbody tr th {\n",
       "        vertical-align: top;\n",
       "    }\n",
       "\n",
       "    .dataframe thead th {\n",
       "        text-align: right;\n",
       "    }\n",
       "</style>\n",
       "<table border=\"1\" class=\"dataframe\">\n",
       "  <thead>\n",
       "    <tr style=\"text-align: right;\">\n",
       "      <th></th>\n",
       "      <th>importance</th>\n",
       "    </tr>\n",
       "    <tr>\n",
       "      <th>class</th>\n",
       "      <th></th>\n",
       "    </tr>\n",
       "  </thead>\n",
       "  <tbody>\n",
       "    <tr>\n",
       "      <th>awning</th>\n",
       "      <td>0.097326</td>\n",
       "    </tr>\n",
       "    <tr>\n",
       "      <th>armchair</th>\n",
       "      <td>0.086121</td>\n",
       "    </tr>\n",
       "    <tr>\n",
       "      <th>bannister</th>\n",
       "      <td>0.069593</td>\n",
       "    </tr>\n",
       "    <tr>\n",
       "      <th>kitchen</th>\n",
       "      <td>0.060624</td>\n",
       "    </tr>\n",
       "    <tr>\n",
       "      <th>barrel</th>\n",
       "      <td>0.047047</td>\n",
       "    </tr>\n",
       "    <tr>\n",
       "      <th>...</th>\n",
       "      <td>...</td>\n",
       "    </tr>\n",
       "    <tr>\n",
       "      <th>basket</th>\n",
       "      <td>-0.033003</td>\n",
       "    </tr>\n",
       "    <tr>\n",
       "      <th>pole</th>\n",
       "      <td>-0.038700</td>\n",
       "    </tr>\n",
       "    <tr>\n",
       "      <th>airplane</th>\n",
       "      <td>-0.066566</td>\n",
       "    </tr>\n",
       "    <tr>\n",
       "      <th>animal</th>\n",
       "      <td>-0.071744</td>\n",
       "    </tr>\n",
       "    <tr>\n",
       "      <th>apparel</th>\n",
       "      <td>-0.094522</td>\n",
       "    </tr>\n",
       "  </tbody>\n",
       "</table>\n",
       "<p>149 rows × 1 columns</p>\n",
       "</div>"
      ],
      "text/plain": [
       "           importance\n",
       "class                \n",
       "awning       0.097326\n",
       "armchair     0.086121\n",
       "bannister    0.069593\n",
       "kitchen      0.060624\n",
       "barrel       0.047047\n",
       "...               ...\n",
       "basket      -0.033003\n",
       "pole        -0.038700\n",
       "airplane    -0.066566\n",
       "animal      -0.071744\n",
       "apparel     -0.094522\n",
       "\n",
       "[149 rows x 1 columns]"
      ]
     },
     "execution_count": 36,
     "metadata": {},
     "output_type": "execute_result"
    }
   ],
   "source": [
    "feat_importances = pd.Series(importance)\n",
    "feat_importances = feat_importances.reset_index().rename(columns={\"index\":\"class\", 0:\"importance\"}).copy()\n",
    "feat_importances[\"class\"] = importance_classes.values\n",
    "feat_importances.set_index(\"class\", inplace=True)\n",
    "feat_importances.sort_values(by=\"importance\", inplace=True, ascending=False)\n",
    "feat_importances"
   ]
  },
  {
   "cell_type": "code",
   "execution_count": 37,
   "id": "d5492336",
   "metadata": {},
   "outputs": [
    {
     "data": {
      "text/plain": [
       "<AxesSubplot:title={'center':'Feature Importance'}, ylabel='class'>"
      ]
     },
     "execution_count": 37,
     "metadata": {},
     "output_type": "execute_result"
    },
    {
     "data": {
      "image/png": "[encoded data removed]",
      "text/plain": [
       "<Figure size 640x480 with 1 Axes>"
      ]
     },
     "metadata": {},
     "output_type": "display_data"
    }
   ],
   "source": [
    "feat_importances.iloc[:20,:].plot(kind='barh',title = 'Feature Importance')"
   ]
  },
  {
   "cell_type": "markdown",
   "id": "29bfa106",
   "metadata": {},
   "source": [
    "### Components"
   ]
  },
  {
   "cell_type": "code",
   "execution_count": 38,
   "id": "cee58eb2",
   "metadata": {},
   "outputs": [
    {
     "data": {
      "text/plain": [
       "array(['image_file_name', 'airplane', 'animal', 'apparel', 'arcade',\n",
       "       'armchair', 'ashcan', 'awning', 'bag', 'ball', 'bannister', 'bar',\n",
       "       'barrel', 'base', 'basket', 'bathtub', 'bed', 'bench', 'bicycle',\n",
       "       'blanket', 'blind', 'boat', 'book', 'bookcase', 'booth', 'bottle',\n",
       "       'box', 'bridge', 'buffet', 'building', 'bulletin', 'bus',\n",
       "       'cabinet', 'canopy', 'car', 'case', 'ceiling', 'chair',\n",
       "       'chandelier', 'chest', 'clock', 'coffee', 'column', 'computer',\n",
       "       'conveyer', 'counter', 'cradle', 'crt', 'curtain', 'cushion',\n",
       "       'desk', 'dirt', 'dishwasher', 'door', 'earth', 'escalator', 'fan',\n",
       "       'fence', 'field', 'fireplace', 'flag', 'floor', 'flower', 'food',\n",
       "       'fountain', 'glass', 'grandstand', 'grass', 'hill', 'hood',\n",
       "       'house', 'hovel', 'kitchen', 'lake', 'lamp', 'land', 'light',\n",
       "       'microwave', 'minibike', 'mirror', 'monitor', 'mountain',\n",
       "       'ottoman', 'oven', 'painting', 'palm', 'path', 'person', 'pier',\n",
       "       'pillow', 'plant', 'plate', 'plaything', 'pole', 'pool', 'poster',\n",
       "       'pot', 'radiator', 'railing', 'refrigerator', 'river', 'road',\n",
       "       'rock', 'rug', 'runway', 'sand', 'sconce', 'screen_door',\n",
       "       'screen_projection', 'sculpture', 'sea', 'seat', 'shelf', 'ship',\n",
       "       'shower', 'sidewalk', 'signboard', 'sink', 'sky', 'skyscraper',\n",
       "       'sofa', 'stage', 'stairs', 'stairway', 'step', 'stool', 'stove',\n",
       "       'streetlight', 'swimming', 'swivel', 'table', 'tank', 'television',\n",
       "       'tent', 'toilet', 'towel', 'tower', 'trade', 'traffic', 'tray',\n",
       "       'tree', 'truck', 'van', 'vase', 'wall', 'wardrobe', 'washer',\n",
       "       'water', 'waterfall', 'windowpane', 'city', 'safety', 'labels'],\n",
       "      dtype=object)"
      ]
     },
     "execution_count": 38,
     "metadata": {},
     "output_type": "execute_result"
    }
   ],
   "source": [
    "data_df[data_df[\"image_file_name\"]==\"5140b8a0fdc9f04926001cb5\"].columns.values"
   ]
  },
  {
   "cell_type": "code",
   "execution_count": 39,
   "id": "7447497c",
   "metadata": {},
   "outputs": [
    {
     "data": {
      "text/plain": [
       "array([], shape=(0, 153), dtype=object)"
      ]
     },
     "execution_count": 39,
     "metadata": {},
     "output_type": "execute_result"
    }
   ],
   "source": [
    "data_df[data_df[\"image_file_name\"]==\"5140b8a0fdc9f04926001cb5\"].values"
   ]
  }
 ],
 "metadata": {
  "kernelspec": {
   "display_name": "Python 3 (ipykernel)",
   "language": "python",
   "name": "python3"
  },
  "language_info": {
   "codemirror_mode": {
    "name": "ipython",
    "version": 3
   },
   "file_extension": ".py",
   "mimetype": "text/x-python",
   "name": "python",
   "nbconvert_exporter": "python",
   "pygments_lexer": "ipython3",
   "version": "3.8.16"
  }
 },
 "nbformat": 4,
 "nbformat_minor": 5
}
