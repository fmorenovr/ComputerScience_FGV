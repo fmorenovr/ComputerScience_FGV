{
 "cells": [
  {
   "cell_type": "code",
   "execution_count": 1,
   "id": "1fc31d8f",
   "metadata": {},
   "outputs": [
    {
     "ename": "ModuleNotFoundError",
     "evalue": "No module named 'keras'",
     "output_type": "error",
     "traceback": [
      "\u001b[1;31m---------------------------------------------------------------------------\u001b[0m",
      "\u001b[1;31mModuleNotFoundError\u001b[0m                       Traceback (most recent call last)",
      "Input \u001b[1;32mIn [1]\u001b[0m, in \u001b[0;36m<cell line: 3>\u001b[1;34m()\u001b[0m\n\u001b[0;32m      1\u001b[0m \u001b[38;5;66;03m# Common\u001b[39;00m\n\u001b[0;32m      2\u001b[0m \u001b[38;5;28;01mimport\u001b[39;00m \u001b[38;5;21;01mos\u001b[39;00m \n\u001b[1;32m----> 3\u001b[0m \u001b[38;5;28;01mimport\u001b[39;00m \u001b[38;5;21;01mkeras\u001b[39;00m\n\u001b[0;32m      4\u001b[0m \u001b[38;5;28;01mimport\u001b[39;00m \u001b[38;5;21;01mnumpy\u001b[39;00m \u001b[38;5;28;01mas\u001b[39;00m \u001b[38;5;21;01mnp\u001b[39;00m\n\u001b[0;32m      5\u001b[0m \u001b[38;5;28;01mimport\u001b[39;00m \u001b[38;5;21;01mtensorflow\u001b[39;00m \u001b[38;5;28;01mas\u001b[39;00m \u001b[38;5;21;01mtf\u001b[39;00m\n",
      "\u001b[1;31mModuleNotFoundError\u001b[0m: No module named 'keras'"
     ]
    }
   ],
   "source": [
    "# Common\n",
    "import os \n",
    "import keras\n",
    "import numpy as np\n",
    "import tensorflow as tf\n",
    "\n",
    "# Data \n",
    "import pandas as pd\n",
    "from keras.preprocessing.image import ImageDataGenerator \n",
    "from sklearn.model_selection import StratifiedShuffleSplit, train_test_split\n",
    "\n",
    "# Data Visualization \n",
    "import plotly.express as px\n",
    "import matplotlib.pyplot as plt"
   ]
  },
  {
   "cell_type": "code",
   "execution_count": null,
   "id": "bd53a864",
   "metadata": {},
   "outputs": [],
   "source": [
    "# Model \n",
    "from keras.models import Sequential, load_model\n",
    "from keras.layers import Conv2D, MaxPool2D, BatchNormalization, Dropout, Dense, GlobalAvgPool2D\n",
    "\n",
    "# Callbacks \n",
    "from keras.callbacks import EarlyStopping, ModelCheckpoint"
   ]
  },
  {
   "cell_type": "markdown",
   "id": "c92c7d63",
   "metadata": {},
   "source": [
    "### Data"
   ]
  },
  {
   "cell_type": "code",
   "execution_count": null,
   "id": "2ed13f50",
   "metadata": {},
   "outputs": [],
   "source": [
    "%%time\n",
    "\n",
    "# Specify Data Path\n",
    "file_path = '../input/az-handwritten-alphabets-in-csv-format/A_Z Handwritten Data.csv'\n",
    "\n",
    "# Column Names\n",
    "names = ['class']\n",
    "for id in range(1,785):\n",
    "    names.append(id)\n",
    "\n",
    "# Load Data\n",
    "df = pd.read_csv(file_path,header=None, names=names)\n",
    "df.head()"
   ]
  },
  {
   "cell_type": "code",
   "execution_count": null,
   "id": "c3e506ae",
   "metadata": {},
   "outputs": [],
   "source": [
    "class_mapping = {}\n",
    "alphabets = ['A', 'B', 'C', 'D', 'E', 'F', 'G', 'H', 'I', 'J', 'K', 'L', 'M', 'N', 'O', 'P', 'Q', 'R', 'S', 'T', 'U', 'V', 'W', 'X', 'Y', 'Z']\n",
    "for i in range(len(alphabets)):\n",
    "    class_mapping[i] = alphabets[i]\n",
    "class_mapping"
   ]
  },
  {
   "cell_type": "code",
   "execution_count": null,
   "id": "351a1a7e",
   "metadata": {},
   "outputs": [],
   "source": [
    "names = df['class'].value_counts().keys().map(class_mapping)\n",
    "values = df['class'].value_counts()"
   ]
  },
  {
   "cell_type": "markdown",
   "id": "42bd4610",
   "metadata": {},
   "source": [
    "### Statistics"
   ]
  },
  {
   "cell_type": "code",
   "execution_count": null,
   "id": "ca120ad3",
   "metadata": {},
   "outputs": [],
   "source": [
    "# Plot Class Distribution\n",
    "fig = px.pie(\n",
    "    names=names,\n",
    "    values=values,\n",
    "    height=800,\n",
    "    title='Class Distribution'\n",
    ")\n",
    "fig.update_layout({'title':{'x':0.5}})\n",
    "fig.show()"
   ]
  },
  {
   "cell_type": "code",
   "execution_count": null,
   "id": "c604f9c3",
   "metadata": {},
   "outputs": [],
   "source": [
    "# Plot Class Distribution\n",
    "fig = px.bar(\n",
    "    x=names,\n",
    "    y=values,\n",
    "    height=800,\n",
    "    title='Class Distribution'\n",
    ")\n",
    "fig.update_layout({'title':{'x':0.5}})\n",
    "fig.show()"
   ]
  },
  {
   "cell_type": "markdown",
   "id": "3c9c0fd7",
   "metadata": {},
   "source": [
    "### Data Loading"
   ]
  },
  {
   "cell_type": "code",
   "execution_count": null,
   "id": "fcf8618d",
   "metadata": {},
   "outputs": [],
   "source": [
    "y_full = df.pop('class')\n",
    "x_full = df.to_numpy().reshape(-1,28,28, 1)"
   ]
  },
  {
   "cell_type": "code",
   "execution_count": null,
   "id": "eecef1f0",
   "metadata": {},
   "outputs": [],
   "source": [
    "splitter = StratifiedShuffleSplit(n_splits=3,test_size=0.2)\n",
    "for train_ids, test_ids in splitter.split(x_full, y_full):\n",
    "    X_train_full, y_train_full = x_full[train_ids], y_full[train_ids].to_numpy()\n",
    "    X_test, y_test = x_full[test_ids], y_full[test_ids].to_numpy()"
   ]
  },
  {
   "cell_type": "code",
   "execution_count": null,
   "id": "a60f0b45",
   "metadata": {},
   "outputs": [],
   "source": [
    "X_train, X_valid, y_train, y_valid = train_test_split(X_train_full, y_train_full, test_size=0.1)"
   ]
  },
  {
   "cell_type": "markdown",
   "id": "5e625a6c",
   "metadata": {},
   "source": [
    "### Data Visualization"
   ]
  },
  {
   "cell_type": "code",
   "execution_count": null,
   "id": "c2f13b98",
   "metadata": {},
   "outputs": [],
   "source": [
    "plt.figure(figsize=(15,8))\n",
    "for i in range(1, 11):\n",
    "    \n",
    "    id = np.random.randint(len(X_train))\n",
    "    image, label = tf.squeeze(X_train[id]), class_mapping[int(y_train[id])]\n",
    "    \n",
    "    plt.subplot(2,5,i)\n",
    "    plt.imshow(image, cmap='binary')\n",
    "    plt.title(label)\n",
    "    plt.axis('off')\n",
    "    \n",
    "plt.tight_layout()\n",
    "plt.show()"
   ]
  },
  {
   "cell_type": "markdown",
   "id": "9d77089d",
   "metadata": {},
   "source": [
    "### Model"
   ]
  },
  {
   "cell_type": "code",
   "execution_count": null,
   "id": "1f1ef3c1",
   "metadata": {},
   "outputs": [],
   "source": [
    "model = Sequential()\n",
    "model.add(Conv2D(filters=32, kernel_size=(3, 3), activation='relu', input_shape=(28,28,1)))\n",
    "model.add(MaxPool2D(pool_size=(2, 2), strides=2))\n",
    "model.add(Conv2D(filters=64, kernel_size=(3, 3), activation='relu', padding = 'same'))\n",
    "model.add(MaxPool2D(pool_size=(2, 2), strides=2))\n",
    "model.add(Conv2D(filters=128, kernel_size=(3, 3), activation='relu', padding = 'valid'))\n",
    "model.add(MaxPool2D(pool_size=(2, 2), strides=2))\n",
    "model.add(Flatten())\n",
    "model.add(Dense(64,activation =\"relu\"))\n",
    "model.add(Dense(128,activation =\"relu\"))\n",
    "model.add(Dense(26,activation =\"softmax\"))"
   ]
  },
  {
   "cell_type": "code",
   "execution_count": null,
   "id": "bfa9b31b",
   "metadata": {},
   "outputs": [],
   "source": [
    "# # Model Architecture\n",
    "# model = Sequential([\n",
    "#     Conv2D(32, kernel_size=3, strides=2, padding='same', kernel_initializer='he_normal', input_shape=(28, 28, 1)),\n",
    "#     MaxPool2D(),\n",
    "\n",
    "#     BatchNormalization(),\n",
    "#     Conv2D(64, kernel_size=3, padding='same', kernel_initializer='he_normal'),\n",
    "#     BatchNormalization(),\n",
    "#     Conv2D(64, kernel_size=3, padding='same', kernel_initializer='he_normal'),\n",
    "#     MaxPool2D(),\n",
    "\n",
    "#     BatchNormalization(),\n",
    "#     Conv2D(128, kernel_size=3, padding='same', kernel_initializer='he_normal'),\n",
    "#     BatchNormalization(),\n",
    "#     Conv2D(128, kernel_size=3, padding='same', kernel_initializer='he_normal'),\n",
    "#     MaxPool2D(),\n",
    "\n",
    "#     BatchNormalization(),\n",
    "#     Conv2D(256, kernel_size=3, padding='same', kernel_initializer='he_normal'),\n",
    "#     BatchNormalization(),\n",
    "#     Conv2D(256, kernel_size=3, padding='same', kernel_initializer='he_normal'),\n",
    "  \n",
    "#     GlobalAvgPool2D(),\n",
    "#     Dense(256, activation='relu'),\n",
    "#     Dropout(0.2),\n",
    "#     Dense(26, activation='sigmoid')\n",
    "# ])"
   ]
  },
  {
   "cell_type": "code",
   "execution_count": null,
   "id": "622cf139",
   "metadata": {},
   "outputs": [],
   "source": [
    "model.summary()"
   ]
  },
  {
   "cell_type": "markdown",
   "id": "f4b9988b",
   "metadata": {},
   "source": [
    "### Training"
   ]
  },
  {
   "cell_type": "code",
   "execution_count": null,
   "id": "a4bbd00e",
   "metadata": {},
   "outputs": [],
   "source": [
    "# Compile\n",
    "model.compile(\n",
    "    loss='sparse_categorical_crossentropy',\n",
    "    optimizer='adam',\n",
    "    metrics=['accuracy']\n",
    ")"
   ]
  },
  {
   "cell_type": "code",
   "execution_count": null,
   "id": "f40b5157",
   "metadata": {},
   "outputs": [],
   "source": [
    "# Callbacks\n",
    "cbs = [EarlyStopping(patience=3, restore_best_weights=True), ModelCheckpoint(\"Model-v1.h5\", save_best_only=True)]"
   ]
  },
  {
   "cell_type": "code",
   "execution_count": null,
   "id": "3a5f89c9",
   "metadata": {},
   "outputs": [],
   "source": [
    "history = model.fit(\n",
    "            X_train, y_train,\n",
    "            validation_data=(X_valid, y_valid),\n",
    "            epochs=50,\n",
    "            callbacks=cbs\n",
    "        )"
   ]
  },
  {
   "cell_type": "code",
   "execution_count": null,
   "id": "5891537f",
   "metadata": {},
   "outputs": [],
   "source": [
    "print(\"The validation accuracy is :\", history.history['val_accuracy'])\n",
    "print(\"The training accuracy is :\", history.history['accuracy'])\n",
    "print(\"The validation loss is :\", history.history['val_loss'])\n",
    "print(\"The training loss is :\", history.history['loss'])"
   ]
  },
  {
   "cell_type": "markdown",
   "id": "c06ec2b6",
   "metadata": {},
   "source": [
    "### EValuating"
   ]
  },
  {
   "cell_type": "code",
   "execution_count": null,
   "id": "c05d1df6",
   "metadata": {},
   "outputs": [],
   "source": [
    "model = load_model('../input/az-alphabet-classifierrecognizer/ConvModel.h5')"
   ]
  },
  {
   "cell_type": "code",
   "execution_count": null,
   "id": "f15beab5",
   "metadata": {},
   "outputs": [],
   "source": [
    "model.evaluate(X_test,y_test)"
   ]
  },
  {
   "cell_type": "markdown",
   "id": "725986f5",
   "metadata": {},
   "source": [
    "### Predictions"
   ]
  },
  {
   "cell_type": "code",
   "execution_count": null,
   "id": "c708e704",
   "metadata": {},
   "outputs": [],
   "source": [
    "plt.figure(figsize=(20,20))\n",
    "for i in range(1, 101):\n",
    "    \n",
    "    id = np.random.randint(len(X_test))\n",
    "    image, label = X_test[id].reshape(28,28), class_mapping[int(y_test[id])]\n",
    "    pred = class_mapping[int(np.argmax(model.predict(image.reshape(-1,28,28,1))))]\n",
    "    \n",
    "    plt.subplot(10,10,i)\n",
    "    plt.imshow(image, cmap='binary')\n",
    "    plt.title(f\"Org: {label}, Pred: {pred}\")\n",
    "    plt.axis('off')\n",
    "    \n",
    "plt.tight_layout()\n",
    "plt.show()"
   ]
  }
 ],
 "metadata": {
  "kernelspec": {
   "display_name": "Python 3 (ipykernel)",
   "language": "python",
   "name": "python3"
  },
  "language_info": {
   "codemirror_mode": {
    "name": "ipython",
    "version": 3
   },
   "file_extension": ".py",
   "mimetype": "text/x-python",
   "name": "python",
   "nbconvert_exporter": "python",
   "pygments_lexer": "ipython3",
   "version": "3.8.13"
  }
 },
 "nbformat": 4,
 "nbformat_minor": 5
}
