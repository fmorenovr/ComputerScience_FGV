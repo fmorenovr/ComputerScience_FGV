{
 "cells": [
  {
   "cell_type": "code",
   "execution_count": null,
   "id": "1fc31d8f",
   "metadata": {
    "scrolled": true
   },
   "outputs": [],
   "source": [
    "# Common\n",
    "import os \n",
    "import keras\n",
    "import numpy as np\n",
    "import tensorflow as tf\n",
    "\n",
    "# Data \n",
    "import pandas as pd\n",
    "from keras.preprocessing.image import ImageDataGenerator \n",
    "from sklearn.model_selection import StratifiedShuffleSplit, train_test_split, StratifiedKFold\n",
    "\n",
    "# Data Visualization \n",
    "import plotly.express as px\n",
    "import matplotlib.pyplot as plt"
   ]
  },
  {
   "cell_type": "code",
   "execution_count": null,
   "id": "bd53a864",
   "metadata": {},
   "outputs": [],
   "source": [
    "# Model \n",
    "from keras.models import Sequential, load_model\n",
    "from keras.layers import Conv2D, MaxPool2D, BatchNormalization, Dropout, Dense, GlobalAvgPool2D, Flatten, MaxPooling2D\n",
    "\n",
    "# Optimizers\n",
    "from keras.optimizers import SGD, Adam\n",
    "\n",
    "# Callbacks \n",
    "from keras.callbacks import EarlyStopping, ModelCheckpoint"
   ]
  },
  {
   "cell_type": "code",
   "execution_count": null,
   "id": "fbf71ecd",
   "metadata": {},
   "outputs": [],
   "source": [
    "import tensorflow as tf\n",
    "print(tf.__version__)"
   ]
  },
  {
   "cell_type": "code",
   "execution_count": null,
   "id": "e6a2ee97",
   "metadata": {},
   "outputs": [],
   "source": [
    "from tensorflow.python.client import device_lib\n",
    "print(device_lib.list_local_devices())"
   ]
  },
  {
   "cell_type": "markdown",
   "id": "c92c7d63",
   "metadata": {},
   "source": [
    "### Data"
   ]
  },
  {
   "cell_type": "markdown",
   "id": "b322f855",
   "metadata": {},
   "source": [
    "Download from:\n",
    "\n",
    "- https://www.nist.gov/srd/nist-special-database-19\n",
    "- https://www.kaggle.com/datasets/sachinpatel21/az-handwritten-alphabets-in-csv-format/download?datasetVersionNumber=5\n",
    "- https://data-flair.s3.ap-south-1.amazonaws.com/Data-Science-Code/handwritten-character-recognition-code.zip"
   ]
  },
  {
   "cell_type": "code",
   "execution_count": null,
   "id": "9a62c642",
   "metadata": {},
   "outputs": [],
   "source": [
    "# Specify Data Path\n",
    "file_path = 'A_Z Handwritten Data.csv'\n",
    "\n",
    "# Column Names\n",
    "names = ['class']\n",
    "for id in range(1,785):\n",
    "    names.append(id)"
   ]
  },
  {
   "cell_type": "code",
   "execution_count": null,
   "id": "2ed13f50",
   "metadata": {},
   "outputs": [],
   "source": [
    "%%time\n",
    "\n",
    "# Load Data\n",
    "df = pd.read_csv(file_path,header=None, names=names)\n",
    "df.head()"
   ]
  },
  {
   "cell_type": "code",
   "execution_count": null,
   "id": "c3e506ae",
   "metadata": {},
   "outputs": [],
   "source": [
    "class_mapping = {}\n",
    "alphabets = ['A', 'B', 'C', 'D', 'E', 'F', 'G', 'H', 'I', 'J', 'K', 'L', 'M', 'N', 'O', 'P', 'Q', 'R', 'S', 'T', 'U', 'V', 'W', 'X', 'Y', 'Z']\n",
    "for i in range(len(alphabets)):\n",
    "    class_mapping[i] = alphabets[i]\n",
    "class_mapping"
   ]
  },
  {
   "cell_type": "code",
   "execution_count": null,
   "id": "351a1a7e",
   "metadata": {},
   "outputs": [],
   "source": [
    "names = df['class'].value_counts().keys().map(class_mapping)\n",
    "values = df['class'].value_counts()"
   ]
  },
  {
   "cell_type": "markdown",
   "id": "42bd4610",
   "metadata": {},
   "source": [
    "### Statistics"
   ]
  },
  {
   "cell_type": "code",
   "execution_count": null,
   "id": "ca120ad3",
   "metadata": {},
   "outputs": [],
   "source": [
    "# Plot Class Distribution\n",
    "fig = px.pie(\n",
    "    names=names,\n",
    "    values=values,\n",
    "    height=800,\n",
    "    title='Class Distribution'\n",
    ")\n",
    "fig.update_layout({'title':{'x':0.5}})\n",
    "fig.show()"
   ]
  },
  {
   "cell_type": "code",
   "execution_count": null,
   "id": "c604f9c3",
   "metadata": {},
   "outputs": [],
   "source": [
    "# Plot Class Distribution\n",
    "fig = px.bar(\n",
    "    x=names,\n",
    "    y=values,\n",
    "    height=800,\n",
    "    title='Class Distribution'\n",
    ")\n",
    "fig.update_layout({'title':{'x':0.5}})\n",
    "fig.show()"
   ]
  },
  {
   "cell_type": "markdown",
   "id": "3c9c0fd7",
   "metadata": {},
   "source": [
    "### Data Loading"
   ]
  },
  {
   "cell_type": "code",
   "execution_count": null,
   "id": "7de1d9fc",
   "metadata": {},
   "outputs": [],
   "source": [
    "def normalize(x):\n",
    "    x = (x.astype('float32') - 127.5) / 127.5\n",
    "    return x\n",
    "\n",
    "def unnormalize(x):\n",
    "    x = 127.5*x+127.5\n",
    "    return x"
   ]
  },
  {
   "cell_type": "code",
   "execution_count": null,
   "id": "949dd17a",
   "metadata": {},
   "outputs": [],
   "source": [
    "last_activation=\"sigmoid\""
   ]
  },
  {
   "cell_type": "code",
   "execution_count": null,
   "id": "fcf8618d",
   "metadata": {
    "scrolled": true
   },
   "outputs": [],
   "source": [
    "if last_activation==\"softmax\":\n",
    "    y_full_id = df.pop('class').to_numpy()\n",
    "    y_full = keras.utils.to_categorical(y_full_id)\n",
    "    \n",
    "else:\n",
    "    y_full = df.pop('class').to_numpy()\n",
    "\n",
    "x_orig = df.to_numpy().reshape(-1,28,28, 1)\n",
    "#x_full = normalize(x_orig) # -1 to 1\n",
    "x_full = x_orig/255.0 # 0 to 1"
   ]
  },
  {
   "cell_type": "code",
   "execution_count": null,
   "id": "8fe19b85",
   "metadata": {},
   "outputs": [],
   "source": [
    "# x_full = (x_full-1.0)*(-1) # inverting"
   ]
  },
  {
   "cell_type": "code",
   "execution_count": null,
   "id": "f8f4d6a1",
   "metadata": {},
   "outputs": [],
   "source": [
    "x_full.max(), x_full.min()"
   ]
  },
  {
   "cell_type": "code",
   "execution_count": null,
   "id": "eecef1f0",
   "metadata": {},
   "outputs": [],
   "source": [
    "splitter = StratifiedKFold(n_splits=3, shuffle=True, random_state=42)\n",
    "for train_ids, test_ids in splitter.split(x_full, y_full):\n",
    "    X_train, y_train = x_full[train_ids], y_full[train_ids]\n",
    "    X_test, y_test = x_full[test_ids], y_full[test_ids]"
   ]
  },
  {
   "cell_type": "code",
   "execution_count": null,
   "id": "cf659d29",
   "metadata": {},
   "outputs": [],
   "source": [
    "# X_train, X_test, y_train, y_test = train_test_split(x_full, y_full, test_size=0.2, random_state=42)"
   ]
  },
  {
   "cell_type": "code",
   "execution_count": null,
   "id": "b3b6e6db",
   "metadata": {},
   "outputs": [],
   "source": [
    "X_train.shape, y_train.shape"
   ]
  },
  {
   "cell_type": "markdown",
   "id": "5e625a6c",
   "metadata": {},
   "source": [
    "### Data Visualization"
   ]
  },
  {
   "cell_type": "code",
   "execution_count": null,
   "id": "c2f13b98",
   "metadata": {},
   "outputs": [],
   "source": [
    "plt.figure(figsize=(15,8))\n",
    "for i in range(1, 11):\n",
    "    \n",
    "    id_ = np.random.randint(len(X_train))\n",
    "    if last_activation==\"softmax\":\n",
    "        image, label = X_train[id_].reshape(28,28), class_mapping[int(y_train[id_].argmax())]\n",
    "    else:\n",
    "        image, label = X_train[id_].reshape(28,28), class_mapping[int(y_train[id_])]\n",
    "    \n",
    "    plt.subplot(2,5,i)\n",
    "    plt.imshow(image, cmap='binary')\n",
    "    plt.title(label)\n",
    "    plt.axis('off')\n",
    "    \n",
    "plt.tight_layout()\n",
    "plt.show()"
   ]
  },
  {
   "cell_type": "markdown",
   "id": "9d77089d",
   "metadata": {},
   "source": [
    "### Model"
   ]
  },
  {
   "cell_type": "code",
   "execution_count": null,
   "id": "27ab390e",
   "metadata": {},
   "outputs": [],
   "source": [
    "# model = Sequential()\n",
    "# model.add(Conv2D(32, (3, 3), activation='relu', kernel_initializer='he_uniform', input_shape=(28, 28, 1)))\n",
    "# model.add(MaxPooling2D((2, 2)))\n",
    "# model.add(Flatten())\n",
    "# model.add(Dense(100, activation='relu', kernel_initializer='he_uniform'))\n",
    "# model.add(Dense(26, activation=last_activation))"
   ]
  },
  {
   "cell_type": "code",
   "execution_count": null,
   "id": "5b94e8bd",
   "metadata": {},
   "outputs": [],
   "source": [
    "# model = Sequential()\n",
    "# model.add(Conv2D(32, (3, 3), activation='relu', kernel_initializer='he_uniform', input_shape=(28, 28, 1)))\n",
    "# model.add(MaxPooling2D((2, 2)))\n",
    "# model.add(Conv2D(64, (3, 3), activation='relu', kernel_initializer='he_uniform'))\n",
    "# model.add(Conv2D(64, (3, 3), activation='relu', kernel_initializer='he_uniform'))\n",
    "# model.add(MaxPooling2D((2, 2)))\n",
    "# model.add(Flatten())\n",
    "# model.add(Dense(100, activation='relu', kernel_initializer='he_uniform'))\n",
    "# model.add(Dense(26, activation=last_activation))"
   ]
  },
  {
   "cell_type": "code",
   "execution_count": null,
   "id": "60355355",
   "metadata": {
    "scrolled": true
   },
   "outputs": [],
   "source": [
    "# model = Sequential()\n",
    "# model.add(Conv2D(32, (3, 3), activation='relu', kernel_initializer='he_uniform', input_shape=(28, 28, 1)))\n",
    "# model.add(BatchNormalization())\n",
    "# model.add(MaxPooling2D((2, 2)))\n",
    "# model.add(Flatten())\n",
    "# model.add(Dense(100, activation='relu', kernel_initializer='he_uniform'))\n",
    "# model.add(BatchNormalization())\n",
    "# model.add(Dense(26, activation=last_activation))"
   ]
  },
  {
   "cell_type": "code",
   "execution_count": null,
   "id": "bfa9b31b",
   "metadata": {},
   "outputs": [],
   "source": [
    "# Model Architecture\n",
    "model = Sequential([\n",
    "    Conv2D(32, kernel_size=3, strides=2, padding='same', kernel_initializer='he_normal', input_shape=(28, 28, 1)),\n",
    "    MaxPool2D(),\n",
    "\n",
    "    BatchNormalization(),\n",
    "    Conv2D(64, kernel_size=3, padding='same', kernel_initializer='he_normal'),\n",
    "    BatchNormalization(),\n",
    "    Conv2D(64, kernel_size=3, padding='same', kernel_initializer='he_normal'),\n",
    "    MaxPool2D(),\n",
    "\n",
    "    BatchNormalization(),\n",
    "    Conv2D(128, kernel_size=3, padding='same', kernel_initializer='he_normal'),\n",
    "    BatchNormalization(),\n",
    "    Conv2D(128, kernel_size=3, padding='same', kernel_initializer='he_normal'),\n",
    "    MaxPool2D(),\n",
    "\n",
    "    BatchNormalization(),\n",
    "    Conv2D(256, kernel_size=3, padding='same', kernel_initializer='he_normal'),\n",
    "    BatchNormalization(),\n",
    "    Conv2D(256, kernel_size=3, padding='same', kernel_initializer='he_normal'),\n",
    "  \n",
    "    GlobalAvgPool2D(),\n",
    "    Dense(256, activation='relu'),\n",
    "    Dropout(0.2),\n",
    "    Dense(26, activation=last_activation)\n",
    "])"
   ]
  },
  {
   "cell_type": "code",
   "execution_count": null,
   "id": "622cf139",
   "metadata": {},
   "outputs": [],
   "source": [
    "model.summary()"
   ]
  },
  {
   "cell_type": "markdown",
   "id": "f4b9988b",
   "metadata": {},
   "source": [
    "### Training"
   ]
  },
  {
   "cell_type": "code",
   "execution_count": null,
   "id": "a4bbd00e",
   "metadata": {},
   "outputs": [],
   "source": [
    "# Compile\n",
    "\n",
    "opt = Adam(learning_rate=0.0001)\n",
    "\n",
    "if last_activation==\"softmax\":\n",
    "    model.compile(\n",
    "        loss='sparse_categorical_crossentropy',\n",
    "        optimizer=opt,\n",
    "        metrics=['accuracy']\n",
    "    )\n",
    "\n",
    "else:\n",
    "    model.compile(\n",
    "        loss='sparse_categorical_crossentropy',\n",
    "        optimizer=opt,\n",
    "        metrics=['accuracy']\n",
    "    )"
   ]
  },
  {
   "cell_type": "code",
   "execution_count": null,
   "id": "f40b5157",
   "metadata": {},
   "outputs": [],
   "source": [
    "# Callbacks\n",
    "cbs = [EarlyStopping(patience=8, restore_best_weights=True), ModelCheckpoint(\"model.h5\", save_best_only=True)]"
   ]
  },
  {
   "cell_type": "code",
   "execution_count": null,
   "id": "3a5f89c9",
   "metadata": {
    "scrolled": true
   },
   "outputs": [],
   "source": [
    "history = model.fit(\n",
    "            X_train, y_train,\n",
    "            validation_split=0.25,\n",
    "            epochs=50,\n",
    "            batch_size=64,\n",
    "            callbacks=cbs,\n",
    "            verbose=1\n",
    "        )"
   ]
  },
  {
   "cell_type": "code",
   "execution_count": null,
   "id": "5891537f",
   "metadata": {},
   "outputs": [],
   "source": [
    "print(\"The validation accuracy is :\", history.history['val_accuracy'])\n",
    "print(\"The training accuracy is :\", history.history['accuracy'])\n",
    "print(\"The validation loss is :\", history.history['val_loss'])\n",
    "print(\"The training loss is :\", history.history['loss'])"
   ]
  },
  {
   "cell_type": "markdown",
   "id": "c06ec2b6",
   "metadata": {},
   "source": [
    "### EValuating"
   ]
  },
  {
   "cell_type": "code",
   "execution_count": null,
   "id": "c05d1df6",
   "metadata": {},
   "outputs": [],
   "source": [
    "model = load_model('model.h5')"
   ]
  },
  {
   "cell_type": "code",
   "execution_count": null,
   "id": "f15beab5",
   "metadata": {},
   "outputs": [],
   "source": [
    "model.evaluate(X_test,y_test)"
   ]
  },
  {
   "cell_type": "markdown",
   "id": "725986f5",
   "metadata": {},
   "source": [
    "### Predictions"
   ]
  },
  {
   "cell_type": "code",
   "execution_count": null,
   "id": "c708e704",
   "metadata": {},
   "outputs": [],
   "source": [
    "plt.figure(figsize=(20,20))\n",
    "for i in range(1, 101):\n",
    "    \n",
    "    id_ = np.random.randint(len(X_test))\n",
    "    \n",
    "    if last_activation==\"softmax\":\n",
    "        image, label = X_test[id_].reshape(28,28), class_mapping[int(y_test[id_].argmax())]\n",
    "    else:\n",
    "        image, label = X_test[id_].reshape(28,28), class_mapping[int(y_test[id_])]\n",
    "    \n",
    "    pred = class_mapping[int(np.argmax(model.predict(image.reshape(-1,28,28,1))))]\n",
    "    \n",
    "    plt.subplot(10,10,i)\n",
    "    plt.imshow(image, cmap='binary')\n",
    "    plt.title(f\"Org: {label}, Pred: {pred}\")\n",
    "    plt.axis('off')\n",
    "    \n",
    "plt.tight_layout()\n",
    "plt.show()"
   ]
  }
 ],
 "metadata": {
  "kernelspec": {
   "display_name": "Python 3 (ipykernel)",
   "language": "python",
   "name": "python3"
  },
  "language_info": {
   "codemirror_mode": {
    "name": "ipython",
    "version": 3
   },
   "file_extension": ".py",
   "mimetype": "text/x-python",
   "name": "python",
   "nbconvert_exporter": "python",
   "pygments_lexer": "ipython3",
   "version": "3.8.13"
  }
 },
 "nbformat": 4,
 "nbformat_minor": 5
}
