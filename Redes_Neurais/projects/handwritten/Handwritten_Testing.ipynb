{
 "cells": [
  {
   "cell_type": "code",
   "execution_count": null,
   "id": "910f085f",
   "metadata": {},
   "outputs": [],
   "source": [
    "# Common\n",
    "import os \n",
    "import keras\n",
    "import numpy as np\n",
    "import tensorflow as tf\n",
    "\n",
    "# Data \n",
    "import pandas as pd\n",
    "from keras.preprocessing.image import ImageDataGenerator \n",
    "from sklearn.model_selection import StratifiedShuffleSplit, train_test_split, StratifiedKFold\n",
    "\n",
    "# Data Visualization \n",
    "import plotly.express as px\n",
    "import matplotlib.pyplot as plt"
   ]
  },
  {
   "cell_type": "code",
   "execution_count": null,
   "id": "625a8fe7",
   "metadata": {},
   "outputs": [],
   "source": [
    "# Model \n",
    "from keras.models import Sequential, load_model\n",
    "from keras.layers import Conv2D, MaxPool2D, BatchNormalization, Dropout, Dense, GlobalAvgPool2D, Flatten, MaxPooling2D\n",
    "\n",
    "# Optimizers\n",
    "from keras.optimizers import SGD, Adam\n",
    "\n",
    "# Callbacks \n",
    "from keras.callbacks import EarlyStopping, ModelCheckpoint"
   ]
  },
  {
   "cell_type": "code",
   "execution_count": null,
   "id": "c9f00896",
   "metadata": {},
   "outputs": [],
   "source": [
    "import tensorflow as tf\n",
    "print(tf.__version__)"
   ]
  },
  {
   "cell_type": "code",
   "execution_count": null,
   "id": "dd809302",
   "metadata": {},
   "outputs": [],
   "source": [
    "from tensorflow.python.client import device_lib\n",
    "print(device_lib.list_local_devices())"
   ]
  },
  {
   "cell_type": "markdown",
   "id": "46f72cfe",
   "metadata": {},
   "source": [
    "### Data"
   ]
  },
  {
   "cell_type": "markdown",
   "id": "6ad0efe9",
   "metadata": {},
   "source": [
    "Download from:\n",
    "\n",
    "- https://www.nist.gov/srd/nist-special-database-19\n",
    "- https://www.kaggle.com/datasets/sachinpatel21/az-handwritten-alphabets-in-csv-format/download?datasetVersionNumber=5\n",
    "- https://data-flair.s3.ap-south-1.amazonaws.com/Data-Science-Code/handwritten-character-recognition-code.zip"
   ]
  },
  {
   "cell_type": "code",
   "execution_count": null,
   "id": "1d8cd4f0",
   "metadata": {},
   "outputs": [],
   "source": [
    "# Specify Data Path\n",
    "file_path = 'A_Z Handwritten Data.csv'\n",
    "\n",
    "# Column Names\n",
    "names = ['class']\n",
    "for id in range(1,785):\n",
    "    names.append(id)"
   ]
  },
  {
   "cell_type": "code",
   "execution_count": null,
   "id": "8555376e",
   "metadata": {},
   "outputs": [],
   "source": [
    "%%time\n",
    "\n",
    "# Load Data\n",
    "df = pd.read_csv(file_path,header=None, names=names)\n",
    "df.head()"
   ]
  },
  {
   "cell_type": "code",
   "execution_count": null,
   "id": "c93598a1",
   "metadata": {},
   "outputs": [],
   "source": [
    "class_mapping = {}\n",
    "alphabets = ['A', 'B', 'C', 'D', 'E', 'F', 'G', 'H', 'I', 'J', 'K', 'L', 'M', 'N', 'O', 'P', 'Q', 'R', 'S', 'T', 'U', 'V', 'W', 'X', 'Y', 'Z']\n",
    "for i in range(len(alphabets)):\n",
    "    class_mapping[i] = alphabets[i]\n",
    "class_mapping"
   ]
  },
  {
   "cell_type": "code",
   "execution_count": null,
   "id": "983379d9",
   "metadata": {},
   "outputs": [],
   "source": [
    "names = df['class'].value_counts().keys().map(class_mapping)\n",
    "values = df['class'].value_counts()"
   ]
  },
  {
   "cell_type": "markdown",
   "id": "62774dd5",
   "metadata": {},
   "source": [
    "### Statistics"
   ]
  },
  {
   "cell_type": "code",
   "execution_count": null,
   "id": "3824aa45",
   "metadata": {},
   "outputs": [],
   "source": [
    "# Plot Class Distribution\n",
    "fig = px.pie(\n",
    "    names=names,\n",
    "    values=values,\n",
    "    height=800,\n",
    "    title='Class Distribution'\n",
    ")\n",
    "fig.update_layout({'title':{'x':0.5}})\n",
    "fig.show()"
   ]
  },
  {
   "cell_type": "code",
   "execution_count": null,
   "id": "1fcc3c59",
   "metadata": {},
   "outputs": [],
   "source": [
    "# Plot Class Distribution\n",
    "fig = px.bar(\n",
    "    x=names,\n",
    "    y=values,\n",
    "    height=800,\n",
    "    title='Class Distribution'\n",
    ")\n",
    "fig.update_layout({'title':{'x':0.5}})\n",
    "fig.show()"
   ]
  },
  {
   "cell_type": "markdown",
   "id": "8a77966a",
   "metadata": {},
   "source": [
    "### Data Loading"
   ]
  },
  {
   "cell_type": "code",
   "execution_count": null,
   "id": "ed86824e",
   "metadata": {},
   "outputs": [],
   "source": [
    "def normalize(x):\n",
    "    x = (x.astype('float32') - 127.5) / 127.5\n",
    "    return x\n",
    "\n",
    "def unnormalize(x):\n",
    "    x = 127.5*x+127.5\n",
    "    return x"
   ]
  },
  {
   "cell_type": "code",
   "execution_count": null,
   "id": "e110e2e3",
   "metadata": {},
   "outputs": [],
   "source": [
    "last_activation=\"sigmoid\""
   ]
  },
  {
   "cell_type": "code",
   "execution_count": null,
   "id": "4191ff38",
   "metadata": {},
   "outputs": [],
   "source": [
    "if last_activation==\"softmax\":\n",
    "    y_full_id = df.pop('class').to_numpy()\n",
    "    y_full = keras.utils.to_categorical(y_full_id)\n",
    "    \n",
    "else:\n",
    "    y_full = df.pop('class').to_numpy()\n",
    "\n",
    "x_orig = df.to_numpy().reshape(-1,28,28, 1)\n",
    "#x_full = normalize(x_orig) # -1 to 1\n",
    "x_full = x_orig/255.0 # 0 to 1"
   ]
  },
  {
   "cell_type": "code",
   "execution_count": null,
   "id": "c0da9f98",
   "metadata": {},
   "outputs": [],
   "source": [
    "# x_full = (x_full-1.0)*(-1) # inverting"
   ]
  },
  {
   "cell_type": "code",
   "execution_count": null,
   "id": "7fe62c1f",
   "metadata": {},
   "outputs": [],
   "source": [
    "x_full.max(), x_full.min()"
   ]
  },
  {
   "cell_type": "code",
   "execution_count": null,
   "id": "ceb3c4bd",
   "metadata": {},
   "outputs": [],
   "source": [
    "splitter = StratifiedKFold(n_splits=3, shuffle=True, random_state=42)\n",
    "for train_ids, test_ids in splitter.split(x_full, y_full):\n",
    "    X_train, y_train = x_full[train_ids], y_full[train_ids]\n",
    "    X_test, y_test = x_full[test_ids], y_full[test_ids]"
   ]
  },
  {
   "cell_type": "code",
   "execution_count": null,
   "id": "63da03c5",
   "metadata": {},
   "outputs": [],
   "source": [
    "X_train, X_test, y_train, y_test = train_test_split(x_full, y_full, test_size=0.2, random_state=42)"
   ]
  },
  {
   "cell_type": "code",
   "execution_count": null,
   "id": "b53fbc19",
   "metadata": {},
   "outputs": [],
   "source": [
    "X_train.shape, y_train.shape"
   ]
  },
  {
   "cell_type": "markdown",
   "id": "ec3d7bb5",
   "metadata": {},
   "source": [
    "### Data Visualization"
   ]
  },
  {
   "cell_type": "code",
   "execution_count": null,
   "id": "01a77b2f",
   "metadata": {},
   "outputs": [],
   "source": [
    "plt.figure(figsize=(15,8))\n",
    "for i in range(1, 11):\n",
    "    \n",
    "    id_ = np.random.randint(len(X_train))\n",
    "    if last_activation==\"softmax\":\n",
    "        image, label = X_train[id_].reshape(28,28), class_mapping[int(y_train[id_].argmax())]\n",
    "    else:\n",
    "        image, label = X_train[id_].reshape(28,28), class_mapping[int(y_train[id_])]\n",
    "    \n",
    "    plt.subplot(2,5,i)\n",
    "    plt.imshow(image, cmap='binary')\n",
    "    plt.title(label)\n",
    "    plt.axis('off')\n",
    "    \n",
    "plt.tight_layout()\n",
    "plt.show()"
   ]
  },
  {
   "cell_type": "markdown",
   "id": "08a69b39",
   "metadata": {},
   "source": [
    "### Model"
   ]
  },
  {
   "cell_type": "code",
   "execution_count": null,
   "id": "cd80513f",
   "metadata": {},
   "outputs": [],
   "source": [
    "model = load_model('ConvModel.h5')"
   ]
  },
  {
   "cell_type": "code",
   "execution_count": null,
   "id": "8f6d9213",
   "metadata": {},
   "outputs": [],
   "source": [
    "model.summary()"
   ]
  },
  {
   "cell_type": "markdown",
   "id": "67a296af",
   "metadata": {},
   "source": [
    "### Testing"
   ]
  },
  {
   "cell_type": "code",
   "execution_count": null,
   "id": "c4e5caa7",
   "metadata": {},
   "outputs": [],
   "source": [
    "model.evaluate(X_test,y_test)"
   ]
  },
  {
   "cell_type": "code",
   "execution_count": null,
   "id": "a24ca557",
   "metadata": {},
   "outputs": [],
   "source": [
    "plt.figure(figsize=(20,20))\n",
    "for i in range(1, 101):\n",
    "    \n",
    "    id_ = np.random.randint(len(X_test))\n",
    "    \n",
    "    if last_activation==\"softmax\":\n",
    "        image, label = X_test[id_].reshape(28,28), class_mapping[int(y_test[id_].argmax())]\n",
    "    else:\n",
    "        image, label = X_test[id_].reshape(28,28), class_mapping[int(y_test[id_])]\n",
    "    \n",
    "    pred = class_mapping[int(np.argmax(model.predict(image.reshape(-1,28,28,1))))]\n",
    "    \n",
    "    plt.subplot(10,10,i)\n",
    "    plt.imshow(image, cmap='binary')\n",
    "    plt.title(f\"Org: {label}, Pred: {pred}\")\n",
    "    plt.axis('off')\n",
    "    \n",
    "plt.tight_layout()\n",
    "plt.show()"
   ]
  }
 ],
 "metadata": {
  "kernelspec": {
   "display_name": "Python 3 (ipykernel)",
   "language": "python",
   "name": "python3"
  },
  "language_info": {
   "codemirror_mode": {
    "name": "ipython",
    "version": 3
   },
   "file_extension": ".py",
   "mimetype": "text/x-python",
   "name": "python",
   "nbconvert_exporter": "python",
   "pygments_lexer": "ipython3",
   "version": "3.8.13"
  }
 },
 "nbformat": 4,
 "nbformat_minor": 5
}
