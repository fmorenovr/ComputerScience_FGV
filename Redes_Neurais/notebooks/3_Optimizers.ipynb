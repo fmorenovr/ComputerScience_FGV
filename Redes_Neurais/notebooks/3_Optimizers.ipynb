{
  "nbformat": 4,
  "nbformat_minor": 0,
  "metadata": {
    "colab": {
      "provenance": []
    },
    "kernelspec": {
      "name": "python3",
      "display_name": "Python 3"
    },
    "language_info": {
      "name": "python"
    },
    "accelerator": "GPU"
  },
  "cells": [
    {
      "cell_type": "markdown",
      "source": [
        "The main objective of this activity is to provide an initial experience trying different optimization strategies. We'll train a Neural Network to identify the numbers of MNIST dataset. The students will assess the convergence of the network using different optimizers parameters."
      ],
      "metadata": {
        "id": "INRvqwuie3gq"
      }
    },
    {
      "cell_type": "code",
      "execution_count": null,
      "metadata": {
        "id": "kwRVBXo1evaO"
      },
      "outputs": [],
      "source": [
        "import tensorflow as tf\n",
        "import numpy as np\n",
        "import matplotlib.pyplot as plt"
      ]
    },
    {
      "cell_type": "code",
      "source": [
        "(x_train,y_train), (x_test,y_test)= tf.keras.datasets.mnist.load_data()\n",
        "x_train = np.reshape(x_train, (-1, 784))\n",
        "x_test = np.reshape(x_test, (-1, 784))"
      ],
      "metadata": {
        "id": "lttzMAvQfpjY"
      },
      "execution_count": null,
      "outputs": []
    },
    {
      "cell_type": "code",
      "source": [
        "num_classes = 10\n",
        "# Dataset normalization\n",
        "x_train = x_train.astype('float32')\n",
        "x_test = x_test.astype('float32')\n",
        "x_train= x_train/255.\n",
        "x_test = x_test/255.\n",
        "# One-hot encoding\n",
        "y_train_h = np.zeros((np.size(y_train,0) , num_classes))\n",
        "y_test_h = np.zeros((np.size(y_test,0) , num_classes))\n",
        "for i in range(np.size(y_train , 0)):\n",
        "  y_train_h[i , y_train[i]] = 1\n",
        "\n",
        "for i in range(np.size(y_test , 0)):\n",
        "  y_test_h[i , y_test[i]] = 1\n"
      ],
      "metadata": {
        "id": "m1-ctI4Ff0dA"
      },
      "execution_count": null,
      "outputs": []
    },
    {
      "cell_type": "markdown",
      "source": [
        "Model creation"
      ],
      "metadata": {
        "id": "3PhN4p8ygQUW"
      }
    },
    {
      "cell_type": "code",
      "source": [
        "model = tf.keras.models.Sequential()\n",
        "model.add(tf.keras.layers.Dense(256, 'sigmoid'))\n",
        "model.add(tf.keras.layers.Dense(512, 'relu'))\n",
        "model.add(tf.keras.layers.Dense(256, 'relu'))\n",
        "model.add(tf.keras.layers.Dense(10, 'sigmoid'))"
      ],
      "metadata": {
        "id": "ZH7d0fEbgO-B"
      },
      "execution_count": null,
      "outputs": []
    },
    {
      "cell_type": "code",
      "source": [
        "#inputs = tf.keras.Input(shape=(784,))\n",
        "#x = tf.keras.layers.Dense(256, activation=\"relu\")(inputs)\n",
        "#x = tf.keras.layers.Dense(512, activation=\"relu\")(x)\n",
        "#x = tf.keras.layers.Dense(256, activation=\"relu\")(x)\n",
        "#outputs = tf.keras.layers.Dense(10, activation=\"sigmoid\")(x)\n",
        "#model = tf.keras.Model(inputs=inputs, outputs=outputs)"
      ],
      "metadata": {
        "id": "TDqqF0g6EK0U"
      },
      "execution_count": null,
      "outputs": []
    },
    {
      "cell_type": "code",
      "source": [
        "lr = 0.01\n",
        "momentum = 0.01\n",
        "nest = False#True\n",
        "\n",
        "optimizer = tf.keras.optimizers.SGD(learning_rate=lr, momentum=momentum, nesterov = nest)\n",
        "#optimizer = tf.keras.optimizers.Adam(learning_rate=lr)\n",
        "#optimizer = tf.keras.optimizers.RMSprop(learning_rate=lr)\n",
        "#optimizer = tf.keras.optimizers.Adagrad(learning_rate=lr)\n",
        "\n",
        "loss = tf.keras.losses.CategoricalCrossentropy()\n",
        "\n",
        "metrics = [\n",
        "           'accuracy'\n",
        "]\n",
        "\n",
        "batch_size = 128\n",
        "epochs = 50"
      ],
      "metadata": {
        "id": "7QvwscUXg5go"
      },
      "execution_count": null,
      "outputs": []
    },
    {
      "cell_type": "code",
      "source": [
        "model.compile(\n",
        "    optimizer=optimizer,\n",
        "    loss = loss,\n",
        "    metrics = metrics\n",
        ")"
      ],
      "metadata": {
        "id": "nmciRMlRiLPv"
      },
      "execution_count": null,
      "outputs": []
    },
    {
      "cell_type": "code",
      "source": [
        "early_stop = tf.keras.callbacks.EarlyStopping(\n",
        "    monitor=\"val_accuracy\",\n",
        "    patience=10,\n",
        "    verbose=1,\n",
        "    mode='max',\n",
        "    restore_best_weights=True,\n",
        ")\n",
        "callbacks = [early_stop]"
      ],
      "metadata": {
        "id": "FM1rL3iQ3gfE"
      },
      "execution_count": null,
      "outputs": []
    },
    {
      "cell_type": "code",
      "source": [
        "history = model.fit(\n",
        "    x = x_train,\n",
        "    y = y_train_h,\n",
        "    batch_size = batch_size,\n",
        "    epochs = epochs,\n",
        "    validation_split = 0.2,\n",
        "    callbacks = callbacks\n",
        ")"
      ],
      "metadata": {
        "id": "2dMbGT7ii4vu"
      },
      "execution_count": null,
      "outputs": []
    },
    {
      "cell_type": "code",
      "source": [
        "model.evaluate(\n",
        "    x = x_test,\n",
        "    y = y_test_h\n",
        ")"
      ],
      "metadata": {
        "id": "NJR6i9Mwms6E"
      },
      "execution_count": null,
      "outputs": []
    },
    {
      "cell_type": "code",
      "source": [
        "plt.plot(history.history['accuracy'])\n",
        "plt.plot(history.history['val_accuracy'])\n",
        "plt.title('Model Accuracy')\n",
        "plt.ylabel('accuracy')\n",
        "plt.xlabel('epoch')\n",
        "plt.legend(['train', 'validation'], loc='lower right')\n",
        "plt.show()"
      ],
      "metadata": {
        "id": "j6lzj7vZkofW"
      },
      "execution_count": null,
      "outputs": []
    },
    {
      "cell_type": "code",
      "source": [
        "plt.plot(history.history['loss'])\n",
        "plt.plot(history.history['val_loss'])\n",
        "plt.title('model loss')\n",
        "plt.ylabel('loss')\n",
        "plt.xlabel('epoch')\n",
        "plt.legend(['train', 'validation'], loc='upper right')\n",
        "plt.show()"
      ],
      "metadata": {
        "id": "V8g4mDtlmakb"
      },
      "execution_count": null,
      "outputs": []
    },
    {
      "cell_type": "markdown",
      "source": [
        "## Exercise:\n",
        "\n",
        "Try other training parameters, following this table.\n",
        "\n",
        "---\n",
        "\n",
        "Student | Optimizer | Learning Rate\n",
        "--------|------------|---------\n",
        "1            |SGD                | 0.01\n",
        "2    |SGD+Momentum       | 0.01\n",
        "3             |Nesterov Momentum  | 0.01\n",
        "4       |Adagrad            | 0.01\n",
        "5                        |RMSProp            | 0.01\n",
        "6                        |RMSProp            | 0.1\n",
        "7               |Adam               | 0.01\n",
        "8                           |Adam               | 0.0001\n",
        "9             |Adam               | 0.1\n",
        "10             |Adam               | 0.3\n",
        "11             |SGD               | 0.3\n",
        "12             |Adagrad               | 0.3\n",
        "13             |RMSprop               | 0.3\n",
        "\n",
        "---\n",
        "\n",
        "Register your results in [https://docs.google.com/document/d/1fYb2Rv36RDRX-K3OXkb3-YVZ0vGv5kb2DG6iahKB-_w/edit?usp=sharing]"
      ],
      "metadata": {
        "id": "8WF3l0R1xbl7"
      }
    },
    {
      "cell_type": "code",
      "source": [],
      "metadata": {
        "id": "rf8mUeSSxg3r"
      },
      "execution_count": null,
      "outputs": []
    }
  ]
}