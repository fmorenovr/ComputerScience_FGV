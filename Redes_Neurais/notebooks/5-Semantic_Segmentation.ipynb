{
  "nbformat": 4,
  "nbformat_minor": 0,
  "metadata": {
    "accelerator": "GPU",
    "colab": {
      "provenance": [],
      "collapsed_sections": []
    },
    "kernelspec": {
      "display_name": "Python 3",
      "name": "python3"
    }
  },
  "cells": [
    {
      "cell_type": "markdown",
      "metadata": {
        "id": "hKA9f8O0_dkM"
      },
      "source": [
        "# **Lab Semantic Segmentation**\n",
        "\n",
        "# Objective:\n",
        "Train  Fully Convolutional Neural Network for Change Detection in a Region of the Cerrado Biome\n",
        "\n",
        "# Dataset\n",
        "Two images acquired at two different dates in a region of the Cerrado Biome\n",
        "\n",
        "**Sensor:** Landsat 8\n",
        "\n",
        "**Bands:** 7 (each image)\n",
        "\n",
        "**Spatial Resolution:** 30m x 30m\n",
        "\n",
        "<figure>\n",
        "<center>\n",
        "<img src= 'https://raw.githubusercontent.com/mabelortega/DL_Semantic_Segmentation/main/Figures/img_t1_t2_001.png'/>\n",
        "</figure>\n",
        "\n",
        "\n",
        "---\n",
        "\n",
        "# Methodology\n",
        "<center>\n",
        "<img src= 'https://raw.githubusercontent.com/mabelortega/DL_Semantic_Segmentation/main/Figures/methodology_001.png'/>\n",
        "</center>\n",
        "\n",
        "\n",
        "\n",
        "\n",
        "\n"
      ]
    },
    {
      "cell_type": "code",
      "metadata": {
        "id": "5uJOK0Z4oPdn",
        "colab": {
          "base_uri": "https://localhost:8080/"
        },
        "outputId": "112948c2-2bd1-4b07-efac-f01239149b93"
      },
      "source": [
        "from google.colab import drive\n",
        "# mount your Google Drive\n",
        "drive.mount('/content/drive', force_remount=True)\n",
        "root_path = '/content/drive/My Drive/Colab Notebooks/' "
      ],
      "execution_count": null,
      "outputs": [
        {
          "output_type": "stream",
          "name": "stdout",
          "text": [
            "Mounted at /content/drive\n"
          ]
        }
      ]
    },
    {
      "cell_type": "markdown",
      "metadata": {
        "id": "6GKqtbhLm_av"
      },
      "source": [
        "# **Import libraries**"
      ]
    },
    {
      "cell_type": "code",
      "metadata": {
        "id": "5daTsmUfnJmo"
      },
      "source": [
        "import numpy as np\n",
        "import tensorflow as tf\n",
        "from numpy import random\n",
        "import matplotlib.pyplot as plt\n",
        "from sklearn.utils import shuffle\n",
        "import tensorflow.keras.backend as K\n",
        "from tensorflow.keras.layers import *\n",
        "from tensorflow.keras.optimizers import Adam\n",
        "from tensorflow.keras.models import Model, load_model, Sequential\n",
        "from sklearn.metrics import confusion_matrix, f1_score, precision_score, recall_score, accuracy_score"
      ],
      "execution_count": null,
      "outputs": []
    },
    {
      "cell_type": "markdown",
      "metadata": {
        "id": "auyHx1eGnL0j"
      },
      "source": [
        "# **Define our network**"
      ]
    },
    {
      "cell_type": "code",
      "metadata": {
        "id": "aMnuHEKPnKL-"
      },
      "source": [
        "# Define our network\n",
        "def FCN(input_shape, n_classes):\n",
        "  # Input shape = 128 x 128 x 14\n",
        "  # n_classes = 2 (0 - No def, 1 - Def)\n",
        "  input_img = Input(input_shape)\n",
        "  n_filters = [32, 64, 128, 256]\n",
        "  ## ENCODER\n",
        "  conv1 = Conv2D(n_filters[0] , (3 , 3) , activation='relu' , padding='same', name = 'conv1')(input_img) \n",
        "  pool1 = MaxPool2D((2 , 2), name = 'MaxPooling1')(conv1)\n",
        "\n",
        "  conv2 = Conv2D(n_filters[1], (3 , 3) , activation='relu' , padding='same', name = 'conv2')(pool1)\n",
        "  pool2 = MaxPool2D((2 , 2), name = 'MaxPooling2')(conv2)\n",
        "\n",
        "  conv3 = Conv2D(n_filters[2] , (3 , 3) , activation='relu' , padding='same', name = 'conv3')(pool2)\n",
        "  pool3 = MaxPool2D((2 , 2), name = 'MaxPooling3')(conv3)\n",
        "\n",
        "  conv4 = Conv2D(n_filters[3] , (3 , 3) , activation='relu' , padding='same', name = 'conv4')(pool3)\n",
        "\n",
        "  ## DECODER\n",
        "  upsample1 = Conv2D(n_filters[2], (3 , 3), activation = 'relu', padding = 'same')(UpSampling2D(size = (2,2), name = 'upsampling1')(conv4))\n",
        "\n",
        "  upsample2 = Conv2D(n_filters[1], (3 , 3), activation = 'relu', padding = 'same')(UpSampling2D(size = (2,2), name = 'upsampling2')(upsample1))\n",
        "\n",
        "  upsample3 = Conv2D(n_filters[0], (3 , 3), activation = 'relu', padding = 'same')(UpSampling2D(size = (2,2), name = 'upsampling3')(upsample2))\n",
        "  \n",
        "  # OUTPUT\n",
        "  output = Conv2D(n_classes,(1,1), activation = 'softmax')(upsample3)\n",
        "  \n",
        "  return Model(input_img , output) \n",
        "\n",
        "def weighted_categorical_crossentropy(weights):\n",
        "  \"\"\"\n",
        "  A weighted version of keras.objectives.categorical_crossentropy\n",
        "  \n",
        "  Variables:\n",
        "      weights: numpy array of shape (C,) where C is the number of classes\n",
        "  \n",
        "  Usage:\n",
        "      weights = np.array([0.5,2,10]) # Class one at 0.5, class 2 twice the normal weights, class 3 10x.\n",
        "      loss = weighted_categorical_crossentropy(weights)\n",
        "      model.compile(loss=loss,optimizer='adam')\n",
        "  \"\"\"\n",
        "  weights = K.variable(weights)\n",
        "  def loss(y_true, y_pred):\n",
        "    # scale predictions so that the class probas of each sample sum to 1\n",
        "    y_pred /= K.sum(y_pred, axis=-1, keepdims=True)\n",
        "    # clip to prevent NaN's and Inf's\n",
        "    y_pred = K.clip(y_pred, K.epsilon(), 1 - K.epsilon())\n",
        "    loss = y_true * K.log(y_pred) + (1-y_true) * K.log(1-y_pred)\n",
        "    loss = loss * weights \n",
        "    loss = - K.mean(loss, -1)\n",
        "    return loss\n",
        "  return loss"
      ],
      "execution_count": null,
      "outputs": []
    },
    {
      "cell_type": "markdown",
      "metadata": {
        "id": "XaMq5XBd7NOA"
      },
      "source": [
        "# **Load data**"
      ]
    },
    {
      "cell_type": "code",
      "metadata": {
        "id": "oOFRoB5zIZ7d",
        "colab": {
          "base_uri": "https://localhost:8080/"
        },
        "outputId": "4f9416f3-5994-44ca-96c8-847044569e66"
      },
      "source": [
        "# take around one minute clone the project\n",
        "!git clone https://gitlab.com/mabelortega.12/dl_semantic_segmentation.git"
      ],
      "execution_count": null,
      "outputs": [
        {
          "output_type": "stream",
          "name": "stdout",
          "text": [
            "Cloning into 'dl_semantic_segmentation'...\n",
            "remote: Enumerating objects: 6, done.\u001b[K\n",
            "remote: Counting objects: 100% (6/6), done.\u001b[K\n",
            "remote: Compressing objects: 100% (4/4), done.\u001b[K\n",
            "remote: Total 6 (delta 0), reused 0 (delta 0), pack-reused 0\u001b[K\n",
            "Unpacking objects: 100% (6/6), done.\n"
          ]
        }
      ]
    },
    {
      "cell_type": "code",
      "metadata": {
        "id": "xW-yVExNIdEt",
        "colab": {
          "base_uri": "https://localhost:8080/"
        },
        "outputId": "1f50e05c-d878-4609-9b39-5e2dd3f7e24d"
      },
      "source": [
        "!unzip dl_semantic_segmentation/Data.zip"
      ],
      "execution_count": null,
      "outputs": [
        {
          "output_type": "stream",
          "name": "stdout",
          "text": [
            "Archive:  dl_semantic_segmentation/Data.zip\n",
            "   creating: Data/\n",
            "  inflating: Data/tr_patches.npy     \n",
            "  inflating: Data/tr_ref.npy         \n",
            "  inflating: Data/ts_patches.npy     \n",
            "  inflating: Data/ts_ref.npy         \n"
          ]
        }
      ]
    },
    {
      "cell_type": "code",
      "metadata": {
        "id": "wnajlXF4IhAP",
        "colab": {
          "base_uri": "https://localhost:8080/"
        },
        "outputId": "6e2ff656-0785-4ca9-cfac-8e9608fa5a35"
      },
      "source": [
        "# Training patches\n",
        "patches_tr = np.load('Data/tr_patches.npy')\n",
        "patches_tr_ref = np.load('Data/tr_ref.npy')\n",
        "print('patches train size: ', patches_tr.shape)\n",
        "print('patches ref size: ', patches_tr_ref.shape)"
      ],
      "execution_count": null,
      "outputs": [
        {
          "output_type": "stream",
          "name": "stdout",
          "text": [
            "patches train size:  (324, 128, 128, 14)\n",
            "patches ref size:  (324, 128, 128)\n"
          ]
        }
      ]
    },
    {
      "cell_type": "markdown",
      "metadata": {
        "id": "W5GXcQcVFTT0"
      },
      "source": [
        "# **One-hot-encoding**\n",
        "\n",
        "<center>\n",
        "<img align=\"center\" width=\"400\" height=\"300\" src= 'https://raw.githubusercontent.com/mabelortega/DL_Semantic_Segmentation/main/Figures/One_hot_encoding.jpeg'>\n",
        "</center>"
      ]
    },
    {
      "cell_type": "code",
      "metadata": {
        "id": "pOjiZUcqJuzj",
        "colab": {
          "base_uri": "https://localhost:8080/"
        },
        "outputId": "194de262-444d-4c7b-bc17-b510a2bc0914"
      },
      "source": [
        "# One hot enconding\n",
        "number_class = 2\n",
        "patches_tr_ref_h = tf.keras.utils.to_categorical(patches_tr_ref, number_class)\n",
        "print(patches_tr_ref_h.shape)\n"
      ],
      "execution_count": null,
      "outputs": [
        {
          "output_type": "stream",
          "name": "stdout",
          "text": [
            "(324, 128, 128, 2)\n"
          ]
        }
      ]
    },
    {
      "cell_type": "code",
      "metadata": {
        "id": "WM-nrl4W8wAI",
        "colab": {
          "base_uri": "https://localhost:8080/"
        },
        "outputId": "60b48f8e-3d8d-4ea3-980d-613bda6e0f2b"
      },
      "source": [
        "# Set weights\n",
        "weights = [0.2, 0.8]\n",
        "#weights = weights/np.sum(weights)\n",
        "print(weights)"
      ],
      "execution_count": null,
      "outputs": [
        {
          "output_type": "stream",
          "name": "stdout",
          "text": [
            "[0.2, 0.8]\n"
          ]
        }
      ]
    },
    {
      "cell_type": "markdown",
      "metadata": {
        "id": "DEGPdx1nadzQ"
      },
      "source": [
        "# **Train model**"
      ]
    },
    {
      "cell_type": "code",
      "metadata": {
        "id": "jzT5Hpfqh-xL"
      },
      "source": [
        "# Parameters\n",
        "batch_size = 32\n",
        "learning_rate = 1e-3\n",
        "epochs = 100\n",
        "channels = 14\n",
        "patch_size = 128\n",
        "number_class = 2\n",
        "name = 'fcn'"
      ],
      "execution_count": null,
      "outputs": []
    },
    {
      "cell_type": "code",
      "metadata": {
        "id": "_H6Y4Tpgw3Jj",
        "colab": {
          "base_uri": "https://localhost:8080/"
        },
        "outputId": "21d58acb-5b5e-42aa-fbea-30bed94af63a"
      },
      "source": [
        "# Function for training our model\n",
        "def Train_model(net, patches_train, patches_tr_lb_h, batch_size, epochs, filepath, name):\n",
        "  print('Start training.. ')\n",
        "  for epoch in range(epochs):\n",
        "\n",
        "    loss_tr = np.zeros((1 , 2))\n",
        "    #Computing the number of batchs\n",
        "    n_batchs_tr = patches_train.shape[0]//batch_size\n",
        "    \n",
        "    #Random shuffle the data\n",
        "    patches_train , patches_tr_lb_h = shuffle(patches_train , patches_tr_lb_h , random_state = 0)\n",
        "        \n",
        "    # Training the network per batch\n",
        "    for  batch in range(n_batchs_tr):\n",
        "                \n",
        "      x_train_b = patches_train[batch * batch_size : (batch + 1) * batch_size , : , : , :]\n",
        "      y_train_h_b = patches_tr_lb_h[batch * batch_size : (batch + 1) * batch_size , :, :, :]\n",
        "      \n",
        "      loss_tr = loss_tr + net.train_on_batch(x_train_b , y_train_h_b)\n",
        "    \n",
        "    # Training loss\n",
        "    loss_tr = loss_tr/n_batchs_tr\n",
        "    \n",
        "    print(\"%d [training loss: %f , Train acc.: %.2f%%]\" %(epoch , loss_tr[0 , 0], 100*loss_tr[0 , 1]))\n",
        "  # saving model    \n",
        "    net.save(root_path+name+'.h5')\n",
        "\n",
        "\n",
        "adam = Adam(lr = learning_rate , beta_1=0.9)\n",
        "net = FCN((patch_size, patch_size, channels), number_class)\n",
        "net.summary()\n",
        "loss = weighted_categorical_crossentropy(weights)\n",
        "net.compile(loss = loss,optimizer=adam , metrics=['accuracy'])\n",
        "Train_model(net, patches_tr, patches_tr_ref_h, batch_size, epochs, root_path, name)\n"
      ],
      "execution_count": null,
      "outputs": [
        {
          "output_type": "stream",
          "name": "stderr",
          "text": [
            "/usr/local/lib/python3.7/dist-packages/keras/optimizer_v2/adam.py:105: UserWarning: The `lr` argument is deprecated, use `learning_rate` instead.\n",
            "  super(Adam, self).__init__(name, **kwargs)\n"
          ]
        },
        {
          "output_type": "stream",
          "name": "stdout",
          "text": [
            "Model: \"model\"\n",
            "_________________________________________________________________\n",
            " Layer (type)                Output Shape              Param #   \n",
            "=================================================================\n",
            " input_1 (InputLayer)        [(None, 128, 128, 14)]    0         \n",
            "                                                                 \n",
            " conv1 (Conv2D)              (None, 128, 128, 32)      4064      \n",
            "                                                                 \n",
            " MaxPooling1 (MaxPooling2D)  (None, 64, 64, 32)        0         \n",
            "                                                                 \n",
            " conv2 (Conv2D)              (None, 64, 64, 64)        18496     \n",
            "                                                                 \n",
            " MaxPooling2 (MaxPooling2D)  (None, 32, 32, 64)        0         \n",
            "                                                                 \n",
            " conv3 (Conv2D)              (None, 32, 32, 128)       73856     \n",
            "                                                                 \n",
            " MaxPooling3 (MaxPooling2D)  (None, 16, 16, 128)       0         \n",
            "                                                                 \n",
            " conv4 (Conv2D)              (None, 16, 16, 256)       295168    \n",
            "                                                                 \n",
            " upsampling1 (UpSampling2D)  (None, 32, 32, 256)       0         \n",
            "                                                                 \n",
            " conv2d (Conv2D)             (None, 32, 32, 128)       295040    \n",
            "                                                                 \n",
            " upsampling2 (UpSampling2D)  (None, 64, 64, 128)       0         \n",
            "                                                                 \n",
            " conv2d_1 (Conv2D)           (None, 64, 64, 64)        73792     \n",
            "                                                                 \n",
            " upsampling3 (UpSampling2D)  (None, 128, 128, 64)      0         \n",
            "                                                                 \n",
            " conv2d_2 (Conv2D)           (None, 128, 128, 32)      18464     \n",
            "                                                                 \n",
            " conv2d_3 (Conv2D)           (None, 128, 128, 2)       66        \n",
            "                                                                 \n",
            "=================================================================\n",
            "Total params: 778,946\n",
            "Trainable params: 778,946\n",
            "Non-trainable params: 0\n",
            "_________________________________________________________________\n",
            "Start training.. \n",
            "0 [training loss: 0.197025 , Train acc.: 84.39%]\n",
            "1 [training loss: 0.109848 , Train acc.: 88.30%]\n",
            "2 [training loss: 0.086346 , Train acc.: 89.86%]\n",
            "3 [training loss: 0.074449 , Train acc.: 95.45%]\n",
            "4 [training loss: 0.056688 , Train acc.: 96.25%]\n",
            "5 [training loss: 0.045517 , Train acc.: 96.66%]\n",
            "6 [training loss: 0.042353 , Train acc.: 96.86%]\n",
            "7 [training loss: 0.039692 , Train acc.: 97.04%]\n",
            "8 [training loss: 0.037414 , Train acc.: 97.19%]\n",
            "9 [training loss: 0.035262 , Train acc.: 97.34%]\n",
            "10 [training loss: 0.033002 , Train acc.: 97.53%]\n",
            "11 [training loss: 0.030552 , Train acc.: 97.68%]\n",
            "12 [training loss: 0.029441 , Train acc.: 97.73%]\n",
            "13 [training loss: 0.028560 , Train acc.: 97.80%]\n",
            "14 [training loss: 0.026846 , Train acc.: 97.93%]\n",
            "15 [training loss: 0.024752 , Train acc.: 98.09%]\n",
            "16 [training loss: 0.024503 , Train acc.: 98.11%]\n",
            "17 [training loss: 0.022916 , Train acc.: 98.22%]\n",
            "18 [training loss: 0.021665 , Train acc.: 98.31%]\n",
            "19 [training loss: 0.020326 , Train acc.: 98.42%]\n",
            "20 [training loss: 0.018779 , Train acc.: 98.55%]\n",
            "21 [training loss: 0.018040 , Train acc.: 98.60%]\n",
            "22 [training loss: 0.019028 , Train acc.: 98.50%]\n",
            "23 [training loss: 0.017117 , Train acc.: 98.65%]\n",
            "24 [training loss: 0.016075 , Train acc.: 98.74%]\n",
            "25 [training loss: 0.015612 , Train acc.: 98.75%]\n",
            "26 [training loss: 0.015807 , Train acc.: 98.72%]\n",
            "27 [training loss: 0.014898 , Train acc.: 98.81%]\n",
            "28 [training loss: 0.014013 , Train acc.: 98.88%]\n",
            "29 [training loss: 0.012703 , Train acc.: 99.00%]\n",
            "30 [training loss: 0.011900 , Train acc.: 99.06%]\n",
            "31 [training loss: 0.011531 , Train acc.: 99.08%]\n",
            "32 [training loss: 0.011115 , Train acc.: 99.12%]\n",
            "33 [training loss: 0.010804 , Train acc.: 99.14%]\n",
            "34 [training loss: 0.010345 , Train acc.: 99.18%]\n",
            "35 [training loss: 0.010321 , Train acc.: 99.17%]\n",
            "36 [training loss: 0.019122 , Train acc.: 98.50%]\n",
            "37 [training loss: 0.014974 , Train acc.: 98.83%]\n",
            "38 [training loss: 0.011873 , Train acc.: 99.05%]\n",
            "39 [training loss: 0.010430 , Train acc.: 99.17%]\n",
            "40 [training loss: 0.009399 , Train acc.: 99.26%]\n",
            "41 [training loss: 0.008719 , Train acc.: 99.32%]\n",
            "42 [training loss: 0.008296 , Train acc.: 99.35%]\n",
            "43 [training loss: 0.007782 , Train acc.: 99.40%]\n",
            "44 [training loss: 0.007506 , Train acc.: 99.42%]\n",
            "45 [training loss: 0.007462 , Train acc.: 99.41%]\n",
            "46 [training loss: 0.007322 , Train acc.: 99.42%]\n",
            "47 [training loss: 0.012836 , Train acc.: 98.95%]\n",
            "48 [training loss: 0.009974 , Train acc.: 99.20%]\n",
            "49 [training loss: 0.008263 , Train acc.: 99.34%]\n",
            "50 [training loss: 0.007446 , Train acc.: 99.41%]\n",
            "51 [training loss: 0.006941 , Train acc.: 99.45%]\n",
            "52 [training loss: 0.006522 , Train acc.: 99.49%]\n",
            "53 [training loss: 0.006061 , Train acc.: 99.53%]\n",
            "54 [training loss: 0.005706 , Train acc.: 99.57%]\n",
            "55 [training loss: 0.005382 , Train acc.: 99.60%]\n",
            "56 [training loss: 0.005799 , Train acc.: 99.54%]\n",
            "57 [training loss: 0.006174 , Train acc.: 99.50%]\n",
            "58 [training loss: 0.005695 , Train acc.: 99.55%]\n",
            "59 [training loss: 0.005241 , Train acc.: 99.60%]\n",
            "60 [training loss: 0.005088 , Train acc.: 99.60%]\n",
            "61 [training loss: 0.005030 , Train acc.: 99.61%]\n",
            "62 [training loss: 0.004784 , Train acc.: 99.63%]\n",
            "63 [training loss: 0.005155 , Train acc.: 99.58%]\n",
            "64 [training loss: 0.005278 , Train acc.: 99.57%]\n",
            "65 [training loss: 0.006073 , Train acc.: 99.50%]\n",
            "66 [training loss: 0.006132 , Train acc.: 99.49%]\n",
            "67 [training loss: 0.005902 , Train acc.: 99.52%]\n",
            "68 [training loss: 0.005165 , Train acc.: 99.59%]\n",
            "69 [training loss: 0.004739 , Train acc.: 99.63%]\n",
            "70 [training loss: 0.004254 , Train acc.: 99.67%]\n",
            "71 [training loss: 0.003939 , Train acc.: 99.70%]\n",
            "72 [training loss: 0.003749 , Train acc.: 99.72%]\n",
            "73 [training loss: 0.003554 , Train acc.: 99.73%]\n",
            "74 [training loss: 0.003831 , Train acc.: 99.70%]\n",
            "75 [training loss: 0.006215 , Train acc.: 99.49%]\n",
            "76 [training loss: 0.005115 , Train acc.: 99.58%]\n",
            "77 [training loss: 0.004418 , Train acc.: 99.65%]\n",
            "78 [training loss: 0.003858 , Train acc.: 99.70%]\n",
            "79 [training loss: 0.003493 , Train acc.: 99.74%]\n",
            "80 [training loss: 0.003243 , Train acc.: 99.76%]\n",
            "81 [training loss: 0.003081 , Train acc.: 99.77%]\n",
            "82 [training loss: 0.003191 , Train acc.: 99.75%]\n",
            "83 [training loss: 0.003152 , Train acc.: 99.76%]\n",
            "84 [training loss: 0.002862 , Train acc.: 99.79%]\n",
            "85 [training loss: 0.002704 , Train acc.: 99.80%]\n",
            "86 [training loss: 0.002616 , Train acc.: 99.81%]\n",
            "87 [training loss: 0.002765 , Train acc.: 99.79%]\n",
            "88 [training loss: 0.003176 , Train acc.: 99.75%]\n",
            "89 [training loss: 0.002981 , Train acc.: 99.77%]\n",
            "90 [training loss: 0.003071 , Train acc.: 99.76%]\n",
            "91 [training loss: 0.003809 , Train acc.: 99.69%]\n",
            "92 [training loss: 0.003498 , Train acc.: 99.72%]\n",
            "93 [training loss: 0.003139 , Train acc.: 99.75%]\n",
            "94 [training loss: 0.002932 , Train acc.: 99.77%]\n",
            "95 [training loss: 0.002670 , Train acc.: 99.79%]\n",
            "96 [training loss: 0.002470 , Train acc.: 99.81%]\n",
            "97 [training loss: 0.002364 , Train acc.: 99.82%]\n",
            "98 [training loss: 0.002490 , Train acc.: 99.81%]\n",
            "99 [training loss: 0.002553 , Train acc.: 99.80%]\n"
          ]
        }
      ]
    },
    {
      "cell_type": "markdown",
      "metadata": {
        "id": "o-UNuiAB2uEN"
      },
      "source": [
        "# **Test model**"
      ]
    },
    {
      "cell_type": "code",
      "metadata": {
        "id": "FUvNfSNom3LG"
      },
      "source": [
        "# Function for testing our model\n",
        "def Test_model(model, patches_test):\n",
        "  result = model.predict(patches_test)\n",
        "  predicted_class = np.argmax(result, axis=-1)\n",
        "  return predicted_class"
      ],
      "execution_count": null,
      "outputs": []
    },
    {
      "cell_type": "code",
      "metadata": {
        "id": "HIbfg05FaZ8e",
        "colab": {
          "base_uri": "https://localhost:8080/"
        },
        "outputId": "4733ff70-8b3d-401d-9447-cc13aa548f35"
      },
      "source": [
        "# Test samples\n",
        "patches_ts = np.load('Data/ts_patches.npy')\n",
        "patches_ts_ref = np.load('Data/ts_ref.npy')\n",
        "\n",
        "# Loading pretraining model\n",
        "model = load_model(root_path+name+'.h5', compile=False)\n",
        "patches_pred = Test_model(model, patches_ts)\n",
        "print('final label shape:', patches_pred.shape)"
      ],
      "execution_count": null,
      "outputs": [
        {
          "output_type": "stream",
          "name": "stdout",
          "text": [
            "final label shape: (48, 128, 128)\n"
          ]
        }
      ]
    },
    {
      "cell_type": "markdown",
      "metadata": {
        "id": "-yDGXXEnk-id"
      },
      "source": [
        "# **Metrics**\n",
        "\n",
        "<center>\n",
        "<img align=\"center\" width=\"700\" height=\"300\" src= 'https://raw.githubusercontent.com/mabelortega/DL_Semantic_Segmentation/main/Figures/Metrics.png'>\n",
        "</center>\n",
        "\n"
      ]
    },
    {
      "cell_type": "code",
      "metadata": {
        "id": "TZKaCJjumyRT"
      },
      "source": [
        "# Computing metrics\n",
        "def compute_metrics(true_labels, predicted_labels):\n",
        "  accuracy = 100*accuracy_score(true_labels, predicted_labels)\n",
        "  f1score = 100*f1_score(true_labels, predicted_labels, average=None)\n",
        "  recall = 100*recall_score(true_labels, predicted_labels, average=None)\n",
        "  precision = 100*precision_score(true_labels, predicted_labels, average=None)\n",
        "  return accuracy, f1score, recall, precision"
      ],
      "execution_count": null,
      "outputs": []
    },
    {
      "cell_type": "code",
      "metadata": {
        "id": "Wqx1TPITjVZs",
        "colab": {
          "base_uri": "https://localhost:8080/"
        },
        "outputId": "66dfeefe-27a9-48f7-cf95-78fe28c7c29a"
      },
      "source": [
        "true_labels = patches_ts_ref.ravel()\n",
        "predicted_labels = patches_pred.ravel()\n",
        "\n",
        "metrics = compute_metrics(true_labels, predicted_labels)\n",
        "cm = confusion_matrix(true_labels, predicted_labels)\n",
        "\n",
        "print('Confusion  matrix \\n', cm)\n",
        "print('Accuracy: ', metrics[0])\n",
        "print('F1score: ', metrics[1])\n",
        "print('Recall: ', metrics[2])\n",
        "print('Precision: ', metrics[3])"
      ],
      "execution_count": null,
      "outputs": [
        {
          "output_type": "stream",
          "name": "stdout",
          "text": [
            "Confusion  matrix \n",
            " [[738957   5800]\n",
            " [ 11690  29985]]\n",
            "Accuracy:  97.77603149414062\n",
            "F1score:  [98.8304164  77.42060418]\n",
            "Recall:  [99.22122249 71.94961008]\n",
            "Precision:  [98.44267678 83.79209166]\n"
          ]
        }
      ]
    },
    {
      "cell_type": "markdown",
      "metadata": {
        "id": "XaMPVqE5-KCw"
      },
      "source": [
        "# **Visualization**"
      ]
    },
    {
      "cell_type": "code",
      "source": [
        "def PlotPred(X, Y, num_samples=10, color = True, cmap = None):\n",
        "    nr = 2 \n",
        "    fig, axes = plt.subplots(nrows=nr, ncols=num_samples, figsize=(16, 6))\n",
        "\n",
        "    for i in range(0,num_samples):\n",
        "        im = axes[0,i].imshow(X[i], cmap=cmap)\n",
        "        axes[0,i].axis('off')\n",
        "        axes[0,4].title.set_text('Reference')\n",
        "        im = axes[1,i].imshow(Y[i], cmap=cmap)\n",
        "        axes[1,i].axis('off')\n",
        "        axes[1,4].title.set_text('Prediction')\n",
        "    cbar = fig.colorbar(im, ax=axes.ravel().tolist(), shrink=0.3, ticks=[0, 1], location='bottom')\n",
        "    cbar.ax.set_xticklabels(['No-deforested', 'Deforested']) \n",
        "\n",
        "ii = 15\n",
        "PlotPred(patches_ts_ref[ii:ii+10], patches_pred[ii:ii+10], cmap = 'jet')"
      ],
      "metadata": {
        "colab": {
          "base_uri": "https://localhost:8080/",
          "height": 326
        },
        "id": "7ObMTLSAv77T",
        "outputId": "2f1c384c-0c45-4ede-a72c-aaaf668d8443"
      },
      "execution_count": null,
      "outputs": [
        {
          "output_type": "display_data",
          "data": {
            "text/plain": [
              "<Figure size 1152x432 with 21 Axes>"
            ],
            "image/png": "[encoded data removed]"
          },
          "metadata": {
            "needs_background": "light"
          }
        }
      ]
    },
    {
      "cell_type": "markdown",
      "source": [
        "# **Exercise**\n",
        "Fill the next table varying the parameters\n",
        "\n",
        "link for results [https://docs.google.com/document/d/1c2E4ipCnmk9Xrsmls-CGYNF6GXX50ucW86-GflbYMqM/edit?usp=sharing]\n",
        "\n",
        "Name        || Learning rate || Batch size || Filters || Prec. || Rec. || F1 ||\n",
        " --- || --- || --- || --- || --- || --- || --- ||\n",
        "1   ||  **'1e-1'**   ||  **8**     || **[8,16,32,64]**   || - || - || - ||\n",
        "2 ||  **'1e-2'**   ||  **16**    || **[8,16,32,64]**   || - || - || - ||\n",
        "3       ||  **'1e-4'**   ||  **32**    || **[16,32,64,128]** || - || - || - ||\n",
        "4       ||  **'1e-5'**   ||  **64**    || **[16,32,64,128]** || - || - || - ||\n",
        "5        ||  **'1e-3'**   ||  **8**     || **[32,64,128,256]**|| - || - || - ||\n",
        "6        ||  **'1e-3'**   ||  **16**    || **[32,64,128,256]**|| - || - || - ||\n",
        "7        ||  **'1e-3'**   ||  **32**    || **[32,64,128,256]**|| - || - || - ||\n",
        "8        ||  **'1e-3'**   ||  **64**    || **[32,64,128,256]**|| - || - || - ||\n",
        "9        ||  **'1e-5'**   ||  **16**    || **[32,64,128,256]**|| - || - || - ||\n",
        "10        ||  **'1e-5'**   ||  **32**    || **[32,64,128,256]**|| - || - || - ||\n",
        "11        ||  **'1e-5'**   ||  **64**    || **[32,64,128,256]**|| - || - || - ||\n",
        "12        ||  **'1e-3'**   ||  **32**    || **[64,128,256,512]**|| - || - || - ||\n",
        "13        ||  **'1e-3'**   ||  **64**    || **[64,128,256,512]**|| - || - || - ||\n",
        "\n"
      ],
      "metadata": {
        "id": "p37GWR8P9Uwd"
      }
    }
  ]
}