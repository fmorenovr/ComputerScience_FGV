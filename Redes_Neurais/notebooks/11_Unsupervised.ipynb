{
  "cells": [
    {
      "cell_type": "markdown",
      "metadata": {
        "id": "nVagVhkU3cSl"
      },
      "source": [
        "# **Unsupervised Learning Practice: Unsupervised Learning of Visual Features by Contrasting Cluster Assignments**\n",
        "\n",
        "This notebook implements and test the [SwAV](https://arxiv.org/pdf/2006.09882.pdf) approach (Swapping Assignments between multiple Views of the same image). The method simultaneously clusters the data while enforcing consistency between cluster assignments produced for different augmentations (or “views”) of the same image, instead of comparing features directly as in contrastive learning. The authors use a “swapped” prediction mechanism to predict the code of a view from the representation of another view. In addition, they also propose a new data augmentation strategy, multi-crop. \n",
        "\n",
        "The notebook workflow consists of:\n",
        "1. Define a ResNet50 as the backbone network\n",
        "2. Train SwAV and save the weights\n",
        "3. Fine-tune the networks with 5% of the labeled samples using a Linear Classifier at the bottom:\n",
        "  *  Baseline Network --> ResNet50 pre-trained with ImageNet\n",
        "  *  SwAV Network --> ResNet50 pre-trained with ImageNet + SwAV\n",
        "\n",
        "Authors: Dario Augusto Borges, Daliana Lobo Torres, Laura Elena Cue\\\n",
        "Source code in Pytorch: https://github.com/facebookresearch/swav \\\n",
        "Source code in TensorFlow: https://github.com/ayulockin/SwAV-TF\n"
      ]
    },
    {
      "cell_type": "markdown",
      "metadata": {
        "id": "PY9uEQ7-DNet"
      },
      "source": [
        "---\n",
        "\n",
        "## **Method**\n",
        "\n",
        "\"In SwAV, we first obtain “codes” by assigning features to prototype vectors. We then solve a “swapped” prediction problem wherein the codes obtained from one data augmented view are predicted using the other view. Thus, SwAV does not directly compare image features. Prototype vectors are learned along with the ConvNet parameters by backpropragation\".\n",
        "\n",
        "<figure>\n",
        "<center>\n",
        "<img src='https://i.ibb.co/TtSW4Fd/figure-3.png' width=\"600\"/> \n",
        "<figcaption align = \"center\"> Figure 1: High-level overview of SwAV. Source: <a href=\"https://arxiv.org/pdf/2006.09882.pdf\">SwAV.\n",
        "</center>\n",
        "</figure>\n"
      ]
    },
    {
      "cell_type": "markdown",
      "metadata": {
        "id": "u4mkp84M50uf"
      },
      "source": [
        "---\n",
        "\n",
        "## **Dataset** \n",
        "\"The CIFAR-10 dataset consists of 60000 32x32 colour images in 10 classes, with 6000 images per class. There are 50000 training images and 10000 test images. The dataset is divided into five training batches and one test batch, each with 10000 images. The test batch contains exactly 1000 randomly-selected images from each class. The training batches contain the remaining images in random order, but some training batches may contain more images from one class than another. Between them, the training batches contain exactly 5000 images from each class.\"\n",
        "\n",
        "\n",
        "[Read more.](https://www.cs.toronto.edu/~kriz/cifar.html)\n",
        "\n",
        "<table>\n",
        "    <tr>\n",
        "        <td class=\"cifar-class-name\">airplane</td>\n",
        "        <td><img src=\"https://www.cs.toronto.edu/~kriz/cifar-10-sample/airplane1.png\" class=\"cifar-sample\" /></td>\n",
        "        <td><img src=\"https://www.cs.toronto.edu/~kriz/cifar-10-sample/airplane2.png\" class=\"cifar-sample\" /></td>\n",
        "        <td><img src=\"https://www.cs.toronto.edu/~kriz/cifar-10-sample/airplane3.png\" class=\"cifar-sample\" /></td>\n",
        "        <td><img src=\"https://www.cs.toronto.edu/~kriz/cifar-10-sample/airplane4.png\" class=\"cifar-sample\" /></td>\n",
        "        <td><img src=\"https://www.cs.toronto.edu/~kriz/cifar-10-sample/airplane5.png\" class=\"cifar-sample\" /></td>\n",
        "        <td><img src=\"https://www.cs.toronto.edu/~kriz/cifar-10-sample/airplane6.png\" class=\"cifar-sample\" /></td>\n",
        "        <td><img src=\"https://www.cs.toronto.edu/~kriz/cifar-10-sample/airplane7.png\" class=\"cifar-sample\" /></td>\n",
        "        <td><img src=\"https://www.cs.toronto.edu/~kriz/cifar-10-sample/airplane8.png\" class=\"cifar-sample\" /></td>\n",
        "        <td><img src=\"https://www.cs.toronto.edu/~kriz/cifar-10-sample/airplane9.png\" class=\"cifar-sample\" /></td>\n",
        "        <td><img src=\"https://www.cs.toronto.edu/~kriz/cifar-10-sample/airplane10.png\" class=\"cifar-sample\" /></td>\n",
        "    </tr>\n",
        "    <tr>\n",
        "        <td class=\"https://www.cs.toronto.edu/~kriz/cifar-class-name\">automobile</td>\n",
        "        <td><img src=\"https://www.cs.toronto.edu/~kriz/cifar-10-sample/automobile1.png\" class=\"cifar-sample\" /></td>\n",
        "        <td><img src=\"https://www.cs.toronto.edu/~kriz/cifar-10-sample/automobile2.png\" class=\"cifar-sample\" /></td>\n",
        "        <td><img src=\"https://www.cs.toronto.edu/~kriz/cifar-10-sample/automobile3.png\" class=\"cifar-sample\" /></td>\n",
        "        <td><img src=\"https://www.cs.toronto.edu/~kriz/cifar-10-sample/automobile4.png\" class=\"cifar-sample\" /></td>\n",
        "        <td><img src=\"https://www.cs.toronto.edu/~kriz/cifar-10-sample/automobile5.png\" class=\"cifar-sample\" /></td>\n",
        "        <td><img src=\"https://www.cs.toronto.edu/~kriz/cifar-10-sample/automobile6.png\" class=\"cifar-sample\" /></td>\n",
        "        <td><img src=\"https://www.cs.toronto.edu/~kriz/cifar-10-sample/automobile7.png\" class=\"cifar-sample\" /></td>\n",
        "        <td><img src=\"https://www.cs.toronto.edu/~kriz/cifar-10-sample/automobile8.png\" class=\"cifar-sample\" /></td>\n",
        "        <td><img src=\"https://www.cs.toronto.edu/~kriz/cifar-10-sample/automobile9.png\" class=\"cifar-sample\" /></td>\n",
        "        <td><img src=\"https://www.cs.toronto.edu/~kriz/cifar-10-sample/automobile10.png\" class=\"cifar-sample\" /></td>\n",
        "    </tr>\n",
        "    <tr>\n",
        "        <td class=\"cifar-class-name\">bird</td>\n",
        "        <td><img src=\"https://www.cs.toronto.edu/~kriz/cifar-10-sample/bird1.png\" class=\"cifar-sample\" /></td>\n",
        "        <td><img src=\"https://www.cs.toronto.edu/~kriz/cifar-10-sample/bird2.png\" class=\"cifar-sample\" /></td>\n",
        "        <td><img src=\"https://www.cs.toronto.edu/~kriz/cifar-10-sample/bird3.png\" class=\"cifar-sample\" /></td>\n",
        "        <td><img src=\"https://www.cs.toronto.edu/~kriz/cifar-10-sample/bird4.png\" class=\"cifar-sample\" /></td>\n",
        "        <td><img src=\"https://www.cs.toronto.edu/~kriz/cifar-10-sample/bird5.png\" class=\"cifar-sample\" /></td>\n",
        "        <td><img src=\"https://www.cs.toronto.edu/~kriz/cifar-10-sample/bird6.png\" class=\"cifar-sample\" /></td>\n",
        "        <td><img src=\"https://www.cs.toronto.edu/~kriz/cifar-10-sample/bird7.png\" class=\"cifar-sample\" /></td>\n",
        "        <td><img src=\"https://www.cs.toronto.edu/~kriz/cifar-10-sample/bird8.png\" class=\"cifar-sample\" /></td>\n",
        "        <td><img src=\"https://www.cs.toronto.edu/~kriz/cifar-10-sample/bird9.png\" class=\"cifar-sample\" /></td>\n",
        "        <td><img src=\"https://www.cs.toronto.edu/~kriz/cifar-10-sample/bird10.png\" class=\"cifar-sample\" /></td>\n",
        "    </tr>\n",
        "    <tr>\n",
        "        <td class=\"cifar-class-name\">cat</td>\n",
        "        <td><img src=\"https://www.cs.toronto.edu/~kriz/cifar-10-sample/cat1.png\" class=\"cifar-sample\" /></td>\n",
        "        <td><img src=\"https://www.cs.toronto.edu/~kriz/cifar-10-sample/cat2.png\" class=\"cifar-sample\" /></td>\n",
        "        <td><img src=\"https://www.cs.toronto.edu/~kriz/cifar-10-sample/cat3.png\" class=\"cifar-sample\" /></td>\n",
        "        <td><img src=\"https://www.cs.toronto.edu/~kriz/cifar-10-sample/cat4.png\" class=\"cifar-sample\" /></td>\n",
        "        <td><img src=\"https://www.cs.toronto.edu/~kriz/cifar-10-sample/cat5.png\" class=\"cifar-sample\" /></td>\n",
        "        <td><img src=\"https://www.cs.toronto.edu/~kriz/cifar-10-sample/cat6.png\" class=\"cifar-sample\" /></td>\n",
        "        <td><img src=\"https://www.cs.toronto.edu/~kriz/cifar-10-sample/cat7.png\" class=\"cifar-sample\" /></td>\n",
        "        <td><img src=\"https://www.cs.toronto.edu/~kriz/cifar-10-sample/cat8.png\" class=\"cifar-sample\" /></td>\n",
        "        <td><img src=\"https://www.cs.toronto.edu/~kriz/cifar-10-sample/cat9.png\" class=\"cifar-sample\" /></td>\n",
        "        <td><img src=\"https://www.cs.toronto.edu/~kriz/cifar-10-sample/cat10.png\" class=\"cifar-sample\" /></td>\n",
        "    </tr>\n",
        "    <tr>\n",
        "        <td class=\"cifar-class-name\">deer</td>\n",
        "        <td><img src=\"https://www.cs.toronto.edu/~kriz/cifar-10-sample/deer1.png\" class=\"cifar-sample\" /></td>\n",
        "        <td><img src=\"https://www.cs.toronto.edu/~kriz/cifar-10-sample/deer2.png\" class=\"cifar-sample\" /></td>\n",
        "        <td><img src=\"https://www.cs.toronto.edu/~kriz/cifar-10-sample/deer3.png\" class=\"cifar-sample\" /></td>\n",
        "        <td><img src=\"https://www.cs.toronto.edu/~kriz/cifar-10-sample/deer4.png\" class=\"cifar-sample\" /></td>\n",
        "        <td><img src=\"https://www.cs.toronto.edu/~kriz/cifar-10-sample/deer5.png\" class=\"cifar-sample\" /></td>\n",
        "        <td><img src=\"https://www.cs.toronto.edu/~kriz/cifar-10-sample/deer6.png\" class=\"cifar-sample\" /></td>\n",
        "        <td><img src=\"https://www.cs.toronto.edu/~kriz/cifar-10-sample/deer7.png\" class=\"cifar-sample\" /></td>\n",
        "        <td><img src=\"https://www.cs.toronto.edu/~kriz/cifar-10-sample/deer8.png\" class=\"cifar-sample\" /></td>\n",
        "        <td><img src=\"https://www.cs.toronto.edu/~kriz/cifar-10-sample/deer9.png\" class=\"cifar-sample\" /></td>\n",
        "        <td><img src=\"https://www.cs.toronto.edu/~kriz/cifar-10-sample/deer10.png\" class=\"cifar-sample\" /></td>\n",
        "    </tr>\n",
        "    <tr>\n",
        "        <td class=\"cifar-class-name\">dog</td>\n",
        "        <td><img src=\"https://www.cs.toronto.edu/~kriz/cifar-10-sample/dog1.png\" class=\"cifar-sample\" /></td>\n",
        "        <td><img src=\"https://www.cs.toronto.edu/~kriz/cifar-10-sample/dog2.png\" class=\"cifar-sample\" /></td>\n",
        "        <td><img src=\"https://www.cs.toronto.edu/~kriz/cifar-10-sample/dog3.png\" class=\"cifar-sample\" /></td>\n",
        "        <td><img src=\"https://www.cs.toronto.edu/~kriz/cifar-10-sample/dog4.png\" class=\"cifar-sample\" /></td>\n",
        "        <td><img src=\"https://www.cs.toronto.edu/~kriz/cifar-10-sample/dog5.png\" class=\"cifar-sample\" /></td>\n",
        "        <td><img src=\"https://www.cs.toronto.edu/~kriz/cifar-10-sample/dog6.png\" class=\"cifar-sample\" /></td>\n",
        "        <td><img src=\"https://www.cs.toronto.edu/~kriz/cifar-10-sample/dog7.png\" class=\"cifar-sample\" /></td>\n",
        "        <td><img src=\"https://www.cs.toronto.edu/~kriz/cifar-10-sample/dog8.png\" class=\"cifar-sample\" /></td>\n",
        "        <td><img src=\"https://www.cs.toronto.edu/~kriz/cifar-10-sample/dog9.png\" class=\"cifar-sample\" /></td>\n",
        "        <td><img src=\"https://www.cs.toronto.edu/~kriz/cifar-10-sample/dog10.png\" class=\"cifar-sample\" /></td>\n",
        "    </tr>\n",
        "    <tr>\n",
        "        <td class=\"cifar-class-name\">frog</td>\n",
        "        <td><img src=\"https://www.cs.toronto.edu/~kriz/cifar-10-sample/frog1.png\" class=\"cifar-sample\" /></td>\n",
        "        <td><img src=\"https://www.cs.toronto.edu/~kriz/cifar-10-sample/frog2.png\" class=\"cifar-sample\" /></td>\n",
        "        <td><img src=\"https://www.cs.toronto.edu/~kriz/cifar-10-sample/frog3.png\" class=\"cifar-sample\" /></td>\n",
        "        <td><img src=\"https://www.cs.toronto.edu/~kriz/cifar-10-sample/frog4.png\" class=\"cifar-sample\" /></td>\n",
        "        <td><img src=\"https://www.cs.toronto.edu/~kriz/cifar-10-sample/frog5.png\" class=\"cifar-sample\" /></td>\n",
        "        <td><img src=\"https://www.cs.toronto.edu/~kriz/cifar-10-sample/frog6.png\" class=\"cifar-sample\" /></td>\n",
        "        <td><img src=\"https://www.cs.toronto.edu/~kriz/cifar-10-sample/frog7.png\" class=\"cifar-sample\" /></td>\n",
        "        <td><img src=\"https://www.cs.toronto.edu/~kriz/cifar-10-sample/frog8.png\" class=\"cifar-sample\" /></td>\n",
        "        <td><img src=\"https://www.cs.toronto.edu/~kriz/cifar-10-sample/frog9.png\" class=\"cifar-sample\" /></td>\n",
        "        <td><img src=\"https://www.cs.toronto.edu/~kriz/cifar-10-sample/frog10.png\" class=\"cifar-sample\" /></td>\n",
        "    </tr>\n",
        "    <tr>\n",
        "        <td class=\"cifar-class-name\">horse</td>\n",
        "        <td><img src=\"https://www.cs.toronto.edu/~kriz/cifar-10-sample/horse1.png\" class=\"cifar-sample\" /></td>\n",
        "        <td><img src=\"https://www.cs.toronto.edu/~kriz/cifar-10-sample/horse2.png\" class=\"cifar-sample\" /></td>\n",
        "        <td><img src=\"https://www.cs.toronto.edu/~kriz/cifar-10-sample/horse3.png\" class=\"cifar-sample\" /></td>\n",
        "        <td><img src=\"https://www.cs.toronto.edu/~kriz/cifar-10-sample/horse4.png\" class=\"cifar-sample\" /></td>\n",
        "        <td><img src=\"https://www.cs.toronto.edu/~kriz/cifar-10-sample/horse5.png\" class=\"cifar-sample\" /></td>\n",
        "        <td><img src=\"https://www.cs.toronto.edu/~kriz/cifar-10-sample/horse6.png\" class=\"cifar-sample\" /></td>\n",
        "        <td><img src=\"https://www.cs.toronto.edu/~kriz/cifar-10-sample/horse7.png\" class=\"cifar-sample\" /></td>\n",
        "        <td><img src=\"https://www.cs.toronto.edu/~kriz/cifar-10-sample/horse8.png\" class=\"cifar-sample\" /></td>\n",
        "        <td><img src=\"https://www.cs.toronto.edu/~kriz/cifar-10-sample/horse9.png\" class=\"cifar-sample\" /></td>\n",
        "        <td><img src=\"https://www.cs.toronto.edu/~kriz/cifar-10-sample/horse10.png\" class=\"cifar-sample\" /></td>\n",
        "    </tr>\n",
        "    <tr>\n",
        "        <td class=\"cifar-class-name\">ship</td>\n",
        "        <td><img src=\"https://www.cs.toronto.edu/~kriz/cifar-10-sample/ship1.png\" class=\"cifar-sample\" /></td>\n",
        "        <td><img src=\"https://www.cs.toronto.edu/~kriz/cifar-10-sample/ship2.png\" class=\"cifar-sample\" /></td>\n",
        "        <td><img src=\"https://www.cs.toronto.edu/~kriz/cifar-10-sample/ship3.png\" class=\"cifar-sample\" /></td>\n",
        "        <td><img src=\"https://www.cs.toronto.edu/~kriz/cifar-10-sample/ship4.png\" class=\"cifar-sample\" /></td>\n",
        "        <td><img src=\"https://www.cs.toronto.edu/~kriz/cifar-10-sample/ship5.png\" class=\"cifar-sample\" /></td>\n",
        "        <td><img src=\"https://www.cs.toronto.edu/~kriz/cifar-10-sample/ship6.png\" class=\"cifar-sample\" /></td>\n",
        "        <td><img src=\"https://www.cs.toronto.edu/~kriz/cifar-10-sample/ship7.png\" class=\"cifar-sample\" /></td>\n",
        "        <td><img src=\"https://www.cs.toronto.edu/~kriz/cifar-10-sample/ship8.png\" class=\"cifar-sample\" /></td>\n",
        "        <td><img src=\"https://www.cs.toronto.edu/~kriz/cifar-10-sample/ship9.png\" class=\"cifar-sample\" /></td>\n",
        "        <td><img src=\"https://www.cs.toronto.edu/~kriz/cifar-10-sample/ship10.png\" class=\"cifar-sample\" /></td>\n",
        "    </tr>\n",
        "    <tr>\n",
        "        <td class=\"cifar-class-name\">truck</td>\n",
        "        <td><img src=\"https://www.cs.toronto.edu/~kriz/cifar-10-sample/truck1.png\" class=\"cifar-sample\" /></td>\n",
        "        <td><img src=\"https://www.cs.toronto.edu/~kriz/cifar-10-sample/truck2.png\" class=\"cifar-sample\" /></td>\n",
        "        <td><img src=\"https://www.cs.toronto.edu/~kriz/cifar-10-sample/truck3.png\" class=\"cifar-sample\" /></td>\n",
        "        <td><img src=\"https://www.cs.toronto.edu/~kriz/cifar-10-sample/truck4.png\" class=\"cifar-sample\" /></td>\n",
        "        <td><img src=\"https://www.cs.toronto.edu/~kriz/cifar-10-sample/truck5.png\" class=\"cifar-sample\" /></td>\n",
        "        <td><img src=\"https://www.cs.toronto.edu/~kriz/cifar-10-sample/truck6.png\" class=\"cifar-sample\" /></td>\n",
        "        <td><img src=\"https://www.cs.toronto.edu/~kriz/cifar-10-sample/truck7.png\" class=\"cifar-sample\" /></td>\n",
        "        <td><img src=\"https://www.cs.toronto.edu/~kriz/cifar-10-sample/truck8.png\" class=\"cifar-sample\" /></td>\n",
        "        <td><img src=\"https://www.cs.toronto.edu/~kriz/cifar-10-sample/truck9.png\" class=\"cifar-sample\" /></td>\n",
        "        <td><img src=\"https://www.cs.toronto.edu/~kriz/cifar-10-sample/truck10.png\" class=\"cifar-sample\" /></td>\n",
        "    </tr>\n",
        "</table>\n",
        "\n",
        "\n"
      ]
    },
    {
      "cell_type": "markdown",
      "metadata": {
        "id": "Ja5K2rYGas9p"
      },
      "source": [
        "---\n",
        "## **Code**"
      ]
    },
    {
      "cell_type": "markdown",
      "metadata": {
        "id": "USI6vsJ4BcMU"
      },
      "source": [
        "### Import"
      ]
    },
    {
      "cell_type": "code",
      "execution_count": null,
      "metadata": {
        "colab": {
          "base_uri": "https://localhost:8080/"
        },
        "id": "f0MBB1IVas91",
        "outputId": "2b0e58b2-a5e2-44f8-fdcb-e498d917ec45"
      },
      "outputs": [
        {
          "output_type": "stream",
          "name": "stdout",
          "text": [
            "2.9.2\n"
          ]
        }
      ],
      "source": [
        "#@title Imports\n",
        "import tensorflow as tf\n",
        "import tensorflow_datasets as tfds\n",
        "from tensorflow.keras import layers\n",
        "from tensorflow.keras import models\n",
        "\n",
        "import matplotlib.pyplot as plt\n",
        "import numpy as np\n",
        "import random\n",
        "import time\n",
        "import os\n",
        "import random\n",
        "from tqdm import trange\n",
        "\n",
        "from itertools import groupby\n",
        "from tqdm import tqdm\n",
        "\n",
        "tf.random.set_seed(666)\n",
        "np.random.seed(666)\n",
        "\n",
        "tfds.disable_progress_bar()\n",
        "print(tf.__version__)"
      ]
    },
    {
      "cell_type": "markdown",
      "metadata": {
        "id": "b61LNKPGD7Wl"
      },
      "source": [
        "### Multi-Crop Augmentation Policy\n",
        "\n",
        "<figure>\n",
        "<center>\n",
        "<img src='https://i.ibb.co/RBGqZmk/figure-4.png' width=\"600\"/>\n",
        "<figcaption align = \"center\"> Figure 2: Multi-crop: the image is transformed into V+ 2 views: two global views and V small resolution zoomed views. Source: <a href=\"https://arxiv.org/pdf/2006.09882.pdf\"> SwAV.\n",
        "</center>\n",
        "</figure>"
      ]
    },
    {
      "cell_type": "code",
      "execution_count": null,
      "metadata": {
        "id": "WQ5DX9RrkF2f"
      },
      "outputs": [],
      "source": [
        "AUTO = tf.data.experimental.AUTOTUNE\n",
        "\n",
        "def random_apply(func, x, p):\n",
        "\treturn tf.cond(\n",
        "\t\ttf.less(tf.random.uniform([], minval=0, maxval=1, dtype=tf.float32),tf.cast(p, tf.float32)),\n",
        "            lambda: func(x),lambda: x)\n",
        " \n",
        "def gaussian_blur(image, kernel_size=23, padding='SAME'):\n",
        "  sigma = tf.random.uniform((1,))* 1.9 + 0.1\n",
        "\n",
        "  radius = tf.cast(kernel_size / 2, tf.int32)\n",
        "  kernel_size = radius * 2 + 1\n",
        "  x = tf.cast(tf.range(-radius, radius + 1), tf.float32)\n",
        "  blur_filter = tf.exp(\n",
        "    -tf.pow(x, 2.0) / (2.0 * tf.pow(tf.cast(sigma, tf.float32), 2.0)))\n",
        "  blur_filter /= tf.reduce_sum(blur_filter)\n",
        "  # One vertical and one horizontal filter.\n",
        "  blur_v = tf.reshape(blur_filter, [kernel_size, 1, 1, 1])\n",
        "  blur_h = tf.reshape(blur_filter, [1, kernel_size, 1, 1])\n",
        "  num_channels = tf.shape(image)[-1]\n",
        "  blur_h = tf.tile(blur_h, [1, 1, num_channels, 1])\n",
        "  blur_v = tf.tile(blur_v, [1, 1, num_channels, 1])\n",
        "  expand_batch_dim = image.shape.ndims == 3\n",
        "  if expand_batch_dim:\n",
        "    image = tf.expand_dims(image, axis=0)\n",
        "  blurred = tf.nn.depthwise_conv2d(\n",
        "    image, blur_h, strides=[1, 1, 1, 1], padding=padding)\n",
        "  blurred = tf.nn.depthwise_conv2d(\n",
        "    blurred, blur_v, strides=[1, 1, 1, 1], padding=padding)\n",
        "  if expand_batch_dim:\n",
        "    blurred = tf.squeeze(blurred, axis=0)\n",
        "  return blurred\n",
        "\n",
        "def color_jitter(x, s=0.5):\n",
        "\tx = tf.image.random_brightness(x, max_delta=0.8*s)\n",
        "\tx = tf.image.random_contrast(x, lower=1-0.8*s, upper=1+0.8*s)\n",
        "\tx = tf.image.random_saturation(x, lower=1-0.8*s, upper=1+0.8*s)\n",
        "\tx = tf.image.random_hue(x, max_delta=0.2*s)\n",
        "\tx = tf.clip_by_value(x, 0, 1)\n",
        "\treturn x\n",
        "\n",
        "def color_drop(x):\n",
        "\tx = tf.image.rgb_to_grayscale(x)\n",
        "\tx = tf.tile(x, [1, 1, 3])\n",
        "\treturn x\n",
        "\n",
        "def custom_augment(image):\n",
        "\t# Random flips\n",
        "\timage = random_apply(tf.image.flip_left_right, image, p=0.5)\n",
        "\t# Randomly apply gausian blur\n",
        "\timage = random_apply(gaussian_blur, image, p=0.5)\n",
        "\t# Randomly apply transformation (color distortions) with probability p.\n",
        "\timage = random_apply(color_jitter, image, p=0.8)\n",
        "\t# Randomly apply grayscale\n",
        "\timage = random_apply(color_drop, image, p=0.2)\n",
        "\n",
        "\treturn image\n",
        "\n",
        "def random_resize_crop(image, min_scale, max_scale, crop_size):\n",
        "\t# Conditional resizing\n",
        "  if crop_size == 32:\n",
        "    image_shape = 37\n",
        "    image = tf.image.resize(image, (image_shape, image_shape))\n",
        "  else:\n",
        "    image_shape = 16\n",
        "    image = tf.image.resize(image, (image_shape, image_shape))\n",
        "    \n",
        "  # Get the crop size for given min and max scale\n",
        "  size = tf.random.uniform(shape=(1,), minval=min_scale*image_shape,\n",
        "    maxval=max_scale*image_shape, dtype=tf.float32)\n",
        "  size = tf.cast(size, tf.int32)[0]\n",
        "  # Get the crop from the image\n",
        "  crop = tf.image.random_crop(image, (size,size,3))\n",
        "  crop_resize = tf.image.resize(crop, (crop_size, crop_size))\n",
        "  return crop_resize\n",
        "\n",
        "@tf.function\n",
        "def scale_image(image):\n",
        "\timage = tf.image.convert_image_dtype(image, tf.float32)\n",
        "\treturn image\n",
        "\n",
        "@tf.function\n",
        "def tie_together(image, min_scale, max_scale, crop_size):\n",
        "\t# Retrieve the image features\n",
        "\timage = image['image']\n",
        "\t# Scale the pixel values\n",
        "\timage = scale_image(image)\n",
        "\t# Random resized crops\n",
        "\timage = random_resize_crop(image, min_scale,max_scale, crop_size)\n",
        "\t# Color distortions & Gaussian blur\n",
        "\timage = custom_augment(image)\n",
        "\n",
        "\treturn image\n"
      ]
    },
    {
      "cell_type": "code",
      "execution_count": null,
      "metadata": {
        "id": "rwX4-FPfZnE0"
      },
      "outputs": [],
      "source": [
        "def get_multires_dataset(dataset,\n",
        "\tsize_crops,\n",
        "\tnum_crops,\n",
        "\tmin_scale,\n",
        "\tmax_scale,\n",
        "\toptions=None):\n",
        "\tloaders = tuple()\n",
        "\tfor i, num_crop in enumerate(num_crops):\n",
        "\t\tfor _ in range(num_crop):\n",
        "\t\t\tloader = (dataset.shuffle(1024).map(lambda x: tie_together(x, min_scale[i],\n",
        "                                                             max_scale[i], size_crops[i]), num_parallel_calls=AUTO))\n",
        "\t\t\tif options!=None:\n",
        "\t\t\t\tloader = loader.with_options(options)\n",
        "\t\t\tloaders += (loader, )\n",
        "\n",
        "\treturn loaders\n",
        "\n",
        "def shuffle_zipped_output(a,b,c,d,e):\n",
        "\tlistify = [a,b,c,d,e]\n",
        "\trandom.shuffle(listify)\n",
        "\n",
        "\treturn listify[0], listify[1], listify[2], listify[3], listify[4]\n"
      ]
    },
    {
      "cell_type": "code",
      "execution_count": null,
      "metadata": {
        "colab": {
          "base_uri": "https://localhost:8080/"
        },
        "id": "xaY8ICYdZxLH",
        "outputId": "f4d65712-717c-4465-d519-4b21749b9591"
      },
      "outputs": [
        {
          "output_type": "stream",
          "name": "stderr",
          "text": [
            "WARNING:absl:options.experimental_threading is deprecated. Use options.threading instead.\n"
          ]
        }
      ],
      "source": [
        "#@title Define parameters for Multi-Crop Data Augmentation\n",
        "# Set Configs and experimental options for tf.data.Dataset\n",
        "# Configs\n",
        "BS = 32\n",
        "SIZE_CROPS = [32, 16]         # [high res, low res]\n",
        "NUM_CROPS = [2, 3]            # [# high res, # low res]\n",
        "\n",
        "# Experimental options\n",
        "MIN_SCALE = [0.5, 0.14] \n",
        "MAX_SCALE = [1., 0.5]\n",
        "options = tf.data.Options()\n",
        "options.experimental_optimization.noop_elimination = True             # eliminate no-op transformations\n",
        "tf.compat.v1.data.experimental.OptimizationOptions.map_vectorization = True    # vectorize map transformations\n",
        "options.experimental_optimization.apply_default_optimizations = True  # apply default graph optimizations\n",
        "options.experimental_deterministic = False                            # disable deterministic order\n",
        "options.experimental_threading.max_intra_op_parallelism = 1           # overrides the maximum degree of intra-op parallelism"
      ]
    },
    {
      "cell_type": "code",
      "execution_count": null,
      "metadata": {
        "id": "g05XnHgHas-D",
        "colab": {
          "base_uri": "https://localhost:8080/"
        },
        "outputId": "f1bddbcd-7029-4213-bd74-e9c10d4b9648"
      },
      "outputs": [
        {
          "output_type": "stream",
          "name": "stdout",
          "text": [
            "<PrefetchDataset element_spec={'id': TensorSpec(shape=(), dtype=tf.string, name=None), 'image': TensorSpec(shape=(32, 32, 3), dtype=tf.uint8, name=None), 'label': TensorSpec(shape=(), dtype=tf.int64, name=None)}>\n"
          ]
        }
      ],
      "source": [
        "#@title Gather 5% of Cifar10 dataset\n",
        "train_ds, _ = tfds.load(\"cifar10\", split=[\"train[:5%]\", \"train[95%:]\"])\n",
        "print(train_ds)"
      ]
    },
    {
      "cell_type": "code",
      "execution_count": null,
      "metadata": {
        "colab": {
          "base_uri": "https://localhost:8080/",
          "height": 303
        },
        "id": "6T0OZagjas-G",
        "outputId": "71417e25-5e8f-4b70-c434-5b48b5f8b1bc"
      },
      "outputs": [
        {
          "output_type": "display_data",
          "data": {
            "text/plain": [
              "<Figure size 360x360 with 9 Axes>"
            ],
            "image/png": "[encoded data removed]"
          },
          "metadata": {
            "needs_background": "light"
          }
        }
      ],
      "source": [
        "#@title Visualization\n",
        "plt.figure(figsize=(5, 5))\n",
        "for i, image  in enumerate(train_ds.take(9)):\n",
        "    ax = plt.subplot(3, 3, i + 1)\n",
        "    plt.imshow(image['image'])\n",
        "    plt.axis(\"off\")"
      ]
    },
    {
      "cell_type": "code",
      "execution_count": null,
      "metadata": {
        "id": "GPIa_qLnas-N"
      },
      "outputs": [],
      "source": [
        "# Get multiple data loaders\n",
        "trainloaders = get_multires_dataset(train_ds,size_crops=SIZE_CROPS,\n",
        "                                    num_crops=NUM_CROPS,min_scale=MIN_SCALE,\n",
        "                                    max_scale=MAX_SCALE,options=options)"
      ]
    },
    {
      "cell_type": "code",
      "execution_count": null,
      "metadata": {
        "colab": {
          "base_uri": "https://localhost:8080/"
        },
        "id": "gMElfHvcas-R",
        "outputId": "5a0a06be-0390-4502-cddc-37bba9a1b343"
      },
      "outputs": [
        {
          "output_type": "stream",
          "name": "stdout",
          "text": [
            "(32, 32, 32, 3) (32, 32, 32, 3) (32, 16, 16, 3) (32, 16, 16, 3) (32, 16, 16, 3)\n"
          ]
        }
      ],
      "source": [
        "#Prepare the final data loader\n",
        "# Zipping \n",
        "trainloaders_zipped = tf.data.Dataset.zip(trainloaders)\n",
        "\n",
        "# Final trainloader\n",
        "trainloaders_zipped = (trainloaders_zipped.batch(BS).prefetch(AUTO))\n",
        "print(trainloaders_zipped)\n",
        "# Image shape of different views\n",
        "im1, im2, im3, im4, im5 = next(iter(trainloaders_zipped))\n",
        "print(im1.shape, im2.shape, im3.shape, im4.shape, im5.shape)"
      ]
    },
    {
      "cell_type": "markdown",
      "metadata": {
        "id": "FBS_4qNhas-V"
      },
      "source": [
        "### Model Architecture\n",
        "\n",
        "<figure>\n",
        "<center>\n",
        "<img src='https://i.ibb.co/7nXZpJB/figure-9.png' width=\"600\"/> \n",
        "<figcaption align = \"center\"> Figure 3: Backbone ResNet50 and projection_prototype model. Source: <a href=\"https://wandb.ai/authors/swav-tf/reports/Unsupervised-Visual-Representation-Learning-with-SwAV--VmlldzoyMjg3Mzg\">SwAV blog.\n",
        "</center>\n",
        "</figure>"
      ]
    },
    {
      "cell_type": "code",
      "execution_count": null,
      "metadata": {
        "colab": {
          "base_uri": "https://localhost:8080/"
        },
        "id": "R7ZQT-Fmas-W",
        "outputId": "778e8cd3-372e-43af-c63d-4853df5dd8b9"
      },
      "outputs": [
        {
          "output_type": "stream",
          "name": "stdout",
          "text": [
            "Downloading data from https://storage.googleapis.com/tensorflow/keras-applications/resnet/resnet50_weights_tf_dim_ordering_tf_kernels_notop.h5\n",
            "94773248/94765736 [==============================] - 1s 0us/step\n",
            "94781440/94765736 [==============================] - 1s 0us/step\n",
            "Model: \"model_1\"\n",
            "_________________________________________________________________\n",
            " Layer (type)                Output Shape              Param #   \n",
            "=================================================================\n",
            " input_2 (InputLayer)        [(None, None, None, 3)]   0         \n",
            "                                                                 \n",
            " model (Functional)          (None, None, None, 512)   1460096   \n",
            "                                                                 \n",
            " global_average_pooling2d (G  (None, 512)              0         \n",
            " lobalAveragePooling2D)                                          \n",
            "                                                                 \n",
            "=================================================================\n",
            "Total params: 1,460,096\n",
            "Trainable params: 1,449,984\n",
            "Non-trainable params: 10,112\n",
            "_________________________________________________________________\n"
          ]
        }
      ],
      "source": [
        "def get_resnet_backbone():\n",
        "  base_model = tf.keras.applications.ResNet50(include_top=False,\n",
        "                                              weights='imagenet')\n",
        "  base_model = models.Model(base_model.input, base_model.get_layer('conv3_block4_out').output)\n",
        "\n",
        "  #base_model.summary()\n",
        "  base_model.trainable = True\n",
        "\n",
        "  inputs = layers.Input((None, None, 3))\n",
        "  h = base_model(inputs, training=True)\n",
        "  h = layers.GlobalAveragePooling2D()(h)\n",
        "  backbone = models.Model(inputs, h)\n",
        "  return backbone\n",
        "\n",
        "def get_projection_prototype(dense_1=1024, dense_2=96, prototype_dimension=15):\n",
        "\tinputs = layers.Input((512, ))\n",
        "\tprojection_1 = layers.Dense(dense_1)(inputs)\n",
        "\tprojection_1 = layers.BatchNormalization()(projection_1)\n",
        "\tprojection_1 = layers.Activation(\"relu\")(projection_1)\n",
        "\n",
        "\tprojection_2 = layers.Dense(dense_2)(projection_1)\n",
        "\tprojection_2_normalize = tf.math.l2_normalize(projection_2, axis=1, name='projection')\n",
        "\n",
        "\tprototype = layers.Dense(prototype_dimension, use_bias=False, name='prototype')(projection_2_normalize)\n",
        "\n",
        "\treturn models.Model(inputs=inputs,outputs=[projection_2_normalize, prototype])\n",
        "\n",
        "\n",
        "feature_backbone = get_resnet_backbone()\n",
        "feature_backbone.summary()"
      ]
    },
    {
      "cell_type": "code",
      "execution_count": null,
      "metadata": {
        "colab": {
          "base_uri": "https://localhost:8080/"
        },
        "id": "4BS1k8x6as-Y",
        "outputId": "15d66dc8-01f9-49b4-c513-635741d5510d"
      },
      "outputs": [
        {
          "output_type": "stream",
          "name": "stdout",
          "text": [
            "Model: \"model_2\"\n",
            "_________________________________________________________________\n",
            " Layer (type)                Output Shape              Param #   \n",
            "=================================================================\n",
            " input_3 (InputLayer)        [(None, 512)]             0         \n",
            "                                                                 \n",
            " dense (Dense)               (None, 256)               131328    \n",
            "                                                                 \n",
            " batch_normalization (BatchN  (None, 256)              1024      \n",
            " ormalization)                                                   \n",
            "                                                                 \n",
            " activation (Activation)     (None, 256)               0         \n",
            "                                                                 \n",
            " dense_1 (Dense)             (None, 128)               32896     \n",
            "                                                                 \n",
            " tf.math.l2_normalize (TFOpL  (None, 128)              0         \n",
            " ambda)                                                          \n",
            "                                                                 \n",
            " prototype (Dense)           (None, 15)                1920      \n",
            "                                                                 \n",
            "=================================================================\n",
            "Total params: 167,168\n",
            "Trainable params: 166,656\n",
            "Non-trainable params: 512\n",
            "_________________________________________________________________\n"
          ]
        }
      ],
      "source": [
        "projection_prototype = get_projection_prototype(256, 128, 15)\n",
        "projection_prototype.summary()"
      ]
    },
    {
      "cell_type": "markdown",
      "metadata": {
        "id": "swe6nWQZas-b"
      },
      "source": [
        "### Sinkhorn Knopp for Cluster Assignment\n",
        "\n",
        "<figure>\n",
        "<center>\n",
        "<img src='https://i.ibb.co/bWRjrWS/figure-10.png' width=\"600\"/> \n",
        "<figcaption align = \"center\"> Figure 4: Cluster assignment. Source: <a href=\"https://wandb.ai/authors/swav-tf/reports/Unsupervised-Visual-Representation-Learning-with-SwAV--VmlldzoyMjg3Mzg\">SwAV blog.\n",
        "</center>\n",
        "</figure>"
      ]
    },
    {
      "cell_type": "markdown",
      "metadata": {
        "id": "Xkix_pJukZXp"
      },
      "source": [
        "Codes are computed using only the image features within a batch to make the method online. A problem to solve is the cluster assignment: assign B samples $[z1 , . . . , zB ]$ to $K$ (prototype) clusters $[ c1 , . . . , cK ]$. So we have to map $B$ samples to $K$ prototypes: let $Q$ be the matrix representing this mapping.\n",
        "\n",
        "The cost matrix $Q = –C^TZ$, where each entry of this matrix is the dot product between a sample and a prototype and roughly represents the cost we are going to pay when we assign a sample to a prototype."
      ]
    },
    {
      "cell_type": "code",
      "execution_count": null,
      "metadata": {
        "id": "eI59LIwHas-b"
      },
      "outputs": [],
      "source": [
        "def sinkhorn(sample_prototype_batch):\n",
        "    Q = tf.transpose(tf.exp(sample_prototype_batch/0.05))\n",
        "    Q /= tf.keras.backend.sum(Q)\n",
        "    K, B = Q.shape\n",
        "\n",
        "    u = tf.zeros_like(K, dtype=tf.float32)\n",
        "    r = tf.ones_like(K, dtype=tf.float32) / K\n",
        "    c = tf.ones_like(B, dtype=tf.float32) / B\n",
        "\n",
        "    for _ in range(3):\n",
        "        u = tf.keras.backend.sum(Q, axis=1)\n",
        "        Q *= tf.expand_dims((r / u), axis=1)\n",
        "        Q *= tf.expand_dims(c / tf.keras.backend.sum(Q, axis=0), 0)\n",
        "\n",
        "    final_quantity = Q / tf.keras.backend.sum(Q, axis=0, keepdims=True)\n",
        "    final_quantity = tf.transpose(final_quantity)\n",
        "\n",
        "    return final_quantity"
      ]
    },
    {
      "cell_type": "markdown",
      "metadata": {
        "id": "sc6zr_IHas-e"
      },
      "source": [
        "### Train Function"
      ]
    },
    {
      "cell_type": "code",
      "execution_count": null,
      "metadata": {
        "id": "f8SQrDn-as-f"
      },
      "outputs": [],
      "source": [
        "# @tf.function\n",
        "# Reference: https://github.com/facebookresearch/swav/blob/master/main_swav.py\n",
        "def train_step(input_views, feature_backbone, projection_prototype, \n",
        "               optimizer, crops_for_assign, temperature):\n",
        "    # ============ retrieve input data ... ============\n",
        "    im1, im2, im3, im4, im5  = input_views \n",
        "    inputs = [im1, im2, im3, im4, im5]\n",
        "    batch_size = inputs[0].shape[0]\n",
        "\n",
        "    # ============ create crop entries with same shape ... ============\n",
        "    #A vector of indices to reorder as views with similar resolutions\n",
        "    crop_sizes = [inp.shape[1] for inp in inputs] # list of crop size of views\n",
        "    unique_consecutive_count = [len([elem for elem in g]) for _, g in groupby(crop_sizes)] # equivalent to torch.unique_consecutive\n",
        "    #(unique_consecutive_count)\n",
        "    idx_crops = tf.cumsum(unique_consecutive_count)\n",
        "    #print(idx_crops)\n",
        "    \n",
        "    # ============ multi-res forward passes ... ============\n",
        "    # tf.stop_gradient have been placed carefully in order to exclude the computations from dependency tracing.\n",
        "    # This is useful any time you want to compute a value with TensorFlow but need to pretend that the value \n",
        "    #was a constant. \n",
        "    start_idx = 0\n",
        "    with tf.GradientTape() as tape:\n",
        "        for end_idx in idx_crops:\n",
        "            concat_input = tf.stop_gradient(tf.concat(inputs[start_idx:end_idx], axis=0))\n",
        "            _embedding = feature_backbone(concat_input) # get embedding of same dim views together\n",
        "            if start_idx == 0:\n",
        "                embeddings = _embedding # for first iter\n",
        "            else:\n",
        "                embeddings = tf.concat((embeddings, _embedding), axis=0) # concat all the embeddings from all the views\n",
        "            start_idx = end_idx\n",
        "        \n",
        "        projection, prototype = projection_prototype(embeddings) # get normalized projection and prototype\n",
        "        \n",
        "        projection = tf.stop_gradient(projection)\n",
        "\n",
        "        # ============ swav loss ... ============\n",
        "        # https://github.com/facebookresearch/swav/issues/19\n",
        "        loss = 0\n",
        "        for i, crop_id in enumerate(crops_for_assign): # crops_for_assign = [0,1] hold that we use to create these codes the views in these positions.\n",
        "            with tape.stop_recording():   # there to ensure the computations for cluster assignments do not get traced for gradient updates\n",
        "                out = prototype[batch_size * crop_id: batch_size * (crop_id + 1)]\n",
        "                \n",
        "                # get assignments\n",
        "                q = sinkhorn(out) # sinkhorn is used for cluster assignment\n",
        "            \n",
        "            # cluster assignment prediction\n",
        "            subloss = 0\n",
        "            for v in np.delete(np.arange(np.sum(NUM_CROPS)), crop_id): # (for rest of the portions compute p and take cross entropy with q)\n",
        "                p = tf.nn.softmax(prototype[batch_size * v: batch_size * (v + 1)] / temperature) \n",
        "                subloss -= tf.math.reduce_mean(tf.math.reduce_sum(q * tf.math.log(p), axis=1))\n",
        "            loss += subloss / tf.cast((tf.reduce_sum(NUM_CROPS) - 1), tf.float32)\n",
        "        \n",
        "        loss /= len(crops_for_assign)\n",
        "\n",
        "    # ============ backprop ... ============\n",
        "    variables = feature_backbone.trainable_variables + projection_prototype.trainable_variables\n",
        "    gradients = tape.gradient(loss, variables)\n",
        "    optimizer.apply_gradients(zip(gradients, variables))\n",
        "\n",
        "    return loss"
      ]
    },
    {
      "cell_type": "markdown",
      "metadata": {
        "id": "Tu4F8EP_as-i"
      },
      "source": [
        "### Training Loop"
      ]
    },
    {
      "cell_type": "code",
      "execution_count": null,
      "metadata": {
        "id": "935FBqNQas-j"
      },
      "outputs": [],
      "source": [
        "def train_swav(feature_backbone, \n",
        "               projection_prototype, \n",
        "               dataloader, \n",
        "               optimizer, \n",
        "               crops_for_assign,\n",
        "               temperature, \n",
        "               epochs=50):\n",
        "  \n",
        "    step_wise_loss = []\n",
        "    epoch_wise_loss = []\n",
        "    \n",
        "    for epoch in range(epochs):\n",
        "        # normalize the prototypes\n",
        "        w = projection_prototype.get_layer('prototype').get_weights()\n",
        "        w = tf.transpose(w)\n",
        "        w = tf.math.l2_normalize(w, axis=1)\n",
        "        projection_prototype.get_layer('prototype').set_weights(tf.transpose(w))\n",
        "\n",
        "        iter_data = iter(trainloaders_zipped)\n",
        "\n",
        "        t = trange(len(dataloader), position=0, leave=True)\n",
        "        for i in  t:\n",
        "            inputs = next(iter_data)\n",
        "            loss = train_step(inputs, feature_backbone, projection_prototype, \n",
        "                              optimizer, crops_for_assign, temperature)\n",
        "            step_wise_loss.append(loss)\n",
        "            t.set_postfix(loss='{:05.3f}'.format(loss))\n",
        "            \n",
        "        epoch_wise_loss.append(np.mean(step_wise_loss))\n",
        "\n",
        "        print(\"epoch: {} loss: {:.3f}\".format(epoch + 1, np.mean(step_wise_loss)))\n",
        "\n",
        "    return epoch_wise_loss, [feature_backbone, projection_prototype]"
      ]
    },
    {
      "cell_type": "code",
      "execution_count": null,
      "metadata": {
        "id": "1kV6t6iyas-n",
        "colab": {
          "base_uri": "https://localhost:8080/"
        },
        "outputId": "4ba1999d-1fbd-4bc5-fa5f-b40c1bf900bd"
      },
      "outputs": [
        {
          "output_type": "stream",
          "name": "stderr",
          "text": [
            "100%|██████████| 79/79 [00:27<00:00,  2.93it/s, loss=2.711]\n"
          ]
        },
        {
          "output_type": "stream",
          "name": "stdout",
          "text": [
            "epoch: 1 loss: 2.724\n"
          ]
        },
        {
          "output_type": "stream",
          "name": "stderr",
          "text": [
            "100%|██████████| 79/79 [00:17<00:00,  4.58it/s, loss=2.710]\n"
          ]
        },
        {
          "output_type": "stream",
          "name": "stdout",
          "text": [
            "epoch: 2 loss: 2.717\n"
          ]
        },
        {
          "output_type": "stream",
          "name": "stderr",
          "text": [
            "100%|██████████| 79/79 [00:15<00:00,  5.02it/s, loss=2.709]\n"
          ]
        },
        {
          "output_type": "stream",
          "name": "stdout",
          "text": [
            "epoch: 3 loss: 2.714\n"
          ]
        },
        {
          "output_type": "stream",
          "name": "stderr",
          "text": [
            "100%|██████████| 79/79 [00:15<00:00,  5.10it/s, loss=2.709]\n"
          ]
        },
        {
          "output_type": "stream",
          "name": "stdout",
          "text": [
            "epoch: 4 loss: 2.713\n"
          ]
        },
        {
          "output_type": "stream",
          "name": "stderr",
          "text": [
            "100%|██████████| 79/79 [00:15<00:00,  5.12it/s, loss=2.709]"
          ]
        },
        {
          "output_type": "stream",
          "name": "stdout",
          "text": [
            "epoch: 5 loss: 2.712\n"
          ]
        },
        {
          "output_type": "stream",
          "name": "stderr",
          "text": [
            "\n"
          ]
        }
      ],
      "source": [
        "# ============ re-initialize the networks and the optimizer ... ============\n",
        "feature_backbone = get_resnet_backbone()\n",
        "projection_prototype = get_projection_prototype(15)\n",
        "\n",
        "decay_steps = 1000\n",
        "lr_decayed_fn = tf.keras.experimental.CosineDecay(\n",
        "    initial_learning_rate=0.1, decay_steps=decay_steps)\n",
        "opt = tf.keras.optimizers.SGD(learning_rate=lr_decayed_fn)\n",
        "\n",
        "# ======================= train  ===========================\n",
        "epoch_wise_loss, models_tr = train_swav(feature_backbone, \n",
        "                                    projection_prototype, \n",
        "                                    trainloaders_zipped, \n",
        "                                    opt,\n",
        "                                    crops_for_assign=[0, 1],\n",
        "                                    temperature=0.1, \n",
        "                                    epochs=5)"
      ]
    },
    {
      "cell_type": "code",
      "execution_count": null,
      "metadata": {
        "id": "1MTvJyy-CvW4"
      },
      "outputs": [],
      "source": [
        "# ======================= get weights  ===========================\n",
        "feature_backbone_weights = feature_backbone.get_weights()"
      ]
    },
    {
      "cell_type": "markdown",
      "metadata": {
        "id": "7pryDfNJAwu5"
      },
      "source": [
        "### Fine Tune"
      ]
    },
    {
      "cell_type": "code",
      "execution_count": null,
      "metadata": {
        "id": "NO44rcDXAzbr"
      },
      "outputs": [],
      "source": [
        "#@title Gather Cifar10 dataset, 5% for training and 95% for test\n",
        "train_ft, validation_ft = tfds.load(\"cifar10\",\n",
        "                                    split=[\"train[10:15%]\", \"train[95%:]\"],\n",
        "                                    as_supervised=True)"
      ]
    },
    {
      "cell_type": "code",
      "execution_count": null,
      "metadata": {
        "id": "UeEuzaqwCC--"
      },
      "outputs": [],
      "source": [
        "#@title Define linear classfier\n",
        "def get_linear_classifier(swav=False):\n",
        "    # input placeholder\n",
        "    inputs = layers.Input(shape=(32, 32, 3))\n",
        "    # get swav baseline model architecture\n",
        "    feature_backbone = get_resnet_backbone()\n",
        "    # load trained weights\n",
        "    if swav:\n",
        "      # set swav weights\n",
        "      feature_backbone.set_weights(feature_backbone_weights)\n",
        "      \n",
        "    feature_backbone.trainable = False\n",
        "\n",
        "    x = feature_backbone(inputs, training=False)\n",
        "    outputs = layers.Dense(10, activation=\"softmax\")(x)\n",
        "    linear_model = models.Model(inputs, outputs)\n",
        "\n",
        "    return linear_model\n",
        "\n"
      ]
    },
    {
      "cell_type": "code",
      "execution_count": null,
      "metadata": {
        "id": "ytQgu4fUBTI9"
      },
      "outputs": [],
      "source": [
        "# Define Dataloader for Baseline Model\n",
        "BATCH_SIZE=128\n",
        "def scale_resize_image(image, label):\n",
        "  image = tf.keras.applications.resnet.preprocess_input(image)\n",
        "  image = tf.image.resize(image, (32, 32)) \n",
        "  return (image, label)\n",
        "\n",
        "\n",
        "training_ds = (\n",
        "    train_ft\n",
        "    .map(scale_resize_image, num_parallel_calls=AUTO)\n",
        "    .batch(BATCH_SIZE)\n",
        "    .prefetch(AUTO)\n",
        ")\n",
        "\n",
        "testing_ds = (\n",
        "    validation_ft\n",
        "    .map(scale_resize_image, num_parallel_calls=AUTO)\n",
        "    .batch(BATCH_SIZE)\n",
        "    .prefetch(AUTO)\n",
        ")"
      ]
    },
    {
      "cell_type": "code",
      "execution_count": null,
      "metadata": {
        "id": "Dd1LofUIM74H"
      },
      "outputs": [],
      "source": [
        "#@title Early Stopping to prevent overfitting\n",
        "early_stopper = tf.keras.callbacks.EarlyStopping(monitor=\"val_loss\", patience=35, verbose=2, restore_best_weights=True)"
      ]
    },
    {
      "cell_type": "code",
      "execution_count": null,
      "metadata": {
        "id": "IYbaG-G9ECVq",
        "colab": {
          "base_uri": "https://localhost:8080/"
        },
        "outputId": "da1d2d74-1796-4ab4-8d32-5ae999fd3b0a"
      },
      "outputs": [
        {
          "output_type": "stream",
          "name": "stdout",
          "text": [
            "Model: \"model_8\"\n",
            "_________________________________________________________________\n",
            " Layer (type)                Output Shape              Param #   \n",
            "=================================================================\n",
            " input_7 (InputLayer)        [(None, 32, 32, 3)]       0         \n",
            "                                                                 \n",
            " model_7 (Functional)        (None, 512)               1460096   \n",
            "                                                                 \n",
            " dense_4 (Dense)             (None, 10)                5130      \n",
            "                                                                 \n",
            "=================================================================\n",
            "Total params: 1,465,226\n",
            "Trainable params: 5,130\n",
            "Non-trainable params: 1,460,096\n",
            "_________________________________________________________________\n"
          ]
        }
      ],
      "source": [
        "#@title Baseline Model --> ResNet50 pre-trained with ImageNet\n",
        "model_pre = get_linear_classifier()\n",
        "model_pre.summary()"
      ]
    },
    {
      "cell_type": "code",
      "execution_count": null,
      "metadata": {
        "id": "-chYVUcLNBnF",
        "colab": {
          "base_uri": "https://localhost:8080/"
        },
        "outputId": "96e1f9ef-b7e6-4315-c978-707c687f7210"
      },
      "outputs": [
        {
          "output_type": "stream",
          "name": "stdout",
          "text": [
            "Epoch 1/35\n",
            "20/20 [==============================] - 3s 83ms/step - loss: 2.6877 - acc: 0.1196 - val_loss: 2.4068 - val_acc: 0.1524\n",
            "Epoch 2/35\n",
            "20/20 [==============================] - 1s 34ms/step - loss: 2.2480 - acc: 0.1948 - val_loss: 2.1198 - val_acc: 0.2284\n",
            "Epoch 3/35\n",
            "20/20 [==============================] - 1s 34ms/step - loss: 2.0301 - acc: 0.2688 - val_loss: 1.9575 - val_acc: 0.2924\n",
            "Epoch 4/35\n",
            "20/20 [==============================] - 1s 35ms/step - loss: 1.8886 - acc: 0.3304 - val_loss: 1.8547 - val_acc: 0.3244\n",
            "Epoch 5/35\n",
            "20/20 [==============================] - 1s 35ms/step - loss: 1.7904 - acc: 0.3632 - val_loss: 1.7822 - val_acc: 0.3552\n",
            "Epoch 6/35\n",
            "20/20 [==============================] - 1s 35ms/step - loss: 1.7176 - acc: 0.3872 - val_loss: 1.7283 - val_acc: 0.3724\n",
            "Epoch 7/35\n",
            "20/20 [==============================] - 1s 34ms/step - loss: 1.6607 - acc: 0.4096 - val_loss: 1.6871 - val_acc: 0.3868\n",
            "Epoch 8/35\n",
            "20/20 [==============================] - 1s 35ms/step - loss: 1.6146 - acc: 0.4272 - val_loss: 1.6544 - val_acc: 0.3960\n",
            "Epoch 9/35\n",
            "20/20 [==============================] - 1s 35ms/step - loss: 1.5762 - acc: 0.4448 - val_loss: 1.6280 - val_acc: 0.4088\n",
            "Epoch 10/35\n",
            "20/20 [==============================] - 1s 35ms/step - loss: 1.5435 - acc: 0.4572 - val_loss: 1.6061 - val_acc: 0.4188\n",
            "Epoch 11/35\n",
            "20/20 [==============================] - 1s 36ms/step - loss: 1.5151 - acc: 0.4672 - val_loss: 1.5878 - val_acc: 0.4236\n",
            "Epoch 12/35\n",
            "20/20 [==============================] - 1s 35ms/step - loss: 1.4902 - acc: 0.4744 - val_loss: 1.5723 - val_acc: 0.4292\n",
            "Epoch 13/35\n",
            "20/20 [==============================] - 1s 36ms/step - loss: 1.4680 - acc: 0.4828 - val_loss: 1.5589 - val_acc: 0.4340\n",
            "Epoch 14/35\n",
            "20/20 [==============================] - 1s 35ms/step - loss: 1.4480 - acc: 0.4920 - val_loss: 1.5473 - val_acc: 0.4412\n",
            "Epoch 15/35\n",
            "20/20 [==============================] - 1s 35ms/step - loss: 1.4298 - acc: 0.4984 - val_loss: 1.5372 - val_acc: 0.4500\n",
            "Epoch 16/35\n",
            "20/20 [==============================] - 1s 33ms/step - loss: 1.4132 - acc: 0.5028 - val_loss: 1.5283 - val_acc: 0.4500\n",
            "Epoch 17/35\n",
            "20/20 [==============================] - 1s 33ms/step - loss: 1.3979 - acc: 0.5072 - val_loss: 1.5204 - val_acc: 0.4580\n",
            "Epoch 18/35\n",
            "20/20 [==============================] - 1s 36ms/step - loss: 1.3837 - acc: 0.5108 - val_loss: 1.5134 - val_acc: 0.4600\n",
            "Epoch 19/35\n",
            "20/20 [==============================] - 1s 38ms/step - loss: 1.3704 - acc: 0.5160 - val_loss: 1.5072 - val_acc: 0.4616\n",
            "Epoch 20/35\n",
            "20/20 [==============================] - 1s 36ms/step - loss: 1.3581 - acc: 0.5212 - val_loss: 1.5016 - val_acc: 0.4648\n",
            "Epoch 21/35\n",
            "20/20 [==============================] - 1s 36ms/step - loss: 1.3465 - acc: 0.5252 - val_loss: 1.4965 - val_acc: 0.4664\n",
            "Epoch 22/35\n",
            "20/20 [==============================] - 1s 35ms/step - loss: 1.3355 - acc: 0.5288 - val_loss: 1.4920 - val_acc: 0.4680\n",
            "Epoch 23/35\n",
            "20/20 [==============================] - 1s 35ms/step - loss: 1.3252 - acc: 0.5324 - val_loss: 1.4879 - val_acc: 0.4680\n",
            "Epoch 24/35\n",
            "20/20 [==============================] - 1s 36ms/step - loss: 1.3154 - acc: 0.5380 - val_loss: 1.4842 - val_acc: 0.4696\n",
            "Epoch 25/35\n",
            "20/20 [==============================] - 1s 34ms/step - loss: 1.3061 - acc: 0.5420 - val_loss: 1.4809 - val_acc: 0.4692\n",
            "Epoch 26/35\n",
            "20/20 [==============================] - 1s 36ms/step - loss: 1.2972 - acc: 0.5480 - val_loss: 1.4778 - val_acc: 0.4724\n",
            "Epoch 27/35\n",
            "20/20 [==============================] - 1s 34ms/step - loss: 1.2887 - acc: 0.5520 - val_loss: 1.4751 - val_acc: 0.4740\n",
            "Epoch 28/35\n",
            "20/20 [==============================] - 1s 35ms/step - loss: 1.2806 - acc: 0.5540 - val_loss: 1.4726 - val_acc: 0.4732\n",
            "Epoch 29/35\n",
            "20/20 [==============================] - 1s 34ms/step - loss: 1.2728 - acc: 0.5556 - val_loss: 1.4704 - val_acc: 0.4728\n",
            "Epoch 30/35\n",
            "20/20 [==============================] - 1s 33ms/step - loss: 1.2654 - acc: 0.5588 - val_loss: 1.4684 - val_acc: 0.4736\n",
            "Epoch 31/35\n",
            "20/20 [==============================] - 1s 34ms/step - loss: 1.2582 - acc: 0.5600 - val_loss: 1.4666 - val_acc: 0.4740\n",
            "Epoch 32/35\n",
            "20/20 [==============================] - 1s 35ms/step - loss: 1.2513 - acc: 0.5620 - val_loss: 1.4650 - val_acc: 0.4748\n",
            "Epoch 33/35\n",
            "20/20 [==============================] - 1s 37ms/step - loss: 1.2446 - acc: 0.5632 - val_loss: 1.4636 - val_acc: 0.4748\n",
            "Epoch 34/35\n",
            "20/20 [==============================] - 1s 37ms/step - loss: 1.2382 - acc: 0.5660 - val_loss: 1.4623 - val_acc: 0.4756\n",
            "Epoch 35/35\n",
            "20/20 [==============================] - 1s 34ms/step - loss: 1.2319 - acc: 0.5676 - val_loss: 1.4612 - val_acc: 0.4772\n"
          ]
        }
      ],
      "source": [
        "#@title Training baseline linear classfier\n",
        "model_pre.compile(loss=\"sparse_categorical_crossentropy\", metrics=[\"acc\"],\n",
        "                     optimizer='adam')\n",
        "\n",
        "history = model_pre.fit(training_ds,\n",
        "                 validation_data=(testing_ds),\n",
        "                 epochs=35,\n",
        "                 callbacks=[early_stopper])"
      ]
    },
    {
      "cell_type": "code",
      "execution_count": null,
      "metadata": {
        "id": "Gibbd8OIDbSM"
      },
      "outputs": [],
      "source": [
        "#@title Define Dataloader for SwAV Model\n",
        "BATCH_SIZE=128\n",
        "def scale_resize_image(image, label):\n",
        "  image = tf.image.convert_image_dtype(image, tf.float32)\n",
        "  image = tf.image.resize(image, (32, 32)) # Resizing to highest resolution used while training swav\n",
        "  return (image, label)\n",
        "\n",
        "\n",
        "training_ds = (\n",
        "    train_ft\n",
        "    .map(scale_resize_image, num_parallel_calls=AUTO)\n",
        "    .batch(BATCH_SIZE)\n",
        "    .prefetch(AUTO)\n",
        ")\n",
        "\n",
        "testing_ds = (\n",
        "    validation_ft\n",
        "    .map(scale_resize_image, num_parallel_calls=AUTO)\n",
        "    .batch(BATCH_SIZE)\n",
        "    .prefetch(AUTO)\n",
        ")"
      ]
    },
    {
      "cell_type": "code",
      "execution_count": null,
      "metadata": {
        "id": "M9_gZctnENed",
        "colab": {
          "base_uri": "https://localhost:8080/"
        },
        "outputId": "3ab285ab-5018-43c2-d7fa-7a26156dfbfa"
      },
      "outputs": [
        {
          "output_type": "stream",
          "name": "stdout",
          "text": [
            "Model: \"model_11\"\n",
            "_________________________________________________________________\n",
            " Layer (type)                Output Shape              Param #   \n",
            "=================================================================\n",
            " input_10 (InputLayer)       [(None, 32, 32, 3)]       0         \n",
            "                                                                 \n",
            " model_10 (Functional)       (None, 512)               1460096   \n",
            "                                                                 \n",
            " dense_5 (Dense)             (None, 10)                5130      \n",
            "                                                                 \n",
            "=================================================================\n",
            "Total params: 1,465,226\n",
            "Trainable params: 5,130\n",
            "Non-trainable params: 1,460,096\n",
            "_________________________________________________________________\n"
          ]
        }
      ],
      "source": [
        "#@title Model --> ResNet50 pre-trained with ImageNet + SwAV\n",
        "model_swav = get_linear_classifier(swav=True)\n",
        "model_swav.summary()"
      ]
    },
    {
      "cell_type": "code",
      "execution_count": null,
      "metadata": {
        "id": "A6tDcApSO0I-",
        "colab": {
          "base_uri": "https://localhost:8080/"
        },
        "outputId": "439d8946-8b30-45e5-8775-531964296f95"
      },
      "outputs": [
        {
          "output_type": "stream",
          "name": "stdout",
          "text": [
            "Epoch 1/35\n",
            "20/20 [==============================] - 2s 54ms/step - loss: 2.5811 - acc: 0.0988 - val_loss: 2.3270 - val_acc: 0.1484\n",
            "Epoch 2/35\n",
            "20/20 [==============================] - 1s 26ms/step - loss: 2.2094 - acc: 0.1840 - val_loss: 2.0592 - val_acc: 0.2692\n",
            "Epoch 3/35\n",
            "20/20 [==============================] - 1s 25ms/step - loss: 1.9995 - acc: 0.2796 - val_loss: 1.8956 - val_acc: 0.3352\n",
            "Epoch 4/35\n",
            "20/20 [==============================] - 0s 25ms/step - loss: 1.8551 - acc: 0.3336 - val_loss: 1.7793 - val_acc: 0.3932\n",
            "Epoch 5/35\n",
            "20/20 [==============================] - 1s 31ms/step - loss: 1.7486 - acc: 0.3820 - val_loss: 1.6914 - val_acc: 0.4324\n",
            "Epoch 6/35\n",
            "20/20 [==============================] - 1s 26ms/step - loss: 1.6667 - acc: 0.4212 - val_loss: 1.6242 - val_acc: 0.4604\n",
            "Epoch 7/35\n",
            "20/20 [==============================] - 1s 31ms/step - loss: 1.6017 - acc: 0.4488 - val_loss: 1.5713 - val_acc: 0.4820\n",
            "Epoch 8/35\n",
            "20/20 [==============================] - 1s 27ms/step - loss: 1.5488 - acc: 0.4744 - val_loss: 1.5286 - val_acc: 0.4916\n",
            "Epoch 9/35\n",
            "20/20 [==============================] - 1s 32ms/step - loss: 1.5047 - acc: 0.4964 - val_loss: 1.4933 - val_acc: 0.5024\n",
            "Epoch 10/35\n",
            "20/20 [==============================] - 1s 26ms/step - loss: 1.4673 - acc: 0.5100 - val_loss: 1.4636 - val_acc: 0.5116\n",
            "Epoch 11/35\n",
            "20/20 [==============================] - 0s 25ms/step - loss: 1.4350 - acc: 0.5212 - val_loss: 1.4383 - val_acc: 0.5168\n",
            "Epoch 12/35\n",
            "20/20 [==============================] - 0s 25ms/step - loss: 1.4066 - acc: 0.5336 - val_loss: 1.4164 - val_acc: 0.5256\n",
            "Epoch 13/35\n",
            "20/20 [==============================] - 1s 26ms/step - loss: 1.3813 - acc: 0.5404 - val_loss: 1.3972 - val_acc: 0.5316\n",
            "Epoch 14/35\n",
            "20/20 [==============================] - 0s 24ms/step - loss: 1.3586 - acc: 0.5448 - val_loss: 1.3802 - val_acc: 0.5388\n",
            "Epoch 15/35\n",
            "20/20 [==============================] - 0s 24ms/step - loss: 1.3380 - acc: 0.5536 - val_loss: 1.3650 - val_acc: 0.5404\n",
            "Epoch 16/35\n",
            "20/20 [==============================] - 1s 31ms/step - loss: 1.3191 - acc: 0.5596 - val_loss: 1.3514 - val_acc: 0.5436\n",
            "Epoch 17/35\n",
            "20/20 [==============================] - 0s 24ms/step - loss: 1.3017 - acc: 0.5656 - val_loss: 1.3391 - val_acc: 0.5452\n",
            "Epoch 18/35\n",
            "20/20 [==============================] - 1s 26ms/step - loss: 1.2856 - acc: 0.5740 - val_loss: 1.3278 - val_acc: 0.5504\n",
            "Epoch 19/35\n",
            "20/20 [==============================] - 1s 25ms/step - loss: 1.2705 - acc: 0.5792 - val_loss: 1.3175 - val_acc: 0.5544\n",
            "Epoch 20/35\n",
            "20/20 [==============================] - 1s 32ms/step - loss: 1.2564 - acc: 0.5848 - val_loss: 1.3081 - val_acc: 0.5580\n",
            "Epoch 21/35\n",
            "20/20 [==============================] - 1s 26ms/step - loss: 1.2432 - acc: 0.5908 - val_loss: 1.2993 - val_acc: 0.5576\n",
            "Epoch 22/35\n",
            "20/20 [==============================] - 1s 25ms/step - loss: 1.2306 - acc: 0.5952 - val_loss: 1.2912 - val_acc: 0.5604\n",
            "Epoch 23/35\n",
            "20/20 [==============================] - 1s 25ms/step - loss: 1.2188 - acc: 0.5996 - val_loss: 1.2837 - val_acc: 0.5644\n",
            "Epoch 24/35\n",
            "20/20 [==============================] - 0s 25ms/step - loss: 1.2075 - acc: 0.6040 - val_loss: 1.2766 - val_acc: 0.5688\n",
            "Epoch 25/35\n",
            "20/20 [==============================] - 0s 25ms/step - loss: 1.1968 - acc: 0.6064 - val_loss: 1.2700 - val_acc: 0.5692\n",
            "Epoch 26/35\n",
            "20/20 [==============================] - 0s 25ms/step - loss: 1.1865 - acc: 0.6104 - val_loss: 1.2638 - val_acc: 0.5700\n",
            "Epoch 27/35\n",
            "20/20 [==============================] - 0s 24ms/step - loss: 1.1767 - acc: 0.6132 - val_loss: 1.2580 - val_acc: 0.5720\n",
            "Epoch 28/35\n",
            "20/20 [==============================] - 1s 26ms/step - loss: 1.1673 - acc: 0.6188 - val_loss: 1.2525 - val_acc: 0.5732\n",
            "Epoch 29/35\n",
            "20/20 [==============================] - 1s 26ms/step - loss: 1.1583 - acc: 0.6248 - val_loss: 1.2473 - val_acc: 0.5752\n",
            "Epoch 30/35\n",
            "20/20 [==============================] - 0s 24ms/step - loss: 1.1496 - acc: 0.6268 - val_loss: 1.2424 - val_acc: 0.5780\n",
            "Epoch 31/35\n",
            "20/20 [==============================] - 1s 26ms/step - loss: 1.1413 - acc: 0.6308 - val_loss: 1.2377 - val_acc: 0.5792\n",
            "Epoch 32/35\n",
            "20/20 [==============================] - 0s 25ms/step - loss: 1.1332 - acc: 0.6320 - val_loss: 1.2333 - val_acc: 0.5796\n",
            "Epoch 33/35\n",
            "20/20 [==============================] - 1s 26ms/step - loss: 1.1255 - acc: 0.6356 - val_loss: 1.2291 - val_acc: 0.5820\n",
            "Epoch 34/35\n",
            "20/20 [==============================] - 0s 24ms/step - loss: 1.1179 - acc: 0.6376 - val_loss: 1.2251 - val_acc: 0.5824\n",
            "Epoch 35/35\n",
            "20/20 [==============================] - 1s 25ms/step - loss: 1.1107 - acc: 0.6408 - val_loss: 1.2212 - val_acc: 0.5848\n"
          ]
        }
      ],
      "source": [
        "#@title Training SwAV linear classfier\n",
        "model_swav.compile(loss=\"sparse_categorical_crossentropy\", metrics=[\"acc\"],\n",
        "                     optimizer='adam')\n",
        "\n",
        "history_swav = model_swav.fit(training_ds,\n",
        "                 validation_data=(testing_ds),\n",
        "                 epochs=35,\n",
        "                 callbacks=[early_stopper])"
      ]
    },
    {
      "cell_type": "code",
      "execution_count": null,
      "metadata": {
        "id": "3xokO3GXV5Ow",
        "colab": {
          "base_uri": "https://localhost:8080/",
          "height": 573
        },
        "outputId": "77c8f45c-2565-4cec-90e6-be7eb65b97dc"
      },
      "outputs": [
        {
          "output_type": "display_data",
          "data": {
            "text/plain": [
              "<Figure size 432x288 with 1 Axes>"
            ],
            "image/png": "[encoded data removed]"
          },
          "metadata": {
            "needs_background": "light"
          }
        },
        {
          "output_type": "display_data",
          "data": {
            "text/plain": [
              "<Figure size 432x288 with 1 Axes>"
            ],
            "image/png": "[encoded data removed]"
          },
          "metadata": {
            "needs_background": "light"
          }
        }
      ],
      "source": [
        "#@title Plot accuracy\n",
        "plt.plot(history.history['acc'])\n",
        "plt.plot(history.history['val_acc'])\n",
        "plt.title('baseline model accuracy')\n",
        "plt.ylabel('accuracy')\n",
        "plt.xlabel('epoch')\n",
        "plt.legend(['train', 'validation'], loc='upper left')\n",
        "plt.show()\n",
        "# \"Loss\"\n",
        "plt.plot(history_swav.history['acc'])\n",
        "plt.plot(history_swav.history['val_acc'])\n",
        "plt.title('SwAV model accuracy')\n",
        "plt.ylabel('accuracy')\n",
        "plt.xlabel('epoch')\n",
        "plt.legend(['train', 'validation'], loc='upper left')\n",
        "plt.show()"
      ]
    },
    {
      "cell_type": "markdown",
      "metadata": {
        "id": "nefTfUbXrdkC"
      },
      "source": [
        "---\n",
        "# Class exercise\n",
        "\n",
        "Change the views' resolution and the number of views, and compare the results\n",
        "\n",
        "Fill your accuracy results and the parameters in the next google docs spreadsheet:"
      ]
    }
  ],
  "metadata": {
    "accelerator": "GPU",
    "colab": {
      "provenance": []
    },
    "kernelspec": {
      "display_name": "Python 3",
      "language": "python",
      "name": "python3"
    },
    "language_info": {
      "codemirror_mode": {
        "name": "ipython",
        "version": 3
      },
      "file_extension": ".py",
      "mimetype": "text/x-python",
      "name": "python",
      "nbconvert_exporter": "python",
      "pygments_lexer": "ipython3",
      "version": "3.7.6"
    }
  },
  "nbformat": 4,
  "nbformat_minor": 0
}