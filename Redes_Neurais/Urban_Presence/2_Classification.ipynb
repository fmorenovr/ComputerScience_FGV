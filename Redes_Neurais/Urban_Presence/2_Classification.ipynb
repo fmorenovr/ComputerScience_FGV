{
 "cells": [
  {
   "cell_type": "code",
   "execution_count": 1,
   "id": "3d392fd1",
   "metadata": {},
   "outputs": [],
   "source": [
    "import matplotlib.pyplot as plt\n",
    "import pandas as pd\n",
    "import numpy as np\n",
    "import copy"
   ]
  },
  {
   "cell_type": "code",
   "execution_count": 2,
   "id": "fe9c5adc",
   "metadata": {},
   "outputs": [],
   "source": [
    "from py.utils import verifyDir"
   ]
  },
  {
   "cell_type": "code",
   "execution_count": 3,
   "id": "c5b53753",
   "metadata": {},
   "outputs": [],
   "source": [
    "DATA_PATH = \"data/PlacePulse_2/\"\n",
    "\n",
    "QSCORE_PATH = f\"{DATA_PATH}/Qscores/all/Summaries/\"\n",
    "\n",
    "MAIN_OUT_PATH = \"outputs/\"\n",
    "\n",
    "OUT_DETECT_PATH = f\"{MAIN_OUT_PATH}segmentations/\"\n",
    "\n",
    "OUT_IMAGE_PATH = f\"{MAIN_OUT_PATH}segmented_images/\"\n",
    "\n",
    "CACHE_PATH = f\"{MAIN_OUT_PATH}/cache/\""
   ]
  },
  {
   "cell_type": "code",
   "execution_count": 4,
   "id": "c1cf1588",
   "metadata": {},
   "outputs": [],
   "source": [
    "verifyDir(CACHE_PATH)"
   ]
  },
  {
   "cell_type": "markdown",
   "id": "e52d6b93",
   "metadata": {},
   "source": [
    "### Drawing features presence"
   ]
  },
  {
   "cell_type": "code",
   "execution_count": 5,
   "id": "218b700b",
   "metadata": {},
   "outputs": [
    {
     "name": "stdout",
     "output_type": "stream",
     "text": [
      "<class 'pandas.core.frame.DataFrame'>\n",
      "RangeIndex: 111389 entries, 0 to 111388\n",
      "Data columns (total 10 columns):\n",
      " #   Column                Non-Null Count   Dtype  \n",
      "---  ------                --------------   -----  \n",
      " 0   image_file_name       111389 non-null  object \n",
      " 1   safety                111389 non-null  float64\n",
      " 2   W_ratio_safety        111389 non-null  float64\n",
      " 3   L_ratio_safety        111389 non-null  float64\n",
      " 4   wins_safety           111389 non-null  int64  \n",
      " 5   draws_safety          111389 non-null  int64  \n",
      " 6   losses_safety         111389 non-null  int64  \n",
      " 7   wins_against_safety   111389 non-null  object \n",
      " 8   loss_against_safety   111389 non-null  object \n",
      " 9   draws_against_safety  111389 non-null  object \n",
      "dtypes: float64(3), int64(3), object(4)\n",
      "memory usage: 8.5+ MB\n"
     ]
    }
   ],
   "source": [
    "pp_df = pd.read_csv(f\"{QSCORE_PATH}summary_safety.csv\", low_memory=False)\n",
    "pp_df.rename(columns={\"ID\": \"image_file_name\"}, inplace=True)\n",
    "pp_df.info()"
   ]
  },
  {
   "cell_type": "code",
   "execution_count": 6,
   "id": "6c0437ec",
   "metadata": {},
   "outputs": [],
   "source": [
    "segment_city_df = pd.read_csv(f\"{MAIN_OUT_PATH}objects_deeplab_xception.csv\", sep=\";\", low_memory=False)"
   ]
  },
  {
   "cell_type": "code",
   "execution_count": 7,
   "id": "2ec945f8",
   "metadata": {},
   "outputs": [
    {
     "data": {
      "text/html": [
       "<div>\n",
       "<style scoped>\n",
       "    .dataframe tbody tr th:only-of-type {\n",
       "        vertical-align: middle;\n",
       "    }\n",
       "\n",
       "    .dataframe tbody tr th {\n",
       "        vertical-align: top;\n",
       "    }\n",
       "\n",
       "    .dataframe thead th {\n",
       "        text-align: right;\n",
       "    }\n",
       "</style>\n",
       "<table border=\"1\" class=\"dataframe\">\n",
       "  <thead>\n",
       "    <tr style=\"text-align: right;\">\n",
       "      <th></th>\n",
       "      <th>image_file_name</th>\n",
       "      <th>wall</th>\n",
       "      <th>building</th>\n",
       "      <th>sky</th>\n",
       "      <th>floor</th>\n",
       "      <th>tree</th>\n",
       "      <th>ceiling</th>\n",
       "      <th>road</th>\n",
       "      <th>bed</th>\n",
       "      <th>windowpane</th>\n",
       "      <th>...</th>\n",
       "      <th>crt</th>\n",
       "      <th>plate</th>\n",
       "      <th>monitor</th>\n",
       "      <th>bulletin</th>\n",
       "      <th>shower</th>\n",
       "      <th>radiator</th>\n",
       "      <th>glass</th>\n",
       "      <th>clock</th>\n",
       "      <th>flag</th>\n",
       "      <th>city</th>\n",
       "    </tr>\n",
       "  </thead>\n",
       "  <tbody>\n",
       "    <tr>\n",
       "      <th>0</th>\n",
       "      <td>513cc058fdc9f0358700137e</td>\n",
       "      <td>0.000000</td>\n",
       "      <td>4.187520</td>\n",
       "      <td>43.906657</td>\n",
       "      <td>0.0</td>\n",
       "      <td>5.482992</td>\n",
       "      <td>0.0</td>\n",
       "      <td>28.821309</td>\n",
       "      <td>0.0</td>\n",
       "      <td>0.0</td>\n",
       "      <td>...</td>\n",
       "      <td>0.0</td>\n",
       "      <td>0.0</td>\n",
       "      <td>0.0</td>\n",
       "      <td>0.0</td>\n",
       "      <td>0.0</td>\n",
       "      <td>0.0</td>\n",
       "      <td>0.0</td>\n",
       "      <td>0.0</td>\n",
       "      <td>0.0</td>\n",
       "      <td>Houston</td>\n",
       "    </tr>\n",
       "    <tr>\n",
       "      <th>1</th>\n",
       "      <td>513cc646fdc9f03587001930</td>\n",
       "      <td>0.000000</td>\n",
       "      <td>0.015767</td>\n",
       "      <td>31.339518</td>\n",
       "      <td>0.0</td>\n",
       "      <td>23.216248</td>\n",
       "      <td>0.0</td>\n",
       "      <td>34.255981</td>\n",
       "      <td>0.0</td>\n",
       "      <td>0.0</td>\n",
       "      <td>...</td>\n",
       "      <td>0.0</td>\n",
       "      <td>0.0</td>\n",
       "      <td>0.0</td>\n",
       "      <td>0.0</td>\n",
       "      <td>0.0</td>\n",
       "      <td>0.0</td>\n",
       "      <td>0.0</td>\n",
       "      <td>0.0</td>\n",
       "      <td>0.0</td>\n",
       "      <td>Houston</td>\n",
       "    </tr>\n",
       "    <tr>\n",
       "      <th>2</th>\n",
       "      <td>513d35bffdc9f03587002b1e</td>\n",
       "      <td>0.000000</td>\n",
       "      <td>4.181417</td>\n",
       "      <td>42.042542</td>\n",
       "      <td>0.0</td>\n",
       "      <td>7.662964</td>\n",
       "      <td>0.0</td>\n",
       "      <td>25.940959</td>\n",
       "      <td>0.0</td>\n",
       "      <td>0.0</td>\n",
       "      <td>...</td>\n",
       "      <td>0.0</td>\n",
       "      <td>0.0</td>\n",
       "      <td>0.0</td>\n",
       "      <td>0.0</td>\n",
       "      <td>0.0</td>\n",
       "      <td>0.0</td>\n",
       "      <td>0.0</td>\n",
       "      <td>0.0</td>\n",
       "      <td>0.0</td>\n",
       "      <td>Houston</td>\n",
       "    </tr>\n",
       "    <tr>\n",
       "      <th>3</th>\n",
       "      <td>513cc072fdc9f0358700139b</td>\n",
       "      <td>0.000000</td>\n",
       "      <td>1.689148</td>\n",
       "      <td>43.962606</td>\n",
       "      <td>0.0</td>\n",
       "      <td>6.894430</td>\n",
       "      <td>0.0</td>\n",
       "      <td>24.218750</td>\n",
       "      <td>0.0</td>\n",
       "      <td>0.0</td>\n",
       "      <td>...</td>\n",
       "      <td>0.0</td>\n",
       "      <td>0.0</td>\n",
       "      <td>0.0</td>\n",
       "      <td>0.0</td>\n",
       "      <td>0.0</td>\n",
       "      <td>0.0</td>\n",
       "      <td>0.0</td>\n",
       "      <td>0.0</td>\n",
       "      <td>0.0</td>\n",
       "      <td>Houston</td>\n",
       "    </tr>\n",
       "    <tr>\n",
       "      <th>4</th>\n",
       "      <td>513cc0eafdc9f03587001413</td>\n",
       "      <td>0.000000</td>\n",
       "      <td>0.000000</td>\n",
       "      <td>48.340352</td>\n",
       "      <td>0.0</td>\n",
       "      <td>2.666219</td>\n",
       "      <td>0.0</td>\n",
       "      <td>37.083435</td>\n",
       "      <td>0.0</td>\n",
       "      <td>0.0</td>\n",
       "      <td>...</td>\n",
       "      <td>0.0</td>\n",
       "      <td>0.0</td>\n",
       "      <td>0.0</td>\n",
       "      <td>0.0</td>\n",
       "      <td>0.0</td>\n",
       "      <td>0.0</td>\n",
       "      <td>0.0</td>\n",
       "      <td>0.0</td>\n",
       "      <td>0.0</td>\n",
       "      <td>Houston</td>\n",
       "    </tr>\n",
       "    <tr>\n",
       "      <th>...</th>\n",
       "      <td>...</td>\n",
       "      <td>...</td>\n",
       "      <td>...</td>\n",
       "      <td>...</td>\n",
       "      <td>...</td>\n",
       "      <td>...</td>\n",
       "      <td>...</td>\n",
       "      <td>...</td>\n",
       "      <td>...</td>\n",
       "      <td>...</td>\n",
       "      <td>...</td>\n",
       "      <td>...</td>\n",
       "      <td>...</td>\n",
       "      <td>...</td>\n",
       "      <td>...</td>\n",
       "      <td>...</td>\n",
       "      <td>...</td>\n",
       "      <td>...</td>\n",
       "      <td>...</td>\n",
       "      <td>...</td>\n",
       "      <td>...</td>\n",
       "    </tr>\n",
       "    <tr>\n",
       "      <th>110983</th>\n",
       "      <td>5140b899fdc9f04926001ca5</td>\n",
       "      <td>0.000000</td>\n",
       "      <td>0.699870</td>\n",
       "      <td>42.807007</td>\n",
       "      <td>0.0</td>\n",
       "      <td>10.089620</td>\n",
       "      <td>0.0</td>\n",
       "      <td>14.684041</td>\n",
       "      <td>0.0</td>\n",
       "      <td>0.0</td>\n",
       "      <td>...</td>\n",
       "      <td>0.0</td>\n",
       "      <td>0.0</td>\n",
       "      <td>0.0</td>\n",
       "      <td>0.0</td>\n",
       "      <td>0.0</td>\n",
       "      <td>0.0</td>\n",
       "      <td>0.0</td>\n",
       "      <td>0.0</td>\n",
       "      <td>0.0</td>\n",
       "      <td>Zagreb</td>\n",
       "    </tr>\n",
       "    <tr>\n",
       "      <th>110984</th>\n",
       "      <td>5140b75efdc9f049260019a9</td>\n",
       "      <td>0.000000</td>\n",
       "      <td>5.694580</td>\n",
       "      <td>29.054769</td>\n",
       "      <td>0.0</td>\n",
       "      <td>14.404806</td>\n",
       "      <td>0.0</td>\n",
       "      <td>10.788472</td>\n",
       "      <td>0.0</td>\n",
       "      <td>0.0</td>\n",
       "      <td>...</td>\n",
       "      <td>0.0</td>\n",
       "      <td>0.0</td>\n",
       "      <td>0.0</td>\n",
       "      <td>0.0</td>\n",
       "      <td>0.0</td>\n",
       "      <td>0.0</td>\n",
       "      <td>0.0</td>\n",
       "      <td>0.0</td>\n",
       "      <td>0.0</td>\n",
       "      <td>Zagreb</td>\n",
       "    </tr>\n",
       "    <tr>\n",
       "      <th>110985</th>\n",
       "      <td>5140b909fdc9f04926001d7d</td>\n",
       "      <td>0.348918</td>\n",
       "      <td>9.884135</td>\n",
       "      <td>34.589640</td>\n",
       "      <td>0.0</td>\n",
       "      <td>12.540181</td>\n",
       "      <td>0.0</td>\n",
       "      <td>16.451518</td>\n",
       "      <td>0.0</td>\n",
       "      <td>0.0</td>\n",
       "      <td>...</td>\n",
       "      <td>0.0</td>\n",
       "      <td>0.0</td>\n",
       "      <td>0.0</td>\n",
       "      <td>0.0</td>\n",
       "      <td>0.0</td>\n",
       "      <td>0.0</td>\n",
       "      <td>0.0</td>\n",
       "      <td>0.0</td>\n",
       "      <td>0.0</td>\n",
       "      <td>Zagreb</td>\n",
       "    </tr>\n",
       "    <tr>\n",
       "      <th>110986</th>\n",
       "      <td>5140b8b6fdc9f04926001cdc</td>\n",
       "      <td>0.436910</td>\n",
       "      <td>20.867920</td>\n",
       "      <td>31.451925</td>\n",
       "      <td>0.0</td>\n",
       "      <td>9.117635</td>\n",
       "      <td>0.0</td>\n",
       "      <td>3.922526</td>\n",
       "      <td>0.0</td>\n",
       "      <td>0.0</td>\n",
       "      <td>...</td>\n",
       "      <td>0.0</td>\n",
       "      <td>0.0</td>\n",
       "      <td>0.0</td>\n",
       "      <td>0.0</td>\n",
       "      <td>0.0</td>\n",
       "      <td>0.0</td>\n",
       "      <td>0.0</td>\n",
       "      <td>0.0</td>\n",
       "      <td>0.0</td>\n",
       "      <td>Zagreb</td>\n",
       "    </tr>\n",
       "    <tr>\n",
       "      <th>110987</th>\n",
       "      <td>5140b8a7fdc9f04926001cc3</td>\n",
       "      <td>3.202311</td>\n",
       "      <td>17.572021</td>\n",
       "      <td>42.800395</td>\n",
       "      <td>0.0</td>\n",
       "      <td>0.433350</td>\n",
       "      <td>0.0</td>\n",
       "      <td>20.433044</td>\n",
       "      <td>0.0</td>\n",
       "      <td>0.0</td>\n",
       "      <td>...</td>\n",
       "      <td>0.0</td>\n",
       "      <td>0.0</td>\n",
       "      <td>0.0</td>\n",
       "      <td>0.0</td>\n",
       "      <td>0.0</td>\n",
       "      <td>0.0</td>\n",
       "      <td>0.0</td>\n",
       "      <td>0.0</td>\n",
       "      <td>0.0</td>\n",
       "      <td>Zagreb</td>\n",
       "    </tr>\n",
       "  </tbody>\n",
       "</table>\n",
       "<p>110988 rows × 151 columns</p>\n",
       "</div>"
      ],
      "text/plain": [
       "                 image_file_name      wall   building        sky  floor  \\\n",
       "0       513cc058fdc9f0358700137e  0.000000   4.187520  43.906657    0.0   \n",
       "1       513cc646fdc9f03587001930  0.000000   0.015767  31.339518    0.0   \n",
       "2       513d35bffdc9f03587002b1e  0.000000   4.181417  42.042542    0.0   \n",
       "3       513cc072fdc9f0358700139b  0.000000   1.689148  43.962606    0.0   \n",
       "4       513cc0eafdc9f03587001413  0.000000   0.000000  48.340352    0.0   \n",
       "...                          ...       ...        ...        ...    ...   \n",
       "110983  5140b899fdc9f04926001ca5  0.000000   0.699870  42.807007    0.0   \n",
       "110984  5140b75efdc9f049260019a9  0.000000   5.694580  29.054769    0.0   \n",
       "110985  5140b909fdc9f04926001d7d  0.348918   9.884135  34.589640    0.0   \n",
       "110986  5140b8b6fdc9f04926001cdc  0.436910  20.867920  31.451925    0.0   \n",
       "110987  5140b8a7fdc9f04926001cc3  3.202311  17.572021  42.800395    0.0   \n",
       "\n",
       "             tree  ceiling       road  bed  windowpane  ...  crt  plate  \\\n",
       "0        5.482992      0.0  28.821309  0.0         0.0  ...  0.0    0.0   \n",
       "1       23.216248      0.0  34.255981  0.0         0.0  ...  0.0    0.0   \n",
       "2        7.662964      0.0  25.940959  0.0         0.0  ...  0.0    0.0   \n",
       "3        6.894430      0.0  24.218750  0.0         0.0  ...  0.0    0.0   \n",
       "4        2.666219      0.0  37.083435  0.0         0.0  ...  0.0    0.0   \n",
       "...           ...      ...        ...  ...         ...  ...  ...    ...   \n",
       "110983  10.089620      0.0  14.684041  0.0         0.0  ...  0.0    0.0   \n",
       "110984  14.404806      0.0  10.788472  0.0         0.0  ...  0.0    0.0   \n",
       "110985  12.540181      0.0  16.451518  0.0         0.0  ...  0.0    0.0   \n",
       "110986   9.117635      0.0   3.922526  0.0         0.0  ...  0.0    0.0   \n",
       "110987   0.433350      0.0  20.433044  0.0         0.0  ...  0.0    0.0   \n",
       "\n",
       "        monitor  bulletin  shower  radiator  glass  clock  flag     city  \n",
       "0           0.0       0.0     0.0       0.0    0.0    0.0   0.0  Houston  \n",
       "1           0.0       0.0     0.0       0.0    0.0    0.0   0.0  Houston  \n",
       "2           0.0       0.0     0.0       0.0    0.0    0.0   0.0  Houston  \n",
       "3           0.0       0.0     0.0       0.0    0.0    0.0   0.0  Houston  \n",
       "4           0.0       0.0     0.0       0.0    0.0    0.0   0.0  Houston  \n",
       "...         ...       ...     ...       ...    ...    ...   ...      ...  \n",
       "110983      0.0       0.0     0.0       0.0    0.0    0.0   0.0   Zagreb  \n",
       "110984      0.0       0.0     0.0       0.0    0.0    0.0   0.0   Zagreb  \n",
       "110985      0.0       0.0     0.0       0.0    0.0    0.0   0.0   Zagreb  \n",
       "110986      0.0       0.0     0.0       0.0    0.0    0.0   0.0   Zagreb  \n",
       "110987      0.0       0.0     0.0       0.0    0.0    0.0   0.0   Zagreb  \n",
       "\n",
       "[110988 rows x 151 columns]"
      ]
     },
     "execution_count": 7,
     "metadata": {},
     "output_type": "execute_result"
    }
   ],
   "source": [
    "df_ = segment_city_df.loc[:, (segment_city_df != 0).any(axis=0)].copy()\n",
    "df_[\"city\"] = df_[\"image_file_name\"].apply(lambda x: x.split(\"_\")[3])\n",
    "df_[\"image_file_name\"] = df_[\"image_file_name\"].apply(lambda x: x.split(\"_\")[2])\n",
    "df_"
   ]
  },
  {
   "cell_type": "code",
   "execution_count": 8,
   "id": "d247c574",
   "metadata": {},
   "outputs": [
    {
     "data": {
      "image/png": "[encoded data removed]",
      "text/plain": [
       "<Figure size 2000x800 with 1 Axes>"
      ]
     },
     "metadata": {},
     "output_type": "display_data"
    }
   ],
   "source": [
    "# Total\n",
    "X_df = df_.iloc[:, 1:-1].copy()\n",
    "X_df = X_df[np.sort(X_df.columns)]\n",
    "X_df[X_df > 0] = 1\n",
    "\n",
    "sum_df = X_df.sum()/len(X_df)\n",
    "\n",
    "ax = sum_df.plot(kind=\"bar\", figsize=(20,8), ylabel=\"% Presence\", rot=90, ylim=(0.0,1.1), yticks=list(np.arange(0,1.1,0.10)))\n",
    "plt.title(f\"Objects Presence Distribution\")\n",
    "plt.grid(True)\n",
    "plt.show()\n",
    "# plt.savefig(f\"{MAIN_OUT_PATH}objects_distribution.png\", bbox_inches='tight', pad_inches = 0.5)\n",
    "# plt.clf()\n",
    "# plt.cla()\n",
    "# plt.close()"
   ]
  },
  {
   "cell_type": "markdown",
   "id": "f4187864",
   "metadata": {},
   "source": [
    "### Generating samples "
   ]
  },
  {
   "cell_type": "code",
   "execution_count": 9,
   "id": "4324232f",
   "metadata": {},
   "outputs": [],
   "source": [
    "data_df = pd.merge(df_, pp_df[[\"image_file_name\", \"safety\"]], on=\"image_file_name\", how=\"left\")\n",
    "data_df[\"labels\"] = data_df[\"safety\"].apply(lambda x: 1 if x>=5.0 else 0 )"
   ]
  },
  {
   "cell_type": "code",
   "execution_count": 10,
   "id": "788dfd48",
   "metadata": {},
   "outputs": [],
   "source": [
    "new_columns = np.concatenate( (np.array([\"image_file_name\"]), np.sort(X_df.columns.values)) )\n",
    "data_df.columns = np.concatenate( (new_columns, np.array([\"city\", \"safety\", \"labels\"])) )"
   ]
  },
  {
   "cell_type": "code",
   "execution_count": 11,
   "id": "81dd054f",
   "metadata": {},
   "outputs": [
    {
     "data": {
      "text/html": [
       "<div>\n",
       "<style scoped>\n",
       "    .dataframe tbody tr th:only-of-type {\n",
       "        vertical-align: middle;\n",
       "    }\n",
       "\n",
       "    .dataframe tbody tr th {\n",
       "        vertical-align: top;\n",
       "    }\n",
       "\n",
       "    .dataframe thead th {\n",
       "        text-align: right;\n",
       "    }\n",
       "</style>\n",
       "<table border=\"1\" class=\"dataframe\">\n",
       "  <thead>\n",
       "    <tr style=\"text-align: right;\">\n",
       "      <th></th>\n",
       "      <th>image_file_name</th>\n",
       "      <th>airplane</th>\n",
       "      <th>animal</th>\n",
       "      <th>apparel</th>\n",
       "      <th>arcade</th>\n",
       "      <th>armchair</th>\n",
       "      <th>ashcan</th>\n",
       "      <th>awning</th>\n",
       "      <th>bag</th>\n",
       "      <th>ball</th>\n",
       "      <th>...</th>\n",
       "      <th>vase</th>\n",
       "      <th>wall</th>\n",
       "      <th>wardrobe</th>\n",
       "      <th>washer</th>\n",
       "      <th>water</th>\n",
       "      <th>waterfall</th>\n",
       "      <th>windowpane</th>\n",
       "      <th>city</th>\n",
       "      <th>safety</th>\n",
       "      <th>labels</th>\n",
       "    </tr>\n",
       "  </thead>\n",
       "  <tbody>\n",
       "    <tr>\n",
       "      <th>0</th>\n",
       "      <td>513cc058fdc9f0358700137e</td>\n",
       "      <td>0.000000</td>\n",
       "      <td>4.187520</td>\n",
       "      <td>43.906657</td>\n",
       "      <td>0.0</td>\n",
       "      <td>5.482992</td>\n",
       "      <td>0.0</td>\n",
       "      <td>28.821309</td>\n",
       "      <td>0.0</td>\n",
       "      <td>0.0</td>\n",
       "      <td>...</td>\n",
       "      <td>0.0</td>\n",
       "      <td>0.0</td>\n",
       "      <td>0.0</td>\n",
       "      <td>0.0</td>\n",
       "      <td>0.0</td>\n",
       "      <td>0.0</td>\n",
       "      <td>0.0</td>\n",
       "      <td>Houston</td>\n",
       "      <td>2.520084</td>\n",
       "      <td>0</td>\n",
       "    </tr>\n",
       "    <tr>\n",
       "      <th>1</th>\n",
       "      <td>513cc646fdc9f03587001930</td>\n",
       "      <td>0.000000</td>\n",
       "      <td>0.015767</td>\n",
       "      <td>31.339518</td>\n",
       "      <td>0.0</td>\n",
       "      <td>23.216248</td>\n",
       "      <td>0.0</td>\n",
       "      <td>34.255981</td>\n",
       "      <td>0.0</td>\n",
       "      <td>0.0</td>\n",
       "      <td>...</td>\n",
       "      <td>0.0</td>\n",
       "      <td>0.0</td>\n",
       "      <td>0.0</td>\n",
       "      <td>0.0</td>\n",
       "      <td>0.0</td>\n",
       "      <td>0.0</td>\n",
       "      <td>0.0</td>\n",
       "      <td>Houston</td>\n",
       "      <td>3.333333</td>\n",
       "      <td>0</td>\n",
       "    </tr>\n",
       "    <tr>\n",
       "      <th>2</th>\n",
       "      <td>513d35bffdc9f03587002b1e</td>\n",
       "      <td>0.000000</td>\n",
       "      <td>4.181417</td>\n",
       "      <td>42.042542</td>\n",
       "      <td>0.0</td>\n",
       "      <td>7.662964</td>\n",
       "      <td>0.0</td>\n",
       "      <td>25.940959</td>\n",
       "      <td>0.0</td>\n",
       "      <td>0.0</td>\n",
       "      <td>...</td>\n",
       "      <td>0.0</td>\n",
       "      <td>0.0</td>\n",
       "      <td>0.0</td>\n",
       "      <td>0.0</td>\n",
       "      <td>0.0</td>\n",
       "      <td>0.0</td>\n",
       "      <td>0.0</td>\n",
       "      <td>Houston</td>\n",
       "      <td>3.333333</td>\n",
       "      <td>0</td>\n",
       "    </tr>\n",
       "    <tr>\n",
       "      <th>3</th>\n",
       "      <td>513cc072fdc9f0358700139b</td>\n",
       "      <td>0.000000</td>\n",
       "      <td>1.689148</td>\n",
       "      <td>43.962606</td>\n",
       "      <td>0.0</td>\n",
       "      <td>6.894430</td>\n",
       "      <td>0.0</td>\n",
       "      <td>24.218750</td>\n",
       "      <td>0.0</td>\n",
       "      <td>0.0</td>\n",
       "      <td>...</td>\n",
       "      <td>0.0</td>\n",
       "      <td>0.0</td>\n",
       "      <td>0.0</td>\n",
       "      <td>0.0</td>\n",
       "      <td>0.0</td>\n",
       "      <td>0.0</td>\n",
       "      <td>0.0</td>\n",
       "      <td>Houston</td>\n",
       "      <td>5.634921</td>\n",
       "      <td>1</td>\n",
       "    </tr>\n",
       "    <tr>\n",
       "      <th>4</th>\n",
       "      <td>513cc0eafdc9f03587001413</td>\n",
       "      <td>0.000000</td>\n",
       "      <td>0.000000</td>\n",
       "      <td>48.340352</td>\n",
       "      <td>0.0</td>\n",
       "      <td>2.666219</td>\n",
       "      <td>0.0</td>\n",
       "      <td>37.083435</td>\n",
       "      <td>0.0</td>\n",
       "      <td>0.0</td>\n",
       "      <td>...</td>\n",
       "      <td>0.0</td>\n",
       "      <td>0.0</td>\n",
       "      <td>0.0</td>\n",
       "      <td>0.0</td>\n",
       "      <td>0.0</td>\n",
       "      <td>0.0</td>\n",
       "      <td>0.0</td>\n",
       "      <td>Houston</td>\n",
       "      <td>4.811105</td>\n",
       "      <td>0</td>\n",
       "    </tr>\n",
       "    <tr>\n",
       "      <th>...</th>\n",
       "      <td>...</td>\n",
       "      <td>...</td>\n",
       "      <td>...</td>\n",
       "      <td>...</td>\n",
       "      <td>...</td>\n",
       "      <td>...</td>\n",
       "      <td>...</td>\n",
       "      <td>...</td>\n",
       "      <td>...</td>\n",
       "      <td>...</td>\n",
       "      <td>...</td>\n",
       "      <td>...</td>\n",
       "      <td>...</td>\n",
       "      <td>...</td>\n",
       "      <td>...</td>\n",
       "      <td>...</td>\n",
       "      <td>...</td>\n",
       "      <td>...</td>\n",
       "      <td>...</td>\n",
       "      <td>...</td>\n",
       "      <td>...</td>\n",
       "    </tr>\n",
       "    <tr>\n",
       "      <th>110983</th>\n",
       "      <td>5140b899fdc9f04926001ca5</td>\n",
       "      <td>0.000000</td>\n",
       "      <td>0.699870</td>\n",
       "      <td>42.807007</td>\n",
       "      <td>0.0</td>\n",
       "      <td>10.089620</td>\n",
       "      <td>0.0</td>\n",
       "      <td>14.684041</td>\n",
       "      <td>0.0</td>\n",
       "      <td>0.0</td>\n",
       "      <td>...</td>\n",
       "      <td>0.0</td>\n",
       "      <td>0.0</td>\n",
       "      <td>0.0</td>\n",
       "      <td>0.0</td>\n",
       "      <td>0.0</td>\n",
       "      <td>0.0</td>\n",
       "      <td>0.0</td>\n",
       "      <td>Zagreb</td>\n",
       "      <td>4.373219</td>\n",
       "      <td>0</td>\n",
       "    </tr>\n",
       "    <tr>\n",
       "      <th>110984</th>\n",
       "      <td>5140b75efdc9f049260019a9</td>\n",
       "      <td>0.000000</td>\n",
       "      <td>5.694580</td>\n",
       "      <td>29.054769</td>\n",
       "      <td>0.0</td>\n",
       "      <td>14.404806</td>\n",
       "      <td>0.0</td>\n",
       "      <td>10.788472</td>\n",
       "      <td>0.0</td>\n",
       "      <td>0.0</td>\n",
       "      <td>...</td>\n",
       "      <td>0.0</td>\n",
       "      <td>0.0</td>\n",
       "      <td>0.0</td>\n",
       "      <td>0.0</td>\n",
       "      <td>0.0</td>\n",
       "      <td>0.0</td>\n",
       "      <td>0.0</td>\n",
       "      <td>Zagreb</td>\n",
       "      <td>3.333333</td>\n",
       "      <td>0</td>\n",
       "    </tr>\n",
       "    <tr>\n",
       "      <th>110985</th>\n",
       "      <td>5140b909fdc9f04926001d7d</td>\n",
       "      <td>0.348918</td>\n",
       "      <td>9.884135</td>\n",
       "      <td>34.589640</td>\n",
       "      <td>0.0</td>\n",
       "      <td>12.540181</td>\n",
       "      <td>0.0</td>\n",
       "      <td>16.451518</td>\n",
       "      <td>0.0</td>\n",
       "      <td>0.0</td>\n",
       "      <td>...</td>\n",
       "      <td>0.0</td>\n",
       "      <td>0.0</td>\n",
       "      <td>0.0</td>\n",
       "      <td>0.0</td>\n",
       "      <td>0.0</td>\n",
       "      <td>0.0</td>\n",
       "      <td>0.0</td>\n",
       "      <td>Zagreb</td>\n",
       "      <td>5.017316</td>\n",
       "      <td>1</td>\n",
       "    </tr>\n",
       "    <tr>\n",
       "      <th>110986</th>\n",
       "      <td>5140b8b6fdc9f04926001cdc</td>\n",
       "      <td>0.436910</td>\n",
       "      <td>20.867920</td>\n",
       "      <td>31.451925</td>\n",
       "      <td>0.0</td>\n",
       "      <td>9.117635</td>\n",
       "      <td>0.0</td>\n",
       "      <td>3.922526</td>\n",
       "      <td>0.0</td>\n",
       "      <td>0.0</td>\n",
       "      <td>...</td>\n",
       "      <td>0.0</td>\n",
       "      <td>0.0</td>\n",
       "      <td>0.0</td>\n",
       "      <td>0.0</td>\n",
       "      <td>0.0</td>\n",
       "      <td>0.0</td>\n",
       "      <td>0.0</td>\n",
       "      <td>Zagreb</td>\n",
       "      <td>5.211386</td>\n",
       "      <td>1</td>\n",
       "    </tr>\n",
       "    <tr>\n",
       "      <th>110987</th>\n",
       "      <td>5140b8a7fdc9f04926001cc3</td>\n",
       "      <td>3.202311</td>\n",
       "      <td>17.572021</td>\n",
       "      <td>42.800395</td>\n",
       "      <td>0.0</td>\n",
       "      <td>0.433350</td>\n",
       "      <td>0.0</td>\n",
       "      <td>20.433044</td>\n",
       "      <td>0.0</td>\n",
       "      <td>0.0</td>\n",
       "      <td>...</td>\n",
       "      <td>0.0</td>\n",
       "      <td>0.0</td>\n",
       "      <td>0.0</td>\n",
       "      <td>0.0</td>\n",
       "      <td>0.0</td>\n",
       "      <td>0.0</td>\n",
       "      <td>0.0</td>\n",
       "      <td>Zagreb</td>\n",
       "      <td>4.810295</td>\n",
       "      <td>0</td>\n",
       "    </tr>\n",
       "  </tbody>\n",
       "</table>\n",
       "<p>110988 rows × 153 columns</p>\n",
       "</div>"
      ],
      "text/plain": [
       "                 image_file_name  airplane     animal    apparel  arcade  \\\n",
       "0       513cc058fdc9f0358700137e  0.000000   4.187520  43.906657     0.0   \n",
       "1       513cc646fdc9f03587001930  0.000000   0.015767  31.339518     0.0   \n",
       "2       513d35bffdc9f03587002b1e  0.000000   4.181417  42.042542     0.0   \n",
       "3       513cc072fdc9f0358700139b  0.000000   1.689148  43.962606     0.0   \n",
       "4       513cc0eafdc9f03587001413  0.000000   0.000000  48.340352     0.0   \n",
       "...                          ...       ...        ...        ...     ...   \n",
       "110983  5140b899fdc9f04926001ca5  0.000000   0.699870  42.807007     0.0   \n",
       "110984  5140b75efdc9f049260019a9  0.000000   5.694580  29.054769     0.0   \n",
       "110985  5140b909fdc9f04926001d7d  0.348918   9.884135  34.589640     0.0   \n",
       "110986  5140b8b6fdc9f04926001cdc  0.436910  20.867920  31.451925     0.0   \n",
       "110987  5140b8a7fdc9f04926001cc3  3.202311  17.572021  42.800395     0.0   \n",
       "\n",
       "         armchair  ashcan     awning  bag  ball  ...  vase  wall  wardrobe  \\\n",
       "0        5.482992     0.0  28.821309  0.0   0.0  ...   0.0   0.0       0.0   \n",
       "1       23.216248     0.0  34.255981  0.0   0.0  ...   0.0   0.0       0.0   \n",
       "2        7.662964     0.0  25.940959  0.0   0.0  ...   0.0   0.0       0.0   \n",
       "3        6.894430     0.0  24.218750  0.0   0.0  ...   0.0   0.0       0.0   \n",
       "4        2.666219     0.0  37.083435  0.0   0.0  ...   0.0   0.0       0.0   \n",
       "...           ...     ...        ...  ...   ...  ...   ...   ...       ...   \n",
       "110983  10.089620     0.0  14.684041  0.0   0.0  ...   0.0   0.0       0.0   \n",
       "110984  14.404806     0.0  10.788472  0.0   0.0  ...   0.0   0.0       0.0   \n",
       "110985  12.540181     0.0  16.451518  0.0   0.0  ...   0.0   0.0       0.0   \n",
       "110986   9.117635     0.0   3.922526  0.0   0.0  ...   0.0   0.0       0.0   \n",
       "110987   0.433350     0.0  20.433044  0.0   0.0  ...   0.0   0.0       0.0   \n",
       "\n",
       "        washer  water  waterfall  windowpane     city    safety  labels  \n",
       "0          0.0    0.0        0.0         0.0  Houston  2.520084       0  \n",
       "1          0.0    0.0        0.0         0.0  Houston  3.333333       0  \n",
       "2          0.0    0.0        0.0         0.0  Houston  3.333333       0  \n",
       "3          0.0    0.0        0.0         0.0  Houston  5.634921       1  \n",
       "4          0.0    0.0        0.0         0.0  Houston  4.811105       0  \n",
       "...        ...    ...        ...         ...      ...       ...     ...  \n",
       "110983     0.0    0.0        0.0         0.0   Zagreb  4.373219       0  \n",
       "110984     0.0    0.0        0.0         0.0   Zagreb  3.333333       0  \n",
       "110985     0.0    0.0        0.0         0.0   Zagreb  5.017316       1  \n",
       "110986     0.0    0.0        0.0         0.0   Zagreb  5.211386       1  \n",
       "110987     0.0    0.0        0.0         0.0   Zagreb  4.810295       0  \n",
       "\n",
       "[110988 rows x 153 columns]"
      ]
     },
     "execution_count": 11,
     "metadata": {},
     "output_type": "execute_result"
    }
   ],
   "source": [
    "data_df"
   ]
  },
  {
   "cell_type": "code",
   "execution_count": 12,
   "id": "760c42f4",
   "metadata": {},
   "outputs": [
    {
     "data": {
      "text/plain": [
       "((110988, 149), (110988,))"
      ]
     },
     "execution_count": 12,
     "metadata": {},
     "output_type": "execute_result"
    }
   ],
   "source": [
    "city_df = data_df.iloc[:, -3].copy()\n",
    "Y_df = data_df.iloc[:, -1].copy()\n",
    "X_df = data_df.iloc[:, 1:-3].copy()\n",
    "X_df.shape, Y_df.shape"
   ]
  },
  {
   "cell_type": "markdown",
   "id": "ae35003a",
   "metadata": {},
   "source": [
    "### Standard Scaler"
   ]
  },
  {
   "cell_type": "code",
   "execution_count": 13,
   "id": "659c7c20",
   "metadata": {},
   "outputs": [],
   "source": [
    "from sklearn.preprocessing import StandardScaler"
   ]
  },
  {
   "cell_type": "code",
   "execution_count": 14,
   "id": "80a6b9ec",
   "metadata": {},
   "outputs": [],
   "source": [
    "scaler = StandardScaler()"
   ]
  },
  {
   "cell_type": "markdown",
   "id": "bdf7846d",
   "metadata": {},
   "source": [
    "### Classifiers"
   ]
  },
  {
   "cell_type": "code",
   "execution_count": 15,
   "id": "21fe6d71",
   "metadata": {},
   "outputs": [],
   "source": [
    "from sklearn.svm import LinearSVC\n",
    "from sklearn.linear_model import LogisticRegression\n",
    "from sklearn.linear_model import RidgeClassifier"
   ]
  },
  {
   "cell_type": "code",
   "execution_count": 16,
   "id": "55e4a0c3",
   "metadata": {},
   "outputs": [],
   "source": [
    "random_state = 42\n",
    "regularizer_value = np.logspace(-3, 3, num=7)\n",
    "class_weight = [None, 'balanced']\n",
    "type_scaler = ['passthrough', scaler]\n",
    "#dim_reductor = [t_svd, pca, sparse_pca]\n",
    "type_penalty = ['l1', 'l2']"
   ]
  },
  {
   "cell_type": "code",
   "execution_count": 17,
   "id": "0cd24849",
   "metadata": {},
   "outputs": [],
   "source": [
    "lr = LogisticRegression(\n",
    "    tol=1e-3,\n",
    "    dual=False,  # Prefer dual=False when n_samples > n_features\n",
    "    random_state=random_state,\n",
    "    max_iter=1e3,\n",
    ")\n",
    "\n",
    "param_lr = {}\n",
    "param_lr['scaler'] = copy.deepcopy(type_scaler)\n",
    "#param_lr['dim_reductor'] = copy.deepcopy(dim_reductor)\n",
    "param_lr['classifier__C'] = copy.deepcopy(regularizer_value)\n",
    "param_lr['classifier__class_weight'] = copy.deepcopy(class_weight)\n",
    "param_lr['classifier__penalty'] = copy.deepcopy(type_penalty)\n",
    "param_lr['classifier'] = [lr]"
   ]
  },
  {
   "cell_type": "code",
   "execution_count": 18,
   "id": "33183718",
   "metadata": {},
   "outputs": [],
   "source": [
    "ridge = RidgeClassifier(\n",
    "    tol=1e-3,\n",
    "    random_state=random_state,\n",
    "    max_iter=1e3,\n",
    ")\n",
    "\n",
    "param_ridge = {}\n",
    "param_ridge['scaler'] = copy.deepcopy(type_scaler)\n",
    "# param_ridge['dim_reductor'] = copy.deepcopy(dim_reductor)\n",
    "param_ridge['classifier__alpha'] = copy.deepcopy(regularizer_value)\n",
    "param_ridge['classifier__class_weight'] = copy.deepcopy(class_weight)\n",
    "param_ridge['classifier'] = [ridge]"
   ]
  },
  {
   "cell_type": "code",
   "execution_count": 19,
   "id": "db44c360",
   "metadata": {},
   "outputs": [],
   "source": [
    "linear_svm = LinearSVC(\n",
    "    tol=1e-3,\n",
    "    random_state=42,\n",
    "    max_iter=1e3,\n",
    ")\n",
    "\n",
    "\n",
    "param_linear_svm = {}\n",
    "param_linear_svm['scaler'] = copy.deepcopy(type_scaler)\n",
    "# param_linear_svm['dim_reductor'] = copy.deepcopy(dim_reductor)\n",
    "param_linear_svm['classifier__C'] = copy.deepcopy(regularizer_value)\n",
    "param_linear_svm['classifier__class_weight'] = copy.deepcopy(class_weight)\n",
    "param_linear_svm['classifier__penalty'] = copy.deepcopy(type_penalty)\n",
    "param_linear_svm['classifier'] = [linear_svm]"
   ]
  },
  {
   "cell_type": "markdown",
   "id": "b5a90698",
   "metadata": {},
   "source": [
    "### Create Pipeline"
   ]
  },
  {
   "cell_type": "code",
   "execution_count": 20,
   "id": "fca5a3ed",
   "metadata": {},
   "outputs": [],
   "source": [
    "from joblib import Memory"
   ]
  },
  {
   "cell_type": "code",
   "execution_count": 21,
   "id": "21655d8e",
   "metadata": {},
   "outputs": [],
   "source": [
    "memory = Memory(\n",
    "    location=CACHE_PATH,\n",
    "    # verbose=1,\n",
    ")"
   ]
  },
  {
   "cell_type": "code",
   "execution_count": 22,
   "id": "9e48bfae",
   "metadata": {},
   "outputs": [],
   "source": [
    "from sklearn.pipeline import Pipeline"
   ]
  },
  {
   "cell_type": "code",
   "execution_count": 23,
   "id": "a9497bcb",
   "metadata": {},
   "outputs": [],
   "source": [
    "pipeline = Pipeline(\n",
    "    steps = [\n",
    "        # 1. Scaler\n",
    "        ('scaler', scaler),\n",
    "        # 3. Model selecction\n",
    "        ('classifier', lr),\n",
    "    ],\n",
    "    memory=memory,\n",
    ")"
   ]
  },
  {
   "cell_type": "markdown",
   "id": "393ed78c",
   "metadata": {},
   "source": [
    "### Create GridSearch"
   ]
  },
  {
   "cell_type": "code",
   "execution_count": 24,
   "id": "abb49d57",
   "metadata": {},
   "outputs": [],
   "source": [
    "from sklearn.model_selection import GridSearchCV\n",
    "from sklearn.model_selection import StratifiedKFold"
   ]
  },
  {
   "cell_type": "code",
   "execution_count": 25,
   "id": "a6314c5b",
   "metadata": {},
   "outputs": [],
   "source": [
    "param_grid = [param_lr, \n",
    "              param_ridge, \n",
    "              param_linear_svm]"
   ]
  },
  {
   "cell_type": "code",
   "execution_count": 26,
   "id": "66974990",
   "metadata": {},
   "outputs": [],
   "source": [
    "grid_search = GridSearchCV(\n",
    "            estimator=pipeline,\n",
    "            param_grid=param_grid,\n",
    "            scoring='balanced_accuracy',\n",
    "            refit=True,\n",
    "            cv=StratifiedKFold(n_splits=5),  # << Use time series\n",
    "            verbose=4,\n",
    ")"
   ]
  },
  {
   "cell_type": "code",
   "execution_count": 27,
   "id": "f7b96206",
   "metadata": {},
   "outputs": [
    {
     "data": {
      "text/plain": [
       "GridSearchCV(cv=StratifiedKFold(n_splits=5, random_state=None, shuffle=False),\n",
       "             estimator=Pipeline(memory=Memory(location=outputs//cache/joblib),\n",
       "                                steps=[('scaler', StandardScaler()),\n",
       "                                       ('classifier',\n",
       "                                        LogisticRegression(max_iter=1000.0,\n",
       "                                                           random_state=42,\n",
       "                                                           tol=0.001))]),\n",
       "             param_grid=[{'classifier': [LogisticRegression(max_iter=1000.0,\n",
       "                                                            random_state=42,\n",
       "                                                            tol=0.001)],\n",
       "                          'clas...\n",
       "                          'classifier__class_weight': [None, 'balanced'],\n",
       "                          'scaler': ['passthrough', StandardScaler()]},\n",
       "                         {'classifier': [LinearSVC(max_iter=1000.0,\n",
       "                                                   random_state=42,\n",
       "                                                   tol=0.001)],\n",
       "                          'classifier__C': array([1.e-03, 1.e-02, 1.e-01, 1.e+00, 1.e+01, 1.e+02, 1.e+03]),\n",
       "                          'classifier__class_weight': [None, 'balanced'],\n",
       "                          'classifier__penalty': ['l1', 'l2'],\n",
       "                          'scaler': ['passthrough', StandardScaler()]}],\n",
       "             scoring='balanced_accuracy', verbose=4)"
      ]
     },
     "execution_count": 27,
     "metadata": {},
     "output_type": "execute_result"
    }
   ],
   "source": [
    "grid_search"
   ]
  },
  {
   "cell_type": "markdown",
   "id": "354958ab",
   "metadata": {},
   "source": [
    "### Data Split"
   ]
  },
  {
   "cell_type": "code",
   "execution_count": 28,
   "id": "110409ed",
   "metadata": {},
   "outputs": [],
   "source": [
    "from sklearn.metrics import classification_report\n",
    "from sklearn.model_selection import train_test_split"
   ]
  },
  {
   "cell_type": "code",
   "execution_count": 29,
   "id": "fdc90604",
   "metadata": {},
   "outputs": [
    {
     "name": "stdout",
     "output_type": "stream",
     "text": [
      "(88790, 149) (88790,) (22198, 149) (22198,)\n"
     ]
    }
   ],
   "source": [
    "xtrain, xtest, ytrain, ytest = train_test_split(X_df, \n",
    "                                                Y_df, \n",
    "                                                train_size=0.8, \n",
    "                                                random_state=random_state,\n",
    "                                                stratify=Y_df\n",
    "                                               )\n",
    "print(xtrain.shape, ytrain.shape, xtest.shape, ytest.shape)"
   ]
  },
  {
   "cell_type": "markdown",
   "id": "9f0dbf34",
   "metadata": {},
   "source": [
    "### Training"
   ]
  },
  {
   "cell_type": "code",
   "execution_count": 30,
   "id": "634086f1",
   "metadata": {},
   "outputs": [
    {
     "name": "stdout",
     "output_type": "stream",
     "text": [
      "Fitting 5 folds for each of 140 candidates, totalling 700 fits\n",
      "[CV 1/5] END classifier=LogisticRegression(max_iter=1000.0, random_state=42, tol=0.001), classifier__C=0.001, classifier__class_weight=None, classifier__penalty=l1, scaler=passthrough;, score=nan total time=   0.0s\n",
      "[CV 2/5] END classifier=LogisticRegression(max_iter=1000.0, random_state=42, tol=0.001), classifier__C=0.001, classifier__class_weight=None, classifier__penalty=l1, scaler=passthrough;, score=nan total time=   0.0s\n",
      "[CV 3/5] END classifier=LogisticRegression(max_iter=1000.0, random_state=42, tol=0.001), classifier__C=0.001, classifier__class_weight=None, classifier__penalty=l1, scaler=passthrough;, score=nan total time=   0.0s\n",
      "[CV 4/5] END classifier=LogisticRegression(max_iter=1000.0, random_state=42, tol=0.001), classifier__C=0.001, classifier__class_weight=None, classifier__penalty=l1, scaler=passthrough;, score=nan total time=   0.0s\n",
      "[CV 5/5] END classifier=LogisticRegression(max_iter=1000.0, random_state=42, tol=0.001), classifier__C=0.001, classifier__class_weight=None, classifier__penalty=l1, scaler=passthrough;, score=nan total time=   0.0s\n",
      "[CV 1/5] END classifier=LogisticRegression(max_iter=1000.0, random_state=42, tol=0.001), classifier__C=0.001, classifier__class_weight=None, classifier__penalty=l1, scaler=StandardScaler();, score=nan total time=   0.1s\n",
      "[CV 2/5] END classifier=LogisticRegression(max_iter=1000.0, random_state=42, tol=0.001), classifier__C=0.001, classifier__class_weight=None, classifier__penalty=l1, scaler=StandardScaler();, score=nan total time=   0.1s\n",
      "[CV 3/5] END classifier=LogisticRegression(max_iter=1000.0, random_state=42, tol=0.001), classifier__C=0.001, classifier__class_weight=None, classifier__penalty=l1, scaler=StandardScaler();, score=nan total time=   0.1s\n",
      "[CV 4/5] END classifier=LogisticRegression(max_iter=1000.0, random_state=42, tol=0.001), classifier__C=0.001, classifier__class_weight=None, classifier__penalty=l1, scaler=StandardScaler();, score=nan total time=   0.1s\n",
      "[CV 5/5] END classifier=LogisticRegression(max_iter=1000.0, random_state=42, tol=0.001), classifier__C=0.001, classifier__class_weight=None, classifier__penalty=l1, scaler=StandardScaler();, score=nan total time=   0.1s\n",
      "[CV 1/5] END classifier=LogisticRegression(max_iter=1000.0, random_state=42, tol=0.001), classifier__C=0.001, classifier__class_weight=None, classifier__penalty=l2, scaler=passthrough;, score=0.587 total time=   1.8s\n",
      "[CV 2/5] END classifier=LogisticRegression(max_iter=1000.0, random_state=42, tol=0.001), classifier__C=0.001, classifier__class_weight=None, classifier__penalty=l2, scaler=passthrough;, score=0.590 total time=   1.7s\n",
      "[CV 3/5] END classifier=LogisticRegression(max_iter=1000.0, random_state=42, tol=0.001), classifier__C=0.001, classifier__class_weight=None, classifier__penalty=l2, scaler=passthrough;, score=0.583 total time=   1.9s\n",
      "[CV 4/5] END classifier=LogisticRegression(max_iter=1000.0, random_state=42, tol=0.001), classifier__C=0.001, classifier__class_weight=None, classifier__penalty=l2, scaler=passthrough;, score=0.585 total time=   1.7s\n",
      "[CV 5/5] END classifier=LogisticRegression(max_iter=1000.0, random_state=42, tol=0.001), classifier__C=0.001, classifier__class_weight=None, classifier__penalty=l2, scaler=passthrough;, score=0.578 total time=   1.9s\n",
      "[CV 1/5] END classifier=LogisticRegression(max_iter=1000.0, random_state=42, tol=0.001), classifier__C=0.001, classifier__class_weight=None, classifier__penalty=l2, scaler=StandardScaler();, score=0.581 total time=   0.3s\n",
      "[CV 2/5] END classifier=LogisticRegression(max_iter=1000.0, random_state=42, tol=0.001), classifier__C=0.001, classifier__class_weight=None, classifier__penalty=l2, scaler=StandardScaler();, score=0.585 total time=   0.3s\n",
      "[CV 3/5] END classifier=LogisticRegression(max_iter=1000.0, random_state=42, tol=0.001), classifier__C=0.001, classifier__class_weight=None, classifier__penalty=l2, scaler=StandardScaler();, score=0.582 total time=   0.3s\n",
      "[CV 4/5] END classifier=LogisticRegression(max_iter=1000.0, random_state=42, tol=0.001), classifier__C=0.001, classifier__class_weight=None, classifier__penalty=l2, scaler=StandardScaler();, score=0.581 total time=   0.4s\n",
      "[CV 5/5] END classifier=LogisticRegression(max_iter=1000.0, random_state=42, tol=0.001), classifier__C=0.001, classifier__class_weight=None, classifier__penalty=l2, scaler=StandardScaler();, score=0.574 total time=   0.4s\n",
      "[CV 1/5] END classifier=LogisticRegression(max_iter=1000.0, random_state=42, tol=0.001), classifier__C=0.001, classifier__class_weight=balanced, classifier__penalty=l1, scaler=passthrough;, score=nan total time=   0.1s\n",
      "[CV 2/5] END classifier=LogisticRegression(max_iter=1000.0, random_state=42, tol=0.001), classifier__C=0.001, classifier__class_weight=balanced, classifier__penalty=l1, scaler=passthrough;, score=nan total time=   0.0s\n",
      "[CV 3/5] END classifier=LogisticRegression(max_iter=1000.0, random_state=42, tol=0.001), classifier__C=0.001, classifier__class_weight=balanced, classifier__penalty=l1, scaler=passthrough;, score=nan total time=   0.0s\n",
      "[CV 4/5] END classifier=LogisticRegression(max_iter=1000.0, random_state=42, tol=0.001), classifier__C=0.001, classifier__class_weight=balanced, classifier__penalty=l1, scaler=passthrough;, score=nan total time=   0.0s\n",
      "[CV 5/5] END classifier=LogisticRegression(max_iter=1000.0, random_state=42, tol=0.001), classifier__C=0.001, classifier__class_weight=balanced, classifier__penalty=l1, scaler=passthrough;, score=nan total time=   0.0s\n",
      "[CV 1/5] END classifier=LogisticRegression(max_iter=1000.0, random_state=42, tol=0.001), classifier__C=0.001, classifier__class_weight=balanced, classifier__penalty=l1, scaler=StandardScaler();, score=nan total time=   0.1s\n",
      "[CV 2/5] END classifier=LogisticRegression(max_iter=1000.0, random_state=42, tol=0.001), classifier__C=0.001, classifier__class_weight=balanced, classifier__penalty=l1, scaler=StandardScaler();, score=nan total time=   0.1s\n",
      "[CV 3/5] END classifier=LogisticRegression(max_iter=1000.0, random_state=42, tol=0.001), classifier__C=0.001, classifier__class_weight=balanced, classifier__penalty=l1, scaler=StandardScaler();, score=nan total time=   0.1s\n",
      "[CV 4/5] END classifier=LogisticRegression(max_iter=1000.0, random_state=42, tol=0.001), classifier__C=0.001, classifier__class_weight=balanced, classifier__penalty=l1, scaler=StandardScaler();, score=nan total time=   0.1s\n",
      "[CV 5/5] END classifier=LogisticRegression(max_iter=1000.0, random_state=42, tol=0.001), classifier__C=0.001, classifier__class_weight=balanced, classifier__penalty=l1, scaler=StandardScaler();, score=nan total time=   0.1s\n",
      "[CV 1/5] END classifier=LogisticRegression(max_iter=1000.0, random_state=42, tol=0.001), classifier__C=0.001, classifier__class_weight=balanced, classifier__penalty=l2, scaler=passthrough;, score=0.630 total time=   1.6s\n",
      "[CV 2/5] END classifier=LogisticRegression(max_iter=1000.0, random_state=42, tol=0.001), classifier__C=0.001, classifier__class_weight=balanced, classifier__penalty=l2, scaler=passthrough;, score=0.628 total time=   1.7s\n",
      "[CV 3/5] END classifier=LogisticRegression(max_iter=1000.0, random_state=42, tol=0.001), classifier__C=0.001, classifier__class_weight=balanced, classifier__penalty=l2, scaler=passthrough;, score=0.623 total time=   1.9s\n",
      "[CV 4/5] END classifier=LogisticRegression(max_iter=1000.0, random_state=42, tol=0.001), classifier__C=0.001, classifier__class_weight=balanced, classifier__penalty=l2, scaler=passthrough;, score=0.625 total time=   1.8s\n",
      "[CV 5/5] END classifier=LogisticRegression(max_iter=1000.0, random_state=42, tol=0.001), classifier__C=0.001, classifier__class_weight=balanced, classifier__penalty=l2, scaler=passthrough;, score=0.619 total time=   2.0s\n",
      "[CV 1/5] END classifier=LogisticRegression(max_iter=1000.0, random_state=42, tol=0.001), classifier__C=0.001, classifier__class_weight=balanced, classifier__penalty=l2, scaler=StandardScaler();, score=0.629 total time=   0.5s\n",
      "[CV 2/5] END classifier=LogisticRegression(max_iter=1000.0, random_state=42, tol=0.001), classifier__C=0.001, classifier__class_weight=balanced, classifier__penalty=l2, scaler=StandardScaler();, score=0.629 total time=   0.3s\n"
     ]
    },
    {
     "name": "stdout",
     "output_type": "stream",
     "text": [
      "[CV 3/5] END classifier=LogisticRegression(max_iter=1000.0, random_state=42, tol=0.001), classifier__C=0.001, classifier__class_weight=balanced, classifier__penalty=l2, scaler=StandardScaler();, score=0.624 total time=   0.3s\n",
      "[CV 4/5] END classifier=LogisticRegression(max_iter=1000.0, random_state=42, tol=0.001), classifier__C=0.001, classifier__class_weight=balanced, classifier__penalty=l2, scaler=StandardScaler();, score=0.625 total time=   0.3s\n",
      "[CV 5/5] END classifier=LogisticRegression(max_iter=1000.0, random_state=42, tol=0.001), classifier__C=0.001, classifier__class_weight=balanced, classifier__penalty=l2, scaler=StandardScaler();, score=0.619 total time=   0.3s\n",
      "[CV 1/5] END classifier=LogisticRegression(max_iter=1000.0, random_state=42, tol=0.001), classifier__C=0.01, classifier__class_weight=None, classifier__penalty=l1, scaler=passthrough;, score=nan total time=   0.0s\n",
      "[CV 2/5] END classifier=LogisticRegression(max_iter=1000.0, random_state=42, tol=0.001), classifier__C=0.01, classifier__class_weight=None, classifier__penalty=l1, scaler=passthrough;, score=nan total time=   0.0s\n",
      "[CV 3/5] END classifier=LogisticRegression(max_iter=1000.0, random_state=42, tol=0.001), classifier__C=0.01, classifier__class_weight=None, classifier__penalty=l1, scaler=passthrough;, score=nan total time=   0.0s\n",
      "[CV 4/5] END classifier=LogisticRegression(max_iter=1000.0, random_state=42, tol=0.001), classifier__C=0.01, classifier__class_weight=None, classifier__penalty=l1, scaler=passthrough;, score=nan total time=   0.0s\n",
      "[CV 5/5] END classifier=LogisticRegression(max_iter=1000.0, random_state=42, tol=0.001), classifier__C=0.01, classifier__class_weight=None, classifier__penalty=l1, scaler=passthrough;, score=nan total time=   0.0s\n",
      "[CV 1/5] END classifier=LogisticRegression(max_iter=1000.0, random_state=42, tol=0.001), classifier__C=0.01, classifier__class_weight=None, classifier__penalty=l1, scaler=StandardScaler();, score=nan total time=   0.1s\n",
      "[CV 2/5] END classifier=LogisticRegression(max_iter=1000.0, random_state=42, tol=0.001), classifier__C=0.01, classifier__class_weight=None, classifier__penalty=l1, scaler=StandardScaler();, score=nan total time=   0.1s\n",
      "[CV 3/5] END classifier=LogisticRegression(max_iter=1000.0, random_state=42, tol=0.001), classifier__C=0.01, classifier__class_weight=None, classifier__penalty=l1, scaler=StandardScaler();, score=nan total time=   0.1s\n",
      "[CV 4/5] END classifier=LogisticRegression(max_iter=1000.0, random_state=42, tol=0.001), classifier__C=0.01, classifier__class_weight=None, classifier__penalty=l1, scaler=StandardScaler();, score=nan total time=   0.1s\n",
      "[CV 5/5] END classifier=LogisticRegression(max_iter=1000.0, random_state=42, tol=0.001), classifier__C=0.01, classifier__class_weight=None, classifier__penalty=l1, scaler=StandardScaler();, score=nan total time=   0.1s\n",
      "[CV 1/5] END classifier=LogisticRegression(max_iter=1000.0, random_state=42, tol=0.001), classifier__C=0.01, classifier__class_weight=None, classifier__penalty=l2, scaler=passthrough;, score=0.588 total time=   3.9s\n",
      "[CV 2/5] END classifier=LogisticRegression(max_iter=1000.0, random_state=42, tol=0.001), classifier__C=0.01, classifier__class_weight=None, classifier__penalty=l2, scaler=passthrough;, score=0.591 total time=   4.1s\n",
      "[CV 3/5] END classifier=LogisticRegression(max_iter=1000.0, random_state=42, tol=0.001), classifier__C=0.01, classifier__class_weight=None, classifier__penalty=l2, scaler=passthrough;, score=0.585 total time=   4.4s\n",
      "[CV 4/5] END classifier=LogisticRegression(max_iter=1000.0, random_state=42, tol=0.001), classifier__C=0.01, classifier__class_weight=None, classifier__penalty=l2, scaler=passthrough;, score=0.587 total time=   4.3s\n",
      "[CV 5/5] END classifier=LogisticRegression(max_iter=1000.0, random_state=42, tol=0.001), classifier__C=0.01, classifier__class_weight=None, classifier__penalty=l2, scaler=passthrough;, score=0.579 total time=   5.5s\n",
      "[CV 1/5] END classifier=LogisticRegression(max_iter=1000.0, random_state=42, tol=0.001), classifier__C=0.01, classifier__class_weight=None, classifier__penalty=l2, scaler=StandardScaler();, score=0.588 total time=   0.5s\n",
      "[CV 2/5] END classifier=LogisticRegression(max_iter=1000.0, random_state=42, tol=0.001), classifier__C=0.01, classifier__class_weight=None, classifier__penalty=l2, scaler=StandardScaler();, score=0.590 total time=   0.6s\n",
      "[CV 3/5] END classifier=LogisticRegression(max_iter=1000.0, random_state=42, tol=0.001), classifier__C=0.01, classifier__class_weight=None, classifier__penalty=l2, scaler=StandardScaler();, score=0.585 total time=   0.6s\n",
      "[CV 4/5] END classifier=LogisticRegression(max_iter=1000.0, random_state=42, tol=0.001), classifier__C=0.01, classifier__class_weight=None, classifier__penalty=l2, scaler=StandardScaler();, score=0.587 total time=   0.5s\n",
      "[CV 5/5] END classifier=LogisticRegression(max_iter=1000.0, random_state=42, tol=0.001), classifier__C=0.01, classifier__class_weight=None, classifier__penalty=l2, scaler=StandardScaler();, score=0.579 total time=   0.5s\n",
      "[CV 1/5] END classifier=LogisticRegression(max_iter=1000.0, random_state=42, tol=0.001), classifier__C=0.01, classifier__class_weight=balanced, classifier__penalty=l1, scaler=passthrough;, score=nan total time=   0.0s\n",
      "[CV 2/5] END classifier=LogisticRegression(max_iter=1000.0, random_state=42, tol=0.001), classifier__C=0.01, classifier__class_weight=balanced, classifier__penalty=l1, scaler=passthrough;, score=nan total time=   0.0s\n",
      "[CV 3/5] END classifier=LogisticRegression(max_iter=1000.0, random_state=42, tol=0.001), classifier__C=0.01, classifier__class_weight=balanced, classifier__penalty=l1, scaler=passthrough;, score=nan total time=   0.0s\n",
      "[CV 4/5] END classifier=LogisticRegression(max_iter=1000.0, random_state=42, tol=0.001), classifier__C=0.01, classifier__class_weight=balanced, classifier__penalty=l1, scaler=passthrough;, score=nan total time=   0.0s\n",
      "[CV 5/5] END classifier=LogisticRegression(max_iter=1000.0, random_state=42, tol=0.001), classifier__C=0.01, classifier__class_weight=balanced, classifier__penalty=l1, scaler=passthrough;, score=nan total time=   0.0s\n",
      "[CV 1/5] END classifier=LogisticRegression(max_iter=1000.0, random_state=42, tol=0.001), classifier__C=0.01, classifier__class_weight=balanced, classifier__penalty=l1, scaler=StandardScaler();, score=nan total time=   0.1s\n",
      "[CV 2/5] END classifier=LogisticRegression(max_iter=1000.0, random_state=42, tol=0.001), classifier__C=0.01, classifier__class_weight=balanced, classifier__penalty=l1, scaler=StandardScaler();, score=nan total time=   0.1s\n",
      "[CV 3/5] END classifier=LogisticRegression(max_iter=1000.0, random_state=42, tol=0.001), classifier__C=0.01, classifier__class_weight=balanced, classifier__penalty=l1, scaler=StandardScaler();, score=nan total time=   0.1s\n",
      "[CV 4/5] END classifier=LogisticRegression(max_iter=1000.0, random_state=42, tol=0.001), classifier__C=0.01, classifier__class_weight=balanced, classifier__penalty=l1, scaler=StandardScaler();, score=nan total time=   0.1s\n",
      "[CV 5/5] END classifier=LogisticRegression(max_iter=1000.0, random_state=42, tol=0.001), classifier__C=0.01, classifier__class_weight=balanced, classifier__penalty=l1, scaler=StandardScaler();, score=nan total time=   0.1s\n",
      "[CV 1/5] END classifier=LogisticRegression(max_iter=1000.0, random_state=42, tol=0.001), classifier__C=0.01, classifier__class_weight=balanced, classifier__penalty=l2, scaler=passthrough;, score=0.631 total time=   4.6s\n",
      "[CV 2/5] END classifier=LogisticRegression(max_iter=1000.0, random_state=42, tol=0.001), classifier__C=0.01, classifier__class_weight=balanced, classifier__penalty=l2, scaler=passthrough;, score=0.627 total time=   4.7s\n",
      "[CV 3/5] END classifier=LogisticRegression(max_iter=1000.0, random_state=42, tol=0.001), classifier__C=0.01, classifier__class_weight=balanced, classifier__penalty=l2, scaler=passthrough;, score=0.624 total time=   4.1s\n",
      "[CV 4/5] END classifier=LogisticRegression(max_iter=1000.0, random_state=42, tol=0.001), classifier__C=0.01, classifier__class_weight=balanced, classifier__penalty=l2, scaler=passthrough;, score=0.625 total time=   4.7s\n",
      "[CV 5/5] END classifier=LogisticRegression(max_iter=1000.0, random_state=42, tol=0.001), classifier__C=0.01, classifier__class_weight=balanced, classifier__penalty=l2, scaler=passthrough;, score=0.619 total time=   4.2s\n"
     ]
    },
    {
     "name": "stdout",
     "output_type": "stream",
     "text": [
      "[CV 1/5] END classifier=LogisticRegression(max_iter=1000.0, random_state=42, tol=0.001), classifier__C=0.01, classifier__class_weight=balanced, classifier__penalty=l2, scaler=StandardScaler();, score=0.630 total time=   0.4s\n",
      "[CV 2/5] END classifier=LogisticRegression(max_iter=1000.0, random_state=42, tol=0.001), classifier__C=0.01, classifier__class_weight=balanced, classifier__penalty=l2, scaler=StandardScaler();, score=0.627 total time=   0.5s\n",
      "[CV 3/5] END classifier=LogisticRegression(max_iter=1000.0, random_state=42, tol=0.001), classifier__C=0.01, classifier__class_weight=balanced, classifier__penalty=l2, scaler=StandardScaler();, score=0.624 total time=   0.4s\n",
      "[CV 4/5] END classifier=LogisticRegression(max_iter=1000.0, random_state=42, tol=0.001), classifier__C=0.01, classifier__class_weight=balanced, classifier__penalty=l2, scaler=StandardScaler();, score=0.625 total time=   0.5s\n",
      "[CV 5/5] END classifier=LogisticRegression(max_iter=1000.0, random_state=42, tol=0.001), classifier__C=0.01, classifier__class_weight=balanced, classifier__penalty=l2, scaler=StandardScaler();, score=0.620 total time=   0.5s\n",
      "[CV 1/5] END classifier=LogisticRegression(max_iter=1000.0, random_state=42, tol=0.001), classifier__C=0.1, classifier__class_weight=None, classifier__penalty=l1, scaler=passthrough;, score=nan total time=   0.0s\n",
      "[CV 2/5] END classifier=LogisticRegression(max_iter=1000.0, random_state=42, tol=0.001), classifier__C=0.1, classifier__class_weight=None, classifier__penalty=l1, scaler=passthrough;, score=nan total time=   0.0s\n",
      "[CV 3/5] END classifier=LogisticRegression(max_iter=1000.0, random_state=42, tol=0.001), classifier__C=0.1, classifier__class_weight=None, classifier__penalty=l1, scaler=passthrough;, score=nan total time=   0.0s\n",
      "[CV 4/5] END classifier=LogisticRegression(max_iter=1000.0, random_state=42, tol=0.001), classifier__C=0.1, classifier__class_weight=None, classifier__penalty=l1, scaler=passthrough;, score=nan total time=   0.0s\n",
      "[CV 5/5] END classifier=LogisticRegression(max_iter=1000.0, random_state=42, tol=0.001), classifier__C=0.1, classifier__class_weight=None, classifier__penalty=l1, scaler=passthrough;, score=nan total time=   0.0s\n",
      "[CV 1/5] END classifier=LogisticRegression(max_iter=1000.0, random_state=42, tol=0.001), classifier__C=0.1, classifier__class_weight=None, classifier__penalty=l1, scaler=StandardScaler();, score=nan total time=   0.1s\n",
      "[CV 2/5] END classifier=LogisticRegression(max_iter=1000.0, random_state=42, tol=0.001), classifier__C=0.1, classifier__class_weight=None, classifier__penalty=l1, scaler=StandardScaler();, score=nan total time=   0.1s\n",
      "[CV 3/5] END classifier=LogisticRegression(max_iter=1000.0, random_state=42, tol=0.001), classifier__C=0.1, classifier__class_weight=None, classifier__penalty=l1, scaler=StandardScaler();, score=nan total time=   0.1s\n",
      "[CV 4/5] END classifier=LogisticRegression(max_iter=1000.0, random_state=42, tol=0.001), classifier__C=0.1, classifier__class_weight=None, classifier__penalty=l1, scaler=StandardScaler();, score=nan total time=   0.1s\n",
      "[CV 5/5] END classifier=LogisticRegression(max_iter=1000.0, random_state=42, tol=0.001), classifier__C=0.1, classifier__class_weight=None, classifier__penalty=l1, scaler=StandardScaler();, score=nan total time=   0.1s\n"
     ]
    },
    {
     "name": "stderr",
     "output_type": "stream",
     "text": [
      "/home/felipe/anaconda3/envs/segmentator/lib/python3.7/site-packages/sklearn/linear_model/_logistic.py:818: ConvergenceWarning: lbfgs failed to converge (status=1):\n",
      "STOP: TOTAL NO. of ITERATIONS REACHED LIMIT.\n",
      "\n",
      "Increase the number of iterations (max_iter) or scale the data as shown in:\n",
      "    https://scikit-learn.org/stable/modules/preprocessing.html\n",
      "Please also refer to the documentation for alternative solver options:\n",
      "    https://scikit-learn.org/stable/modules/linear_model.html#logistic-regression\n",
      "  extra_warning_msg=_LOGISTIC_SOLVER_CONVERGENCE_MSG,\n"
     ]
    },
    {
     "name": "stdout",
     "output_type": "stream",
     "text": [
      "[CV 1/5] END classifier=LogisticRegression(max_iter=1000.0, random_state=42, tol=0.001), classifier__C=0.1, classifier__class_weight=None, classifier__penalty=l2, scaler=passthrough;, score=0.589 total time=   7.6s\n"
     ]
    },
    {
     "name": "stderr",
     "output_type": "stream",
     "text": [
      "/home/felipe/anaconda3/envs/segmentator/lib/python3.7/site-packages/sklearn/linear_model/_logistic.py:818: ConvergenceWarning: lbfgs failed to converge (status=1):\n",
      "STOP: TOTAL NO. of ITERATIONS REACHED LIMIT.\n",
      "\n",
      "Increase the number of iterations (max_iter) or scale the data as shown in:\n",
      "    https://scikit-learn.org/stable/modules/preprocessing.html\n",
      "Please also refer to the documentation for alternative solver options:\n",
      "    https://scikit-learn.org/stable/modules/linear_model.html#logistic-regression\n",
      "  extra_warning_msg=_LOGISTIC_SOLVER_CONVERGENCE_MSG,\n"
     ]
    },
    {
     "name": "stdout",
     "output_type": "stream",
     "text": [
      "[CV 2/5] END classifier=LogisticRegression(max_iter=1000.0, random_state=42, tol=0.001), classifier__C=0.1, classifier__class_weight=None, classifier__penalty=l2, scaler=passthrough;, score=0.591 total time=   8.3s\n"
     ]
    },
    {
     "name": "stderr",
     "output_type": "stream",
     "text": [
      "/home/felipe/anaconda3/envs/segmentator/lib/python3.7/site-packages/sklearn/linear_model/_logistic.py:818: ConvergenceWarning: lbfgs failed to converge (status=1):\n",
      "STOP: TOTAL NO. of ITERATIONS REACHED LIMIT.\n",
      "\n",
      "Increase the number of iterations (max_iter) or scale the data as shown in:\n",
      "    https://scikit-learn.org/stable/modules/preprocessing.html\n",
      "Please also refer to the documentation for alternative solver options:\n",
      "    https://scikit-learn.org/stable/modules/linear_model.html#logistic-regression\n",
      "  extra_warning_msg=_LOGISTIC_SOLVER_CONVERGENCE_MSG,\n"
     ]
    },
    {
     "name": "stdout",
     "output_type": "stream",
     "text": [
      "[CV 3/5] END classifier=LogisticRegression(max_iter=1000.0, random_state=42, tol=0.001), classifier__C=0.1, classifier__class_weight=None, classifier__penalty=l2, scaler=passthrough;, score=0.585 total time=   8.4s\n"
     ]
    },
    {
     "name": "stderr",
     "output_type": "stream",
     "text": [
      "/home/felipe/anaconda3/envs/segmentator/lib/python3.7/site-packages/sklearn/linear_model/_logistic.py:818: ConvergenceWarning: lbfgs failed to converge (status=1):\n",
      "STOP: TOTAL NO. of ITERATIONS REACHED LIMIT.\n",
      "\n",
      "Increase the number of iterations (max_iter) or scale the data as shown in:\n",
      "    https://scikit-learn.org/stable/modules/preprocessing.html\n",
      "Please also refer to the documentation for alternative solver options:\n",
      "    https://scikit-learn.org/stable/modules/linear_model.html#logistic-regression\n",
      "  extra_warning_msg=_LOGISTIC_SOLVER_CONVERGENCE_MSG,\n"
     ]
    },
    {
     "name": "stdout",
     "output_type": "stream",
     "text": [
      "[CV 4/5] END classifier=LogisticRegression(max_iter=1000.0, random_state=42, tol=0.001), classifier__C=0.1, classifier__class_weight=None, classifier__penalty=l2, scaler=passthrough;, score=0.588 total time=   9.0s\n"
     ]
    },
    {
     "name": "stderr",
     "output_type": "stream",
     "text": [
      "/home/felipe/anaconda3/envs/segmentator/lib/python3.7/site-packages/sklearn/linear_model/_logistic.py:818: ConvergenceWarning: lbfgs failed to converge (status=1):\n",
      "STOP: TOTAL NO. of ITERATIONS REACHED LIMIT.\n",
      "\n",
      "Increase the number of iterations (max_iter) or scale the data as shown in:\n",
      "    https://scikit-learn.org/stable/modules/preprocessing.html\n",
      "Please also refer to the documentation for alternative solver options:\n",
      "    https://scikit-learn.org/stable/modules/linear_model.html#logistic-regression\n",
      "  extra_warning_msg=_LOGISTIC_SOLVER_CONVERGENCE_MSG,\n"
     ]
    },
    {
     "name": "stdout",
     "output_type": "stream",
     "text": [
      "[CV 5/5] END classifier=LogisticRegression(max_iter=1000.0, random_state=42, tol=0.001), classifier__C=0.1, classifier__class_weight=None, classifier__penalty=l2, scaler=passthrough;, score=0.580 total time=   7.5s\n",
      "[CV 1/5] END classifier=LogisticRegression(max_iter=1000.0, random_state=42, tol=0.001), classifier__C=0.1, classifier__class_weight=None, classifier__penalty=l2, scaler=StandardScaler();, score=0.588 total time=   1.0s\n",
      "[CV 2/5] END classifier=LogisticRegression(max_iter=1000.0, random_state=42, tol=0.001), classifier__C=0.1, classifier__class_weight=None, classifier__penalty=l2, scaler=StandardScaler();, score=0.591 total time=   0.7s\n",
      "[CV 3/5] END classifier=LogisticRegression(max_iter=1000.0, random_state=42, tol=0.001), classifier__C=0.1, classifier__class_weight=None, classifier__penalty=l2, scaler=StandardScaler();, score=0.585 total time=   0.7s\n",
      "[CV 4/5] END classifier=LogisticRegression(max_iter=1000.0, random_state=42, tol=0.001), classifier__C=0.1, classifier__class_weight=None, classifier__penalty=l2, scaler=StandardScaler();, score=0.588 total time=   1.1s\n",
      "[CV 5/5] END classifier=LogisticRegression(max_iter=1000.0, random_state=42, tol=0.001), classifier__C=0.1, classifier__class_weight=None, classifier__penalty=l2, scaler=StandardScaler();, score=0.579 total time=   0.8s\n",
      "[CV 1/5] END classifier=LogisticRegression(max_iter=1000.0, random_state=42, tol=0.001), classifier__C=0.1, classifier__class_weight=balanced, classifier__penalty=l1, scaler=passthrough;, score=nan total time=   0.0s\n",
      "[CV 2/5] END classifier=LogisticRegression(max_iter=1000.0, random_state=42, tol=0.001), classifier__C=0.1, classifier__class_weight=balanced, classifier__penalty=l1, scaler=passthrough;, score=nan total time=   0.0s\n",
      "[CV 3/5] END classifier=LogisticRegression(max_iter=1000.0, random_state=42, tol=0.001), classifier__C=0.1, classifier__class_weight=balanced, classifier__penalty=l1, scaler=passthrough;, score=nan total time=   0.0s\n",
      "[CV 4/5] END classifier=LogisticRegression(max_iter=1000.0, random_state=42, tol=0.001), classifier__C=0.1, classifier__class_weight=balanced, classifier__penalty=l1, scaler=passthrough;, score=nan total time=   0.0s\n",
      "[CV 5/5] END classifier=LogisticRegression(max_iter=1000.0, random_state=42, tol=0.001), classifier__C=0.1, classifier__class_weight=balanced, classifier__penalty=l1, scaler=passthrough;, score=nan total time=   0.0s\n",
      "[CV 1/5] END classifier=LogisticRegression(max_iter=1000.0, random_state=42, tol=0.001), classifier__C=0.1, classifier__class_weight=balanced, classifier__penalty=l1, scaler=StandardScaler();, score=nan total time=   0.1s\n",
      "[CV 2/5] END classifier=LogisticRegression(max_iter=1000.0, random_state=42, tol=0.001), classifier__C=0.1, classifier__class_weight=balanced, classifier__penalty=l1, scaler=StandardScaler();, score=nan total time=   0.1s\n",
      "[CV 3/5] END classifier=LogisticRegression(max_iter=1000.0, random_state=42, tol=0.001), classifier__C=0.1, classifier__class_weight=balanced, classifier__penalty=l1, scaler=StandardScaler();, score=nan total time=   0.1s\n",
      "[CV 4/5] END classifier=LogisticRegression(max_iter=1000.0, random_state=42, tol=0.001), classifier__C=0.1, classifier__class_weight=balanced, classifier__penalty=l1, scaler=StandardScaler();, score=nan total time=   0.1s\n",
      "[CV 5/5] END classifier=LogisticRegression(max_iter=1000.0, random_state=42, tol=0.001), classifier__C=0.1, classifier__class_weight=balanced, classifier__penalty=l1, scaler=StandardScaler();, score=nan total time=   0.1s\n"
     ]
    },
    {
     "name": "stderr",
     "output_type": "stream",
     "text": [
      "/home/felipe/anaconda3/envs/segmentator/lib/python3.7/site-packages/sklearn/linear_model/_logistic.py:818: ConvergenceWarning: lbfgs failed to converge (status=1):\n",
      "STOP: TOTAL NO. of ITERATIONS REACHED LIMIT.\n",
      "\n",
      "Increase the number of iterations (max_iter) or scale the data as shown in:\n",
      "    https://scikit-learn.org/stable/modules/preprocessing.html\n",
      "Please also refer to the documentation for alternative solver options:\n",
      "    https://scikit-learn.org/stable/modules/linear_model.html#logistic-regression\n",
      "  extra_warning_msg=_LOGISTIC_SOLVER_CONVERGENCE_MSG,\n"
     ]
    },
    {
     "name": "stdout",
     "output_type": "stream",
     "text": [
      "[CV 1/5] END classifier=LogisticRegression(max_iter=1000.0, random_state=42, tol=0.001), classifier__C=0.1, classifier__class_weight=balanced, classifier__penalty=l2, scaler=passthrough;, score=0.631 total time=   7.8s\n"
     ]
    },
    {
     "name": "stderr",
     "output_type": "stream",
     "text": [
      "/home/felipe/anaconda3/envs/segmentator/lib/python3.7/site-packages/sklearn/linear_model/_logistic.py:818: ConvergenceWarning: lbfgs failed to converge (status=1):\n",
      "STOP: TOTAL NO. of ITERATIONS REACHED LIMIT.\n",
      "\n",
      "Increase the number of iterations (max_iter) or scale the data as shown in:\n",
      "    https://scikit-learn.org/stable/modules/preprocessing.html\n",
      "Please also refer to the documentation for alternative solver options:\n",
      "    https://scikit-learn.org/stable/modules/linear_model.html#logistic-regression\n",
      "  extra_warning_msg=_LOGISTIC_SOLVER_CONVERGENCE_MSG,\n"
     ]
    },
    {
     "name": "stdout",
     "output_type": "stream",
     "text": [
      "[CV 2/5] END classifier=LogisticRegression(max_iter=1000.0, random_state=42, tol=0.001), classifier__C=0.1, classifier__class_weight=balanced, classifier__penalty=l2, scaler=passthrough;, score=0.627 total time=   8.4s\n"
     ]
    },
    {
     "name": "stderr",
     "output_type": "stream",
     "text": [
      "/home/felipe/anaconda3/envs/segmentator/lib/python3.7/site-packages/sklearn/linear_model/_logistic.py:818: ConvergenceWarning: lbfgs failed to converge (status=1):\n",
      "STOP: TOTAL NO. of ITERATIONS REACHED LIMIT.\n",
      "\n",
      "Increase the number of iterations (max_iter) or scale the data as shown in:\n",
      "    https://scikit-learn.org/stable/modules/preprocessing.html\n",
      "Please also refer to the documentation for alternative solver options:\n",
      "    https://scikit-learn.org/stable/modules/linear_model.html#logistic-regression\n",
      "  extra_warning_msg=_LOGISTIC_SOLVER_CONVERGENCE_MSG,\n"
     ]
    },
    {
     "name": "stdout",
     "output_type": "stream",
     "text": [
      "[CV 3/5] END classifier=LogisticRegression(max_iter=1000.0, random_state=42, tol=0.001), classifier__C=0.1, classifier__class_weight=balanced, classifier__penalty=l2, scaler=passthrough;, score=0.624 total time=   7.5s\n"
     ]
    },
    {
     "name": "stderr",
     "output_type": "stream",
     "text": [
      "/home/felipe/anaconda3/envs/segmentator/lib/python3.7/site-packages/sklearn/linear_model/_logistic.py:818: ConvergenceWarning: lbfgs failed to converge (status=1):\n",
      "STOP: TOTAL NO. of ITERATIONS REACHED LIMIT.\n",
      "\n",
      "Increase the number of iterations (max_iter) or scale the data as shown in:\n",
      "    https://scikit-learn.org/stable/modules/preprocessing.html\n",
      "Please also refer to the documentation for alternative solver options:\n",
      "    https://scikit-learn.org/stable/modules/linear_model.html#logistic-regression\n",
      "  extra_warning_msg=_LOGISTIC_SOLVER_CONVERGENCE_MSG,\n"
     ]
    },
    {
     "name": "stdout",
     "output_type": "stream",
     "text": [
      "[CV 4/5] END classifier=LogisticRegression(max_iter=1000.0, random_state=42, tol=0.001), classifier__C=0.1, classifier__class_weight=balanced, classifier__penalty=l2, scaler=passthrough;, score=0.626 total time=   7.9s\n"
     ]
    },
    {
     "name": "stderr",
     "output_type": "stream",
     "text": [
      "/home/felipe/anaconda3/envs/segmentator/lib/python3.7/site-packages/sklearn/linear_model/_logistic.py:818: ConvergenceWarning: lbfgs failed to converge (status=1):\n",
      "STOP: TOTAL NO. of ITERATIONS REACHED LIMIT.\n",
      "\n",
      "Increase the number of iterations (max_iter) or scale the data as shown in:\n",
      "    https://scikit-learn.org/stable/modules/preprocessing.html\n",
      "Please also refer to the documentation for alternative solver options:\n",
      "    https://scikit-learn.org/stable/modules/linear_model.html#logistic-regression\n",
      "  extra_warning_msg=_LOGISTIC_SOLVER_CONVERGENCE_MSG,\n"
     ]
    },
    {
     "name": "stdout",
     "output_type": "stream",
     "text": [
      "[CV 5/5] END classifier=LogisticRegression(max_iter=1000.0, random_state=42, tol=0.001), classifier__C=0.1, classifier__class_weight=balanced, classifier__penalty=l2, scaler=passthrough;, score=0.619 total time=   7.7s\n",
      "[CV 1/5] END classifier=LogisticRegression(max_iter=1000.0, random_state=42, tol=0.001), classifier__C=0.1, classifier__class_weight=balanced, classifier__penalty=l2, scaler=StandardScaler();, score=0.630 total time=   0.7s\n",
      "[CV 2/5] END classifier=LogisticRegression(max_iter=1000.0, random_state=42, tol=0.001), classifier__C=0.1, classifier__class_weight=balanced, classifier__penalty=l2, scaler=StandardScaler();, score=0.627 total time=   0.7s\n",
      "[CV 3/5] END classifier=LogisticRegression(max_iter=1000.0, random_state=42, tol=0.001), classifier__C=0.1, classifier__class_weight=balanced, classifier__penalty=l2, scaler=StandardScaler();, score=0.624 total time=   1.0s\n",
      "[CV 4/5] END classifier=LogisticRegression(max_iter=1000.0, random_state=42, tol=0.001), classifier__C=0.1, classifier__class_weight=balanced, classifier__penalty=l2, scaler=StandardScaler();, score=0.625 total time=   1.1s\n",
      "[CV 5/5] END classifier=LogisticRegression(max_iter=1000.0, random_state=42, tol=0.001), classifier__C=0.1, classifier__class_weight=balanced, classifier__penalty=l2, scaler=StandardScaler();, score=0.619 total time=   0.8s\n",
      "[CV 1/5] END classifier=LogisticRegression(max_iter=1000.0, random_state=42, tol=0.001), classifier__C=1.0, classifier__class_weight=None, classifier__penalty=l1, scaler=passthrough;, score=nan total time=   0.0s\n",
      "[CV 2/5] END classifier=LogisticRegression(max_iter=1000.0, random_state=42, tol=0.001), classifier__C=1.0, classifier__class_weight=None, classifier__penalty=l1, scaler=passthrough;, score=nan total time=   0.0s\n",
      "[CV 3/5] END classifier=LogisticRegression(max_iter=1000.0, random_state=42, tol=0.001), classifier__C=1.0, classifier__class_weight=None, classifier__penalty=l1, scaler=passthrough;, score=nan total time=   0.0s\n",
      "[CV 4/5] END classifier=LogisticRegression(max_iter=1000.0, random_state=42, tol=0.001), classifier__C=1.0, classifier__class_weight=None, classifier__penalty=l1, scaler=passthrough;, score=nan total time=   0.0s\n",
      "[CV 5/5] END classifier=LogisticRegression(max_iter=1000.0, random_state=42, tol=0.001), classifier__C=1.0, classifier__class_weight=None, classifier__penalty=l1, scaler=passthrough;, score=nan total time=   0.0s\n",
      "[CV 1/5] END classifier=LogisticRegression(max_iter=1000.0, random_state=42, tol=0.001), classifier__C=1.0, classifier__class_weight=None, classifier__penalty=l1, scaler=StandardScaler();, score=nan total time=   0.1s\n",
      "[CV 2/5] END classifier=LogisticRegression(max_iter=1000.0, random_state=42, tol=0.001), classifier__C=1.0, classifier__class_weight=None, classifier__penalty=l1, scaler=StandardScaler();, score=nan total time=   0.1s\n",
      "[CV 3/5] END classifier=LogisticRegression(max_iter=1000.0, random_state=42, tol=0.001), classifier__C=1.0, classifier__class_weight=None, classifier__penalty=l1, scaler=StandardScaler();, score=nan total time=   0.1s\n",
      "[CV 4/5] END classifier=LogisticRegression(max_iter=1000.0, random_state=42, tol=0.001), classifier__C=1.0, classifier__class_weight=None, classifier__penalty=l1, scaler=StandardScaler();, score=nan total time=   0.1s\n",
      "[CV 5/5] END classifier=LogisticRegression(max_iter=1000.0, random_state=42, tol=0.001), classifier__C=1.0, classifier__class_weight=None, classifier__penalty=l1, scaler=StandardScaler();, score=nan total time=   0.1s\n"
     ]
    },
    {
     "name": "stderr",
     "output_type": "stream",
     "text": [
      "/home/felipe/anaconda3/envs/segmentator/lib/python3.7/site-packages/sklearn/linear_model/_logistic.py:818: ConvergenceWarning: lbfgs failed to converge (status=1):\n",
      "STOP: TOTAL NO. of ITERATIONS REACHED LIMIT.\n",
      "\n",
      "Increase the number of iterations (max_iter) or scale the data as shown in:\n",
      "    https://scikit-learn.org/stable/modules/preprocessing.html\n",
      "Please also refer to the documentation for alternative solver options:\n",
      "    https://scikit-learn.org/stable/modules/linear_model.html#logistic-regression\n",
      "  extra_warning_msg=_LOGISTIC_SOLVER_CONVERGENCE_MSG,\n"
     ]
    },
    {
     "name": "stdout",
     "output_type": "stream",
     "text": [
      "[CV 1/5] END classifier=LogisticRegression(max_iter=1000.0, random_state=42, tol=0.001), classifier__C=1.0, classifier__class_weight=None, classifier__penalty=l2, scaler=passthrough;, score=0.588 total time=   7.4s\n"
     ]
    },
    {
     "name": "stderr",
     "output_type": "stream",
     "text": [
      "/home/felipe/anaconda3/envs/segmentator/lib/python3.7/site-packages/sklearn/linear_model/_logistic.py:818: ConvergenceWarning: lbfgs failed to converge (status=1):\n",
      "STOP: TOTAL NO. of ITERATIONS REACHED LIMIT.\n",
      "\n",
      "Increase the number of iterations (max_iter) or scale the data as shown in:\n",
      "    https://scikit-learn.org/stable/modules/preprocessing.html\n",
      "Please also refer to the documentation for alternative solver options:\n",
      "    https://scikit-learn.org/stable/modules/linear_model.html#logistic-regression\n",
      "  extra_warning_msg=_LOGISTIC_SOLVER_CONVERGENCE_MSG,\n"
     ]
    },
    {
     "name": "stdout",
     "output_type": "stream",
     "text": [
      "[CV 2/5] END classifier=LogisticRegression(max_iter=1000.0, random_state=42, tol=0.001), classifier__C=1.0, classifier__class_weight=None, classifier__penalty=l2, scaler=passthrough;, score=0.591 total time=   8.0s\n"
     ]
    },
    {
     "name": "stderr",
     "output_type": "stream",
     "text": [
      "/home/felipe/anaconda3/envs/segmentator/lib/python3.7/site-packages/sklearn/linear_model/_logistic.py:818: ConvergenceWarning: lbfgs failed to converge (status=1):\n",
      "STOP: TOTAL NO. of ITERATIONS REACHED LIMIT.\n",
      "\n",
      "Increase the number of iterations (max_iter) or scale the data as shown in:\n",
      "    https://scikit-learn.org/stable/modules/preprocessing.html\n",
      "Please also refer to the documentation for alternative solver options:\n",
      "    https://scikit-learn.org/stable/modules/linear_model.html#logistic-regression\n",
      "  extra_warning_msg=_LOGISTIC_SOLVER_CONVERGENCE_MSG,\n"
     ]
    },
    {
     "name": "stdout",
     "output_type": "stream",
     "text": [
      "[CV 3/5] END classifier=LogisticRegression(max_iter=1000.0, random_state=42, tol=0.001), classifier__C=1.0, classifier__class_weight=None, classifier__penalty=l2, scaler=passthrough;, score=0.585 total time=   7.4s\n"
     ]
    },
    {
     "name": "stderr",
     "output_type": "stream",
     "text": [
      "/home/felipe/anaconda3/envs/segmentator/lib/python3.7/site-packages/sklearn/linear_model/_logistic.py:818: ConvergenceWarning: lbfgs failed to converge (status=1):\n",
      "STOP: TOTAL NO. of ITERATIONS REACHED LIMIT.\n",
      "\n",
      "Increase the number of iterations (max_iter) or scale the data as shown in:\n",
      "    https://scikit-learn.org/stable/modules/preprocessing.html\n",
      "Please also refer to the documentation for alternative solver options:\n",
      "    https://scikit-learn.org/stable/modules/linear_model.html#logistic-regression\n",
      "  extra_warning_msg=_LOGISTIC_SOLVER_CONVERGENCE_MSG,\n"
     ]
    },
    {
     "name": "stdout",
     "output_type": "stream",
     "text": [
      "[CV 4/5] END classifier=LogisticRegression(max_iter=1000.0, random_state=42, tol=0.001), classifier__C=1.0, classifier__class_weight=None, classifier__penalty=l2, scaler=passthrough;, score=0.588 total time=   7.2s\n"
     ]
    },
    {
     "name": "stderr",
     "output_type": "stream",
     "text": [
      "/home/felipe/anaconda3/envs/segmentator/lib/python3.7/site-packages/sklearn/linear_model/_logistic.py:818: ConvergenceWarning: lbfgs failed to converge (status=1):\n",
      "STOP: TOTAL NO. of ITERATIONS REACHED LIMIT.\n",
      "\n",
      "Increase the number of iterations (max_iter) or scale the data as shown in:\n",
      "    https://scikit-learn.org/stable/modules/preprocessing.html\n",
      "Please also refer to the documentation for alternative solver options:\n",
      "    https://scikit-learn.org/stable/modules/linear_model.html#logistic-regression\n",
      "  extra_warning_msg=_LOGISTIC_SOLVER_CONVERGENCE_MSG,\n"
     ]
    },
    {
     "name": "stdout",
     "output_type": "stream",
     "text": [
      "[CV 5/5] END classifier=LogisticRegression(max_iter=1000.0, random_state=42, tol=0.001), classifier__C=1.0, classifier__class_weight=None, classifier__penalty=l2, scaler=passthrough;, score=0.579 total time=   7.3s\n",
      "[CV 1/5] END classifier=LogisticRegression(max_iter=1000.0, random_state=42, tol=0.001), classifier__C=1.0, classifier__class_weight=None, classifier__penalty=l2, scaler=StandardScaler();, score=0.588 total time=   1.4s\n",
      "[CV 2/5] END classifier=LogisticRegression(max_iter=1000.0, random_state=42, tol=0.001), classifier__C=1.0, classifier__class_weight=None, classifier__penalty=l2, scaler=StandardScaler();, score=0.591 total time=   2.0s\n",
      "[CV 3/5] END classifier=LogisticRegression(max_iter=1000.0, random_state=42, tol=0.001), classifier__C=1.0, classifier__class_weight=None, classifier__penalty=l2, scaler=StandardScaler();, score=0.585 total time=   2.0s\n",
      "[CV 4/5] END classifier=LogisticRegression(max_iter=1000.0, random_state=42, tol=0.001), classifier__C=1.0, classifier__class_weight=None, classifier__penalty=l2, scaler=StandardScaler();, score=0.588 total time=   1.8s\n",
      "[CV 5/5] END classifier=LogisticRegression(max_iter=1000.0, random_state=42, tol=0.001), classifier__C=1.0, classifier__class_weight=None, classifier__penalty=l2, scaler=StandardScaler();, score=0.579 total time=   1.2s\n",
      "[CV 1/5] END classifier=LogisticRegression(max_iter=1000.0, random_state=42, tol=0.001), classifier__C=1.0, classifier__class_weight=balanced, classifier__penalty=l1, scaler=passthrough;, score=nan total time=   0.0s\n",
      "[CV 2/5] END classifier=LogisticRegression(max_iter=1000.0, random_state=42, tol=0.001), classifier__C=1.0, classifier__class_weight=balanced, classifier__penalty=l1, scaler=passthrough;, score=nan total time=   0.0s\n",
      "[CV 3/5] END classifier=LogisticRegression(max_iter=1000.0, random_state=42, tol=0.001), classifier__C=1.0, classifier__class_weight=balanced, classifier__penalty=l1, scaler=passthrough;, score=nan total time=   0.0s\n",
      "[CV 4/5] END classifier=LogisticRegression(max_iter=1000.0, random_state=42, tol=0.001), classifier__C=1.0, classifier__class_weight=balanced, classifier__penalty=l1, scaler=passthrough;, score=nan total time=   0.0s\n",
      "[CV 5/5] END classifier=LogisticRegression(max_iter=1000.0, random_state=42, tol=0.001), classifier__C=1.0, classifier__class_weight=balanced, classifier__penalty=l1, scaler=passthrough;, score=nan total time=   0.0s\n",
      "[CV 1/5] END classifier=LogisticRegression(max_iter=1000.0, random_state=42, tol=0.001), classifier__C=1.0, classifier__class_weight=balanced, classifier__penalty=l1, scaler=StandardScaler();, score=nan total time=   0.1s\n",
      "[CV 2/5] END classifier=LogisticRegression(max_iter=1000.0, random_state=42, tol=0.001), classifier__C=1.0, classifier__class_weight=balanced, classifier__penalty=l1, scaler=StandardScaler();, score=nan total time=   0.1s\n",
      "[CV 3/5] END classifier=LogisticRegression(max_iter=1000.0, random_state=42, tol=0.001), classifier__C=1.0, classifier__class_weight=balanced, classifier__penalty=l1, scaler=StandardScaler();, score=nan total time=   0.1s\n",
      "[CV 4/5] END classifier=LogisticRegression(max_iter=1000.0, random_state=42, tol=0.001), classifier__C=1.0, classifier__class_weight=balanced, classifier__penalty=l1, scaler=StandardScaler();, score=nan total time=   0.1s\n",
      "[CV 5/5] END classifier=LogisticRegression(max_iter=1000.0, random_state=42, tol=0.001), classifier__C=1.0, classifier__class_weight=balanced, classifier__penalty=l1, scaler=StandardScaler();, score=nan total time=   0.1s\n"
     ]
    },
    {
     "name": "stderr",
     "output_type": "stream",
     "text": [
      "/home/felipe/anaconda3/envs/segmentator/lib/python3.7/site-packages/sklearn/linear_model/_logistic.py:818: ConvergenceWarning: lbfgs failed to converge (status=1):\n",
      "STOP: TOTAL NO. of ITERATIONS REACHED LIMIT.\n",
      "\n",
      "Increase the number of iterations (max_iter) or scale the data as shown in:\n",
      "    https://scikit-learn.org/stable/modules/preprocessing.html\n",
      "Please also refer to the documentation for alternative solver options:\n",
      "    https://scikit-learn.org/stable/modules/linear_model.html#logistic-regression\n",
      "  extra_warning_msg=_LOGISTIC_SOLVER_CONVERGENCE_MSG,\n"
     ]
    },
    {
     "name": "stdout",
     "output_type": "stream",
     "text": [
      "[CV 1/5] END classifier=LogisticRegression(max_iter=1000.0, random_state=42, tol=0.001), classifier__C=1.0, classifier__class_weight=balanced, classifier__penalty=l2, scaler=passthrough;, score=0.630 total time=   9.0s\n"
     ]
    },
    {
     "name": "stderr",
     "output_type": "stream",
     "text": [
      "/home/felipe/anaconda3/envs/segmentator/lib/python3.7/site-packages/sklearn/linear_model/_logistic.py:818: ConvergenceWarning: lbfgs failed to converge (status=1):\n",
      "STOP: TOTAL NO. of ITERATIONS REACHED LIMIT.\n",
      "\n",
      "Increase the number of iterations (max_iter) or scale the data as shown in:\n",
      "    https://scikit-learn.org/stable/modules/preprocessing.html\n",
      "Please also refer to the documentation for alternative solver options:\n",
      "    https://scikit-learn.org/stable/modules/linear_model.html#logistic-regression\n",
      "  extra_warning_msg=_LOGISTIC_SOLVER_CONVERGENCE_MSG,\n"
     ]
    },
    {
     "name": "stdout",
     "output_type": "stream",
     "text": [
      "[CV 2/5] END classifier=LogisticRegression(max_iter=1000.0, random_state=42, tol=0.001), classifier__C=1.0, classifier__class_weight=balanced, classifier__penalty=l2, scaler=passthrough;, score=0.626 total time=   8.5s\n"
     ]
    },
    {
     "name": "stderr",
     "output_type": "stream",
     "text": [
      "/home/felipe/anaconda3/envs/segmentator/lib/python3.7/site-packages/sklearn/linear_model/_logistic.py:818: ConvergenceWarning: lbfgs failed to converge (status=1):\n",
      "STOP: TOTAL NO. of ITERATIONS REACHED LIMIT.\n",
      "\n",
      "Increase the number of iterations (max_iter) or scale the data as shown in:\n",
      "    https://scikit-learn.org/stable/modules/preprocessing.html\n",
      "Please also refer to the documentation for alternative solver options:\n",
      "    https://scikit-learn.org/stable/modules/linear_model.html#logistic-regression\n",
      "  extra_warning_msg=_LOGISTIC_SOLVER_CONVERGENCE_MSG,\n"
     ]
    },
    {
     "name": "stdout",
     "output_type": "stream",
     "text": [
      "[CV 3/5] END classifier=LogisticRegression(max_iter=1000.0, random_state=42, tol=0.001), classifier__C=1.0, classifier__class_weight=balanced, classifier__penalty=l2, scaler=passthrough;, score=0.624 total time=   8.5s\n"
     ]
    },
    {
     "name": "stderr",
     "output_type": "stream",
     "text": [
      "/home/felipe/anaconda3/envs/segmentator/lib/python3.7/site-packages/sklearn/linear_model/_logistic.py:818: ConvergenceWarning: lbfgs failed to converge (status=1):\n",
      "STOP: TOTAL NO. of ITERATIONS REACHED LIMIT.\n",
      "\n",
      "Increase the number of iterations (max_iter) or scale the data as shown in:\n",
      "    https://scikit-learn.org/stable/modules/preprocessing.html\n",
      "Please also refer to the documentation for alternative solver options:\n",
      "    https://scikit-learn.org/stable/modules/linear_model.html#logistic-regression\n",
      "  extra_warning_msg=_LOGISTIC_SOLVER_CONVERGENCE_MSG,\n"
     ]
    },
    {
     "name": "stdout",
     "output_type": "stream",
     "text": [
      "[CV 4/5] END classifier=LogisticRegression(max_iter=1000.0, random_state=42, tol=0.001), classifier__C=1.0, classifier__class_weight=balanced, classifier__penalty=l2, scaler=passthrough;, score=0.626 total time=   8.1s\n"
     ]
    },
    {
     "name": "stderr",
     "output_type": "stream",
     "text": [
      "/home/felipe/anaconda3/envs/segmentator/lib/python3.7/site-packages/sklearn/linear_model/_logistic.py:818: ConvergenceWarning: lbfgs failed to converge (status=1):\n",
      "STOP: TOTAL NO. of ITERATIONS REACHED LIMIT.\n",
      "\n",
      "Increase the number of iterations (max_iter) or scale the data as shown in:\n",
      "    https://scikit-learn.org/stable/modules/preprocessing.html\n",
      "Please also refer to the documentation for alternative solver options:\n",
      "    https://scikit-learn.org/stable/modules/linear_model.html#logistic-regression\n",
      "  extra_warning_msg=_LOGISTIC_SOLVER_CONVERGENCE_MSG,\n"
     ]
    },
    {
     "name": "stdout",
     "output_type": "stream",
     "text": [
      "[CV 5/5] END classifier=LogisticRegression(max_iter=1000.0, random_state=42, tol=0.001), classifier__C=1.0, classifier__class_weight=balanced, classifier__penalty=l2, scaler=passthrough;, score=0.619 total time=   7.7s\n",
      "[CV 1/5] END classifier=LogisticRegression(max_iter=1000.0, random_state=42, tol=0.001), classifier__C=1.0, classifier__class_weight=balanced, classifier__penalty=l2, scaler=StandardScaler();, score=0.630 total time=   1.7s\n",
      "[CV 2/5] END classifier=LogisticRegression(max_iter=1000.0, random_state=42, tol=0.001), classifier__C=1.0, classifier__class_weight=balanced, classifier__penalty=l2, scaler=StandardScaler();, score=0.627 total time=   1.4s\n",
      "[CV 3/5] END classifier=LogisticRegression(max_iter=1000.0, random_state=42, tol=0.001), classifier__C=1.0, classifier__class_weight=balanced, classifier__penalty=l2, scaler=StandardScaler();, score=0.624 total time=   1.2s\n",
      "[CV 4/5] END classifier=LogisticRegression(max_iter=1000.0, random_state=42, tol=0.001), classifier__C=1.0, classifier__class_weight=balanced, classifier__penalty=l2, scaler=StandardScaler();, score=0.625 total time=   1.7s\n",
      "[CV 5/5] END classifier=LogisticRegression(max_iter=1000.0, random_state=42, tol=0.001), classifier__C=1.0, classifier__class_weight=balanced, classifier__penalty=l2, scaler=StandardScaler();, score=0.619 total time=   1.6s\n",
      "[CV 1/5] END classifier=LogisticRegression(max_iter=1000.0, random_state=42, tol=0.001), classifier__C=10.0, classifier__class_weight=None, classifier__penalty=l1, scaler=passthrough;, score=nan total time=   0.0s\n",
      "[CV 2/5] END classifier=LogisticRegression(max_iter=1000.0, random_state=42, tol=0.001), classifier__C=10.0, classifier__class_weight=None, classifier__penalty=l1, scaler=passthrough;, score=nan total time=   0.0s\n",
      "[CV 3/5] END classifier=LogisticRegression(max_iter=1000.0, random_state=42, tol=0.001), classifier__C=10.0, classifier__class_weight=None, classifier__penalty=l1, scaler=passthrough;, score=nan total time=   0.0s\n",
      "[CV 4/5] END classifier=LogisticRegression(max_iter=1000.0, random_state=42, tol=0.001), classifier__C=10.0, classifier__class_weight=None, classifier__penalty=l1, scaler=passthrough;, score=nan total time=   0.0s\n",
      "[CV 5/5] END classifier=LogisticRegression(max_iter=1000.0, random_state=42, tol=0.001), classifier__C=10.0, classifier__class_weight=None, classifier__penalty=l1, scaler=passthrough;, score=nan total time=   0.0s\n",
      "[CV 1/5] END classifier=LogisticRegression(max_iter=1000.0, random_state=42, tol=0.001), classifier__C=10.0, classifier__class_weight=None, classifier__penalty=l1, scaler=StandardScaler();, score=nan total time=   0.1s\n",
      "[CV 2/5] END classifier=LogisticRegression(max_iter=1000.0, random_state=42, tol=0.001), classifier__C=10.0, classifier__class_weight=None, classifier__penalty=l1, scaler=StandardScaler();, score=nan total time=   0.1s\n",
      "[CV 3/5] END classifier=LogisticRegression(max_iter=1000.0, random_state=42, tol=0.001), classifier__C=10.0, classifier__class_weight=None, classifier__penalty=l1, scaler=StandardScaler();, score=nan total time=   0.1s\n",
      "[CV 4/5] END classifier=LogisticRegression(max_iter=1000.0, random_state=42, tol=0.001), classifier__C=10.0, classifier__class_weight=None, classifier__penalty=l1, scaler=StandardScaler();, score=nan total time=   0.1s\n",
      "[CV 5/5] END classifier=LogisticRegression(max_iter=1000.0, random_state=42, tol=0.001), classifier__C=10.0, classifier__class_weight=None, classifier__penalty=l1, scaler=StandardScaler();, score=nan total time=   0.1s\n"
     ]
    },
    {
     "name": "stderr",
     "output_type": "stream",
     "text": [
      "/home/felipe/anaconda3/envs/segmentator/lib/python3.7/site-packages/sklearn/linear_model/_logistic.py:818: ConvergenceWarning: lbfgs failed to converge (status=1):\n",
      "STOP: TOTAL NO. of ITERATIONS REACHED LIMIT.\n",
      "\n",
      "Increase the number of iterations (max_iter) or scale the data as shown in:\n",
      "    https://scikit-learn.org/stable/modules/preprocessing.html\n",
      "Please also refer to the documentation for alternative solver options:\n",
      "    https://scikit-learn.org/stable/modules/linear_model.html#logistic-regression\n",
      "  extra_warning_msg=_LOGISTIC_SOLVER_CONVERGENCE_MSG,\n"
     ]
    },
    {
     "name": "stdout",
     "output_type": "stream",
     "text": [
      "[CV 1/5] END classifier=LogisticRegression(max_iter=1000.0, random_state=42, tol=0.001), classifier__C=10.0, classifier__class_weight=None, classifier__penalty=l2, scaler=passthrough;, score=0.588 total time=   7.6s\n"
     ]
    },
    {
     "name": "stderr",
     "output_type": "stream",
     "text": [
      "/home/felipe/anaconda3/envs/segmentator/lib/python3.7/site-packages/sklearn/linear_model/_logistic.py:818: ConvergenceWarning: lbfgs failed to converge (status=1):\n",
      "STOP: TOTAL NO. of ITERATIONS REACHED LIMIT.\n",
      "\n",
      "Increase the number of iterations (max_iter) or scale the data as shown in:\n",
      "    https://scikit-learn.org/stable/modules/preprocessing.html\n",
      "Please also refer to the documentation for alternative solver options:\n",
      "    https://scikit-learn.org/stable/modules/linear_model.html#logistic-regression\n",
      "  extra_warning_msg=_LOGISTIC_SOLVER_CONVERGENCE_MSG,\n"
     ]
    },
    {
     "name": "stdout",
     "output_type": "stream",
     "text": [
      "[CV 2/5] END classifier=LogisticRegression(max_iter=1000.0, random_state=42, tol=0.001), classifier__C=10.0, classifier__class_weight=None, classifier__penalty=l2, scaler=passthrough;, score=0.590 total time=   8.5s\n"
     ]
    },
    {
     "name": "stderr",
     "output_type": "stream",
     "text": [
      "/home/felipe/anaconda3/envs/segmentator/lib/python3.7/site-packages/sklearn/linear_model/_logistic.py:818: ConvergenceWarning: lbfgs failed to converge (status=1):\n",
      "STOP: TOTAL NO. of ITERATIONS REACHED LIMIT.\n",
      "\n",
      "Increase the number of iterations (max_iter) or scale the data as shown in:\n",
      "    https://scikit-learn.org/stable/modules/preprocessing.html\n",
      "Please also refer to the documentation for alternative solver options:\n",
      "    https://scikit-learn.org/stable/modules/linear_model.html#logistic-regression\n",
      "  extra_warning_msg=_LOGISTIC_SOLVER_CONVERGENCE_MSG,\n"
     ]
    },
    {
     "name": "stdout",
     "output_type": "stream",
     "text": [
      "[CV 3/5] END classifier=LogisticRegression(max_iter=1000.0, random_state=42, tol=0.001), classifier__C=10.0, classifier__class_weight=None, classifier__penalty=l2, scaler=passthrough;, score=0.585 total time=   7.9s\n"
     ]
    },
    {
     "name": "stderr",
     "output_type": "stream",
     "text": [
      "/home/felipe/anaconda3/envs/segmentator/lib/python3.7/site-packages/sklearn/linear_model/_logistic.py:818: ConvergenceWarning: lbfgs failed to converge (status=1):\n",
      "STOP: TOTAL NO. of ITERATIONS REACHED LIMIT.\n",
      "\n",
      "Increase the number of iterations (max_iter) or scale the data as shown in:\n",
      "    https://scikit-learn.org/stable/modules/preprocessing.html\n",
      "Please also refer to the documentation for alternative solver options:\n",
      "    https://scikit-learn.org/stable/modules/linear_model.html#logistic-regression\n",
      "  extra_warning_msg=_LOGISTIC_SOLVER_CONVERGENCE_MSG,\n"
     ]
    },
    {
     "name": "stdout",
     "output_type": "stream",
     "text": [
      "[CV 4/5] END classifier=LogisticRegression(max_iter=1000.0, random_state=42, tol=0.001), classifier__C=10.0, classifier__class_weight=None, classifier__penalty=l2, scaler=passthrough;, score=0.588 total time=   7.5s\n"
     ]
    },
    {
     "name": "stderr",
     "output_type": "stream",
     "text": [
      "/home/felipe/anaconda3/envs/segmentator/lib/python3.7/site-packages/sklearn/linear_model/_logistic.py:818: ConvergenceWarning: lbfgs failed to converge (status=1):\n",
      "STOP: TOTAL NO. of ITERATIONS REACHED LIMIT.\n",
      "\n",
      "Increase the number of iterations (max_iter) or scale the data as shown in:\n",
      "    https://scikit-learn.org/stable/modules/preprocessing.html\n",
      "Please also refer to the documentation for alternative solver options:\n",
      "    https://scikit-learn.org/stable/modules/linear_model.html#logistic-regression\n",
      "  extra_warning_msg=_LOGISTIC_SOLVER_CONVERGENCE_MSG,\n"
     ]
    },
    {
     "name": "stdout",
     "output_type": "stream",
     "text": [
      "[CV 5/5] END classifier=LogisticRegression(max_iter=1000.0, random_state=42, tol=0.001), classifier__C=10.0, classifier__class_weight=None, classifier__penalty=l2, scaler=passthrough;, score=0.579 total time=   7.7s\n",
      "[CV 1/5] END classifier=LogisticRegression(max_iter=1000.0, random_state=42, tol=0.001), classifier__C=10.0, classifier__class_weight=None, classifier__penalty=l2, scaler=StandardScaler();, score=0.588 total time=   1.5s\n",
      "[CV 2/5] END classifier=LogisticRegression(max_iter=1000.0, random_state=42, tol=0.001), classifier__C=10.0, classifier__class_weight=None, classifier__penalty=l2, scaler=StandardScaler();, score=0.591 total time=   2.3s\n",
      "[CV 3/5] END classifier=LogisticRegression(max_iter=1000.0, random_state=42, tol=0.001), classifier__C=10.0, classifier__class_weight=None, classifier__penalty=l2, scaler=StandardScaler();, score=0.585 total time=   1.9s\n",
      "[CV 4/5] END classifier=LogisticRegression(max_iter=1000.0, random_state=42, tol=0.001), classifier__C=10.0, classifier__class_weight=None, classifier__penalty=l2, scaler=StandardScaler();, score=0.588 total time=   1.8s\n",
      "[CV 5/5] END classifier=LogisticRegression(max_iter=1000.0, random_state=42, tol=0.001), classifier__C=10.0, classifier__class_weight=None, classifier__penalty=l2, scaler=StandardScaler();, score=0.579 total time=   1.9s\n",
      "[CV 1/5] END classifier=LogisticRegression(max_iter=1000.0, random_state=42, tol=0.001), classifier__C=10.0, classifier__class_weight=balanced, classifier__penalty=l1, scaler=passthrough;, score=nan total time=   0.0s\n",
      "[CV 2/5] END classifier=LogisticRegression(max_iter=1000.0, random_state=42, tol=0.001), classifier__C=10.0, classifier__class_weight=balanced, classifier__penalty=l1, scaler=passthrough;, score=nan total time=   0.0s\n",
      "[CV 3/5] END classifier=LogisticRegression(max_iter=1000.0, random_state=42, tol=0.001), classifier__C=10.0, classifier__class_weight=balanced, classifier__penalty=l1, scaler=passthrough;, score=nan total time=   0.0s\n",
      "[CV 4/5] END classifier=LogisticRegression(max_iter=1000.0, random_state=42, tol=0.001), classifier__C=10.0, classifier__class_weight=balanced, classifier__penalty=l1, scaler=passthrough;, score=nan total time=   0.0s\n",
      "[CV 5/5] END classifier=LogisticRegression(max_iter=1000.0, random_state=42, tol=0.001), classifier__C=10.0, classifier__class_weight=balanced, classifier__penalty=l1, scaler=passthrough;, score=nan total time=   0.0s\n",
      "[CV 1/5] END classifier=LogisticRegression(max_iter=1000.0, random_state=42, tol=0.001), classifier__C=10.0, classifier__class_weight=balanced, classifier__penalty=l1, scaler=StandardScaler();, score=nan total time=   0.1s\n",
      "[CV 2/5] END classifier=LogisticRegression(max_iter=1000.0, random_state=42, tol=0.001), classifier__C=10.0, classifier__class_weight=balanced, classifier__penalty=l1, scaler=StandardScaler();, score=nan total time=   0.1s\n",
      "[CV 3/5] END classifier=LogisticRegression(max_iter=1000.0, random_state=42, tol=0.001), classifier__C=10.0, classifier__class_weight=balanced, classifier__penalty=l1, scaler=StandardScaler();, score=nan total time=   0.1s\n",
      "[CV 4/5] END classifier=LogisticRegression(max_iter=1000.0, random_state=42, tol=0.001), classifier__C=10.0, classifier__class_weight=balanced, classifier__penalty=l1, scaler=StandardScaler();, score=nan total time=   0.1s\n",
      "[CV 5/5] END classifier=LogisticRegression(max_iter=1000.0, random_state=42, tol=0.001), classifier__C=10.0, classifier__class_weight=balanced, classifier__penalty=l1, scaler=StandardScaler();, score=nan total time=   0.1s\n"
     ]
    },
    {
     "name": "stderr",
     "output_type": "stream",
     "text": [
      "/home/felipe/anaconda3/envs/segmentator/lib/python3.7/site-packages/sklearn/linear_model/_logistic.py:818: ConvergenceWarning: lbfgs failed to converge (status=1):\n",
      "STOP: TOTAL NO. of ITERATIONS REACHED LIMIT.\n",
      "\n",
      "Increase the number of iterations (max_iter) or scale the data as shown in:\n",
      "    https://scikit-learn.org/stable/modules/preprocessing.html\n",
      "Please also refer to the documentation for alternative solver options:\n",
      "    https://scikit-learn.org/stable/modules/linear_model.html#logistic-regression\n",
      "  extra_warning_msg=_LOGISTIC_SOLVER_CONVERGENCE_MSG,\n"
     ]
    },
    {
     "name": "stdout",
     "output_type": "stream",
     "text": [
      "[CV 1/5] END classifier=LogisticRegression(max_iter=1000.0, random_state=42, tol=0.001), classifier__C=10.0, classifier__class_weight=balanced, classifier__penalty=l2, scaler=passthrough;, score=0.631 total time=   8.5s\n"
     ]
    },
    {
     "name": "stderr",
     "output_type": "stream",
     "text": [
      "/home/felipe/anaconda3/envs/segmentator/lib/python3.7/site-packages/sklearn/linear_model/_logistic.py:818: ConvergenceWarning: lbfgs failed to converge (status=1):\n",
      "STOP: TOTAL NO. of ITERATIONS REACHED LIMIT.\n",
      "\n",
      "Increase the number of iterations (max_iter) or scale the data as shown in:\n",
      "    https://scikit-learn.org/stable/modules/preprocessing.html\n",
      "Please also refer to the documentation for alternative solver options:\n",
      "    https://scikit-learn.org/stable/modules/linear_model.html#logistic-regression\n",
      "  extra_warning_msg=_LOGISTIC_SOLVER_CONVERGENCE_MSG,\n"
     ]
    },
    {
     "name": "stdout",
     "output_type": "stream",
     "text": [
      "[CV 2/5] END classifier=LogisticRegression(max_iter=1000.0, random_state=42, tol=0.001), classifier__C=10.0, classifier__class_weight=balanced, classifier__penalty=l2, scaler=passthrough;, score=0.626 total time=   7.8s\n"
     ]
    },
    {
     "name": "stderr",
     "output_type": "stream",
     "text": [
      "/home/felipe/anaconda3/envs/segmentator/lib/python3.7/site-packages/sklearn/linear_model/_logistic.py:818: ConvergenceWarning: lbfgs failed to converge (status=1):\n",
      "STOP: TOTAL NO. of ITERATIONS REACHED LIMIT.\n",
      "\n",
      "Increase the number of iterations (max_iter) or scale the data as shown in:\n",
      "    https://scikit-learn.org/stable/modules/preprocessing.html\n",
      "Please also refer to the documentation for alternative solver options:\n",
      "    https://scikit-learn.org/stable/modules/linear_model.html#logistic-regression\n",
      "  extra_warning_msg=_LOGISTIC_SOLVER_CONVERGENCE_MSG,\n"
     ]
    },
    {
     "name": "stdout",
     "output_type": "stream",
     "text": [
      "[CV 3/5] END classifier=LogisticRegression(max_iter=1000.0, random_state=42, tol=0.001), classifier__C=10.0, classifier__class_weight=balanced, classifier__penalty=l2, scaler=passthrough;, score=0.624 total time=   7.6s\n"
     ]
    },
    {
     "name": "stderr",
     "output_type": "stream",
     "text": [
      "/home/felipe/anaconda3/envs/segmentator/lib/python3.7/site-packages/sklearn/linear_model/_logistic.py:818: ConvergenceWarning: lbfgs failed to converge (status=1):\n",
      "STOP: TOTAL NO. of ITERATIONS REACHED LIMIT.\n",
      "\n",
      "Increase the number of iterations (max_iter) or scale the data as shown in:\n",
      "    https://scikit-learn.org/stable/modules/preprocessing.html\n",
      "Please also refer to the documentation for alternative solver options:\n",
      "    https://scikit-learn.org/stable/modules/linear_model.html#logistic-regression\n",
      "  extra_warning_msg=_LOGISTIC_SOLVER_CONVERGENCE_MSG,\n"
     ]
    },
    {
     "name": "stdout",
     "output_type": "stream",
     "text": [
      "[CV 4/5] END classifier=LogisticRegression(max_iter=1000.0, random_state=42, tol=0.001), classifier__C=10.0, classifier__class_weight=balanced, classifier__penalty=l2, scaler=passthrough;, score=0.626 total time=   8.3s\n"
     ]
    },
    {
     "name": "stderr",
     "output_type": "stream",
     "text": [
      "/home/felipe/anaconda3/envs/segmentator/lib/python3.7/site-packages/sklearn/linear_model/_logistic.py:818: ConvergenceWarning: lbfgs failed to converge (status=1):\n",
      "STOP: TOTAL NO. of ITERATIONS REACHED LIMIT.\n",
      "\n",
      "Increase the number of iterations (max_iter) or scale the data as shown in:\n",
      "    https://scikit-learn.org/stable/modules/preprocessing.html\n",
      "Please also refer to the documentation for alternative solver options:\n",
      "    https://scikit-learn.org/stable/modules/linear_model.html#logistic-regression\n",
      "  extra_warning_msg=_LOGISTIC_SOLVER_CONVERGENCE_MSG,\n"
     ]
    },
    {
     "name": "stdout",
     "output_type": "stream",
     "text": [
      "[CV 5/5] END classifier=LogisticRegression(max_iter=1000.0, random_state=42, tol=0.001), classifier__C=10.0, classifier__class_weight=balanced, classifier__penalty=l2, scaler=passthrough;, score=0.619 total time=   8.1s\n",
      "[CV 1/5] END classifier=LogisticRegression(max_iter=1000.0, random_state=42, tol=0.001), classifier__C=10.0, classifier__class_weight=balanced, classifier__penalty=l2, scaler=StandardScaler();, score=0.630 total time=   2.4s\n",
      "[CV 2/5] END classifier=LogisticRegression(max_iter=1000.0, random_state=42, tol=0.001), classifier__C=10.0, classifier__class_weight=balanced, classifier__penalty=l2, scaler=StandardScaler();, score=0.626 total time=   1.9s\n",
      "[CV 3/5] END classifier=LogisticRegression(max_iter=1000.0, random_state=42, tol=0.001), classifier__C=10.0, classifier__class_weight=balanced, classifier__penalty=l2, scaler=StandardScaler();, score=0.624 total time=   2.0s\n",
      "[CV 4/5] END classifier=LogisticRegression(max_iter=1000.0, random_state=42, tol=0.001), classifier__C=10.0, classifier__class_weight=balanced, classifier__penalty=l2, scaler=StandardScaler();, score=0.625 total time=   1.7s\n",
      "[CV 5/5] END classifier=LogisticRegression(max_iter=1000.0, random_state=42, tol=0.001), classifier__C=10.0, classifier__class_weight=balanced, classifier__penalty=l2, scaler=StandardScaler();, score=0.619 total time=   1.2s\n",
      "[CV 1/5] END classifier=LogisticRegression(max_iter=1000.0, random_state=42, tol=0.001), classifier__C=100.0, classifier__class_weight=None, classifier__penalty=l1, scaler=passthrough;, score=nan total time=   0.0s\n",
      "[CV 2/5] END classifier=LogisticRegression(max_iter=1000.0, random_state=42, tol=0.001), classifier__C=100.0, classifier__class_weight=None, classifier__penalty=l1, scaler=passthrough;, score=nan total time=   0.0s\n",
      "[CV 3/5] END classifier=LogisticRegression(max_iter=1000.0, random_state=42, tol=0.001), classifier__C=100.0, classifier__class_weight=None, classifier__penalty=l1, scaler=passthrough;, score=nan total time=   0.0s\n",
      "[CV 4/5] END classifier=LogisticRegression(max_iter=1000.0, random_state=42, tol=0.001), classifier__C=100.0, classifier__class_weight=None, classifier__penalty=l1, scaler=passthrough;, score=nan total time=   0.0s\n",
      "[CV 5/5] END classifier=LogisticRegression(max_iter=1000.0, random_state=42, tol=0.001), classifier__C=100.0, classifier__class_weight=None, classifier__penalty=l1, scaler=passthrough;, score=nan total time=   0.0s\n",
      "[CV 1/5] END classifier=LogisticRegression(max_iter=1000.0, random_state=42, tol=0.001), classifier__C=100.0, classifier__class_weight=None, classifier__penalty=l1, scaler=StandardScaler();, score=nan total time=   0.1s\n",
      "[CV 2/5] END classifier=LogisticRegression(max_iter=1000.0, random_state=42, tol=0.001), classifier__C=100.0, classifier__class_weight=None, classifier__penalty=l1, scaler=StandardScaler();, score=nan total time=   0.1s\n",
      "[CV 3/5] END classifier=LogisticRegression(max_iter=1000.0, random_state=42, tol=0.001), classifier__C=100.0, classifier__class_weight=None, classifier__penalty=l1, scaler=StandardScaler();, score=nan total time=   0.1s\n",
      "[CV 4/5] END classifier=LogisticRegression(max_iter=1000.0, random_state=42, tol=0.001), classifier__C=100.0, classifier__class_weight=None, classifier__penalty=l1, scaler=StandardScaler();, score=nan total time=   0.1s\n",
      "[CV 5/5] END classifier=LogisticRegression(max_iter=1000.0, random_state=42, tol=0.001), classifier__C=100.0, classifier__class_weight=None, classifier__penalty=l1, scaler=StandardScaler();, score=nan total time=   0.1s\n"
     ]
    },
    {
     "name": "stderr",
     "output_type": "stream",
     "text": [
      "/home/felipe/anaconda3/envs/segmentator/lib/python3.7/site-packages/sklearn/linear_model/_logistic.py:818: ConvergenceWarning: lbfgs failed to converge (status=1):\n",
      "STOP: TOTAL NO. of ITERATIONS REACHED LIMIT.\n",
      "\n",
      "Increase the number of iterations (max_iter) or scale the data as shown in:\n",
      "    https://scikit-learn.org/stable/modules/preprocessing.html\n",
      "Please also refer to the documentation for alternative solver options:\n",
      "    https://scikit-learn.org/stable/modules/linear_model.html#logistic-regression\n",
      "  extra_warning_msg=_LOGISTIC_SOLVER_CONVERGENCE_MSG,\n"
     ]
    },
    {
     "name": "stdout",
     "output_type": "stream",
     "text": [
      "[CV 1/5] END classifier=LogisticRegression(max_iter=1000.0, random_state=42, tol=0.001), classifier__C=100.0, classifier__class_weight=None, classifier__penalty=l2, scaler=passthrough;, score=0.589 total time=   8.5s\n"
     ]
    },
    {
     "name": "stderr",
     "output_type": "stream",
     "text": [
      "/home/felipe/anaconda3/envs/segmentator/lib/python3.7/site-packages/sklearn/linear_model/_logistic.py:818: ConvergenceWarning: lbfgs failed to converge (status=1):\n",
      "STOP: TOTAL NO. of ITERATIONS REACHED LIMIT.\n",
      "\n",
      "Increase the number of iterations (max_iter) or scale the data as shown in:\n",
      "    https://scikit-learn.org/stable/modules/preprocessing.html\n",
      "Please also refer to the documentation for alternative solver options:\n",
      "    https://scikit-learn.org/stable/modules/linear_model.html#logistic-regression\n",
      "  extra_warning_msg=_LOGISTIC_SOLVER_CONVERGENCE_MSG,\n"
     ]
    },
    {
     "name": "stdout",
     "output_type": "stream",
     "text": [
      "[CV 2/5] END classifier=LogisticRegression(max_iter=1000.0, random_state=42, tol=0.001), classifier__C=100.0, classifier__class_weight=None, classifier__penalty=l2, scaler=passthrough;, score=0.591 total time=   7.9s\n"
     ]
    },
    {
     "name": "stderr",
     "output_type": "stream",
     "text": [
      "/home/felipe/anaconda3/envs/segmentator/lib/python3.7/site-packages/sklearn/linear_model/_logistic.py:818: ConvergenceWarning: lbfgs failed to converge (status=1):\n",
      "STOP: TOTAL NO. of ITERATIONS REACHED LIMIT.\n",
      "\n",
      "Increase the number of iterations (max_iter) or scale the data as shown in:\n",
      "    https://scikit-learn.org/stable/modules/preprocessing.html\n",
      "Please also refer to the documentation for alternative solver options:\n",
      "    https://scikit-learn.org/stable/modules/linear_model.html#logistic-regression\n",
      "  extra_warning_msg=_LOGISTIC_SOLVER_CONVERGENCE_MSG,\n"
     ]
    },
    {
     "name": "stdout",
     "output_type": "stream",
     "text": [
      "[CV 3/5] END classifier=LogisticRegression(max_iter=1000.0, random_state=42, tol=0.001), classifier__C=100.0, classifier__class_weight=None, classifier__penalty=l2, scaler=passthrough;, score=0.586 total time=   7.9s\n"
     ]
    },
    {
     "name": "stderr",
     "output_type": "stream",
     "text": [
      "/home/felipe/anaconda3/envs/segmentator/lib/python3.7/site-packages/sklearn/linear_model/_logistic.py:818: ConvergenceWarning: lbfgs failed to converge (status=1):\n",
      "STOP: TOTAL NO. of ITERATIONS REACHED LIMIT.\n",
      "\n",
      "Increase the number of iterations (max_iter) or scale the data as shown in:\n",
      "    https://scikit-learn.org/stable/modules/preprocessing.html\n",
      "Please also refer to the documentation for alternative solver options:\n",
      "    https://scikit-learn.org/stable/modules/linear_model.html#logistic-regression\n",
      "  extra_warning_msg=_LOGISTIC_SOLVER_CONVERGENCE_MSG,\n"
     ]
    },
    {
     "name": "stdout",
     "output_type": "stream",
     "text": [
      "[CV 4/5] END classifier=LogisticRegression(max_iter=1000.0, random_state=42, tol=0.001), classifier__C=100.0, classifier__class_weight=None, classifier__penalty=l2, scaler=passthrough;, score=0.588 total time=   7.2s\n"
     ]
    },
    {
     "name": "stderr",
     "output_type": "stream",
     "text": [
      "/home/felipe/anaconda3/envs/segmentator/lib/python3.7/site-packages/sklearn/linear_model/_logistic.py:818: ConvergenceWarning: lbfgs failed to converge (status=1):\n",
      "STOP: TOTAL NO. of ITERATIONS REACHED LIMIT.\n",
      "\n",
      "Increase the number of iterations (max_iter) or scale the data as shown in:\n",
      "    https://scikit-learn.org/stable/modules/preprocessing.html\n",
      "Please also refer to the documentation for alternative solver options:\n",
      "    https://scikit-learn.org/stable/modules/linear_model.html#logistic-regression\n",
      "  extra_warning_msg=_LOGISTIC_SOLVER_CONVERGENCE_MSG,\n"
     ]
    },
    {
     "name": "stdout",
     "output_type": "stream",
     "text": [
      "[CV 5/5] END classifier=LogisticRegression(max_iter=1000.0, random_state=42, tol=0.001), classifier__C=100.0, classifier__class_weight=None, classifier__penalty=l2, scaler=passthrough;, score=0.580 total time=   5.8s\n",
      "[CV 1/5] END classifier=LogisticRegression(max_iter=1000.0, random_state=42, tol=0.001), classifier__C=100.0, classifier__class_weight=None, classifier__penalty=l2, scaler=StandardScaler();, score=0.588 total time=   2.0s\n",
      "[CV 2/5] END classifier=LogisticRegression(max_iter=1000.0, random_state=42, tol=0.001), classifier__C=100.0, classifier__class_weight=None, classifier__penalty=l2, scaler=StandardScaler();, score=0.591 total time=   1.6s\n",
      "[CV 3/5] END classifier=LogisticRegression(max_iter=1000.0, random_state=42, tol=0.001), classifier__C=100.0, classifier__class_weight=None, classifier__penalty=l2, scaler=StandardScaler();, score=0.585 total time=   1.6s\n",
      "[CV 4/5] END classifier=LogisticRegression(max_iter=1000.0, random_state=42, tol=0.001), classifier__C=100.0, classifier__class_weight=None, classifier__penalty=l2, scaler=StandardScaler();, score=0.588 total time=   1.7s\n",
      "[CV 5/5] END classifier=LogisticRegression(max_iter=1000.0, random_state=42, tol=0.001), classifier__C=100.0, classifier__class_weight=None, classifier__penalty=l2, scaler=StandardScaler();, score=0.579 total time=   2.5s\n",
      "[CV 1/5] END classifier=LogisticRegression(max_iter=1000.0, random_state=42, tol=0.001), classifier__C=100.0, classifier__class_weight=balanced, classifier__penalty=l1, scaler=passthrough;, score=nan total time=   0.0s\n",
      "[CV 2/5] END classifier=LogisticRegression(max_iter=1000.0, random_state=42, tol=0.001), classifier__C=100.0, classifier__class_weight=balanced, classifier__penalty=l1, scaler=passthrough;, score=nan total time=   0.0s\n",
      "[CV 3/5] END classifier=LogisticRegression(max_iter=1000.0, random_state=42, tol=0.001), classifier__C=100.0, classifier__class_weight=balanced, classifier__penalty=l1, scaler=passthrough;, score=nan total time=   0.0s\n",
      "[CV 4/5] END classifier=LogisticRegression(max_iter=1000.0, random_state=42, tol=0.001), classifier__C=100.0, classifier__class_weight=balanced, classifier__penalty=l1, scaler=passthrough;, score=nan total time=   0.0s\n",
      "[CV 5/5] END classifier=LogisticRegression(max_iter=1000.0, random_state=42, tol=0.001), classifier__C=100.0, classifier__class_weight=balanced, classifier__penalty=l1, scaler=passthrough;, score=nan total time=   0.0s\n",
      "[CV 1/5] END classifier=LogisticRegression(max_iter=1000.0, random_state=42, tol=0.001), classifier__C=100.0, classifier__class_weight=balanced, classifier__penalty=l1, scaler=StandardScaler();, score=nan total time=   0.1s\n",
      "[CV 2/5] END classifier=LogisticRegression(max_iter=1000.0, random_state=42, tol=0.001), classifier__C=100.0, classifier__class_weight=balanced, classifier__penalty=l1, scaler=StandardScaler();, score=nan total time=   0.1s\n",
      "[CV 3/5] END classifier=LogisticRegression(max_iter=1000.0, random_state=42, tol=0.001), classifier__C=100.0, classifier__class_weight=balanced, classifier__penalty=l1, scaler=StandardScaler();, score=nan total time=   0.1s\n",
      "[CV 4/5] END classifier=LogisticRegression(max_iter=1000.0, random_state=42, tol=0.001), classifier__C=100.0, classifier__class_weight=balanced, classifier__penalty=l1, scaler=StandardScaler();, score=nan total time=   0.1s\n",
      "[CV 5/5] END classifier=LogisticRegression(max_iter=1000.0, random_state=42, tol=0.001), classifier__C=100.0, classifier__class_weight=balanced, classifier__penalty=l1, scaler=StandardScaler();, score=nan total time=   0.1s\n"
     ]
    },
    {
     "name": "stderr",
     "output_type": "stream",
     "text": [
      "/home/felipe/anaconda3/envs/segmentator/lib/python3.7/site-packages/sklearn/linear_model/_logistic.py:818: ConvergenceWarning: lbfgs failed to converge (status=1):\n",
      "STOP: TOTAL NO. of ITERATIONS REACHED LIMIT.\n",
      "\n",
      "Increase the number of iterations (max_iter) or scale the data as shown in:\n",
      "    https://scikit-learn.org/stable/modules/preprocessing.html\n",
      "Please also refer to the documentation for alternative solver options:\n",
      "    https://scikit-learn.org/stable/modules/linear_model.html#logistic-regression\n",
      "  extra_warning_msg=_LOGISTIC_SOLVER_CONVERGENCE_MSG,\n"
     ]
    },
    {
     "name": "stdout",
     "output_type": "stream",
     "text": [
      "[CV 1/5] END classifier=LogisticRegression(max_iter=1000.0, random_state=42, tol=0.001), classifier__C=100.0, classifier__class_weight=balanced, classifier__penalty=l2, scaler=passthrough;, score=0.630 total time=   5.5s\n"
     ]
    },
    {
     "name": "stderr",
     "output_type": "stream",
     "text": [
      "/home/felipe/anaconda3/envs/segmentator/lib/python3.7/site-packages/sklearn/linear_model/_logistic.py:818: ConvergenceWarning: lbfgs failed to converge (status=1):\n",
      "STOP: TOTAL NO. of ITERATIONS REACHED LIMIT.\n",
      "\n",
      "Increase the number of iterations (max_iter) or scale the data as shown in:\n",
      "    https://scikit-learn.org/stable/modules/preprocessing.html\n",
      "Please also refer to the documentation for alternative solver options:\n",
      "    https://scikit-learn.org/stable/modules/linear_model.html#logistic-regression\n",
      "  extra_warning_msg=_LOGISTIC_SOLVER_CONVERGENCE_MSG,\n"
     ]
    },
    {
     "name": "stdout",
     "output_type": "stream",
     "text": [
      "[CV 2/5] END classifier=LogisticRegression(max_iter=1000.0, random_state=42, tol=0.001), classifier__C=100.0, classifier__class_weight=balanced, classifier__penalty=l2, scaler=passthrough;, score=0.626 total time=   5.7s\n"
     ]
    },
    {
     "name": "stderr",
     "output_type": "stream",
     "text": [
      "/home/felipe/anaconda3/envs/segmentator/lib/python3.7/site-packages/sklearn/linear_model/_logistic.py:818: ConvergenceWarning: lbfgs failed to converge (status=1):\n",
      "STOP: TOTAL NO. of ITERATIONS REACHED LIMIT.\n",
      "\n",
      "Increase the number of iterations (max_iter) or scale the data as shown in:\n",
      "    https://scikit-learn.org/stable/modules/preprocessing.html\n",
      "Please also refer to the documentation for alternative solver options:\n",
      "    https://scikit-learn.org/stable/modules/linear_model.html#logistic-regression\n",
      "  extra_warning_msg=_LOGISTIC_SOLVER_CONVERGENCE_MSG,\n"
     ]
    },
    {
     "name": "stdout",
     "output_type": "stream",
     "text": [
      "[CV 3/5] END classifier=LogisticRegression(max_iter=1000.0, random_state=42, tol=0.001), classifier__C=100.0, classifier__class_weight=balanced, classifier__penalty=l2, scaler=passthrough;, score=0.624 total time=   5.7s\n"
     ]
    },
    {
     "name": "stderr",
     "output_type": "stream",
     "text": [
      "/home/felipe/anaconda3/envs/segmentator/lib/python3.7/site-packages/sklearn/linear_model/_logistic.py:818: ConvergenceWarning: lbfgs failed to converge (status=1):\n",
      "STOP: TOTAL NO. of ITERATIONS REACHED LIMIT.\n",
      "\n",
      "Increase the number of iterations (max_iter) or scale the data as shown in:\n",
      "    https://scikit-learn.org/stable/modules/preprocessing.html\n",
      "Please also refer to the documentation for alternative solver options:\n",
      "    https://scikit-learn.org/stable/modules/linear_model.html#logistic-regression\n",
      "  extra_warning_msg=_LOGISTIC_SOLVER_CONVERGENCE_MSG,\n"
     ]
    },
    {
     "name": "stdout",
     "output_type": "stream",
     "text": [
      "[CV 4/5] END classifier=LogisticRegression(max_iter=1000.0, random_state=42, tol=0.001), classifier__C=100.0, classifier__class_weight=balanced, classifier__penalty=l2, scaler=passthrough;, score=0.625 total time=   5.5s\n"
     ]
    },
    {
     "name": "stderr",
     "output_type": "stream",
     "text": [
      "/home/felipe/anaconda3/envs/segmentator/lib/python3.7/site-packages/sklearn/linear_model/_logistic.py:818: ConvergenceWarning: lbfgs failed to converge (status=1):\n",
      "STOP: TOTAL NO. of ITERATIONS REACHED LIMIT.\n",
      "\n",
      "Increase the number of iterations (max_iter) or scale the data as shown in:\n",
      "    https://scikit-learn.org/stable/modules/preprocessing.html\n",
      "Please also refer to the documentation for alternative solver options:\n",
      "    https://scikit-learn.org/stable/modules/linear_model.html#logistic-regression\n",
      "  extra_warning_msg=_LOGISTIC_SOLVER_CONVERGENCE_MSG,\n"
     ]
    },
    {
     "name": "stdout",
     "output_type": "stream",
     "text": [
      "[CV 5/5] END classifier=LogisticRegression(max_iter=1000.0, random_state=42, tol=0.001), classifier__C=100.0, classifier__class_weight=balanced, classifier__penalty=l2, scaler=passthrough;, score=0.619 total time=   5.8s\n",
      "[CV 1/5] END classifier=LogisticRegression(max_iter=1000.0, random_state=42, tol=0.001), classifier__C=100.0, classifier__class_weight=balanced, classifier__penalty=l2, scaler=StandardScaler();, score=0.630 total time=   1.9s\n",
      "[CV 2/5] END classifier=LogisticRegression(max_iter=1000.0, random_state=42, tol=0.001), classifier__C=100.0, classifier__class_weight=balanced, classifier__penalty=l2, scaler=StandardScaler();, score=0.626 total time=   1.7s\n",
      "[CV 3/5] END classifier=LogisticRegression(max_iter=1000.0, random_state=42, tol=0.001), classifier__C=100.0, classifier__class_weight=balanced, classifier__penalty=l2, scaler=StandardScaler();, score=0.624 total time=   1.0s\n",
      "[CV 4/5] END classifier=LogisticRegression(max_iter=1000.0, random_state=42, tol=0.001), classifier__C=100.0, classifier__class_weight=balanced, classifier__penalty=l2, scaler=StandardScaler();, score=0.625 total time=   1.6s\n",
      "[CV 5/5] END classifier=LogisticRegression(max_iter=1000.0, random_state=42, tol=0.001), classifier__C=100.0, classifier__class_weight=balanced, classifier__penalty=l2, scaler=StandardScaler();, score=0.619 total time=   2.4s\n",
      "[CV 1/5] END classifier=LogisticRegression(max_iter=1000.0, random_state=42, tol=0.001), classifier__C=1000.0, classifier__class_weight=None, classifier__penalty=l1, scaler=passthrough;, score=nan total time=   0.0s\n",
      "[CV 2/5] END classifier=LogisticRegression(max_iter=1000.0, random_state=42, tol=0.001), classifier__C=1000.0, classifier__class_weight=None, classifier__penalty=l1, scaler=passthrough;, score=nan total time=   0.0s\n",
      "[CV 3/5] END classifier=LogisticRegression(max_iter=1000.0, random_state=42, tol=0.001), classifier__C=1000.0, classifier__class_weight=None, classifier__penalty=l1, scaler=passthrough;, score=nan total time=   0.0s\n",
      "[CV 4/5] END classifier=LogisticRegression(max_iter=1000.0, random_state=42, tol=0.001), classifier__C=1000.0, classifier__class_weight=None, classifier__penalty=l1, scaler=passthrough;, score=nan total time=   0.0s\n",
      "[CV 5/5] END classifier=LogisticRegression(max_iter=1000.0, random_state=42, tol=0.001), classifier__C=1000.0, classifier__class_weight=None, classifier__penalty=l1, scaler=passthrough;, score=nan total time=   0.0s\n",
      "[CV 1/5] END classifier=LogisticRegression(max_iter=1000.0, random_state=42, tol=0.001), classifier__C=1000.0, classifier__class_weight=None, classifier__penalty=l1, scaler=StandardScaler();, score=nan total time=   0.1s\n",
      "[CV 2/5] END classifier=LogisticRegression(max_iter=1000.0, random_state=42, tol=0.001), classifier__C=1000.0, classifier__class_weight=None, classifier__penalty=l1, scaler=StandardScaler();, score=nan total time=   0.1s\n",
      "[CV 3/5] END classifier=LogisticRegression(max_iter=1000.0, random_state=42, tol=0.001), classifier__C=1000.0, classifier__class_weight=None, classifier__penalty=l1, scaler=StandardScaler();, score=nan total time=   0.1s\n",
      "[CV 4/5] END classifier=LogisticRegression(max_iter=1000.0, random_state=42, tol=0.001), classifier__C=1000.0, classifier__class_weight=None, classifier__penalty=l1, scaler=StandardScaler();, score=nan total time=   0.1s\n",
      "[CV 5/5] END classifier=LogisticRegression(max_iter=1000.0, random_state=42, tol=0.001), classifier__C=1000.0, classifier__class_weight=None, classifier__penalty=l1, scaler=StandardScaler();, score=nan total time=   0.1s\n"
     ]
    },
    {
     "name": "stderr",
     "output_type": "stream",
     "text": [
      "/home/felipe/anaconda3/envs/segmentator/lib/python3.7/site-packages/sklearn/linear_model/_logistic.py:818: ConvergenceWarning: lbfgs failed to converge (status=1):\n",
      "STOP: TOTAL NO. of ITERATIONS REACHED LIMIT.\n",
      "\n",
      "Increase the number of iterations (max_iter) or scale the data as shown in:\n",
      "    https://scikit-learn.org/stable/modules/preprocessing.html\n",
      "Please also refer to the documentation for alternative solver options:\n",
      "    https://scikit-learn.org/stable/modules/linear_model.html#logistic-regression\n",
      "  extra_warning_msg=_LOGISTIC_SOLVER_CONVERGENCE_MSG,\n"
     ]
    },
    {
     "name": "stdout",
     "output_type": "stream",
     "text": [
      "[CV 1/5] END classifier=LogisticRegression(max_iter=1000.0, random_state=42, tol=0.001), classifier__C=1000.0, classifier__class_weight=None, classifier__penalty=l2, scaler=passthrough;, score=0.588 total time=   5.5s\n"
     ]
    },
    {
     "name": "stderr",
     "output_type": "stream",
     "text": [
      "/home/felipe/anaconda3/envs/segmentator/lib/python3.7/site-packages/sklearn/linear_model/_logistic.py:818: ConvergenceWarning: lbfgs failed to converge (status=1):\n",
      "STOP: TOTAL NO. of ITERATIONS REACHED LIMIT.\n",
      "\n",
      "Increase the number of iterations (max_iter) or scale the data as shown in:\n",
      "    https://scikit-learn.org/stable/modules/preprocessing.html\n",
      "Please also refer to the documentation for alternative solver options:\n",
      "    https://scikit-learn.org/stable/modules/linear_model.html#logistic-regression\n",
      "  extra_warning_msg=_LOGISTIC_SOLVER_CONVERGENCE_MSG,\n"
     ]
    },
    {
     "name": "stdout",
     "output_type": "stream",
     "text": [
      "[CV 2/5] END classifier=LogisticRegression(max_iter=1000.0, random_state=42, tol=0.001), classifier__C=1000.0, classifier__class_weight=None, classifier__penalty=l2, scaler=passthrough;, score=0.591 total time=   5.7s\n"
     ]
    },
    {
     "name": "stderr",
     "output_type": "stream",
     "text": [
      "/home/felipe/anaconda3/envs/segmentator/lib/python3.7/site-packages/sklearn/linear_model/_logistic.py:818: ConvergenceWarning: lbfgs failed to converge (status=1):\n",
      "STOP: TOTAL NO. of ITERATIONS REACHED LIMIT.\n",
      "\n",
      "Increase the number of iterations (max_iter) or scale the data as shown in:\n",
      "    https://scikit-learn.org/stable/modules/preprocessing.html\n",
      "Please also refer to the documentation for alternative solver options:\n",
      "    https://scikit-learn.org/stable/modules/linear_model.html#logistic-regression\n",
      "  extra_warning_msg=_LOGISTIC_SOLVER_CONVERGENCE_MSG,\n"
     ]
    },
    {
     "name": "stdout",
     "output_type": "stream",
     "text": [
      "[CV 3/5] END classifier=LogisticRegression(max_iter=1000.0, random_state=42, tol=0.001), classifier__C=1000.0, classifier__class_weight=None, classifier__penalty=l2, scaler=passthrough;, score=0.585 total time=   5.6s\n"
     ]
    },
    {
     "name": "stderr",
     "output_type": "stream",
     "text": [
      "/home/felipe/anaconda3/envs/segmentator/lib/python3.7/site-packages/sklearn/linear_model/_logistic.py:818: ConvergenceWarning: lbfgs failed to converge (status=1):\n",
      "STOP: TOTAL NO. of ITERATIONS REACHED LIMIT.\n",
      "\n",
      "Increase the number of iterations (max_iter) or scale the data as shown in:\n",
      "    https://scikit-learn.org/stable/modules/preprocessing.html\n",
      "Please also refer to the documentation for alternative solver options:\n",
      "    https://scikit-learn.org/stable/modules/linear_model.html#logistic-regression\n",
      "  extra_warning_msg=_LOGISTIC_SOLVER_CONVERGENCE_MSG,\n"
     ]
    },
    {
     "name": "stdout",
     "output_type": "stream",
     "text": [
      "[CV 4/5] END classifier=LogisticRegression(max_iter=1000.0, random_state=42, tol=0.001), classifier__C=1000.0, classifier__class_weight=None, classifier__penalty=l2, scaler=passthrough;, score=0.588 total time=   5.9s\n"
     ]
    },
    {
     "name": "stderr",
     "output_type": "stream",
     "text": [
      "/home/felipe/anaconda3/envs/segmentator/lib/python3.7/site-packages/sklearn/linear_model/_logistic.py:818: ConvergenceWarning: lbfgs failed to converge (status=1):\n",
      "STOP: TOTAL NO. of ITERATIONS REACHED LIMIT.\n",
      "\n",
      "Increase the number of iterations (max_iter) or scale the data as shown in:\n",
      "    https://scikit-learn.org/stable/modules/preprocessing.html\n",
      "Please also refer to the documentation for alternative solver options:\n",
      "    https://scikit-learn.org/stable/modules/linear_model.html#logistic-regression\n",
      "  extra_warning_msg=_LOGISTIC_SOLVER_CONVERGENCE_MSG,\n"
     ]
    },
    {
     "name": "stdout",
     "output_type": "stream",
     "text": [
      "[CV 5/5] END classifier=LogisticRegression(max_iter=1000.0, random_state=42, tol=0.001), classifier__C=1000.0, classifier__class_weight=None, classifier__penalty=l2, scaler=passthrough;, score=0.579 total time=   5.5s\n",
      "[CV 1/5] END classifier=LogisticRegression(max_iter=1000.0, random_state=42, tol=0.001), classifier__C=1000.0, classifier__class_weight=None, classifier__penalty=l2, scaler=StandardScaler();, score=0.588 total time=   2.2s\n",
      "[CV 2/5] END classifier=LogisticRegression(max_iter=1000.0, random_state=42, tol=0.001), classifier__C=1000.0, classifier__class_weight=None, classifier__penalty=l2, scaler=StandardScaler();, score=0.591 total time=   1.7s\n",
      "[CV 3/5] END classifier=LogisticRegression(max_iter=1000.0, random_state=42, tol=0.001), classifier__C=1000.0, classifier__class_weight=None, classifier__penalty=l2, scaler=StandardScaler();, score=0.585 total time=   1.6s\n",
      "[CV 4/5] END classifier=LogisticRegression(max_iter=1000.0, random_state=42, tol=0.001), classifier__C=1000.0, classifier__class_weight=None, classifier__penalty=l2, scaler=StandardScaler();, score=0.588 total time=   1.7s\n",
      "[CV 5/5] END classifier=LogisticRegression(max_iter=1000.0, random_state=42, tol=0.001), classifier__C=1000.0, classifier__class_weight=None, classifier__penalty=l2, scaler=StandardScaler();, score=0.579 total time=   1.9s\n",
      "[CV 1/5] END classifier=LogisticRegression(max_iter=1000.0, random_state=42, tol=0.001), classifier__C=1000.0, classifier__class_weight=balanced, classifier__penalty=l1, scaler=passthrough;, score=nan total time=   0.0s\n",
      "[CV 2/5] END classifier=LogisticRegression(max_iter=1000.0, random_state=42, tol=0.001), classifier__C=1000.0, classifier__class_weight=balanced, classifier__penalty=l1, scaler=passthrough;, score=nan total time=   0.0s\n",
      "[CV 3/5] END classifier=LogisticRegression(max_iter=1000.0, random_state=42, tol=0.001), classifier__C=1000.0, classifier__class_weight=balanced, classifier__penalty=l1, scaler=passthrough;, score=nan total time=   0.0s\n",
      "[CV 4/5] END classifier=LogisticRegression(max_iter=1000.0, random_state=42, tol=0.001), classifier__C=1000.0, classifier__class_weight=balanced, classifier__penalty=l1, scaler=passthrough;, score=nan total time=   0.0s\n",
      "[CV 5/5] END classifier=LogisticRegression(max_iter=1000.0, random_state=42, tol=0.001), classifier__C=1000.0, classifier__class_weight=balanced, classifier__penalty=l1, scaler=passthrough;, score=nan total time=   0.0s\n",
      "[CV 1/5] END classifier=LogisticRegression(max_iter=1000.0, random_state=42, tol=0.001), classifier__C=1000.0, classifier__class_weight=balanced, classifier__penalty=l1, scaler=StandardScaler();, score=nan total time=   0.1s\n",
      "[CV 2/5] END classifier=LogisticRegression(max_iter=1000.0, random_state=42, tol=0.001), classifier__C=1000.0, classifier__class_weight=balanced, classifier__penalty=l1, scaler=StandardScaler();, score=nan total time=   0.1s\n",
      "[CV 3/5] END classifier=LogisticRegression(max_iter=1000.0, random_state=42, tol=0.001), classifier__C=1000.0, classifier__class_weight=balanced, classifier__penalty=l1, scaler=StandardScaler();, score=nan total time=   0.1s\n",
      "[CV 4/5] END classifier=LogisticRegression(max_iter=1000.0, random_state=42, tol=0.001), classifier__C=1000.0, classifier__class_weight=balanced, classifier__penalty=l1, scaler=StandardScaler();, score=nan total time=   0.1s\n",
      "[CV 5/5] END classifier=LogisticRegression(max_iter=1000.0, random_state=42, tol=0.001), classifier__C=1000.0, classifier__class_weight=balanced, classifier__penalty=l1, scaler=StandardScaler();, score=nan total time=   0.1s\n"
     ]
    },
    {
     "name": "stderr",
     "output_type": "stream",
     "text": [
      "/home/felipe/anaconda3/envs/segmentator/lib/python3.7/site-packages/sklearn/linear_model/_logistic.py:818: ConvergenceWarning: lbfgs failed to converge (status=1):\n",
      "STOP: TOTAL NO. of ITERATIONS REACHED LIMIT.\n",
      "\n",
      "Increase the number of iterations (max_iter) or scale the data as shown in:\n",
      "    https://scikit-learn.org/stable/modules/preprocessing.html\n",
      "Please also refer to the documentation for alternative solver options:\n",
      "    https://scikit-learn.org/stable/modules/linear_model.html#logistic-regression\n",
      "  extra_warning_msg=_LOGISTIC_SOLVER_CONVERGENCE_MSG,\n"
     ]
    },
    {
     "name": "stdout",
     "output_type": "stream",
     "text": [
      "[CV 1/5] END classifier=LogisticRegression(max_iter=1000.0, random_state=42, tol=0.001), classifier__C=1000.0, classifier__class_weight=balanced, classifier__penalty=l2, scaler=passthrough;, score=0.631 total time=   5.5s\n"
     ]
    },
    {
     "name": "stderr",
     "output_type": "stream",
     "text": [
      "/home/felipe/anaconda3/envs/segmentator/lib/python3.7/site-packages/sklearn/linear_model/_logistic.py:818: ConvergenceWarning: lbfgs failed to converge (status=1):\n",
      "STOP: TOTAL NO. of ITERATIONS REACHED LIMIT.\n",
      "\n",
      "Increase the number of iterations (max_iter) or scale the data as shown in:\n",
      "    https://scikit-learn.org/stable/modules/preprocessing.html\n",
      "Please also refer to the documentation for alternative solver options:\n",
      "    https://scikit-learn.org/stable/modules/linear_model.html#logistic-regression\n",
      "  extra_warning_msg=_LOGISTIC_SOLVER_CONVERGENCE_MSG,\n"
     ]
    },
    {
     "name": "stdout",
     "output_type": "stream",
     "text": [
      "[CV 2/5] END classifier=LogisticRegression(max_iter=1000.0, random_state=42, tol=0.001), classifier__C=1000.0, classifier__class_weight=balanced, classifier__penalty=l2, scaler=passthrough;, score=0.627 total time=   5.7s\n"
     ]
    },
    {
     "name": "stderr",
     "output_type": "stream",
     "text": [
      "/home/felipe/anaconda3/envs/segmentator/lib/python3.7/site-packages/sklearn/linear_model/_logistic.py:818: ConvergenceWarning: lbfgs failed to converge (status=1):\n",
      "STOP: TOTAL NO. of ITERATIONS REACHED LIMIT.\n",
      "\n",
      "Increase the number of iterations (max_iter) or scale the data as shown in:\n",
      "    https://scikit-learn.org/stable/modules/preprocessing.html\n",
      "Please also refer to the documentation for alternative solver options:\n",
      "    https://scikit-learn.org/stable/modules/linear_model.html#logistic-regression\n",
      "  extra_warning_msg=_LOGISTIC_SOLVER_CONVERGENCE_MSG,\n"
     ]
    },
    {
     "name": "stdout",
     "output_type": "stream",
     "text": [
      "[CV 3/5] END classifier=LogisticRegression(max_iter=1000.0, random_state=42, tol=0.001), classifier__C=1000.0, classifier__class_weight=balanced, classifier__penalty=l2, scaler=passthrough;, score=0.624 total time=   5.7s\n"
     ]
    },
    {
     "name": "stderr",
     "output_type": "stream",
     "text": [
      "/home/felipe/anaconda3/envs/segmentator/lib/python3.7/site-packages/sklearn/linear_model/_logistic.py:818: ConvergenceWarning: lbfgs failed to converge (status=1):\n",
      "STOP: TOTAL NO. of ITERATIONS REACHED LIMIT.\n",
      "\n",
      "Increase the number of iterations (max_iter) or scale the data as shown in:\n",
      "    https://scikit-learn.org/stable/modules/preprocessing.html\n",
      "Please also refer to the documentation for alternative solver options:\n",
      "    https://scikit-learn.org/stable/modules/linear_model.html#logistic-regression\n",
      "  extra_warning_msg=_LOGISTIC_SOLVER_CONVERGENCE_MSG,\n"
     ]
    },
    {
     "name": "stdout",
     "output_type": "stream",
     "text": [
      "[CV 4/5] END classifier=LogisticRegression(max_iter=1000.0, random_state=42, tol=0.001), classifier__C=1000.0, classifier__class_weight=balanced, classifier__penalty=l2, scaler=passthrough;, score=0.626 total time=   6.3s\n"
     ]
    },
    {
     "name": "stderr",
     "output_type": "stream",
     "text": [
      "/home/felipe/anaconda3/envs/segmentator/lib/python3.7/site-packages/sklearn/linear_model/_logistic.py:818: ConvergenceWarning: lbfgs failed to converge (status=1):\n",
      "STOP: TOTAL NO. of ITERATIONS REACHED LIMIT.\n",
      "\n",
      "Increase the number of iterations (max_iter) or scale the data as shown in:\n",
      "    https://scikit-learn.org/stable/modules/preprocessing.html\n",
      "Please also refer to the documentation for alternative solver options:\n",
      "    https://scikit-learn.org/stable/modules/linear_model.html#logistic-regression\n",
      "  extra_warning_msg=_LOGISTIC_SOLVER_CONVERGENCE_MSG,\n"
     ]
    },
    {
     "name": "stdout",
     "output_type": "stream",
     "text": [
      "[CV 5/5] END classifier=LogisticRegression(max_iter=1000.0, random_state=42, tol=0.001), classifier__C=1000.0, classifier__class_weight=balanced, classifier__penalty=l2, scaler=passthrough;, score=0.619 total time=   6.3s\n",
      "[CV 1/5] END classifier=LogisticRegression(max_iter=1000.0, random_state=42, tol=0.001), classifier__C=1000.0, classifier__class_weight=balanced, classifier__penalty=l2, scaler=StandardScaler();, score=0.630 total time=   2.1s\n",
      "[CV 2/5] END classifier=LogisticRegression(max_iter=1000.0, random_state=42, tol=0.001), classifier__C=1000.0, classifier__class_weight=balanced, classifier__penalty=l2, scaler=StandardScaler();, score=0.626 total time=   1.6s\n",
      "[CV 3/5] END classifier=LogisticRegression(max_iter=1000.0, random_state=42, tol=0.001), classifier__C=1000.0, classifier__class_weight=balanced, classifier__penalty=l2, scaler=StandardScaler();, score=0.624 total time=   3.0s\n",
      "[CV 4/5] END classifier=LogisticRegression(max_iter=1000.0, random_state=42, tol=0.001), classifier__C=1000.0, classifier__class_weight=balanced, classifier__penalty=l2, scaler=StandardScaler();, score=0.625 total time=   1.5s\n",
      "[CV 5/5] END classifier=LogisticRegression(max_iter=1000.0, random_state=42, tol=0.001), classifier__C=1000.0, classifier__class_weight=balanced, classifier__penalty=l2, scaler=StandardScaler();, score=0.619 total time=   2.1s\n",
      "[CV 1/5] END classifier=RidgeClassifier(max_iter=1000.0, random_state=42), classifier__alpha=0.001, classifier__class_weight=None, scaler=passthrough;, score=0.583 total time=   0.2s\n",
      "[CV 2/5] END classifier=RidgeClassifier(max_iter=1000.0, random_state=42), classifier__alpha=0.001, classifier__class_weight=None, scaler=passthrough;, score=0.586 total time=   0.2s\n",
      "[CV 3/5] END classifier=RidgeClassifier(max_iter=1000.0, random_state=42), classifier__alpha=0.001, classifier__class_weight=None, scaler=passthrough;, score=0.583 total time=   0.2s\n",
      "[CV 4/5] END classifier=RidgeClassifier(max_iter=1000.0, random_state=42), classifier__alpha=0.001, classifier__class_weight=None, scaler=passthrough;, score=0.582 total time=   0.2s\n",
      "[CV 5/5] END classifier=RidgeClassifier(max_iter=1000.0, random_state=42), classifier__alpha=0.001, classifier__class_weight=None, scaler=passthrough;, score=0.576 total time=   0.2s\n",
      "[CV 1/5] END classifier=RidgeClassifier(max_iter=1000.0, random_state=42), classifier__alpha=0.001, classifier__class_weight=None, scaler=StandardScaler();, score=0.583 total time=   0.3s\n",
      "[CV 2/5] END classifier=RidgeClassifier(max_iter=1000.0, random_state=42), classifier__alpha=0.001, classifier__class_weight=None, scaler=StandardScaler();, score=0.586 total time=   0.3s\n",
      "[CV 3/5] END classifier=RidgeClassifier(max_iter=1000.0, random_state=42), classifier__alpha=0.001, classifier__class_weight=None, scaler=StandardScaler();, score=0.583 total time=   0.3s\n",
      "[CV 4/5] END classifier=RidgeClassifier(max_iter=1000.0, random_state=42), classifier__alpha=0.001, classifier__class_weight=None, scaler=StandardScaler();, score=0.582 total time=   0.3s\n",
      "[CV 5/5] END classifier=RidgeClassifier(max_iter=1000.0, random_state=42), classifier__alpha=0.001, classifier__class_weight=None, scaler=StandardScaler();, score=0.576 total time=   0.3s\n",
      "[CV 1/5] END classifier=RidgeClassifier(max_iter=1000.0, random_state=42), classifier__alpha=0.001, classifier__class_weight=balanced, scaler=passthrough;, score=0.630 total time=   0.2s\n",
      "[CV 2/5] END classifier=RidgeClassifier(max_iter=1000.0, random_state=42), classifier__alpha=0.001, classifier__class_weight=balanced, scaler=passthrough;, score=0.627 total time=   0.2s\n",
      "[CV 3/5] END classifier=RidgeClassifier(max_iter=1000.0, random_state=42), classifier__alpha=0.001, classifier__class_weight=balanced, scaler=passthrough;, score=0.624 total time=   0.2s\n",
      "[CV 4/5] END classifier=RidgeClassifier(max_iter=1000.0, random_state=42), classifier__alpha=0.001, classifier__class_weight=balanced, scaler=passthrough;, score=0.623 total time=   0.2s\n",
      "[CV 5/5] END classifier=RidgeClassifier(max_iter=1000.0, random_state=42), classifier__alpha=0.001, classifier__class_weight=balanced, scaler=passthrough;, score=0.618 total time=   0.2s\n",
      "[CV 1/5] END classifier=RidgeClassifier(max_iter=1000.0, random_state=42), classifier__alpha=0.001, classifier__class_weight=balanced, scaler=StandardScaler();, score=0.630 total time=   0.3s\n",
      "[CV 2/5] END classifier=RidgeClassifier(max_iter=1000.0, random_state=42), classifier__alpha=0.001, classifier__class_weight=balanced, scaler=StandardScaler();, score=0.627 total time=   0.3s\n",
      "[CV 3/5] END classifier=RidgeClassifier(max_iter=1000.0, random_state=42), classifier__alpha=0.001, classifier__class_weight=balanced, scaler=StandardScaler();, score=0.624 total time=   0.3s\n",
      "[CV 4/5] END classifier=RidgeClassifier(max_iter=1000.0, random_state=42), classifier__alpha=0.001, classifier__class_weight=balanced, scaler=StandardScaler();, score=0.623 total time=   0.3s\n",
      "[CV 5/5] END classifier=RidgeClassifier(max_iter=1000.0, random_state=42), classifier__alpha=0.001, classifier__class_weight=balanced, scaler=StandardScaler();, score=0.618 total time=   0.3s\n",
      "[CV 1/5] END classifier=RidgeClassifier(max_iter=1000.0, random_state=42), classifier__alpha=0.01, classifier__class_weight=None, scaler=passthrough;, score=0.582 total time=   0.2s\n",
      "[CV 2/5] END classifier=RidgeClassifier(max_iter=1000.0, random_state=42), classifier__alpha=0.01, classifier__class_weight=None, scaler=passthrough;, score=0.586 total time=   0.2s\n",
      "[CV 3/5] END classifier=RidgeClassifier(max_iter=1000.0, random_state=42), classifier__alpha=0.01, classifier__class_weight=None, scaler=passthrough;, score=0.583 total time=   0.2s\n",
      "[CV 4/5] END classifier=RidgeClassifier(max_iter=1000.0, random_state=42), classifier__alpha=0.01, classifier__class_weight=None, scaler=passthrough;, score=0.582 total time=   0.2s\n",
      "[CV 5/5] END classifier=RidgeClassifier(max_iter=1000.0, random_state=42), classifier__alpha=0.01, classifier__class_weight=None, scaler=passthrough;, score=0.576 total time=   0.2s\n",
      "[CV 1/5] END classifier=RidgeClassifier(max_iter=1000.0, random_state=42), classifier__alpha=0.01, classifier__class_weight=None, scaler=StandardScaler();, score=0.583 total time=   0.3s\n",
      "[CV 2/5] END classifier=RidgeClassifier(max_iter=1000.0, random_state=42), classifier__alpha=0.01, classifier__class_weight=None, scaler=StandardScaler();, score=0.586 total time=   0.3s\n",
      "[CV 3/5] END classifier=RidgeClassifier(max_iter=1000.0, random_state=42), classifier__alpha=0.01, classifier__class_weight=None, scaler=StandardScaler();, score=0.583 total time=   0.3s\n",
      "[CV 4/5] END classifier=RidgeClassifier(max_iter=1000.0, random_state=42), classifier__alpha=0.01, classifier__class_weight=None, scaler=StandardScaler();, score=0.582 total time=   0.3s\n",
      "[CV 5/5] END classifier=RidgeClassifier(max_iter=1000.0, random_state=42), classifier__alpha=0.01, classifier__class_weight=None, scaler=StandardScaler();, score=0.576 total time=   0.3s\n",
      "[CV 1/5] END classifier=RidgeClassifier(max_iter=1000.0, random_state=42), classifier__alpha=0.01, classifier__class_weight=balanced, scaler=passthrough;, score=0.630 total time=   0.2s\n",
      "[CV 2/5] END classifier=RidgeClassifier(max_iter=1000.0, random_state=42), classifier__alpha=0.01, classifier__class_weight=balanced, scaler=passthrough;, score=0.627 total time=   0.2s\n",
      "[CV 3/5] END classifier=RidgeClassifier(max_iter=1000.0, random_state=42), classifier__alpha=0.01, classifier__class_weight=balanced, scaler=passthrough;, score=0.624 total time=   0.2s\n",
      "[CV 4/5] END classifier=RidgeClassifier(max_iter=1000.0, random_state=42), classifier__alpha=0.01, classifier__class_weight=balanced, scaler=passthrough;, score=0.623 total time=   0.2s\n",
      "[CV 5/5] END classifier=RidgeClassifier(max_iter=1000.0, random_state=42), classifier__alpha=0.01, classifier__class_weight=balanced, scaler=passthrough;, score=0.618 total time=   0.2s\n",
      "[CV 1/5] END classifier=RidgeClassifier(max_iter=1000.0, random_state=42), classifier__alpha=0.01, classifier__class_weight=balanced, scaler=StandardScaler();, score=0.630 total time=   0.3s\n",
      "[CV 2/5] END classifier=RidgeClassifier(max_iter=1000.0, random_state=42), classifier__alpha=0.01, classifier__class_weight=balanced, scaler=StandardScaler();, score=0.627 total time=   0.3s\n"
     ]
    },
    {
     "name": "stdout",
     "output_type": "stream",
     "text": [
      "[CV 3/5] END classifier=RidgeClassifier(max_iter=1000.0, random_state=42), classifier__alpha=0.01, classifier__class_weight=balanced, scaler=StandardScaler();, score=0.624 total time=   0.3s\n",
      "[CV 4/5] END classifier=RidgeClassifier(max_iter=1000.0, random_state=42), classifier__alpha=0.01, classifier__class_weight=balanced, scaler=StandardScaler();, score=0.623 total time=   0.3s\n",
      "[CV 5/5] END classifier=RidgeClassifier(max_iter=1000.0, random_state=42), classifier__alpha=0.01, classifier__class_weight=balanced, scaler=StandardScaler();, score=0.618 total time=   0.3s\n",
      "[CV 1/5] END classifier=RidgeClassifier(max_iter=1000.0, random_state=42), classifier__alpha=0.1, classifier__class_weight=None, scaler=passthrough;, score=0.583 total time=   0.2s\n",
      "[CV 2/5] END classifier=RidgeClassifier(max_iter=1000.0, random_state=42), classifier__alpha=0.1, classifier__class_weight=None, scaler=passthrough;, score=0.586 total time=   0.2s\n",
      "[CV 3/5] END classifier=RidgeClassifier(max_iter=1000.0, random_state=42), classifier__alpha=0.1, classifier__class_weight=None, scaler=passthrough;, score=0.582 total time=   0.2s\n",
      "[CV 4/5] END classifier=RidgeClassifier(max_iter=1000.0, random_state=42), classifier__alpha=0.1, classifier__class_weight=None, scaler=passthrough;, score=0.582 total time=   0.2s\n",
      "[CV 5/5] END classifier=RidgeClassifier(max_iter=1000.0, random_state=42), classifier__alpha=0.1, classifier__class_weight=None, scaler=passthrough;, score=0.576 total time=   0.2s\n",
      "[CV 1/5] END classifier=RidgeClassifier(max_iter=1000.0, random_state=42), classifier__alpha=0.1, classifier__class_weight=None, scaler=StandardScaler();, score=0.583 total time=   0.3s\n",
      "[CV 2/5] END classifier=RidgeClassifier(max_iter=1000.0, random_state=42), classifier__alpha=0.1, classifier__class_weight=None, scaler=StandardScaler();, score=0.586 total time=   0.3s\n",
      "[CV 3/5] END classifier=RidgeClassifier(max_iter=1000.0, random_state=42), classifier__alpha=0.1, classifier__class_weight=None, scaler=StandardScaler();, score=0.583 total time=   0.3s\n",
      "[CV 4/5] END classifier=RidgeClassifier(max_iter=1000.0, random_state=42), classifier__alpha=0.1, classifier__class_weight=None, scaler=StandardScaler();, score=0.582 total time=   0.3s\n",
      "[CV 5/5] END classifier=RidgeClassifier(max_iter=1000.0, random_state=42), classifier__alpha=0.1, classifier__class_weight=None, scaler=StandardScaler();, score=0.576 total time=   0.3s\n",
      "[CV 1/5] END classifier=RidgeClassifier(max_iter=1000.0, random_state=42), classifier__alpha=0.1, classifier__class_weight=balanced, scaler=passthrough;, score=0.630 total time=   0.3s\n",
      "[CV 2/5] END classifier=RidgeClassifier(max_iter=1000.0, random_state=42), classifier__alpha=0.1, classifier__class_weight=balanced, scaler=passthrough;, score=0.627 total time=   0.2s\n",
      "[CV 3/5] END classifier=RidgeClassifier(max_iter=1000.0, random_state=42), classifier__alpha=0.1, classifier__class_weight=balanced, scaler=passthrough;, score=0.624 total time=   0.2s\n",
      "[CV 4/5] END classifier=RidgeClassifier(max_iter=1000.0, random_state=42), classifier__alpha=0.1, classifier__class_weight=balanced, scaler=passthrough;, score=0.623 total time=   0.2s\n",
      "[CV 5/5] END classifier=RidgeClassifier(max_iter=1000.0, random_state=42), classifier__alpha=0.1, classifier__class_weight=balanced, scaler=passthrough;, score=0.618 total time=   0.2s\n",
      "[CV 1/5] END classifier=RidgeClassifier(max_iter=1000.0, random_state=42), classifier__alpha=0.1, classifier__class_weight=balanced, scaler=StandardScaler();, score=0.630 total time=   0.3s\n",
      "[CV 2/5] END classifier=RidgeClassifier(max_iter=1000.0, random_state=42), classifier__alpha=0.1, classifier__class_weight=balanced, scaler=StandardScaler();, score=0.627 total time=   0.3s\n",
      "[CV 3/5] END classifier=RidgeClassifier(max_iter=1000.0, random_state=42), classifier__alpha=0.1, classifier__class_weight=balanced, scaler=StandardScaler();, score=0.624 total time=   0.3s\n",
      "[CV 4/5] END classifier=RidgeClassifier(max_iter=1000.0, random_state=42), classifier__alpha=0.1, classifier__class_weight=balanced, scaler=StandardScaler();, score=0.623 total time=   0.3s\n",
      "[CV 5/5] END classifier=RidgeClassifier(max_iter=1000.0, random_state=42), classifier__alpha=0.1, classifier__class_weight=balanced, scaler=StandardScaler();, score=0.618 total time=   0.3s\n",
      "[CV 1/5] END classifier=RidgeClassifier(max_iter=1000.0, random_state=42), classifier__alpha=1.0, classifier__class_weight=None, scaler=passthrough;, score=0.583 total time=   0.2s\n",
      "[CV 2/5] END classifier=RidgeClassifier(max_iter=1000.0, random_state=42), classifier__alpha=1.0, classifier__class_weight=None, scaler=passthrough;, score=0.586 total time=   0.2s\n",
      "[CV 3/5] END classifier=RidgeClassifier(max_iter=1000.0, random_state=42), classifier__alpha=1.0, classifier__class_weight=None, scaler=passthrough;, score=0.583 total time=   0.2s\n",
      "[CV 4/5] END classifier=RidgeClassifier(max_iter=1000.0, random_state=42), classifier__alpha=1.0, classifier__class_weight=None, scaler=passthrough;, score=0.582 total time=   0.2s\n",
      "[CV 5/5] END classifier=RidgeClassifier(max_iter=1000.0, random_state=42), classifier__alpha=1.0, classifier__class_weight=None, scaler=passthrough;, score=0.576 total time=   0.2s\n",
      "[CV 1/5] END classifier=RidgeClassifier(max_iter=1000.0, random_state=42), classifier__alpha=1.0, classifier__class_weight=None, scaler=StandardScaler();, score=0.583 total time=   0.3s\n",
      "[CV 2/5] END classifier=RidgeClassifier(max_iter=1000.0, random_state=42), classifier__alpha=1.0, classifier__class_weight=None, scaler=StandardScaler();, score=0.586 total time=   0.3s\n",
      "[CV 3/5] END classifier=RidgeClassifier(max_iter=1000.0, random_state=42), classifier__alpha=1.0, classifier__class_weight=None, scaler=StandardScaler();, score=0.583 total time=   0.3s\n",
      "[CV 4/5] END classifier=RidgeClassifier(max_iter=1000.0, random_state=42), classifier__alpha=1.0, classifier__class_weight=None, scaler=StandardScaler();, score=0.582 total time=   0.3s\n",
      "[CV 5/5] END classifier=RidgeClassifier(max_iter=1000.0, random_state=42), classifier__alpha=1.0, classifier__class_weight=None, scaler=StandardScaler();, score=0.576 total time=   0.3s\n",
      "[CV 1/5] END classifier=RidgeClassifier(max_iter=1000.0, random_state=42), classifier__alpha=1.0, classifier__class_weight=balanced, scaler=passthrough;, score=0.630 total time=   0.2s\n",
      "[CV 2/5] END classifier=RidgeClassifier(max_iter=1000.0, random_state=42), classifier__alpha=1.0, classifier__class_weight=balanced, scaler=passthrough;, score=0.627 total time=   0.2s\n",
      "[CV 3/5] END classifier=RidgeClassifier(max_iter=1000.0, random_state=42), classifier__alpha=1.0, classifier__class_weight=balanced, scaler=passthrough;, score=0.624 total time=   0.2s\n",
      "[CV 4/5] END classifier=RidgeClassifier(max_iter=1000.0, random_state=42), classifier__alpha=1.0, classifier__class_weight=balanced, scaler=passthrough;, score=0.624 total time=   0.2s\n",
      "[CV 5/5] END classifier=RidgeClassifier(max_iter=1000.0, random_state=42), classifier__alpha=1.0, classifier__class_weight=balanced, scaler=passthrough;, score=0.618 total time=   0.2s\n",
      "[CV 1/5] END classifier=RidgeClassifier(max_iter=1000.0, random_state=42), classifier__alpha=1.0, classifier__class_weight=balanced, scaler=StandardScaler();, score=0.630 total time=   0.3s\n",
      "[CV 2/5] END classifier=RidgeClassifier(max_iter=1000.0, random_state=42), classifier__alpha=1.0, classifier__class_weight=balanced, scaler=StandardScaler();, score=0.627 total time=   0.3s\n",
      "[CV 3/5] END classifier=RidgeClassifier(max_iter=1000.0, random_state=42), classifier__alpha=1.0, classifier__class_weight=balanced, scaler=StandardScaler();, score=0.624 total time=   0.3s\n",
      "[CV 4/5] END classifier=RidgeClassifier(max_iter=1000.0, random_state=42), classifier__alpha=1.0, classifier__class_weight=balanced, scaler=StandardScaler();, score=0.623 total time=   0.3s\n",
      "[CV 5/5] END classifier=RidgeClassifier(max_iter=1000.0, random_state=42), classifier__alpha=1.0, classifier__class_weight=balanced, scaler=StandardScaler();, score=0.618 total time=   0.3s\n",
      "[CV 1/5] END classifier=RidgeClassifier(max_iter=1000.0, random_state=42), classifier__alpha=10.0, classifier__class_weight=None, scaler=passthrough;, score=0.583 total time=   0.2s\n",
      "[CV 2/5] END classifier=RidgeClassifier(max_iter=1000.0, random_state=42), classifier__alpha=10.0, classifier__class_weight=None, scaler=passthrough;, score=0.586 total time=   0.2s\n"
     ]
    },
    {
     "name": "stdout",
     "output_type": "stream",
     "text": [
      "[CV 3/5] END classifier=RidgeClassifier(max_iter=1000.0, random_state=42), classifier__alpha=10.0, classifier__class_weight=None, scaler=passthrough;, score=0.582 total time=   0.2s\n",
      "[CV 4/5] END classifier=RidgeClassifier(max_iter=1000.0, random_state=42), classifier__alpha=10.0, classifier__class_weight=None, scaler=passthrough;, score=0.582 total time=   0.2s\n",
      "[CV 5/5] END classifier=RidgeClassifier(max_iter=1000.0, random_state=42), classifier__alpha=10.0, classifier__class_weight=None, scaler=passthrough;, score=0.575 total time=   0.2s\n",
      "[CV 1/5] END classifier=RidgeClassifier(max_iter=1000.0, random_state=42), classifier__alpha=10.0, classifier__class_weight=None, scaler=StandardScaler();, score=0.583 total time=   0.3s\n",
      "[CV 2/5] END classifier=RidgeClassifier(max_iter=1000.0, random_state=42), classifier__alpha=10.0, classifier__class_weight=None, scaler=StandardScaler();, score=0.586 total time=   0.3s\n",
      "[CV 3/5] END classifier=RidgeClassifier(max_iter=1000.0, random_state=42), classifier__alpha=10.0, classifier__class_weight=None, scaler=StandardScaler();, score=0.583 total time=   0.3s\n",
      "[CV 4/5] END classifier=RidgeClassifier(max_iter=1000.0, random_state=42), classifier__alpha=10.0, classifier__class_weight=None, scaler=StandardScaler();, score=0.582 total time=   0.3s\n",
      "[CV 5/5] END classifier=RidgeClassifier(max_iter=1000.0, random_state=42), classifier__alpha=10.0, classifier__class_weight=None, scaler=StandardScaler();, score=0.576 total time=   0.3s\n",
      "[CV 1/5] END classifier=RidgeClassifier(max_iter=1000.0, random_state=42), classifier__alpha=10.0, classifier__class_weight=balanced, scaler=passthrough;, score=0.630 total time=   0.2s\n",
      "[CV 2/5] END classifier=RidgeClassifier(max_iter=1000.0, random_state=42), classifier__alpha=10.0, classifier__class_weight=balanced, scaler=passthrough;, score=0.628 total time=   0.2s\n",
      "[CV 3/5] END classifier=RidgeClassifier(max_iter=1000.0, random_state=42), classifier__alpha=10.0, classifier__class_weight=balanced, scaler=passthrough;, score=0.625 total time=   0.2s\n",
      "[CV 4/5] END classifier=RidgeClassifier(max_iter=1000.0, random_state=42), classifier__alpha=10.0, classifier__class_weight=balanced, scaler=passthrough;, score=0.624 total time=   0.2s\n",
      "[CV 5/5] END classifier=RidgeClassifier(max_iter=1000.0, random_state=42), classifier__alpha=10.0, classifier__class_weight=balanced, scaler=passthrough;, score=0.618 total time=   0.2s\n",
      "[CV 1/5] END classifier=RidgeClassifier(max_iter=1000.0, random_state=42), classifier__alpha=10.0, classifier__class_weight=balanced, scaler=StandardScaler();, score=0.630 total time=   0.3s\n",
      "[CV 2/5] END classifier=RidgeClassifier(max_iter=1000.0, random_state=42), classifier__alpha=10.0, classifier__class_weight=balanced, scaler=StandardScaler();, score=0.627 total time=   0.3s\n",
      "[CV 3/5] END classifier=RidgeClassifier(max_iter=1000.0, random_state=42), classifier__alpha=10.0, classifier__class_weight=balanced, scaler=StandardScaler();, score=0.624 total time=   0.3s\n",
      "[CV 4/5] END classifier=RidgeClassifier(max_iter=1000.0, random_state=42), classifier__alpha=10.0, classifier__class_weight=balanced, scaler=StandardScaler();, score=0.623 total time=   0.3s\n",
      "[CV 5/5] END classifier=RidgeClassifier(max_iter=1000.0, random_state=42), classifier__alpha=10.0, classifier__class_weight=balanced, scaler=StandardScaler();, score=0.618 total time=   0.3s\n",
      "[CV 1/5] END classifier=RidgeClassifier(max_iter=1000.0, random_state=42), classifier__alpha=100.0, classifier__class_weight=None, scaler=passthrough;, score=0.583 total time=   0.2s\n",
      "[CV 2/5] END classifier=RidgeClassifier(max_iter=1000.0, random_state=42), classifier__alpha=100.0, classifier__class_weight=None, scaler=passthrough;, score=0.587 total time=   0.2s\n",
      "[CV 3/5] END classifier=RidgeClassifier(max_iter=1000.0, random_state=42), classifier__alpha=100.0, classifier__class_weight=None, scaler=passthrough;, score=0.582 total time=   0.2s\n",
      "[CV 4/5] END classifier=RidgeClassifier(max_iter=1000.0, random_state=42), classifier__alpha=100.0, classifier__class_weight=None, scaler=passthrough;, score=0.581 total time=   0.2s\n",
      "[CV 5/5] END classifier=RidgeClassifier(max_iter=1000.0, random_state=42), classifier__alpha=100.0, classifier__class_weight=None, scaler=passthrough;, score=0.575 total time=   0.2s\n",
      "[CV 1/5] END classifier=RidgeClassifier(max_iter=1000.0, random_state=42), classifier__alpha=100.0, classifier__class_weight=None, scaler=StandardScaler();, score=0.582 total time=   0.3s\n",
      "[CV 2/5] END classifier=RidgeClassifier(max_iter=1000.0, random_state=42), classifier__alpha=100.0, classifier__class_weight=None, scaler=StandardScaler();, score=0.586 total time=   0.3s\n",
      "[CV 3/5] END classifier=RidgeClassifier(max_iter=1000.0, random_state=42), classifier__alpha=100.0, classifier__class_weight=None, scaler=StandardScaler();, score=0.582 total time=   0.3s\n",
      "[CV 4/5] END classifier=RidgeClassifier(max_iter=1000.0, random_state=42), classifier__alpha=100.0, classifier__class_weight=None, scaler=StandardScaler();, score=0.581 total time=   0.3s\n",
      "[CV 5/5] END classifier=RidgeClassifier(max_iter=1000.0, random_state=42), classifier__alpha=100.0, classifier__class_weight=None, scaler=StandardScaler();, score=0.575 total time=   0.3s\n",
      "[CV 1/5] END classifier=RidgeClassifier(max_iter=1000.0, random_state=42), classifier__alpha=100.0, classifier__class_weight=balanced, scaler=passthrough;, score=0.630 total time=   0.2s\n",
      "[CV 2/5] END classifier=RidgeClassifier(max_iter=1000.0, random_state=42), classifier__alpha=100.0, classifier__class_weight=balanced, scaler=passthrough;, score=0.628 total time=   0.2s\n",
      "[CV 3/5] END classifier=RidgeClassifier(max_iter=1000.0, random_state=42), classifier__alpha=100.0, classifier__class_weight=balanced, scaler=passthrough;, score=0.625 total time=   0.2s\n",
      "[CV 4/5] END classifier=RidgeClassifier(max_iter=1000.0, random_state=42), classifier__alpha=100.0, classifier__class_weight=balanced, scaler=passthrough;, score=0.624 total time=   0.2s\n",
      "[CV 5/5] END classifier=RidgeClassifier(max_iter=1000.0, random_state=42), classifier__alpha=100.0, classifier__class_weight=balanced, scaler=passthrough;, score=0.618 total time=   0.2s\n",
      "[CV 1/5] END classifier=RidgeClassifier(max_iter=1000.0, random_state=42), classifier__alpha=100.0, classifier__class_weight=balanced, scaler=StandardScaler();, score=0.630 total time=   0.3s\n",
      "[CV 2/5] END classifier=RidgeClassifier(max_iter=1000.0, random_state=42), classifier__alpha=100.0, classifier__class_weight=balanced, scaler=StandardScaler();, score=0.627 total time=   0.3s\n",
      "[CV 3/5] END classifier=RidgeClassifier(max_iter=1000.0, random_state=42), classifier__alpha=100.0, classifier__class_weight=balanced, scaler=StandardScaler();, score=0.624 total time=   0.3s\n",
      "[CV 4/5] END classifier=RidgeClassifier(max_iter=1000.0, random_state=42), classifier__alpha=100.0, classifier__class_weight=balanced, scaler=StandardScaler();, score=0.624 total time=   0.3s\n",
      "[CV 5/5] END classifier=RidgeClassifier(max_iter=1000.0, random_state=42), classifier__alpha=100.0, classifier__class_weight=balanced, scaler=StandardScaler();, score=0.618 total time=   0.3s\n",
      "[CV 1/5] END classifier=RidgeClassifier(max_iter=1000.0, random_state=42), classifier__alpha=1000.0, classifier__class_weight=None, scaler=passthrough;, score=0.582 total time=   0.2s\n",
      "[CV 2/5] END classifier=RidgeClassifier(max_iter=1000.0, random_state=42), classifier__alpha=1000.0, classifier__class_weight=None, scaler=passthrough;, score=0.586 total time=   0.2s\n",
      "[CV 3/5] END classifier=RidgeClassifier(max_iter=1000.0, random_state=42), classifier__alpha=1000.0, classifier__class_weight=None, scaler=passthrough;, score=0.581 total time=   0.2s\n",
      "[CV 4/5] END classifier=RidgeClassifier(max_iter=1000.0, random_state=42), classifier__alpha=1000.0, classifier__class_weight=None, scaler=passthrough;, score=0.581 total time=   0.2s\n",
      "[CV 5/5] END classifier=RidgeClassifier(max_iter=1000.0, random_state=42), classifier__alpha=1000.0, classifier__class_weight=None, scaler=passthrough;, score=0.575 total time=   0.2s\n",
      "[CV 1/5] END classifier=RidgeClassifier(max_iter=1000.0, random_state=42), classifier__alpha=1000.0, classifier__class_weight=None, scaler=StandardScaler();, score=0.581 total time=   0.3s\n"
     ]
    },
    {
     "name": "stdout",
     "output_type": "stream",
     "text": [
      "[CV 2/5] END classifier=RidgeClassifier(max_iter=1000.0, random_state=42), classifier__alpha=1000.0, classifier__class_weight=None, scaler=StandardScaler();, score=0.585 total time=   0.3s\n",
      "[CV 3/5] END classifier=RidgeClassifier(max_iter=1000.0, random_state=42), classifier__alpha=1000.0, classifier__class_weight=None, scaler=StandardScaler();, score=0.581 total time=   0.3s\n",
      "[CV 4/5] END classifier=RidgeClassifier(max_iter=1000.0, random_state=42), classifier__alpha=1000.0, classifier__class_weight=None, scaler=StandardScaler();, score=0.580 total time=   0.3s\n",
      "[CV 5/5] END classifier=RidgeClassifier(max_iter=1000.0, random_state=42), classifier__alpha=1000.0, classifier__class_weight=None, scaler=StandardScaler();, score=0.574 total time=   0.3s\n",
      "[CV 1/5] END classifier=RidgeClassifier(max_iter=1000.0, random_state=42), classifier__alpha=1000.0, classifier__class_weight=balanced, scaler=passthrough;, score=0.629 total time=   0.2s\n",
      "[CV 2/5] END classifier=RidgeClassifier(max_iter=1000.0, random_state=42), classifier__alpha=1000.0, classifier__class_weight=balanced, scaler=passthrough;, score=0.628 total time=   0.2s\n",
      "[CV 3/5] END classifier=RidgeClassifier(max_iter=1000.0, random_state=42), classifier__alpha=1000.0, classifier__class_weight=balanced, scaler=passthrough;, score=0.625 total time=   0.2s\n",
      "[CV 4/5] END classifier=RidgeClassifier(max_iter=1000.0, random_state=42), classifier__alpha=1000.0, classifier__class_weight=balanced, scaler=passthrough;, score=0.624 total time=   0.2s\n",
      "[CV 5/5] END classifier=RidgeClassifier(max_iter=1000.0, random_state=42), classifier__alpha=1000.0, classifier__class_weight=balanced, scaler=passthrough;, score=0.618 total time=   0.2s\n",
      "[CV 1/5] END classifier=RidgeClassifier(max_iter=1000.0, random_state=42), classifier__alpha=1000.0, classifier__class_weight=balanced, scaler=StandardScaler();, score=0.629 total time=   0.3s\n",
      "[CV 2/5] END classifier=RidgeClassifier(max_iter=1000.0, random_state=42), classifier__alpha=1000.0, classifier__class_weight=balanced, scaler=StandardScaler();, score=0.628 total time=   0.3s\n",
      "[CV 3/5] END classifier=RidgeClassifier(max_iter=1000.0, random_state=42), classifier__alpha=1000.0, classifier__class_weight=balanced, scaler=StandardScaler();, score=0.624 total time=   0.3s\n",
      "[CV 4/5] END classifier=RidgeClassifier(max_iter=1000.0, random_state=42), classifier__alpha=1000.0, classifier__class_weight=balanced, scaler=StandardScaler();, score=0.623 total time=   0.3s\n",
      "[CV 5/5] END classifier=RidgeClassifier(max_iter=1000.0, random_state=42), classifier__alpha=1000.0, classifier__class_weight=balanced, scaler=StandardScaler();, score=0.618 total time=   0.3s\n",
      "[CV 1/5] END classifier=LinearSVC(max_iter=1000.0, random_state=42, tol=0.001), classifier__C=0.001, classifier__class_weight=None, classifier__penalty=l1, scaler=passthrough;, score=nan total time=   0.1s\n",
      "[CV 2/5] END classifier=LinearSVC(max_iter=1000.0, random_state=42, tol=0.001), classifier__C=0.001, classifier__class_weight=None, classifier__penalty=l1, scaler=passthrough;, score=nan total time=   0.0s\n",
      "[CV 3/5] END classifier=LinearSVC(max_iter=1000.0, random_state=42, tol=0.001), classifier__C=0.001, classifier__class_weight=None, classifier__penalty=l1, scaler=passthrough;, score=nan total time=   0.1s\n",
      "[CV 4/5] END classifier=LinearSVC(max_iter=1000.0, random_state=42, tol=0.001), classifier__C=0.001, classifier__class_weight=None, classifier__penalty=l1, scaler=passthrough;, score=nan total time=   0.0s\n",
      "[CV 5/5] END classifier=LinearSVC(max_iter=1000.0, random_state=42, tol=0.001), classifier__C=0.001, classifier__class_weight=None, classifier__penalty=l1, scaler=passthrough;, score=nan total time=   0.0s\n",
      "[CV 1/5] END classifier=LinearSVC(max_iter=1000.0, random_state=42, tol=0.001), classifier__C=0.001, classifier__class_weight=None, classifier__penalty=l1, scaler=StandardScaler();, score=nan total time=   0.2s\n",
      "[CV 2/5] END classifier=LinearSVC(max_iter=1000.0, random_state=42, tol=0.001), classifier__C=0.001, classifier__class_weight=None, classifier__penalty=l1, scaler=StandardScaler();, score=nan total time=   0.2s\n",
      "[CV 3/5] END classifier=LinearSVC(max_iter=1000.0, random_state=42, tol=0.001), classifier__C=0.001, classifier__class_weight=None, classifier__penalty=l1, scaler=StandardScaler();, score=nan total time=   0.2s\n",
      "[CV 4/5] END classifier=LinearSVC(max_iter=1000.0, random_state=42, tol=0.001), classifier__C=0.001, classifier__class_weight=None, classifier__penalty=l1, scaler=StandardScaler();, score=nan total time=   0.2s\n",
      "[CV 5/5] END classifier=LinearSVC(max_iter=1000.0, random_state=42, tol=0.001), classifier__C=0.001, classifier__class_weight=None, classifier__penalty=l1, scaler=StandardScaler();, score=nan total time=   0.2s\n",
      "[CV 1/5] END classifier=LinearSVC(max_iter=1000.0, random_state=42, tol=0.001), classifier__C=0.001, classifier__class_weight=None, classifier__penalty=l2, scaler=passthrough;, score=0.584 total time=   0.6s\n",
      "[CV 2/5] END classifier=LinearSVC(max_iter=1000.0, random_state=42, tol=0.001), classifier__C=0.001, classifier__class_weight=None, classifier__penalty=l2, scaler=passthrough;, score=0.587 total time=   0.7s\n",
      "[CV 3/5] END classifier=LinearSVC(max_iter=1000.0, random_state=42, tol=0.001), classifier__C=0.001, classifier__class_weight=None, classifier__penalty=l2, scaler=passthrough;, score=0.583 total time=   0.7s\n",
      "[CV 4/5] END classifier=LinearSVC(max_iter=1000.0, random_state=42, tol=0.001), classifier__C=0.001, classifier__class_weight=None, classifier__penalty=l2, scaler=passthrough;, score=0.583 total time=   0.7s\n",
      "[CV 5/5] END classifier=LinearSVC(max_iter=1000.0, random_state=42, tol=0.001), classifier__C=0.001, classifier__class_weight=None, classifier__penalty=l2, scaler=passthrough;, score=0.576 total time=   0.6s\n",
      "[CV 1/5] END classifier=LinearSVC(max_iter=1000.0, random_state=42, tol=0.001), classifier__C=0.001, classifier__class_weight=None, classifier__penalty=l2, scaler=StandardScaler();, score=0.584 total time=  17.5s\n",
      "[CV 2/5] END classifier=LinearSVC(max_iter=1000.0, random_state=42, tol=0.001), classifier__C=0.001, classifier__class_weight=None, classifier__penalty=l2, scaler=StandardScaler();, score=0.587 total time=  13.2s\n",
      "[CV 3/5] END classifier=LinearSVC(max_iter=1000.0, random_state=42, tol=0.001), classifier__C=0.001, classifier__class_weight=None, classifier__penalty=l2, scaler=StandardScaler();, score=0.583 total time=  12.3s\n",
      "[CV 4/5] END classifier=LinearSVC(max_iter=1000.0, random_state=42, tol=0.001), classifier__C=0.001, classifier__class_weight=None, classifier__penalty=l2, scaler=StandardScaler();, score=0.584 total time=  16.5s\n",
      "[CV 5/5] END classifier=LinearSVC(max_iter=1000.0, random_state=42, tol=0.001), classifier__C=0.001, classifier__class_weight=None, classifier__penalty=l2, scaler=StandardScaler();, score=0.577 total time=  22.3s\n",
      "[CV 1/5] END classifier=LinearSVC(max_iter=1000.0, random_state=42, tol=0.001), classifier__C=0.001, classifier__class_weight=balanced, classifier__penalty=l1, scaler=passthrough;, score=nan total time=   0.1s\n",
      "[CV 2/5] END classifier=LinearSVC(max_iter=1000.0, random_state=42, tol=0.001), classifier__C=0.001, classifier__class_weight=balanced, classifier__penalty=l1, scaler=passthrough;, score=nan total time=   0.1s\n",
      "[CV 3/5] END classifier=LinearSVC(max_iter=1000.0, random_state=42, tol=0.001), classifier__C=0.001, classifier__class_weight=balanced, classifier__penalty=l1, scaler=passthrough;, score=nan total time=   0.0s\n",
      "[CV 4/5] END classifier=LinearSVC(max_iter=1000.0, random_state=42, tol=0.001), classifier__C=0.001, classifier__class_weight=balanced, classifier__penalty=l1, scaler=passthrough;, score=nan total time=   0.0s\n",
      "[CV 5/5] END classifier=LinearSVC(max_iter=1000.0, random_state=42, tol=0.001), classifier__C=0.001, classifier__class_weight=balanced, classifier__penalty=l1, scaler=passthrough;, score=nan total time=   0.1s\n",
      "[CV 1/5] END classifier=LinearSVC(max_iter=1000.0, random_state=42, tol=0.001), classifier__C=0.001, classifier__class_weight=balanced, classifier__penalty=l1, scaler=StandardScaler();, score=nan total time=   0.2s\n",
      "[CV 2/5] END classifier=LinearSVC(max_iter=1000.0, random_state=42, tol=0.001), classifier__C=0.001, classifier__class_weight=balanced, classifier__penalty=l1, scaler=StandardScaler();, score=nan total time=   0.2s\n"
     ]
    },
    {
     "name": "stdout",
     "output_type": "stream",
     "text": [
      "[CV 3/5] END classifier=LinearSVC(max_iter=1000.0, random_state=42, tol=0.001), classifier__C=0.001, classifier__class_weight=balanced, classifier__penalty=l1, scaler=StandardScaler();, score=nan total time=   0.2s\n",
      "[CV 4/5] END classifier=LinearSVC(max_iter=1000.0, random_state=42, tol=0.001), classifier__C=0.001, classifier__class_weight=balanced, classifier__penalty=l1, scaler=StandardScaler();, score=nan total time=   0.2s\n",
      "[CV 5/5] END classifier=LinearSVC(max_iter=1000.0, random_state=42, tol=0.001), classifier__C=0.001, classifier__class_weight=balanced, classifier__penalty=l1, scaler=StandardScaler();, score=nan total time=   0.2s\n",
      "[CV 1/5] END classifier=LinearSVC(max_iter=1000.0, random_state=42, tol=0.001), classifier__C=0.001, classifier__class_weight=balanced, classifier__penalty=l2, scaler=passthrough;, score=0.630 total time=   0.9s\n",
      "[CV 2/5] END classifier=LinearSVC(max_iter=1000.0, random_state=42, tol=0.001), classifier__C=0.001, classifier__class_weight=balanced, classifier__penalty=l2, scaler=passthrough;, score=0.627 total time=   0.9s\n",
      "[CV 3/5] END classifier=LinearSVC(max_iter=1000.0, random_state=42, tol=0.001), classifier__C=0.001, classifier__class_weight=balanced, classifier__penalty=l2, scaler=passthrough;, score=0.625 total time=   0.9s\n",
      "[CV 4/5] END classifier=LinearSVC(max_iter=1000.0, random_state=42, tol=0.001), classifier__C=0.001, classifier__class_weight=balanced, classifier__penalty=l2, scaler=passthrough;, score=0.625 total time=   1.0s\n",
      "[CV 5/5] END classifier=LinearSVC(max_iter=1000.0, random_state=42, tol=0.001), classifier__C=0.001, classifier__class_weight=balanced, classifier__penalty=l2, scaler=passthrough;, score=0.618 total time=   0.9s\n",
      "[CV 1/5] END classifier=LinearSVC(max_iter=1000.0, random_state=42, tol=0.001), classifier__C=0.001, classifier__class_weight=balanced, classifier__penalty=l2, scaler=StandardScaler();, score=0.630 total time=  13.1s\n",
      "[CV 2/5] END classifier=LinearSVC(max_iter=1000.0, random_state=42, tol=0.001), classifier__C=0.001, classifier__class_weight=balanced, classifier__penalty=l2, scaler=StandardScaler();, score=0.627 total time=  13.7s\n",
      "[CV 3/5] END classifier=LinearSVC(max_iter=1000.0, random_state=42, tol=0.001), classifier__C=0.001, classifier__class_weight=balanced, classifier__penalty=l2, scaler=StandardScaler();, score=0.624 total time=  15.7s\n",
      "[CV 4/5] END classifier=LinearSVC(max_iter=1000.0, random_state=42, tol=0.001), classifier__C=0.001, classifier__class_weight=balanced, classifier__penalty=l2, scaler=StandardScaler();, score=0.624 total time=  19.9s\n",
      "[CV 5/5] END classifier=LinearSVC(max_iter=1000.0, random_state=42, tol=0.001), classifier__C=0.001, classifier__class_weight=balanced, classifier__penalty=l2, scaler=StandardScaler();, score=0.618 total time=  23.1s\n",
      "[CV 1/5] END classifier=LinearSVC(max_iter=1000.0, random_state=42, tol=0.001), classifier__C=0.01, classifier__class_weight=None, classifier__penalty=l1, scaler=passthrough;, score=nan total time=   0.1s\n",
      "[CV 2/5] END classifier=LinearSVC(max_iter=1000.0, random_state=42, tol=0.001), classifier__C=0.01, classifier__class_weight=None, classifier__penalty=l1, scaler=passthrough;, score=nan total time=   0.1s\n",
      "[CV 3/5] END classifier=LinearSVC(max_iter=1000.0, random_state=42, tol=0.001), classifier__C=0.01, classifier__class_weight=None, classifier__penalty=l1, scaler=passthrough;, score=nan total time=   0.0s\n",
      "[CV 4/5] END classifier=LinearSVC(max_iter=1000.0, random_state=42, tol=0.001), classifier__C=0.01, classifier__class_weight=None, classifier__penalty=l1, scaler=passthrough;, score=nan total time=   0.0s\n",
      "[CV 5/5] END classifier=LinearSVC(max_iter=1000.0, random_state=42, tol=0.001), classifier__C=0.01, classifier__class_weight=None, classifier__penalty=l1, scaler=passthrough;, score=nan total time=   0.1s\n",
      "[CV 1/5] END classifier=LinearSVC(max_iter=1000.0, random_state=42, tol=0.001), classifier__C=0.01, classifier__class_weight=None, classifier__penalty=l1, scaler=StandardScaler();, score=nan total time=   0.2s\n",
      "[CV 2/5] END classifier=LinearSVC(max_iter=1000.0, random_state=42, tol=0.001), classifier__C=0.01, classifier__class_weight=None, classifier__penalty=l1, scaler=StandardScaler();, score=nan total time=   0.2s\n",
      "[CV 3/5] END classifier=LinearSVC(max_iter=1000.0, random_state=42, tol=0.001), classifier__C=0.01, classifier__class_weight=None, classifier__penalty=l1, scaler=StandardScaler();, score=nan total time=   0.2s\n",
      "[CV 4/5] END classifier=LinearSVC(max_iter=1000.0, random_state=42, tol=0.001), classifier__C=0.01, classifier__class_weight=None, classifier__penalty=l1, scaler=StandardScaler();, score=nan total time=   0.2s\n",
      "[CV 5/5] END classifier=LinearSVC(max_iter=1000.0, random_state=42, tol=0.001), classifier__C=0.01, classifier__class_weight=None, classifier__penalty=l1, scaler=StandardScaler();, score=nan total time=   0.2s\n"
     ]
    },
    {
     "name": "stderr",
     "output_type": "stream",
     "text": [
      "/home/felipe/anaconda3/envs/segmentator/lib/python3.7/site-packages/sklearn/svm/_base.py:1208: ConvergenceWarning: Liblinear failed to converge, increase the number of iterations.\n",
      "  ConvergenceWarning,\n"
     ]
    },
    {
     "name": "stdout",
     "output_type": "stream",
     "text": [
      "[CV 1/5] END classifier=LinearSVC(max_iter=1000.0, random_state=42, tol=0.001), classifier__C=0.01, classifier__class_weight=None, classifier__penalty=l2, scaler=passthrough;, score=0.584 total time=   4.0s\n"
     ]
    },
    {
     "name": "stderr",
     "output_type": "stream",
     "text": [
      "/home/felipe/anaconda3/envs/segmentator/lib/python3.7/site-packages/sklearn/svm/_base.py:1208: ConvergenceWarning: Liblinear failed to converge, increase the number of iterations.\n",
      "  ConvergenceWarning,\n"
     ]
    },
    {
     "name": "stdout",
     "output_type": "stream",
     "text": [
      "[CV 2/5] END classifier=LinearSVC(max_iter=1000.0, random_state=42, tol=0.001), classifier__C=0.01, classifier__class_weight=None, classifier__penalty=l2, scaler=passthrough;, score=0.587 total time=   4.0s\n"
     ]
    },
    {
     "name": "stderr",
     "output_type": "stream",
     "text": [
      "/home/felipe/anaconda3/envs/segmentator/lib/python3.7/site-packages/sklearn/svm/_base.py:1208: ConvergenceWarning: Liblinear failed to converge, increase the number of iterations.\n",
      "  ConvergenceWarning,\n"
     ]
    },
    {
     "name": "stdout",
     "output_type": "stream",
     "text": [
      "[CV 3/5] END classifier=LinearSVC(max_iter=1000.0, random_state=42, tol=0.001), classifier__C=0.01, classifier__class_weight=None, classifier__penalty=l2, scaler=passthrough;, score=0.583 total time=   3.9s\n"
     ]
    },
    {
     "name": "stderr",
     "output_type": "stream",
     "text": [
      "/home/felipe/anaconda3/envs/segmentator/lib/python3.7/site-packages/sklearn/svm/_base.py:1208: ConvergenceWarning: Liblinear failed to converge, increase the number of iterations.\n",
      "  ConvergenceWarning,\n"
     ]
    },
    {
     "name": "stdout",
     "output_type": "stream",
     "text": [
      "[CV 4/5] END classifier=LinearSVC(max_iter=1000.0, random_state=42, tol=0.001), classifier__C=0.01, classifier__class_weight=None, classifier__penalty=l2, scaler=passthrough;, score=0.584 total time=   3.9s\n"
     ]
    },
    {
     "name": "stderr",
     "output_type": "stream",
     "text": [
      "/home/felipe/anaconda3/envs/segmentator/lib/python3.7/site-packages/sklearn/svm/_base.py:1208: ConvergenceWarning: Liblinear failed to converge, increase the number of iterations.\n",
      "  ConvergenceWarning,\n"
     ]
    },
    {
     "name": "stdout",
     "output_type": "stream",
     "text": [
      "[CV 5/5] END classifier=LinearSVC(max_iter=1000.0, random_state=42, tol=0.001), classifier__C=0.01, classifier__class_weight=None, classifier__penalty=l2, scaler=passthrough;, score=0.576 total time=   4.1s\n"
     ]
    },
    {
     "name": "stderr",
     "output_type": "stream",
     "text": [
      "/home/felipe/anaconda3/envs/segmentator/lib/python3.7/site-packages/sklearn/svm/_base.py:1208: ConvergenceWarning: Liblinear failed to converge, increase the number of iterations.\n",
      "  ConvergenceWarning,\n"
     ]
    },
    {
     "name": "stdout",
     "output_type": "stream",
     "text": [
      "[CV 1/5] END classifier=LinearSVC(max_iter=1000.0, random_state=42, tol=0.001), classifier__C=0.01, classifier__class_weight=None, classifier__penalty=l2, scaler=StandardScaler();, score=0.584 total time=  32.4s\n"
     ]
    },
    {
     "name": "stderr",
     "output_type": "stream",
     "text": [
      "/home/felipe/anaconda3/envs/segmentator/lib/python3.7/site-packages/sklearn/svm/_base.py:1208: ConvergenceWarning: Liblinear failed to converge, increase the number of iterations.\n",
      "  ConvergenceWarning,\n"
     ]
    },
    {
     "name": "stdout",
     "output_type": "stream",
     "text": [
      "[CV 2/5] END classifier=LinearSVC(max_iter=1000.0, random_state=42, tol=0.001), classifier__C=0.01, classifier__class_weight=None, classifier__penalty=l2, scaler=StandardScaler();, score=0.587 total time=  32.4s\n"
     ]
    },
    {
     "name": "stderr",
     "output_type": "stream",
     "text": [
      "/home/felipe/anaconda3/envs/segmentator/lib/python3.7/site-packages/sklearn/svm/_base.py:1208: ConvergenceWarning: Liblinear failed to converge, increase the number of iterations.\n",
      "  ConvergenceWarning,\n"
     ]
    },
    {
     "name": "stdout",
     "output_type": "stream",
     "text": [
      "[CV 3/5] END classifier=LinearSVC(max_iter=1000.0, random_state=42, tol=0.001), classifier__C=0.01, classifier__class_weight=None, classifier__penalty=l2, scaler=StandardScaler();, score=0.583 total time=  32.8s\n"
     ]
    },
    {
     "name": "stderr",
     "output_type": "stream",
     "text": [
      "/home/felipe/anaconda3/envs/segmentator/lib/python3.7/site-packages/sklearn/svm/_base.py:1208: ConvergenceWarning: Liblinear failed to converge, increase the number of iterations.\n",
      "  ConvergenceWarning,\n"
     ]
    },
    {
     "name": "stdout",
     "output_type": "stream",
     "text": [
      "[CV 4/5] END classifier=LinearSVC(max_iter=1000.0, random_state=42, tol=0.001), classifier__C=0.01, classifier__class_weight=None, classifier__penalty=l2, scaler=StandardScaler();, score=0.584 total time=  32.3s\n"
     ]
    },
    {
     "name": "stderr",
     "output_type": "stream",
     "text": [
      "/home/felipe/anaconda3/envs/segmentator/lib/python3.7/site-packages/sklearn/svm/_base.py:1208: ConvergenceWarning: Liblinear failed to converge, increase the number of iterations.\n",
      "  ConvergenceWarning,\n"
     ]
    },
    {
     "name": "stdout",
     "output_type": "stream",
     "text": [
      "[CV 5/5] END classifier=LinearSVC(max_iter=1000.0, random_state=42, tol=0.001), classifier__C=0.01, classifier__class_weight=None, classifier__penalty=l2, scaler=StandardScaler();, score=0.577 total time=  32.2s\n",
      "[CV 1/5] END classifier=LinearSVC(max_iter=1000.0, random_state=42, tol=0.001), classifier__C=0.01, classifier__class_weight=balanced, classifier__penalty=l1, scaler=passthrough;, score=nan total time=   0.1s\n",
      "[CV 2/5] END classifier=LinearSVC(max_iter=1000.0, random_state=42, tol=0.001), classifier__C=0.01, classifier__class_weight=balanced, classifier__penalty=l1, scaler=passthrough;, score=nan total time=   0.1s\n",
      "[CV 3/5] END classifier=LinearSVC(max_iter=1000.0, random_state=42, tol=0.001), classifier__C=0.01, classifier__class_weight=balanced, classifier__penalty=l1, scaler=passthrough;, score=nan total time=   0.0s\n",
      "[CV 4/5] END classifier=LinearSVC(max_iter=1000.0, random_state=42, tol=0.001), classifier__C=0.01, classifier__class_weight=balanced, classifier__penalty=l1, scaler=passthrough;, score=nan total time=   0.1s\n",
      "[CV 5/5] END classifier=LinearSVC(max_iter=1000.0, random_state=42, tol=0.001), classifier__C=0.01, classifier__class_weight=balanced, classifier__penalty=l1, scaler=passthrough;, score=nan total time=   0.1s\n",
      "[CV 1/5] END classifier=LinearSVC(max_iter=1000.0, random_state=42, tol=0.001), classifier__C=0.01, classifier__class_weight=balanced, classifier__penalty=l1, scaler=StandardScaler();, score=nan total time=   0.2s\n",
      "[CV 2/5] END classifier=LinearSVC(max_iter=1000.0, random_state=42, tol=0.001), classifier__C=0.01, classifier__class_weight=balanced, classifier__penalty=l1, scaler=StandardScaler();, score=nan total time=   0.2s\n",
      "[CV 3/5] END classifier=LinearSVC(max_iter=1000.0, random_state=42, tol=0.001), classifier__C=0.01, classifier__class_weight=balanced, classifier__penalty=l1, scaler=StandardScaler();, score=nan total time=   0.2s\n",
      "[CV 4/5] END classifier=LinearSVC(max_iter=1000.0, random_state=42, tol=0.001), classifier__C=0.01, classifier__class_weight=balanced, classifier__penalty=l1, scaler=StandardScaler();, score=nan total time=   0.2s\n",
      "[CV 5/5] END classifier=LinearSVC(max_iter=1000.0, random_state=42, tol=0.001), classifier__C=0.01, classifier__class_weight=balanced, classifier__penalty=l1, scaler=StandardScaler();, score=nan total time=   0.2s\n"
     ]
    },
    {
     "name": "stderr",
     "output_type": "stream",
     "text": [
      "/home/felipe/anaconda3/envs/segmentator/lib/python3.7/site-packages/sklearn/svm/_base.py:1208: ConvergenceWarning: Liblinear failed to converge, increase the number of iterations.\n",
      "  ConvergenceWarning,\n"
     ]
    },
    {
     "name": "stdout",
     "output_type": "stream",
     "text": [
      "[CV 1/5] END classifier=LinearSVC(max_iter=1000.0, random_state=42, tol=0.001), classifier__C=0.01, classifier__class_weight=balanced, classifier__penalty=l2, scaler=passthrough;, score=0.630 total time=   4.5s\n"
     ]
    },
    {
     "name": "stderr",
     "output_type": "stream",
     "text": [
      "/home/felipe/anaconda3/envs/segmentator/lib/python3.7/site-packages/sklearn/svm/_base.py:1208: ConvergenceWarning: Liblinear failed to converge, increase the number of iterations.\n",
      "  ConvergenceWarning,\n"
     ]
    },
    {
     "name": "stdout",
     "output_type": "stream",
     "text": [
      "[CV 2/5] END classifier=LinearSVC(max_iter=1000.0, random_state=42, tol=0.001), classifier__C=0.01, classifier__class_weight=balanced, classifier__penalty=l2, scaler=passthrough;, score=0.627 total time=   4.0s\n"
     ]
    },
    {
     "name": "stderr",
     "output_type": "stream",
     "text": [
      "/home/felipe/anaconda3/envs/segmentator/lib/python3.7/site-packages/sklearn/svm/_base.py:1208: ConvergenceWarning: Liblinear failed to converge, increase the number of iterations.\n",
      "  ConvergenceWarning,\n"
     ]
    },
    {
     "name": "stdout",
     "output_type": "stream",
     "text": [
      "[CV 3/5] END classifier=LinearSVC(max_iter=1000.0, random_state=42, tol=0.001), classifier__C=0.01, classifier__class_weight=balanced, classifier__penalty=l2, scaler=passthrough;, score=0.625 total time=   3.8s\n"
     ]
    },
    {
     "name": "stderr",
     "output_type": "stream",
     "text": [
      "/home/felipe/anaconda3/envs/segmentator/lib/python3.7/site-packages/sklearn/svm/_base.py:1208: ConvergenceWarning: Liblinear failed to converge, increase the number of iterations.\n",
      "  ConvergenceWarning,\n"
     ]
    },
    {
     "name": "stdout",
     "output_type": "stream",
     "text": [
      "[CV 4/5] END classifier=LinearSVC(max_iter=1000.0, random_state=42, tol=0.001), classifier__C=0.01, classifier__class_weight=balanced, classifier__penalty=l2, scaler=passthrough;, score=0.624 total time=   4.0s\n"
     ]
    },
    {
     "name": "stderr",
     "output_type": "stream",
     "text": [
      "/home/felipe/anaconda3/envs/segmentator/lib/python3.7/site-packages/sklearn/svm/_base.py:1208: ConvergenceWarning: Liblinear failed to converge, increase the number of iterations.\n",
      "  ConvergenceWarning,\n"
     ]
    },
    {
     "name": "stdout",
     "output_type": "stream",
     "text": [
      "[CV 5/5] END classifier=LinearSVC(max_iter=1000.0, random_state=42, tol=0.001), classifier__C=0.01, classifier__class_weight=balanced, classifier__penalty=l2, scaler=passthrough;, score=0.617 total time=   4.1s\n"
     ]
    },
    {
     "name": "stderr",
     "output_type": "stream",
     "text": [
      "/home/felipe/anaconda3/envs/segmentator/lib/python3.7/site-packages/sklearn/svm/_base.py:1208: ConvergenceWarning: Liblinear failed to converge, increase the number of iterations.\n",
      "  ConvergenceWarning,\n"
     ]
    },
    {
     "name": "stdout",
     "output_type": "stream",
     "text": [
      "[CV 1/5] END classifier=LinearSVC(max_iter=1000.0, random_state=42, tol=0.001), classifier__C=0.01, classifier__class_weight=balanced, classifier__penalty=l2, scaler=StandardScaler();, score=0.630 total time=  32.7s\n"
     ]
    },
    {
     "name": "stderr",
     "output_type": "stream",
     "text": [
      "/home/felipe/anaconda3/envs/segmentator/lib/python3.7/site-packages/sklearn/svm/_base.py:1208: ConvergenceWarning: Liblinear failed to converge, increase the number of iterations.\n",
      "  ConvergenceWarning,\n"
     ]
    },
    {
     "name": "stdout",
     "output_type": "stream",
     "text": [
      "[CV 2/5] END classifier=LinearSVC(max_iter=1000.0, random_state=42, tol=0.001), classifier__C=0.01, classifier__class_weight=balanced, classifier__penalty=l2, scaler=StandardScaler();, score=0.627 total time=  32.2s\n"
     ]
    },
    {
     "name": "stderr",
     "output_type": "stream",
     "text": [
      "/home/felipe/anaconda3/envs/segmentator/lib/python3.7/site-packages/sklearn/svm/_base.py:1208: ConvergenceWarning: Liblinear failed to converge, increase the number of iterations.\n",
      "  ConvergenceWarning,\n"
     ]
    },
    {
     "name": "stdout",
     "output_type": "stream",
     "text": [
      "[CV 3/5] END classifier=LinearSVC(max_iter=1000.0, random_state=42, tol=0.001), classifier__C=0.01, classifier__class_weight=balanced, classifier__penalty=l2, scaler=StandardScaler();, score=0.624 total time=  32.1s\n"
     ]
    },
    {
     "name": "stderr",
     "output_type": "stream",
     "text": [
      "/home/felipe/anaconda3/envs/segmentator/lib/python3.7/site-packages/sklearn/svm/_base.py:1208: ConvergenceWarning: Liblinear failed to converge, increase the number of iterations.\n",
      "  ConvergenceWarning,\n"
     ]
    },
    {
     "name": "stdout",
     "output_type": "stream",
     "text": [
      "[CV 4/5] END classifier=LinearSVC(max_iter=1000.0, random_state=42, tol=0.001), classifier__C=0.01, classifier__class_weight=balanced, classifier__penalty=l2, scaler=StandardScaler();, score=0.624 total time=  32.2s\n"
     ]
    },
    {
     "name": "stderr",
     "output_type": "stream",
     "text": [
      "/home/felipe/anaconda3/envs/segmentator/lib/python3.7/site-packages/sklearn/svm/_base.py:1208: ConvergenceWarning: Liblinear failed to converge, increase the number of iterations.\n",
      "  ConvergenceWarning,\n"
     ]
    },
    {
     "name": "stdout",
     "output_type": "stream",
     "text": [
      "[CV 5/5] END classifier=LinearSVC(max_iter=1000.0, random_state=42, tol=0.001), classifier__C=0.01, classifier__class_weight=balanced, classifier__penalty=l2, scaler=StandardScaler();, score=0.617 total time=  32.5s\n",
      "[CV 1/5] END classifier=LinearSVC(max_iter=1000.0, random_state=42, tol=0.001), classifier__C=0.1, classifier__class_weight=None, classifier__penalty=l1, scaler=passthrough;, score=nan total time=   0.1s\n",
      "[CV 2/5] END classifier=LinearSVC(max_iter=1000.0, random_state=42, tol=0.001), classifier__C=0.1, classifier__class_weight=None, classifier__penalty=l1, scaler=passthrough;, score=nan total time=   0.1s\n",
      "[CV 3/5] END classifier=LinearSVC(max_iter=1000.0, random_state=42, tol=0.001), classifier__C=0.1, classifier__class_weight=None, classifier__penalty=l1, scaler=passthrough;, score=nan total time=   0.0s\n",
      "[CV 4/5] END classifier=LinearSVC(max_iter=1000.0, random_state=42, tol=0.001), classifier__C=0.1, classifier__class_weight=None, classifier__penalty=l1, scaler=passthrough;, score=nan total time=   0.1s\n",
      "[CV 5/5] END classifier=LinearSVC(max_iter=1000.0, random_state=42, tol=0.001), classifier__C=0.1, classifier__class_weight=None, classifier__penalty=l1, scaler=passthrough;, score=nan total time=   0.0s\n",
      "[CV 1/5] END classifier=LinearSVC(max_iter=1000.0, random_state=42, tol=0.001), classifier__C=0.1, classifier__class_weight=None, classifier__penalty=l1, scaler=StandardScaler();, score=nan total time=   0.2s\n",
      "[CV 2/5] END classifier=LinearSVC(max_iter=1000.0, random_state=42, tol=0.001), classifier__C=0.1, classifier__class_weight=None, classifier__penalty=l1, scaler=StandardScaler();, score=nan total time=   0.2s\n",
      "[CV 3/5] END classifier=LinearSVC(max_iter=1000.0, random_state=42, tol=0.001), classifier__C=0.1, classifier__class_weight=None, classifier__penalty=l1, scaler=StandardScaler();, score=nan total time=   0.2s\n",
      "[CV 4/5] END classifier=LinearSVC(max_iter=1000.0, random_state=42, tol=0.001), classifier__C=0.1, classifier__class_weight=None, classifier__penalty=l1, scaler=StandardScaler();, score=nan total time=   0.2s\n",
      "[CV 5/5] END classifier=LinearSVC(max_iter=1000.0, random_state=42, tol=0.001), classifier__C=0.1, classifier__class_weight=None, classifier__penalty=l1, scaler=StandardScaler();, score=nan total time=   0.2s\n"
     ]
    },
    {
     "name": "stderr",
     "output_type": "stream",
     "text": [
      "/home/felipe/anaconda3/envs/segmentator/lib/python3.7/site-packages/sklearn/svm/_base.py:1208: ConvergenceWarning: Liblinear failed to converge, increase the number of iterations.\n",
      "  ConvergenceWarning,\n"
     ]
    },
    {
     "name": "stdout",
     "output_type": "stream",
     "text": [
      "[CV 1/5] END classifier=LinearSVC(max_iter=1000.0, random_state=42, tol=0.001), classifier__C=0.1, classifier__class_weight=None, classifier__penalty=l2, scaler=passthrough;, score=0.593 total time=   4.1s\n"
     ]
    },
    {
     "name": "stderr",
     "output_type": "stream",
     "text": [
      "/home/felipe/anaconda3/envs/segmentator/lib/python3.7/site-packages/sklearn/svm/_base.py:1208: ConvergenceWarning: Liblinear failed to converge, increase the number of iterations.\n",
      "  ConvergenceWarning,\n"
     ]
    },
    {
     "name": "stdout",
     "output_type": "stream",
     "text": [
      "[CV 2/5] END classifier=LinearSVC(max_iter=1000.0, random_state=42, tol=0.001), classifier__C=0.1, classifier__class_weight=None, classifier__penalty=l2, scaler=passthrough;, score=0.562 total time=   4.1s\n"
     ]
    },
    {
     "name": "stderr",
     "output_type": "stream",
     "text": [
      "/home/felipe/anaconda3/envs/segmentator/lib/python3.7/site-packages/sklearn/svm/_base.py:1208: ConvergenceWarning: Liblinear failed to converge, increase the number of iterations.\n",
      "  ConvergenceWarning,\n"
     ]
    },
    {
     "name": "stdout",
     "output_type": "stream",
     "text": [
      "[CV 3/5] END classifier=LinearSVC(max_iter=1000.0, random_state=42, tol=0.001), classifier__C=0.1, classifier__class_weight=None, classifier__penalty=l2, scaler=passthrough;, score=0.612 total time=   3.9s\n"
     ]
    },
    {
     "name": "stderr",
     "output_type": "stream",
     "text": [
      "/home/felipe/anaconda3/envs/segmentator/lib/python3.7/site-packages/sklearn/svm/_base.py:1208: ConvergenceWarning: Liblinear failed to converge, increase the number of iterations.\n",
      "  ConvergenceWarning,\n"
     ]
    },
    {
     "name": "stdout",
     "output_type": "stream",
     "text": [
      "[CV 4/5] END classifier=LinearSVC(max_iter=1000.0, random_state=42, tol=0.001), classifier__C=0.1, classifier__class_weight=None, classifier__penalty=l2, scaler=passthrough;, score=0.616 total time=   4.0s\n"
     ]
    },
    {
     "name": "stderr",
     "output_type": "stream",
     "text": [
      "/home/felipe/anaconda3/envs/segmentator/lib/python3.7/site-packages/sklearn/svm/_base.py:1208: ConvergenceWarning: Liblinear failed to converge, increase the number of iterations.\n",
      "  ConvergenceWarning,\n"
     ]
    },
    {
     "name": "stdout",
     "output_type": "stream",
     "text": [
      "[CV 5/5] END classifier=LinearSVC(max_iter=1000.0, random_state=42, tol=0.001), classifier__C=0.1, classifier__class_weight=None, classifier__penalty=l2, scaler=passthrough;, score=0.544 total time=   4.2s\n"
     ]
    },
    {
     "name": "stderr",
     "output_type": "stream",
     "text": [
      "/home/felipe/anaconda3/envs/segmentator/lib/python3.7/site-packages/sklearn/svm/_base.py:1208: ConvergenceWarning: Liblinear failed to converge, increase the number of iterations.\n",
      "  ConvergenceWarning,\n"
     ]
    },
    {
     "name": "stdout",
     "output_type": "stream",
     "text": [
      "[CV 1/5] END classifier=LinearSVC(max_iter=1000.0, random_state=42, tol=0.001), classifier__C=0.1, classifier__class_weight=None, classifier__penalty=l2, scaler=StandardScaler();, score=0.584 total time=  32.3s\n"
     ]
    },
    {
     "name": "stderr",
     "output_type": "stream",
     "text": [
      "/home/felipe/anaconda3/envs/segmentator/lib/python3.7/site-packages/sklearn/svm/_base.py:1208: ConvergenceWarning: Liblinear failed to converge, increase the number of iterations.\n",
      "  ConvergenceWarning,\n"
     ]
    },
    {
     "name": "stdout",
     "output_type": "stream",
     "text": [
      "[CV 2/5] END classifier=LinearSVC(max_iter=1000.0, random_state=42, tol=0.001), classifier__C=0.1, classifier__class_weight=None, classifier__penalty=l2, scaler=StandardScaler();, score=0.588 total time=  32.2s\n"
     ]
    },
    {
     "name": "stderr",
     "output_type": "stream",
     "text": [
      "/home/felipe/anaconda3/envs/segmentator/lib/python3.7/site-packages/sklearn/svm/_base.py:1208: ConvergenceWarning: Liblinear failed to converge, increase the number of iterations.\n",
      "  ConvergenceWarning,\n"
     ]
    },
    {
     "name": "stdout",
     "output_type": "stream",
     "text": [
      "[CV 3/5] END classifier=LinearSVC(max_iter=1000.0, random_state=42, tol=0.001), classifier__C=0.1, classifier__class_weight=None, classifier__penalty=l2, scaler=StandardScaler();, score=0.584 total time=  32.0s\n"
     ]
    },
    {
     "name": "stderr",
     "output_type": "stream",
     "text": [
      "/home/felipe/anaconda3/envs/segmentator/lib/python3.7/site-packages/sklearn/svm/_base.py:1208: ConvergenceWarning: Liblinear failed to converge, increase the number of iterations.\n",
      "  ConvergenceWarning,\n"
     ]
    },
    {
     "name": "stdout",
     "output_type": "stream",
     "text": [
      "[CV 4/5] END classifier=LinearSVC(max_iter=1000.0, random_state=42, tol=0.001), classifier__C=0.1, classifier__class_weight=None, classifier__penalty=l2, scaler=StandardScaler();, score=0.584 total time=  32.6s\n"
     ]
    },
    {
     "name": "stderr",
     "output_type": "stream",
     "text": [
      "/home/felipe/anaconda3/envs/segmentator/lib/python3.7/site-packages/sklearn/svm/_base.py:1208: ConvergenceWarning: Liblinear failed to converge, increase the number of iterations.\n",
      "  ConvergenceWarning,\n"
     ]
    },
    {
     "name": "stdout",
     "output_type": "stream",
     "text": [
      "[CV 5/5] END classifier=LinearSVC(max_iter=1000.0, random_state=42, tol=0.001), classifier__C=0.1, classifier__class_weight=None, classifier__penalty=l2, scaler=StandardScaler();, score=0.577 total time=  32.4s\n",
      "[CV 1/5] END classifier=LinearSVC(max_iter=1000.0, random_state=42, tol=0.001), classifier__C=0.1, classifier__class_weight=balanced, classifier__penalty=l1, scaler=passthrough;, score=nan total time=   0.1s\n",
      "[CV 2/5] END classifier=LinearSVC(max_iter=1000.0, random_state=42, tol=0.001), classifier__C=0.1, classifier__class_weight=balanced, classifier__penalty=l1, scaler=passthrough;, score=nan total time=   0.1s\n",
      "[CV 3/5] END classifier=LinearSVC(max_iter=1000.0, random_state=42, tol=0.001), classifier__C=0.1, classifier__class_weight=balanced, classifier__penalty=l1, scaler=passthrough;, score=nan total time=   0.0s\n",
      "[CV 4/5] END classifier=LinearSVC(max_iter=1000.0, random_state=42, tol=0.001), classifier__C=0.1, classifier__class_weight=balanced, classifier__penalty=l1, scaler=passthrough;, score=nan total time=   0.1s\n",
      "[CV 5/5] END classifier=LinearSVC(max_iter=1000.0, random_state=42, tol=0.001), classifier__C=0.1, classifier__class_weight=balanced, classifier__penalty=l1, scaler=passthrough;, score=nan total time=   0.0s\n",
      "[CV 1/5] END classifier=LinearSVC(max_iter=1000.0, random_state=42, tol=0.001), classifier__C=0.1, classifier__class_weight=balanced, classifier__penalty=l1, scaler=StandardScaler();, score=nan total time=   0.2s\n",
      "[CV 2/5] END classifier=LinearSVC(max_iter=1000.0, random_state=42, tol=0.001), classifier__C=0.1, classifier__class_weight=balanced, classifier__penalty=l1, scaler=StandardScaler();, score=nan total time=   0.2s\n",
      "[CV 3/5] END classifier=LinearSVC(max_iter=1000.0, random_state=42, tol=0.001), classifier__C=0.1, classifier__class_weight=balanced, classifier__penalty=l1, scaler=StandardScaler();, score=nan total time=   0.2s\n",
      "[CV 4/5] END classifier=LinearSVC(max_iter=1000.0, random_state=42, tol=0.001), classifier__C=0.1, classifier__class_weight=balanced, classifier__penalty=l1, scaler=StandardScaler();, score=nan total time=   0.2s\n",
      "[CV 5/5] END classifier=LinearSVC(max_iter=1000.0, random_state=42, tol=0.001), classifier__C=0.1, classifier__class_weight=balanced, classifier__penalty=l1, scaler=StandardScaler();, score=nan total time=   0.2s\n"
     ]
    },
    {
     "name": "stderr",
     "output_type": "stream",
     "text": [
      "/home/felipe/anaconda3/envs/segmentator/lib/python3.7/site-packages/sklearn/svm/_base.py:1208: ConvergenceWarning: Liblinear failed to converge, increase the number of iterations.\n",
      "  ConvergenceWarning,\n"
     ]
    },
    {
     "name": "stdout",
     "output_type": "stream",
     "text": [
      "[CV 1/5] END classifier=LinearSVC(max_iter=1000.0, random_state=42, tol=0.001), classifier__C=0.1, classifier__class_weight=balanced, classifier__penalty=l2, scaler=passthrough;, score=0.617 total time=   4.1s\n"
     ]
    },
    {
     "name": "stderr",
     "output_type": "stream",
     "text": [
      "/home/felipe/anaconda3/envs/segmentator/lib/python3.7/site-packages/sklearn/svm/_base.py:1208: ConvergenceWarning: Liblinear failed to converge, increase the number of iterations.\n",
      "  ConvergenceWarning,\n"
     ]
    },
    {
     "name": "stdout",
     "output_type": "stream",
     "text": [
      "[CV 2/5] END classifier=LinearSVC(max_iter=1000.0, random_state=42, tol=0.001), classifier__C=0.1, classifier__class_weight=balanced, classifier__penalty=l2, scaler=passthrough;, score=0.615 total time=   4.1s\n"
     ]
    },
    {
     "name": "stderr",
     "output_type": "stream",
     "text": [
      "/home/felipe/anaconda3/envs/segmentator/lib/python3.7/site-packages/sklearn/svm/_base.py:1208: ConvergenceWarning: Liblinear failed to converge, increase the number of iterations.\n",
      "  ConvergenceWarning,\n"
     ]
    },
    {
     "name": "stdout",
     "output_type": "stream",
     "text": [
      "[CV 3/5] END classifier=LinearSVC(max_iter=1000.0, random_state=42, tol=0.001), classifier__C=0.1, classifier__class_weight=balanced, classifier__penalty=l2, scaler=passthrough;, score=0.612 total time=   4.0s\n"
     ]
    },
    {
     "name": "stderr",
     "output_type": "stream",
     "text": [
      "/home/felipe/anaconda3/envs/segmentator/lib/python3.7/site-packages/sklearn/svm/_base.py:1208: ConvergenceWarning: Liblinear failed to converge, increase the number of iterations.\n",
      "  ConvergenceWarning,\n"
     ]
    },
    {
     "name": "stdout",
     "output_type": "stream",
     "text": [
      "[CV 4/5] END classifier=LinearSVC(max_iter=1000.0, random_state=42, tol=0.001), classifier__C=0.1, classifier__class_weight=balanced, classifier__penalty=l2, scaler=passthrough;, score=0.599 total time=   3.9s\n"
     ]
    },
    {
     "name": "stderr",
     "output_type": "stream",
     "text": [
      "/home/felipe/anaconda3/envs/segmentator/lib/python3.7/site-packages/sklearn/svm/_base.py:1208: ConvergenceWarning: Liblinear failed to converge, increase the number of iterations.\n",
      "  ConvergenceWarning,\n"
     ]
    },
    {
     "name": "stdout",
     "output_type": "stream",
     "text": [
      "[CV 5/5] END classifier=LinearSVC(max_iter=1000.0, random_state=42, tol=0.001), classifier__C=0.1, classifier__class_weight=balanced, classifier__penalty=l2, scaler=passthrough;, score=0.594 total time=   3.9s\n"
     ]
    },
    {
     "name": "stderr",
     "output_type": "stream",
     "text": [
      "/home/felipe/anaconda3/envs/segmentator/lib/python3.7/site-packages/sklearn/svm/_base.py:1208: ConvergenceWarning: Liblinear failed to converge, increase the number of iterations.\n",
      "  ConvergenceWarning,\n"
     ]
    },
    {
     "name": "stdout",
     "output_type": "stream",
     "text": [
      "[CV 1/5] END classifier=LinearSVC(max_iter=1000.0, random_state=42, tol=0.001), classifier__C=0.1, classifier__class_weight=balanced, classifier__penalty=l2, scaler=StandardScaler();, score=0.629 total time=  32.4s\n"
     ]
    },
    {
     "name": "stderr",
     "output_type": "stream",
     "text": [
      "/home/felipe/anaconda3/envs/segmentator/lib/python3.7/site-packages/sklearn/svm/_base.py:1208: ConvergenceWarning: Liblinear failed to converge, increase the number of iterations.\n",
      "  ConvergenceWarning,\n"
     ]
    },
    {
     "name": "stdout",
     "output_type": "stream",
     "text": [
      "[CV 2/5] END classifier=LinearSVC(max_iter=1000.0, random_state=42, tol=0.001), classifier__C=0.1, classifier__class_weight=balanced, classifier__penalty=l2, scaler=StandardScaler();, score=0.627 total time=  32.5s\n"
     ]
    },
    {
     "name": "stderr",
     "output_type": "stream",
     "text": [
      "/home/felipe/anaconda3/envs/segmentator/lib/python3.7/site-packages/sklearn/svm/_base.py:1208: ConvergenceWarning: Liblinear failed to converge, increase the number of iterations.\n",
      "  ConvergenceWarning,\n"
     ]
    },
    {
     "name": "stdout",
     "output_type": "stream",
     "text": [
      "[CV 3/5] END classifier=LinearSVC(max_iter=1000.0, random_state=42, tol=0.001), classifier__C=0.1, classifier__class_weight=balanced, classifier__penalty=l2, scaler=StandardScaler();, score=0.625 total time=  32.5s\n"
     ]
    },
    {
     "name": "stderr",
     "output_type": "stream",
     "text": [
      "/home/felipe/anaconda3/envs/segmentator/lib/python3.7/site-packages/sklearn/svm/_base.py:1208: ConvergenceWarning: Liblinear failed to converge, increase the number of iterations.\n",
      "  ConvergenceWarning,\n"
     ]
    },
    {
     "name": "stdout",
     "output_type": "stream",
     "text": [
      "[CV 4/5] END classifier=LinearSVC(max_iter=1000.0, random_state=42, tol=0.001), classifier__C=0.1, classifier__class_weight=balanced, classifier__penalty=l2, scaler=StandardScaler();, score=0.624 total time=  32.3s\n"
     ]
    },
    {
     "name": "stderr",
     "output_type": "stream",
     "text": [
      "/home/felipe/anaconda3/envs/segmentator/lib/python3.7/site-packages/sklearn/svm/_base.py:1208: ConvergenceWarning: Liblinear failed to converge, increase the number of iterations.\n",
      "  ConvergenceWarning,\n"
     ]
    },
    {
     "name": "stdout",
     "output_type": "stream",
     "text": [
      "[CV 5/5] END classifier=LinearSVC(max_iter=1000.0, random_state=42, tol=0.001), classifier__C=0.1, classifier__class_weight=balanced, classifier__penalty=l2, scaler=StandardScaler();, score=0.617 total time=  32.6s\n",
      "[CV 1/5] END classifier=LinearSVC(max_iter=1000.0, random_state=42, tol=0.001), classifier__C=1.0, classifier__class_weight=None, classifier__penalty=l1, scaler=passthrough;, score=nan total time=   0.1s\n",
      "[CV 2/5] END classifier=LinearSVC(max_iter=1000.0, random_state=42, tol=0.001), classifier__C=1.0, classifier__class_weight=None, classifier__penalty=l1, scaler=passthrough;, score=nan total time=   0.1s\n",
      "[CV 3/5] END classifier=LinearSVC(max_iter=1000.0, random_state=42, tol=0.001), classifier__C=1.0, classifier__class_weight=None, classifier__penalty=l1, scaler=passthrough;, score=nan total time=   0.1s\n",
      "[CV 4/5] END classifier=LinearSVC(max_iter=1000.0, random_state=42, tol=0.001), classifier__C=1.0, classifier__class_weight=None, classifier__penalty=l1, scaler=passthrough;, score=nan total time=   0.1s\n",
      "[CV 5/5] END classifier=LinearSVC(max_iter=1000.0, random_state=42, tol=0.001), classifier__C=1.0, classifier__class_weight=None, classifier__penalty=l1, scaler=passthrough;, score=nan total time=   0.1s\n",
      "[CV 1/5] END classifier=LinearSVC(max_iter=1000.0, random_state=42, tol=0.001), classifier__C=1.0, classifier__class_weight=None, classifier__penalty=l1, scaler=StandardScaler();, score=nan total time=   0.2s\n",
      "[CV 2/5] END classifier=LinearSVC(max_iter=1000.0, random_state=42, tol=0.001), classifier__C=1.0, classifier__class_weight=None, classifier__penalty=l1, scaler=StandardScaler();, score=nan total time=   0.2s\n",
      "[CV 3/5] END classifier=LinearSVC(max_iter=1000.0, random_state=42, tol=0.001), classifier__C=1.0, classifier__class_weight=None, classifier__penalty=l1, scaler=StandardScaler();, score=nan total time=   0.2s\n",
      "[CV 4/5] END classifier=LinearSVC(max_iter=1000.0, random_state=42, tol=0.001), classifier__C=1.0, classifier__class_weight=None, classifier__penalty=l1, scaler=StandardScaler();, score=nan total time=   0.2s\n",
      "[CV 5/5] END classifier=LinearSVC(max_iter=1000.0, random_state=42, tol=0.001), classifier__C=1.0, classifier__class_weight=None, classifier__penalty=l1, scaler=StandardScaler();, score=nan total time=   0.2s\n"
     ]
    },
    {
     "name": "stderr",
     "output_type": "stream",
     "text": [
      "/home/felipe/anaconda3/envs/segmentator/lib/python3.7/site-packages/sklearn/svm/_base.py:1208: ConvergenceWarning: Liblinear failed to converge, increase the number of iterations.\n",
      "  ConvergenceWarning,\n"
     ]
    },
    {
     "name": "stdout",
     "output_type": "stream",
     "text": [
      "[CV 1/5] END classifier=LinearSVC(max_iter=1000.0, random_state=42, tol=0.001), classifier__C=1.0, classifier__class_weight=None, classifier__penalty=l2, scaler=passthrough;, score=0.498 total time=   4.1s\n"
     ]
    },
    {
     "name": "stderr",
     "output_type": "stream",
     "text": [
      "/home/felipe/anaconda3/envs/segmentator/lib/python3.7/site-packages/sklearn/svm/_base.py:1208: ConvergenceWarning: Liblinear failed to converge, increase the number of iterations.\n",
      "  ConvergenceWarning,\n"
     ]
    },
    {
     "name": "stdout",
     "output_type": "stream",
     "text": [
      "[CV 2/5] END classifier=LinearSVC(max_iter=1000.0, random_state=42, tol=0.001), classifier__C=1.0, classifier__class_weight=None, classifier__penalty=l2, scaler=passthrough;, score=0.567 total time=   4.4s\n"
     ]
    },
    {
     "name": "stderr",
     "output_type": "stream",
     "text": [
      "/home/felipe/anaconda3/envs/segmentator/lib/python3.7/site-packages/sklearn/svm/_base.py:1208: ConvergenceWarning: Liblinear failed to converge, increase the number of iterations.\n",
      "  ConvergenceWarning,\n"
     ]
    },
    {
     "name": "stdout",
     "output_type": "stream",
     "text": [
      "[CV 3/5] END classifier=LinearSVC(max_iter=1000.0, random_state=42, tol=0.001), classifier__C=1.0, classifier__class_weight=None, classifier__penalty=l2, scaler=passthrough;, score=0.546 total time=   3.9s\n"
     ]
    },
    {
     "name": "stderr",
     "output_type": "stream",
     "text": [
      "/home/felipe/anaconda3/envs/segmentator/lib/python3.7/site-packages/sklearn/svm/_base.py:1208: ConvergenceWarning: Liblinear failed to converge, increase the number of iterations.\n",
      "  ConvergenceWarning,\n"
     ]
    },
    {
     "name": "stdout",
     "output_type": "stream",
     "text": [
      "[CV 4/5] END classifier=LinearSVC(max_iter=1000.0, random_state=42, tol=0.001), classifier__C=1.0, classifier__class_weight=None, classifier__penalty=l2, scaler=passthrough;, score=0.593 total time=   4.1s\n"
     ]
    },
    {
     "name": "stderr",
     "output_type": "stream",
     "text": [
      "/home/felipe/anaconda3/envs/segmentator/lib/python3.7/site-packages/sklearn/svm/_base.py:1208: ConvergenceWarning: Liblinear failed to converge, increase the number of iterations.\n",
      "  ConvergenceWarning,\n"
     ]
    },
    {
     "name": "stdout",
     "output_type": "stream",
     "text": [
      "[CV 5/5] END classifier=LinearSVC(max_iter=1000.0, random_state=42, tol=0.001), classifier__C=1.0, classifier__class_weight=None, classifier__penalty=l2, scaler=passthrough;, score=0.522 total time=   4.0s\n"
     ]
    },
    {
     "name": "stderr",
     "output_type": "stream",
     "text": [
      "/home/felipe/anaconda3/envs/segmentator/lib/python3.7/site-packages/sklearn/svm/_base.py:1208: ConvergenceWarning: Liblinear failed to converge, increase the number of iterations.\n",
      "  ConvergenceWarning,\n"
     ]
    },
    {
     "name": "stdout",
     "output_type": "stream",
     "text": [
      "[CV 1/5] END classifier=LinearSVC(max_iter=1000.0, random_state=42, tol=0.001), classifier__C=1.0, classifier__class_weight=None, classifier__penalty=l2, scaler=StandardScaler();, score=0.584 total time=  32.6s\n"
     ]
    },
    {
     "name": "stderr",
     "output_type": "stream",
     "text": [
      "/home/felipe/anaconda3/envs/segmentator/lib/python3.7/site-packages/sklearn/svm/_base.py:1208: ConvergenceWarning: Liblinear failed to converge, increase the number of iterations.\n",
      "  ConvergenceWarning,\n"
     ]
    },
    {
     "name": "stdout",
     "output_type": "stream",
     "text": [
      "[CV 2/5] END classifier=LinearSVC(max_iter=1000.0, random_state=42, tol=0.001), classifier__C=1.0, classifier__class_weight=None, classifier__penalty=l2, scaler=StandardScaler();, score=0.590 total time=  32.7s\n"
     ]
    },
    {
     "name": "stderr",
     "output_type": "stream",
     "text": [
      "/home/felipe/anaconda3/envs/segmentator/lib/python3.7/site-packages/sklearn/svm/_base.py:1208: ConvergenceWarning: Liblinear failed to converge, increase the number of iterations.\n",
      "  ConvergenceWarning,\n"
     ]
    },
    {
     "name": "stdout",
     "output_type": "stream",
     "text": [
      "[CV 3/5] END classifier=LinearSVC(max_iter=1000.0, random_state=42, tol=0.001), classifier__C=1.0, classifier__class_weight=None, classifier__penalty=l2, scaler=StandardScaler();, score=0.583 total time=  32.5s\n"
     ]
    },
    {
     "name": "stderr",
     "output_type": "stream",
     "text": [
      "/home/felipe/anaconda3/envs/segmentator/lib/python3.7/site-packages/sklearn/svm/_base.py:1208: ConvergenceWarning: Liblinear failed to converge, increase the number of iterations.\n",
      "  ConvergenceWarning,\n"
     ]
    },
    {
     "name": "stdout",
     "output_type": "stream",
     "text": [
      "[CV 4/5] END classifier=LinearSVC(max_iter=1000.0, random_state=42, tol=0.001), classifier__C=1.0, classifier__class_weight=None, classifier__penalty=l2, scaler=StandardScaler();, score=0.582 total time=  32.4s\n"
     ]
    },
    {
     "name": "stderr",
     "output_type": "stream",
     "text": [
      "/home/felipe/anaconda3/envs/segmentator/lib/python3.7/site-packages/sklearn/svm/_base.py:1208: ConvergenceWarning: Liblinear failed to converge, increase the number of iterations.\n",
      "  ConvergenceWarning,\n"
     ]
    },
    {
     "name": "stdout",
     "output_type": "stream",
     "text": [
      "[CV 5/5] END classifier=LinearSVC(max_iter=1000.0, random_state=42, tol=0.001), classifier__C=1.0, classifier__class_weight=None, classifier__penalty=l2, scaler=StandardScaler();, score=0.579 total time=  32.6s\n",
      "[CV 1/5] END classifier=LinearSVC(max_iter=1000.0, random_state=42, tol=0.001), classifier__C=1.0, classifier__class_weight=balanced, classifier__penalty=l1, scaler=passthrough;, score=nan total time=   0.1s\n",
      "[CV 2/5] END classifier=LinearSVC(max_iter=1000.0, random_state=42, tol=0.001), classifier__C=1.0, classifier__class_weight=balanced, classifier__penalty=l1, scaler=passthrough;, score=nan total time=   0.1s\n",
      "[CV 3/5] END classifier=LinearSVC(max_iter=1000.0, random_state=42, tol=0.001), classifier__C=1.0, classifier__class_weight=balanced, classifier__penalty=l1, scaler=passthrough;, score=nan total time=   0.0s\n",
      "[CV 4/5] END classifier=LinearSVC(max_iter=1000.0, random_state=42, tol=0.001), classifier__C=1.0, classifier__class_weight=balanced, classifier__penalty=l1, scaler=passthrough;, score=nan total time=   0.1s\n",
      "[CV 5/5] END classifier=LinearSVC(max_iter=1000.0, random_state=42, tol=0.001), classifier__C=1.0, classifier__class_weight=balanced, classifier__penalty=l1, scaler=passthrough;, score=nan total time=   0.0s\n",
      "[CV 1/5] END classifier=LinearSVC(max_iter=1000.0, random_state=42, tol=0.001), classifier__C=1.0, classifier__class_weight=balanced, classifier__penalty=l1, scaler=StandardScaler();, score=nan total time=   0.2s\n",
      "[CV 2/5] END classifier=LinearSVC(max_iter=1000.0, random_state=42, tol=0.001), classifier__C=1.0, classifier__class_weight=balanced, classifier__penalty=l1, scaler=StandardScaler();, score=nan total time=   0.2s\n",
      "[CV 3/5] END classifier=LinearSVC(max_iter=1000.0, random_state=42, tol=0.001), classifier__C=1.0, classifier__class_weight=balanced, classifier__penalty=l1, scaler=StandardScaler();, score=nan total time=   0.2s\n",
      "[CV 4/5] END classifier=LinearSVC(max_iter=1000.0, random_state=42, tol=0.001), classifier__C=1.0, classifier__class_weight=balanced, classifier__penalty=l1, scaler=StandardScaler();, score=nan total time=   0.2s\n",
      "[CV 5/5] END classifier=LinearSVC(max_iter=1000.0, random_state=42, tol=0.001), classifier__C=1.0, classifier__class_weight=balanced, classifier__penalty=l1, scaler=StandardScaler();, score=nan total time=   0.2s\n"
     ]
    },
    {
     "name": "stderr",
     "output_type": "stream",
     "text": [
      "/home/felipe/anaconda3/envs/segmentator/lib/python3.7/site-packages/sklearn/svm/_base.py:1208: ConvergenceWarning: Liblinear failed to converge, increase the number of iterations.\n",
      "  ConvergenceWarning,\n"
     ]
    },
    {
     "name": "stdout",
     "output_type": "stream",
     "text": [
      "[CV 1/5] END classifier=LinearSVC(max_iter=1000.0, random_state=42, tol=0.001), classifier__C=1.0, classifier__class_weight=balanced, classifier__penalty=l2, scaler=passthrough;, score=0.523 total time=   4.1s\n"
     ]
    },
    {
     "name": "stderr",
     "output_type": "stream",
     "text": [
      "/home/felipe/anaconda3/envs/segmentator/lib/python3.7/site-packages/sklearn/svm/_base.py:1208: ConvergenceWarning: Liblinear failed to converge, increase the number of iterations.\n",
      "  ConvergenceWarning,\n"
     ]
    },
    {
     "name": "stdout",
     "output_type": "stream",
     "text": [
      "[CV 2/5] END classifier=LinearSVC(max_iter=1000.0, random_state=42, tol=0.001), classifier__C=1.0, classifier__class_weight=balanced, classifier__penalty=l2, scaler=passthrough;, score=0.505 total time=   4.1s\n"
     ]
    },
    {
     "name": "stderr",
     "output_type": "stream",
     "text": [
      "/home/felipe/anaconda3/envs/segmentator/lib/python3.7/site-packages/sklearn/svm/_base.py:1208: ConvergenceWarning: Liblinear failed to converge, increase the number of iterations.\n",
      "  ConvergenceWarning,\n"
     ]
    },
    {
     "name": "stdout",
     "output_type": "stream",
     "text": [
      "[CV 3/5] END classifier=LinearSVC(max_iter=1000.0, random_state=42, tol=0.001), classifier__C=1.0, classifier__class_weight=balanced, classifier__penalty=l2, scaler=passthrough;, score=0.505 total time=   4.2s\n"
     ]
    },
    {
     "name": "stderr",
     "output_type": "stream",
     "text": [
      "/home/felipe/anaconda3/envs/segmentator/lib/python3.7/site-packages/sklearn/svm/_base.py:1208: ConvergenceWarning: Liblinear failed to converge, increase the number of iterations.\n",
      "  ConvergenceWarning,\n"
     ]
    },
    {
     "name": "stdout",
     "output_type": "stream",
     "text": [
      "[CV 4/5] END classifier=LinearSVC(max_iter=1000.0, random_state=42, tol=0.001), classifier__C=1.0, classifier__class_weight=balanced, classifier__penalty=l2, scaler=passthrough;, score=0.584 total time=   4.1s\n"
     ]
    },
    {
     "name": "stderr",
     "output_type": "stream",
     "text": [
      "/home/felipe/anaconda3/envs/segmentator/lib/python3.7/site-packages/sklearn/svm/_base.py:1208: ConvergenceWarning: Liblinear failed to converge, increase the number of iterations.\n",
      "  ConvergenceWarning,\n"
     ]
    },
    {
     "name": "stdout",
     "output_type": "stream",
     "text": [
      "[CV 5/5] END classifier=LinearSVC(max_iter=1000.0, random_state=42, tol=0.001), classifier__C=1.0, classifier__class_weight=balanced, classifier__penalty=l2, scaler=passthrough;, score=0.547 total time=   4.1s\n"
     ]
    },
    {
     "name": "stderr",
     "output_type": "stream",
     "text": [
      "/home/felipe/anaconda3/envs/segmentator/lib/python3.7/site-packages/sklearn/svm/_base.py:1208: ConvergenceWarning: Liblinear failed to converge, increase the number of iterations.\n",
      "  ConvergenceWarning,\n"
     ]
    },
    {
     "name": "stdout",
     "output_type": "stream",
     "text": [
      "[CV 1/5] END classifier=LinearSVC(max_iter=1000.0, random_state=42, tol=0.001), classifier__C=1.0, classifier__class_weight=balanced, classifier__penalty=l2, scaler=StandardScaler();, score=0.628 total time=  32.6s\n"
     ]
    },
    {
     "name": "stderr",
     "output_type": "stream",
     "text": [
      "/home/felipe/anaconda3/envs/segmentator/lib/python3.7/site-packages/sklearn/svm/_base.py:1208: ConvergenceWarning: Liblinear failed to converge, increase the number of iterations.\n",
      "  ConvergenceWarning,\n"
     ]
    },
    {
     "name": "stdout",
     "output_type": "stream",
     "text": [
      "[CV 2/5] END classifier=LinearSVC(max_iter=1000.0, random_state=42, tol=0.001), classifier__C=1.0, classifier__class_weight=balanced, classifier__penalty=l2, scaler=StandardScaler();, score=0.628 total time=  32.9s\n"
     ]
    },
    {
     "name": "stderr",
     "output_type": "stream",
     "text": [
      "/home/felipe/anaconda3/envs/segmentator/lib/python3.7/site-packages/sklearn/svm/_base.py:1208: ConvergenceWarning: Liblinear failed to converge, increase the number of iterations.\n",
      "  ConvergenceWarning,\n"
     ]
    },
    {
     "name": "stdout",
     "output_type": "stream",
     "text": [
      "[CV 3/5] END classifier=LinearSVC(max_iter=1000.0, random_state=42, tol=0.001), classifier__C=1.0, classifier__class_weight=balanced, classifier__penalty=l2, scaler=StandardScaler();, score=0.625 total time=  32.5s\n"
     ]
    },
    {
     "name": "stderr",
     "output_type": "stream",
     "text": [
      "/home/felipe/anaconda3/envs/segmentator/lib/python3.7/site-packages/sklearn/svm/_base.py:1208: ConvergenceWarning: Liblinear failed to converge, increase the number of iterations.\n",
      "  ConvergenceWarning,\n"
     ]
    },
    {
     "name": "stdout",
     "output_type": "stream",
     "text": [
      "[CV 4/5] END classifier=LinearSVC(max_iter=1000.0, random_state=42, tol=0.001), classifier__C=1.0, classifier__class_weight=balanced, classifier__penalty=l2, scaler=StandardScaler();, score=0.625 total time=  32.5s\n"
     ]
    },
    {
     "name": "stderr",
     "output_type": "stream",
     "text": [
      "/home/felipe/anaconda3/envs/segmentator/lib/python3.7/site-packages/sklearn/svm/_base.py:1208: ConvergenceWarning: Liblinear failed to converge, increase the number of iterations.\n",
      "  ConvergenceWarning,\n"
     ]
    },
    {
     "name": "stdout",
     "output_type": "stream",
     "text": [
      "[CV 5/5] END classifier=LinearSVC(max_iter=1000.0, random_state=42, tol=0.001), classifier__C=1.0, classifier__class_weight=balanced, classifier__penalty=l2, scaler=StandardScaler();, score=0.617 total time=  32.6s\n",
      "[CV 1/5] END classifier=LinearSVC(max_iter=1000.0, random_state=42, tol=0.001), classifier__C=10.0, classifier__class_weight=None, classifier__penalty=l1, scaler=passthrough;, score=nan total time=   0.1s\n",
      "[CV 2/5] END classifier=LinearSVC(max_iter=1000.0, random_state=42, tol=0.001), classifier__C=10.0, classifier__class_weight=None, classifier__penalty=l1, scaler=passthrough;, score=nan total time=   0.1s\n",
      "[CV 3/5] END classifier=LinearSVC(max_iter=1000.0, random_state=42, tol=0.001), classifier__C=10.0, classifier__class_weight=None, classifier__penalty=l1, scaler=passthrough;, score=nan total time=   0.1s\n",
      "[CV 4/5] END classifier=LinearSVC(max_iter=1000.0, random_state=42, tol=0.001), classifier__C=10.0, classifier__class_weight=None, classifier__penalty=l1, scaler=passthrough;, score=nan total time=   0.1s\n",
      "[CV 5/5] END classifier=LinearSVC(max_iter=1000.0, random_state=42, tol=0.001), classifier__C=10.0, classifier__class_weight=None, classifier__penalty=l1, scaler=passthrough;, score=nan total time=   0.1s\n",
      "[CV 1/5] END classifier=LinearSVC(max_iter=1000.0, random_state=42, tol=0.001), classifier__C=10.0, classifier__class_weight=None, classifier__penalty=l1, scaler=StandardScaler();, score=nan total time=   0.2s\n",
      "[CV 2/5] END classifier=LinearSVC(max_iter=1000.0, random_state=42, tol=0.001), classifier__C=10.0, classifier__class_weight=None, classifier__penalty=l1, scaler=StandardScaler();, score=nan total time=   0.2s\n",
      "[CV 3/5] END classifier=LinearSVC(max_iter=1000.0, random_state=42, tol=0.001), classifier__C=10.0, classifier__class_weight=None, classifier__penalty=l1, scaler=StandardScaler();, score=nan total time=   0.2s\n",
      "[CV 4/5] END classifier=LinearSVC(max_iter=1000.0, random_state=42, tol=0.001), classifier__C=10.0, classifier__class_weight=None, classifier__penalty=l1, scaler=StandardScaler();, score=nan total time=   0.2s\n",
      "[CV 5/5] END classifier=LinearSVC(max_iter=1000.0, random_state=42, tol=0.001), classifier__C=10.0, classifier__class_weight=None, classifier__penalty=l1, scaler=StandardScaler();, score=nan total time=   0.2s\n"
     ]
    },
    {
     "name": "stderr",
     "output_type": "stream",
     "text": [
      "/home/felipe/anaconda3/envs/segmentator/lib/python3.7/site-packages/sklearn/svm/_base.py:1208: ConvergenceWarning: Liblinear failed to converge, increase the number of iterations.\n",
      "  ConvergenceWarning,\n"
     ]
    },
    {
     "name": "stdout",
     "output_type": "stream",
     "text": [
      "[CV 1/5] END classifier=LinearSVC(max_iter=1000.0, random_state=42, tol=0.001), classifier__C=10.0, classifier__class_weight=None, classifier__penalty=l2, scaler=passthrough;, score=0.575 total time=   4.0s\n"
     ]
    },
    {
     "name": "stderr",
     "output_type": "stream",
     "text": [
      "/home/felipe/anaconda3/envs/segmentator/lib/python3.7/site-packages/sklearn/svm/_base.py:1208: ConvergenceWarning: Liblinear failed to converge, increase the number of iterations.\n",
      "  ConvergenceWarning,\n"
     ]
    },
    {
     "name": "stdout",
     "output_type": "stream",
     "text": [
      "[CV 2/5] END classifier=LinearSVC(max_iter=1000.0, random_state=42, tol=0.001), classifier__C=10.0, classifier__class_weight=None, classifier__penalty=l2, scaler=passthrough;, score=0.479 total time=   4.2s\n"
     ]
    },
    {
     "name": "stderr",
     "output_type": "stream",
     "text": [
      "/home/felipe/anaconda3/envs/segmentator/lib/python3.7/site-packages/sklearn/svm/_base.py:1208: ConvergenceWarning: Liblinear failed to converge, increase the number of iterations.\n",
      "  ConvergenceWarning,\n"
     ]
    },
    {
     "name": "stdout",
     "output_type": "stream",
     "text": [
      "[CV 3/5] END classifier=LinearSVC(max_iter=1000.0, random_state=42, tol=0.001), classifier__C=10.0, classifier__class_weight=None, classifier__penalty=l2, scaler=passthrough;, score=0.522 total time=   3.9s\n"
     ]
    },
    {
     "name": "stderr",
     "output_type": "stream",
     "text": [
      "/home/felipe/anaconda3/envs/segmentator/lib/python3.7/site-packages/sklearn/svm/_base.py:1208: ConvergenceWarning: Liblinear failed to converge, increase the number of iterations.\n",
      "  ConvergenceWarning,\n"
     ]
    },
    {
     "name": "stdout",
     "output_type": "stream",
     "text": [
      "[CV 4/5] END classifier=LinearSVC(max_iter=1000.0, random_state=42, tol=0.001), classifier__C=10.0, classifier__class_weight=None, classifier__penalty=l2, scaler=passthrough;, score=0.525 total time=   4.0s\n"
     ]
    },
    {
     "name": "stderr",
     "output_type": "stream",
     "text": [
      "/home/felipe/anaconda3/envs/segmentator/lib/python3.7/site-packages/sklearn/svm/_base.py:1208: ConvergenceWarning: Liblinear failed to converge, increase the number of iterations.\n",
      "  ConvergenceWarning,\n"
     ]
    },
    {
     "name": "stdout",
     "output_type": "stream",
     "text": [
      "[CV 5/5] END classifier=LinearSVC(max_iter=1000.0, random_state=42, tol=0.001), classifier__C=10.0, classifier__class_weight=None, classifier__penalty=l2, scaler=passthrough;, score=0.503 total time=   4.0s\n"
     ]
    },
    {
     "name": "stderr",
     "output_type": "stream",
     "text": [
      "/home/felipe/anaconda3/envs/segmentator/lib/python3.7/site-packages/sklearn/svm/_base.py:1208: ConvergenceWarning: Liblinear failed to converge, increase the number of iterations.\n",
      "  ConvergenceWarning,\n"
     ]
    },
    {
     "name": "stdout",
     "output_type": "stream",
     "text": [
      "[CV 1/5] END classifier=LinearSVC(max_iter=1000.0, random_state=42, tol=0.001), classifier__C=10.0, classifier__class_weight=None, classifier__penalty=l2, scaler=StandardScaler();, score=0.580 total time=  32.3s\n"
     ]
    },
    {
     "name": "stderr",
     "output_type": "stream",
     "text": [
      "/home/felipe/anaconda3/envs/segmentator/lib/python3.7/site-packages/sklearn/svm/_base.py:1208: ConvergenceWarning: Liblinear failed to converge, increase the number of iterations.\n",
      "  ConvergenceWarning,\n"
     ]
    },
    {
     "name": "stdout",
     "output_type": "stream",
     "text": [
      "[CV 2/5] END classifier=LinearSVC(max_iter=1000.0, random_state=42, tol=0.001), classifier__C=10.0, classifier__class_weight=None, classifier__penalty=l2, scaler=StandardScaler();, score=0.590 total time=  32.8s\n"
     ]
    },
    {
     "name": "stderr",
     "output_type": "stream",
     "text": [
      "/home/felipe/anaconda3/envs/segmentator/lib/python3.7/site-packages/sklearn/svm/_base.py:1208: ConvergenceWarning: Liblinear failed to converge, increase the number of iterations.\n",
      "  ConvergenceWarning,\n"
     ]
    },
    {
     "name": "stdout",
     "output_type": "stream",
     "text": [
      "[CV 3/5] END classifier=LinearSVC(max_iter=1000.0, random_state=42, tol=0.001), classifier__C=10.0, classifier__class_weight=None, classifier__penalty=l2, scaler=StandardScaler();, score=0.551 total time=  32.6s\n"
     ]
    },
    {
     "name": "stderr",
     "output_type": "stream",
     "text": [
      "/home/felipe/anaconda3/envs/segmentator/lib/python3.7/site-packages/sklearn/svm/_base.py:1208: ConvergenceWarning: Liblinear failed to converge, increase the number of iterations.\n",
      "  ConvergenceWarning,\n"
     ]
    },
    {
     "name": "stdout",
     "output_type": "stream",
     "text": [
      "[CV 4/5] END classifier=LinearSVC(max_iter=1000.0, random_state=42, tol=0.001), classifier__C=10.0, classifier__class_weight=None, classifier__penalty=l2, scaler=StandardScaler();, score=0.586 total time=  32.3s\n"
     ]
    },
    {
     "name": "stderr",
     "output_type": "stream",
     "text": [
      "/home/felipe/anaconda3/envs/segmentator/lib/python3.7/site-packages/sklearn/svm/_base.py:1208: ConvergenceWarning: Liblinear failed to converge, increase the number of iterations.\n",
      "  ConvergenceWarning,\n"
     ]
    },
    {
     "name": "stdout",
     "output_type": "stream",
     "text": [
      "[CV 5/5] END classifier=LinearSVC(max_iter=1000.0, random_state=42, tol=0.001), classifier__C=10.0, classifier__class_weight=None, classifier__penalty=l2, scaler=StandardScaler();, score=0.566 total time=  33.2s\n",
      "[CV 1/5] END classifier=LinearSVC(max_iter=1000.0, random_state=42, tol=0.001), classifier__C=10.0, classifier__class_weight=balanced, classifier__penalty=l1, scaler=passthrough;, score=nan total time=   0.1s\n",
      "[CV 2/5] END classifier=LinearSVC(max_iter=1000.0, random_state=42, tol=0.001), classifier__C=10.0, classifier__class_weight=balanced, classifier__penalty=l1, scaler=passthrough;, score=nan total time=   0.1s\n",
      "[CV 3/5] END classifier=LinearSVC(max_iter=1000.0, random_state=42, tol=0.001), classifier__C=10.0, classifier__class_weight=balanced, classifier__penalty=l1, scaler=passthrough;, score=nan total time=   0.1s\n",
      "[CV 4/5] END classifier=LinearSVC(max_iter=1000.0, random_state=42, tol=0.001), classifier__C=10.0, classifier__class_weight=balanced, classifier__penalty=l1, scaler=passthrough;, score=nan total time=   0.1s\n",
      "[CV 5/5] END classifier=LinearSVC(max_iter=1000.0, random_state=42, tol=0.001), classifier__C=10.0, classifier__class_weight=balanced, classifier__penalty=l1, scaler=passthrough;, score=nan total time=   0.1s\n",
      "[CV 1/5] END classifier=LinearSVC(max_iter=1000.0, random_state=42, tol=0.001), classifier__C=10.0, classifier__class_weight=balanced, classifier__penalty=l1, scaler=StandardScaler();, score=nan total time=   0.2s\n",
      "[CV 2/5] END classifier=LinearSVC(max_iter=1000.0, random_state=42, tol=0.001), classifier__C=10.0, classifier__class_weight=balanced, classifier__penalty=l1, scaler=StandardScaler();, score=nan total time=   0.2s\n",
      "[CV 3/5] END classifier=LinearSVC(max_iter=1000.0, random_state=42, tol=0.001), classifier__C=10.0, classifier__class_weight=balanced, classifier__penalty=l1, scaler=StandardScaler();, score=nan total time=   0.2s\n",
      "[CV 4/5] END classifier=LinearSVC(max_iter=1000.0, random_state=42, tol=0.001), classifier__C=10.0, classifier__class_weight=balanced, classifier__penalty=l1, scaler=StandardScaler();, score=nan total time=   0.2s\n",
      "[CV 5/5] END classifier=LinearSVC(max_iter=1000.0, random_state=42, tol=0.001), classifier__C=10.0, classifier__class_weight=balanced, classifier__penalty=l1, scaler=StandardScaler();, score=nan total time=   0.2s\n"
     ]
    },
    {
     "name": "stderr",
     "output_type": "stream",
     "text": [
      "/home/felipe/anaconda3/envs/segmentator/lib/python3.7/site-packages/sklearn/svm/_base.py:1208: ConvergenceWarning: Liblinear failed to converge, increase the number of iterations.\n",
      "  ConvergenceWarning,\n"
     ]
    },
    {
     "name": "stdout",
     "output_type": "stream",
     "text": [
      "[CV 1/5] END classifier=LinearSVC(max_iter=1000.0, random_state=42, tol=0.001), classifier__C=10.0, classifier__class_weight=balanced, classifier__penalty=l2, scaler=passthrough;, score=0.531 total time=   4.1s\n"
     ]
    },
    {
     "name": "stderr",
     "output_type": "stream",
     "text": [
      "/home/felipe/anaconda3/envs/segmentator/lib/python3.7/site-packages/sklearn/svm/_base.py:1208: ConvergenceWarning: Liblinear failed to converge, increase the number of iterations.\n",
      "  ConvergenceWarning,\n"
     ]
    },
    {
     "name": "stdout",
     "output_type": "stream",
     "text": [
      "[CV 2/5] END classifier=LinearSVC(max_iter=1000.0, random_state=42, tol=0.001), classifier__C=10.0, classifier__class_weight=balanced, classifier__penalty=l2, scaler=passthrough;, score=0.480 total time=   3.9s\n"
     ]
    },
    {
     "name": "stderr",
     "output_type": "stream",
     "text": [
      "/home/felipe/anaconda3/envs/segmentator/lib/python3.7/site-packages/sklearn/svm/_base.py:1208: ConvergenceWarning: Liblinear failed to converge, increase the number of iterations.\n",
      "  ConvergenceWarning,\n"
     ]
    },
    {
     "name": "stdout",
     "output_type": "stream",
     "text": [
      "[CV 3/5] END classifier=LinearSVC(max_iter=1000.0, random_state=42, tol=0.001), classifier__C=10.0, classifier__class_weight=balanced, classifier__penalty=l2, scaler=passthrough;, score=0.522 total time=   4.1s\n"
     ]
    },
    {
     "name": "stderr",
     "output_type": "stream",
     "text": [
      "/home/felipe/anaconda3/envs/segmentator/lib/python3.7/site-packages/sklearn/svm/_base.py:1208: ConvergenceWarning: Liblinear failed to converge, increase the number of iterations.\n",
      "  ConvergenceWarning,\n"
     ]
    },
    {
     "name": "stdout",
     "output_type": "stream",
     "text": [
      "[CV 4/5] END classifier=LinearSVC(max_iter=1000.0, random_state=42, tol=0.001), classifier__C=10.0, classifier__class_weight=balanced, classifier__penalty=l2, scaler=passthrough;, score=0.525 total time=   4.1s\n"
     ]
    },
    {
     "name": "stderr",
     "output_type": "stream",
     "text": [
      "/home/felipe/anaconda3/envs/segmentator/lib/python3.7/site-packages/sklearn/svm/_base.py:1208: ConvergenceWarning: Liblinear failed to converge, increase the number of iterations.\n",
      "  ConvergenceWarning,\n"
     ]
    },
    {
     "name": "stdout",
     "output_type": "stream",
     "text": [
      "[CV 5/5] END classifier=LinearSVC(max_iter=1000.0, random_state=42, tol=0.001), classifier__C=10.0, classifier__class_weight=balanced, classifier__penalty=l2, scaler=passthrough;, score=0.497 total time=   4.2s\n"
     ]
    },
    {
     "name": "stderr",
     "output_type": "stream",
     "text": [
      "/home/felipe/anaconda3/envs/segmentator/lib/python3.7/site-packages/sklearn/svm/_base.py:1208: ConvergenceWarning: Liblinear failed to converge, increase the number of iterations.\n",
      "  ConvergenceWarning,\n"
     ]
    },
    {
     "name": "stdout",
     "output_type": "stream",
     "text": [
      "[CV 1/5] END classifier=LinearSVC(max_iter=1000.0, random_state=42, tol=0.001), classifier__C=10.0, classifier__class_weight=balanced, classifier__penalty=l2, scaler=StandardScaler();, score=0.612 total time=  32.9s\n"
     ]
    },
    {
     "name": "stderr",
     "output_type": "stream",
     "text": [
      "/home/felipe/anaconda3/envs/segmentator/lib/python3.7/site-packages/sklearn/svm/_base.py:1208: ConvergenceWarning: Liblinear failed to converge, increase the number of iterations.\n",
      "  ConvergenceWarning,\n"
     ]
    },
    {
     "name": "stdout",
     "output_type": "stream",
     "text": [
      "[CV 2/5] END classifier=LinearSVC(max_iter=1000.0, random_state=42, tol=0.001), classifier__C=10.0, classifier__class_weight=balanced, classifier__penalty=l2, scaler=StandardScaler();, score=0.620 total time=  32.7s\n"
     ]
    },
    {
     "name": "stderr",
     "output_type": "stream",
     "text": [
      "/home/felipe/anaconda3/envs/segmentator/lib/python3.7/site-packages/sklearn/svm/_base.py:1208: ConvergenceWarning: Liblinear failed to converge, increase the number of iterations.\n",
      "  ConvergenceWarning,\n"
     ]
    },
    {
     "name": "stdout",
     "output_type": "stream",
     "text": [
      "[CV 3/5] END classifier=LinearSVC(max_iter=1000.0, random_state=42, tol=0.001), classifier__C=10.0, classifier__class_weight=balanced, classifier__penalty=l2, scaler=StandardScaler();, score=0.610 total time=  32.6s\n"
     ]
    },
    {
     "name": "stderr",
     "output_type": "stream",
     "text": [
      "/home/felipe/anaconda3/envs/segmentator/lib/python3.7/site-packages/sklearn/svm/_base.py:1208: ConvergenceWarning: Liblinear failed to converge, increase the number of iterations.\n",
      "  ConvergenceWarning,\n"
     ]
    },
    {
     "name": "stdout",
     "output_type": "stream",
     "text": [
      "[CV 4/5] END classifier=LinearSVC(max_iter=1000.0, random_state=42, tol=0.001), classifier__C=10.0, classifier__class_weight=balanced, classifier__penalty=l2, scaler=StandardScaler();, score=0.608 total time=  32.7s\n"
     ]
    },
    {
     "name": "stderr",
     "output_type": "stream",
     "text": [
      "/home/felipe/anaconda3/envs/segmentator/lib/python3.7/site-packages/sklearn/svm/_base.py:1208: ConvergenceWarning: Liblinear failed to converge, increase the number of iterations.\n",
      "  ConvergenceWarning,\n"
     ]
    },
    {
     "name": "stdout",
     "output_type": "stream",
     "text": [
      "[CV 5/5] END classifier=LinearSVC(max_iter=1000.0, random_state=42, tol=0.001), classifier__C=10.0, classifier__class_weight=balanced, classifier__penalty=l2, scaler=StandardScaler();, score=0.610 total time=  33.0s\n",
      "[CV 1/5] END classifier=LinearSVC(max_iter=1000.0, random_state=42, tol=0.001), classifier__C=100.0, classifier__class_weight=None, classifier__penalty=l1, scaler=passthrough;, score=nan total time=   0.1s\n",
      "[CV 2/5] END classifier=LinearSVC(max_iter=1000.0, random_state=42, tol=0.001), classifier__C=100.0, classifier__class_weight=None, classifier__penalty=l1, scaler=passthrough;, score=nan total time=   0.1s\n",
      "[CV 3/5] END classifier=LinearSVC(max_iter=1000.0, random_state=42, tol=0.001), classifier__C=100.0, classifier__class_weight=None, classifier__penalty=l1, scaler=passthrough;, score=nan total time=   0.0s\n",
      "[CV 4/5] END classifier=LinearSVC(max_iter=1000.0, random_state=42, tol=0.001), classifier__C=100.0, classifier__class_weight=None, classifier__penalty=l1, scaler=passthrough;, score=nan total time=   0.0s\n",
      "[CV 5/5] END classifier=LinearSVC(max_iter=1000.0, random_state=42, tol=0.001), classifier__C=100.0, classifier__class_weight=None, classifier__penalty=l1, scaler=passthrough;, score=nan total time=   0.0s\n",
      "[CV 1/5] END classifier=LinearSVC(max_iter=1000.0, random_state=42, tol=0.001), classifier__C=100.0, classifier__class_weight=None, classifier__penalty=l1, scaler=StandardScaler();, score=nan total time=   0.2s\n",
      "[CV 2/5] END classifier=LinearSVC(max_iter=1000.0, random_state=42, tol=0.001), classifier__C=100.0, classifier__class_weight=None, classifier__penalty=l1, scaler=StandardScaler();, score=nan total time=   0.2s\n",
      "[CV 3/5] END classifier=LinearSVC(max_iter=1000.0, random_state=42, tol=0.001), classifier__C=100.0, classifier__class_weight=None, classifier__penalty=l1, scaler=StandardScaler();, score=nan total time=   0.2s\n",
      "[CV 4/5] END classifier=LinearSVC(max_iter=1000.0, random_state=42, tol=0.001), classifier__C=100.0, classifier__class_weight=None, classifier__penalty=l1, scaler=StandardScaler();, score=nan total time=   0.2s\n",
      "[CV 5/5] END classifier=LinearSVC(max_iter=1000.0, random_state=42, tol=0.001), classifier__C=100.0, classifier__class_weight=None, classifier__penalty=l1, scaler=StandardScaler();, score=nan total time=   0.2s\n"
     ]
    },
    {
     "name": "stderr",
     "output_type": "stream",
     "text": [
      "/home/felipe/anaconda3/envs/segmentator/lib/python3.7/site-packages/sklearn/svm/_base.py:1208: ConvergenceWarning: Liblinear failed to converge, increase the number of iterations.\n",
      "  ConvergenceWarning,\n"
     ]
    },
    {
     "name": "stdout",
     "output_type": "stream",
     "text": [
      "[CV 1/5] END classifier=LinearSVC(max_iter=1000.0, random_state=42, tol=0.001), classifier__C=100.0, classifier__class_weight=None, classifier__penalty=l2, scaler=passthrough;, score=0.497 total time=   4.0s\n"
     ]
    },
    {
     "name": "stderr",
     "output_type": "stream",
     "text": [
      "/home/felipe/anaconda3/envs/segmentator/lib/python3.7/site-packages/sklearn/svm/_base.py:1208: ConvergenceWarning: Liblinear failed to converge, increase the number of iterations.\n",
      "  ConvergenceWarning,\n"
     ]
    },
    {
     "name": "stdout",
     "output_type": "stream",
     "text": [
      "[CV 2/5] END classifier=LinearSVC(max_iter=1000.0, random_state=42, tol=0.001), classifier__C=100.0, classifier__class_weight=None, classifier__penalty=l2, scaler=passthrough;, score=0.479 total time=   4.2s\n"
     ]
    },
    {
     "name": "stderr",
     "output_type": "stream",
     "text": [
      "/home/felipe/anaconda3/envs/segmentator/lib/python3.7/site-packages/sklearn/svm/_base.py:1208: ConvergenceWarning: Liblinear failed to converge, increase the number of iterations.\n",
      "  ConvergenceWarning,\n"
     ]
    },
    {
     "name": "stdout",
     "output_type": "stream",
     "text": [
      "[CV 3/5] END classifier=LinearSVC(max_iter=1000.0, random_state=42, tol=0.001), classifier__C=100.0, classifier__class_weight=None, classifier__penalty=l2, scaler=passthrough;, score=0.521 total time=   4.1s\n"
     ]
    },
    {
     "name": "stderr",
     "output_type": "stream",
     "text": [
      "/home/felipe/anaconda3/envs/segmentator/lib/python3.7/site-packages/sklearn/svm/_base.py:1208: ConvergenceWarning: Liblinear failed to converge, increase the number of iterations.\n",
      "  ConvergenceWarning,\n"
     ]
    },
    {
     "name": "stdout",
     "output_type": "stream",
     "text": [
      "[CV 4/5] END classifier=LinearSVC(max_iter=1000.0, random_state=42, tol=0.001), classifier__C=100.0, classifier__class_weight=None, classifier__penalty=l2, scaler=passthrough;, score=0.501 total time=   4.2s\n"
     ]
    },
    {
     "name": "stderr",
     "output_type": "stream",
     "text": [
      "/home/felipe/anaconda3/envs/segmentator/lib/python3.7/site-packages/sklearn/svm/_base.py:1208: ConvergenceWarning: Liblinear failed to converge, increase the number of iterations.\n",
      "  ConvergenceWarning,\n"
     ]
    },
    {
     "name": "stdout",
     "output_type": "stream",
     "text": [
      "[CV 5/5] END classifier=LinearSVC(max_iter=1000.0, random_state=42, tol=0.001), classifier__C=100.0, classifier__class_weight=None, classifier__penalty=l2, scaler=passthrough;, score=0.541 total time=   3.9s\n"
     ]
    },
    {
     "name": "stderr",
     "output_type": "stream",
     "text": [
      "/home/felipe/anaconda3/envs/segmentator/lib/python3.7/site-packages/sklearn/svm/_base.py:1208: ConvergenceWarning: Liblinear failed to converge, increase the number of iterations.\n",
      "  ConvergenceWarning,\n"
     ]
    },
    {
     "name": "stdout",
     "output_type": "stream",
     "text": [
      "[CV 1/5] END classifier=LinearSVC(max_iter=1000.0, random_state=42, tol=0.001), classifier__C=100.0, classifier__class_weight=None, classifier__penalty=l2, scaler=StandardScaler();, score=0.568 total time=  32.6s\n"
     ]
    },
    {
     "name": "stderr",
     "output_type": "stream",
     "text": [
      "/home/felipe/anaconda3/envs/segmentator/lib/python3.7/site-packages/sklearn/svm/_base.py:1208: ConvergenceWarning: Liblinear failed to converge, increase the number of iterations.\n",
      "  ConvergenceWarning,\n"
     ]
    },
    {
     "name": "stdout",
     "output_type": "stream",
     "text": [
      "[CV 2/5] END classifier=LinearSVC(max_iter=1000.0, random_state=42, tol=0.001), classifier__C=100.0, classifier__class_weight=None, classifier__penalty=l2, scaler=StandardScaler();, score=0.537 total time=  32.3s\n"
     ]
    },
    {
     "name": "stderr",
     "output_type": "stream",
     "text": [
      "/home/felipe/anaconda3/envs/segmentator/lib/python3.7/site-packages/sklearn/svm/_base.py:1208: ConvergenceWarning: Liblinear failed to converge, increase the number of iterations.\n",
      "  ConvergenceWarning,\n"
     ]
    },
    {
     "name": "stdout",
     "output_type": "stream",
     "text": [
      "[CV 3/5] END classifier=LinearSVC(max_iter=1000.0, random_state=42, tol=0.001), classifier__C=100.0, classifier__class_weight=None, classifier__penalty=l2, scaler=StandardScaler();, score=0.552 total time=  32.8s\n"
     ]
    },
    {
     "name": "stderr",
     "output_type": "stream",
     "text": [
      "/home/felipe/anaconda3/envs/segmentator/lib/python3.7/site-packages/sklearn/svm/_base.py:1208: ConvergenceWarning: Liblinear failed to converge, increase the number of iterations.\n",
      "  ConvergenceWarning,\n"
     ]
    },
    {
     "name": "stdout",
     "output_type": "stream",
     "text": [
      "[CV 4/5] END classifier=LinearSVC(max_iter=1000.0, random_state=42, tol=0.001), classifier__C=100.0, classifier__class_weight=None, classifier__penalty=l2, scaler=StandardScaler();, score=0.553 total time=  32.4s\n"
     ]
    },
    {
     "name": "stderr",
     "output_type": "stream",
     "text": [
      "/home/felipe/anaconda3/envs/segmentator/lib/python3.7/site-packages/sklearn/svm/_base.py:1208: ConvergenceWarning: Liblinear failed to converge, increase the number of iterations.\n",
      "  ConvergenceWarning,\n"
     ]
    },
    {
     "name": "stdout",
     "output_type": "stream",
     "text": [
      "[CV 5/5] END classifier=LinearSVC(max_iter=1000.0, random_state=42, tol=0.001), classifier__C=100.0, classifier__class_weight=None, classifier__penalty=l2, scaler=StandardScaler();, score=0.492 total time=  32.4s\n",
      "[CV 1/5] END classifier=LinearSVC(max_iter=1000.0, random_state=42, tol=0.001), classifier__C=100.0, classifier__class_weight=balanced, classifier__penalty=l1, scaler=passthrough;, score=nan total time=   0.1s\n",
      "[CV 2/5] END classifier=LinearSVC(max_iter=1000.0, random_state=42, tol=0.001), classifier__C=100.0, classifier__class_weight=balanced, classifier__penalty=l1, scaler=passthrough;, score=nan total time=   0.1s\n",
      "[CV 3/5] END classifier=LinearSVC(max_iter=1000.0, random_state=42, tol=0.001), classifier__C=100.0, classifier__class_weight=balanced, classifier__penalty=l1, scaler=passthrough;, score=nan total time=   0.1s\n",
      "[CV 4/5] END classifier=LinearSVC(max_iter=1000.0, random_state=42, tol=0.001), classifier__C=100.0, classifier__class_weight=balanced, classifier__penalty=l1, scaler=passthrough;, score=nan total time=   0.1s\n",
      "[CV 5/5] END classifier=LinearSVC(max_iter=1000.0, random_state=42, tol=0.001), classifier__C=100.0, classifier__class_weight=balanced, classifier__penalty=l1, scaler=passthrough;, score=nan total time=   0.1s\n",
      "[CV 1/5] END classifier=LinearSVC(max_iter=1000.0, random_state=42, tol=0.001), classifier__C=100.0, classifier__class_weight=balanced, classifier__penalty=l1, scaler=StandardScaler();, score=nan total time=   0.2s\n",
      "[CV 2/5] END classifier=LinearSVC(max_iter=1000.0, random_state=42, tol=0.001), classifier__C=100.0, classifier__class_weight=balanced, classifier__penalty=l1, scaler=StandardScaler();, score=nan total time=   0.2s\n",
      "[CV 3/5] END classifier=LinearSVC(max_iter=1000.0, random_state=42, tol=0.001), classifier__C=100.0, classifier__class_weight=balanced, classifier__penalty=l1, scaler=StandardScaler();, score=nan total time=   0.2s\n",
      "[CV 4/5] END classifier=LinearSVC(max_iter=1000.0, random_state=42, tol=0.001), classifier__C=100.0, classifier__class_weight=balanced, classifier__penalty=l1, scaler=StandardScaler();, score=nan total time=   0.2s\n",
      "[CV 5/5] END classifier=LinearSVC(max_iter=1000.0, random_state=42, tol=0.001), classifier__C=100.0, classifier__class_weight=balanced, classifier__penalty=l1, scaler=StandardScaler();, score=nan total time=   0.2s\n"
     ]
    },
    {
     "name": "stderr",
     "output_type": "stream",
     "text": [
      "/home/felipe/anaconda3/envs/segmentator/lib/python3.7/site-packages/sklearn/svm/_base.py:1208: ConvergenceWarning: Liblinear failed to converge, increase the number of iterations.\n",
      "  ConvergenceWarning,\n"
     ]
    },
    {
     "name": "stdout",
     "output_type": "stream",
     "text": [
      "[CV 1/5] END classifier=LinearSVC(max_iter=1000.0, random_state=42, tol=0.001), classifier__C=100.0, classifier__class_weight=balanced, classifier__penalty=l2, scaler=passthrough;, score=0.497 total time=   4.3s\n"
     ]
    },
    {
     "name": "stderr",
     "output_type": "stream",
     "text": [
      "/home/felipe/anaconda3/envs/segmentator/lib/python3.7/site-packages/sklearn/svm/_base.py:1208: ConvergenceWarning: Liblinear failed to converge, increase the number of iterations.\n",
      "  ConvergenceWarning,\n"
     ]
    },
    {
     "name": "stdout",
     "output_type": "stream",
     "text": [
      "[CV 2/5] END classifier=LinearSVC(max_iter=1000.0, random_state=42, tol=0.001), classifier__C=100.0, classifier__class_weight=balanced, classifier__penalty=l2, scaler=passthrough;, score=0.479 total time=   4.4s\n"
     ]
    },
    {
     "name": "stderr",
     "output_type": "stream",
     "text": [
      "/home/felipe/anaconda3/envs/segmentator/lib/python3.7/site-packages/sklearn/svm/_base.py:1208: ConvergenceWarning: Liblinear failed to converge, increase the number of iterations.\n",
      "  ConvergenceWarning,\n"
     ]
    },
    {
     "name": "stdout",
     "output_type": "stream",
     "text": [
      "[CV 3/5] END classifier=LinearSVC(max_iter=1000.0, random_state=42, tol=0.001), classifier__C=100.0, classifier__class_weight=balanced, classifier__penalty=l2, scaler=passthrough;, score=0.521 total time=   4.3s\n"
     ]
    },
    {
     "name": "stderr",
     "output_type": "stream",
     "text": [
      "/home/felipe/anaconda3/envs/segmentator/lib/python3.7/site-packages/sklearn/svm/_base.py:1208: ConvergenceWarning: Liblinear failed to converge, increase the number of iterations.\n",
      "  ConvergenceWarning,\n"
     ]
    },
    {
     "name": "stdout",
     "output_type": "stream",
     "text": [
      "[CV 4/5] END classifier=LinearSVC(max_iter=1000.0, random_state=42, tol=0.001), classifier__C=100.0, classifier__class_weight=balanced, classifier__penalty=l2, scaler=passthrough;, score=0.501 total time=   4.3s\n"
     ]
    },
    {
     "name": "stderr",
     "output_type": "stream",
     "text": [
      "/home/felipe/anaconda3/envs/segmentator/lib/python3.7/site-packages/sklearn/svm/_base.py:1208: ConvergenceWarning: Liblinear failed to converge, increase the number of iterations.\n",
      "  ConvergenceWarning,\n"
     ]
    },
    {
     "name": "stdout",
     "output_type": "stream",
     "text": [
      "[CV 5/5] END classifier=LinearSVC(max_iter=1000.0, random_state=42, tol=0.001), classifier__C=100.0, classifier__class_weight=balanced, classifier__penalty=l2, scaler=passthrough;, score=0.540 total time=   4.2s\n"
     ]
    },
    {
     "name": "stderr",
     "output_type": "stream",
     "text": [
      "/home/felipe/anaconda3/envs/segmentator/lib/python3.7/site-packages/sklearn/svm/_base.py:1208: ConvergenceWarning: Liblinear failed to converge, increase the number of iterations.\n",
      "  ConvergenceWarning,\n"
     ]
    },
    {
     "name": "stdout",
     "output_type": "stream",
     "text": [
      "[CV 1/5] END classifier=LinearSVC(max_iter=1000.0, random_state=42, tol=0.001), classifier__C=100.0, classifier__class_weight=balanced, classifier__penalty=l2, scaler=StandardScaler();, score=0.566 total time=  32.8s\n"
     ]
    },
    {
     "name": "stderr",
     "output_type": "stream",
     "text": [
      "/home/felipe/anaconda3/envs/segmentator/lib/python3.7/site-packages/sklearn/svm/_base.py:1208: ConvergenceWarning: Liblinear failed to converge, increase the number of iterations.\n",
      "  ConvergenceWarning,\n"
     ]
    },
    {
     "name": "stdout",
     "output_type": "stream",
     "text": [
      "[CV 2/5] END classifier=LinearSVC(max_iter=1000.0, random_state=42, tol=0.001), classifier__C=100.0, classifier__class_weight=balanced, classifier__penalty=l2, scaler=StandardScaler();, score=0.561 total time=  32.8s\n"
     ]
    },
    {
     "name": "stderr",
     "output_type": "stream",
     "text": [
      "/home/felipe/anaconda3/envs/segmentator/lib/python3.7/site-packages/sklearn/svm/_base.py:1208: ConvergenceWarning: Liblinear failed to converge, increase the number of iterations.\n",
      "  ConvergenceWarning,\n"
     ]
    },
    {
     "name": "stdout",
     "output_type": "stream",
     "text": [
      "[CV 3/5] END classifier=LinearSVC(max_iter=1000.0, random_state=42, tol=0.001), classifier__C=100.0, classifier__class_weight=balanced, classifier__penalty=l2, scaler=StandardScaler();, score=0.559 total time=  32.4s\n"
     ]
    },
    {
     "name": "stderr",
     "output_type": "stream",
     "text": [
      "/home/felipe/anaconda3/envs/segmentator/lib/python3.7/site-packages/sklearn/svm/_base.py:1208: ConvergenceWarning: Liblinear failed to converge, increase the number of iterations.\n",
      "  ConvergenceWarning,\n"
     ]
    },
    {
     "name": "stdout",
     "output_type": "stream",
     "text": [
      "[CV 4/5] END classifier=LinearSVC(max_iter=1000.0, random_state=42, tol=0.001), classifier__C=100.0, classifier__class_weight=balanced, classifier__penalty=l2, scaler=StandardScaler();, score=0.566 total time=  32.2s\n"
     ]
    },
    {
     "name": "stderr",
     "output_type": "stream",
     "text": [
      "/home/felipe/anaconda3/envs/segmentator/lib/python3.7/site-packages/sklearn/svm/_base.py:1208: ConvergenceWarning: Liblinear failed to converge, increase the number of iterations.\n",
      "  ConvergenceWarning,\n"
     ]
    },
    {
     "name": "stdout",
     "output_type": "stream",
     "text": [
      "[CV 5/5] END classifier=LinearSVC(max_iter=1000.0, random_state=42, tol=0.001), classifier__C=100.0, classifier__class_weight=balanced, classifier__penalty=l2, scaler=StandardScaler();, score=0.556 total time=  32.5s\n",
      "[CV 1/5] END classifier=LinearSVC(max_iter=1000.0, random_state=42, tol=0.001), classifier__C=1000.0, classifier__class_weight=None, classifier__penalty=l1, scaler=passthrough;, score=nan total time=   0.1s\n",
      "[CV 2/5] END classifier=LinearSVC(max_iter=1000.0, random_state=42, tol=0.001), classifier__C=1000.0, classifier__class_weight=None, classifier__penalty=l1, scaler=passthrough;, score=nan total time=   0.1s\n",
      "[CV 3/5] END classifier=LinearSVC(max_iter=1000.0, random_state=42, tol=0.001), classifier__C=1000.0, classifier__class_weight=None, classifier__penalty=l1, scaler=passthrough;, score=nan total time=   0.0s\n",
      "[CV 4/5] END classifier=LinearSVC(max_iter=1000.0, random_state=42, tol=0.001), classifier__C=1000.0, classifier__class_weight=None, classifier__penalty=l1, scaler=passthrough;, score=nan total time=   0.0s\n",
      "[CV 5/5] END classifier=LinearSVC(max_iter=1000.0, random_state=42, tol=0.001), classifier__C=1000.0, classifier__class_weight=None, classifier__penalty=l1, scaler=passthrough;, score=nan total time=   0.0s\n",
      "[CV 1/5] END classifier=LinearSVC(max_iter=1000.0, random_state=42, tol=0.001), classifier__C=1000.0, classifier__class_weight=None, classifier__penalty=l1, scaler=StandardScaler();, score=nan total time=   0.2s\n",
      "[CV 2/5] END classifier=LinearSVC(max_iter=1000.0, random_state=42, tol=0.001), classifier__C=1000.0, classifier__class_weight=None, classifier__penalty=l1, scaler=StandardScaler();, score=nan total time=   0.2s\n",
      "[CV 3/5] END classifier=LinearSVC(max_iter=1000.0, random_state=42, tol=0.001), classifier__C=1000.0, classifier__class_weight=None, classifier__penalty=l1, scaler=StandardScaler();, score=nan total time=   0.2s\n",
      "[CV 4/5] END classifier=LinearSVC(max_iter=1000.0, random_state=42, tol=0.001), classifier__C=1000.0, classifier__class_weight=None, classifier__penalty=l1, scaler=StandardScaler();, score=nan total time=   0.2s\n",
      "[CV 5/5] END classifier=LinearSVC(max_iter=1000.0, random_state=42, tol=0.001), classifier__C=1000.0, classifier__class_weight=None, classifier__penalty=l1, scaler=StandardScaler();, score=nan total time=   0.2s\n"
     ]
    },
    {
     "name": "stderr",
     "output_type": "stream",
     "text": [
      "/home/felipe/anaconda3/envs/segmentator/lib/python3.7/site-packages/sklearn/svm/_base.py:1208: ConvergenceWarning: Liblinear failed to converge, increase the number of iterations.\n",
      "  ConvergenceWarning,\n"
     ]
    },
    {
     "name": "stdout",
     "output_type": "stream",
     "text": [
      "[CV 1/5] END classifier=LinearSVC(max_iter=1000.0, random_state=42, tol=0.001), classifier__C=1000.0, classifier__class_weight=None, classifier__penalty=l2, scaler=passthrough;, score=0.497 total time=   4.2s\n"
     ]
    },
    {
     "name": "stderr",
     "output_type": "stream",
     "text": [
      "/home/felipe/anaconda3/envs/segmentator/lib/python3.7/site-packages/sklearn/svm/_base.py:1208: ConvergenceWarning: Liblinear failed to converge, increase the number of iterations.\n",
      "  ConvergenceWarning,\n"
     ]
    },
    {
     "name": "stdout",
     "output_type": "stream",
     "text": [
      "[CV 2/5] END classifier=LinearSVC(max_iter=1000.0, random_state=42, tol=0.001), classifier__C=1000.0, classifier__class_weight=None, classifier__penalty=l2, scaler=passthrough;, score=0.479 total time=   4.3s\n"
     ]
    },
    {
     "name": "stderr",
     "output_type": "stream",
     "text": [
      "/home/felipe/anaconda3/envs/segmentator/lib/python3.7/site-packages/sklearn/svm/_base.py:1208: ConvergenceWarning: Liblinear failed to converge, increase the number of iterations.\n",
      "  ConvergenceWarning,\n"
     ]
    },
    {
     "name": "stdout",
     "output_type": "stream",
     "text": [
      "[CV 3/5] END classifier=LinearSVC(max_iter=1000.0, random_state=42, tol=0.001), classifier__C=1000.0, classifier__class_weight=None, classifier__penalty=l2, scaler=passthrough;, score=0.521 total time=   4.3s\n"
     ]
    },
    {
     "name": "stderr",
     "output_type": "stream",
     "text": [
      "/home/felipe/anaconda3/envs/segmentator/lib/python3.7/site-packages/sklearn/svm/_base.py:1208: ConvergenceWarning: Liblinear failed to converge, increase the number of iterations.\n",
      "  ConvergenceWarning,\n"
     ]
    },
    {
     "name": "stdout",
     "output_type": "stream",
     "text": [
      "[CV 4/5] END classifier=LinearSVC(max_iter=1000.0, random_state=42, tol=0.001), classifier__C=1000.0, classifier__class_weight=None, classifier__penalty=l2, scaler=passthrough;, score=0.501 total time=   4.3s\n"
     ]
    },
    {
     "name": "stderr",
     "output_type": "stream",
     "text": [
      "/home/felipe/anaconda3/envs/segmentator/lib/python3.7/site-packages/sklearn/svm/_base.py:1208: ConvergenceWarning: Liblinear failed to converge, increase the number of iterations.\n",
      "  ConvergenceWarning,\n"
     ]
    },
    {
     "name": "stdout",
     "output_type": "stream",
     "text": [
      "[CV 5/5] END classifier=LinearSVC(max_iter=1000.0, random_state=42, tol=0.001), classifier__C=1000.0, classifier__class_weight=None, classifier__penalty=l2, scaler=passthrough;, score=0.540 total time=   4.3s\n"
     ]
    },
    {
     "name": "stderr",
     "output_type": "stream",
     "text": [
      "/home/felipe/anaconda3/envs/segmentator/lib/python3.7/site-packages/sklearn/svm/_base.py:1208: ConvergenceWarning: Liblinear failed to converge, increase the number of iterations.\n",
      "  ConvergenceWarning,\n"
     ]
    },
    {
     "name": "stdout",
     "output_type": "stream",
     "text": [
      "[CV 1/5] END classifier=LinearSVC(max_iter=1000.0, random_state=42, tol=0.001), classifier__C=1000.0, classifier__class_weight=None, classifier__penalty=l2, scaler=StandardScaler();, score=0.523 total time=  32.7s\n"
     ]
    },
    {
     "name": "stderr",
     "output_type": "stream",
     "text": [
      "/home/felipe/anaconda3/envs/segmentator/lib/python3.7/site-packages/sklearn/svm/_base.py:1208: ConvergenceWarning: Liblinear failed to converge, increase the number of iterations.\n",
      "  ConvergenceWarning,\n"
     ]
    },
    {
     "name": "stdout",
     "output_type": "stream",
     "text": [
      "[CV 2/5] END classifier=LinearSVC(max_iter=1000.0, random_state=42, tol=0.001), classifier__C=1000.0, classifier__class_weight=None, classifier__penalty=l2, scaler=StandardScaler();, score=0.458 total time=  32.3s\n"
     ]
    },
    {
     "name": "stderr",
     "output_type": "stream",
     "text": [
      "/home/felipe/anaconda3/envs/segmentator/lib/python3.7/site-packages/sklearn/svm/_base.py:1208: ConvergenceWarning: Liblinear failed to converge, increase the number of iterations.\n",
      "  ConvergenceWarning,\n"
     ]
    },
    {
     "name": "stdout",
     "output_type": "stream",
     "text": [
      "[CV 3/5] END classifier=LinearSVC(max_iter=1000.0, random_state=42, tol=0.001), classifier__C=1000.0, classifier__class_weight=None, classifier__penalty=l2, scaler=StandardScaler();, score=0.545 total time=  32.3s\n"
     ]
    },
    {
     "name": "stderr",
     "output_type": "stream",
     "text": [
      "/home/felipe/anaconda3/envs/segmentator/lib/python3.7/site-packages/sklearn/svm/_base.py:1208: ConvergenceWarning: Liblinear failed to converge, increase the number of iterations.\n",
      "  ConvergenceWarning,\n"
     ]
    },
    {
     "name": "stdout",
     "output_type": "stream",
     "text": [
      "[CV 4/5] END classifier=LinearSVC(max_iter=1000.0, random_state=42, tol=0.001), classifier__C=1000.0, classifier__class_weight=None, classifier__penalty=l2, scaler=StandardScaler();, score=0.548 total time=  32.6s\n"
     ]
    },
    {
     "name": "stderr",
     "output_type": "stream",
     "text": [
      "/home/felipe/anaconda3/envs/segmentator/lib/python3.7/site-packages/sklearn/svm/_base.py:1208: ConvergenceWarning: Liblinear failed to converge, increase the number of iterations.\n",
      "  ConvergenceWarning,\n"
     ]
    },
    {
     "name": "stdout",
     "output_type": "stream",
     "text": [
      "[CV 5/5] END classifier=LinearSVC(max_iter=1000.0, random_state=42, tol=0.001), classifier__C=1000.0, classifier__class_weight=None, classifier__penalty=l2, scaler=StandardScaler();, score=0.510 total time=  32.5s\n",
      "[CV 1/5] END classifier=LinearSVC(max_iter=1000.0, random_state=42, tol=0.001), classifier__C=1000.0, classifier__class_weight=balanced, classifier__penalty=l1, scaler=passthrough;, score=nan total time=   0.1s\n",
      "[CV 2/5] END classifier=LinearSVC(max_iter=1000.0, random_state=42, tol=0.001), classifier__C=1000.0, classifier__class_weight=balanced, classifier__penalty=l1, scaler=passthrough;, score=nan total time=   0.1s\n",
      "[CV 3/5] END classifier=LinearSVC(max_iter=1000.0, random_state=42, tol=0.001), classifier__C=1000.0, classifier__class_weight=balanced, classifier__penalty=l1, scaler=passthrough;, score=nan total time=   0.1s\n",
      "[CV 4/5] END classifier=LinearSVC(max_iter=1000.0, random_state=42, tol=0.001), classifier__C=1000.0, classifier__class_weight=balanced, classifier__penalty=l1, scaler=passthrough;, score=nan total time=   0.1s\n",
      "[CV 5/5] END classifier=LinearSVC(max_iter=1000.0, random_state=42, tol=0.001), classifier__C=1000.0, classifier__class_weight=balanced, classifier__penalty=l1, scaler=passthrough;, score=nan total time=   0.1s\n",
      "[CV 1/5] END classifier=LinearSVC(max_iter=1000.0, random_state=42, tol=0.001), classifier__C=1000.0, classifier__class_weight=balanced, classifier__penalty=l1, scaler=StandardScaler();, score=nan total time=   0.2s\n",
      "[CV 2/5] END classifier=LinearSVC(max_iter=1000.0, random_state=42, tol=0.001), classifier__C=1000.0, classifier__class_weight=balanced, classifier__penalty=l1, scaler=StandardScaler();, score=nan total time=   0.2s\n",
      "[CV 3/5] END classifier=LinearSVC(max_iter=1000.0, random_state=42, tol=0.001), classifier__C=1000.0, classifier__class_weight=balanced, classifier__penalty=l1, scaler=StandardScaler();, score=nan total time=   0.2s\n",
      "[CV 4/5] END classifier=LinearSVC(max_iter=1000.0, random_state=42, tol=0.001), classifier__C=1000.0, classifier__class_weight=balanced, classifier__penalty=l1, scaler=StandardScaler();, score=nan total time=   0.2s\n",
      "[CV 5/5] END classifier=LinearSVC(max_iter=1000.0, random_state=42, tol=0.001), classifier__C=1000.0, classifier__class_weight=balanced, classifier__penalty=l1, scaler=StandardScaler();, score=nan total time=   0.2s\n"
     ]
    },
    {
     "name": "stderr",
     "output_type": "stream",
     "text": [
      "/home/felipe/anaconda3/envs/segmentator/lib/python3.7/site-packages/sklearn/svm/_base.py:1208: ConvergenceWarning: Liblinear failed to converge, increase the number of iterations.\n",
      "  ConvergenceWarning,\n"
     ]
    },
    {
     "name": "stdout",
     "output_type": "stream",
     "text": [
      "[CV 1/5] END classifier=LinearSVC(max_iter=1000.0, random_state=42, tol=0.001), classifier__C=1000.0, classifier__class_weight=balanced, classifier__penalty=l2, scaler=passthrough;, score=0.497 total time=   4.5s\n"
     ]
    },
    {
     "name": "stderr",
     "output_type": "stream",
     "text": [
      "/home/felipe/anaconda3/envs/segmentator/lib/python3.7/site-packages/sklearn/svm/_base.py:1208: ConvergenceWarning: Liblinear failed to converge, increase the number of iterations.\n",
      "  ConvergenceWarning,\n"
     ]
    },
    {
     "name": "stdout",
     "output_type": "stream",
     "text": [
      "[CV 2/5] END classifier=LinearSVC(max_iter=1000.0, random_state=42, tol=0.001), classifier__C=1000.0, classifier__class_weight=balanced, classifier__penalty=l2, scaler=passthrough;, score=0.479 total time=   4.3s\n"
     ]
    },
    {
     "name": "stderr",
     "output_type": "stream",
     "text": [
      "/home/felipe/anaconda3/envs/segmentator/lib/python3.7/site-packages/sklearn/svm/_base.py:1208: ConvergenceWarning: Liblinear failed to converge, increase the number of iterations.\n",
      "  ConvergenceWarning,\n"
     ]
    },
    {
     "name": "stdout",
     "output_type": "stream",
     "text": [
      "[CV 3/5] END classifier=LinearSVC(max_iter=1000.0, random_state=42, tol=0.001), classifier__C=1000.0, classifier__class_weight=balanced, classifier__penalty=l2, scaler=passthrough;, score=0.521 total time=   4.4s\n"
     ]
    },
    {
     "name": "stderr",
     "output_type": "stream",
     "text": [
      "/home/felipe/anaconda3/envs/segmentator/lib/python3.7/site-packages/sklearn/svm/_base.py:1208: ConvergenceWarning: Liblinear failed to converge, increase the number of iterations.\n",
      "  ConvergenceWarning,\n"
     ]
    },
    {
     "name": "stdout",
     "output_type": "stream",
     "text": [
      "[CV 4/5] END classifier=LinearSVC(max_iter=1000.0, random_state=42, tol=0.001), classifier__C=1000.0, classifier__class_weight=balanced, classifier__penalty=l2, scaler=passthrough;, score=0.501 total time=   4.2s\n"
     ]
    },
    {
     "name": "stderr",
     "output_type": "stream",
     "text": [
      "/home/felipe/anaconda3/envs/segmentator/lib/python3.7/site-packages/sklearn/svm/_base.py:1208: ConvergenceWarning: Liblinear failed to converge, increase the number of iterations.\n",
      "  ConvergenceWarning,\n"
     ]
    },
    {
     "name": "stdout",
     "output_type": "stream",
     "text": [
      "[CV 5/5] END classifier=LinearSVC(max_iter=1000.0, random_state=42, tol=0.001), classifier__C=1000.0, classifier__class_weight=balanced, classifier__penalty=l2, scaler=passthrough;, score=0.540 total time=   4.5s\n"
     ]
    },
    {
     "name": "stderr",
     "output_type": "stream",
     "text": [
      "/home/felipe/anaconda3/envs/segmentator/lib/python3.7/site-packages/sklearn/svm/_base.py:1208: ConvergenceWarning: Liblinear failed to converge, increase the number of iterations.\n",
      "  ConvergenceWarning,\n"
     ]
    },
    {
     "name": "stdout",
     "output_type": "stream",
     "text": [
      "[CV 1/5] END classifier=LinearSVC(max_iter=1000.0, random_state=42, tol=0.001), classifier__C=1000.0, classifier__class_weight=balanced, classifier__penalty=l2, scaler=StandardScaler();, score=0.537 total time=  32.7s\n"
     ]
    },
    {
     "name": "stderr",
     "output_type": "stream",
     "text": [
      "/home/felipe/anaconda3/envs/segmentator/lib/python3.7/site-packages/sklearn/svm/_base.py:1208: ConvergenceWarning: Liblinear failed to converge, increase the number of iterations.\n",
      "  ConvergenceWarning,\n"
     ]
    },
    {
     "name": "stdout",
     "output_type": "stream",
     "text": [
      "[CV 2/5] END classifier=LinearSVC(max_iter=1000.0, random_state=42, tol=0.001), classifier__C=1000.0, classifier__class_weight=balanced, classifier__penalty=l2, scaler=StandardScaler();, score=0.564 total time=  32.7s\n"
     ]
    },
    {
     "name": "stderr",
     "output_type": "stream",
     "text": [
      "/home/felipe/anaconda3/envs/segmentator/lib/python3.7/site-packages/sklearn/svm/_base.py:1208: ConvergenceWarning: Liblinear failed to converge, increase the number of iterations.\n",
      "  ConvergenceWarning,\n"
     ]
    },
    {
     "name": "stdout",
     "output_type": "stream",
     "text": [
      "[CV 3/5] END classifier=LinearSVC(max_iter=1000.0, random_state=42, tol=0.001), classifier__C=1000.0, classifier__class_weight=balanced, classifier__penalty=l2, scaler=StandardScaler();, score=0.545 total time=  32.6s\n"
     ]
    },
    {
     "name": "stderr",
     "output_type": "stream",
     "text": [
      "/home/felipe/anaconda3/envs/segmentator/lib/python3.7/site-packages/sklearn/svm/_base.py:1208: ConvergenceWarning: Liblinear failed to converge, increase the number of iterations.\n",
      "  ConvergenceWarning,\n"
     ]
    },
    {
     "name": "stdout",
     "output_type": "stream",
     "text": [
      "[CV 4/5] END classifier=LinearSVC(max_iter=1000.0, random_state=42, tol=0.001), classifier__C=1000.0, classifier__class_weight=balanced, classifier__penalty=l2, scaler=StandardScaler();, score=0.519 total time=  32.7s\n"
     ]
    },
    {
     "name": "stderr",
     "output_type": "stream",
     "text": [
      "/home/felipe/anaconda3/envs/segmentator/lib/python3.7/site-packages/sklearn/svm/_base.py:1208: ConvergenceWarning: Liblinear failed to converge, increase the number of iterations.\n",
      "  ConvergenceWarning,\n",
      "/home/felipe/anaconda3/envs/segmentator/lib/python3.7/site-packages/sklearn/model_selection/_validation.py:372: FitFailedWarning: \n",
      "280 fits failed out of a total of 700.\n",
      "The score on these train-test partitions for these parameters will be set to nan.\n",
      "If these failures are not expected, you can try to debug them by setting error_score='raise'.\n",
      "\n",
      "Below are more details about the failures:\n",
      "--------------------------------------------------------------------------------\n",
      "140 fits failed with the following error:\n",
      "Traceback (most recent call last):\n",
      "  File \"/home/felipe/anaconda3/envs/segmentator/lib/python3.7/site-packages/sklearn/model_selection/_validation.py\", line 680, in _fit_and_score\n",
      "    estimator.fit(X_train, y_train, **fit_params)\n",
      "  File \"/home/felipe/anaconda3/envs/segmentator/lib/python3.7/site-packages/sklearn/pipeline.py\", line 394, in fit\n",
      "    self._final_estimator.fit(Xt, y, **fit_params_last_step)\n",
      "  File \"/home/felipe/anaconda3/envs/segmentator/lib/python3.7/site-packages/sklearn/linear_model/_logistic.py\", line 1461, in fit\n",
      "    solver = _check_solver(self.solver, self.penalty, self.dual)\n",
      "  File \"/home/felipe/anaconda3/envs/segmentator/lib/python3.7/site-packages/sklearn/linear_model/_logistic.py\", line 449, in _check_solver\n",
      "    % (solver, penalty)\n",
      "ValueError: Solver lbfgs supports only 'l2' or 'none' penalties, got l1 penalty.\n",
      "\n",
      "--------------------------------------------------------------------------------\n",
      "140 fits failed with the following error:\n",
      "Traceback (most recent call last):\n",
      "  File \"/home/felipe/anaconda3/envs/segmentator/lib/python3.7/site-packages/sklearn/model_selection/_validation.py\", line 680, in _fit_and_score\n",
      "    estimator.fit(X_train, y_train, **fit_params)\n",
      "  File \"/home/felipe/anaconda3/envs/segmentator/lib/python3.7/site-packages/sklearn/pipeline.py\", line 394, in fit\n",
      "    self._final_estimator.fit(Xt, y, **fit_params_last_step)\n",
      "  File \"/home/felipe/anaconda3/envs/segmentator/lib/python3.7/site-packages/sklearn/svm/_classes.py\", line 272, in fit\n",
      "    sample_weight=sample_weight,\n",
      "  File \"/home/felipe/anaconda3/envs/segmentator/lib/python3.7/site-packages/sklearn/svm/_base.py\", line 1185, in _fit_liblinear\n",
      "    solver_type = _get_liblinear_solver_type(multi_class, penalty, loss, dual)\n",
      "  File \"/home/felipe/anaconda3/envs/segmentator/lib/python3.7/site-packages/sklearn/svm/_base.py\", line 1026, in _get_liblinear_solver_type\n",
      "    % (error_string, penalty, loss, dual)\n",
      "ValueError: Unsupported set of arguments: The combination of penalty='l1' and loss='squared_hinge' are not supported when dual=True, Parameters: penalty='l1', loss='squared_hinge', dual=True\n",
      "\n",
      "  warnings.warn(some_fits_failed_message, FitFailedWarning)\n",
      "/home/felipe/anaconda3/envs/segmentator/lib/python3.7/site-packages/sklearn/model_selection/_search.py:972: UserWarning: One or more of the test scores are non-finite: [       nan        nan 0.58449359 0.58056354        nan        nan\n",
      " 0.62499575 0.62513201        nan        nan 0.58616488 0.58578473\n",
      "        nan        nan 0.6252495  0.62516049        nan        nan\n",
      " 0.58646536 0.58638579        nan        nan 0.62516514 0.62482261\n",
      "        nan        nan 0.58633406 0.58635766        nan        nan\n",
      " 0.62512288 0.62482732        nan        nan 0.58631529 0.5862638\n",
      "        nan        nan 0.62500092 0.62477569        nan        nan\n",
      " 0.58674239 0.58635297        nan        nan 0.62497747 0.62477569\n",
      "        nan        nan 0.58627781 0.58632012        nan        nan\n",
      " 0.62515109 0.62473815 0.58179831 0.58178893 0.62444723 0.62440969\n",
      " 0.58179361 0.58178893 0.62448478 0.62440969 0.58175606 0.58178893\n",
      " 0.62454577 0.6244003  0.58178891 0.58178893 0.62448477 0.62441438\n",
      " 0.58165278 0.58178423 0.62482732 0.62442846 0.58149314 0.58154014\n",
      " 0.62496335 0.62442377 0.58095788 0.58025369 0.62460191 0.62459726\n",
      "        nan        nan 0.58254009 0.58292527        nan        nan\n",
      " 0.62499158 0.62466323        nan        nan 0.58277025 0.58301453\n",
      "        nan        nan 0.62478513 0.62454126        nan        nan\n",
      " 0.58539307 0.58338068        nan        nan 0.60756039 0.62458354\n",
      "        nan        nan 0.5453442  0.58358324        nan        nan\n",
      " 0.53281446 0.62452717        nan        nan 0.52079406 0.57444316\n",
      "        nan        nan 0.5110432  0.61220993        nan        nan\n",
      " 0.50775004 0.54034377        nan        nan 0.50763497 0.56169165\n",
      "        nan        nan 0.50757866 0.51661063        nan        nan\n",
      " 0.50757866 0.54188271]\n",
      "  category=UserWarning,\n"
     ]
    },
    {
     "name": "stdout",
     "output_type": "stream",
     "text": [
      "[CV 5/5] END classifier=LinearSVC(max_iter=1000.0, random_state=42, tol=0.001), classifier__C=1000.0, classifier__class_weight=balanced, classifier__penalty=l2, scaler=StandardScaler();, score=0.545 total time=  32.7s\n"
     ]
    },
    {
     "data": {
      "text/plain": [
       "GridSearchCV(cv=StratifiedKFold(n_splits=5, random_state=None, shuffle=False),\n",
       "             estimator=Pipeline(memory=Memory(location=outputs//cache/joblib),\n",
       "                                steps=[('scaler', StandardScaler()),\n",
       "                                       ('classifier',\n",
       "                                        LogisticRegression(C=0.01,\n",
       "                                                           class_weight='balanced',\n",
       "                                                           max_iter=1000.0,\n",
       "                                                           random_state=42,\n",
       "                                                           tol=0.001))]),\n",
       "             param_grid=[{'classifier': [LogisticRegression(C=0.01,\n",
       "                                                            class_weigh...\n",
       "                          'classifier__class_weight': [None, 'balanced'],\n",
       "                          'scaler': ['passthrough', StandardScaler()]},\n",
       "                         {'classifier': [LinearSVC(max_iter=1000.0,\n",
       "                                                   random_state=42,\n",
       "                                                   tol=0.001)],\n",
       "                          'classifier__C': array([1.e-03, 1.e-02, 1.e-01, 1.e+00, 1.e+01, 1.e+02, 1.e+03]),\n",
       "                          'classifier__class_weight': [None, 'balanced'],\n",
       "                          'classifier__penalty': ['l1', 'l2'],\n",
       "                          'scaler': ['passthrough', StandardScaler()]}],\n",
       "             scoring='balanced_accuracy', verbose=4)"
      ]
     },
     "execution_count": 30,
     "metadata": {},
     "output_type": "execute_result"
    }
   ],
   "source": [
    "grid_search.fit(xtrain, ytrain)"
   ]
  },
  {
   "cell_type": "markdown",
   "id": "a871cd93",
   "metadata": {},
   "source": [
    "### Results"
   ]
  },
  {
   "cell_type": "code",
   "execution_count": 31,
   "id": "f9f34f3b",
   "metadata": {},
   "outputs": [
    {
     "data": {
      "text/html": [
       "<div>\n",
       "<style scoped>\n",
       "    .dataframe tbody tr th:only-of-type {\n",
       "        vertical-align: middle;\n",
       "    }\n",
       "\n",
       "    .dataframe tbody tr th {\n",
       "        vertical-align: top;\n",
       "    }\n",
       "\n",
       "    .dataframe thead th {\n",
       "        text-align: right;\n",
       "    }\n",
       "</style>\n",
       "<table border=\"1\" class=\"dataframe\">\n",
       "  <thead>\n",
       "    <tr style=\"text-align: right;\">\n",
       "      <th></th>\n",
       "      <th>mean_fit_time</th>\n",
       "      <th>std_fit_time</th>\n",
       "      <th>mean_score_time</th>\n",
       "      <th>std_score_time</th>\n",
       "      <th>param_classifier</th>\n",
       "      <th>param_classifier__C</th>\n",
       "      <th>param_classifier__class_weight</th>\n",
       "      <th>param_classifier__penalty</th>\n",
       "      <th>param_scaler</th>\n",
       "      <th>param_classifier__alpha</th>\n",
       "      <th>params</th>\n",
       "      <th>split0_test_score</th>\n",
       "      <th>split1_test_score</th>\n",
       "      <th>split2_test_score</th>\n",
       "      <th>split3_test_score</th>\n",
       "      <th>split4_test_score</th>\n",
       "      <th>mean_test_score</th>\n",
       "      <th>std_test_score</th>\n",
       "      <th>rank_test_score</th>\n",
       "    </tr>\n",
       "  </thead>\n",
       "  <tbody>\n",
       "    <tr>\n",
       "      <th>0</th>\n",
       "      <td>0.024593</td>\n",
       "      <td>0.001171</td>\n",
       "      <td>0.000000</td>\n",
       "      <td>0.000000</td>\n",
       "      <td>LogisticRegression(C=0.01, class_weight='balan...</td>\n",
       "      <td>0.001</td>\n",
       "      <td>None</td>\n",
       "      <td>l1</td>\n",
       "      <td>passthrough</td>\n",
       "      <td>NaN</td>\n",
       "      <td>{'classifier': LogisticRegression(C=0.01, clas...</td>\n",
       "      <td>NaN</td>\n",
       "      <td>NaN</td>\n",
       "      <td>NaN</td>\n",
       "      <td>NaN</td>\n",
       "      <td>NaN</td>\n",
       "      <td>NaN</td>\n",
       "      <td>NaN</td>\n",
       "      <td>140</td>\n",
       "    </tr>\n",
       "    <tr>\n",
       "      <th>1</th>\n",
       "      <td>0.131909</td>\n",
       "      <td>0.002266</td>\n",
       "      <td>0.000000</td>\n",
       "      <td>0.000000</td>\n",
       "      <td>LogisticRegression(C=0.01, class_weight='balan...</td>\n",
       "      <td>0.001</td>\n",
       "      <td>None</td>\n",
       "      <td>l1</td>\n",
       "      <td>StandardScaler()</td>\n",
       "      <td>NaN</td>\n",
       "      <td>{'classifier': LogisticRegression(C=0.01, clas...</td>\n",
       "      <td>NaN</td>\n",
       "      <td>NaN</td>\n",
       "      <td>NaN</td>\n",
       "      <td>NaN</td>\n",
       "      <td>NaN</td>\n",
       "      <td>NaN</td>\n",
       "      <td>NaN</td>\n",
       "      <td>101</td>\n",
       "    </tr>\n",
       "    <tr>\n",
       "      <th>2</th>\n",
       "      <td>1.776880</td>\n",
       "      <td>0.089801</td>\n",
       "      <td>0.005586</td>\n",
       "      <td>0.000265</td>\n",
       "      <td>LogisticRegression(C=0.01, class_weight='balan...</td>\n",
       "      <td>0.001</td>\n",
       "      <td>None</td>\n",
       "      <td>l2</td>\n",
       "      <td>passthrough</td>\n",
       "      <td>NaN</td>\n",
       "      <td>{'classifier': LogisticRegression(C=0.01, clas...</td>\n",
       "      <td>0.586672</td>\n",
       "      <td>0.589786</td>\n",
       "      <td>0.582981</td>\n",
       "      <td>0.584717</td>\n",
       "      <td>0.578312</td>\n",
       "      <td>0.584494</td>\n",
       "      <td>0.003829</td>\n",
       "      <td>50</td>\n",
       "    </tr>\n",
       "    <tr>\n",
       "      <th>3</th>\n",
       "      <td>0.339787</td>\n",
       "      <td>0.043023</td>\n",
       "      <td>0.017794</td>\n",
       "      <td>0.005520</td>\n",
       "      <td>LogisticRegression(C=0.01, class_weight='balan...</td>\n",
       "      <td>0.001</td>\n",
       "      <td>None</td>\n",
       "      <td>l2</td>\n",
       "      <td>StandardScaler()</td>\n",
       "      <td>NaN</td>\n",
       "      <td>{'classifier': LogisticRegression(C=0.01, clas...</td>\n",
       "      <td>0.581248</td>\n",
       "      <td>0.584693</td>\n",
       "      <td>0.581688</td>\n",
       "      <td>0.581406</td>\n",
       "      <td>0.573782</td>\n",
       "      <td>0.580564</td>\n",
       "      <td>0.003619</td>\n",
       "      <td>70</td>\n",
       "    </tr>\n",
       "    <tr>\n",
       "      <th>4</th>\n",
       "      <td>0.028517</td>\n",
       "      <td>0.012939</td>\n",
       "      <td>0.000000</td>\n",
       "      <td>0.000000</td>\n",
       "      <td>LogisticRegression(C=0.01, class_weight='balan...</td>\n",
       "      <td>0.001</td>\n",
       "      <td>balanced</td>\n",
       "      <td>l1</td>\n",
       "      <td>passthrough</td>\n",
       "      <td>NaN</td>\n",
       "      <td>{'classifier': LogisticRegression(C=0.01, clas...</td>\n",
       "      <td>NaN</td>\n",
       "      <td>NaN</td>\n",
       "      <td>NaN</td>\n",
       "      <td>NaN</td>\n",
       "      <td>NaN</td>\n",
       "      <td>NaN</td>\n",
       "      <td>NaN</td>\n",
       "      <td>107</td>\n",
       "    </tr>\n",
       "    <tr>\n",
       "      <th>...</th>\n",
       "      <td>...</td>\n",
       "      <td>...</td>\n",
       "      <td>...</td>\n",
       "      <td>...</td>\n",
       "      <td>...</td>\n",
       "      <td>...</td>\n",
       "      <td>...</td>\n",
       "      <td>...</td>\n",
       "      <td>...</td>\n",
       "      <td>...</td>\n",
       "      <td>...</td>\n",
       "      <td>...</td>\n",
       "      <td>...</td>\n",
       "      <td>...</td>\n",
       "      <td>...</td>\n",
       "      <td>...</td>\n",
       "      <td>...</td>\n",
       "      <td>...</td>\n",
       "      <td>...</td>\n",
       "    </tr>\n",
       "    <tr>\n",
       "      <th>135</th>\n",
       "      <td>32.473707</td>\n",
       "      <td>0.146930</td>\n",
       "      <td>0.009847</td>\n",
       "      <td>0.000302</td>\n",
       "      <td>LinearSVC(max_iter=1000.0, random_state=42, to...</td>\n",
       "      <td>1000.0</td>\n",
       "      <td>None</td>\n",
       "      <td>l2</td>\n",
       "      <td>StandardScaler()</td>\n",
       "      <td>NaN</td>\n",
       "      <td>{'classifier': LinearSVC(max_iter=1000.0, rand...</td>\n",
       "      <td>0.522579</td>\n",
       "      <td>0.457909</td>\n",
       "      <td>0.545202</td>\n",
       "      <td>0.547749</td>\n",
       "      <td>0.509614</td>\n",
       "      <td>0.516611</td>\n",
       "      <td>0.032611</td>\n",
       "      <td>79</td>\n",
       "    </tr>\n",
       "    <tr>\n",
       "      <th>136</th>\n",
       "      <td>0.053312</td>\n",
       "      <td>0.004374</td>\n",
       "      <td>0.000000</td>\n",
       "      <td>0.000000</td>\n",
       "      <td>LinearSVC(max_iter=1000.0, random_state=42, to...</td>\n",
       "      <td>1000.0</td>\n",
       "      <td>balanced</td>\n",
       "      <td>l1</td>\n",
       "      <td>passthrough</td>\n",
       "      <td>NaN</td>\n",
       "      <td>{'classifier': LinearSVC(max_iter=1000.0, rand...</td>\n",
       "      <td>NaN</td>\n",
       "      <td>NaN</td>\n",
       "      <td>NaN</td>\n",
       "      <td>NaN</td>\n",
       "      <td>NaN</td>\n",
       "      <td>NaN</td>\n",
       "      <td>NaN</td>\n",
       "      <td>104</td>\n",
       "    </tr>\n",
       "    <tr>\n",
       "      <th>137</th>\n",
       "      <td>0.158543</td>\n",
       "      <td>0.001294</td>\n",
       "      <td>0.000000</td>\n",
       "      <td>0.000000</td>\n",
       "      <td>LinearSVC(max_iter=1000.0, random_state=42, to...</td>\n",
       "      <td>1000.0</td>\n",
       "      <td>balanced</td>\n",
       "      <td>l1</td>\n",
       "      <td>StandardScaler()</td>\n",
       "      <td>NaN</td>\n",
       "      <td>{'classifier': LinearSVC(max_iter=1000.0, rand...</td>\n",
       "      <td>NaN</td>\n",
       "      <td>NaN</td>\n",
       "      <td>NaN</td>\n",
       "      <td>NaN</td>\n",
       "      <td>NaN</td>\n",
       "      <td>NaN</td>\n",
       "      <td>NaN</td>\n",
       "      <td>105</td>\n",
       "    </tr>\n",
       "    <tr>\n",
       "      <th>138</th>\n",
       "      <td>4.393230</td>\n",
       "      <td>0.108636</td>\n",
       "      <td>0.004696</td>\n",
       "      <td>0.000113</td>\n",
       "      <td>LinearSVC(max_iter=1000.0, random_state=42, to...</td>\n",
       "      <td>1000.0</td>\n",
       "      <td>balanced</td>\n",
       "      <td>l2</td>\n",
       "      <td>passthrough</td>\n",
       "      <td>NaN</td>\n",
       "      <td>{'classifier': LinearSVC(max_iter=1000.0, rand...</td>\n",
       "      <td>0.496793</td>\n",
       "      <td>0.479249</td>\n",
       "      <td>0.521176</td>\n",
       "      <td>0.500612</td>\n",
       "      <td>0.540064</td>\n",
       "      <td>0.507579</td>\n",
       "      <td>0.021012</td>\n",
       "      <td>83</td>\n",
       "    </tr>\n",
       "    <tr>\n",
       "      <th>139</th>\n",
       "      <td>32.659817</td>\n",
       "      <td>0.055751</td>\n",
       "      <td>0.013389</td>\n",
       "      <td>0.003596</td>\n",
       "      <td>LinearSVC(max_iter=1000.0, random_state=42, to...</td>\n",
       "      <td>1000.0</td>\n",
       "      <td>balanced</td>\n",
       "      <td>l2</td>\n",
       "      <td>StandardScaler()</td>\n",
       "      <td>NaN</td>\n",
       "      <td>{'classifier': LinearSVC(max_iter=1000.0, rand...</td>\n",
       "      <td>0.536890</td>\n",
       "      <td>0.563544</td>\n",
       "      <td>0.545038</td>\n",
       "      <td>0.519305</td>\n",
       "      <td>0.544637</td>\n",
       "      <td>0.541883</td>\n",
       "      <td>0.014293</td>\n",
       "      <td>75</td>\n",
       "    </tr>\n",
       "  </tbody>\n",
       "</table>\n",
       "<p>140 rows × 19 columns</p>\n",
       "</div>"
      ],
      "text/plain": [
       "     mean_fit_time  std_fit_time  mean_score_time  std_score_time  \\\n",
       "0         0.024593      0.001171         0.000000        0.000000   \n",
       "1         0.131909      0.002266         0.000000        0.000000   \n",
       "2         1.776880      0.089801         0.005586        0.000265   \n",
       "3         0.339787      0.043023         0.017794        0.005520   \n",
       "4         0.028517      0.012939         0.000000        0.000000   \n",
       "..             ...           ...              ...             ...   \n",
       "135      32.473707      0.146930         0.009847        0.000302   \n",
       "136       0.053312      0.004374         0.000000        0.000000   \n",
       "137       0.158543      0.001294         0.000000        0.000000   \n",
       "138       4.393230      0.108636         0.004696        0.000113   \n",
       "139      32.659817      0.055751         0.013389        0.003596   \n",
       "\n",
       "                                      param_classifier param_classifier__C  \\\n",
       "0    LogisticRegression(C=0.01, class_weight='balan...               0.001   \n",
       "1    LogisticRegression(C=0.01, class_weight='balan...               0.001   \n",
       "2    LogisticRegression(C=0.01, class_weight='balan...               0.001   \n",
       "3    LogisticRegression(C=0.01, class_weight='balan...               0.001   \n",
       "4    LogisticRegression(C=0.01, class_weight='balan...               0.001   \n",
       "..                                                 ...                 ...   \n",
       "135  LinearSVC(max_iter=1000.0, random_state=42, to...              1000.0   \n",
       "136  LinearSVC(max_iter=1000.0, random_state=42, to...              1000.0   \n",
       "137  LinearSVC(max_iter=1000.0, random_state=42, to...              1000.0   \n",
       "138  LinearSVC(max_iter=1000.0, random_state=42, to...              1000.0   \n",
       "139  LinearSVC(max_iter=1000.0, random_state=42, to...              1000.0   \n",
       "\n",
       "    param_classifier__class_weight param_classifier__penalty  \\\n",
       "0                             None                        l1   \n",
       "1                             None                        l1   \n",
       "2                             None                        l2   \n",
       "3                             None                        l2   \n",
       "4                         balanced                        l1   \n",
       "..                             ...                       ...   \n",
       "135                           None                        l2   \n",
       "136                       balanced                        l1   \n",
       "137                       balanced                        l1   \n",
       "138                       balanced                        l2   \n",
       "139                       balanced                        l2   \n",
       "\n",
       "         param_scaler param_classifier__alpha  \\\n",
       "0         passthrough                     NaN   \n",
       "1    StandardScaler()                     NaN   \n",
       "2         passthrough                     NaN   \n",
       "3    StandardScaler()                     NaN   \n",
       "4         passthrough                     NaN   \n",
       "..                ...                     ...   \n",
       "135  StandardScaler()                     NaN   \n",
       "136       passthrough                     NaN   \n",
       "137  StandardScaler()                     NaN   \n",
       "138       passthrough                     NaN   \n",
       "139  StandardScaler()                     NaN   \n",
       "\n",
       "                                                params  split0_test_score  \\\n",
       "0    {'classifier': LogisticRegression(C=0.01, clas...                NaN   \n",
       "1    {'classifier': LogisticRegression(C=0.01, clas...                NaN   \n",
       "2    {'classifier': LogisticRegression(C=0.01, clas...           0.586672   \n",
       "3    {'classifier': LogisticRegression(C=0.01, clas...           0.581248   \n",
       "4    {'classifier': LogisticRegression(C=0.01, clas...                NaN   \n",
       "..                                                 ...                ...   \n",
       "135  {'classifier': LinearSVC(max_iter=1000.0, rand...           0.522579   \n",
       "136  {'classifier': LinearSVC(max_iter=1000.0, rand...                NaN   \n",
       "137  {'classifier': LinearSVC(max_iter=1000.0, rand...                NaN   \n",
       "138  {'classifier': LinearSVC(max_iter=1000.0, rand...           0.496793   \n",
       "139  {'classifier': LinearSVC(max_iter=1000.0, rand...           0.536890   \n",
       "\n",
       "     split1_test_score  split2_test_score  split3_test_score  \\\n",
       "0                  NaN                NaN                NaN   \n",
       "1                  NaN                NaN                NaN   \n",
       "2             0.589786           0.582981           0.584717   \n",
       "3             0.584693           0.581688           0.581406   \n",
       "4                  NaN                NaN                NaN   \n",
       "..                 ...                ...                ...   \n",
       "135           0.457909           0.545202           0.547749   \n",
       "136                NaN                NaN                NaN   \n",
       "137                NaN                NaN                NaN   \n",
       "138           0.479249           0.521176           0.500612   \n",
       "139           0.563544           0.545038           0.519305   \n",
       "\n",
       "     split4_test_score  mean_test_score  std_test_score  rank_test_score  \n",
       "0                  NaN              NaN             NaN              140  \n",
       "1                  NaN              NaN             NaN              101  \n",
       "2             0.578312         0.584494        0.003829               50  \n",
       "3             0.573782         0.580564        0.003619               70  \n",
       "4                  NaN              NaN             NaN              107  \n",
       "..                 ...              ...             ...              ...  \n",
       "135           0.509614         0.516611        0.032611               79  \n",
       "136                NaN              NaN             NaN              104  \n",
       "137                NaN              NaN             NaN              105  \n",
       "138           0.540064         0.507579        0.021012               83  \n",
       "139           0.544637         0.541883        0.014293               75  \n",
       "\n",
       "[140 rows x 19 columns]"
      ]
     },
     "execution_count": 31,
     "metadata": {},
     "output_type": "execute_result"
    }
   ],
   "source": [
    "pd.DataFrame(grid_search.cv_results_)"
   ]
  },
  {
   "cell_type": "code",
   "execution_count": 32,
   "id": "7b47f7f8",
   "metadata": {},
   "outputs": [
    {
     "data": {
      "text/plain": [
       "Pipeline(memory=Memory(location=outputs//cache/joblib),\n",
       "         steps=[('scaler', 'passthrough'),\n",
       "                ('classifier',\n",
       "                 LogisticRegression(C=0.01, class_weight='balanced',\n",
       "                                    max_iter=1000.0, random_state=42,\n",
       "                                    tol=0.001))])"
      ]
     },
     "execution_count": 32,
     "metadata": {},
     "output_type": "execute_result"
    }
   ],
   "source": [
    "grid_search.best_estimator_"
   ]
  },
  {
   "cell_type": "code",
   "execution_count": 33,
   "id": "c4627b87",
   "metadata": {},
   "outputs": [
    {
     "name": "stdout",
     "output_type": "stream",
     "text": [
      "              precision    recall  f1-score   support\n",
      "\n",
      "           0     0.7169    0.6031    0.6551     13321\n",
      "           1     0.5190    0.6426    0.5742      8877\n",
      "\n",
      "    accuracy                         0.6189     22198\n",
      "   macro avg     0.6179    0.6228    0.6146     22198\n",
      "weighted avg     0.6377    0.6189    0.6227     22198\n",
      "\n"
     ]
    }
   ],
   "source": [
    "print(classification_report(\n",
    "    ytest,\n",
    "    grid_search.predict(xtest),\n",
    "    digits=4,\n",
    "))"
   ]
  },
  {
   "cell_type": "markdown",
   "id": "5b2162b2",
   "metadata": {},
   "source": [
    "### Feature Importance"
   ]
  },
  {
   "cell_type": "code",
   "execution_count": 43,
   "id": "c95f656e",
   "metadata": {},
   "outputs": [
    {
     "data": {
      "text/plain": [
       "array(['airplane', 'animal', 'apparel', 'arcade', 'armchair', 'ashcan',\n",
       "       'awning', 'bag', 'ball', 'bannister', 'bar', 'barrel', 'base',\n",
       "       'basket', 'bathtub', 'bed', 'bench', 'bicycle', 'blanket', 'blind',\n",
       "       'boat', 'book', 'bookcase', 'booth', 'bottle', 'box', 'bridge',\n",
       "       'buffet', 'building', 'bulletin', 'bus', 'cabinet', 'canopy',\n",
       "       'car', 'case', 'ceiling', 'chair', 'chandelier', 'chest', 'clock',\n",
       "       'coffee', 'column', 'computer', 'conveyer', 'counter', 'cradle',\n",
       "       'crt', 'curtain', 'cushion', 'desk', 'dirt', 'dishwasher', 'door',\n",
       "       'earth', 'escalator', 'fan', 'fence', 'field', 'fireplace', 'flag',\n",
       "       'floor', 'flower', 'food', 'fountain', 'glass', 'grandstand',\n",
       "       'grass', 'hill', 'hood', 'house', 'hovel', 'kitchen', 'lake',\n",
       "       'lamp', 'land', 'light', 'microwave', 'minibike', 'mirror',\n",
       "       'monitor', 'mountain', 'ottoman', 'oven', 'painting', 'palm',\n",
       "       'path', 'person', 'pier', 'pillow', 'plant', 'plate', 'plaything',\n",
       "       'pole', 'pool', 'poster', 'pot', 'radiator', 'railing',\n",
       "       'refrigerator', 'river', 'road', 'rock', 'rug', 'runway', 'sand',\n",
       "       'sconce', 'screen_door', 'screen_projection', 'sculpture', 'sea',\n",
       "       'seat', 'shelf', 'ship', 'shower', 'sidewalk', 'signboard', 'sink',\n",
       "       'sky', 'skyscraper', 'sofa', 'stage', 'stairs', 'stairway', 'step',\n",
       "       'stool', 'stove', 'streetlight', 'swimming', 'swivel', 'table',\n",
       "       'tank', 'television', 'tent', 'toilet', 'towel', 'tower', 'trade',\n",
       "       'traffic', 'tray', 'tree', 'truck', 'van', 'vase', 'wall',\n",
       "       'wardrobe', 'washer', 'water', 'waterfall', 'windowpane'],\n",
       "      dtype=object)"
      ]
     },
     "execution_count": 43,
     "metadata": {},
     "output_type": "execute_result"
    }
   ],
   "source": [
    "importance_classes = data_df.columns[1:-3]\n",
    "importance_classes.values"
   ]
  },
  {
   "cell_type": "code",
   "execution_count": 35,
   "id": "fdd26501",
   "metadata": {},
   "outputs": [],
   "source": [
    "importance = grid_search.best_estimator_._final_estimator.coef_[0]"
   ]
  },
  {
   "cell_type": "code",
   "execution_count": 45,
   "id": "4de849ca",
   "metadata": {},
   "outputs": [
    {
     "data": {
      "text/html": [
       "<div>\n",
       "<style scoped>\n",
       "    .dataframe tbody tr th:only-of-type {\n",
       "        vertical-align: middle;\n",
       "    }\n",
       "\n",
       "    .dataframe tbody tr th {\n",
       "        vertical-align: top;\n",
       "    }\n",
       "\n",
       "    .dataframe thead th {\n",
       "        text-align: right;\n",
       "    }\n",
       "</style>\n",
       "<table border=\"1\" class=\"dataframe\">\n",
       "  <thead>\n",
       "    <tr style=\"text-align: right;\">\n",
       "      <th></th>\n",
       "      <th>importance</th>\n",
       "    </tr>\n",
       "    <tr>\n",
       "      <th>class</th>\n",
       "      <th></th>\n",
       "    </tr>\n",
       "  </thead>\n",
       "  <tbody>\n",
       "    <tr>\n",
       "      <th>traffic</th>\n",
       "      <td>0.191532</td>\n",
       "    </tr>\n",
       "    <tr>\n",
       "      <th>flag</th>\n",
       "      <td>0.182346</td>\n",
       "    </tr>\n",
       "    <tr>\n",
       "      <th>minibike</th>\n",
       "      <td>0.114980</td>\n",
       "    </tr>\n",
       "    <tr>\n",
       "      <th>grass</th>\n",
       "      <td>0.114930</td>\n",
       "    </tr>\n",
       "    <tr>\n",
       "      <th>plant</th>\n",
       "      <td>0.114146</td>\n",
       "    </tr>\n",
       "    <tr>\n",
       "      <th>...</th>\n",
       "      <td>...</td>\n",
       "    </tr>\n",
       "    <tr>\n",
       "      <th>windowpane</th>\n",
       "      <td>-0.102848</td>\n",
       "    </tr>\n",
       "    <tr>\n",
       "      <th>stage</th>\n",
       "      <td>-0.109197</td>\n",
       "    </tr>\n",
       "    <tr>\n",
       "      <th>conveyer</th>\n",
       "      <td>-0.110825</td>\n",
       "    </tr>\n",
       "    <tr>\n",
       "      <th>pole</th>\n",
       "      <td>-0.132478</td>\n",
       "    </tr>\n",
       "    <tr>\n",
       "      <th>mirror</th>\n",
       "      <td>-0.192088</td>\n",
       "    </tr>\n",
       "  </tbody>\n",
       "</table>\n",
       "<p>149 rows × 1 columns</p>\n",
       "</div>"
      ],
      "text/plain": [
       "            importance\n",
       "class                 \n",
       "traffic       0.191532\n",
       "flag          0.182346\n",
       "minibike      0.114980\n",
       "grass         0.114930\n",
       "plant         0.114146\n",
       "...                ...\n",
       "windowpane   -0.102848\n",
       "stage        -0.109197\n",
       "conveyer     -0.110825\n",
       "pole         -0.132478\n",
       "mirror       -0.192088\n",
       "\n",
       "[149 rows x 1 columns]"
      ]
     },
     "execution_count": 45,
     "metadata": {},
     "output_type": "execute_result"
    }
   ],
   "source": [
    "feat_importances = pd.Series(importance)\n",
    "feat_importances = feat_importances.reset_index().rename(columns={\"index\":\"class\", 0:\"importance\"}).copy()\n",
    "feat_importances[\"class\"] = importance_classes.values\n",
    "feat_importances.set_index(\"class\", inplace=True)\n",
    "feat_importances.sort_values(by=\"importance\", inplace=True, ascending=False)\n",
    "feat_importances"
   ]
  },
  {
   "cell_type": "code",
   "execution_count": 46,
   "id": "19ea891f",
   "metadata": {},
   "outputs": [
    {
     "data": {
      "text/plain": [
       "<AxesSubplot:title={'center':'Feature Importance'}, ylabel='class'>"
      ]
     },
     "execution_count": 46,
     "metadata": {},
     "output_type": "execute_result"
    },
    {
     "data": {
      "image/png": "[encoded data removed]",
      "text/plain": [
       "<Figure size 640x480 with 1 Axes>"
      ]
     },
     "metadata": {},
     "output_type": "display_data"
    }
   ],
   "source": [
    "feat_importances.iloc[:20,:].plot(kind='barh',title = 'Feature Importance')"
   ]
  },
  {
   "cell_type": "code",
   "execution_count": 54,
   "id": "16f80be9",
   "metadata": {},
   "outputs": [
    {
     "data": {
      "text/plain": [
       "<AxesSubplot:title={'center':'Feature Importance'}, ylabel='class'>"
      ]
     },
     "execution_count": 54,
     "metadata": {},
     "output_type": "execute_result"
    },
    {
     "data": {
      "image/png": "[encoded data removed]",
      "text/plain": [
       "<Figure size 640x480 with 1 Axes>"
      ]
     },
     "metadata": {},
     "output_type": "display_data"
    }
   ],
   "source": [
    "feat_importances.iloc[-20:,:].plot(kind='barh',title = 'Feature Importance')"
   ]
  }
 ],
 "metadata": {
  "kernelspec": {
   "display_name": "Python 3 (ipykernel)",
   "language": "python",
   "name": "python3"
  },
  "language_info": {
   "codemirror_mode": {
    "name": "ipython",
    "version": 3
   },
   "file_extension": ".py",
   "mimetype": "text/x-python",
   "name": "python",
   "nbconvert_exporter": "python",
   "pygments_lexer": "ipython3",
   "version": "3.7.15"
  }
 },
 "nbformat": 4,
 "nbformat_minor": 5
}
